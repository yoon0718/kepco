{
 "cells": [
  {
   "cell_type": "code",
   "execution_count": 1,
   "metadata": {},
   "outputs": [],
   "source": [
    "import pandas as pd\n"
   ]
  },
  {
   "cell_type": "code",
   "execution_count": 28,
   "metadata": {},
   "outputs": [
    {
     "data": {
      "text/html": [
       "<div>\n",
       "<style scoped>\n",
       "    .dataframe tbody tr th:only-of-type {\n",
       "        vertical-align: middle;\n",
       "    }\n",
       "\n",
       "    .dataframe tbody tr th {\n",
       "        vertical-align: top;\n",
       "    }\n",
       "\n",
       "    .dataframe thead th {\n",
       "        text-align: right;\n",
       "    }\n",
       "</style>\n",
       "<table border=\"1\" class=\"dataframe\">\n",
       "  <thead>\n",
       "    <tr style=\"text-align: right;\">\n",
       "      <th></th>\n",
       "      <th>big_title</th>\n",
       "      <th>time</th>\n",
       "      <th>title</th>\n",
       "      <th>context</th>\n",
       "    </tr>\n",
       "  </thead>\n",
       "  <tbody>\n",
       "    <tr>\n",
       "      <th>0</th>\n",
       "      <td>과학</td>\n",
       "      <td>2023-09-13</td>\n",
       "      <td>[과학기술이 미래다] 〈102〉국내 첫 퍼스널 컴퓨터 경진대회</td>\n",
       "      <td>1984년 4월 22일. 제1회 퍼스널 컴퓨터 경진대회가 이날 오전 9시 서울 송파...</td>\n",
       "    </tr>\n",
       "    <tr>\n",
       "      <th>1</th>\n",
       "      <td>과학</td>\n",
       "      <td>2023-09-13</td>\n",
       "      <td>나노·소재 성과공유회</td>\n",
       "      <td>나노·소재분야 R&amp;D 정책 및 우수 연구성과를 발표하고 성과물을 공유하는 나노·소재...</td>\n",
       "    </tr>\n",
       "    <tr>\n",
       "      <th>2</th>\n",
       "      <td>과학</td>\n",
       "      <td>2023-09-12</td>\n",
       "      <td>[알림] 테크비즈코리아 2023</td>\n",
       "      <td>전자신문사가 올해에도 우리 연구 현장의 사업화 유망기술을 민간기업과 투자자에 소개하...</td>\n",
       "    </tr>\n",
       "    <tr>\n",
       "      <th>3</th>\n",
       "      <td>과학</td>\n",
       "      <td>2023-09-12</td>\n",
       "      <td>드럼치는 로봇 '모펫' 입니다</td>\n",
       "      <td>국내 연구진이 음악 빅데이터 기반 인공지능(AI)을 통해 인간과 상호작용하며 합주 ...</td>\n",
       "    </tr>\n",
       "    <tr>\n",
       "      <th>4</th>\n",
       "      <td>과학</td>\n",
       "      <td>2023-09-11</td>\n",
       "      <td>드럼치는 로봇 '모펫' 입니다</td>\n",
       "      <td>국내 연구진이 음악 빅데이터 기반 인공지능(AI)을 통해 인간과 상호작용하며 합주 ...</td>\n",
       "    </tr>\n",
       "    <tr>\n",
       "      <th>...</th>\n",
       "      <td>...</td>\n",
       "      <td>...</td>\n",
       "      <td>...</td>\n",
       "      <td>...</td>\n",
       "    </tr>\n",
       "    <tr>\n",
       "      <th>1517</th>\n",
       "      <td>에너지</td>\n",
       "      <td>2023-03-15</td>\n",
       "      <td>이젠, 로봇이 전기차 충전</td>\n",
       "      <td>국내 무공해차(전기·수소차) 트렌드를 볼 수 있는 'EV 트렌드 코리아 2023'이...</td>\n",
       "    </tr>\n",
       "    <tr>\n",
       "      <th>1518</th>\n",
       "      <td>에너지</td>\n",
       "      <td>2023-03-15</td>\n",
       "      <td>인터배터리 2023 차세대 전기차 선보인 LG에너지솔루션</td>\n",
       "      <td>국내 최대 배터리 전시회인 '인터배터리 2023'이 15일 서울 삼성동 코엑스에서 ...</td>\n",
       "    </tr>\n",
       "    <tr>\n",
       "      <th>1519</th>\n",
       "      <td>에너지</td>\n",
       "      <td>2023-03-15</td>\n",
       "      <td>인터배터리 2023 LS일렉트릭</td>\n",
       "      <td>국내 최대 배터리 전시회인 '인터배터리 2023'이 15일 서울 삼성동 코엑스에서 ...</td>\n",
       "    </tr>\n",
       "    <tr>\n",
       "      <th>1520</th>\n",
       "      <td>에너지</td>\n",
       "      <td>2023-03-15</td>\n",
       "      <td>인터배터리 2023 삼성SDI</td>\n",
       "      <td>국내 최대 배터리 전시회인 '인터배터리 2023'이 15일 서울 삼성동 코엑스에서 ...</td>\n",
       "    </tr>\n",
       "    <tr>\n",
       "      <th>1521</th>\n",
       "      <td>에너지</td>\n",
       "      <td>2023-03-15</td>\n",
       "      <td>인터배터리 2023, 볼보 대형 전기트럭 첫 공개</td>\n",
       "      <td>국내 최대 배터리 전시회인 '인터배터리 2023'이 15일 서울 삼성동 코엑스에서 ...</td>\n",
       "    </tr>\n",
       "  </tbody>\n",
       "</table>\n",
       "<p>1522 rows × 4 columns</p>\n",
       "</div>"
      ],
      "text/plain": [
       "     big_title        time                               title  \\\n",
       "0           과학  2023-09-13  [과학기술이 미래다] 〈102〉국내 첫 퍼스널 컴퓨터 경진대회   \n",
       "1           과학  2023-09-13                         나노·소재 성과공유회   \n",
       "2           과학  2023-09-12                   [알림] 테크비즈코리아 2023   \n",
       "3           과학  2023-09-12                    드럼치는 로봇 '모펫' 입니다   \n",
       "4           과학  2023-09-11                    드럼치는 로봇 '모펫' 입니다   \n",
       "...        ...         ...                                 ...   \n",
       "1517       에너지  2023-03-15                      이젠, 로봇이 전기차 충전   \n",
       "1518       에너지  2023-03-15     인터배터리 2023 차세대 전기차 선보인 LG에너지솔루션   \n",
       "1519       에너지  2023-03-15                   인터배터리 2023 LS일렉트릭   \n",
       "1520       에너지  2023-03-15                    인터배터리 2023 삼성SDI   \n",
       "1521       에너지  2023-03-15         인터배터리 2023, 볼보 대형 전기트럭 첫 공개   \n",
       "\n",
       "                                                context  \n",
       "0     1984년 4월 22일. 제1회 퍼스널 컴퓨터 경진대회가 이날 오전 9시 서울 송파...  \n",
       "1     나노·소재분야 R&D 정책 및 우수 연구성과를 발표하고 성과물을 공유하는 나노·소재...  \n",
       "2     전자신문사가 올해에도 우리 연구 현장의 사업화 유망기술을 민간기업과 투자자에 소개하...  \n",
       "3     국내 연구진이 음악 빅데이터 기반 인공지능(AI)을 통해 인간과 상호작용하며 합주 ...  \n",
       "4     국내 연구진이 음악 빅데이터 기반 인공지능(AI)을 통해 인간과 상호작용하며 합주 ...  \n",
       "...                                                 ...  \n",
       "1517  국내 무공해차(전기·수소차) 트렌드를 볼 수 있는 'EV 트렌드 코리아 2023'이...  \n",
       "1518  국내 최대 배터리 전시회인 '인터배터리 2023'이 15일 서울 삼성동 코엑스에서 ...  \n",
       "1519  국내 최대 배터리 전시회인 '인터배터리 2023'이 15일 서울 삼성동 코엑스에서 ...  \n",
       "1520  국내 최대 배터리 전시회인 '인터배터리 2023'이 15일 서울 삼성동 코엑스에서 ...  \n",
       "1521  국내 최대 배터리 전시회인 '인터배터리 2023'이 15일 서울 삼성동 코엑스에서 ...  \n",
       "\n",
       "[1522 rows x 4 columns]"
      ]
     },
     "execution_count": 28,
     "metadata": {},
     "output_type": "execute_result"
    }
   ],
   "source": [
    "data = pd.read_csv('윤여록_수집.csv', low_memory=False)\n",
    "data"
   ]
  },
  {
   "cell_type": "code",
   "execution_count": 5,
   "metadata": {},
   "outputs": [
    {
     "data": {
      "text/html": [
       "<div>\n",
       "<style scoped>\n",
       "    .dataframe tbody tr th:only-of-type {\n",
       "        vertical-align: middle;\n",
       "    }\n",
       "\n",
       "    .dataframe tbody tr th {\n",
       "        vertical-align: top;\n",
       "    }\n",
       "\n",
       "    .dataframe thead th {\n",
       "        text-align: right;\n",
       "    }\n",
       "</style>\n",
       "<table border=\"1\" class=\"dataframe\">\n",
       "  <thead>\n",
       "    <tr style=\"text-align: right;\">\n",
       "      <th></th>\n",
       "      <th>big_title</th>\n",
       "      <th>time</th>\n",
       "      <th>title</th>\n",
       "      <th>context</th>\n",
       "    </tr>\n",
       "  </thead>\n",
       "  <tbody>\n",
       "    <tr>\n",
       "      <th>count</th>\n",
       "      <td>1522</td>\n",
       "      <td>1522</td>\n",
       "      <td>1522</td>\n",
       "      <td>1522</td>\n",
       "    </tr>\n",
       "    <tr>\n",
       "      <th>unique</th>\n",
       "      <td>2</td>\n",
       "      <td>159</td>\n",
       "      <td>1498</td>\n",
       "      <td>1473</td>\n",
       "    </tr>\n",
       "    <tr>\n",
       "      <th>top</th>\n",
       "      <td>에너지</td>\n",
       "      <td>2023-05-23</td>\n",
       "      <td>전력거래소 방문한 이창양 산업통상자원부 장관</td>\n",
       "      <td>31일 서울 밤하늘에 '슈퍼 블루문'이 떠오르고 있다. 한 달 중 두 번째 뜬 보름...</td>\n",
       "    </tr>\n",
       "    <tr>\n",
       "      <th>freq</th>\n",
       "      <td>1208</td>\n",
       "      <td>27</td>\n",
       "      <td>5</td>\n",
       "      <td>6</td>\n",
       "    </tr>\n",
       "  </tbody>\n",
       "</table>\n",
       "</div>"
      ],
      "text/plain": [
       "       big_title        time                     title  \\\n",
       "count       1522        1522                      1522   \n",
       "unique         2         159                      1498   \n",
       "top          에너지  2023-05-23  전력거래소 방문한 이창양 산업통상자원부 장관   \n",
       "freq        1208          27                         5   \n",
       "\n",
       "                                                  context  \n",
       "count                                                1522  \n",
       "unique                                               1473  \n",
       "top     31일 서울 밤하늘에 '슈퍼 블루문'이 떠오르고 있다. 한 달 중 두 번째 뜬 보름...  \n",
       "freq                                                    6  "
      ]
     },
     "execution_count": 5,
     "metadata": {},
     "output_type": "execute_result"
    }
   ],
   "source": [
    "data.describe()"
   ]
  },
  {
   "cell_type": "code",
   "execution_count": 11,
   "metadata": {},
   "outputs": [
    {
     "name": "stdout",
     "output_type": "stream",
     "text": [
      "<class 'pandas.core.frame.DataFrame'>\n",
      "RangeIndex: 1522 entries, 0 to 1521\n",
      "Data columns (total 4 columns):\n",
      " #   Column     Non-Null Count  Dtype \n",
      "---  ------     --------------  ----- \n",
      " 0   big_title  1522 non-null   object\n",
      " 1   time       1522 non-null   object\n",
      " 2   title      1522 non-null   object\n",
      " 3   context    1522 non-null   object\n",
      "dtypes: object(4)\n",
      "memory usage: 47.7+ KB\n"
     ]
    }
   ],
   "source": [
    "data.info()"
   ]
  },
  {
   "cell_type": "code",
   "execution_count": 22,
   "metadata": {},
   "outputs": [],
   "source": [
    "data['time'] = pd.to_datetime(data['time'])"
   ]
  },
  {
   "cell_type": "code",
   "execution_count": 25,
   "metadata": {},
   "outputs": [
    {
     "data": {
      "text/plain": [
       "0      2023-09-13\n",
       "1      2023-09-13\n",
       "2      2023-09-12\n",
       "3      2023-09-12\n",
       "4      2023-09-11\n",
       "          ...    \n",
       "1517   2023-03-15\n",
       "1518   2023-03-15\n",
       "1519   2023-03-15\n",
       "1520   2023-03-15\n",
       "1521   2023-03-15\n",
       "Name: time, Length: 1522, dtype: datetime64[ns]"
      ]
     },
     "execution_count": 25,
     "metadata": {},
     "output_type": "execute_result"
    }
   ],
   "source": [
    "data['time']"
   ]
  },
  {
   "cell_type": "code",
   "execution_count": 67,
   "metadata": {},
   "outputs": [
    {
     "data": {
      "text/html": [
       "<div>\n",
       "<style scoped>\n",
       "    .dataframe tbody tr th:only-of-type {\n",
       "        vertical-align: middle;\n",
       "    }\n",
       "\n",
       "    .dataframe tbody tr th {\n",
       "        vertical-align: top;\n",
       "    }\n",
       "\n",
       "    .dataframe thead th {\n",
       "        text-align: right;\n",
       "    }\n",
       "</style>\n",
       "<table border=\"1\" class=\"dataframe\">\n",
       "  <thead>\n",
       "    <tr style=\"text-align: right;\">\n",
       "      <th></th>\n",
       "      <th>big_title</th>\n",
       "      <th>time</th>\n",
       "      <th>title</th>\n",
       "      <th>context</th>\n",
       "    </tr>\n",
       "  </thead>\n",
       "  <tbody>\n",
       "    <tr>\n",
       "      <th>0</th>\n",
       "      <td>과학</td>\n",
       "      <td>2023-09-13</td>\n",
       "      <td>[과학기술이 미래다] 〈102〉국내 첫 퍼스널 컴퓨터 경진대회</td>\n",
       "      <td>1984년 4월 22일. 제1회 퍼스널 컴퓨터 경진대회가 이날 오전 9시 서울 송파...</td>\n",
       "    </tr>\n",
       "    <tr>\n",
       "      <th>2</th>\n",
       "      <td>과학</td>\n",
       "      <td>2023-09-12</td>\n",
       "      <td>[알림] 테크비즈코리아 2023</td>\n",
       "      <td>전자신문사가 올해에도 우리 연구 현장의 사업화 유망기술을 민간기업과 투자자에 소개하...</td>\n",
       "    </tr>\n",
       "    <tr>\n",
       "      <th>17</th>\n",
       "      <td>과학</td>\n",
       "      <td>2023-08-23</td>\n",
       "      <td>[과학기술이 미래다] 〈100〉4M D램 초대형 국가 R&amp;D 프로젝트 가동</td>\n",
       "      <td>“소장은 책임지고 이 과제를 완수하시오.” 1986년 8월 22일 오전 전두환 대통...</td>\n",
       "    </tr>\n",
       "    <tr>\n",
       "      <th>19</th>\n",
       "      <td>과학</td>\n",
       "      <td>2023-08-22</td>\n",
       "      <td>에너지의 날, 국립과천과학관 방문한 어린이</td>\n",
       "      <td>제20회 에너지의 날을 맞아 재생에너지, 탄소중립 등 관련 지식을 습득할 수 있는 ...</td>\n",
       "    </tr>\n",
       "    <tr>\n",
       "      <th>22</th>\n",
       "      <td>과학</td>\n",
       "      <td>2023-08-22</td>\n",
       "      <td>과학 콘텐츠로 배우는 에너지</td>\n",
       "      <td>제20회 에너지의 날을 맞아 재생에너지, 탄소중립 등 관련 지식을 습득할 수 있는 ...</td>\n",
       "    </tr>\n",
       "    <tr>\n",
       "      <th>...</th>\n",
       "      <td>...</td>\n",
       "      <td>...</td>\n",
       "      <td>...</td>\n",
       "      <td>...</td>\n",
       "    </tr>\n",
       "    <tr>\n",
       "      <th>1517</th>\n",
       "      <td>에너지</td>\n",
       "      <td>2023-03-15</td>\n",
       "      <td>이젠, 로봇이 전기차 충전</td>\n",
       "      <td>국내 무공해차(전기·수소차) 트렌드를 볼 수 있는 'EV 트렌드 코리아 2023'이...</td>\n",
       "    </tr>\n",
       "    <tr>\n",
       "      <th>1518</th>\n",
       "      <td>에너지</td>\n",
       "      <td>2023-03-15</td>\n",
       "      <td>인터배터리 2023 차세대 전기차 선보인 LG에너지솔루션</td>\n",
       "      <td>국내 최대 배터리 전시회인 '인터배터리 2023'이 15일 서울 삼성동 코엑스에서 ...</td>\n",
       "    </tr>\n",
       "    <tr>\n",
       "      <th>1519</th>\n",
       "      <td>에너지</td>\n",
       "      <td>2023-03-15</td>\n",
       "      <td>인터배터리 2023 LS일렉트릭</td>\n",
       "      <td>국내 최대 배터리 전시회인 '인터배터리 2023'이 15일 서울 삼성동 코엑스에서 ...</td>\n",
       "    </tr>\n",
       "    <tr>\n",
       "      <th>1520</th>\n",
       "      <td>에너지</td>\n",
       "      <td>2023-03-15</td>\n",
       "      <td>인터배터리 2023 삼성SDI</td>\n",
       "      <td>국내 최대 배터리 전시회인 '인터배터리 2023'이 15일 서울 삼성동 코엑스에서 ...</td>\n",
       "    </tr>\n",
       "    <tr>\n",
       "      <th>1521</th>\n",
       "      <td>에너지</td>\n",
       "      <td>2023-03-15</td>\n",
       "      <td>인터배터리 2023, 볼보 대형 전기트럭 첫 공개</td>\n",
       "      <td>국내 최대 배터리 전시회인 '인터배터리 2023'이 15일 서울 삼성동 코엑스에서 ...</td>\n",
       "    </tr>\n",
       "  </tbody>\n",
       "</table>\n",
       "<p>426 rows × 4 columns</p>\n",
       "</div>"
      ],
      "text/plain": [
       "     big_title        time                                      title  \\\n",
       "0           과학  2023-09-13         [과학기술이 미래다] 〈102〉국내 첫 퍼스널 컴퓨터 경진대회   \n",
       "2           과학  2023-09-12                          [알림] 테크비즈코리아 2023   \n",
       "17          과학  2023-08-23  [과학기술이 미래다] 〈100〉4M D램 초대형 국가 R&D 프로젝트 가동   \n",
       "19          과학  2023-08-22                    에너지의 날, 국립과천과학관 방문한 어린이   \n",
       "22          과학  2023-08-22                            과학 콘텐츠로 배우는 에너지   \n",
       "...        ...         ...                                        ...   \n",
       "1517       에너지  2023-03-15                             이젠, 로봇이 전기차 충전   \n",
       "1518       에너지  2023-03-15            인터배터리 2023 차세대 전기차 선보인 LG에너지솔루션   \n",
       "1519       에너지  2023-03-15                          인터배터리 2023 LS일렉트릭   \n",
       "1520       에너지  2023-03-15                           인터배터리 2023 삼성SDI   \n",
       "1521       에너지  2023-03-15                인터배터리 2023, 볼보 대형 전기트럭 첫 공개   \n",
       "\n",
       "                                                context  \n",
       "0     1984년 4월 22일. 제1회 퍼스널 컴퓨터 경진대회가 이날 오전 9시 서울 송파...  \n",
       "2     전자신문사가 올해에도 우리 연구 현장의 사업화 유망기술을 민간기업과 투자자에 소개하...  \n",
       "17    “소장은 책임지고 이 과제를 완수하시오.” 1986년 8월 22일 오전 전두환 대통...  \n",
       "19    제20회 에너지의 날을 맞아 재생에너지, 탄소중립 등 관련 지식을 습득할 수 있는 ...  \n",
       "22    제20회 에너지의 날을 맞아 재생에너지, 탄소중립 등 관련 지식을 습득할 수 있는 ...  \n",
       "...                                                 ...  \n",
       "1517  국내 무공해차(전기·수소차) 트렌드를 볼 수 있는 'EV 트렌드 코리아 2023'이...  \n",
       "1518  국내 최대 배터리 전시회인 '인터배터리 2023'이 15일 서울 삼성동 코엑스에서 ...  \n",
       "1519  국내 최대 배터리 전시회인 '인터배터리 2023'이 15일 서울 삼성동 코엑스에서 ...  \n",
       "1520  국내 최대 배터리 전시회인 '인터배터리 2023'이 15일 서울 삼성동 코엑스에서 ...  \n",
       "1521  국내 최대 배터리 전시회인 '인터배터리 2023'이 15일 서울 삼성동 코엑스에서 ...  \n",
       "\n",
       "[426 rows x 4 columns]"
      ]
     },
     "execution_count": 67,
     "metadata": {},
     "output_type": "execute_result"
    }
   ],
   "source": [
    "data1 = data[data['context'].str.contains('전기')] #전기 문자열 포함하는 행 추출\n",
    "data1"
   ]
  },
  {
   "cell_type": "code",
   "execution_count": 51,
   "metadata": {},
   "outputs": [
    {
     "name": "stderr",
     "output_type": "stream",
     "text": [
      "C:\\Users\\user\\AppData\\Local\\Temp\\ipykernel_18716\\3004939640.py:1: FutureWarning: Using the level keyword in DataFrame and Series aggregations is deprecated and will be removed in a future version. Use groupby instead. ser.count(level=1) should use ser.groupby(level=1).count().\n",
      "  data1.insert(4, '전기', data1['context'].count('전기'))\n"
     ]
    },
    {
     "ename": "ValueError",
     "evalue": "Series.count level is only valid with a MultiIndex",
     "output_type": "error",
     "traceback": [
      "\u001b[1;31m---------------------------------------------------------------------------\u001b[0m",
      "\u001b[1;31mValueError\u001b[0m                                Traceback (most recent call last)",
      "\u001b[1;32mc:\\Users\\user\\kepco\\09.15_mini_project_data_summary.ipynb 셀 8\u001b[0m line \u001b[0;36m1\n\u001b[1;32m----> <a href='vscode-notebook-cell:/c%3A/Users/user/kepco/09.15_mini_project_data_summary.ipynb#X16sZmlsZQ%3D%3D?line=0'>1</a>\u001b[0m data1\u001b[39m.\u001b[39minsert(\u001b[39m4\u001b[39m, \u001b[39m'\u001b[39m\u001b[39m전기\u001b[39m\u001b[39m'\u001b[39m, data1[\u001b[39m'\u001b[39;49m\u001b[39mcontext\u001b[39;49m\u001b[39m'\u001b[39;49m]\u001b[39m.\u001b[39;49mcount(\u001b[39m'\u001b[39;49m\u001b[39m전기\u001b[39;49m\u001b[39m'\u001b[39;49m))\n",
      "File \u001b[1;32mc:\\Users\\user\\anaconda3\\Lib\\site-packages\\pandas\\core\\series.py:2129\u001b[0m, in \u001b[0;36mSeries.count\u001b[1;34m(self, level)\u001b[0m\n\u001b[0;32m   2121\u001b[0m     warnings\u001b[39m.\u001b[39mwarn(\n\u001b[0;32m   2122\u001b[0m         \u001b[39m\"\u001b[39m\u001b[39mUsing the level keyword in DataFrame and Series aggregations is \u001b[39m\u001b[39m\"\u001b[39m\n\u001b[0;32m   2123\u001b[0m         \u001b[39m\"\u001b[39m\u001b[39mdeprecated and will be removed in a future version. Use groupby \u001b[39m\u001b[39m\"\u001b[39m\n\u001b[1;32m   (...)\u001b[0m\n\u001b[0;32m   2126\u001b[0m         stacklevel\u001b[39m=\u001b[39mfind_stack_level(),\n\u001b[0;32m   2127\u001b[0m     )\n\u001b[0;32m   2128\u001b[0m     \u001b[39mif\u001b[39;00m \u001b[39mnot\u001b[39;00m \u001b[39misinstance\u001b[39m(\u001b[39mself\u001b[39m\u001b[39m.\u001b[39mindex, MultiIndex):\n\u001b[1;32m-> 2129\u001b[0m         \u001b[39mraise\u001b[39;00m \u001b[39mValueError\u001b[39;00m(\u001b[39m\"\u001b[39m\u001b[39mSeries.count level is only valid with a MultiIndex\u001b[39m\u001b[39m\"\u001b[39m)\n\u001b[0;32m   2131\u001b[0m index \u001b[39m=\u001b[39m \u001b[39mself\u001b[39m\u001b[39m.\u001b[39mindex\n\u001b[0;32m   2132\u001b[0m \u001b[39massert\u001b[39;00m \u001b[39misinstance\u001b[39m(index, MultiIndex)  \u001b[39m# for mypy\u001b[39;00m\n",
      "\u001b[1;31mValueError\u001b[0m: Series.count level is only valid with a MultiIndex"
     ]
    }
   ],
   "source": [
    "data1.insert(4, '전기', data1['context'].count('전기'))"
   ]
  },
  {
   "cell_type": "code",
   "execution_count": 64,
   "metadata": {},
   "outputs": [
    {
     "data": {
      "text/plain": [
       "3"
      ]
     },
     "execution_count": 64,
     "metadata": {},
     "output_type": "execute_result"
    }
   ],
   "source": [
    "data1['context'][0].count('전기')"
   ]
  },
  {
   "cell_type": "code",
   "execution_count": 73,
   "metadata": {},
   "outputs": [
    {
     "data": {
      "text/plain": [
       "'에너지'"
      ]
     },
     "execution_count": 73,
     "metadata": {},
     "output_type": "execute_result"
    }
   ],
   "source": [
    "data['big_title'][314]"
   ]
  },
  {
   "cell_type": "code",
   "execution_count": null,
   "metadata": {},
   "outputs": [],
   "source": [
    "new_data = data.context.value_counts.reset_index()\n",
    "new_data"
   ]
  }
 ],
 "metadata": {
  "kernelspec": {
   "display_name": "Python 3",
   "language": "python",
   "name": "python3"
  },
  "language_info": {
   "codemirror_mode": {
    "name": "ipython",
    "version": 3
   },
   "file_extension": ".py",
   "mimetype": "text/x-python",
   "name": "python",
   "nbconvert_exporter": "python",
   "pygments_lexer": "ipython3",
   "version": "3.11.4"
  },
  "orig_nbformat": 4
 },
 "nbformat": 4,
 "nbformat_minor": 2
}
