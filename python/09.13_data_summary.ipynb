{
 "cells": [
  {
   "cell_type": "code",
   "execution_count": 1,
   "id": "2475f0f5-d8fa-4b35-bac6-ac69a9ab5110",
   "metadata": {
    "tags": []
   },
   "outputs": [
    {
     "name": "stderr",
     "output_type": "stream",
     "text": [
      "Downloading...\n",
      "From: https://bit.ly/3736JW1\n",
      "To: C:\\Users\\user\\kepco\\ns_book6.csv\n",
      "100%|█████████████████████████████████████████████████████████████████████████████| 55.0M/55.0M [00:06<00:00, 8.66MB/s]\n"
     ]
    },
    {
     "data": {
      "text/plain": [
       "'ns_book6.csv'"
      ]
     },
     "execution_count": 1,
     "metadata": {},
     "output_type": "execute_result"
    }
   ],
   "source": [
    "import gdown\n",
    "gdown.download('https://bit.ly/3736JW1', 'ns_book6.csv', quiet=False)"
   ]
  },
  {
   "cell_type": "code",
   "execution_count": 2,
   "id": "93854381-db24-4f51-8b24-793d2fd664d5",
   "metadata": {
    "tags": []
   },
   "outputs": [
    {
     "data": {
      "text/html": [
       "<div>\n",
       "<style scoped>\n",
       "    .dataframe tbody tr th:only-of-type {\n",
       "        vertical-align: middle;\n",
       "    }\n",
       "\n",
       "    .dataframe tbody tr th {\n",
       "        vertical-align: top;\n",
       "    }\n",
       "\n",
       "    .dataframe thead th {\n",
       "        text-align: right;\n",
       "    }\n",
       "</style>\n",
       "<table border=\"1\" class=\"dataframe\">\n",
       "  <thead>\n",
       "    <tr style=\"text-align: right;\">\n",
       "      <th></th>\n",
       "      <th>번호</th>\n",
       "      <th>도서명</th>\n",
       "      <th>저자</th>\n",
       "      <th>출판사</th>\n",
       "      <th>발행년도</th>\n",
       "      <th>ISBN</th>\n",
       "      <th>세트 ISBN</th>\n",
       "      <th>부가기호</th>\n",
       "      <th>권</th>\n",
       "      <th>주제분류번호</th>\n",
       "      <th>도서권수</th>\n",
       "      <th>대출건수</th>\n",
       "      <th>등록일자</th>\n",
       "    </tr>\n",
       "  </thead>\n",
       "  <tbody>\n",
       "    <tr>\n",
       "      <th>0</th>\n",
       "      <td>1</td>\n",
       "      <td>인공지능과 흙</td>\n",
       "      <td>김동훈 지음</td>\n",
       "      <td>민음사</td>\n",
       "      <td>2021.0</td>\n",
       "      <td>9788937444319</td>\n",
       "      <td>NaN</td>\n",
       "      <td>NaN</td>\n",
       "      <td>NaN</td>\n",
       "      <td>NaN</td>\n",
       "      <td>1</td>\n",
       "      <td>0</td>\n",
       "      <td>2021-03-19</td>\n",
       "    </tr>\n",
       "    <tr>\n",
       "      <th>1</th>\n",
       "      <td>2</td>\n",
       "      <td>가짜 행복 권하는 사회</td>\n",
       "      <td>김태형 지음</td>\n",
       "      <td>갈매나무</td>\n",
       "      <td>2021.0</td>\n",
       "      <td>9791190123969</td>\n",
       "      <td>NaN</td>\n",
       "      <td>NaN</td>\n",
       "      <td>NaN</td>\n",
       "      <td>NaN</td>\n",
       "      <td>1</td>\n",
       "      <td>0</td>\n",
       "      <td>2021-03-19</td>\n",
       "    </tr>\n",
       "    <tr>\n",
       "      <th>2</th>\n",
       "      <td>3</td>\n",
       "      <td>나도 한 문장 잘 쓰면 바랄 게 없겠네</td>\n",
       "      <td>김선영 지음</td>\n",
       "      <td>블랙피쉬</td>\n",
       "      <td>2021.0</td>\n",
       "      <td>9788968332982</td>\n",
       "      <td>NaN</td>\n",
       "      <td>NaN</td>\n",
       "      <td>NaN</td>\n",
       "      <td>NaN</td>\n",
       "      <td>1</td>\n",
       "      <td>0</td>\n",
       "      <td>2021-03-19</td>\n",
       "    </tr>\n",
       "    <tr>\n",
       "      <th>3</th>\n",
       "      <td>4</td>\n",
       "      <td>예루살렘 해변</td>\n",
       "      <td>이도 게펜 지음, 임재희 옮김</td>\n",
       "      <td>문학세계사</td>\n",
       "      <td>2021.0</td>\n",
       "      <td>9788970759906</td>\n",
       "      <td>NaN</td>\n",
       "      <td>NaN</td>\n",
       "      <td>NaN</td>\n",
       "      <td>NaN</td>\n",
       "      <td>1</td>\n",
       "      <td>0</td>\n",
       "      <td>2021-03-19</td>\n",
       "    </tr>\n",
       "    <tr>\n",
       "      <th>4</th>\n",
       "      <td>5</td>\n",
       "      <td>김성곤의 중국한시기행 : 장강·황하 편</td>\n",
       "      <td>김성곤 지음</td>\n",
       "      <td>김영사</td>\n",
       "      <td>2021.0</td>\n",
       "      <td>9788934990833</td>\n",
       "      <td>NaN</td>\n",
       "      <td>NaN</td>\n",
       "      <td>NaN</td>\n",
       "      <td>NaN</td>\n",
       "      <td>1</td>\n",
       "      <td>0</td>\n",
       "      <td>2021-03-19</td>\n",
       "    </tr>\n",
       "  </tbody>\n",
       "</table>\n",
       "</div>"
      ],
      "text/plain": [
       "   번호                    도서명                저자    출판사    발행년도           ISBN  \\\n",
       "0   1                인공지능과 흙            김동훈 지음    민음사  2021.0  9788937444319   \n",
       "1   2           가짜 행복 권하는 사회            김태형 지음   갈매나무  2021.0  9791190123969   \n",
       "2   3  나도 한 문장 잘 쓰면 바랄 게 없겠네            김선영 지음   블랙피쉬  2021.0  9788968332982   \n",
       "3   4                예루살렘 해변  이도 게펜 지음, 임재희 옮김  문학세계사  2021.0  9788970759906   \n",
       "4   5  김성곤의 중국한시기행 : 장강·황하 편            김성곤 지음    김영사  2021.0  9788934990833   \n",
       "\n",
       "  세트 ISBN 부가기호    권 주제분류번호  도서권수  대출건수        등록일자  \n",
       "0     NaN  NaN  NaN    NaN     1     0  2021-03-19  \n",
       "1     NaN  NaN  NaN    NaN     1     0  2021-03-19  \n",
       "2     NaN  NaN  NaN    NaN     1     0  2021-03-19  \n",
       "3     NaN  NaN  NaN    NaN     1     0  2021-03-19  \n",
       "4     NaN  NaN  NaN    NaN     1     0  2021-03-19  "
      ]
     },
     "execution_count": 2,
     "metadata": {},
     "output_type": "execute_result"
    }
   ],
   "source": [
    "import pandas as pd\n",
    "ns_book6 = pd.read_csv('ns_book6.csv', low_memory=False)\n",
    "ns_book6.head()"
   ]
  },
  {
   "cell_type": "code",
   "execution_count": 3,
   "id": "6633561c-5010-4164-bae3-e3ee0e639db5",
   "metadata": {
    "tags": []
   },
   "outputs": [
    {
     "data": {
      "text/html": [
       "<div>\n",
       "<style scoped>\n",
       "    .dataframe tbody tr th:only-of-type {\n",
       "        vertical-align: middle;\n",
       "    }\n",
       "\n",
       "    .dataframe tbody tr th {\n",
       "        vertical-align: top;\n",
       "    }\n",
       "\n",
       "    .dataframe thead th {\n",
       "        text-align: right;\n",
       "    }\n",
       "</style>\n",
       "<table border=\"1\" class=\"dataframe\">\n",
       "  <thead>\n",
       "    <tr style=\"text-align: right;\">\n",
       "      <th></th>\n",
       "      <th>번호</th>\n",
       "      <th>발행년도</th>\n",
       "      <th>도서권수</th>\n",
       "      <th>대출건수</th>\n",
       "    </tr>\n",
       "  </thead>\n",
       "  <tbody>\n",
       "    <tr>\n",
       "      <th>count</th>\n",
       "      <td>379976.000000</td>\n",
       "      <td>379976.000000</td>\n",
       "      <td>379976.000000</td>\n",
       "      <td>379976.000000</td>\n",
       "    </tr>\n",
       "    <tr>\n",
       "      <th>mean</th>\n",
       "      <td>201726.332847</td>\n",
       "      <td>2008.516306</td>\n",
       "      <td>1.135874</td>\n",
       "      <td>11.504629</td>\n",
       "    </tr>\n",
       "    <tr>\n",
       "      <th>std</th>\n",
       "      <td>115836.454596</td>\n",
       "      <td>8.780529</td>\n",
       "      <td>0.483343</td>\n",
       "      <td>19.241926</td>\n",
       "    </tr>\n",
       "    <tr>\n",
       "      <th>min</th>\n",
       "      <td>1.000000</td>\n",
       "      <td>1947.000000</td>\n",
       "      <td>0.000000</td>\n",
       "      <td>0.000000</td>\n",
       "    </tr>\n",
       "    <tr>\n",
       "      <th>25%</th>\n",
       "      <td>102202.750000</td>\n",
       "      <td>2003.000000</td>\n",
       "      <td>1.000000</td>\n",
       "      <td>2.000000</td>\n",
       "    </tr>\n",
       "    <tr>\n",
       "      <th>50%</th>\n",
       "      <td>203179.500000</td>\n",
       "      <td>2009.000000</td>\n",
       "      <td>1.000000</td>\n",
       "      <td>6.000000</td>\n",
       "    </tr>\n",
       "    <tr>\n",
       "      <th>75%</th>\n",
       "      <td>301630.250000</td>\n",
       "      <td>2015.000000</td>\n",
       "      <td>1.000000</td>\n",
       "      <td>14.000000</td>\n",
       "    </tr>\n",
       "    <tr>\n",
       "      <th>max</th>\n",
       "      <td>401681.000000</td>\n",
       "      <td>2650.000000</td>\n",
       "      <td>40.000000</td>\n",
       "      <td>1765.000000</td>\n",
       "    </tr>\n",
       "  </tbody>\n",
       "</table>\n",
       "</div>"
      ],
      "text/plain": [
       "                  번호           발행년도           도서권수           대출건수\n",
       "count  379976.000000  379976.000000  379976.000000  379976.000000\n",
       "mean   201726.332847    2008.516306       1.135874      11.504629\n",
       "std    115836.454596       8.780529       0.483343      19.241926\n",
       "min         1.000000    1947.000000       0.000000       0.000000\n",
       "25%    102202.750000    2003.000000       1.000000       2.000000\n",
       "50%    203179.500000    2009.000000       1.000000       6.000000\n",
       "75%    301630.250000    2015.000000       1.000000      14.000000\n",
       "max    401681.000000    2650.000000      40.000000    1765.000000"
      ]
     },
     "execution_count": 3,
     "metadata": {},
     "output_type": "execute_result"
    }
   ],
   "source": [
    "#판다스의 데이터프레임에서 기본적인 기술통계 몇가지를 자동으로 추출해주는 describe()메서드\n",
    "ns_book6.describe()"
   ]
  },
  {
   "cell_type": "code",
   "execution_count": 4,
   "id": "931a13e4-40fb-4a1c-8540-f2ca52c808ad",
   "metadata": {
    "tags": []
   },
   "outputs": [
    {
     "data": {
      "text/plain": [
       "3206"
      ]
     },
     "execution_count": 4,
     "metadata": {},
     "output_type": "execute_result"
    }
   ],
   "source": [
    "sum(ns_book6['도서권수']==0)"
   ]
  },
  {
   "cell_type": "code",
   "execution_count": 5,
   "id": "7093303f-3fed-4cbe-bdf3-2b4c872aa9bb",
   "metadata": {
    "tags": []
   },
   "outputs": [],
   "source": [
    "ns_book7 = ns_book6[ns_book6['도서권수']>0]"
   ]
  },
  {
   "cell_type": "code",
   "execution_count": 6,
   "id": "8d4cb479-a113-4ec5-8949-ecd08a9974c3",
   "metadata": {
    "tags": []
   },
   "outputs": [
    {
     "data": {
      "text/html": [
       "<div>\n",
       "<style scoped>\n",
       "    .dataframe tbody tr th:only-of-type {\n",
       "        vertical-align: middle;\n",
       "    }\n",
       "\n",
       "    .dataframe tbody tr th {\n",
       "        vertical-align: top;\n",
       "    }\n",
       "\n",
       "    .dataframe thead th {\n",
       "        text-align: right;\n",
       "    }\n",
       "</style>\n",
       "<table border=\"1\" class=\"dataframe\">\n",
       "  <thead>\n",
       "    <tr style=\"text-align: right;\">\n",
       "      <th></th>\n",
       "      <th>번호</th>\n",
       "      <th>발행년도</th>\n",
       "      <th>도서권수</th>\n",
       "      <th>대출건수</th>\n",
       "    </tr>\n",
       "  </thead>\n",
       "  <tbody>\n",
       "    <tr>\n",
       "      <th>count</th>\n",
       "      <td>376770.000000</td>\n",
       "      <td>376770.000000</td>\n",
       "      <td>376770.000000</td>\n",
       "      <td>376770.000000</td>\n",
       "    </tr>\n",
       "    <tr>\n",
       "      <th>mean</th>\n",
       "      <td>202977.476649</td>\n",
       "      <td>2008.460076</td>\n",
       "      <td>1.145540</td>\n",
       "      <td>11.593439</td>\n",
       "    </tr>\n",
       "    <tr>\n",
       "      <th>std</th>\n",
       "      <td>115298.245784</td>\n",
       "      <td>8.773148</td>\n",
       "      <td>0.473853</td>\n",
       "      <td>19.279409</td>\n",
       "    </tr>\n",
       "    <tr>\n",
       "      <th>min</th>\n",
       "      <td>1.000000</td>\n",
       "      <td>1947.000000</td>\n",
       "      <td>1.000000</td>\n",
       "      <td>0.000000</td>\n",
       "    </tr>\n",
       "    <tr>\n",
       "      <th>30%</th>\n",
       "      <td>124649.700000</td>\n",
       "      <td>2004.000000</td>\n",
       "      <td>1.000000</td>\n",
       "      <td>2.000000</td>\n",
       "    </tr>\n",
       "    <tr>\n",
       "      <th>50%</th>\n",
       "      <td>204550.500000</td>\n",
       "      <td>2009.000000</td>\n",
       "      <td>1.000000</td>\n",
       "      <td>6.000000</td>\n",
       "    </tr>\n",
       "    <tr>\n",
       "      <th>60%</th>\n",
       "      <td>243537.400000</td>\n",
       "      <td>2011.000000</td>\n",
       "      <td>1.000000</td>\n",
       "      <td>8.000000</td>\n",
       "    </tr>\n",
       "    <tr>\n",
       "      <th>90%</th>\n",
       "      <td>361341.100000</td>\n",
       "      <td>2018.000000</td>\n",
       "      <td>2.000000</td>\n",
       "      <td>28.000000</td>\n",
       "    </tr>\n",
       "    <tr>\n",
       "      <th>max</th>\n",
       "      <td>401681.000000</td>\n",
       "      <td>2650.000000</td>\n",
       "      <td>40.000000</td>\n",
       "      <td>1765.000000</td>\n",
       "    </tr>\n",
       "  </tbody>\n",
       "</table>\n",
       "</div>"
      ],
      "text/plain": [
       "                  번호           발행년도           도서권수           대출건수\n",
       "count  376770.000000  376770.000000  376770.000000  376770.000000\n",
       "mean   202977.476649    2008.460076       1.145540      11.593439\n",
       "std    115298.245784       8.773148       0.473853      19.279409\n",
       "min         1.000000    1947.000000       1.000000       0.000000\n",
       "30%    124649.700000    2004.000000       1.000000       2.000000\n",
       "50%    204550.500000    2009.000000       1.000000       6.000000\n",
       "60%    243537.400000    2011.000000       1.000000       8.000000\n",
       "90%    361341.100000    2018.000000       2.000000      28.000000\n",
       "max    401681.000000    2650.000000      40.000000    1765.000000"
      ]
     },
     "execution_count": 6,
     "metadata": {},
     "output_type": "execute_result"
    }
   ],
   "source": [
    "ns_book7.describe(percentiles=[0.3,0.6,0.9])"
   ]
  },
  {
   "cell_type": "code",
   "execution_count": 7,
   "id": "7316eca4-214a-4565-ad03-bc881f0e292d",
   "metadata": {
    "tags": []
   },
   "outputs": [
    {
     "data": {
      "text/html": [
       "<div>\n",
       "<style scoped>\n",
       "    .dataframe tbody tr th:only-of-type {\n",
       "        vertical-align: middle;\n",
       "    }\n",
       "\n",
       "    .dataframe tbody tr th {\n",
       "        vertical-align: top;\n",
       "    }\n",
       "\n",
       "    .dataframe thead th {\n",
       "        text-align: right;\n",
       "    }\n",
       "</style>\n",
       "<table border=\"1\" class=\"dataframe\">\n",
       "  <thead>\n",
       "    <tr style=\"text-align: right;\">\n",
       "      <th></th>\n",
       "      <th>도서명</th>\n",
       "      <th>저자</th>\n",
       "      <th>출판사</th>\n",
       "      <th>ISBN</th>\n",
       "      <th>세트 ISBN</th>\n",
       "      <th>부가기호</th>\n",
       "      <th>권</th>\n",
       "      <th>주제분류번호</th>\n",
       "      <th>등록일자</th>\n",
       "    </tr>\n",
       "  </thead>\n",
       "  <tbody>\n",
       "    <tr>\n",
       "      <th>count</th>\n",
       "      <td>376770</td>\n",
       "      <td>376770</td>\n",
       "      <td>376770</td>\n",
       "      <td>376770</td>\n",
       "      <td>55866</td>\n",
       "      <td>308252</td>\n",
       "      <td>61793</td>\n",
       "      <td>359792</td>\n",
       "      <td>376770</td>\n",
       "    </tr>\n",
       "    <tr>\n",
       "      <th>unique</th>\n",
       "      <td>336408</td>\n",
       "      <td>248850</td>\n",
       "      <td>21875</td>\n",
       "      <td>350810</td>\n",
       "      <td>14875</td>\n",
       "      <td>17</td>\n",
       "      <td>834</td>\n",
       "      <td>12467</td>\n",
       "      <td>4562</td>\n",
       "    </tr>\n",
       "    <tr>\n",
       "      <th>top</th>\n",
       "      <td>승정원일기</td>\n",
       "      <td>세종대왕기념사업회 [편]</td>\n",
       "      <td>문학동네</td>\n",
       "      <td>9788937430299</td>\n",
       "      <td>9788937460005</td>\n",
       "      <td>0</td>\n",
       "      <td>1</td>\n",
       "      <td>813.6</td>\n",
       "      <td>1970-01-01</td>\n",
       "    </tr>\n",
       "    <tr>\n",
       "      <th>freq</th>\n",
       "      <td>250</td>\n",
       "      <td>303</td>\n",
       "      <td>4410</td>\n",
       "      <td>206</td>\n",
       "      <td>702</td>\n",
       "      <td>158235</td>\n",
       "      <td>13282</td>\n",
       "      <td>14816</td>\n",
       "      <td>28185</td>\n",
       "    </tr>\n",
       "  </tbody>\n",
       "</table>\n",
       "</div>"
      ],
      "text/plain": [
       "           도서명             저자     출판사           ISBN        세트 ISBN    부가기호  \\\n",
       "count   376770         376770  376770         376770          55866  308252   \n",
       "unique  336408         248850   21875         350810          14875      17   \n",
       "top      승정원일기  세종대왕기념사업회 [편]    문학동네  9788937430299  9788937460005       0   \n",
       "freq       250            303    4410            206            702  158235   \n",
       "\n",
       "            권  주제분류번호        등록일자  \n",
       "count   61793  359792      376770  \n",
       "unique    834   12467        4562  \n",
       "top         1   813.6  1970-01-01  \n",
       "freq    13282   14816       28185  "
      ]
     },
     "execution_count": 7,
     "metadata": {},
     "output_type": "execute_result"
    }
   ],
   "source": [
    "#describe매서드에서 열의 데이터 타입이 수치가 아닌 다른 데이터 타입의 열의 기술통계를 보고 싶으면\n",
    "#include매개변수에 데이터 타입을 지정하여 볼 수 있음\n",
    "ns_book7.describe(include='object')"
   ]
  },
  {
   "cell_type": "code",
   "execution_count": 8,
   "id": "b262fe2b-6d48-43fd-9bf0-2b577b564efc",
   "metadata": {
    "tags": []
   },
   "outputs": [
    {
     "data": {
      "text/plain": [
       "11.593438968070707"
      ]
     },
     "execution_count": 8,
     "metadata": {},
     "output_type": "execute_result"
    }
   ],
   "source": [
    "#mean()\n",
    "#판다스 데이터프레임과 시리즈 객체는 평균을 계산하는 mean()메서드를 제공\n",
    "ns_book7['대출건수'].mean()"
   ]
  },
  {
   "cell_type": "code",
   "execution_count": 9,
   "id": "ff7340a9-a7fc-429f-8fd6-4bdcaa475cff",
   "metadata": {},
   "outputs": [
    {
     "data": {
      "text/plain": [
       "6.0"
      ]
     },
     "execution_count": 9,
     "metadata": {},
     "output_type": "execute_result"
    }
   ],
   "source": [
    "#중앙값\n",
    "#median()\n",
    "ns_book7['대출건수'].median()"
   ]
  },
  {
   "cell_type": "code",
   "execution_count": 10,
   "id": "cc2000d2-6131-4147-a026-a5e9bcc54380",
   "metadata": {},
   "outputs": [
    {
     "data": {
      "text/plain": [
       "0    2.5\n",
       "dtype: float64"
      ]
     },
     "execution_count": 10,
     "metadata": {},
     "output_type": "execute_result"
    }
   ],
   "source": [
    "temp_df = pd.DataFrame([1, 2, 3, 4])\n",
    "temp_df.median()"
   ]
  },
  {
   "cell_type": "code",
   "execution_count": 11,
   "id": "e10084f3-f359-411f-98b1-49b6be6fedfb",
   "metadata": {},
   "outputs": [
    {
     "data": {
      "text/plain": [
       "183.0"
      ]
     },
     "execution_count": 11,
     "metadata": {},
     "output_type": "execute_result"
    }
   ],
   "source": [
    "#중복값 제거하고 중앙값 구하기\n",
    "#drop_duplicates()로 중복된 값을 가진 행을 제거한 후 중앙값 구하기\n",
    "ns_book7['대출건수'].drop_duplicates().median()"
   ]
  },
  {
   "cell_type": "code",
   "execution_count": 12,
   "id": "d18e9918-7fa3-4250-8fea-84be7bac8eab",
   "metadata": {},
   "outputs": [
    {
     "name": "stdout",
     "output_type": "stream",
     "text": [
      "0\n",
      "1765\n"
     ]
    }
   ],
   "source": [
    "#최솟값/최댓값\n",
    "print(ns_book7['대출건수'].min())\n",
    "print(ns_book7['대출건수'].max())\n"
   ]
  },
  {
   "cell_type": "code",
   "execution_count": 13,
   "id": "eb999e68-cb03-4de0-b9e5-6c933b76bce7",
   "metadata": {},
   "outputs": [
    {
     "data": {
      "text/plain": [
       "2.0"
      ]
     },
     "execution_count": 13,
     "metadata": {},
     "output_type": "execute_result"
    }
   ],
   "source": [
    "#분위수 구하기\n",
    "#데이터를 순서대로 늘어 놓았을 때 이를 균등한 가격으로 나누는 기준점\n",
    "#quantile()\n",
    "ns_book7['대출건수'].quantile(0.25) #하위 25%"
   ]
  },
  {
   "cell_type": "code",
   "execution_count": 15,
   "id": "5f938bf3-002e-4f53-b2eb-0a7a4df8ed35",
   "metadata": {
    "tags": []
   },
   "outputs": [
    {
     "data": {
      "text/plain": [
       "10.0"
      ]
     },
     "execution_count": 15,
     "metadata": {},
     "output_type": "execute_result"
    }
   ],
   "source": [
    "#대출건수 10이 위치한 백분위 찾기\n",
    "borrow_10_flag = ns_book7['대출건수'] < 10 #불리언배열 생성\n",
    "borrow_10_flag.mean() #0.6402712530190833 #10보다 작은 값이 차지하는 비율\n",
    "ns_book7['대출건수'].quantile(0.65)"
   ]
  },
  {
   "cell_type": "code",
   "execution_count": 16,
   "id": "f2108e09-753e-413d-8bcb-6581307710e9",
   "metadata": {
    "tags": []
   },
   "outputs": [],
   "source": [
    "#분산 구하기\n",
    "#평균으로부터 데이터가 얼마나 퍼져 있는지를 나타내는 통계량\n",
    "#데이터가 가운데에 모여 있다면 분산이 작고 넓게 퍼져 있다면 분산이 크다.\n",
    "#데이터의 각 값에서 평균을 뺀 다음 제곱한 후 평균처럼 샘플 개수로 나누어 구할 수 있다."
   ]
  },
  {
   "cell_type": "code",
   "execution_count": 17,
   "id": "e4930df6-13a9-4f78-95eb-fe39f42521bb",
   "metadata": {
    "tags": []
   },
   "outputs": [
    {
     "data": {
      "text/plain": [
       "371.6956304306922"
      ]
     },
     "execution_count": 17,
     "metadata": {},
     "output_type": "execute_result"
    }
   ],
   "source": [
    "#var()메서드\n",
    "#판다스의 분산을 계산하는 메서드\n",
    "ns_book7['대출건수'].var()\n",
    "#분산은 제곱을 했기 때문에 데이터가 평균에서 멀어질수록 값이 급격히 커진다.\n",
    "#단위가 대출건수의 제곱이 되어 해석하기 어렵다.\n",
    "#이를 보완하기 위해 분산에 제곱근을 취한 표준편차를 사용\n",
    "#그냥 제곱한거에 루트 씌워준다는 뜻"
   ]
  },
  {
   "cell_type": "code",
   "execution_count": 18,
   "id": "f2179703-51a9-46dd-a0b3-a7716de7b363",
   "metadata": {
    "tags": []
   },
   "outputs": [
    {
     "data": {
      "text/plain": [
       "19.27940949382766"
      ]
     },
     "execution_count": 18,
     "metadata": {},
     "output_type": "execute_result"
    }
   ],
   "source": [
    "#std() 메서드\n",
    "ns_book7['대출건수'].std()\n",
    "#평균을 구했을 때 11회가 조금 넘는것을 알 수 있었고\n",
    "#이는 평균보다 19만큼 더 많거나 적을 수 있다는 의미\n",
    "#계산을 해보면 대출건수가 음수다? 이거는 이상하다.\n",
    "#평균보다 훨씬 큰 대출건수가 있기 떄문에 표준편차가 큰것으로 예상."
   ]
  },
  {
   "cell_type": "code",
   "execution_count": 19,
   "id": "6680bbc2-9ede-4cad-8d8d-d9d54f62d56a",
   "metadata": {
    "tags": []
   },
   "outputs": [
    {
     "data": {
      "text/plain": [
       "0    승정원일기\n",
       "Name: 도서명, dtype: object"
      ]
     },
     "execution_count": 19,
     "metadata": {},
     "output_type": "execute_result"
    }
   ],
   "source": [
    "#최빈값 구하기\n",
    "#데이터에서 가장 많이 등장하는 값\n",
    "#ns_book7.describe(include='object')에서 나온 top값이 최빈값\n",
    "#판다스에서 mode()메서드는 최빈값을 계산\n",
    "ns_book7['도서명'].mode()"
   ]
  },
  {
   "cell_type": "code",
   "execution_count": 20,
   "id": "9236fe37-d8cf-4dc8-ba3d-fe73c60cb645",
   "metadata": {
    "tags": []
   },
   "outputs": [
    {
     "data": {
      "text/plain": [
       "0    2012.0\n",
       "Name: 발행년도, dtype: float64"
      ]
     },
     "execution_count": 20,
     "metadata": {},
     "output_type": "execute_result"
    }
   ],
   "source": [
    "ns_book7['발행년도'].mode()"
   ]
  },
  {
   "cell_type": "code",
   "execution_count": 21,
   "id": "f1ae23c0-e0ee-46a3-8cee-33c2e1868f6b",
   "metadata": {
    "tags": []
   },
   "outputs": [
    {
     "data": {
      "text/plain": [
       "번호      202977.476649\n",
       "발행년도      2008.460076\n",
       "도서권수         1.145540\n",
       "대출건수        11.593439\n",
       "dtype: float64"
      ]
     },
     "execution_count": 21,
     "metadata": {},
     "output_type": "execute_result"
    }
   ],
   "source": [
    "#평균, 중앙값, 최솟값, 최댓값, 분위수, 분산, 표준편차\n",
    "#위의 판다스 메서드들은 데이터프레임에도 사용 가능\n",
    "#수치형 열만 연산할 수 있기 때문에 해당 열에만 적용되도록 numeric_only매개변수를 True로 지정\n",
    "#ns_book7에서 numeric_only매개변수를 지정하지 않으면 수치형 4개의 열을 포함한 모든 데이터 타입의 열에 대해\n",
    "#수행하기 때문에 시간이 매우 오래 걸리며 경고가 발생\n",
    "ns_book7.mean(numeric_only=True)"
   ]
  },
  {
   "cell_type": "code",
   "execution_count": 22,
   "id": "b04b807a-5c48-44aa-95e0-66d2dc621c8c",
   "metadata": {
    "tags": []
   },
   "outputs": [
    {
     "data": {
      "text/html": [
       "<div>\n",
       "<style scoped>\n",
       "    .dataframe tbody tr th:only-of-type {\n",
       "        vertical-align: middle;\n",
       "    }\n",
       "\n",
       "    .dataframe tbody tr th {\n",
       "        vertical-align: top;\n",
       "    }\n",
       "\n",
       "    .dataframe thead th {\n",
       "        text-align: right;\n",
       "    }\n",
       "</style>\n",
       "<table border=\"1\" class=\"dataframe\">\n",
       "  <thead>\n",
       "    <tr style=\"text-align: right;\">\n",
       "      <th></th>\n",
       "      <th>도서명</th>\n",
       "      <th>저자</th>\n",
       "      <th>출판사</th>\n",
       "      <th>발행년도</th>\n",
       "      <th>ISBN</th>\n",
       "      <th>세트 ISBN</th>\n",
       "      <th>부가기호</th>\n",
       "      <th>권</th>\n",
       "      <th>주제분류번호</th>\n",
       "      <th>도서권수</th>\n",
       "      <th>대출건수</th>\n",
       "      <th>등록일자</th>\n",
       "    </tr>\n",
       "  </thead>\n",
       "  <tbody>\n",
       "    <tr>\n",
       "      <th>0</th>\n",
       "      <td>승정원일기</td>\n",
       "      <td>세종대왕기념사업회 [편]</td>\n",
       "      <td>문학동네</td>\n",
       "      <td>2012.0</td>\n",
       "      <td>9788937430299</td>\n",
       "      <td>9788937460005</td>\n",
       "      <td>0</td>\n",
       "      <td>1</td>\n",
       "      <td>813.6</td>\n",
       "      <td>1</td>\n",
       "      <td>0</td>\n",
       "      <td>1970-01-01</td>\n",
       "    </tr>\n",
       "  </tbody>\n",
       "</table>\n",
       "</div>"
      ],
      "text/plain": [
       "     도서명             저자   출판사    발행년도           ISBN        세트 ISBN 부가기호  권  \\\n",
       "0  승정원일기  세종대왕기념사업회 [편]  문학동네  2012.0  9788937430299  9788937460005    0  1   \n",
       "\n",
       "  주제분류번호  도서권수  대출건수        등록일자  \n",
       "0  813.6     1     0  1970-01-01  "
      ]
     },
     "execution_count": 22,
     "metadata": {},
     "output_type": "execute_result"
    }
   ],
   "source": [
    "ns_book7.loc[:, '도서명':].mode()"
   ]
  },
  {
   "cell_type": "code",
   "execution_count": 23,
   "id": "b7721dcd-c84a-440f-a3da-2344b73c8368",
   "metadata": {},
   "outputs": [],
   "source": [
    "ns_book7.to_csv('ns_book7.csv', index=False)"
   ]
  },
  {
   "cell_type": "code",
   "execution_count": 4,
   "id": "2741fc7e-7645-486b-8bcb-79d4f4489330",
   "metadata": {
    "tags": []
   },
   "outputs": [
    {
     "name": "stderr",
     "output_type": "stream",
     "text": [
      "Downloading...\n",
      "From: https://bit.ly/3pK7iuu\n",
      "To: C:\\Users\\user\\kepco\\ns_book7.csv\n",
      "100%|█████████████████████████████████████████████████████████████████████████████| 53.8M/53.8M [00:07<00:00, 7.24MB/s]\n"
     ]
    },
    {
     "data": {
      "text/plain": [
       "'ns_book7.csv'"
      ]
     },
     "execution_count": 4,
     "metadata": {},
     "output_type": "execute_result"
    }
   ],
   "source": [
    "import gdown\n",
    "gdown.download('https://bit.ly/3pK7iuu', 'ns_book7.csv', quiet=False)"
   ]
  },
  {
   "cell_type": "code",
   "execution_count": 30,
   "id": "ec95a6a4-5c38-4723-b30c-b26bcb70a29b",
   "metadata": {
    "tags": []
   },
   "outputs": [
    {
     "data": {
      "text/html": [
       "<div>\n",
       "<style scoped>\n",
       "    .dataframe tbody tr th:only-of-type {\n",
       "        vertical-align: middle;\n",
       "    }\n",
       "\n",
       "    .dataframe tbody tr th {\n",
       "        vertical-align: top;\n",
       "    }\n",
       "\n",
       "    .dataframe thead th {\n",
       "        text-align: right;\n",
       "    }\n",
       "</style>\n",
       "<table border=\"1\" class=\"dataframe\">\n",
       "  <thead>\n",
       "    <tr style=\"text-align: right;\">\n",
       "      <th></th>\n",
       "      <th>번호</th>\n",
       "      <th>도서명</th>\n",
       "      <th>저자</th>\n",
       "      <th>출판사</th>\n",
       "      <th>발행년도</th>\n",
       "      <th>ISBN</th>\n",
       "      <th>세트 ISBN</th>\n",
       "      <th>부가기호</th>\n",
       "      <th>권</th>\n",
       "      <th>주제분류번호</th>\n",
       "      <th>도서권수</th>\n",
       "      <th>대출건수</th>\n",
       "      <th>등록일자</th>\n",
       "    </tr>\n",
       "  </thead>\n",
       "  <tbody>\n",
       "    <tr>\n",
       "      <th>0</th>\n",
       "      <td>1</td>\n",
       "      <td>인공지능과 흙</td>\n",
       "      <td>김동훈 지음</td>\n",
       "      <td>민음사</td>\n",
       "      <td>2021.0</td>\n",
       "      <td>9788937444319</td>\n",
       "      <td>NaN</td>\n",
       "      <td>NaN</td>\n",
       "      <td>NaN</td>\n",
       "      <td>NaN</td>\n",
       "      <td>1</td>\n",
       "      <td>0</td>\n",
       "      <td>2021-03-19</td>\n",
       "    </tr>\n",
       "    <tr>\n",
       "      <th>1</th>\n",
       "      <td>2</td>\n",
       "      <td>가짜 행복 권하는 사회</td>\n",
       "      <td>김태형 지음</td>\n",
       "      <td>갈매나무</td>\n",
       "      <td>2021.0</td>\n",
       "      <td>9791190123969</td>\n",
       "      <td>NaN</td>\n",
       "      <td>NaN</td>\n",
       "      <td>NaN</td>\n",
       "      <td>NaN</td>\n",
       "      <td>1</td>\n",
       "      <td>0</td>\n",
       "      <td>2021-03-19</td>\n",
       "    </tr>\n",
       "    <tr>\n",
       "      <th>2</th>\n",
       "      <td>3</td>\n",
       "      <td>나도 한 문장 잘 쓰면 바랄 게 없겠네</td>\n",
       "      <td>김선영 지음</td>\n",
       "      <td>블랙피쉬</td>\n",
       "      <td>2021.0</td>\n",
       "      <td>9788968332982</td>\n",
       "      <td>NaN</td>\n",
       "      <td>NaN</td>\n",
       "      <td>NaN</td>\n",
       "      <td>NaN</td>\n",
       "      <td>1</td>\n",
       "      <td>0</td>\n",
       "      <td>2021-03-19</td>\n",
       "    </tr>\n",
       "    <tr>\n",
       "      <th>3</th>\n",
       "      <td>4</td>\n",
       "      <td>예루살렘 해변</td>\n",
       "      <td>이도 게펜 지음, 임재희 옮김</td>\n",
       "      <td>문학세계사</td>\n",
       "      <td>2021.0</td>\n",
       "      <td>9788970759906</td>\n",
       "      <td>NaN</td>\n",
       "      <td>NaN</td>\n",
       "      <td>NaN</td>\n",
       "      <td>NaN</td>\n",
       "      <td>1</td>\n",
       "      <td>0</td>\n",
       "      <td>2021-03-19</td>\n",
       "    </tr>\n",
       "    <tr>\n",
       "      <th>4</th>\n",
       "      <td>5</td>\n",
       "      <td>김성곤의 중국한시기행 : 장강·황하 편</td>\n",
       "      <td>김성곤 지음</td>\n",
       "      <td>김영사</td>\n",
       "      <td>2021.0</td>\n",
       "      <td>9788934990833</td>\n",
       "      <td>NaN</td>\n",
       "      <td>NaN</td>\n",
       "      <td>NaN</td>\n",
       "      <td>NaN</td>\n",
       "      <td>1</td>\n",
       "      <td>0</td>\n",
       "      <td>2021-03-19</td>\n",
       "    </tr>\n",
       "  </tbody>\n",
       "</table>\n",
       "</div>"
      ],
      "text/plain": [
       "   번호                    도서명                저자    출판사    발행년도           ISBN  \\\n",
       "0   1                인공지능과 흙            김동훈 지음    민음사  2021.0  9788937444319   \n",
       "1   2           가짜 행복 권하는 사회            김태형 지음   갈매나무  2021.0  9791190123969   \n",
       "2   3  나도 한 문장 잘 쓰면 바랄 게 없겠네            김선영 지음   블랙피쉬  2021.0  9788968332982   \n",
       "3   4                예루살렘 해변  이도 게펜 지음, 임재희 옮김  문학세계사  2021.0  9788970759906   \n",
       "4   5  김성곤의 중국한시기행 : 장강·황하 편            김성곤 지음    김영사  2021.0  9788934990833   \n",
       "\n",
       "  세트 ISBN 부가기호    권 주제분류번호  도서권수  대출건수        등록일자  \n",
       "0     NaN  NaN  NaN    NaN     1     0  2021-03-19  \n",
       "1     NaN  NaN  NaN    NaN     1     0  2021-03-19  \n",
       "2     NaN  NaN  NaN    NaN     1     0  2021-03-19  \n",
       "3     NaN  NaN  NaN    NaN     1     0  2021-03-19  \n",
       "4     NaN  NaN  NaN    NaN     1     0  2021-03-19  "
      ]
     },
     "execution_count": 30,
     "metadata": {},
     "output_type": "execute_result"
    }
   ],
   "source": [
    "import pandas as pd\n",
    "ns_book7 = pd.read_csv('ns_book7.csv', low_memory=False)\n",
    "ns_book7.head()"
   ]
  },
  {
   "cell_type": "code",
   "execution_count": 31,
   "id": "28ab1208-5e72-4317-84c8-d0f3753aa0d6",
   "metadata": {
    "tags": []
   },
   "outputs": [],
   "source": [
    "import matplotlib.pyplot as plt"
   ]
  },
  {
   "cell_type": "code",
   "execution_count": 32,
   "id": "99ddf566-ebaa-48b4-a05f-616b55085663",
   "metadata": {
    "tags": []
   },
   "outputs": [],
   "source": [
    "#산점도"
   ]
  },
  {
   "cell_type": "code",
   "execution_count": 33,
   "id": "7b884769-b58f-4a5f-8bb4-2bf76d4c82b6",
   "metadata": {
    "tags": []
   },
   "outputs": [
    {
     "data": {
      "text/plain": [
       "<matplotlib.collections.PathCollection at 0x1ec00c56bd0>"
      ]
     },
     "execution_count": 33,
     "metadata": {},
     "output_type": "execute_result"
    },
    {
     "data": {
      "image/png": "[encoded data removed]",
      "text/plain": [
       "<Figure size 640x480 with 1 Axes>"
      ]
     },
     "metadata": {},
     "output_type": "display_data"
    }
   ],
   "source": [
    "plt.scatter([1,2,3,4],[1,2,3,4])"
   ]
  },
  {
   "cell_type": "code",
   "execution_count": 34,
   "id": "c7c55495-1bff-4a1b-a942-4241baf7f360",
   "metadata": {
    "tags": []
   },
   "outputs": [
    {
     "data": {
      "image/png": "[encoded data removed]",
      "text/plain": [
       "<Figure size 640x480 with 1 Axes>"
      ]
     },
     "metadata": {},
     "output_type": "display_data"
    }
   ],
   "source": [
    "plt.scatter(ns_book7['번호'],ns_book7['대출건수'])\n",
    "plt.show()"
   ]
  },
  {
   "cell_type": "code",
   "execution_count": 35,
   "id": "3785eb7e-8b50-4dc4-afca-4a72d0c5a35b",
   "metadata": {
    "tags": []
   },
   "outputs": [
    {
     "data": {
      "image/png": "[encoded data removed]",
      "text/plain": [
       "<Figure size 640x480 with 1 Axes>"
      ]
     },
     "metadata": {},
     "output_type": "display_data"
    }
   ],
   "source": [
    "plt.scatter(ns_book7['도서권수'],ns_book7['대출건수'])\n",
    "plt.show() "
   ]
  },
  {
   "cell_type": "code",
   "execution_count": 36,
   "id": "045bbc6f-bbff-4e1d-ab6d-ded47262685d",
   "metadata": {
    "tags": []
   },
   "outputs": [
    {
     "data": {
      "image/png": "[encoded data removed]",
      "text/plain": [
       "<Figure size 640x480 with 1 Axes>"
      ]
     },
     "metadata": {},
     "output_type": "display_data"
    }
   ],
   "source": [
    "plt.scatter(ns_book7['도서권수'],ns_book7['대출건수'], alpha=0.1) #0에 가까울수록 투명 1에 가까울수록 불투명(투명도)\n",
    "plt.show() \n",
    "#도서권수가 적음\n",
    "#대부분 작은 값이기 때문에 도서권수와 대출건수 사이의 관계파악 어려움"
   ]
  },
  {
   "cell_type": "code",
   "execution_count": 37,
   "id": "6895ab0e-0156-4479-bff2-d3e0278bd774",
   "metadata": {
    "tags": []
   },
   "outputs": [
    {
     "data": {
      "image/png": "[encoded data removed]",
      "text/plain": [
       "<Figure size 640x480 with 1 Axes>"
      ]
     },
     "metadata": {},
     "output_type": "display_data"
    }
   ],
   "source": [
    "average_borrows = ns_book7['대출건수']/ns_book7['도서권수']\n",
    "plt.scatter(average_borrows, ns_book7['대출건수'], alpha=0.1)\n",
    "plt.show()\n",
    "#양의 상관관계 그래프"
   ]
  },
  {
   "cell_type": "code",
   "execution_count": 38,
   "id": "a6105ee9-aa73-4bf7-863f-4c8afe18af3e",
   "metadata": {
    "tags": []
   },
   "outputs": [],
   "source": [
    "#히스토그램\n",
    "#수치형 특성의 값을 일정한 구간으로 나누어 구간 안에 포함된 데이터 개수를 막대 그래프로 그린 것\n",
    "#구간 안에 속한 데이터 개수를 도수라고 부른다."
   ]
  },
  {
   "cell_type": "code",
   "execution_count": 39,
   "id": "d36d6d4d-632c-4a10-a178-20843b702d73",
   "metadata": {
    "tags": []
   },
   "outputs": [
    {
     "data": {
      "text/plain": [
       "(array([1., 1., 1., 0., 2., 1., 1., 1.]),\n",
       " array([1.  , 1.75, 2.5 , 3.25, 4.  , 4.75, 5.5 , 6.25, 7.  ]),\n",
       " <BarContainer object of 8 artists>)"
      ]
     },
     "execution_count": 39,
     "metadata": {},
     "output_type": "execute_result"
    },
    {
     "data": {
      "image/png": "[encoded data removed]",
      "text/plain": [
       "<Figure size 640x480 with 1 Axes>"
      ]
     },
     "metadata": {},
     "output_type": "display_data"
    }
   ],
   "source": [
    "#hist()\n",
    "#1차원 데이터를 입력받아 히스토그램을 그리며 기본적으로 데이터를 10개 구간으로 나눈다.\n",
    "plt.hist([1, 2, 4, 5, 6, 7, 3, 4], bins=8) #bins를 8로 지정해줌으로써 8개의 구간으로 나눔"
   ]
  },
  {
   "cell_type": "code",
   "execution_count": 40,
   "id": "e0854a4f-cf2e-473c-af17-88ab847be16a",
   "metadata": {
    "tags": []
   },
   "outputs": [
    {
     "data": {
      "text/plain": [
       "array([1.  , 1.75, 2.5 , 3.25, 4.  , 4.75, 5.5 , 6.25, 7.  ])"
      ]
     },
     "execution_count": 40,
     "metadata": {},
     "output_type": "execute_result"
    }
   ],
   "source": [
    "#histogram_bin_edges()를 통해 나눈 구간을 정확히 파악\n",
    "import numpy as np\n",
    "np.histogram_bin_edges([1, 2, 4, 5, 6, 7, 3, 4], bins=8)"
   ]
  },
  {
   "cell_type": "code",
   "execution_count": 41,
   "id": "665345ba-31ab-46e5-b371-0b799cc604ac",
   "metadata": {
    "tags": []
   },
   "outputs": [],
   "source": [
    "#난수 생성\n",
    "random_samples = np.random.randn(1000) #랜덤실수 생성 / seed()를 사용하면 유사난수 생성(가짜난수)"
   ]
  },
  {
   "cell_type": "code",
   "execution_count": 42,
   "id": "e61894d4-7b25-4513-85cc-ff3e61196652",
   "metadata": {
    "tags": []
   },
   "outputs": [
    {
     "name": "stdout",
     "output_type": "stream",
     "text": [
      "-0.0019317732035875927 1.0155422862831496\n"
     ]
    }
   ],
   "source": [
    "#평균 / 표준편차\n",
    "print(np.mean(random_samples), np.std(random_samples))\n",
    "#평균이 0 표준편차가 1에 가까울수록 표준정규분포를 따른다.\n",
    "#(종 모양처럼 가운데가 볼록하고 평균을 중심으로 대칭인 분포를 정규분포, 평균이 0이고 표준편차가 1인 정규분포를 표준정규분포라고 한다."
   ]
  },
  {
   "cell_type": "code",
   "execution_count": 43,
   "id": "8994a639-8bc6-4881-997b-c045c475fb06",
   "metadata": {
    "tags": []
   },
   "outputs": [
    {
     "data": {
      "image/png": "[encoded data removed]",
      "text/plain": [
       "<Figure size 640x480 with 1 Axes>"
      ]
     },
     "metadata": {},
     "output_type": "display_data"
    }
   ],
   "source": [
    "plt.hist(random_samples)\n",
    "plt.show()"
   ]
  },
  {
   "cell_type": "code",
   "execution_count": 44,
   "id": "7c70bcfe-6577-4e54-8d44-c5114579509a",
   "metadata": {
    "tags": []
   },
   "outputs": [
    {
     "data": {
      "text/html": [
       "<div>\n",
       "<style scoped>\n",
       "    .dataframe tbody tr th:only-of-type {\n",
       "        vertical-align: middle;\n",
       "    }\n",
       "\n",
       "    .dataframe tbody tr th {\n",
       "        vertical-align: top;\n",
       "    }\n",
       "\n",
       "    .dataframe thead th {\n",
       "        text-align: right;\n",
       "    }\n",
       "</style>\n",
       "<table border=\"1\" class=\"dataframe\">\n",
       "  <thead>\n",
       "    <tr style=\"text-align: right;\">\n",
       "      <th></th>\n",
       "      <th>번호</th>\n",
       "      <th>발행년도</th>\n",
       "      <th>도서권수</th>\n",
       "      <th>대출건수</th>\n",
       "    </tr>\n",
       "  </thead>\n",
       "  <tbody>\n",
       "    <tr>\n",
       "      <th>count</th>\n",
       "      <td>376770.000000</td>\n",
       "      <td>376770.000000</td>\n",
       "      <td>376770.000000</td>\n",
       "      <td>376770.000000</td>\n",
       "    </tr>\n",
       "    <tr>\n",
       "      <th>mean</th>\n",
       "      <td>202977.476649</td>\n",
       "      <td>2008.460076</td>\n",
       "      <td>1.145540</td>\n",
       "      <td>11.593439</td>\n",
       "    </tr>\n",
       "    <tr>\n",
       "      <th>std</th>\n",
       "      <td>115298.245784</td>\n",
       "      <td>8.773148</td>\n",
       "      <td>0.473853</td>\n",
       "      <td>19.279409</td>\n",
       "    </tr>\n",
       "    <tr>\n",
       "      <th>min</th>\n",
       "      <td>1.000000</td>\n",
       "      <td>1947.000000</td>\n",
       "      <td>1.000000</td>\n",
       "      <td>0.000000</td>\n",
       "    </tr>\n",
       "    <tr>\n",
       "      <th>30%</th>\n",
       "      <td>124649.700000</td>\n",
       "      <td>2004.000000</td>\n",
       "      <td>1.000000</td>\n",
       "      <td>2.000000</td>\n",
       "    </tr>\n",
       "    <tr>\n",
       "      <th>50%</th>\n",
       "      <td>204550.500000</td>\n",
       "      <td>2009.000000</td>\n",
       "      <td>1.000000</td>\n",
       "      <td>6.000000</td>\n",
       "    </tr>\n",
       "    <tr>\n",
       "      <th>60%</th>\n",
       "      <td>243537.400000</td>\n",
       "      <td>2011.000000</td>\n",
       "      <td>1.000000</td>\n",
       "      <td>8.000000</td>\n",
       "    </tr>\n",
       "    <tr>\n",
       "      <th>90%</th>\n",
       "      <td>361341.100000</td>\n",
       "      <td>2018.000000</td>\n",
       "      <td>2.000000</td>\n",
       "      <td>28.000000</td>\n",
       "    </tr>\n",
       "    <tr>\n",
       "      <th>max</th>\n",
       "      <td>401681.000000</td>\n",
       "      <td>2650.000000</td>\n",
       "      <td>40.000000</td>\n",
       "      <td>1765.000000</td>\n",
       "    </tr>\n",
       "  </tbody>\n",
       "</table>\n",
       "</div>"
      ],
      "text/plain": [
       "                  번호           발행년도           도서권수           대출건수\n",
       "count  376770.000000  376770.000000  376770.000000  376770.000000\n",
       "mean   202977.476649    2008.460076       1.145540      11.593439\n",
       "std    115298.245784       8.773148       0.473853      19.279409\n",
       "min         1.000000    1947.000000       1.000000       0.000000\n",
       "30%    124649.700000    2004.000000       1.000000       2.000000\n",
       "50%    204550.500000    2009.000000       1.000000       6.000000\n",
       "60%    243537.400000    2011.000000       1.000000       8.000000\n",
       "90%    361341.100000    2018.000000       2.000000      28.000000\n",
       "max    401681.000000    2650.000000      40.000000    1765.000000"
      ]
     },
     "execution_count": 44,
     "metadata": {},
     "output_type": "execute_result"
    }
   ],
   "source": [
    "ns_book7.describe(percentiles=[0.3, 0.6, 0.9])"
   ]
  },
  {
   "cell_type": "code",
   "execution_count": 45,
   "id": "34fadb47-e3af-4c72-b62a-3c4d13a65d8f",
   "metadata": {
    "tags": []
   },
   "outputs": [
    {
     "data": {
      "image/png": "[encoded data removed]",
      "text/plain": [
       "<Figure size 640x480 with 1 Axes>"
      ]
     },
     "metadata": {},
     "output_type": "display_data"
    }
   ],
   "source": [
    "plt.hist(ns_book7['대출건수'])\n",
    "plt.show()\n",
    "#위의 describe()를 통해 '대출건수'열의 90%백분위에 해당하는 값은 28에 불과하다는것을 알 수 있다.\n",
    "#첫번째 구간의 도수가 너무 커서 나머지 구간에는 도수 값이 표시되지 않는 현상이 발생한다. 이럴때 필요한 것이 구간조정"
   ]
  },
  {
   "cell_type": "code",
   "execution_count": 46,
   "id": "d34dd2e9-6fb1-458a-851e-8af2debce71a",
   "metadata": {
    "tags": []
   },
   "outputs": [
    {
     "data": {
      "image/png": "[encoded data removed]",
      "text/plain": [
       "<Figure size 640x480 with 1 Axes>"
      ]
     },
     "metadata": {},
     "output_type": "display_data"
    }
   ],
   "source": [
    "#구간조정은 로그 스케일을 통해 해결\n",
    "#y축에 로그 함수를 적용한다는 의미\n",
    "#yscale()함수에 log 지정\n",
    "#x축에는 xscale()함수 적용 가능\n",
    "plt.hist(ns_book7['대출건수'])\n",
    "plt.yscale('log')\n",
    "plt.show()"
   ]
  },
  {
   "cell_type": "code",
   "execution_count": 47,
   "id": "cd3c15f8-665c-4176-83e0-62ede3494cb2",
   "metadata": {
    "tags": []
   },
   "outputs": [
    {
     "data": {
      "image/png": "[encoded data removed]",
      "text/plain": [
       "<Figure size 640x480 with 1 Axes>"
      ]
     },
     "metadata": {},
     "output_type": "display_data"
    }
   ],
   "source": [
    "plt.hist(ns_book7['대출건수'], bins=100)\n",
    "plt.yscale('log')\n",
    "plt.show()"
   ]
  },
  {
   "cell_type": "code",
   "execution_count": 48,
   "id": "9499cf9f-46fc-42e4-950f-7cb6c197c600",
   "metadata": {
    "tags": []
   },
   "outputs": [
    {
     "data": {
      "image/png": "[encoded data removed]",
      "text/plain": [
       "<Figure size 640x480 with 1 Axes>"
      ]
     },
     "metadata": {},
     "output_type": "display_data"
    }
   ],
   "source": [
    "#상자수염그림\n",
    "#최솟값, 세 개의 사분위수, 최댓값 총 5개의 숫자를 사용해 데이터를 요약하는 그래프\n",
    "#boxplot()\n",
    "#한개 이상의 데이터프레임 열을 전달하여 그래프를 그림\n",
    "plt.boxplot(ns_book7['대출건수'])\n",
    "plt.show()"
   ]
  },
  {
   "cell_type": "code",
   "execution_count": 49,
   "id": "f99343a5-4467-45fd-a147-b76f17d28e77",
   "metadata": {
    "tags": []
   },
   "outputs": [
    {
     "data": {
      "image/png": "[encoded data removed]",
      "text/plain": [
       "<Figure size 640x480 with 1 Axes>"
      ]
     },
     "metadata": {},
     "output_type": "display_data"
    }
   ],
   "source": [
    "plt.boxplot(ns_book7['대출건수'])\n",
    "plt.yscale('log')\n",
    "plt.show()"
   ]
  },
  {
   "cell_type": "code",
   "execution_count": 50,
   "id": "a3f33aa0-c21d-4c81-86d8-28520179ad1a",
   "metadata": {
    "tags": []
   },
   "outputs": [
    {
     "data": {
      "image/png": "[encoded data removed]",
      "text/plain": [
       "<Figure size 640x480 with 1 Axes>"
      ]
     },
     "metadata": {},
     "output_type": "display_data"
    }
   ],
   "source": [
    "#상자수염그림을 수평으로 그려야 할때는 vert 매개변수를 기본값 Ture에서 False로 변경\n",
    "#수평이기 때문에 xscale()로 변경해야 함\n",
    "plt.boxplot(ns_book7['대출건수'], vert=False)\n",
    "plt.xscale('log')\n",
    "plt.show()"
   ]
  },
  {
   "cell_type": "code",
   "execution_count": 51,
   "id": "1fd10b82-6265-4069-b970-fad394cd17fc",
   "metadata": {
    "tags": []
   },
   "outputs": [
    {
     "data": {
      "image/png": "[encoded data removed]",
      "text/plain": [
       "<Figure size 640x480 with 2 Axes>"
      ]
     },
     "metadata": {},
     "output_type": "display_data"
    }
   ],
   "source": [
    "#수염길이조절\n",
    "#기본적으로 수염의 길이는 IQR의 1.5배\n",
    "#boxplot()함수의 whis 매개변수를 통해 조정가능\n",
    "plt.subplot(2, 1, 1)\n",
    "plt.boxplot(ns_book7['대출건수'], whis=10)\n",
    "plt.yscale('log')\n",
    "plt.title('one')\n",
    "\n",
    "plt.subplot(2, 1, 2)\n",
    "plt.boxplot(ns_book7['대출건수'])\n",
    "plt.yscale('log')\n",
    "plt.title('two')\n",
    "plt.show()\n"
   ]
  },
  {
   "cell_type": "code",
   "execution_count": 52,
   "id": "32f04c0c-260d-4906-91b7-c12c3b458848",
   "metadata": {
    "tags": []
   },
   "outputs": [
    {
     "data": {
      "image/png": "[encoded data removed]",
      "text/plain": [
       "<Figure size 640x480 with 1 Axes>"
      ]
     },
     "metadata": {},
     "output_type": "display_data"
    }
   ],
   "source": [
    "#백분율로도 지정 가능\n",
    "plt.boxplot(ns_book7['대출건수'], whis=(0,100))\n",
    "plt.yscale('log')\n",
    "plt.show()"
   ]
  },
  {
   "cell_type": "code",
   "execution_count": 53,
   "id": "28b564cc-8727-4ae8-b447-0ecb34ee5c0f",
   "metadata": {
    "tags": []
   },
   "outputs": [
    {
     "data": {
      "image/png": "[encoded data removed]",
      "text/plain": [
       "<Figure size 640x480 with 1 Axes>"
      ]
     },
     "metadata": {},
     "output_type": "display_data"
    }
   ],
   "source": [
    "selected_rows = ns_book7.loc[(ns_book7['발행년도'] >= 1980) & (ns_book7['발행년도'] <= 2022) , :]\n",
    "plt.hist(selected_rows['발행년도'])\n",
    "plt.show()"
   ]
  },
  {
   "cell_type": "code",
   "execution_count": 54,
   "id": "edb3849c-e646-4b03-9db3-65ceb840f94e",
   "metadata": {
    "tags": []
   },
   "outputs": [
    {
     "data": {
      "image/png": "[encoded data removed]",
      "text/plain": [
       "<Figure size 640x480 with 1 Axes>"
      ]
     },
     "metadata": {},
     "output_type": "display_data"
    }
   ],
   "source": [
    "selected_rows = (ns_book7['발행년도'] >= 1980) & (ns_book7['발행년도'] <= 2022)\n",
    "plt.hist(ns_book7.loc[selected_rows, '발행년도'])\n",
    "plt.show()"
   ]
  }
 ],
 "metadata": {
  "kernelspec": {
   "display_name": "Python 3 (ipykernel)",
   "language": "python",
   "name": "python3"
  },
  "language_info": {
   "codemirror_mode": {
    "name": "ipython",
    "version": 3
   },
   "file_extension": ".py",
   "mimetype": "text/x-python",
   "name": "python",
   "nbconvert_exporter": "python",
   "pygments_lexer": "ipython3",
   "version": "3.11.4"
  }
 },
 "nbformat": 4,
 "nbformat_minor": 5
}
