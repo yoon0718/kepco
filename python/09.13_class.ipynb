{
 "cells": [
  {
   "cell_type": "code",
   "execution_count": 1,
   "id": "f40dc1e6-f9a4-41a3-a473-19590d370bf2",
   "metadata": {
    "tags": []
   },
   "outputs": [
    {
     "data": {
      "text/plain": [
       "2.5"
      ]
     },
     "execution_count": 1,
     "metadata": {},
     "output_type": "execute_result"
    }
   ],
   "source": [
    "# 모든 데이터를 합해서 데이터의 갯수로 나눔\n",
    "X = [1,2,3,4]\n",
    "s = 0\n",
    "for x in X:\n",
    "    s += x\n",
    "s/len(X)"
   ]
  },
  {
   "cell_type": "code",
   "execution_count": 3,
   "id": "d7e65a01-4d6e-40b8-9b93-b8f2cf052cd2",
   "metadata": {
    "tags": []
   },
   "outputs": [
    {
     "data": {
      "text/plain": [
       "2.5"
      ]
     },
     "execution_count": 3,
     "metadata": {},
     "output_type": "execute_result"
    }
   ],
   "source": [
    "#numpy \n",
    "import numpy as np\n",
    "X = np.array(X)\n",
    "np.sum(X)/len(X) # np.mean(X)"
   ]
  },
  {
   "cell_type": "code",
   "execution_count": 13,
   "id": "5024118f-469d-41ce-a4b8-b5b57b6789ed",
   "metadata": {
    "tags": []
   },
   "outputs": [
    {
     "data": {
      "text/plain": [
       "2.5"
      ]
     },
     "execution_count": 13,
     "metadata": {},
     "output_type": "execute_result"
    }
   ],
   "source": [
    "#pandas\n",
    "# X = [1,2,3,4]\n",
    "# np.sum(X)/len(X)\n",
    "# np.mean(X)\n",
    "# np.array(X).mean()\n",
    "import pandas as pd\n",
    "pd.Series(X).sum()/len(pd.Series(X))\n",
    "pd.Series(X).mean()"
   ]
  },
  {
   "cell_type": "code",
   "execution_count": 24,
   "id": "37a8aa9a-cf72-496b-9b35-02ffe51be552",
   "metadata": {
    "tags": []
   },
   "outputs": [
    {
     "data": {
      "text/plain": [
       "2.5"
      ]
     },
     "execution_count": 24,
     "metadata": {},
     "output_type": "execute_result"
    }
   ],
   "source": [
    "## numpy\n",
    "np.median(X)\n",
    "#np.array(X).median()\n",
    "## pandas\n",
    "pd.Series(X).median()"
   ]
  },
  {
   "cell_type": "code",
   "execution_count": 20,
   "id": "90cf6031-50a3-44ca-a8c2-474b232a41fa",
   "metadata": {
    "tags": []
   },
   "outputs": [
    {
     "data": {
      "text/plain": [
       "numpy.ndarray"
      ]
     },
     "execution_count": 20,
     "metadata": {},
     "output_type": "execute_result"
    }
   ],
   "source": [
    "type(np.array([1]))"
   ]
  },
  {
   "cell_type": "code",
   "execution_count": 23,
   "id": "0fd048bc-52c3-4a31-bde2-ddf117a43bf1",
   "metadata": {
    "collapsed": true,
    "jupyter": {
     "outputs_hidden": true
    },
    "tags": []
   },
   "outputs": [
    {
     "data": {
      "text/plain": [
       "{'ALLOW_THREADS',\n",
       " 'AxisError',\n",
       " 'BUFSIZE',\n",
       " 'CLIP',\n",
       " 'ComplexWarning',\n",
       " 'DataSource',\n",
       " 'ERR_CALL',\n",
       " 'ERR_DEFAULT',\n",
       " 'ERR_IGNORE',\n",
       " 'ERR_LOG',\n",
       " 'ERR_PRINT',\n",
       " 'ERR_RAISE',\n",
       " 'ERR_WARN',\n",
       " 'FLOATING_POINT_SUPPORT',\n",
       " 'FPE_DIVIDEBYZERO',\n",
       " 'FPE_INVALID',\n",
       " 'FPE_OVERFLOW',\n",
       " 'FPE_UNDERFLOW',\n",
       " 'False_',\n",
       " 'Inf',\n",
       " 'Infinity',\n",
       " 'MAXDIMS',\n",
       " 'MAY_SHARE_BOUNDS',\n",
       " 'MAY_SHARE_EXACT',\n",
       " 'ModuleDeprecationWarning',\n",
       " 'NAN',\n",
       " 'NINF',\n",
       " 'NZERO',\n",
       " 'NaN',\n",
       " 'PINF',\n",
       " 'PZERO',\n",
       " 'RAISE',\n",
       " 'RankWarning',\n",
       " 'SHIFT_DIVIDEBYZERO',\n",
       " 'SHIFT_INVALID',\n",
       " 'SHIFT_OVERFLOW',\n",
       " 'SHIFT_UNDERFLOW',\n",
       " 'ScalarType',\n",
       " 'Tester',\n",
       " 'TooHardError',\n",
       " 'True_',\n",
       " 'UFUNC_BUFSIZE_DEFAULT',\n",
       " 'UFUNC_PYVALS_NAME',\n",
       " 'VisibleDeprecationWarning',\n",
       " 'WRAP',\n",
       " '_CopyMode',\n",
       " '_NoValue',\n",
       " '_UFUNC_API',\n",
       " '__NUMPY_SETUP__',\n",
       " '__all__',\n",
       " '__builtins__',\n",
       " '__cached__',\n",
       " '__config__',\n",
       " '__deprecated_attrs__',\n",
       " '__expired_functions__',\n",
       " '__file__',\n",
       " '__former_attrs__',\n",
       " '__future_scalars__',\n",
       " '__getattr__',\n",
       " '__git_version__',\n",
       " '__loader__',\n",
       " '__mkl_version__',\n",
       " '__name__',\n",
       " '__package__',\n",
       " '__path__',\n",
       " '__spec__',\n",
       " '__version__',\n",
       " '_add_newdoc_ufunc',\n",
       " '_builtins',\n",
       " '_distributor_init',\n",
       " '_financial_names',\n",
       " '_get_promotion_state',\n",
       " '_globals',\n",
       " '_int_extended_msg',\n",
       " '_mat',\n",
       " '_no_nep50_warning',\n",
       " '_pyinstaller_hooks_dir',\n",
       " '_pytesttester',\n",
       " '_set_promotion_state',\n",
       " '_specific_msg',\n",
       " '_version',\n",
       " 'abs',\n",
       " 'absolute',\n",
       " 'add',\n",
       " 'add_docstring',\n",
       " 'add_newdoc',\n",
       " 'add_newdoc_ufunc',\n",
       " 'allclose',\n",
       " 'alltrue',\n",
       " 'amax',\n",
       " 'amin',\n",
       " 'angle',\n",
       " 'append',\n",
       " 'apply_along_axis',\n",
       " 'apply_over_axes',\n",
       " 'arange',\n",
       " 'arccos',\n",
       " 'arccosh',\n",
       " 'arcsin',\n",
       " 'arcsinh',\n",
       " 'arctan',\n",
       " 'arctan2',\n",
       " 'arctanh',\n",
       " 'argwhere',\n",
       " 'around',\n",
       " 'array',\n",
       " 'array2string',\n",
       " 'array_equal',\n",
       " 'array_equiv',\n",
       " 'array_repr',\n",
       " 'array_split',\n",
       " 'array_str',\n",
       " 'asanyarray',\n",
       " 'asarray',\n",
       " 'asarray_chkfinite',\n",
       " 'ascontiguousarray',\n",
       " 'asfarray',\n",
       " 'asfortranarray',\n",
       " 'asmatrix',\n",
       " 'atleast_1d',\n",
       " 'atleast_2d',\n",
       " 'atleast_3d',\n",
       " 'average',\n",
       " 'bartlett',\n",
       " 'base_repr',\n",
       " 'binary_repr',\n",
       " 'bincount',\n",
       " 'bitwise_and',\n",
       " 'bitwise_not',\n",
       " 'bitwise_or',\n",
       " 'bitwise_xor',\n",
       " 'blackman',\n",
       " 'block',\n",
       " 'bmat',\n",
       " 'bool_',\n",
       " 'broadcast',\n",
       " 'broadcast_arrays',\n",
       " 'broadcast_shapes',\n",
       " 'broadcast_to',\n",
       " 'busday_count',\n",
       " 'busday_offset',\n",
       " 'busdaycalendar',\n",
       " 'byte',\n",
       " 'byte_bounds',\n",
       " 'bytes_',\n",
       " 'c_',\n",
       " 'can_cast',\n",
       " 'cast',\n",
       " 'cbrt',\n",
       " 'cdouble',\n",
       " 'ceil',\n",
       " 'cfloat',\n",
       " 'char',\n",
       " 'character',\n",
       " 'chararray',\n",
       " 'clongdouble',\n",
       " 'clongfloat',\n",
       " 'column_stack',\n",
       " 'common_type',\n",
       " 'compare_chararrays',\n",
       " 'compat',\n",
       " 'complex128',\n",
       " 'complex64',\n",
       " 'complex_',\n",
       " 'complexfloating',\n",
       " 'concatenate',\n",
       " 'convolve',\n",
       " 'copysign',\n",
       " 'copyto',\n",
       " 'corrcoef',\n",
       " 'correlate',\n",
       " 'cos',\n",
       " 'cosh',\n",
       " 'count_nonzero',\n",
       " 'cov',\n",
       " 'cross',\n",
       " 'csingle',\n",
       " 'ctypeslib',\n",
       " 'cumproduct',\n",
       " 'datetime64',\n",
       " 'datetime_as_string',\n",
       " 'datetime_data',\n",
       " 'deg2rad',\n",
       " 'degrees',\n",
       " 'delete',\n",
       " 'deprecate',\n",
       " 'deprecate_with_doc',\n",
       " 'diag',\n",
       " 'diag_indices',\n",
       " 'diag_indices_from',\n",
       " 'diagflat',\n",
       " 'diff',\n",
       " 'digitize',\n",
       " 'disp',\n",
       " 'divide',\n",
       " 'divmod',\n",
       " 'double',\n",
       " 'dsplit',\n",
       " 'dstack',\n",
       " 'e',\n",
       " 'ediff1d',\n",
       " 'einsum',\n",
       " 'einsum_path',\n",
       " 'emath',\n",
       " 'empty',\n",
       " 'empty_like',\n",
       " 'equal',\n",
       " 'errstate',\n",
       " 'euler_gamma',\n",
       " 'exp',\n",
       " 'exp2',\n",
       " 'expand_dims',\n",
       " 'expm1',\n",
       " 'expm1x',\n",
       " 'extract',\n",
       " 'eye',\n",
       " 'fabs',\n",
       " 'fastCopyAndTranspose',\n",
       " 'fft',\n",
       " 'fill_diagonal',\n",
       " 'find_common_type',\n",
       " 'finfo',\n",
       " 'fix',\n",
       " 'flatiter',\n",
       " 'flatnonzero',\n",
       " 'flexible',\n",
       " 'flip',\n",
       " 'fliplr',\n",
       " 'flipud',\n",
       " 'float16',\n",
       " 'float32',\n",
       " 'float64',\n",
       " 'float_',\n",
       " 'float_power',\n",
       " 'floating',\n",
       " 'floor',\n",
       " 'floor_divide',\n",
       " 'fmax',\n",
       " 'fmin',\n",
       " 'fmod',\n",
       " 'format_float_positional',\n",
       " 'format_float_scientific',\n",
       " 'format_parser',\n",
       " 'frexp',\n",
       " 'from_dlpack',\n",
       " 'frombuffer',\n",
       " 'fromfile',\n",
       " 'fromfunction',\n",
       " 'fromiter',\n",
       " 'frompyfunc',\n",
       " 'fromregex',\n",
       " 'fromstring',\n",
       " 'full',\n",
       " 'full_like',\n",
       " 'gcd',\n",
       " 'generic',\n",
       " 'genfromtxt',\n",
       " 'geomspace',\n",
       " 'get_array_wrap',\n",
       " 'get_include',\n",
       " 'get_printoptions',\n",
       " 'getbufsize',\n",
       " 'geterr',\n",
       " 'geterrcall',\n",
       " 'geterrobj',\n",
       " 'gradient',\n",
       " 'greater',\n",
       " 'greater_equal',\n",
       " 'half',\n",
       " 'hamming',\n",
       " 'hanning',\n",
       " 'heaviside',\n",
       " 'histogram',\n",
       " 'histogram2d',\n",
       " 'histogram_bin_edges',\n",
       " 'histogramdd',\n",
       " 'hsplit',\n",
       " 'hstack',\n",
       " 'hypot',\n",
       " 'i0',\n",
       " 'identity',\n",
       " 'iinfo',\n",
       " 'in1d',\n",
       " 'index_exp',\n",
       " 'indices',\n",
       " 'inexact',\n",
       " 'inf',\n",
       " 'info',\n",
       " 'infty',\n",
       " 'inner',\n",
       " 'insert',\n",
       " 'int16',\n",
       " 'int32',\n",
       " 'int64',\n",
       " 'int8',\n",
       " 'int_',\n",
       " 'intc',\n",
       " 'integer',\n",
       " 'interp',\n",
       " 'intersect1d',\n",
       " 'intp',\n",
       " 'invert',\n",
       " 'is_busday',\n",
       " 'isclose',\n",
       " 'iscomplex',\n",
       " 'iscomplexobj',\n",
       " 'isfinite',\n",
       " 'isfortran',\n",
       " 'isin',\n",
       " 'isinf',\n",
       " 'isnan',\n",
       " 'isnat',\n",
       " 'isneginf',\n",
       " 'isposinf',\n",
       " 'isreal',\n",
       " 'isrealobj',\n",
       " 'isscalar',\n",
       " 'issctype',\n",
       " 'issubclass_',\n",
       " 'issubdtype',\n",
       " 'issubsctype',\n",
       " 'iterable',\n",
       " 'ix_',\n",
       " 'kaiser',\n",
       " 'kron',\n",
       " 'lcm',\n",
       " 'ldexp',\n",
       " 'left_shift',\n",
       " 'less',\n",
       " 'less_equal',\n",
       " 'lexsort',\n",
       " 'lib',\n",
       " 'linalg',\n",
       " 'linspace',\n",
       " 'little_endian',\n",
       " 'load',\n",
       " 'loadtxt',\n",
       " 'log',\n",
       " 'log10',\n",
       " 'log1p',\n",
       " 'log2',\n",
       " 'logaddexp',\n",
       " 'logaddexp2',\n",
       " 'logical_and',\n",
       " 'logical_not',\n",
       " 'logical_or',\n",
       " 'logical_xor',\n",
       " 'logspace',\n",
       " 'longcomplex',\n",
       " 'longdouble',\n",
       " 'longfloat',\n",
       " 'longlong',\n",
       " 'lookfor',\n",
       " 'ma',\n",
       " 'mask_indices',\n",
       " 'mat',\n",
       " 'math',\n",
       " 'matmul',\n",
       " 'matrix',\n",
       " 'maximum',\n",
       " 'maximum_sctype',\n",
       " 'may_share_memory',\n",
       " 'median',\n",
       " 'memmap',\n",
       " 'meshgrid',\n",
       " 'mgrid',\n",
       " 'min_scalar_type',\n",
       " 'minimum',\n",
       " 'mintypecode',\n",
       " 'mkl',\n",
       " 'mod',\n",
       " 'modf',\n",
       " 'moveaxis',\n",
       " 'msort',\n",
       " 'multiply',\n",
       " 'nan',\n",
       " 'nan_to_num',\n",
       " 'nanargmax',\n",
       " 'nanargmin',\n",
       " 'nancumprod',\n",
       " 'nancumsum',\n",
       " 'nanmax',\n",
       " 'nanmean',\n",
       " 'nanmedian',\n",
       " 'nanmin',\n",
       " 'nanpercentile',\n",
       " 'nanprod',\n",
       " 'nanquantile',\n",
       " 'nanstd',\n",
       " 'nansum',\n",
       " 'nanvar',\n",
       " 'ndarray',\n",
       " 'ndenumerate',\n",
       " 'ndindex',\n",
       " 'nditer',\n",
       " 'negative',\n",
       " 'nested_iters',\n",
       " 'newaxis',\n",
       " 'nextafter',\n",
       " 'not_equal',\n",
       " 'numarray',\n",
       " 'number',\n",
       " 'obj2sctype',\n",
       " 'object_',\n",
       " 'ogrid',\n",
       " 'oldnumeric',\n",
       " 'ones',\n",
       " 'ones_like',\n",
       " 'outer',\n",
       " 'packbits',\n",
       " 'pad',\n",
       " 'percentile',\n",
       " 'pi',\n",
       " 'piecewise',\n",
       " 'place',\n",
       " 'poly',\n",
       " 'poly1d',\n",
       " 'polyadd',\n",
       " 'polyder',\n",
       " 'polydiv',\n",
       " 'polyfit',\n",
       " 'polyint',\n",
       " 'polymul',\n",
       " 'polynomial',\n",
       " 'polysub',\n",
       " 'polyval',\n",
       " 'positive',\n",
       " 'power',\n",
       " 'printoptions',\n",
       " 'product',\n",
       " 'promote_types',\n",
       " 'put_along_axis',\n",
       " 'putmask',\n",
       " 'quantile',\n",
       " 'r_',\n",
       " 'rad2deg',\n",
       " 'radians',\n",
       " 'random',\n",
       " 'ravel_multi_index',\n",
       " 'real_if_close',\n",
       " 'rec',\n",
       " 'recarray',\n",
       " 'recfromcsv',\n",
       " 'recfromtxt',\n",
       " 'reciprocal',\n",
       " 'record',\n",
       " 'remainder',\n",
       " 'require',\n",
       " 'result_type',\n",
       " 'right_shift',\n",
       " 'rint',\n",
       " 'roll',\n",
       " 'rollaxis',\n",
       " 'roots',\n",
       " 'rot90',\n",
       " 'round_',\n",
       " 'row_stack',\n",
       " 's_',\n",
       " 'safe_eval',\n",
       " 'save',\n",
       " 'savetxt',\n",
       " 'savez',\n",
       " 'savez_compressed',\n",
       " 'sctype2char',\n",
       " 'sctypeDict',\n",
       " 'sctypes',\n",
       " 'select',\n",
       " 'set_numeric_ops',\n",
       " 'set_printoptions',\n",
       " 'set_string_function',\n",
       " 'setbufsize',\n",
       " 'setdiff1d',\n",
       " 'seterr',\n",
       " 'seterrcall',\n",
       " 'seterrobj',\n",
       " 'setxor1d',\n",
       " 'shares_memory',\n",
       " 'short',\n",
       " 'show_config',\n",
       " 'show_runtime',\n",
       " 'sign',\n",
       " 'signbit',\n",
       " 'signedinteger',\n",
       " 'sin',\n",
       " 'sinc',\n",
       " 'single',\n",
       " 'singlecomplex',\n",
       " 'sinh',\n",
       " 'sometrue',\n",
       " 'sort_complex',\n",
       " 'source',\n",
       " 'spacing',\n",
       " 'split',\n",
       " 'sqrt',\n",
       " 'square',\n",
       " 'stack',\n",
       " 'str_',\n",
       " 'string_',\n",
       " 'subtract',\n",
       " 'take_along_axis',\n",
       " 'tan',\n",
       " 'tanh',\n",
       " 'tensordot',\n",
       " 'test',\n",
       " 'testing',\n",
       " 'tile',\n",
       " 'timedelta64',\n",
       " 'tracemalloc_domain',\n",
       " 'trapz',\n",
       " 'tri',\n",
       " 'tril',\n",
       " 'tril_indices',\n",
       " 'tril_indices_from',\n",
       " 'trim_zeros',\n",
       " 'triu',\n",
       " 'triu_indices',\n",
       " 'triu_indices_from',\n",
       " 'true_divide',\n",
       " 'trunc',\n",
       " 'typecodes',\n",
       " 'typename',\n",
       " 'ubyte',\n",
       " 'ufunc',\n",
       " 'uint',\n",
       " 'uint16',\n",
       " 'uint32',\n",
       " 'uint64',\n",
       " 'uint8',\n",
       " 'uintc',\n",
       " 'uintp',\n",
       " 'ulonglong',\n",
       " 'unicode_',\n",
       " 'union1d',\n",
       " 'unique',\n",
       " 'unpackbits',\n",
       " 'unravel_index',\n",
       " 'unsignedinteger',\n",
       " 'unwrap',\n",
       " 'use_hugepage',\n",
       " 'ushort',\n",
       " 'vander',\n",
       " 'vdot',\n",
       " 'vectorize',\n",
       " 'version',\n",
       " 'void',\n",
       " 'vsplit',\n",
       " 'vstack',\n",
       " 'where',\n",
       " 'who',\n",
       " 'zeros',\n",
       " 'zeros_like'}"
      ]
     },
     "execution_count": 23,
     "metadata": {},
     "output_type": "execute_result"
    }
   ],
   "source": [
    "set(dir(np)) - set(dir(np.ndarray))"
   ]
  },
  {
   "cell_type": "code",
   "execution_count": 25,
   "id": "ede146ab-bcf2-44b9-8a61-3a4d5e5277a1",
   "metadata": {
    "tags": []
   },
   "outputs": [],
   "source": [
    "X = pd.Series(np.random.randint(10,100,1000))"
   ]
  },
  {
   "cell_type": "code",
   "execution_count": 32,
   "id": "6c409648-7199-458b-8378-797d76976609",
   "metadata": {
    "tags": []
   },
   "outputs": [
    {
     "data": {
      "text/plain": [
       "54.5"
      ]
     },
     "execution_count": 32,
     "metadata": {},
     "output_type": "execute_result"
    }
   ],
   "source": [
    "X.median()\n",
    "X[~X.duplicated()].median()\n",
    "X.drop_duplicates().median()"
   ]
  },
  {
   "cell_type": "code",
   "execution_count": 38,
   "id": "ed7c0a7e-429b-47c1-b775-110b1401bea9",
   "metadata": {
    "tags": []
   },
   "outputs": [
    {
     "data": {
      "text/plain": [
       "10"
      ]
     },
     "execution_count": 38,
     "metadata": {},
     "output_type": "execute_result"
    }
   ],
   "source": [
    "##\n",
    "np.max(X)\n",
    "X.max()\n",
    "np.min(X)\n",
    "X.min()"
   ]
  },
  {
   "cell_type": "code",
   "execution_count": 46,
   "id": "6b34279e-68b8-47a9-bf05-3b2030b6a0d8",
   "metadata": {
    "tags": []
   },
   "outputs": [
    {
     "data": {
      "text/plain": [
       "33.0"
      ]
     },
     "execution_count": 46,
     "metadata": {},
     "output_type": "execute_result"
    }
   ],
   "source": [
    "#percentile\n",
    "np.quantile(X,.25)\n",
    "np.percentile(X,25)\n",
    "X.quantile(.25)\n",
    "# X.median()\n",
    "# X.mean()"
   ]
  },
  {
   "cell_type": "code",
   "execution_count": 51,
   "id": "5a62fc05-41ae-4ef5-9e48-011db7913d8f",
   "metadata": {
    "tags": []
   },
   "outputs": [
    {
     "data": {
      "text/plain": [
       "26.631225979988173"
      ]
     },
     "execution_count": 51,
     "metadata": {},
     "output_type": "execute_result"
    }
   ],
   "source": [
    "# 분산\n",
    "x_var = np.var(X)\n",
    "# 표준편차\n",
    "np.sqrt(x_var)\n",
    "np.std(X)\n",
    "\n",
    "X.var()\n",
    "X.std()"
   ]
  },
  {
   "cell_type": "code",
   "execution_count": 54,
   "id": "83fc692a-3ada-4c80-886c-062b66fafbf8",
   "metadata": {
    "tags": []
   },
   "outputs": [
    {
     "data": {
      "text/plain": [
       "26.631225979988177"
      ]
     },
     "execution_count": 54,
     "metadata": {},
     "output_type": "execute_result"
    }
   ],
   "source": [
    "np.sqrt(np.sum(np.square((X - X.mean())))/(X.size-1))"
   ]
  },
  {
   "cell_type": "code",
   "execution_count": 63,
   "id": "ce86c0ab-8ea1-44f1-96c2-75a034e35f84",
   "metadata": {
    "tags": []
   },
   "outputs": [
    {
     "data": {
      "text/plain": [
       "'20'"
      ]
     },
     "execution_count": 63,
     "metadata": {},
     "output_type": "execute_result"
    }
   ],
   "source": [
    "X.mode()\n",
    "X.astype(str).describe()[\"top\"]"
   ]
  },
  {
   "cell_type": "code",
   "execution_count": 75,
   "id": "585c4109-4146-4dbb-8aa3-389353705895",
   "metadata": {
    "tags": []
   },
   "outputs": [],
   "source": [
    "import matplotlib.pyplot as plt"
   ]
  },
  {
   "cell_type": "code",
   "execution_count": 65,
   "id": "d55da822-5241-41d0-baa0-da7db75b966d",
   "metadata": {
    "tags": []
   },
   "outputs": [],
   "source": [
    "import warnings\n",
    "warnings.filterwarnings('ignore')"
   ]
  },
  {
   "cell_type": "code",
   "execution_count": 77,
   "id": "2498fa2c-e081-4f41-b771-63a736f470a1",
   "metadata": {
    "tags": []
   },
   "outputs": [
    {
     "data": {
      "image/png": "[encoded data removed]",
      "text/plain": [
       "<Figure size 200x200 with 1 Axes>"
      ]
     },
     "metadata": {},
     "output_type": "display_data"
    }
   ],
   "source": [
    "x = np.linspace(0,20,1000)\n",
    "y = np.sin(x)\n",
    "\n",
    "fig, ax = plt.subplots()\n",
    "\n",
    "ax.plot(x, y, linewidth=2.0)\n",
    "\n",
    "ax.set(xlim=(0, 8), xticks=np.arange(1, 8),\n",
    "       ylim=(0, 8), yticks=np.arange(1, 8))\n",
    "\n",
    "plt.show()"
   ]
  },
  {
   "cell_type": "code",
   "execution_count": 78,
   "id": "16c00f8a-55d6-488b-a90b-74082b450925",
   "metadata": {
    "tags": []
   },
   "outputs": [],
   "source": [
    "x = np.random.randn(20)\n",
    "y = np.random.randn(20)"
   ]
  },
  {
   "cell_type": "code",
   "execution_count": 81,
   "id": "08882d2a-ee7f-497b-962f-6d2ab46bef24",
   "metadata": {
    "tags": []
   },
   "outputs": [
    {
     "data": {
      "text/plain": [
       "[<matplotlib.lines.Line2D at 0x2def85b4d50>]"
      ]
     },
     "execution_count": 81,
     "metadata": {},
     "output_type": "execute_result"
    },
    {
     "data": {
      "image/png": "[encoded data removed]",
      "text/plain": [
       "<Figure size 200x200 with 1 Axes>"
      ]
     },
     "metadata": {},
     "output_type": "display_data"
    }
   ],
   "source": [
    "plt.plot(x,y)"
   ]
  },
  {
   "cell_type": "code",
   "execution_count": 82,
   "id": "caaf40f9-0342-4cac-ac3c-0e69f46a835f",
   "metadata": {
    "tags": []
   },
   "outputs": [
    {
     "data": {
      "text/plain": [
       "<matplotlib.collections.PathCollection at 0x2def85e33d0>"
      ]
     },
     "execution_count": 82,
     "metadata": {},
     "output_type": "execute_result"
    },
    {
     "data": {
      "image/png": "[encoded data removed]",
      "text/plain": [
       "<Figure size 200x200 with 1 Axes>"
      ]
     },
     "metadata": {},
     "output_type": "display_data"
    }
   ],
   "source": [
    "plt.scatter(x,y)"
   ]
  },
  {
   "cell_type": "code",
   "execution_count": 87,
   "id": "d1ed7067-474a-478b-b453-bafeed803e10",
   "metadata": {
    "tags": []
   },
   "outputs": [],
   "source": [
    "x\n",
    "y = x*3 + np.random.randn(20)"
   ]
  },
  {
   "cell_type": "code",
   "execution_count": 88,
   "id": "8d43a108-7cf7-44d7-9864-69e0c83822ad",
   "metadata": {
    "tags": []
   },
   "outputs": [
    {
     "data": {
      "text/plain": [
       "<matplotlib.collections.PathCollection at 0x2def86f4550>"
      ]
     },
     "execution_count": 88,
     "metadata": {},
     "output_type": "execute_result"
    },
    {
     "data": {
      "image/png": "[encoded data removed]",
      "text/plain": [
       "<Figure size 200x200 with 1 Axes>"
      ]
     },
     "metadata": {},
     "output_type": "display_data"
    }
   ],
   "source": [
    "plt.scatter(x,y)"
   ]
  },
  {
   "cell_type": "code",
   "execution_count": 94,
   "id": "0fad2d86-851f-48fe-9a40-f89868b6e81b",
   "metadata": {
    "tags": []
   },
   "outputs": [],
   "source": [
    "x = np.random.randn(100000)"
   ]
  },
  {
   "cell_type": "code",
   "execution_count": 95,
   "id": "e02d012f-782c-4612-913a-df181a5a145f",
   "metadata": {
    "tags": []
   },
   "outputs": [
    {
     "data": {
      "text/plain": [
       "(array([1.000e+00, 2.000e+00, 0.000e+00, 1.000e+00, 1.000e+00, 5.000e+00,\n",
       "        9.000e+00, 6.000e+00, 1.600e+01, 2.500e+01, 1.800e+01, 3.700e+01,\n",
       "        4.700e+01, 9.300e+01, 1.240e+02, 1.850e+02, 2.190e+02, 3.130e+02,\n",
       "        3.890e+02, 5.390e+02, 6.660e+02, 8.730e+02, 1.097e+03, 1.282e+03,\n",
       "        1.586e+03, 1.831e+03, 2.227e+03, 2.566e+03, 2.890e+03, 3.389e+03,\n",
       "        3.647e+03, 4.006e+03, 4.305e+03, 4.513e+03, 4.734e+03, 4.894e+03,\n",
       "        4.996e+03, 4.873e+03, 4.654e+03, 4.674e+03, 4.398e+03, 4.195e+03,\n",
       "        3.717e+03, 3.451e+03, 3.122e+03, 2.688e+03, 2.354e+03, 2.035e+03,\n",
       "        1.728e+03, 1.468e+03, 1.155e+03, 9.460e+02, 7.650e+02, 5.840e+02,\n",
       "        4.440e+02, 3.460e+02, 2.490e+02, 1.970e+02, 1.200e+02, 9.600e+01,\n",
       "        6.300e+01, 4.900e+01, 3.300e+01, 2.600e+01, 1.700e+01, 7.000e+00,\n",
       "        5.000e+00, 5.000e+00, 2.000e+00, 2.000e+00]),\n",
       " array([-4.51129305, -4.38836284, -4.26543264, -4.14250243, -4.01957223,\n",
       "        -3.89664202, -3.77371182, -3.65078161, -3.52785141, -3.4049212 ,\n",
       "        -3.281991  , -3.15906079, -3.03613059, -2.91320038, -2.79027018,\n",
       "        -2.66733997, -2.54440977, -2.42147956, -2.29854936, -2.17561915,\n",
       "        -2.05268895, -1.92975874, -1.80682854, -1.68389833, -1.56096813,\n",
       "        -1.43803792, -1.31510772, -1.19217751, -1.06924731, -0.9463171 ,\n",
       "        -0.8233869 , -0.70045669, -0.57752649, -0.45459628, -0.33166608,\n",
       "        -0.20873587, -0.08580567,  0.03712454,  0.16005474,  0.28298495,\n",
       "         0.40591515,  0.52884536,  0.65177556,  0.77470577,  0.89763597,\n",
       "         1.02056618,  1.14349638,  1.26642659,  1.38935679,  1.512287  ,\n",
       "         1.63521721,  1.75814741,  1.88107762,  2.00400782,  2.12693803,\n",
       "         2.24986823,  2.37279844,  2.49572864,  2.61865885,  2.74158905,\n",
       "         2.86451926,  2.98744946,  3.11037967,  3.23330987,  3.35624008,\n",
       "         3.47917028,  3.60210049,  3.72503069,  3.8479609 ,  3.9708911 ,\n",
       "         4.09382131]),\n",
       " <BarContainer object of 70 artists>)"
      ]
     },
     "execution_count": 95,
     "metadata": {},
     "output_type": "execute_result"
    },
    {
     "data": {
      "image/png": "[encoded data removed]",
      "text/plain": [
       "<Figure size 200x200 with 1 Axes>"
      ]
     },
     "metadata": {},
     "output_type": "display_data"
    }
   ],
   "source": [
    "plt.hist(x,bins=70)"
   ]
  },
  {
   "cell_type": "code",
   "execution_count": null,
   "id": "7c2daf9e-5c74-4f96-b730-898d5bfee703",
   "metadata": {},
   "outputs": [],
   "source": [
    "# statictical graph  plot, boxpolt, hist, scatter\n",
    "# visualiaztion categorical graph bar(stacked bar), pie,\n",
    "# line, map, heatmap "
   ]
  },
  {
   "cell_type": "code",
   "execution_count": 97,
   "id": "a3a9e1ce-87ff-427b-99ed-c32534b99781",
   "metadata": {
    "tags": []
   },
   "outputs": [
    {
     "data": {
      "text/plain": [
       "{'whiskers': [<matplotlib.lines.Line2D at 0x2def8a2d610>,\n",
       "  <matplotlib.lines.Line2D at 0x2def8a2e1d0>],\n",
       " 'caps': [<matplotlib.lines.Line2D at 0x2def8a2ed90>,\n",
       "  <matplotlib.lines.Line2D at 0x2def8a2f850>],\n",
       " 'boxes': [<matplotlib.lines.Line2D at 0x2def8a2ca10>],\n",
       " 'medians': [<matplotlib.lines.Line2D at 0x2def8a40390>],\n",
       " 'fliers': [<matplotlib.lines.Line2D at 0x2def8a40e10>],\n",
       " 'means': []}"
      ]
     },
     "execution_count": 97,
     "metadata": {},
     "output_type": "execute_result"
    },
    {
     "data": {
      "image/png": "[encoded data removed]",
      "text/plain": [
       "<Figure size 200x200 with 1 Axes>"
      ]
     },
     "metadata": {},
     "output_type": "display_data"
    }
   ],
   "source": [
    "plt.boxplot(x,vert=False)"
   ]
  },
  {
   "cell_type": "code",
   "execution_count": 98,
   "id": "5e98e22c-1f7b-4b18-96f3-b211fd513081",
   "metadata": {
    "tags": []
   },
   "outputs": [],
   "source": [
    "import pandas as pd"
   ]
  },
  {
   "cell_type": "code",
   "execution_count": 102,
   "id": "4afc969c-24b0-4343-bb14-aa62ed2cffdf",
   "metadata": {
    "tags": []
   },
   "outputs": [],
   "source": [
    "df = pd.read_csv('https://bit.ly/3RhoNho')"
   ]
  },
  {
   "cell_type": "code",
   "execution_count": 112,
   "id": "2d1c3397-42f8-4dbc-a34b-ea230df2fb15",
   "metadata": {
    "tags": []
   },
   "outputs": [
    {
     "data": {
      "text/plain": [
       "Index(['번호', '도서명', '저자', '출판사', '발행년도', 'ISBN', '세트 ISBN', '부가기호', '권',\n",
       "       '주제분류번호', 'book_cnt', 'borrow_cnt', '등록일자', 'Unnamed: 13'],\n",
       "      dtype='object')"
      ]
     },
     "execution_count": 112,
     "metadata": {},
     "output_type": "execute_result"
    }
   ],
   "source": [
    "df.columns"
   ]
  },
  {
   "cell_type": "code",
   "execution_count": 111,
   "id": "b4d84d3c-e0dd-4c57-b252-2b7cf69d2ee8",
   "metadata": {
    "tags": []
   },
   "outputs": [],
   "source": [
    "df.rename(columns={'도서권수':'book_cnt','대출건수':'borrow_cnt'},inplace=True)"
   ]
  },
  {
   "cell_type": "code",
   "execution_count": 113,
   "id": "ca3a2c33-0f72-4da3-956f-ac40bc08d0ff",
   "metadata": {
    "tags": []
   },
   "outputs": [
    {
     "data": {
      "text/plain": [
       "<Axes: xlabel='book_cnt', ylabel='borrow_cnt'>"
      ]
     },
     "execution_count": 113,
     "metadata": {},
     "output_type": "execute_result"
    },
    {
     "data": {
      "image/png": "[encoded data removed]",
      "text/plain": [
       "<Figure size 200x200 with 1 Axes>"
      ]
     },
     "metadata": {},
     "output_type": "display_data"
    }
   ],
   "source": [
    "df.plot.scatter('book_cnt','borrow_cnt',alpha=.3)"
   ]
  },
  {
   "cell_type": "code",
   "execution_count": 125,
   "id": "40f435c2-9c1e-4515-a486-a3a5218c2a93",
   "metadata": {
    "tags": []
   },
   "outputs": [
    {
     "data": {
      "text/plain": [
       "<Axes: ylabel='Frequency'>"
      ]
     },
     "execution_count": 125,
     "metadata": {},
     "output_type": "execute_result"
    },
    {
     "data": {
      "image/png": "[encoded data removed]",
      "text/plain": [
       "<Figure size 200x200 with 1 Axes>"
      ]
     },
     "metadata": {},
     "output_type": "display_data"
    }
   ],
   "source": [
    "df.도서명.dropna().str.len().astype(int).plot.hist(bins=100)"
   ]
  },
  {
   "cell_type": "code",
   "execution_count": 126,
   "id": "d59be28b-186f-4eda-a719-f821df16ac66",
   "metadata": {
    "tags": []
   },
   "outputs": [
    {
     "data": {
      "text/plain": [
       "<Axes: >"
      ]
     },
     "execution_count": 126,
     "metadata": {},
     "output_type": "execute_result"
    },
    {
     "data": {
      "image/png": "[encoded data removed]",
      "text/plain": [
       "<Figure size 200x200 with 1 Axes>"
      ]
     },
     "metadata": {},
     "output_type": "display_data"
    }
   ],
   "source": [
    "df[['book_cnt','borrow_cnt']].boxplot()"
   ]
  },
  {
   "cell_type": "code",
   "execution_count": 127,
   "id": "12e8c0dd-aeaa-42f8-b136-56356df06750",
   "metadata": {
    "tags": []
   },
   "outputs": [],
   "source": [
    "import matplotlib"
   ]
  },
  {
   "cell_type": "code",
   "execution_count": 128,
   "id": "f1b666ff-b4b7-4cd9-802e-785cd99bf58c",
   "metadata": {
    "collapsed": true,
    "jupyter": {
     "outputs_hidden": true
    },
    "tags": []
   },
   "outputs": [
    {
     "data": {
      "text/plain": [
       "['ExecutableNotFoundError',\n",
       " 'MatplotlibDeprecationWarning',\n",
       " 'MutableMapping',\n",
       " 'Parameter',\n",
       " 'Path',\n",
       " 'RcParams',\n",
       " '_ExecInfo',\n",
       " '_VersionInfo',\n",
       " '__bibtex__',\n",
       " '__builtins__',\n",
       " '__cached__',\n",
       " '__doc__',\n",
       " '__file__',\n",
       " '__getattr__',\n",
       " '__loader__',\n",
       " '__name__',\n",
       " '__package__',\n",
       " '__path__',\n",
       " '__spec__',\n",
       " '_add_data_doc',\n",
       " '_afm',\n",
       " '_api',\n",
       " '_blocking_input',\n",
       " '_c_internal_utils',\n",
       " '_check_versions',\n",
       " '_cm',\n",
       " '_cm_listed',\n",
       " '_color_data',\n",
       " '_constrained_layout',\n",
       " '_deprecated_ignore_map',\n",
       " '_deprecated_map',\n",
       " '_deprecated_remain_as_none',\n",
       " '_docstring',\n",
       " '_ensure_handler',\n",
       " '_enums',\n",
       " '_fontconfig_pattern',\n",
       " '_get_config_or_cache_dir',\n",
       " '_get_executable_info',\n",
       " '_get_ssl_context',\n",
       " '_get_version',\n",
       " '_get_xdg_cache_dir',\n",
       " '_get_xdg_config_dir',\n",
       " '_image',\n",
       " '_init_tests',\n",
       " '_label_from_arg',\n",
       " '_layoutgrid',\n",
       " '_log',\n",
       " '_logged_cached',\n",
       " '_mathtext',\n",
       " '_mathtext_data',\n",
       " '_open_file_or_url',\n",
       " '_parse_to_version_info',\n",
       " '_path',\n",
       " '_preprocess_data',\n",
       " '_pylab_helpers',\n",
       " '_rc_params_in_file',\n",
       " '_replacer',\n",
       " '_text_helpers',\n",
       " '_tight_bbox',\n",
       " '_tight_layout',\n",
       " '_version',\n",
       " 'artist',\n",
       " 'atexit',\n",
       " 'axes',\n",
       " 'axis',\n",
       " 'backend_bases',\n",
       " 'backend_managers',\n",
       " 'backend_tools',\n",
       " 'backends',\n",
       " 'bezier',\n",
       " 'category',\n",
       " 'cbook',\n",
       " 'checkdep_usetex',\n",
       " 'cm',\n",
       " 'collections',\n",
       " 'color_sequences',\n",
       " 'colorbar',\n",
       " 'colormaps',\n",
       " 'colors',\n",
       " 'container',\n",
       " 'contextlib',\n",
       " 'contour',\n",
       " 'cycler',\n",
       " 'dates',\n",
       " 'defaultParams',\n",
       " 'dviread',\n",
       " 'figure',\n",
       " 'font_manager',\n",
       " 'ft2font',\n",
       " 'functools',\n",
       " 'get_backend',\n",
       " 'get_cachedir',\n",
       " 'get_configdir',\n",
       " 'get_data_path',\n",
       " 'gridspec',\n",
       " 'hatch',\n",
       " 'image',\n",
       " 'importlib',\n",
       " 'inspect',\n",
       " 'interactive',\n",
       " 'is_interactive',\n",
       " 'layout_engine',\n",
       " 'legend',\n",
       " 'legend_handler',\n",
       " 'lines',\n",
       " 'locale',\n",
       " 'logging',\n",
       " 'markers',\n",
       " 'mathtext',\n",
       " 'matplotlib_fname',\n",
       " 'mlab',\n",
       " 'namedtuple',\n",
       " 'numpy',\n",
       " 'offsetbox',\n",
       " 'os',\n",
       " 'parse_version',\n",
       " 'patches',\n",
       " 'path',\n",
       " 'pprint',\n",
       " 'projections',\n",
       " 'pyplot',\n",
       " 'quiver',\n",
       " 'rc',\n",
       " 'rcParams',\n",
       " 'rcParamsDefault',\n",
       " 'rcParamsOrig',\n",
       " 'rc_context',\n",
       " 'rc_file',\n",
       " 'rc_file_defaults',\n",
       " 'rc_params',\n",
       " 'rc_params_from_file',\n",
       " 'rcdefaults',\n",
       " 'rcsetup',\n",
       " 're',\n",
       " 'sanitize_sequence',\n",
       " 'scale',\n",
       " 'set_loglevel',\n",
       " 'shutil',\n",
       " 'spines',\n",
       " 'stackplot',\n",
       " 'streamplot',\n",
       " 'style',\n",
       " 'subprocess',\n",
       " 'sys',\n",
       " 'table',\n",
       " 'tempfile',\n",
       " 'texmanager',\n",
       " 'text',\n",
       " 'textpath',\n",
       " 'ticker',\n",
       " 'transforms',\n",
       " 'tri',\n",
       " 'units',\n",
       " 'use',\n",
       " 'validate_backend',\n",
       " 'warnings',\n",
       " 'widgets']"
      ]
     },
     "execution_count": 128,
     "metadata": {},
     "output_type": "execute_result"
    }
   ],
   "source": [
    "dir(matplotlib)"
   ]
  },
  {
   "cell_type": "code",
   "execution_count": 129,
   "id": "5f0ade67-6f04-4761-871d-60840a9fcf92",
   "metadata": {
    "tags": []
   },
   "outputs": [],
   "source": [
    "import matplotlib.pyplot as plt"
   ]
  },
  {
   "cell_type": "code",
   "execution_count": 136,
   "id": "4b86a052-7803-44d2-a90a-bc31507483d6",
   "metadata": {
    "tags": []
   },
   "outputs": [
    {
     "data": {
      "text/plain": [
       "<matplotlib.collections.PathCollection at 0x2de96f363d0>"
      ]
     },
     "execution_count": 136,
     "metadata": {},
     "output_type": "execute_result"
    },
    {
     "data": {
      "image/png": "[encoded data removed]",
      "text/plain": [
       "<Figure size 1250x833.333 with 1 Axes>"
      ]
     },
     "metadata": {},
     "output_type": "display_data"
    }
   ],
   "source": [
    "#'book_cnt','borrow_cnt'\n",
    "%matplotlib inline\n",
    "plt.figure(figsize=(900/72,600/72))\n",
    "plt.scatter(df['book_cnt'],df['borrow_cnt'],alpha=.3)"
   ]
  },
  {
   "cell_type": "code",
   "execution_count": 143,
   "id": "42198ff2-695e-4868-87a2-b4d01d7081d1",
   "metadata": {
    "tags": []
   },
   "outputs": [
    {
     "data": {
      "text/plain": [
       "0         0\n",
       "1         0\n",
       "2         0\n",
       "3         0\n",
       "4         0\n",
       "         ..\n",
       "401677    0\n",
       "401678    0\n",
       "401679    0\n",
       "401680    0\n",
       "401681    0\n",
       "Name: borrow_cnt, Length: 401682, dtype: int64"
      ]
     },
     "execution_count": 143,
     "metadata": {},
     "output_type": "execute_result"
    }
   ],
   "source": [
    "df['borrow_cnt']"
   ]
  },
  {
   "cell_type": "code",
   "execution_count": 145,
   "id": "4a346a09-5904-4d18-bcf2-f7a60391e9a1",
   "metadata": {
    "tags": []
   },
   "outputs": [
    {
     "data": {
      "image/png": "[encoded data removed]",
      "text/plain": [
       "<Figure size 200x200 with 2 Axes>"
      ]
     },
     "metadata": {},
     "output_type": "display_data"
    }
   ],
   "source": [
    "fig, ax = plt.subplots(2)\n",
    "ax[1].scatter(df['book_cnt'],df['borrow_cnt'],alpha=.3)\n",
    "ax[0].hist(df['borrow_cnt'],bins=100)\n",
    "ax[0].set_yscale('log')\n",
    "fig.show()"
   ]
  },
  {
   "cell_type": "code",
   "execution_count": 146,
   "id": "016f4bb3-4e57-4bdf-8134-ed5777ed9af1",
   "metadata": {
    "tags": []
   },
   "outputs": [],
   "source": [
    "def abc():\n",
    "    return 10, 20"
   ]
  },
  {
   "cell_type": "code",
   "execution_count": 152,
   "id": "b4394681-5f57-4233-a06a-cee1d552e4cf",
   "metadata": {
    "tags": []
   },
   "outputs": [
    {
     "data": {
      "text/plain": [
       "10"
      ]
     },
     "execution_count": 152,
     "metadata": {},
     "output_type": "execute_result"
    }
   ],
   "source": [
    "[1,2,3,3][0]"
   ]
  },
  {
   "cell_type": "code",
   "execution_count": 158,
   "id": "dee99c1f-d89b-4cd5-826d-1976cd03ff1c",
   "metadata": {
    "tags": []
   },
   "outputs": [
    {
     "data": {
      "text/plain": [
       "[(0, 10), (1, 20)]"
      ]
     },
     "execution_count": 158,
     "metadata": {},
     "output_type": "execute_result"
    }
   ],
   "source": [
    "[ (i,j )for i ,j in enumerate(abc())]"
   ]
  },
  {
   "cell_type": "code",
   "execution_count": 163,
   "id": "e3f1219c-2668-4724-bba8-46f711a15953",
   "metadata": {
    "tags": []
   },
   "outputs": [],
   "source": [
    "np.random.seed(10)\n",
    "x = np.random.randint(5,10,7)"
   ]
  },
  {
   "cell_type": "code",
   "execution_count": 176,
   "id": "c33d9561-6d96-4cf7-8a2f-196b0ccd3b0e",
   "metadata": {
    "tags": []
   },
   "outputs": [
    {
     "data": {
      "text/plain": [
       "array([9, 5, 6, 8])"
      ]
     },
     "execution_count": 176,
     "metadata": {},
     "output_type": "execute_result"
    }
   ],
   "source": [
    "# fancy indexing\n",
    "x[0]\n",
    "x[1:5]\n",
    "x[[0,2,2,2,3,3,3,3]]\n",
    "# boolean indexing\n",
    "x[[False,True,False,False,True,True,False]]\n",
    "x[x >= 8]"
   ]
  },
  {
   "cell_type": "code",
   "execution_count": 177,
   "id": "9984c42a-62d1-44c6-990b-e08cd51f0677",
   "metadata": {
    "tags": []
   },
   "outputs": [],
   "source": [
    "x = np.random.randint(3,10,size=(4,2))"
   ]
  },
  {
   "cell_type": "code",
   "execution_count": 188,
   "id": "d34af666-c9e2-436e-af3f-f4ce2b9713b4",
   "metadata": {
    "tags": []
   },
   "outputs": [
    {
     "data": {
      "text/plain": [
       "array([[5, 3],\n",
       "       [4, 3]])"
      ]
     },
     "execution_count": 188,
     "metadata": {},
     "output_type": "execute_result"
    }
   ],
   "source": [
    "x[[2,3],:]"
   ]
  },
  {
   "cell_type": "code",
   "execution_count": 192,
   "id": "8566cde8-dc00-4e96-aa3b-e4f77b1453d0",
   "metadata": {
    "tags": []
   },
   "outputs": [],
   "source": [
    "x = np.random.randint(3,10,size=(4,3))"
   ]
  },
  {
   "cell_type": "code",
   "execution_count": 193,
   "id": "9d4ffd00-a693-486a-8307-a6884739eb34",
   "metadata": {
    "tags": []
   },
   "outputs": [],
   "source": [
    "x = pd.DataFrame(x)"
   ]
  },
  {
   "cell_type": "code",
   "execution_count": 197,
   "id": "c9663f58-5c3d-43f6-994a-acd03718d198",
   "metadata": {
    "tags": []
   },
   "outputs": [
    {
     "data": {
      "text/plain": [
       "0    9\n",
       "1    5\n",
       "2    3\n",
       "3    4\n",
       "Name: 0, dtype: int32"
      ]
     },
     "execution_count": 197,
     "metadata": {},
     "output_type": "execute_result"
    }
   ],
   "source": [
    "## iloc, loc\n",
    "# x.iloc[,]\n",
    "# x.loc[,]\n",
    "x[0]"
   ]
  },
  {
   "cell_type": "code",
   "execution_count": 204,
   "id": "4b12571d-340a-499c-8fb4-90517283241d",
   "metadata": {
    "tags": []
   },
   "outputs": [],
   "source": [
    "x.columns = ['a','b a','c']"
   ]
  },
  {
   "cell_type": "code",
   "execution_count": 209,
   "id": "b31c75e1-455d-42d2-8541-d6072c1f1a93",
   "metadata": {
    "tags": []
   },
   "outputs": [],
   "source": [
    "x.columns = x.columns.str.replace(\" \",\"\")"
   ]
  },
  {
   "cell_type": "code",
   "execution_count": 210,
   "id": "1af89764-e694-4a28-94f8-dd8b36b16802",
   "metadata": {
    "tags": []
   },
   "outputs": [
    {
     "data": {
      "text/plain": [
       "Index(['a', 'ba', 'c'], dtype='object')"
      ]
     },
     "execution_count": 210,
     "metadata": {},
     "output_type": "execute_result"
    }
   ],
   "source": [
    "x.columns"
   ]
  },
  {
   "cell_type": "code",
   "execution_count": 213,
   "id": "c8a49169-4c86-4e2b-abf1-66811e954d42",
   "metadata": {
    "collapsed": true,
    "jupyter": {
     "outputs_hidden": true
    },
    "tags": []
   },
   "outputs": [
    {
     "data": {
      "text/html": [
       "<div>\n",
       "<style scoped>\n",
       "    .dataframe tbody tr th:only-of-type {\n",
       "        vertical-align: middle;\n",
       "    }\n",
       "\n",
       "    .dataframe tbody tr th {\n",
       "        vertical-align: top;\n",
       "    }\n",
       "\n",
       "    .dataframe thead th {\n",
       "        text-align: right;\n",
       "    }\n",
       "</style>\n",
       "<table border=\"1\" class=\"dataframe\">\n",
       "  <thead>\n",
       "    <tr style=\"text-align: right;\">\n",
       "      <th></th>\n",
       "      <th>번호</th>\n",
       "      <th>도서명</th>\n",
       "      <th>저자</th>\n",
       "      <th>출판사</th>\n",
       "      <th>발행년도</th>\n",
       "      <th>ISBN</th>\n",
       "      <th>세트 ISBN</th>\n",
       "      <th>부가기호</th>\n",
       "      <th>권</th>\n",
       "      <th>주제분류번호</th>\n",
       "      <th>book_cnt</th>\n",
       "      <th>borrow_cnt</th>\n",
       "      <th>등록일자</th>\n",
       "      <th>Unnamed: 13</th>\n",
       "    </tr>\n",
       "  </thead>\n",
       "  <tbody>\n",
       "    <tr>\n",
       "      <th>0</th>\n",
       "      <td>1</td>\n",
       "      <td>인공지능과 흙</td>\n",
       "      <td>김동훈 지음</td>\n",
       "      <td>민음사</td>\n",
       "      <td>2021</td>\n",
       "      <td>9788937444319</td>\n",
       "      <td>NaN</td>\n",
       "      <td>NaN</td>\n",
       "      <td>NaN</td>\n",
       "      <td>NaN</td>\n",
       "      <td>1</td>\n",
       "      <td>0</td>\n",
       "      <td>2021-03-19</td>\n",
       "      <td>NaN</td>\n",
       "    </tr>\n",
       "    <tr>\n",
       "      <th>1</th>\n",
       "      <td>2</td>\n",
       "      <td>가짜 행복 권하는 사회</td>\n",
       "      <td>김태형 지음</td>\n",
       "      <td>갈매나무</td>\n",
       "      <td>2021</td>\n",
       "      <td>9791190123969</td>\n",
       "      <td>NaN</td>\n",
       "      <td>NaN</td>\n",
       "      <td>NaN</td>\n",
       "      <td>NaN</td>\n",
       "      <td>1</td>\n",
       "      <td>0</td>\n",
       "      <td>2021-03-19</td>\n",
       "      <td>NaN</td>\n",
       "    </tr>\n",
       "    <tr>\n",
       "      <th>2</th>\n",
       "      <td>3</td>\n",
       "      <td>나도 한 문장 잘 쓰면 바랄 게 없겠네</td>\n",
       "      <td>김선영 지음</td>\n",
       "      <td>블랙피쉬</td>\n",
       "      <td>2021</td>\n",
       "      <td>9788968332982</td>\n",
       "      <td>NaN</td>\n",
       "      <td>NaN</td>\n",
       "      <td>NaN</td>\n",
       "      <td>NaN</td>\n",
       "      <td>1</td>\n",
       "      <td>0</td>\n",
       "      <td>2021-03-19</td>\n",
       "      <td>NaN</td>\n",
       "    </tr>\n",
       "    <tr>\n",
       "      <th>3</th>\n",
       "      <td>4</td>\n",
       "      <td>예루살렘 해변</td>\n",
       "      <td>이도 게펜 지음, 임재희 옮김</td>\n",
       "      <td>문학세계사</td>\n",
       "      <td>2021</td>\n",
       "      <td>9788970759906</td>\n",
       "      <td>NaN</td>\n",
       "      <td>NaN</td>\n",
       "      <td>NaN</td>\n",
       "      <td>NaN</td>\n",
       "      <td>1</td>\n",
       "      <td>0</td>\n",
       "      <td>2021-03-19</td>\n",
       "      <td>NaN</td>\n",
       "    </tr>\n",
       "    <tr>\n",
       "      <th>4</th>\n",
       "      <td>5</td>\n",
       "      <td>김성곤의 중국한시기행 : 장강·황하 편</td>\n",
       "      <td>김성곤 지음</td>\n",
       "      <td>김영사</td>\n",
       "      <td>2021</td>\n",
       "      <td>9788934990833</td>\n",
       "      <td>NaN</td>\n",
       "      <td>NaN</td>\n",
       "      <td>NaN</td>\n",
       "      <td>NaN</td>\n",
       "      <td>1</td>\n",
       "      <td>0</td>\n",
       "      <td>2021-03-19</td>\n",
       "      <td>NaN</td>\n",
       "    </tr>\n",
       "    <tr>\n",
       "      <th>...</th>\n",
       "      <td>...</td>\n",
       "      <td>...</td>\n",
       "      <td>...</td>\n",
       "      <td>...</td>\n",
       "      <td>...</td>\n",
       "      <td>...</td>\n",
       "      <td>...</td>\n",
       "      <td>...</td>\n",
       "      <td>...</td>\n",
       "      <td>...</td>\n",
       "      <td>...</td>\n",
       "      <td>...</td>\n",
       "      <td>...</td>\n",
       "      <td>...</td>\n",
       "    </tr>\n",
       "    <tr>\n",
       "      <th>401677</th>\n",
       "      <td>401678</td>\n",
       "      <td>韓國現代詩大系</td>\n",
       "      <td>채만묵 編著</td>\n",
       "      <td>한국문화사</td>\n",
       "      <td>1996</td>\n",
       "      <td>9788977352971</td>\n",
       "      <td>9788977352988.0</td>\n",
       "      <td>NaN</td>\n",
       "      <td>3</td>\n",
       "      <td>811.608</td>\n",
       "      <td>1</td>\n",
       "      <td>0</td>\n",
       "      <td>1970-01-01</td>\n",
       "      <td>NaN</td>\n",
       "    </tr>\n",
       "    <tr>\n",
       "      <th>401678</th>\n",
       "      <td>401679</td>\n",
       "      <td>뉴 웨이브</td>\n",
       "      <td>제임스 모나코 지음</td>\n",
       "      <td>한나래</td>\n",
       "      <td>1996</td>\n",
       "      <td>9788985367448</td>\n",
       "      <td>9788985367424.0</td>\n",
       "      <td>NaN</td>\n",
       "      <td>2</td>\n",
       "      <td>688.04</td>\n",
       "      <td>1</td>\n",
       "      <td>0</td>\n",
       "      <td>1970-01-01</td>\n",
       "      <td>NaN</td>\n",
       "    </tr>\n",
       "    <tr>\n",
       "      <th>401679</th>\n",
       "      <td>401680</td>\n",
       "      <td>(최인훈 장편소설)화두</td>\n",
       "      <td>최인훈 지음</td>\n",
       "      <td>민음사</td>\n",
       "      <td>1994</td>\n",
       "      <td>9788937401596</td>\n",
       "      <td>9788937401589.0</td>\n",
       "      <td>NaN</td>\n",
       "      <td>2</td>\n",
       "      <td>813.6</td>\n",
       "      <td>1</td>\n",
       "      <td>0</td>\n",
       "      <td>1970-01-01</td>\n",
       "      <td>NaN</td>\n",
       "    </tr>\n",
       "    <tr>\n",
       "      <th>401680</th>\n",
       "      <td>401681</td>\n",
       "      <td>독일 문학과 세계 문학</td>\n",
       "      <td>吳漢鎭 編著</td>\n",
       "      <td>벽호</td>\n",
       "      <td>1995</td>\n",
       "      <td>9788947700368</td>\n",
       "      <td>9788947700405.0</td>\n",
       "      <td>NaN</td>\n",
       "      <td>3</td>\n",
       "      <td>809.05</td>\n",
       "      <td>2</td>\n",
       "      <td>0</td>\n",
       "      <td>1970-01-01</td>\n",
       "      <td>NaN</td>\n",
       "    </tr>\n",
       "    <tr>\n",
       "      <th>401681</th>\n",
       "      <td>401682</td>\n",
       "      <td>참으로 소중한 생각</td>\n",
       "      <td>김일상 지음</td>\n",
       "      <td>동문사</td>\n",
       "      <td>1995</td>\n",
       "      <td>9788970610092</td>\n",
       "      <td>9788970610092.0</td>\n",
       "      <td>0</td>\n",
       "      <td>1</td>\n",
       "      <td>814.6</td>\n",
       "      <td>0</td>\n",
       "      <td>0</td>\n",
       "      <td>1970-01-01</td>\n",
       "      <td>NaN</td>\n",
       "    </tr>\n",
       "  </tbody>\n",
       "</table>\n",
       "<p>401682 rows × 14 columns</p>\n",
       "</div>"
      ],
      "text/plain": [
       "            번호                    도서명                저자    출판사  발행년도  \\\n",
       "0            1                인공지능과 흙            김동훈 지음    민음사  2021   \n",
       "1            2           가짜 행복 권하는 사회            김태형 지음   갈매나무  2021   \n",
       "2            3  나도 한 문장 잘 쓰면 바랄 게 없겠네            김선영 지음   블랙피쉬  2021   \n",
       "3            4                예루살렘 해변  이도 게펜 지음, 임재희 옮김  문학세계사  2021   \n",
       "4            5  김성곤의 중국한시기행 : 장강·황하 편            김성곤 지음    김영사  2021   \n",
       "...        ...                    ...               ...    ...   ...   \n",
       "401677  401678                韓國現代詩大系            채만묵 編著  한국문화사  1996   \n",
       "401678  401679                  뉴 웨이브        제임스 모나코 지음    한나래  1996   \n",
       "401679  401680           (최인훈 장편소설)화두            최인훈 지음    민음사  1994   \n",
       "401680  401681           독일 문학과 세계 문학            吳漢鎭 編著     벽호  1995   \n",
       "401681  401682             참으로 소중한 생각            김일상 지음    동문사  1995   \n",
       "\n",
       "                 ISBN          세트 ISBN 부가기호    권   주제분류번호  book_cnt  \\\n",
       "0       9788937444319              NaN  NaN  NaN      NaN         1   \n",
       "1       9791190123969              NaN  NaN  NaN      NaN         1   \n",
       "2       9788968332982              NaN  NaN  NaN      NaN         1   \n",
       "3       9788970759906              NaN  NaN  NaN      NaN         1   \n",
       "4       9788934990833              NaN  NaN  NaN      NaN         1   \n",
       "...               ...              ...  ...  ...      ...       ...   \n",
       "401677  9788977352971  9788977352988.0  NaN    3  811.608         1   \n",
       "401678  9788985367448  9788985367424.0  NaN    2   688.04         1   \n",
       "401679  9788937401596  9788937401589.0  NaN    2    813.6         1   \n",
       "401680  9788947700368  9788947700405.0  NaN    3   809.05         2   \n",
       "401681  9788970610092  9788970610092.0    0    1    814.6         0   \n",
       "\n",
       "        borrow_cnt        등록일자  Unnamed: 13  \n",
       "0                0  2021-03-19          NaN  \n",
       "1                0  2021-03-19          NaN  \n",
       "2                0  2021-03-19          NaN  \n",
       "3                0  2021-03-19          NaN  \n",
       "4                0  2021-03-19          NaN  \n",
       "...            ...         ...          ...  \n",
       "401677           0  1970-01-01          NaN  \n",
       "401678           0  1970-01-01          NaN  \n",
       "401679           0  1970-01-01          NaN  \n",
       "401680           0  1970-01-01          NaN  \n",
       "401681           0  1970-01-01          NaN  \n",
       "\n",
       "[401682 rows x 14 columns]"
      ]
     },
     "execution_count": 213,
     "metadata": {},
     "output_type": "execute_result"
    }
   ],
   "source": [
    "df"
   ]
  },
  {
   "cell_type": "code",
   "execution_count": 212,
   "id": "e9cba95e-0b40-4e81-80d7-013638cc9c59",
   "metadata": {
    "tags": []
   },
   "outputs": [
    {
     "data": {
      "text/html": [
       "<div>\n",
       "<style scoped>\n",
       "    .dataframe tbody tr th:only-of-type {\n",
       "        vertical-align: middle;\n",
       "    }\n",
       "\n",
       "    .dataframe tbody tr th {\n",
       "        vertical-align: top;\n",
       "    }\n",
       "\n",
       "    .dataframe thead th {\n",
       "        text-align: right;\n",
       "    }\n",
       "</style>\n",
       "<table border=\"1\" class=\"dataframe\">\n",
       "  <thead>\n",
       "    <tr style=\"text-align: right;\">\n",
       "      <th></th>\n",
       "      <th>저자</th>\n",
       "      <th>출판사</th>\n",
       "      <th>발행년도</th>\n",
       "    </tr>\n",
       "  </thead>\n",
       "  <tbody>\n",
       "    <tr>\n",
       "      <th>0</th>\n",
       "      <td>김동훈 지음</td>\n",
       "      <td>민음사</td>\n",
       "      <td>2021</td>\n",
       "    </tr>\n",
       "    <tr>\n",
       "      <th>2</th>\n",
       "      <td>김선영 지음</td>\n",
       "      <td>블랙피쉬</td>\n",
       "      <td>2021</td>\n",
       "    </tr>\n",
       "    <tr>\n",
       "      <th>4</th>\n",
       "      <td>김성곤 지음</td>\n",
       "      <td>김영사</td>\n",
       "      <td>2021</td>\n",
       "    </tr>\n",
       "  </tbody>\n",
       "</table>\n",
       "</div>"
      ],
      "text/plain": [
       "       저자   출판사  발행년도\n",
       "0  김동훈 지음   민음사  2021\n",
       "2  김선영 지음  블랙피쉬  2021\n",
       "4  김성곤 지음   김영사  2021"
      ]
     },
     "execution_count": 212,
     "metadata": {},
     "output_type": "execute_result"
    }
   ],
   "source": [
    "df.loc[[0,2,4],[\"저자\",\"출판사\",\"발행년도\"]]"
   ]
  },
  {
   "cell_type": "code",
   "execution_count": 217,
   "id": "38161c72-0ac2-4a6e-bee7-58e98442962f",
   "metadata": {
    "tags": []
   },
   "outputs": [
    {
     "data": {
      "text/html": [
       "<div>\n",
       "<style scoped>\n",
       "    .dataframe tbody tr th:only-of-type {\n",
       "        vertical-align: middle;\n",
       "    }\n",
       "\n",
       "    .dataframe tbody tr th {\n",
       "        vertical-align: top;\n",
       "    }\n",
       "\n",
       "    .dataframe thead th {\n",
       "        text-align: right;\n",
       "    }\n",
       "</style>\n",
       "<table border=\"1\" class=\"dataframe\">\n",
       "  <thead>\n",
       "    <tr style=\"text-align: right;\">\n",
       "      <th></th>\n",
       "      <th>저자</th>\n",
       "      <th>출판사</th>\n",
       "      <th>발행년도</th>\n",
       "    </tr>\n",
       "  </thead>\n",
       "  <tbody>\n",
       "    <tr>\n",
       "      <th>0</th>\n",
       "      <td>김동훈 지음</td>\n",
       "      <td>민음사</td>\n",
       "      <td>2021</td>\n",
       "    </tr>\n",
       "    <tr>\n",
       "      <th>2</th>\n",
       "      <td>김선영 지음</td>\n",
       "      <td>블랙피쉬</td>\n",
       "      <td>2021</td>\n",
       "    </tr>\n",
       "    <tr>\n",
       "      <th>4</th>\n",
       "      <td>김성곤 지음</td>\n",
       "      <td>김영사</td>\n",
       "      <td>2021</td>\n",
       "    </tr>\n",
       "  </tbody>\n",
       "</table>\n",
       "</div>"
      ],
      "text/plain": [
       "       저자   출판사  발행년도\n",
       "0  김동훈 지음   민음사  2021\n",
       "2  김선영 지음  블랙피쉬  2021\n",
       "4  김성곤 지음   김영사  2021"
      ]
     },
     "execution_count": 217,
     "metadata": {},
     "output_type": "execute_result"
    }
   ],
   "source": [
    "df.loc[[0,2,4],[\"저자\",\"출판사\",\"발행년도\"]]\n",
    "df.loc[[0,2,4],'저자':'발행년도']"
   ]
  },
  {
   "cell_type": "code",
   "execution_count": 215,
   "id": "def1a522-94da-476a-ad63-4de3678a961f",
   "metadata": {
    "tags": []
   },
   "outputs": [
    {
     "data": {
      "text/html": [
       "<div>\n",
       "<style scoped>\n",
       "    .dataframe tbody tr th:only-of-type {\n",
       "        vertical-align: middle;\n",
       "    }\n",
       "\n",
       "    .dataframe tbody tr th {\n",
       "        vertical-align: top;\n",
       "    }\n",
       "\n",
       "    .dataframe thead th {\n",
       "        text-align: right;\n",
       "    }\n",
       "</style>\n",
       "<table border=\"1\" class=\"dataframe\">\n",
       "  <thead>\n",
       "    <tr style=\"text-align: right;\">\n",
       "      <th></th>\n",
       "      <th>저자</th>\n",
       "      <th>출판사</th>\n",
       "      <th>발행년도</th>\n",
       "    </tr>\n",
       "  </thead>\n",
       "  <tbody>\n",
       "    <tr>\n",
       "      <th>0</th>\n",
       "      <td>김동훈 지음</td>\n",
       "      <td>민음사</td>\n",
       "      <td>2021</td>\n",
       "    </tr>\n",
       "    <tr>\n",
       "      <th>2</th>\n",
       "      <td>김선영 지음</td>\n",
       "      <td>블랙피쉬</td>\n",
       "      <td>2021</td>\n",
       "    </tr>\n",
       "    <tr>\n",
       "      <th>4</th>\n",
       "      <td>김성곤 지음</td>\n",
       "      <td>김영사</td>\n",
       "      <td>2021</td>\n",
       "    </tr>\n",
       "  </tbody>\n",
       "</table>\n",
       "</div>"
      ],
      "text/plain": [
       "       저자   출판사  발행년도\n",
       "0  김동훈 지음   민음사  2021\n",
       "2  김선영 지음  블랙피쉬  2021\n",
       "4  김성곤 지음   김영사  2021"
      ]
     },
     "execution_count": 215,
     "metadata": {},
     "output_type": "execute_result"
    }
   ],
   "source": [
    "df.iloc[[0,2,4],[2,3,4]]\n",
    "df.iloc[[0,2,4],2:5]"
   ]
  },
  {
   "cell_type": "code",
   "execution_count": 219,
   "id": "028f58e3-2aa5-4046-934b-6ec2cc40e4a8",
   "metadata": {
    "tags": []
   },
   "outputs": [
    {
     "data": {
      "text/plain": [
       "array([ True, False,  True, ..., False,  True, False])"
      ]
     },
     "execution_count": 219,
     "metadata": {},
     "output_type": "execute_result"
    }
   ],
   "source": [
    "df.index % 2 == 0"
   ]
  },
  {
   "cell_type": "code",
   "execution_count": 220,
   "id": "b36fe72f-37a5-4c2b-8f88-56405da993fd",
   "metadata": {
    "tags": []
   },
   "outputs": [
    {
     "data": {
      "text/html": [
       "<div>\n",
       "<style scoped>\n",
       "    .dataframe tbody tr th:only-of-type {\n",
       "        vertical-align: middle;\n",
       "    }\n",
       "\n",
       "    .dataframe tbody tr th {\n",
       "        vertical-align: top;\n",
       "    }\n",
       "\n",
       "    .dataframe thead th {\n",
       "        text-align: right;\n",
       "    }\n",
       "</style>\n",
       "<table border=\"1\" class=\"dataframe\">\n",
       "  <thead>\n",
       "    <tr style=\"text-align: right;\">\n",
       "      <th></th>\n",
       "      <th>저자</th>\n",
       "      <th>출판사</th>\n",
       "      <th>발행년도</th>\n",
       "    </tr>\n",
       "  </thead>\n",
       "  <tbody>\n",
       "    <tr>\n",
       "      <th>0</th>\n",
       "      <td>김동훈 지음</td>\n",
       "      <td>민음사</td>\n",
       "      <td>2021</td>\n",
       "    </tr>\n",
       "    <tr>\n",
       "      <th>2</th>\n",
       "      <td>김선영 지음</td>\n",
       "      <td>블랙피쉬</td>\n",
       "      <td>2021</td>\n",
       "    </tr>\n",
       "    <tr>\n",
       "      <th>4</th>\n",
       "      <td>김성곤 지음</td>\n",
       "      <td>김영사</td>\n",
       "      <td>2021</td>\n",
       "    </tr>\n",
       "    <tr>\n",
       "      <th>6</th>\n",
       "      <td>아르센 벵거 지음, 이성모 옮김</td>\n",
       "      <td>한즈미디어(한스미디어)</td>\n",
       "      <td>2021</td>\n",
       "    </tr>\n",
       "    <tr>\n",
       "      <th>8</th>\n",
       "      <td>제레미 강 지음</td>\n",
       "      <td>위키북스</td>\n",
       "      <td>2021</td>\n",
       "    </tr>\n",
       "    <tr>\n",
       "      <th>...</th>\n",
       "      <td>...</td>\n",
       "      <td>...</td>\n",
       "      <td>...</td>\n",
       "    </tr>\n",
       "    <tr>\n",
       "      <th>401672</th>\n",
       "      <td>최미애 글;장 루이 볼프 사진</td>\n",
       "      <td>자인</td>\n",
       "      <td>2003</td>\n",
       "    </tr>\n",
       "    <tr>\n",
       "      <th>401674</th>\n",
       "      <td>김정환 지음</td>\n",
       "      <td>이론과 실천</td>\n",
       "      <td>1998</td>\n",
       "    </tr>\n",
       "    <tr>\n",
       "      <th>401676</th>\n",
       "      <td>박정근 지음</td>\n",
       "      <td>우리문학사</td>\n",
       "      <td>1998</td>\n",
       "    </tr>\n",
       "    <tr>\n",
       "      <th>401678</th>\n",
       "      <td>제임스 모나코 지음</td>\n",
       "      <td>한나래</td>\n",
       "      <td>1996</td>\n",
       "    </tr>\n",
       "    <tr>\n",
       "      <th>401680</th>\n",
       "      <td>吳漢鎭 編著</td>\n",
       "      <td>벽호</td>\n",
       "      <td>1995</td>\n",
       "    </tr>\n",
       "  </tbody>\n",
       "</table>\n",
       "<p>200841 rows × 3 columns</p>\n",
       "</div>"
      ],
      "text/plain": [
       "                       저자           출판사  발행년도\n",
       "0                  김동훈 지음           민음사  2021\n",
       "2                  김선영 지음          블랙피쉬  2021\n",
       "4                  김성곤 지음           김영사  2021\n",
       "6       아르센 벵거 지음, 이성모 옮김  한즈미디어(한스미디어)  2021\n",
       "8                제레미 강 지음          위키북스  2021\n",
       "...                   ...           ...   ...\n",
       "401672   최미애 글;장 루이 볼프 사진            자인  2003\n",
       "401674             김정환 지음        이론과 실천  1998\n",
       "401676             박정근 지음         우리문학사  1998\n",
       "401678         제임스 모나코 지음           한나래  1996\n",
       "401680             吳漢鎭 編著            벽호  1995\n",
       "\n",
       "[200841 rows x 3 columns]"
      ]
     },
     "execution_count": 220,
     "metadata": {},
     "output_type": "execute_result"
    }
   ],
   "source": [
    "df.loc[df.index % 2 == 0,[\"저자\",\"출판사\",\"발행년도\"]]"
   ]
  },
  {
   "cell_type": "code",
   "execution_count": 230,
   "id": "465abef0-7890-4785-912d-149fb5e58506",
   "metadata": {
    "collapsed": true,
    "jupyter": {
     "outputs_hidden": true
    },
    "tags": []
   },
   "outputs": [
    {
     "data": {
      "text/html": [
       "<div>\n",
       "<style scoped>\n",
       "    .dataframe tbody tr th:only-of-type {\n",
       "        vertical-align: middle;\n",
       "    }\n",
       "\n",
       "    .dataframe tbody tr th {\n",
       "        vertical-align: top;\n",
       "    }\n",
       "\n",
       "    .dataframe thead th {\n",
       "        text-align: right;\n",
       "    }\n",
       "</style>\n",
       "<table border=\"1\" class=\"dataframe\">\n",
       "  <thead>\n",
       "    <tr style=\"text-align: right;\">\n",
       "      <th></th>\n",
       "      <th>도서명</th>\n",
       "      <th>저자</th>\n",
       "      <th>출판사</th>\n",
       "    </tr>\n",
       "  </thead>\n",
       "  <tbody>\n",
       "    <tr>\n",
       "      <th>0</th>\n",
       "      <td>인공지능과 흙</td>\n",
       "      <td>김동훈 지음</td>\n",
       "      <td>민음사</td>\n",
       "    </tr>\n",
       "    <tr>\n",
       "      <th>2</th>\n",
       "      <td>나도 한 문장 잘 쓰면 바랄 게 없겠네</td>\n",
       "      <td>김선영 지음</td>\n",
       "      <td>블랙피쉬</td>\n",
       "    </tr>\n",
       "    <tr>\n",
       "      <th>4</th>\n",
       "      <td>김성곤의 중국한시기행 : 장강·황하 편</td>\n",
       "      <td>김성곤 지음</td>\n",
       "      <td>김영사</td>\n",
       "    </tr>\n",
       "    <tr>\n",
       "      <th>6</th>\n",
       "      <td>아르센 벵거 자서전 My Life in Red and White</td>\n",
       "      <td>아르센 벵거 지음, 이성모 옮김</td>\n",
       "      <td>한즈미디어(한스미디어)</td>\n",
       "    </tr>\n",
       "    <tr>\n",
       "      <th>8</th>\n",
       "      <td>일잘러의 노션 100% 활용법</td>\n",
       "      <td>제레미 강 지음</td>\n",
       "      <td>위키북스</td>\n",
       "    </tr>\n",
       "    <tr>\n",
       "      <th>...</th>\n",
       "      <td>...</td>\n",
       "      <td>...</td>\n",
       "      <td>...</td>\n",
       "    </tr>\n",
       "    <tr>\n",
       "      <th>401672</th>\n",
       "      <td>미애와 루이, 318일간의 버스여행</td>\n",
       "      <td>최미애 글;장 루이 볼프 사진</td>\n",
       "      <td>자인</td>\n",
       "    </tr>\n",
       "    <tr>\n",
       "      <th>401674</th>\n",
       "      <td>음악이 있는 풍경</td>\n",
       "      <td>김정환 지음</td>\n",
       "      <td>이론과 실천</td>\n",
       "    </tr>\n",
       "    <tr>\n",
       "      <th>401676</th>\n",
       "      <td>큰오빠</td>\n",
       "      <td>박정근 지음</td>\n",
       "      <td>우리문학사</td>\n",
       "    </tr>\n",
       "    <tr>\n",
       "      <th>401678</th>\n",
       "      <td>뉴 웨이브</td>\n",
       "      <td>제임스 모나코 지음</td>\n",
       "      <td>한나래</td>\n",
       "    </tr>\n",
       "    <tr>\n",
       "      <th>401680</th>\n",
       "      <td>독일 문학과 세계 문학</td>\n",
       "      <td>吳漢鎭 編著</td>\n",
       "      <td>벽호</td>\n",
       "    </tr>\n",
       "  </tbody>\n",
       "</table>\n",
       "<p>200841 rows × 3 columns</p>\n",
       "</div>"
      ],
      "text/plain": [
       "                                        도서명                 저자           출판사\n",
       "0                                   인공지능과 흙             김동훈 지음           민음사\n",
       "2                     나도 한 문장 잘 쓰면 바랄 게 없겠네             김선영 지음          블랙피쉬\n",
       "4                     김성곤의 중국한시기행 : 장강·황하 편             김성곤 지음           김영사\n",
       "6       아르센 벵거 자서전 My Life in Red and White  아르센 벵거 지음, 이성모 옮김  한즈미디어(한스미디어)\n",
       "8                          일잘러의 노션 100% 활용법           제레미 강 지음          위키북스\n",
       "...                                     ...                ...           ...\n",
       "401672                  미애와 루이, 318일간의 버스여행   최미애 글;장 루이 볼프 사진            자인\n",
       "401674                            음악이 있는 풍경             김정환 지음        이론과 실천\n",
       "401676                                  큰오빠             박정근 지음         우리문학사\n",
       "401678                                뉴 웨이브         제임스 모나코 지음           한나래\n",
       "401680                         독일 문학과 세계 문학             吳漢鎭 編著            벽호\n",
       "\n",
       "[200841 rows x 3 columns]"
      ]
     },
     "execution_count": 230,
     "metadata": {},
     "output_type": "execute_result"
    }
   ],
   "source": [
    "df1 = df.reset_index()\n",
    "df1.rename(columns={'index':'index1'},inplace=True)\n",
    "df1.iloc[(df1.index1 % 2 == 0).values,2:5]"
   ]
  },
  {
   "cell_type": "code",
   "execution_count": 234,
   "id": "a0099e0a-0243-46a8-89cc-efc4fd9e6f85",
   "metadata": {
    "tags": []
   },
   "outputs": [
    {
     "data": {
      "text/plain": [
       "array([False, False, False, False,  True, False, False, False, False,\n",
       "       False, False, False, False, False])"
      ]
     },
     "execution_count": 234,
     "metadata": {},
     "output_type": "execute_result"
    }
   ],
   "source": [
    "df.columns=='발행년도'"
   ]
  },
  {
   "cell_type": "code",
   "execution_count": 233,
   "id": "26123891-5c56-40a8-82b1-ade38bd6d926",
   "metadata": {
    "collapsed": true,
    "jupyter": {
     "outputs_hidden": true
    },
    "tags": []
   },
   "outputs": [
    {
     "data": {
      "text/html": [
       "<div>\n",
       "<style scoped>\n",
       "    .dataframe tbody tr th:only-of-type {\n",
       "        vertical-align: middle;\n",
       "    }\n",
       "\n",
       "    .dataframe tbody tr th {\n",
       "        vertical-align: top;\n",
       "    }\n",
       "\n",
       "    .dataframe thead th {\n",
       "        text-align: right;\n",
       "    }\n",
       "</style>\n",
       "<table border=\"1\" class=\"dataframe\">\n",
       "  <thead>\n",
       "    <tr style=\"text-align: right;\">\n",
       "      <th></th>\n",
       "      <th>발행년도</th>\n",
       "    </tr>\n",
       "  </thead>\n",
       "  <tbody>\n",
       "    <tr>\n",
       "      <th>0</th>\n",
       "      <td>2021</td>\n",
       "    </tr>\n",
       "    <tr>\n",
       "      <th>1</th>\n",
       "      <td>2021</td>\n",
       "    </tr>\n",
       "    <tr>\n",
       "      <th>2</th>\n",
       "      <td>2021</td>\n",
       "    </tr>\n",
       "    <tr>\n",
       "      <th>3</th>\n",
       "      <td>2021</td>\n",
       "    </tr>\n",
       "    <tr>\n",
       "      <th>4</th>\n",
       "      <td>2021</td>\n",
       "    </tr>\n",
       "    <tr>\n",
       "      <th>...</th>\n",
       "      <td>...</td>\n",
       "    </tr>\n",
       "    <tr>\n",
       "      <th>401677</th>\n",
       "      <td>1996</td>\n",
       "    </tr>\n",
       "    <tr>\n",
       "      <th>401678</th>\n",
       "      <td>1996</td>\n",
       "    </tr>\n",
       "    <tr>\n",
       "      <th>401679</th>\n",
       "      <td>1994</td>\n",
       "    </tr>\n",
       "    <tr>\n",
       "      <th>401680</th>\n",
       "      <td>1995</td>\n",
       "    </tr>\n",
       "    <tr>\n",
       "      <th>401681</th>\n",
       "      <td>1995</td>\n",
       "    </tr>\n",
       "  </tbody>\n",
       "</table>\n",
       "<p>401682 rows × 1 columns</p>\n",
       "</div>"
      ],
      "text/plain": [
       "        발행년도\n",
       "0       2021\n",
       "1       2021\n",
       "2       2021\n",
       "3       2021\n",
       "4       2021\n",
       "...      ...\n",
       "401677  1996\n",
       "401678  1996\n",
       "401679  1994\n",
       "401680  1995\n",
       "401681  1995\n",
       "\n",
       "[401682 rows x 1 columns]"
      ]
     },
     "execution_count": 233,
     "metadata": {},
     "output_type": "execute_result"
    }
   ],
   "source": [
    "df.loc[:,df.columns=='발행년도']"
   ]
  },
  {
   "cell_type": "code",
   "execution_count": 248,
   "id": "0cb2a827-38c7-4089-b01d-e36d7dfa72ff",
   "metadata": {
    "tags": []
   },
   "outputs": [
    {
     "data": {
      "image/png": "[encoded data removed]",
      "text/plain": [
       "<Figure size 900x600 with 2 Axes>"
      ]
     },
     "metadata": {},
     "output_type": "display_data"
    }
   ],
   "source": [
    "fig, ax1 = plt.subplots(1,2, figsize=(9,6))\n",
    "ax1[0] = plt.plot(np.linspace(0,10,100),np.sin(np.linspace(0,10,100)))\n",
    "ax1[1] = plt.bar(['m','f'],[90,95])\n",
    "fig.show()"
   ]
  },
  {
   "cell_type": "code",
   "execution_count": 263,
   "id": "4634a488-6264-49d9-a7a7-1f8ae658ad0e",
   "metadata": {
    "tags": []
   },
   "outputs": [
    {
     "data": {
      "image/png": "[encoded data removed]",
      "text/plain": [
       "<Figure size 1000x1000 with 3 Axes>"
      ]
     },
     "metadata": {},
     "output_type": "display_data"
    }
   ],
   "source": [
    "fig, axs = plt.subplots(3,1,figsize=(10,10))\n",
    "x = df.book_cnt\n",
    "y = df.borrow_cnt\n",
    "axs[0].scatter(x,y,alpha=.3)\n",
    "axs[0].set_title(\"scatter plot\")\n",
    "axs[0].set_xlabel(\"No of Books\")\n",
    "axs[0].set_ylabel(\"Lent\")\n",
    "\n",
    "x = df.borrow_cnt\n",
    "axs[1].set_title(\"Histogram\")\n",
    "axs[1].set_xlabel(\"Range\")\n",
    "axs[1].set_ylabel(\"Lent\")\n",
    "axs[1].hist(x,bins=100)\n",
    "\n",
    "x = [\"Female\",\"Male\"]\n",
    "y = [np.random.choice(100),  np.random.choice(100)]\n",
    "axs[2].set_title('Bar Chart')\n",
    "axs[2].set_xlabel(\"Gender\")\n",
    "axs[2].set_ylabel(\"score\")\n",
    "axs[2].bar(x,y)\n",
    "axs[2].legend([\"Female\",\"Male\"])\n",
    "\n",
    "fig.show()"
   ]
  },
  {
   "cell_type": "code",
   "execution_count": 264,
   "id": "5bb00583-0023-4d4e-a73d-aff858dc1ec4",
   "metadata": {
    "tags": []
   },
   "outputs": [
    {
     "data": {
      "text/plain": [
       "Index(['번호', '도서명', '저자', '출판사', '발행년도', 'ISBN', '세트 ISBN', '부가기호', '권',\n",
       "       '주제분류번호', 'book_cnt', 'borrow_cnt', '등록일자', 'Unnamed: 13'],\n",
       "      dtype='object')"
      ]
     },
     "execution_count": 264,
     "metadata": {},
     "output_type": "execute_result"
    }
   ],
   "source": [
    "df.columns"
   ]
  },
  {
   "cell_type": "code",
   "execution_count": 267,
   "id": "c35293cc-5bf2-4404-96e5-b784a005df07",
   "metadata": {
    "tags": []
   },
   "outputs": [
    {
     "data": {
      "text/plain": [
       "2014              19613\n",
       "2016              19332\n",
       "2012              19284\n",
       "2018              18630\n",
       "2017              18433\n",
       "                  ...  \n",
       "2011(사실은 2010)        1\n",
       "2011[실은2010]          1\n",
       "2008(佛紀 2551)         1\n",
       "2010.                 1\n",
       "1977.                 1\n",
       "Name: 발행년도, Length: 400, dtype: int64"
      ]
     },
     "execution_count": 267,
     "metadata": {},
     "output_type": "execute_result"
    }
   ],
   "source": [
    "df.발행년도.value_counts()"
   ]
  },
  {
   "cell_type": "code",
   "execution_count": 390,
   "id": "de6baad7-8c28-4c2e-a30b-bf488ae05807",
   "metadata": {
    "tags": []
   },
   "outputs": [],
   "source": [
    "new_df = df.groupby('발행년도').count().번호.reset_index()\n",
    "\n",
    "new_df.loc[new_df.발행년도 == '2014',:]\n",
    "\n",
    "df.발행년도.value_counts().index.str.slice(0,4)\n",
    "df.발행년도.value_counts().index.str[:4]\n",
    "\n",
    "# 발행년도별로 Count를 구하기 (Series)\n",
    "new_df = df.발행년도.value_counts()\n",
    "\n",
    "# 발행년도가 인덱스인 Series를 \n",
    "# 발행년도가 컬럼으로 된 데이터 프레임으로 변환\n",
    "new_df = new_df.reset_index()\n",
    "\n",
    "# 컬럼 이름 재정리 \n",
    "new_df.columns = ['발행년도','출판물수']\n",
    "\n",
    "# 발행년도 길이 정제\n",
    "new_df.발행년도 = new_df.발행년도.str[:4]\n",
    "\n",
    "remove_index = []\n",
    "for idx, val in enumerate(new_df.발행년도):\n",
    "    try:\n",
    "        int(val)\n",
    "    except:\n",
    "        remove_index.append(idx)\n",
    "\n",
    "new_df.drop(remove_index, axis=0,inplace=True)\n",
    "\n",
    "new_df.발행년도 = new_df.발행년도.astype(int)"
   ]
  },
  {
   "cell_type": "code",
   "execution_count": 313,
   "id": "f271015e-0d41-42c9-a9aa-ecb9d7b9e40c",
   "metadata": {
    "tags": []
   },
   "outputs": [
    {
     "data": {
      "text/plain": [
       "{'whiskers': [<matplotlib.lines.Line2D at 0x2de8c88ec10>,\n",
       "  <matplotlib.lines.Line2D at 0x2de813fdf10>],\n",
       " 'caps': [<matplotlib.lines.Line2D at 0x2de813fdfd0>,\n",
       "  <matplotlib.lines.Line2D at 0x2de813fdb10>],\n",
       " 'boxes': [<matplotlib.lines.Line2D at 0x2de8c88d790>],\n",
       " 'medians': [<matplotlib.lines.Line2D at 0x2de813fd990>],\n",
       " 'fliers': [<matplotlib.lines.Line2D at 0x2de8126b290>],\n",
       " 'means': []}"
      ]
     },
     "execution_count": 313,
     "metadata": {},
     "output_type": "execute_result"
    },
    {
     "data": {
      "image/png": "[encoded data removed]",
      "text/plain": [
       "<Figure size 200x200 with 1 Axes>"
      ]
     },
     "metadata": {},
     "output_type": "display_data"
    }
   ],
   "source": [
    "import matplotlib.pyplot as plt\n",
    "plt.boxplot(new_df.발행년도)"
   ]
  },
  {
   "cell_type": "code",
   "execution_count": 318,
   "id": "ec8ea915-5b14-464f-b336-da6c250e97be",
   "metadata": {
    "tags": []
   },
   "outputs": [],
   "source": [
    "## 1900년 이전과 2024년 이후 발행년도 데이터 제거\n",
    "tidy_df = new_df.loc[~((new_df.발행년도 < 1900) | (new_df.발행년도 > 2023)),:]"
   ]
  },
  {
   "cell_type": "code",
   "execution_count": 320,
   "id": "0fb2f0d3-d20c-4368-8043-51eacbd0edba",
   "metadata": {
    "tags": []
   },
   "outputs": [
    {
     "data": {
      "text/plain": [
       "[<matplotlib.lines.Line2D at 0x2dea40029d0>]"
      ]
     },
     "execution_count": 320,
     "metadata": {},
     "output_type": "execute_result"
    },
    {
     "data": {
      "image/png": "[encoded data removed]",
      "text/plain": [
       "<Figure size 200x200 with 1 Axes>"
      ]
     },
     "metadata": {},
     "output_type": "display_data"
    }
   ],
   "source": [
    "plt.plot(tidy_df.발행년도, tidy_df.출판물수)"
   ]
  },
  {
   "cell_type": "code",
   "execution_count": 330,
   "id": "a5203595-6519-49fd-8b62-df62310f7c11",
   "metadata": {
    "tags": []
   },
   "outputs": [
    {
     "data": {
      "image/png": "[encoded data removed]",
      "text/plain": [
       "<Figure size 1000x1000 with 1 Axes>"
      ]
     },
     "metadata": {},
     "output_type": "display_data"
    }
   ],
   "source": [
    "plt.figure(figsize=(10,10))\n",
    "x = tidy_df.sort_values(by='발행년도').발행년도\n",
    "y = tidy_df.sort_values(by='발행년도').출판물수\n",
    "plt.plot(x,y)\n",
    "\n",
    "plt.show()"
   ]
  },
  {
   "cell_type": "code",
   "execution_count": 333,
   "id": "7c21b1b9-f793-4299-b764-e29673e841d5",
   "metadata": {
    "tags": []
   },
   "outputs": [
    {
     "data": {
      "text/plain": [
       "813.6       15200\n",
       "843         12889\n",
       "813.8        5523\n",
       "818          5338\n",
       "833.6        4529\n",
       "            ...  \n",
       "493.73          1\n",
       "321.382         1\n",
       "349.187         1\n",
       "982.6602        1\n",
       "853.8           1\n",
       "Name: 주제분류번호, Length: 17338, dtype: int64"
      ]
     },
     "execution_count": 333,
     "metadata": {},
     "output_type": "execute_result"
    }
   ],
   "source": [
    "df.주제분류번호.value_counts()"
   ]
  },
  {
   "cell_type": "code",
   "execution_count": 335,
   "id": "1f082281-259b-4fac-b38f-71a9f13788fa",
   "metadata": {
    "tags": []
   },
   "outputs": [],
   "source": [
    "df.주제분류번호.fillna('Nan',inplace=True)"
   ]
  },
  {
   "cell_type": "code",
   "execution_count": 338,
   "id": "8a3b67fe-cfcf-4a01-9489-949755ef594d",
   "metadata": {
    "tags": []
   },
   "outputs": [
    {
     "data": {
      "text/plain": [
       "8    94154\n",
       "3    72669\n",
       "5    34732\n",
       "9    23544\n",
       "6    22285\n",
       "1    20328\n",
       "N    20322\n",
       "7    13809\n",
       "4    12310\n",
       "2    11934\n",
       "0    10141\n",
       "Name: 주제분류번호, dtype: int64"
      ]
     },
     "execution_count": 338,
     "metadata": {},
     "output_type": "execute_result"
    }
   ],
   "source": [
    "## 첫번째 값이 대분류라고 가정하고 \n",
    "df.주제분류번호.str.slice(0,1).value_counts()"
   ]
  },
  {
   "cell_type": "code",
   "execution_count": 340,
   "id": "b304a3e7-020e-45c5-8566-d118a18747a1",
   "metadata": {
    "tags": []
   },
   "outputs": [],
   "source": [
    "test = pd.DataFrame(\n",
    "    {'gender':np.random.choice(['남자','여자'],5),\n",
    "        'pet':np.random.choice(['고양이','강아지','원숭이'],5)\n",
    "    }\n",
    ")\n"
   ]
  },
  {
   "cell_type": "code",
   "execution_count": 343,
   "id": "4d0710e2-5fd7-43f7-aede-f3edf457f6d9",
   "metadata": {
    "tags": []
   },
   "outputs": [],
   "source": [
    "test1 =  pd.DataFrame(\n",
    "    {'gender':np.random.choice(['남성','여성'],5),\n",
    "        'pet':np.random.choice(['고양이','강아지','원숭이'],5)\n",
    "    }\n",
    ")\n",
    "\n",
    "test = pd.concat([test,test1])"
   ]
  },
  {
   "cell_type": "code",
   "execution_count": 345,
   "id": "fd3f4c1f-6491-4860-8354-151ee1cd19a2",
   "metadata": {
    "tags": []
   },
   "outputs": [
    {
     "data": {
      "text/plain": [
       "남    6\n",
       "여    4\n",
       "Name: gender, dtype: int64"
      ]
     },
     "execution_count": 345,
     "metadata": {},
     "output_type": "execute_result"
    }
   ],
   "source": [
    "test.gender.str[:1].value_counts()"
   ]
  },
  {
   "cell_type": "code",
   "execution_count": 346,
   "id": "5e584911-fb88-4597-a5fc-f51664d42445",
   "metadata": {
    "tags": []
   },
   "outputs": [
    {
     "data": {
      "text/plain": [
       "남자    3\n",
       "남성    3\n",
       "여자    2\n",
       "여성    2\n",
       "Name: gender, dtype: int64"
      ]
     },
     "execution_count": 346,
     "metadata": {},
     "output_type": "execute_result"
    }
   ],
   "source": [
    "test.gender.value_counts()"
   ]
  },
  {
   "cell_type": "code",
   "execution_count": 348,
   "id": "c55ef254-6cae-483f-bc8e-c649502e4c82",
   "metadata": {
    "tags": []
   },
   "outputs": [],
   "source": [
    "new_df = df.주제분류번호.str.slice(0,1).value_counts().reset_index()"
   ]
  },
  {
   "cell_type": "code",
   "execution_count": 353,
   "id": "6c00bd02-0afb-4a0c-ba9a-b385f17fcc52",
   "metadata": {
    "tags": []
   },
   "outputs": [],
   "source": [
    "new_df.columns = ['주제분류번호','개수']"
   ]
  },
  {
   "cell_type": "code",
   "execution_count": 354,
   "id": "d35e8fa7-8e30-4922-aad2-fc17884bb772",
   "metadata": {
    "tags": []
   },
   "outputs": [],
   "source": [
    "tidy_df = new_df.loc[new_df.주제분류번호 != 'N', :]"
   ]
  },
  {
   "cell_type": "code",
   "execution_count": 356,
   "id": "11bbfca5-22e4-4c3f-90e5-d0905953b5ce",
   "metadata": {
    "tags": []
   },
   "outputs": [],
   "source": [
    "tidy_df.주제분류번호 = '주제분류번호-' + tidy_df.주제분류번호"
   ]
  },
  {
   "cell_type": "code",
   "execution_count": 358,
   "id": "fee9058e-6a90-4f39-9abc-af509d202998",
   "metadata": {
    "tags": []
   },
   "outputs": [],
   "source": [
    "tidy_df.주제분류번호 = tidy_df.주제분류번호.str.replace('주제분류번호','subjec')"
   ]
  },
  {
   "cell_type": "code",
   "execution_count": 360,
   "id": "fbe2a310-990d-4211-bea4-b60617dd306d",
   "metadata": {
    "tags": []
   },
   "outputs": [],
   "source": [
    "tidy_df.주제분류번호 = tidy_df.주제분류번호.str.capitalize()"
   ]
  },
  {
   "cell_type": "code",
   "execution_count": 368,
   "id": "0787a890-5f33-4958-a495-b58426853df8",
   "metadata": {
    "tags": []
   },
   "outputs": [],
   "source": [
    "x = tidy_df.loc[tidy_df.주제분류번호.sort_values().index,:].주제분류번호\n",
    "y = tidy_df.loc[tidy_df.주제분류번호.sort_values().index,:].개수"
   ]
  },
  {
   "cell_type": "code",
   "execution_count": 380,
   "id": "7659a2cb-d76b-43e7-acd0-f4c16c61e5b3",
   "metadata": {
    "tags": []
   },
   "outputs": [
    {
     "data": {
      "image/png": "[encoded data removed]",
      "text/plain": [
       "<Figure size 800x600 with 1 Axes>"
      ]
     },
     "metadata": {},
     "output_type": "display_data"
    }
   ],
   "source": [
    "plt.figure(figsize=(8,6))\n",
    "plt.plot(x,y,linestyle='--',color='green',marker='.')\n",
    "plt.show()"
   ]
  },
  {
   "cell_type": "code",
   "execution_count": 418,
   "id": "eb88ca58-b50e-49e3-a595-315834d6d98f",
   "metadata": {
    "tags": []
   },
   "outputs": [],
   "source": [
    "## 발행년도 4자리 기준 각각 발행년도별 count\n",
    "new_df = df.발행년도.str.slice(0,4).value_counts().reset_index()"
   ]
  },
  {
   "cell_type": "code",
   "execution_count": 419,
   "id": "4d42f544-c689-420b-b6f7-9ab8d41acdfb",
   "metadata": {
    "tags": []
   },
   "outputs": [],
   "source": [
    "## 발행년도, 발행년도별 count로 구성된 데이터 프레임\n",
    "new_df.columns = ['발행년도','발행부수']"
   ]
  },
  {
   "cell_type": "code",
   "execution_count": 420,
   "id": "9b9af72c-5cac-445f-9d2e-6f061a3f4af6",
   "metadata": {
    "tags": []
   },
   "outputs": [],
   "source": [
    "## anormally(이상한) 데이터 정리를 위한 인덱스 가져오기\n",
    "remove_idx = []\n",
    "for idx,val in enumerate(new_df.발행년도):\n",
    "    try:\n",
    "        int(val)\n",
    "    except:\n",
    "        remove_idx.append(idx)"
   ]
  },
  {
   "cell_type": "code",
   "execution_count": 421,
   "id": "4bc52ebe-4dd4-4e55-b0e7-99e83afd5c9a",
   "metadata": {
    "tags": []
   },
   "outputs": [],
   "source": [
    "## remove 대상 인덱스를 제거\n",
    "tidy_df = new_df.copy()\n",
    "tidy_df.drop(remove_idx,0,inplace=True)"
   ]
  },
  {
   "cell_type": "code",
   "execution_count": 422,
   "id": "c1b325c2-f100-445d-beae-28cb6386e973",
   "metadata": {
    "tags": []
   },
   "outputs": [],
   "source": [
    "tidy_df.발행년도 = tidy_df.발행년도.astype(int) "
   ]
  },
  {
   "cell_type": "code",
   "execution_count": 423,
   "id": "7a8bcd78-c96f-4b11-aef9-a98a4abeec68",
   "metadata": {
    "tags": []
   },
   "outputs": [],
   "source": [
    "## 년도별 이상치 정리 (1945~2023)외의 데이터를 이상치 \n",
    "clean_df = tidy_df.loc[(tidy_df.발행년도 >= 1945) & (tidy_df.발행년도 <= 2023),:]"
   ]
  },
  {
   "cell_type": "code",
   "execution_count": 426,
   "id": "d99c6922-6d09-4861-9ce4-7ee673020138",
   "metadata": {
    "tags": []
   },
   "outputs": [],
   "source": [
    "# line 그래프로 그리기 위해 발행년도 순으로 정리\n",
    "clean_df = clean_df.loc[clean_df.발행년도.sort_values().index,:]"
   ]
  },
  {
   "cell_type": "code",
   "execution_count": 432,
   "id": "20e336a5-16fc-4945-ae34-08687ee267e5",
   "metadata": {
    "tags": []
   },
   "outputs": [
    {
     "data": {
      "text/plain": [
       "([<matplotlib.axis.XTick at 0x2deaa2ed3d0>,\n",
       "  <matplotlib.axis.XTick at 0x2deaa2ddad0>,\n",
       "  <matplotlib.axis.XTick at 0x2de8c8fcd10>,\n",
       "  <matplotlib.axis.XTick at 0x2deaa31bad0>,\n",
       "  <matplotlib.axis.XTick at 0x2deaa321590>,\n",
       "  <matplotlib.axis.XTick at 0x2deaa323850>,\n",
       "  <matplotlib.axis.XTick at 0x2deaa329a50>,\n",
       "  <matplotlib.axis.XTick at 0x2deaa32ba90>],\n",
       " [Text(1947, 0, '1947'),\n",
       "  Text(1957, 0, '1957'),\n",
       "  Text(1967, 0, '1967'),\n",
       "  Text(1977, 0, '1977'),\n",
       "  Text(1987, 0, '1987'),\n",
       "  Text(1997, 0, '1997'),\n",
       "  Text(2007, 0, '2007'),\n",
       "  Text(2017, 0, '2017')])"
      ]
     },
     "execution_count": 432,
     "metadata": {},
     "output_type": "execute_result"
    },
    {
     "data": {
      "image/png": "[encoded data removed]",
      "text/plain": [
       "<Figure size 1000x700 with 1 Axes>"
      ]
     },
     "metadata": {},
     "output_type": "display_data"
    }
   ],
   "source": [
    "plt.figure(figsize=(10,7))\n",
    "plt.plot(clean_df.발행년도, \n",
    "         clean_df['발행부수'], \n",
    "         color='green',\n",
    "         linestyle=\":\",\n",
    "         marker=\"X\"\n",
    "        )\n",
    "plt.title(\"Books By Year\")\n",
    "plt.xlabel(\"Year\")\n",
    "plt.ylabel(\"Number of Books\")\n",
    "plt.xticks(range(1947,2023,10))\n"
   ]
  },
  {
   "cell_type": "code",
   "execution_count": null,
   "id": "eecf3f6b-302e-48d0-b732-fc8a5c618e2e",
   "metadata": {},
   "outputs": [],
   "source": []
  }
 ],
 "metadata": {
  "kernelspec": {
   "display_name": "Python 3 (ipykernel)",
   "language": "python",
   "name": "python3"
  },
  "language_info": {
   "codemirror_mode": {
    "name": "ipython",
    "version": 3
   },
   "file_extension": ".py",
   "mimetype": "text/x-python",
   "name": "python",
   "nbconvert_exporter": "python",
   "pygments_lexer": "ipython3",
   "version": "3.11.4"
  }
 },
 "nbformat": 4,
 "nbformat_minor": 5
}
