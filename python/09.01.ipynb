{
 "cells": [
  {
   "cell_type": "code",
   "execution_count": 1,
   "metadata": {},
   "outputs": [
    {
     "name": "stdout",
     "output_type": "stream",
     "text": [
      "6\n"
     ]
    }
   ],
   "source": [
    "def add_many(*args):\n",
    "    result = 0\n",
    "    for i in args:\n",
    "        result = result + i\n",
    "    return result\n",
    "result = add_many(1, 2, 3)\n",
    "print(result)"
   ]
  },
  {
   "cell_type": "code",
   "execution_count": 2,
   "metadata": {},
   "outputs": [
    {
     "name": "stdout",
     "output_type": "stream",
     "text": [
      "45\n"
     ]
    }
   ],
   "source": [
    "result = add_many(1, 2, 3, 4, 5, 6, 7, 8, 9)\n",
    "print(result)"
   ]
  },
  {
   "cell_type": "code",
   "execution_count": 3,
   "metadata": {},
   "outputs": [
    {
     "name": "stdout",
     "output_type": "stream",
     "text": [
      "120\n"
     ]
    }
   ],
   "source": [
    "def add_mul(choice ,*args):\n",
    "    if choice == 'add':\n",
    "        result = 0\n",
    "        for i in args:\n",
    "            result = result + i\n",
    "    elif choice == 'mul':\n",
    "        result = 1\n",
    "        for i in args:\n",
    "            result = result * i\n",
    "    return result\n",
    "\n",
    "result = add_mul('mul', 1, 2, 3, 4, 5)\n",
    "print(result)"
   ]
  },
  {
   "cell_type": "code",
   "execution_count": 8,
   "metadata": {},
   "outputs": [
    {
     "data": {
      "text/plain": [
       "6"
      ]
     },
     "execution_count": 8,
     "metadata": {},
     "output_type": "execute_result"
    }
   ],
   "source": [
    "class FourCal:\n",
    "    def setdata(self, first, second):\n",
    "        self.first = first\n",
    "        self.second = second\n",
    "    def add(self):\n",
    "        result = self.first + self.second\n",
    "        return result\n",
    "    def mul(self):\n",
    "        result = self.first * self.second\n",
    "        return result\n",
    "    def sub(self):\n",
    "        result = self.first - self.second\n",
    "        return result\n",
    "    def div(self):\n",
    "        result = self.first / self.second\n",
    "        return result\n",
    "a = FourCal()\n",
    "a.setdata(4, 2)\n",
    "\n",
    "a.add()"
   ]
  },
  {
   "cell_type": "code",
   "execution_count": 10,
   "metadata": {},
   "outputs": [
    {
     "data": {
      "text/plain": [
       "7"
      ]
     },
     "execution_count": 10,
     "metadata": {},
     "output_type": "execute_result"
    }
   ],
   "source": [
    "class FourCal:\n",
    "    def __init__(self, first, second):\n",
    "        self.first = first\n",
    "        self.second = second\n",
    "    def setdata(self, first, second):\n",
    "        self.first = first\n",
    "        self.second = second\n",
    "    def add(self):\n",
    "        result = self.first + self.second\n",
    "        return result\n",
    "    def mul(self):\n",
    "        result = self.first * self.second\n",
    "        return result\n",
    "    def sub(self):\n",
    "        result = self.first - self.second\n",
    "        return result\n",
    "    def div(self):\n",
    "        result = self.first / self.second\n",
    "        return result\n",
    "b = FourCal(4, 3)\n",
    "b.add()"
   ]
  },
  {
   "cell_type": "code",
   "execution_count": 11,
   "metadata": {},
   "outputs": [],
   "source": [
    "class MoreFourCal(FourCal):\n",
    "    pass"
   ]
  },
  {
   "cell_type": "code",
   "execution_count": 12,
   "metadata": {},
   "outputs": [
    {
     "data": {
      "text/plain": [
       "30"
      ]
     },
     "execution_count": 12,
     "metadata": {},
     "output_type": "execute_result"
    }
   ],
   "source": [
    "d = MoreFourCal(5, 6)\n",
    "d.mul()"
   ]
  },
  {
   "cell_type": "code",
   "execution_count": 13,
   "metadata": {},
   "outputs": [],
   "source": [
    "class SaveForCal(FourCal):\n",
    "    def div(self):\n",
    "        if self.second == 0:\n",
    "            return 0\n",
    "        else:\n",
    "            self.first / self.second"
   ]
  },
  {
   "cell_type": "code",
   "execution_count": 15,
   "metadata": {},
   "outputs": [
    {
     "data": {
      "text/plain": [
       "0"
      ]
     },
     "execution_count": 15,
     "metadata": {},
     "output_type": "execute_result"
    }
   ],
   "source": [
    "a = SaveForCal(4, 0)\n",
    "a.div()"
   ]
  },
  {
   "cell_type": "code",
   "execution_count": 82,
   "metadata": {},
   "outputs": [
    {
     "name": "stdout",
     "output_type": "stream",
     "text": [
      "{'김밥': {'원조김밥': 2500, '참치김밥': 3000, '김치김밥': 3000}, '돈까스': {'돈까스': 7000, '왕돈까스': 8000, '치즈돈까스': 7500}, '분식': {'유부우동': 5000, '쫄면': 6000, '라뽂이': 5000}, '식사': {'카레덮밥': 6000, '제육덮밥': 6500, '오므라이스': 6500}, '국밥': {'갈비탕': 7000, '순대국': 7000, '부대찌개': 7000}, '사이드메뉴': {'콜라(250ml)': 1000, '공기밥': 1000, '계란찜': 5000}}\n"
     ]
    }
   ],
   "source": [
    "menu = {'김밥' : {'원조김밥' : 2500, '참치김밥' : 3000, '김치김밥' : 3000},\n",
    "        '돈까스' : {'돈까스' : 7000, '왕돈까스' : 8000, '치즈돈까스' : 7500},\n",
    "        '분식' : {'유부우동' : 5000, '쫄면' : 6000, '라뽂이' : 5000},\n",
    "        '식사' : {'카레덮밥' : 6000, '제육덮밥' : 6500, '오므라이스' : 6500},\n",
    "        '국밥' : {'갈비탕' : 7000, '순대국' : 7000, '부대찌개' : 7000},\n",
    "        '사이드메뉴' : {'콜라(250ml)' : 1000, '공기밥' : 1000, '계란찜' : 5000}}\n",
    "\n",
    "print(menu)"
   ]
  },
  {
   "cell_type": "code",
   "execution_count": 102,
   "metadata": {},
   "outputs": [
    {
     "name": "stdout",
     "output_type": "stream",
     "text": [
      "{'원조김밥': 2500, '참치김밥': 3000, '김치김밥': 3000}\n",
      "3000\n",
      "김치김밥\n"
     ]
    }
   ],
   "source": [
    "print(list(menu.values())[0])\n",
    "a = list(menu.values())[0]\n",
    "print(a['참치김밥'])\n",
    "print(list(list(menu.values())[0])[2])\n",
    "list(list(menu.values())[i])[j]"
   ]
  },
  {
   "cell_type": "code",
   "execution_count": 103,
   "metadata": {},
   "outputs": [
    {
     "name": "stdout",
     "output_type": "stream",
     "text": [
      "['왕돈까스']\n"
     ]
    }
   ],
   "source": [
    "msl = []\n",
    "ms = '왕돈까스'\n",
    "msl.append(ms)\n",
    "print(msl)"
   ]
  },
  {
   "cell_type": "code",
   "execution_count": 77,
   "metadata": {},
   "outputs": [
    {
     "ename": "IndentationError",
     "evalue": "expected an indented block after 'while' statement on line 1 (3435984145.py, line 2)",
     "output_type": "error",
     "traceback": [
      "\u001b[1;36m  Cell \u001b[1;32mIn[77], line 2\u001b[1;36m\u001b[0m\n\u001b[1;33m    systemMenu = int(input('시스템 메뉴를 고르시오. 1. 메뉴판보기 2. 메뉴고르기 3. 주문하기 4. 결제하기 5. 영수증보기'))\u001b[0m\n\u001b[1;37m    ^\u001b[0m\n\u001b[1;31mIndentationError\u001b[0m\u001b[1;31m:\u001b[0m expected an indented block after 'while' statement on line 1\n"
     ]
    }
   ],
   "source": [
    "system = True\n",
    "\n",
    "while(system):\n",
    "        systemMenu = int(input('시스템 메뉴를 고르시오. 1. 메뉴판보기 2. 메뉴고르기 3. 주문하기 4. 결제하기 5. 영수증보기'))\n",
    "\n",
    "        if systemMenu == 1:\n",
    "                print(f'|{list(menu.keys())[0]:^12}|{list(menu.keys())[1]:^10}|{list(menu.keys())[2]:^10}|{list(menu.keys())[3]:^10}|{list(menu.keys())[4]:^10}|{list(menu.keys())[5]:^10}|')\n",
    "                print(f'|{list(list(menu.values())[0])[0]:^10}|{list(list(menu.values())[1])[0]:^10}|{list(list(menu.values())[2])[0]:^10}|{list(list(menu.values())[3])[0]:^10}|{list(list(menu.values())[4])[0]:^10}|{list(list(menu.values())[5])[0]:^10}|')\n",
    "                print(f'|{list(list(menu.values())[0])[1]:^10}|{list(list(menu.values())[1])[1]:^10}|{list(list(menu.values())[2])[1]:^10}|{list(list(menu.values())[3])[1]:^10}|{list(list(menu.values())[4])[1]:^10}|{list(list(menu.values())[5])[1]:^10}|')\n",
    "                print(f'|{list(list(menu.values())[0])[2]:^10}|{list(list(menu.values())[1])[2]:^10}|{list(list(menu.values())[2])[2]:^10}|{list(list(menu.values())[3])[2]:^10}|{list(list(menu.values())[4])[2]:^10}|{list(list(menu.values())[5])[2]:^10}|')\n",
    "        elif systemMenu == 2:\n",
    "                ms = str(input('시키실 메뉴를 적으시오. : '))\n",
    "                mn = int(input('수량을 적으시오. : '))\n",
    "        elif systemMenu == 3:"
   ]
  },
  {
   "cell_type": "code",
   "execution_count": 79,
   "metadata": {},
   "outputs": [],
   "source": [
    "## 결제정보\n"
   ]
  },
  {
   "cell_type": "code",
   "execution_count": 75,
   "metadata": {},
   "outputs": [],
   "source": [
    "#영수증"
   ]
  },
  {
   "cell_type": "code",
   "execution_count": 80,
   "metadata": {},
   "outputs": [
    {
     "name": "stdout",
     "output_type": "stream",
     "text": [
      "결제를 시작합니다. 총 결제금액 6 입니다\n"
     ]
    }
   ],
   "source": [
    "mnl = [1, 2, 3]\n",
    "print(\"결제를 시작합니다. 총 결제금액 {0} 입니다\".format(sum(mnl)))"
   ]
  },
  {
   "cell_type": "code",
   "execution_count": null,
   "metadata": {},
   "outputs": [],
   "source": []
  }
 ],
 "metadata": {
  "kernelspec": {
   "display_name": "Python 3",
   "language": "python",
   "name": "python3"
  },
  "language_info": {
   "codemirror_mode": {
    "name": "ipython",
    "version": 3
   },
   "file_extension": ".py",
   "mimetype": "text/x-python",
   "name": "python",
   "nbconvert_exporter": "python",
   "pygments_lexer": "ipython3",
   "version": "3.11.4"
  },
  "orig_nbformat": 4
 },
 "nbformat": 4,
 "nbformat_minor": 2
}
