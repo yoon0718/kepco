{
 "cells": [
  {
   "cell_type": "code",
   "execution_count": 1,
   "id": "8d5a6a0b-5e06-4d3e-8570-746c046367ba",
   "metadata": {
    "tags": []
   },
   "outputs": [
    {
     "name": "stdout",
     "output_type": "stream",
     "text": [
      "Requirement already satisfied: scikit-learn in c:\\users\\user\\anaconda3\\lib\\site-packages (1.3.0)\n",
      "Requirement already satisfied: numpy>=1.17.3 in c:\\users\\user\\anaconda3\\lib\\site-packages (from scikit-learn) (1.24.3)\n",
      "Requirement already satisfied: scipy>=1.5.0 in c:\\users\\user\\anaconda3\\lib\\site-packages (from scikit-learn) (1.10.1)\n",
      "Requirement already satisfied: joblib>=1.1.1 in c:\\users\\user\\anaconda3\\lib\\site-packages (from scikit-learn) (1.2.0)\n",
      "Requirement already satisfied: threadpoolctl>=2.0.0 in c:\\users\\user\\anaconda3\\lib\\site-packages (from scikit-learn) (2.2.0)\n",
      "Note: you may need to restart the kernel to use updated packages.\n"
     ]
    }
   ],
   "source": [
    "pip install scikit-learn"
   ]
  },
  {
   "cell_type": "code",
   "execution_count": 2,
   "id": "101486cc-3977-4d3f-b6cb-15836a89fd1c",
   "metadata": {},
   "outputs": [],
   "source": [
    "import numpy as np\n",
    "import matplotlib.pyplot as plt\n",
    "import pandas as pd"
   ]
  },
  {
   "cell_type": "code",
   "execution_count": 142,
   "id": "428bea68-2713-49ea-82e8-e2f521b6dd91",
   "metadata": {
    "tags": []
   },
   "outputs": [],
   "source": [
    "x = np.random.randint(1, 100, 50)"
   ]
  },
  {
   "cell_type": "code",
   "execution_count": 143,
   "id": "7d034785-9adf-45c3-afa6-1ae62b7e135d",
   "metadata": {
    "tags": []
   },
   "outputs": [],
   "source": [
    "a = np.random.choice(np.arange(100), 1)\n",
    "y = a * x + np.random.randn(50)"
   ]
  },
  {
   "cell_type": "code",
   "execution_count": 144,
   "id": "17fd85c4-82d9-432c-91bc-953b9c2cf901",
   "metadata": {
    "tags": []
   },
   "outputs": [
    {
     "data": {
      "text/plain": [
       "array([22])"
      ]
     },
     "execution_count": 144,
     "metadata": {},
     "output_type": "execute_result"
    }
   ],
   "source": [
    "a"
   ]
  },
  {
   "cell_type": "code",
   "execution_count": 145,
   "id": "2e462fcb-c68b-44d0-a314-31cb8b209d8d",
   "metadata": {
    "tags": []
   },
   "outputs": [
    {
     "data": {
      "text/html": [
       "<div>\n",
       "<style scoped>\n",
       "    .dataframe tbody tr th:only-of-type {\n",
       "        vertical-align: middle;\n",
       "    }\n",
       "\n",
       "    .dataframe tbody tr th {\n",
       "        vertical-align: top;\n",
       "    }\n",
       "\n",
       "    .dataframe thead th {\n",
       "        text-align: right;\n",
       "    }\n",
       "</style>\n",
       "<table border=\"1\" class=\"dataframe\">\n",
       "  <thead>\n",
       "    <tr style=\"text-align: right;\">\n",
       "      <th></th>\n",
       "      <th>0</th>\n",
       "    </tr>\n",
       "  </thead>\n",
       "  <tbody>\n",
       "    <tr>\n",
       "      <th>1431.310278</th>\n",
       "      <td>65</td>\n",
       "    </tr>\n",
       "    <tr>\n",
       "      <th>1936.345112</th>\n",
       "      <td>88</td>\n",
       "    </tr>\n",
       "    <tr>\n",
       "      <th>1343.364849</th>\n",
       "      <td>61</td>\n",
       "    </tr>\n",
       "    <tr>\n",
       "      <th>615.773691</th>\n",
       "      <td>28</td>\n",
       "    </tr>\n",
       "    <tr>\n",
       "      <th>637.975447</th>\n",
       "      <td>29</td>\n",
       "    </tr>\n",
       "    <tr>\n",
       "      <th>1761.528344</th>\n",
       "      <td>80</td>\n",
       "    </tr>\n",
       "    <tr>\n",
       "      <th>989.938851</th>\n",
       "      <td>45</td>\n",
       "    </tr>\n",
       "    <tr>\n",
       "      <th>2046.259134</th>\n",
       "      <td>93</td>\n",
       "    </tr>\n",
       "    <tr>\n",
       "      <th>592.951235</th>\n",
       "      <td>27</td>\n",
       "    </tr>\n",
       "    <tr>\n",
       "      <th>263.413827</th>\n",
       "      <td>12</td>\n",
       "    </tr>\n",
       "    <tr>\n",
       "      <th>372.339166</th>\n",
       "      <td>17</td>\n",
       "    </tr>\n",
       "    <tr>\n",
       "      <th>683.147308</th>\n",
       "      <td>31</td>\n",
       "    </tr>\n",
       "    <tr>\n",
       "      <th>2089.310633</th>\n",
       "      <td>95</td>\n",
       "    </tr>\n",
       "    <tr>\n",
       "      <th>637.528548</th>\n",
       "      <td>29</td>\n",
       "    </tr>\n",
       "    <tr>\n",
       "      <th>1497.116149</th>\n",
       "      <td>68</td>\n",
       "    </tr>\n",
       "    <tr>\n",
       "      <th>836.845822</th>\n",
       "      <td>38</td>\n",
       "    </tr>\n",
       "    <tr>\n",
       "      <th>1782.248286</th>\n",
       "      <td>81</td>\n",
       "    </tr>\n",
       "    <tr>\n",
       "      <th>43.606501</th>\n",
       "      <td>2</td>\n",
       "    </tr>\n",
       "    <tr>\n",
       "      <th>1562.258563</th>\n",
       "      <td>71</td>\n",
       "    </tr>\n",
       "    <tr>\n",
       "      <th>660.912394</th>\n",
       "      <td>30</td>\n",
       "    </tr>\n",
       "    <tr>\n",
       "      <th>2046.607181</th>\n",
       "      <td>93</td>\n",
       "    </tr>\n",
       "    <tr>\n",
       "      <th>967.736024</th>\n",
       "      <td>44</td>\n",
       "    </tr>\n",
       "    <tr>\n",
       "      <th>1585.325070</th>\n",
       "      <td>72</td>\n",
       "    </tr>\n",
       "    <tr>\n",
       "      <th>66.842724</th>\n",
       "      <td>3</td>\n",
       "    </tr>\n",
       "    <tr>\n",
       "      <th>1891.694653</th>\n",
       "      <td>86</td>\n",
       "    </tr>\n",
       "    <tr>\n",
       "      <th>2046.933261</th>\n",
       "      <td>93</td>\n",
       "    </tr>\n",
       "    <tr>\n",
       "      <th>968.655080</th>\n",
       "      <td>44</td>\n",
       "    </tr>\n",
       "    <tr>\n",
       "      <th>1848.044896</th>\n",
       "      <td>84</td>\n",
       "    </tr>\n",
       "    <tr>\n",
       "      <th>2111.673268</th>\n",
       "      <td>96</td>\n",
       "    </tr>\n",
       "    <tr>\n",
       "      <th>154.862051</th>\n",
       "      <td>7</td>\n",
       "    </tr>\n",
       "    <tr>\n",
       "      <th>1538.757620</th>\n",
       "      <td>70</td>\n",
       "    </tr>\n",
       "    <tr>\n",
       "      <th>396.719167</th>\n",
       "      <td>18</td>\n",
       "    </tr>\n",
       "    <tr>\n",
       "      <th>529.544807</th>\n",
       "      <td>24</td>\n",
       "    </tr>\n",
       "    <tr>\n",
       "      <th>64.447663</th>\n",
       "      <td>3</td>\n",
       "    </tr>\n",
       "    <tr>\n",
       "      <th>1190.033215</th>\n",
       "      <td>54</td>\n",
       "    </tr>\n",
       "    <tr>\n",
       "      <th>332.518688</th>\n",
       "      <td>15</td>\n",
       "    </tr>\n",
       "    <tr>\n",
       "      <th>175.495168</th>\n",
       "      <td>8</td>\n",
       "    </tr>\n",
       "    <tr>\n",
       "      <th>1405.949072</th>\n",
       "      <td>64</td>\n",
       "    </tr>\n",
       "    <tr>\n",
       "      <th>1804.934069</th>\n",
       "      <td>82</td>\n",
       "    </tr>\n",
       "    <tr>\n",
       "      <th>440.553649</th>\n",
       "      <td>20</td>\n",
       "    </tr>\n",
       "    <tr>\n",
       "      <th>1693.853370</th>\n",
       "      <td>77</td>\n",
       "    </tr>\n",
       "    <tr>\n",
       "      <th>592.576677</th>\n",
       "      <td>27</td>\n",
       "    </tr>\n",
       "    <tr>\n",
       "      <th>264.441688</th>\n",
       "      <td>12</td>\n",
       "    </tr>\n",
       "    <tr>\n",
       "      <th>571.634703</th>\n",
       "      <td>26</td>\n",
       "    </tr>\n",
       "    <tr>\n",
       "      <th>462.116222</th>\n",
       "      <td>21</td>\n",
       "    </tr>\n",
       "    <tr>\n",
       "      <th>1453.315173</th>\n",
       "      <td>66</td>\n",
       "    </tr>\n",
       "    <tr>\n",
       "      <th>2001.030902</th>\n",
       "      <td>91</td>\n",
       "    </tr>\n",
       "    <tr>\n",
       "      <th>547.881347</th>\n",
       "      <td>25</td>\n",
       "    </tr>\n",
       "    <tr>\n",
       "      <th>22.474808</th>\n",
       "      <td>1</td>\n",
       "    </tr>\n",
       "    <tr>\n",
       "      <th>418.788392</th>\n",
       "      <td>19</td>\n",
       "    </tr>\n",
       "  </tbody>\n",
       "</table>\n",
       "</div>"
      ],
      "text/plain": [
       "              0\n",
       "1431.310278  65\n",
       "1936.345112  88\n",
       "1343.364849  61\n",
       "615.773691   28\n",
       "637.975447   29\n",
       "1761.528344  80\n",
       "989.938851   45\n",
       "2046.259134  93\n",
       "592.951235   27\n",
       "263.413827   12\n",
       "372.339166   17\n",
       "683.147308   31\n",
       "2089.310633  95\n",
       "637.528548   29\n",
       "1497.116149  68\n",
       "836.845822   38\n",
       "1782.248286  81\n",
       "43.606501     2\n",
       "1562.258563  71\n",
       "660.912394   30\n",
       "2046.607181  93\n",
       "967.736024   44\n",
       "1585.325070  72\n",
       "66.842724     3\n",
       "1891.694653  86\n",
       "2046.933261  93\n",
       "968.655080   44\n",
       "1848.044896  84\n",
       "2111.673268  96\n",
       "154.862051    7\n",
       "1538.757620  70\n",
       "396.719167   18\n",
       "529.544807   24\n",
       "64.447663     3\n",
       "1190.033215  54\n",
       "332.518688   15\n",
       "175.495168    8\n",
       "1405.949072  64\n",
       "1804.934069  82\n",
       "440.553649   20\n",
       "1693.853370  77\n",
       "592.576677   27\n",
       "264.441688   12\n",
       "571.634703   26\n",
       "462.116222   21\n",
       "1453.315173  66\n",
       "2001.030902  91\n",
       "547.881347   25\n",
       "22.474808     1\n",
       "418.788392   19"
      ]
     },
     "execution_count": 145,
     "metadata": {},
     "output_type": "execute_result"
    }
   ],
   "source": [
    "pd.DataFrame(x, y)"
   ]
  },
  {
   "cell_type": "code",
   "execution_count": 146,
   "id": "4f3f2711-5fc4-46da-bc0e-d683996df17e",
   "metadata": {
    "tags": []
   },
   "outputs": [],
   "source": [
    "a_hat = np.random.randn(1)"
   ]
  },
  {
   "cell_type": "code",
   "execution_count": 147,
   "id": "cac18f9f-3df6-457f-86c4-7c07df5ad6f3",
   "metadata": {
    "tags": []
   },
   "outputs": [
    {
     "data": {
      "text/plain": [
       "array([0.30806855])"
      ]
     },
     "execution_count": 147,
     "metadata": {},
     "output_type": "execute_result"
    }
   ],
   "source": [
    "a_hat"
   ]
  },
  {
   "cell_type": "code",
   "execution_count": 148,
   "id": "b779fc35-aaba-45e1-a573-7c8c3e71ba73",
   "metadata": {
    "tags": []
   },
   "outputs": [],
   "source": [
    "y_hat = a_hat * x"
   ]
  },
  {
   "cell_type": "code",
   "execution_count": 149,
   "id": "2e2b2281-c02b-411e-b685-fc1314fde72f",
   "metadata": {
    "tags": []
   },
   "outputs": [
    {
     "data": {
      "text/plain": [
       "array([20.0244558 , 27.11003247, 18.7921816 ,  8.62591942,  8.93398797,\n",
       "       24.64548406, 13.86308478, 28.65037522,  8.31785087,  3.69682261,\n",
       "        5.23716536,  9.55012507, 29.26651232,  8.93398797, 20.94866145,\n",
       "       11.70660493, 24.95355261,  0.6161371 , 21.87286711,  9.24205652,\n",
       "       28.65037522, 13.55501623, 22.18093566,  0.92420565, 26.49389537,\n",
       "       28.65037522, 13.55501623, 25.87775827, 29.57458087,  2.15647986,\n",
       "       21.56479855,  5.54523391,  7.39364522,  0.92420565, 16.63570174,\n",
       "        4.62102826,  2.46454841, 19.71638725, 25.26162116,  6.16137102,\n",
       "       23.72127841,  8.31785087,  3.69682261,  8.00978232,  6.46943957,\n",
       "       20.33252435, 28.03423812,  7.70171377,  0.30806855,  5.85330246])"
      ]
     },
     "execution_count": 149,
     "metadata": {},
     "output_type": "execute_result"
    }
   ],
   "source": [
    "y_hat"
   ]
  },
  {
   "cell_type": "code",
   "execution_count": 150,
   "id": "14c3c708-2f7c-4c39-8800-7e00ef366341",
   "metadata": {
    "tags": []
   },
   "outputs": [
    {
     "data": {
      "text/plain": [
       "1476201.9676221544"
      ]
     },
     "execution_count": 150,
     "metadata": {},
     "output_type": "execute_result"
    }
   ],
   "source": [
    "\n",
    "np.sum((y_hat - y)**2)/y_hat.size"
   ]
  },
  {
   "cell_type": "code",
   "execution_count": 151,
   "id": "bb118ca4-3c4e-40b7-8deb-b50653766b91",
   "metadata": {
    "tags": []
   },
   "outputs": [],
   "source": [
    "learning_rate = 1e-3\n",
    "a_hat = a_hat - learning_rate*2*np.mean(x*(y_hat-y))"
   ]
  },
  {
   "cell_type": "code",
   "execution_count": 152,
   "id": "7fb72db1-58dc-4746-a5de-dfdfbb2a858b",
   "metadata": {
    "tags": []
   },
   "outputs": [
    {
     "data": {
      "text/plain": [
       "array([136.39086447])"
      ]
     },
     "execution_count": 152,
     "metadata": {},
     "output_type": "execute_result"
    }
   ],
   "source": [
    "a_hat"
   ]
  },
  {
   "cell_type": "code",
   "execution_count": 153,
   "id": "f8f5448b-4490-4d37-a790-36f41f31712d",
   "metadata": {
    "tags": []
   },
   "outputs": [
    {
     "data": {
      "text/plain": [
       "array([-581.08662542])"
      ]
     },
     "execution_count": 153,
     "metadata": {},
     "output_type": "execute_result"
    }
   ],
   "source": [
    "y_hat = a_hat*x\n",
    "a_hat = a_hat - learning_rate*2*np.mean(x*(y_hat-y))\n",
    "a_hat"
   ]
  },
  {
   "cell_type": "code",
   "execution_count": 154,
   "id": "8a9dc013-5f29-432e-bf0b-cc3e8897901f",
   "metadata": {
    "tags": []
   },
   "outputs": [],
   "source": [
    "def gradient_descent(x, y, learning_rate, epochs):\n",
    "    a_hat = np.random.randn(1)\n",
    "    for _ in range(epochs):\n",
    "        y_hat = a_hat*x\n",
    "        a_hat -= learning_rate*np.mean(x*(y_hat - y))\n",
    "    return a_hat"
   ]
  },
  {
   "cell_type": "code",
   "execution_count": 155,
   "id": "976bbcba-fea9-4972-9e37-6bfeed8c1ad7",
   "metadata": {
    "tags": []
   },
   "outputs": [],
   "source": [
    "x = np.random.randn(100)\n",
    "y = 48*x"
   ]
  },
  {
   "cell_type": "code",
   "execution_count": 156,
   "id": "84efd1a9-8b15-4c90-b60a-39e445b7311a",
   "metadata": {
    "tags": []
   },
   "outputs": [
    {
     "data": {
      "text/plain": [
       "array([47.96393126])"
      ]
     },
     "execution_count": 156,
     "metadata": {},
     "output_type": "execute_result"
    }
   ],
   "source": [
    "gradient_descent(x, y, 1e-4, 100000)"
   ]
  },
  {
   "cell_type": "code",
   "execution_count": 157,
   "id": "cd7a93c8-cc62-48ff-b31e-501c937b6cfa",
   "metadata": {
    "tags": []
   },
   "outputs": [],
   "source": [
    "X = np.random.randn(50)"
   ]
  },
  {
   "cell_type": "code",
   "execution_count": 158,
   "id": "9b91885d-93a5-4d51-906f-9c4a5ee3dc4c",
   "metadata": {
    "tags": []
   },
   "outputs": [],
   "source": [
    "y = -200 * X + 90"
   ]
  },
  {
   "cell_type": "code",
   "execution_count": 159,
   "id": "d809b9c5-3d71-4289-af93-dbc98aaf6895",
   "metadata": {
    "tags": []
   },
   "outputs": [],
   "source": [
    "def gradient_descent(x, y, learning_rate, epochs):\n",
    "    a_hat = 1000\n",
    "    b_hat = 0\n",
    "    for _ in range(epochs):\n",
    "        y_hat = a_hat*x + b_hat\n",
    "        a_hat -= learning_rate*np.mean(2*x*(y_hat-y))\n",
    "        b_hat -= learning_rate*np.mean(2*(y_hat-y))\n",
    "    return a_hat, b_hat"
   ]
  },
  {
   "cell_type": "code",
   "execution_count": 160,
   "id": "c7009902-be9a-4886-acbe-052de0739d73",
   "metadata": {
    "tags": []
   },
   "outputs": [
    {
     "ename": "ValueError",
     "evalue": "operands could not be broadcast together with shapes (100,) (50,) ",
     "output_type": "error",
     "traceback": [
      "\u001b[1;31m---------------------------------------------------------------------------\u001b[0m",
      "\u001b[1;31mValueError\u001b[0m                                Traceback (most recent call last)",
      "Cell \u001b[1;32mIn[160], line 1\u001b[0m\n\u001b[1;32m----> 1\u001b[0m \u001b[43mgradient_descent\u001b[49m\u001b[43m(\u001b[49m\u001b[43mx\u001b[49m\u001b[43m,\u001b[49m\u001b[43m \u001b[49m\u001b[43my\u001b[49m\u001b[43m,\u001b[49m\u001b[43m \u001b[49m\u001b[38;5;241;43m1e-4\u001b[39;49m\u001b[43m,\u001b[49m\u001b[43m \u001b[49m\u001b[38;5;241;43m100000\u001b[39;49m\u001b[43m)\u001b[49m\n",
      "Cell \u001b[1;32mIn[159], line 6\u001b[0m, in \u001b[0;36mgradient_descent\u001b[1;34m(x, y, learning_rate, epochs)\u001b[0m\n\u001b[0;32m      4\u001b[0m \u001b[38;5;28;01mfor\u001b[39;00m _ \u001b[38;5;129;01min\u001b[39;00m \u001b[38;5;28mrange\u001b[39m(epochs):\n\u001b[0;32m      5\u001b[0m     y_hat \u001b[38;5;241m=\u001b[39m a_hat\u001b[38;5;241m*\u001b[39mx \u001b[38;5;241m+\u001b[39m b_hat\n\u001b[1;32m----> 6\u001b[0m     a_hat \u001b[38;5;241m-\u001b[39m\u001b[38;5;241m=\u001b[39m learning_rate\u001b[38;5;241m*\u001b[39mnp\u001b[38;5;241m.\u001b[39mmean(\u001b[38;5;241m2\u001b[39m\u001b[38;5;241m*\u001b[39mx\u001b[38;5;241m*\u001b[39m(\u001b[43my_hat\u001b[49m\u001b[38;5;241;43m-\u001b[39;49m\u001b[43my\u001b[49m))\n\u001b[0;32m      7\u001b[0m     b_hat \u001b[38;5;241m-\u001b[39m\u001b[38;5;241m=\u001b[39m learning_rate\u001b[38;5;241m*\u001b[39mnp\u001b[38;5;241m.\u001b[39mmean(\u001b[38;5;241m2\u001b[39m\u001b[38;5;241m*\u001b[39m(y_hat\u001b[38;5;241m-\u001b[39my))\n\u001b[0;32m      8\u001b[0m \u001b[38;5;28;01mreturn\u001b[39;00m a_hat, b_hat\n",
      "\u001b[1;31mValueError\u001b[0m: operands could not be broadcast together with shapes (100,) (50,) "
     ]
    }
   ],
   "source": [
    "gradient_descent(x, y, 1e-4, 100000)"
   ]
  },
  {
   "cell_type": "code",
   "execution_count": null,
   "id": "8eb373e2-29d7-4796-b2be-0b79b228f4a9",
   "metadata": {
    "tags": []
   },
   "outputs": [],
   "source": [
    "def diff(f, x):\n",
    "    h = 1e-5\n",
    "    return (f(x+h) - f(x))/h"
   ]
  },
  {
   "cell_type": "code",
   "execution_count": null,
   "id": "532b259a-7d40-464e-995f-32f00ada18f3",
   "metadata": {
    "tags": []
   },
   "outputs": [],
   "source": [
    "np.array([1, 2])[0]"
   ]
  },
  {
   "cell_type": "code",
   "execution_count": null,
   "id": "63b844fb-0f55-40e4-a573-85a8ae93630e",
   "metadata": {
    "tags": []
   },
   "outputs": [],
   "source": [
    "def fx(x):\n",
    "    a = x[0]\n",
    "    b = x[1]\n",
    "    return np.mean(a*X + b)\n",
    "\n",
    "\n",
    "def gradient_descent(x, y, learning_rate, epochs):\n",
    "    a_hat = 1000\n",
    "    for _ in range(epochs):\n",
    "        fx = lambda W: np.mean(x*W)\n",
    "        a_hat -= diff(fx, a_hat)*learning_rate\n",
    "        \n",
    "    return a_hat\n",
    "\n",
    "X = np.random.randn(100)\n",
    "y = 100*X"
   ]
  },
  {
   "cell_type": "code",
   "execution_count": null,
   "id": "06ad470f-02ad-4465-8f5d-ffa647569a2f",
   "metadata": {
    "tags": []
   },
   "outputs": [],
   "source": [
    "a_hat= gradient_descent(X, y, 1e-3, 1000)"
   ]
  },
  {
   "cell_type": "code",
   "execution_count": null,
   "id": "ce71395e-cdfc-4831-b847-0cf9ca3380ba",
   "metadata": {
    "tags": []
   },
   "outputs": [],
   "source": [
    "a_hat1 = gradient_descent(X, y, 1e-3, 10000)"
   ]
  },
  {
   "cell_type": "code",
   "execution_count": null,
   "id": "bbd61d3b-1b60-4488-a3e4-2044b92f3865",
   "metadata": {
    "tags": []
   },
   "outputs": [],
   "source": [
    "a_hat, a_hat1"
   ]
  },
  {
   "cell_type": "code",
   "execution_count": null,
   "id": "e7d6579a-68d1-4c8e-829e-6d5f6b11db3f",
   "metadata": {
    "tags": []
   },
   "outputs": [],
   "source": [
    "a_hat2 = gradient_descent(X, y, 1e-3, 100000)"
   ]
  },
  {
   "cell_type": "code",
   "execution_count": null,
   "id": "a7103dfc-b853-49e2-99ff-82cddbfdc5dd",
   "metadata": {
    "tags": []
   },
   "outputs": [],
   "source": [
    "a_hat2"
   ]
  },
  {
   "cell_type": "code",
   "execution_count": 161,
   "id": "9162fe94-5a7b-45fd-a1cf-1737d4de1614",
   "metadata": {
    "tags": []
   },
   "outputs": [
    {
     "ename": "NameError",
     "evalue": "name 'diff' is not defined",
     "output_type": "error",
     "traceback": [
      "\u001b[1;31m---------------------------------------------------------------------------\u001b[0m",
      "\u001b[1;31mNameError\u001b[0m                                 Traceback (most recent call last)",
      "Cell \u001b[1;32mIn[161], line 3\u001b[0m\n\u001b[0;32m      1\u001b[0m a_hat \u001b[38;5;241m=\u001b[39m \u001b[38;5;241m1000\u001b[39m\n\u001b[0;32m      2\u001b[0m fx \u001b[38;5;241m=\u001b[39m \u001b[38;5;28;01mlambda\u001b[39;00m W: np\u001b[38;5;241m.\u001b[39mmean(X\u001b[38;5;241m*\u001b[39mW)\n\u001b[1;32m----> 3\u001b[0m \u001b[43mdiff\u001b[49m(fx, a_hat)\n",
      "\u001b[1;31mNameError\u001b[0m: name 'diff' is not defined"
     ]
    }
   ],
   "source": [
    "a_hat = 1000\n",
    "fx = lambda W: np.mean(X*W)\n",
    "diff(fx, a_hat)"
   ]
  },
  {
   "cell_type": "code",
   "execution_count": 162,
   "id": "6b889aa9-e515-449a-badc-8bc7c2475561",
   "metadata": {
    "tags": []
   },
   "outputs": [
    {
     "data": {
      "text/plain": [
       "0.14326415890053565"
      ]
     },
     "execution_count": 162,
     "metadata": {},
     "output_type": "execute_result"
    }
   ],
   "source": [
    "np.mean(X*(1000+1e-5) - X*(1000))/(1e-5)"
   ]
  },
  {
   "cell_type": "code",
   "execution_count": 163,
   "id": "7829a46c-b49e-4666-ab9a-22327a27a1c7",
   "metadata": {
    "tags": []
   },
   "outputs": [],
   "source": [
    "def gradient_descent(x, y, learning_rate, epochs):\n",
    "    a_hat = np.random.randn(1)\n",
    "    b_hat = 0\n",
    "    W = np.array([a_hat, b_hat])\n",
    "    for _ in range(epochs):\n",
    "        predict = lambda W : x*W[0] + W[1]\n",
    "        loss = lambda y, predict : np.mean((y - predict)**2)\n",
    "        W[0] -= diff(loss, W)[0]*learning_rate\n",
    "        W[1] -= diff(loss, W)[1]*learning_rate\n",
    "\n",
    "\n",
    "    return W[0], W[1]"
   ]
  },
  {
   "cell_type": "code",
   "execution_count": 164,
   "id": "a35ef80c-1ce1-4a26-997e-e41f6a0c2257",
   "metadata": {
    "tags": []
   },
   "outputs": [],
   "source": [
    "X = np.random.rand(100)\n",
    "y = x*100 + 20"
   ]
  },
  {
   "cell_type": "code",
   "execution_count": 165,
   "id": "9e66f5c1-0069-49e5-8bbb-b93f773e9d81",
   "metadata": {
    "tags": []
   },
   "outputs": [
    {
     "ename": "ValueError",
     "evalue": "setting an array element with a sequence. The requested array has an inhomogeneous shape after 1 dimensions. The detected shape was (2,) + inhomogeneous part.",
     "output_type": "error",
     "traceback": [
      "\u001b[1;31m---------------------------------------------------------------------------\u001b[0m",
      "\u001b[1;31mValueError\u001b[0m                                Traceback (most recent call last)",
      "Cell \u001b[1;32mIn[165], line 1\u001b[0m\n\u001b[1;32m----> 1\u001b[0m \u001b[43mgradient_descent\u001b[49m\u001b[43m(\u001b[49m\u001b[43mX\u001b[49m\u001b[43m,\u001b[49m\u001b[43m \u001b[49m\u001b[43my\u001b[49m\u001b[43m,\u001b[49m\u001b[43m \u001b[49m\u001b[38;5;241;43m1e-3\u001b[39;49m\u001b[43m,\u001b[49m\u001b[43m \u001b[49m\u001b[38;5;241;43m10000\u001b[39;49m\u001b[43m)\u001b[49m\n",
      "Cell \u001b[1;32mIn[163], line 4\u001b[0m, in \u001b[0;36mgradient_descent\u001b[1;34m(x, y, learning_rate, epochs)\u001b[0m\n\u001b[0;32m      2\u001b[0m a_hat \u001b[38;5;241m=\u001b[39m np\u001b[38;5;241m.\u001b[39mrandom\u001b[38;5;241m.\u001b[39mrandn(\u001b[38;5;241m1\u001b[39m)\n\u001b[0;32m      3\u001b[0m b_hat \u001b[38;5;241m=\u001b[39m \u001b[38;5;241m0\u001b[39m\n\u001b[1;32m----> 4\u001b[0m W \u001b[38;5;241m=\u001b[39m \u001b[43mnp\u001b[49m\u001b[38;5;241;43m.\u001b[39;49m\u001b[43marray\u001b[49m\u001b[43m(\u001b[49m\u001b[43m[\u001b[49m\u001b[43ma_hat\u001b[49m\u001b[43m,\u001b[49m\u001b[43m \u001b[49m\u001b[43mb_hat\u001b[49m\u001b[43m]\u001b[49m\u001b[43m)\u001b[49m\n\u001b[0;32m      5\u001b[0m \u001b[38;5;28;01mfor\u001b[39;00m _ \u001b[38;5;129;01min\u001b[39;00m \u001b[38;5;28mrange\u001b[39m(epochs):\n\u001b[0;32m      6\u001b[0m     predict \u001b[38;5;241m=\u001b[39m \u001b[38;5;28;01mlambda\u001b[39;00m W : x\u001b[38;5;241m*\u001b[39mW[\u001b[38;5;241m0\u001b[39m] \u001b[38;5;241m+\u001b[39m W[\u001b[38;5;241m1\u001b[39m]\n",
      "\u001b[1;31mValueError\u001b[0m: setting an array element with a sequence. The requested array has an inhomogeneous shape after 1 dimensions. The detected shape was (2,) + inhomogeneous part."
     ]
    }
   ],
   "source": [
    "gradient_descent(X, y, 1e-3, 10000)"
   ]
  },
  {
   "cell_type": "code",
   "execution_count": null,
   "id": "a3305271-fe59-402b-84d4-e422d9a56f4a",
   "metadata": {},
   "outputs": [],
   "source": []
  },
  {
   "cell_type": "code",
   "execution_count": null,
   "id": "493f4f68-bf29-4264-9b5f-5c4f90028f6b",
   "metadata": {},
   "outputs": [],
   "source": []
  },
  {
   "cell_type": "code",
   "execution_count": 166,
   "id": "ca35002c-3687-439f-bc6a-107e870e816e",
   "metadata": {},
   "outputs": [],
   "source": [
    "a_hat = 1000\n",
    "b_hat = 0\n",
    "h = 1e-5"
   ]
  },
  {
   "cell_type": "code",
   "execution_count": 167,
   "id": "18314580-ce14-4e74-9cc9-6fc4f1f7566d",
   "metadata": {},
   "outputs": [],
   "source": [
    "predict_a = lambda a_hat : X*a_hat + b_hat"
   ]
  },
  {
   "cell_type": "code",
   "execution_count": 168,
   "id": "6979e0f3-94d7-4a20-9e84-3df891779207",
   "metadata": {},
   "outputs": [],
   "source": [
    "loss_a = lambda y, predict_a : np.mean(y-predict_a)**2"
   ]
  },
  {
   "cell_type": "code",
   "execution_count": 169,
   "id": "c2e8f89a-57ec-406b-8592-f0f0813f1bb5",
   "metadata": {
    "tags": []
   },
   "outputs": [],
   "source": [
    "predict_b = lambda b_hat : X*a_hat + b_hat"
   ]
  },
  {
   "cell_type": "code",
   "execution_count": 170,
   "id": "5f403193-b12a-403c-99ee-4e2c9cd5e116",
   "metadata": {
    "tags": []
   },
   "outputs": [],
   "source": [
    "loss_b = lambda y, predict_b : np.mean(y-predict_b)**2"
   ]
  },
  {
   "cell_type": "code",
   "execution_count": 171,
   "id": "dc38c10e-ebda-43cb-a645-22c4d6cf2e7c",
   "metadata": {
    "tags": []
   },
   "outputs": [
    {
     "data": {
      "text/plain": [
       "array([335.90392401, 197.52683145, 427.70106137, 971.94262743,\n",
       "       979.69508065,  90.3128437 , 618.76761639, 514.11210505,\n",
       "        85.56193308,   6.8665569 , 760.26204106, 259.82144723,\n",
       "       391.85237323, 818.99678904, 273.84734823, 812.72025561,\n",
       "       692.24017958,  74.18832147, 989.90259746, 963.97826022,\n",
       "       998.97274341, 453.60559244, 641.17289374, 107.25542251,\n",
       "       333.52650762, 958.80995761, 315.50545277, 950.84667979,\n",
       "       829.05373342, 637.15805434, 877.15095347, 409.90063323,\n",
       "       212.30879646, 962.32491445, 617.69353363, 140.5386212 ,\n",
       "       974.48112376, 634.26758358, 176.43589548, 596.47727225,\n",
       "       658.15569522, 838.21250378, 756.64535176, 907.11831734,\n",
       "       117.54550194, 440.02459174, 685.59119278, 920.5205346 ,\n",
       "       264.76459552, 387.44363387, 388.70762717, 940.85444385,\n",
       "       843.10501795, 637.73088218, 597.83713232, 975.29360405,\n",
       "       915.80405329,  32.69363341, 630.28550713, 324.11952492,\n",
       "       621.10928944, 391.73061712, 431.89591093, 742.27619412,\n",
       "       497.22137275, 218.29567276, 678.26081071, 949.42911277,\n",
       "       480.98866029, 428.37212773, 104.9206051 , 507.75594774,\n",
       "       839.04251483, 888.71305274, 333.80260428, 773.75599213,\n",
       "       569.40090513, 362.09974366, 117.94942312, 757.27212664,\n",
       "       598.97671949, 863.31019583, 349.55000282, 546.35693933,\n",
       "       113.18196437, 483.12573743, 202.54127077, 731.0076543 ,\n",
       "       728.40559239, 326.38144269, 352.12347333, 246.78828885,\n",
       "       777.50455505, 736.65576696,  94.6016315 , 600.47827358,\n",
       "        89.73814074, 653.46616566,  32.92921732, 847.28932455])"
      ]
     },
     "execution_count": 171,
     "metadata": {},
     "output_type": "execute_result"
    }
   ],
   "source": [
    "predict_a(a_hat)"
   ]
  },
  {
   "cell_type": "code",
   "execution_count": 172,
   "id": "f5629126-d599-4b05-8691-ae8bd00c4b9c",
   "metadata": {
    "tags": []
   },
   "outputs": [
    {
     "data": {
      "text/plain": [
       "267470.7519206711"
      ]
     },
     "execution_count": 172,
     "metadata": {},
     "output_type": "execute_result"
    }
   ],
   "source": [
    "loss_a(y, predict_a(a_hat))"
   ]
  },
  {
   "cell_type": "code",
   "execution_count": 173,
   "id": "0fa1de1b-0ac1-45d5-8252-c7bbeb688e62",
   "metadata": {
    "tags": []
   },
   "outputs": [
    {
     "data": {
      "text/plain": [
       "562.9442108329386"
      ]
     },
     "execution_count": 173,
     "metadata": {},
     "output_type": "execute_result"
    }
   ],
   "source": [
    "(loss_a(y, predict_a(a_hat+h))-loss_a(y, predict_a(a_hat)))/h"
   ]
  },
  {
   "cell_type": "code",
   "execution_count": 174,
   "id": "c4dc4cb1-36a2-4835-9e4b-c53062b718fe",
   "metadata": {
    "tags": []
   },
   "outputs": [
    {
     "data": {
      "text/plain": [
       "3034.35125388205"
      ]
     },
     "execution_count": 174,
     "metadata": {},
     "output_type": "execute_result"
    }
   ],
   "source": [
    "(loss_b(y, predict_b(a_hat+h))-loss_b(y, predict_b(a_hat)))/h"
   ]
  },
  {
   "cell_type": "code",
   "execution_count": 175,
   "id": "b4649898-f672-4ec3-90dc-63aabc0ab01f",
   "metadata": {
    "tags": []
   },
   "outputs": [],
   "source": [
    "x1 = np.random.randn(100)\n",
    "x2 = np.random.randn(100)"
   ]
  },
  {
   "cell_type": "code",
   "execution_count": 176,
   "id": "d1d75f1f-8473-4a67-b000-58ead068875c",
   "metadata": {
    "tags": []
   },
   "outputs": [],
   "source": [
    "a1 = 100\n",
    "a2 = -3"
   ]
  },
  {
   "cell_type": "code",
   "execution_count": 177,
   "id": "6368483d-184f-4c1f-828f-6cda04898c61",
   "metadata": {
    "tags": []
   },
   "outputs": [],
   "source": [
    "y = a1*x1 + a2*x2 #회귀식"
   ]
  },
  {
   "cell_type": "code",
   "execution_count": 178,
   "id": "22d8a721-0385-433d-be95-e3d62b094b94",
   "metadata": {
    "tags": []
   },
   "outputs": [
    {
     "data": {
      "text/plain": [
       "(99.99999989783818, -3.000000076068408)"
      ]
     },
     "execution_count": 178,
     "metadata": {},
     "output_type": "execute_result"
    }
   ],
   "source": [
    "a_hat1 = -15\n",
    "a_hat2 = 4\n",
    "for _ in range(100000):\n",
    "    y_hat = a_hat1*x1 + a_hat2*x2\n",
    "    da1 = np.mean(2*x1*(y_hat-y))\n",
    "    da2 = np.mean(2*x2*(y_hat-y))\n",
    "    a_hat1 -= da1*1e-4\n",
    "    a_hat2 -= da2*1e-4\n",
    "    \n",
    "a_hat1, a_hat2"
   ]
  },
  {
   "cell_type": "code",
   "execution_count": 179,
   "id": "b6e35046-83c9-4369-afb5-b8381c194476",
   "metadata": {
    "tags": []
   },
   "outputs": [],
   "source": [
    "X = np.c_[x1, x2]\n",
    "W = np.array([a1, a2]).reshape(2,1)\n",
    "y = np.dot(X, W)"
   ]
  },
  {
   "cell_type": "code",
   "execution_count": 180,
   "id": "cc544350-c907-41a4-aff1-fd9c94203d9e",
   "metadata": {
    "tags": []
   },
   "outputs": [],
   "source": [
    "W_hat = np.random.randn(2, 1)"
   ]
  },
  {
   "cell_type": "code",
   "execution_count": 181,
   "id": "41fb63c0-a129-4b34-bd21-87167509d327",
   "metadata": {
    "tags": []
   },
   "outputs": [
    {
     "data": {
      "text/plain": [
       "((100, 2), (2, 100), (2, 100))"
      ]
     },
     "execution_count": 181,
     "metadata": {},
     "output_type": "execute_result"
    }
   ],
   "source": [
    "X.shape, X.T.shape, X.transpose().shape"
   ]
  },
  {
   "cell_type": "code",
   "execution_count": 182,
   "id": "dafd6851-7753-4d98-8bc1-01dcfeab3d7c",
   "metadata": {
    "tags": []
   },
   "outputs": [],
   "source": [
    "X = np.random.randn(100, 50)\n",
    "W = np.arange(1, 51).reshape(50, 1)\n",
    "b = 300\n",
    "y = np.dot(X, W) + b"
   ]
  },
  {
   "cell_type": "code",
   "execution_count": 183,
   "id": "bb6c2677-e3b8-430f-a09f-ca1b52266fbd",
   "metadata": {
    "tags": []
   },
   "outputs": [
    {
     "data": {
      "text/plain": [
       "(array([[ 0.99625903],\n",
       "        [ 2.00066653],\n",
       "        [ 2.99801499],\n",
       "        [ 3.99989931],\n",
       "        [ 5.00341894],\n",
       "        [ 5.9991791 ],\n",
       "        [ 7.00101281],\n",
       "        [ 7.9939349 ],\n",
       "        [ 9.00861652],\n",
       "        [ 9.9969608 ],\n",
       "        [11.00106954],\n",
       "        [12.00164816],\n",
       "        [12.99696358],\n",
       "        [13.99860335],\n",
       "        [14.99130209],\n",
       "        [16.00254947],\n",
       "        [17.00497231],\n",
       "        [17.99287758],\n",
       "        [18.99102216],\n",
       "        [20.00212971],\n",
       "        [21.00200501],\n",
       "        [22.00365408],\n",
       "        [23.00418284],\n",
       "        [24.00239203],\n",
       "        [25.00102762],\n",
       "        [25.99997719],\n",
       "        [26.99120071],\n",
       "        [27.98307937],\n",
       "        [29.00119415],\n",
       "        [30.0131975 ],\n",
       "        [30.99614477],\n",
       "        [32.00955575],\n",
       "        [33.00016606],\n",
       "        [33.99337253],\n",
       "        [34.99603924],\n",
       "        [35.99430675],\n",
       "        [36.99733309],\n",
       "        [38.00587134],\n",
       "        [38.99993001],\n",
       "        [39.99820216],\n",
       "        [40.99410015],\n",
       "        [41.99790108],\n",
       "        [43.0045532 ],\n",
       "        [43.99472942],\n",
       "        [45.00536434],\n",
       "        [45.99686514],\n",
       "        [46.99358449],\n",
       "        [48.01245941],\n",
       "        [48.99360784],\n",
       "        [49.9968275 ]]),\n",
       " 299.96083407633836)"
      ]
     },
     "execution_count": 183,
     "metadata": {},
     "output_type": "execute_result"
    }
   ],
   "source": [
    "learning_rate = 1e-4\n",
    "W_hat = np.random.randn(W.shape[0], W.shape[1])\n",
    "b_hat = 0\n",
    "for _ in range(100000):\n",
    "    y_hat = np.dot(X, W_hat) + b_hat\n",
    "    dw = 2*np.dot(X.T,(y_hat-y))\n",
    "    db = 2*np.mean(y_hat-y)\n",
    "    W_hat -= dw*learning_rate\n",
    "    b_hat -= db*learning_rate\n",
    "W_hat, b_hat"
   ]
  },
  {
   "cell_type": "code",
   "execution_count": 184,
   "id": "41171bc0-623b-4c9d-93c2-a09d22f5d974",
   "metadata": {
    "tags": []
   },
   "outputs": [],
   "source": [
    "X = np.random.choice(np.arange(1,9), 100)"
   ]
  },
  {
   "cell_type": "code",
   "execution_count": 185,
   "id": "02700236-2aab-4912-b157-02153a4dceb6",
   "metadata": {
    "tags": []
   },
   "outputs": [],
   "source": [
    "y = np.where(X >= 4, 1, 0)"
   ]
  },
  {
   "cell_type": "code",
   "execution_count": 186,
   "id": "8c1539bc-6791-4fd3-bd40-b7b3f95e0935",
   "metadata": {
    "tags": []
   },
   "outputs": [],
   "source": [
    "learning_rate = 1e-4\n",
    "a_hat = np.random.randn(1)\n",
    "for _ in range(10000):\n",
    "    y_hat = X * a_hat\n",
    "    da = np.mean(2*X*(y_hat-y))\n",
    "    a_hat -= da*learning_rate"
   ]
  },
  {
   "cell_type": "code",
   "execution_count": 187,
   "id": "bc996966-8dfe-4dd4-92cb-bf267a2c377b",
   "metadata": {
    "tags": []
   },
   "outputs": [
    {
     "data": {
      "text/plain": [
       "array([0.14758621])"
      ]
     },
     "execution_count": 187,
     "metadata": {},
     "output_type": "execute_result"
    }
   ],
   "source": [
    "a_hat"
   ]
  },
  {
   "cell_type": "code",
   "execution_count": 188,
   "id": "0e03ebdc-9c02-48f9-a0bf-b1b0ea21155c",
   "metadata": {
    "tags": []
   },
   "outputs": [
    {
     "data": {
      "text/plain": [
       "array([0.44275862])"
      ]
     },
     "execution_count": 188,
     "metadata": {},
     "output_type": "execute_result"
    }
   ],
   "source": [
    "a_hat*X[0]"
   ]
  },
  {
   "cell_type": "code",
   "execution_count": 189,
   "id": "db25eb0e-24ea-4811-a24c-745d75ae4576",
   "metadata": {
    "tags": []
   },
   "outputs": [
    {
     "name": "stdout",
     "output_type": "stream",
     "text": [
      "[0] 0\n",
      "[0] 0\n",
      "[0] 0\n",
      "[0] 0\n",
      "[1] 1\n",
      "[0] 0\n",
      "[1] 1\n",
      "[1] 1\n",
      "[0] 0\n",
      "[0] 0\n",
      "[1] 1\n",
      "[1] 1\n",
      "[0] 0\n",
      "[0] 0\n",
      "[1] 1\n",
      "[1] 1\n",
      "[1] 1\n",
      "[1] 1\n",
      "[1] 1\n",
      "[1] 1\n",
      "[1] 1\n",
      "[1] 1\n",
      "[1] 1\n",
      "[1] 1\n",
      "[1] 1\n",
      "[0] 0\n",
      "[1] 1\n",
      "[0] 0\n",
      "[1] 1\n",
      "[0] 0\n",
      "[0] 0\n",
      "[1] 1\n",
      "[1] 1\n",
      "[0] 0\n",
      "[0] 0\n",
      "[0] 0\n",
      "[0] 0\n",
      "[1] 1\n",
      "[0] 0\n",
      "[0] 0\n",
      "[1] 1\n",
      "[1] 1\n",
      "[1] 1\n",
      "[0] 0\n",
      "[1] 1\n",
      "[1] 1\n",
      "[1] 1\n",
      "[0] 0\n",
      "[1] 1\n",
      "[0] 0\n",
      "[1] 1\n",
      "[1] 1\n",
      "[0] 0\n",
      "[1] 1\n",
      "[1] 1\n",
      "[1] 1\n",
      "[1] 1\n",
      "[0] 0\n",
      "[0] 0\n",
      "[1] 1\n",
      "[0] 0\n",
      "[1] 1\n",
      "[0] 0\n",
      "[1] 1\n",
      "[1] 1\n",
      "[1] 1\n",
      "[1] 1\n",
      "[1] 1\n",
      "[1] 1\n",
      "[1] 1\n",
      "[0] 0\n",
      "[0] 0\n",
      "[1] 1\n",
      "[1] 1\n",
      "[0] 0\n",
      "[0] 0\n",
      "[0] 0\n",
      "[1] 1\n",
      "[0] 0\n",
      "[0] 0\n",
      "[1] 1\n",
      "[0] 0\n",
      "[0] 0\n",
      "[1] 1\n",
      "[1] 1\n",
      "[0] 0\n",
      "[0] 0\n",
      "[1] 1\n",
      "[0] 0\n",
      "[0] 0\n",
      "[1] 1\n",
      "[0] 0\n",
      "[0] 0\n",
      "[0] 0\n",
      "[1] 1\n",
      "[0] 0\n",
      "[1] 1\n",
      "[1] 1\n",
      "[0] 0\n",
      "[1] 1\n"
     ]
    }
   ],
   "source": [
    "for i in range(100):\n",
    "    print(np.where(a_hat*X[i] > 0.5, 1, 0), y[i])"
   ]
  },
  {
   "cell_type": "code",
   "execution_count": 190,
   "id": "b063d152-4169-4897-bfce-fff30904b77d",
   "metadata": {
    "tags": []
   },
   "outputs": [],
   "source": [
    "import matplotlib.pyplot as plt"
   ]
  },
  {
   "cell_type": "code",
   "execution_count": 191,
   "id": "a41b9a49-0e51-4b1e-a9af-ec4b4eafd357",
   "metadata": {
    "tags": []
   },
   "outputs": [],
   "source": [
    "p = np.linspace(0, 0.9999, 100)"
   ]
  },
  {
   "cell_type": "code",
   "execution_count": 192,
   "id": "d66f9dfc-c4ed-430c-87ac-0988bfb076df",
   "metadata": {
    "tags": []
   },
   "outputs": [
    {
     "data": {
      "text/plain": [
       "[<matplotlib.lines.Line2D at 0x186dec81910>]"
      ]
     },
     "execution_count": 192,
     "metadata": {},
     "output_type": "execute_result"
    },
    {
     "data": {
      "image/png": "[encoded data removed]",
      "text/plain": [
       "<Figure size 640x480 with 1 Axes>"
      ]
     },
     "metadata": {},
     "output_type": "display_data"
    }
   ],
   "source": [
    "plt.plot(p)"
   ]
  },
  {
   "cell_type": "code",
   "execution_count": 193,
   "id": "bd7722d7-f430-489c-8c28-ad2bd744d804",
   "metadata": {
    "tags": []
   },
   "outputs": [
    {
     "data": {
      "text/plain": [
       "[<matplotlib.lines.Line2D at 0x186ded40f10>]"
      ]
     },
     "execution_count": 193,
     "metadata": {},
     "output_type": "execute_result"
    },
    {
     "data": {
      "image/png": "[encoded data removed]",
      "text/plain": [
       "<Figure size 640x480 with 1 Axes>"
      ]
     },
     "metadata": {},
     "output_type": "display_data"
    }
   ],
   "source": [
    "plt.plot(p/(1-p))"
   ]
  },
  {
   "cell_type": "code",
   "execution_count": 194,
   "id": "e4b9a4cd-fff8-43ea-b263-7f08b5bb9cbc",
   "metadata": {
    "tags": []
   },
   "outputs": [
    {
     "name": "stderr",
     "output_type": "stream",
     "text": [
      "C:\\Users\\user\\AppData\\Local\\Temp\\ipykernel_26368\\2845543051.py:1: RuntimeWarning: divide by zero encountered in log\n",
      "  plt.plot(np.log(p/(1-p)))\n"
     ]
    },
    {
     "data": {
      "text/plain": [
       "[<matplotlib.lines.Line2D at 0x186dedec650>]"
      ]
     },
     "execution_count": 194,
     "metadata": {},
     "output_type": "execute_result"
    },
    {
     "data": {
      "image/png": "[encoded data removed]",
      "text/plain": [
       "<Figure size 640x480 with 1 Axes>"
      ]
     },
     "metadata": {},
     "output_type": "display_data"
    }
   ],
   "source": [
    "plt.plot(np.log(p/(1-p)))"
   ]
  },
  {
   "cell_type": "code",
   "execution_count": 195,
   "id": "84f8c313-fd60-4217-ac60-32c8489e356e",
   "metadata": {
    "tags": []
   },
   "outputs": [
    {
     "name": "stderr",
     "output_type": "stream",
     "text": [
      "C:\\Users\\user\\AppData\\Local\\Temp\\ipykernel_26368\\2420458820.py:2: RuntimeWarning: divide by zero encountered in log\n",
      "  plt.plot(8*np.log(p) + 2*np.log(1-p))\n"
     ]
    },
    {
     "data": {
      "text/plain": [
       "[<matplotlib.lines.Line2D at 0x186dee8abd0>]"
      ]
     },
     "execution_count": 195,
     "metadata": {},
     "output_type": "execute_result"
    },
    {
     "data": {
      "image/png": "[encoded data removed]",
      "text/plain": [
       "<Figure size 640x480 with 1 Axes>"
      ]
     },
     "metadata": {},
     "output_type": "display_data"
    }
   ],
   "source": [
    "p = np.linspace(0, 1, 100)\n",
    "plt.plot(8*np.log(p) + 2*np.log(1-p))"
   ]
  },
  {
   "cell_type": "code",
   "execution_count": 196,
   "id": "ed91ec74-488f-4e71-b4c1-568a1e42224c",
   "metadata": {},
   "outputs": [],
   "source": [
    "x = np.random.uniform(0 ,6, 1000)"
   ]
  },
  {
   "cell_type": "code",
   "execution_count": 197,
   "id": "820b8946-e048-4f3f-afa6-a9fe7aa6ebdf",
   "metadata": {
    "tags": []
   },
   "outputs": [
    {
     "data": {
      "text/plain": [
       "array([4.23306722e+00, 3.55241467e+00, 3.77862904e+00, 4.22853504e+00,\n",
       "       5.16734448e+00, 3.00768124e+00, 2.91233675e+00, 1.47751034e+00,\n",
       "       2.56737149e+00, 7.29560846e-01, 5.21820290e+00, 9.06887878e-01,\n",
       "       4.82174073e+00, 4.13613524e+00, 4.48438411e+00, 1.39137052e+00,\n",
       "       3.14184963e+00, 4.42567688e+00, 1.72850149e+00, 3.04490811e-01,\n",
       "       4.61788667e+00, 7.10453284e-01, 2.21041394e+00, 3.40470142e+00,\n",
       "       1.70896316e-01, 2.79528831e+00, 1.36770817e+00, 5.12222262e+00,\n",
       "       1.50314190e+00, 4.67894668e+00, 1.62492569e+00, 2.96681315e-01,\n",
       "       5.07129591e+00, 3.38526082e-01, 3.03468083e+00, 3.78296602e+00,\n",
       "       3.18864540e+00, 3.80070781e+00, 2.38225025e+00, 5.20509593e+00,\n",
       "       1.63669148e+00, 5.56838893e+00, 4.78664575e+00, 5.63932978e+00,\n",
       "       6.70813997e-01, 2.31217867e+00, 3.65843249e+00, 1.41479552e-01,\n",
       "       3.17647728e+00, 3.67230075e+00, 3.42849647e+00, 5.35985730e+00,\n",
       "       3.96584068e-01, 2.21024590e+00, 5.98224603e+00, 3.84315682e-01,\n",
       "       5.86018704e-01, 3.47292627e+00, 5.35700388e+00, 3.32787090e+00,\n",
       "       5.85809626e-01, 4.25457756e+00, 2.75471696e+00, 2.88642757e-02,\n",
       "       5.37057434e+00, 5.56283321e-01, 5.69404265e+00, 2.18672543e+00,\n",
       "       2.03354495e+00, 1.07619411e+00, 1.65422019e-01, 5.95351859e+00,\n",
       "       1.07268494e+00, 3.86479658e+00, 5.11278424e+00, 1.15498103e+00,\n",
       "       1.72646228e+00, 1.89600959e-01, 5.11676174e+00, 9.58963892e-01,\n",
       "       4.88000828e+00, 5.72110423e+00, 4.99404222e+00, 3.32076978e+00,\n",
       "       3.18677303e+00, 2.62895424e+00, 2.28788927e+00, 4.39126854e+00,\n",
       "       3.26813386e+00, 1.47720278e+00, 4.80641287e+00, 5.06696107e+00,\n",
       "       9.88602763e-01, 3.44633533e+00, 5.71309775e+00, 4.51577205e+00,\n",
       "       2.77310977e+00, 3.74818990e+00, 2.82879793e+00, 4.96475944e-01,\n",
       "       3.13864892e-01, 4.73175435e-02, 2.72671032e+00, 2.54078192e+00,\n",
       "       8.19667473e-01, 3.80287430e-01, 2.54832684e-01, 4.35515413e+00,\n",
       "       4.76841954e+00, 3.68976929e+00, 4.74115166e+00, 4.88171827e+00,\n",
       "       1.96186109e+00, 1.50736809e-01, 2.03910493e+00, 2.85478956e+00,\n",
       "       3.65165672e+00, 2.36347925e+00, 2.48521559e+00, 5.70145192e+00,\n",
       "       7.54091914e-02, 3.68553331e+00, 3.66131663e+00, 5.76379951e+00,\n",
       "       3.69202360e+00, 5.76938043e+00, 1.96577350e+00, 1.93242735e+00,\n",
       "       2.68868008e+00, 2.69116041e+00, 2.22077519e+00, 4.59846022e+00,\n",
       "       4.03533097e-01, 4.51702316e+00, 4.11750198e+00, 5.66519232e+00,\n",
       "       4.11386029e+00, 5.30478660e+00, 4.40409200e+00, 4.01860067e+00,\n",
       "       5.04249992e+00, 1.78418862e+00, 3.80550376e+00, 5.19848186e+00,\n",
       "       1.13842004e+00, 4.78407334e+00, 2.14438116e+00, 2.81406629e+00,\n",
       "       4.25514567e+00, 1.33318367e+00, 7.14624448e-01, 3.52098114e+00,\n",
       "       3.63505231e+00, 3.49606541e+00, 1.56572798e+00, 2.15829580e+00,\n",
       "       4.28818822e+00, 5.56963594e+00, 2.66272912e-01, 4.62192883e-01,\n",
       "       5.09021632e+00, 5.86737090e+00, 4.05826283e+00, 3.39283950e+00,\n",
       "       5.76321854e+00, 5.99633217e+00, 1.66062057e+00, 4.68049602e+00,\n",
       "       9.28878115e-01, 5.31883437e+00, 7.01903289e-01, 1.10088284e+00,\n",
       "       4.75638839e+00, 3.27772234e+00, 1.61978557e+00, 1.52425126e+00,\n",
       "       2.82494007e+00, 1.84764005e+00, 3.08065504e-01, 5.46900756e+00,\n",
       "       4.50524172e+00, 3.33340627e+00, 1.47500710e+00, 4.90817005e+00,\n",
       "       2.63907726e+00, 1.76288268e+00, 5.38862660e+00, 5.51490109e+00,\n",
       "       4.93309125e+00, 5.17187108e-01, 2.83693954e+00, 2.39049843e+00,\n",
       "       1.76770186e+00, 5.06526529e+00, 1.31189550e+00, 1.32128377e+00,\n",
       "       4.39713971e+00, 5.28726789e+00, 5.08453543e+00, 5.70313938e+00,\n",
       "       3.44706643e+00, 5.11423499e+00, 5.00801214e-01, 2.18069150e+00,\n",
       "       4.86667863e+00, 3.79649856e+00, 3.93567931e+00, 4.79704250e+00,\n",
       "       5.49920967e+00, 3.69085805e+00, 2.11890647e+00, 5.68384990e-01,\n",
       "       5.15740233e+00, 5.65042017e+00, 4.15203204e+00, 3.21264952e-01,\n",
       "       5.35191339e+00, 5.05306752e+00, 4.28067251e+00, 4.65045546e+00,\n",
       "       4.95536186e+00, 1.35804110e+00, 2.36209346e+00, 5.04319239e+00,\n",
       "       3.30727667e+00, 5.19754583e+00, 9.06128638e-01, 2.20334141e+00,\n",
       "       5.87458256e+00, 2.30924956e+00, 9.35425482e-01, 1.18164781e-01,\n",
       "       5.74127613e+00, 1.20402873e+00, 9.52826607e-01, 5.71618869e+00,\n",
       "       1.46968835e+00, 3.95973622e-01, 1.88473470e+00, 5.94595301e+00,\n",
       "       5.84640650e-01, 3.49767986e+00, 4.80949823e+00, 5.84715501e+00,\n",
       "       4.47680714e+00, 5.36356827e+00, 3.99278899e+00, 1.95796099e-01,\n",
       "       4.63399135e+00, 4.21699205e+00, 3.70137997e+00, 3.30124168e-01,\n",
       "       9.15919470e-01, 1.88831394e+00, 2.52084021e+00, 4.64951172e+00,\n",
       "       4.31931181e+00, 6.38568762e-01, 3.69194207e+00, 1.74485875e+00,\n",
       "       2.04464496e+00, 4.48837263e+00, 1.15767027e-01, 5.65563474e+00,\n",
       "       1.09260178e+00, 9.56066427e-02, 3.76068471e+00, 1.77093820e+00,\n",
       "       3.14681602e+00, 1.70937127e+00, 1.12443177e+00, 4.40157756e+00,\n",
       "       4.25985314e+00, 2.36291609e+00, 5.68944270e+00, 4.09637640e+00,\n",
       "       3.54620776e+00, 3.57341819e+00, 3.56334322e+00, 2.03692080e+00,\n",
       "       3.34854288e+00, 4.14053336e+00, 2.49076346e+00, 5.18939497e+00,\n",
       "       3.91704931e+00, 3.30558908e+00, 3.82755189e+00, 5.42749527e+00,\n",
       "       5.35224137e-01, 1.26088748e+00, 7.49455880e-01, 3.80217501e+00,\n",
       "       5.19196950e+00, 4.70856876e+00, 4.95748154e+00, 3.21070627e+00,\n",
       "       4.29990488e+00, 5.65343948e+00, 2.68629745e+00, 5.18900294e+00,\n",
       "       1.23323051e+00, 4.84052420e+00, 1.55657548e+00, 3.08317631e+00,\n",
       "       3.86994020e+00, 4.20498694e+00, 2.13386875e+00, 1.94168360e+00,\n",
       "       2.47593086e+00, 1.77318834e+00, 1.22632817e+00, 3.28735237e+00,\n",
       "       5.69861703e+00, 4.81954998e+00, 5.71720827e+00, 4.45939807e+00,\n",
       "       6.85528361e-01, 3.14321808e+00, 3.77966550e-01, 4.57281408e+00,\n",
       "       1.83037425e+00, 8.81099479e-02, 2.14977481e+00, 3.21609305e+00,\n",
       "       4.08292940e+00, 6.50274100e-01, 2.03865658e+00, 3.26354201e-01,\n",
       "       3.51672389e+00, 1.09850796e+00, 5.50480104e+00, 2.16859853e+00,\n",
       "       2.49060965e-01, 5.02367846e+00, 1.50747917e+00, 3.08771670e+00,\n",
       "       1.60423096e+00, 5.31572950e+00, 3.78154003e+00, 3.84525988e-01,\n",
       "       7.10543863e-01, 8.14023007e-01, 1.29588063e-01, 3.74650011e+00,\n",
       "       2.21560275e+00, 7.81994759e-01, 4.07843384e+00, 4.46363670e+00,\n",
       "       4.12675248e+00, 6.07916708e-01, 3.95262997e+00, 4.30712056e-01,\n",
       "       8.82397429e-01, 5.95965273e+00, 1.16632579e+00, 4.67633492e+00,\n",
       "       1.26397386e+00, 1.66473421e+00, 3.18835874e+00, 5.67205261e+00,\n",
       "       5.64903183e+00, 2.08311829e+00, 2.64471528e+00, 1.70550680e+00,\n",
       "       4.54403744e+00, 1.50333873e+00, 4.20522136e-01, 2.23535263e-01,\n",
       "       1.81663993e+00, 2.75145339e+00, 2.45054837e+00, 3.91310970e-01,\n",
       "       3.49964681e+00, 2.67436215e+00, 1.12267331e+00, 4.82214065e-01,\n",
       "       4.82366163e+00, 1.02569179e+00, 1.22388341e+00, 4.41846490e+00,\n",
       "       4.69425254e+00, 4.68613560e+00, 3.50734028e+00, 3.98996995e+00,\n",
       "       1.46690777e+00, 2.89624166e+00, 2.21781378e+00, 1.31165239e+00,\n",
       "       1.92736527e-01, 3.20142858e+00, 3.29571928e+00, 1.46442278e+00,\n",
       "       2.96167122e+00, 4.21320046e+00, 2.11796456e+00, 2.11863137e+00,\n",
       "       1.09930119e+00, 4.04955333e-01, 1.48829557e+00, 3.01395829e+00,\n",
       "       4.73218555e+00, 2.88889952e+00, 2.93840591e+00, 4.51484095e+00,\n",
       "       5.45863535e+00, 9.97270394e-01, 5.71857273e+00, 5.79575882e+00,\n",
       "       9.15492207e-01, 2.66143248e+00, 1.52818453e+00, 4.67925539e+00,\n",
       "       1.31400605e+00, 5.83870573e+00, 2.20904951e+00, 5.54736745e+00,\n",
       "       1.75218889e+00, 3.17429435e-01, 1.05206680e+00, 3.60766070e+00,\n",
       "       4.63227645e-01, 3.35364358e+00, 1.13290471e+00, 4.14706961e+00,\n",
       "       4.95299782e+00, 3.63144843e+00, 3.30416610e-01, 1.24136741e+00,\n",
       "       4.62870083e+00, 3.74723280e+00, 3.21215050e+00, 4.44682098e+00,\n",
       "       1.49319307e+00, 1.12404969e+00, 2.90186986e+00, 4.60437912e-01,\n",
       "       1.36586073e+00, 1.27617024e+00, 1.96786796e+00, 8.45707713e-01,\n",
       "       1.77127593e+00, 3.75446520e+00, 5.17926165e+00, 8.91455527e-01,\n",
       "       2.58193554e+00, 1.36032180e+00, 4.04840470e+00, 3.67295246e-01,\n",
       "       3.94376901e+00, 5.71102434e+00, 4.44277879e+00, 9.19518216e-01,\n",
       "       2.01219926e+00, 5.78546445e+00, 4.20849817e-01, 4.81207414e+00,\n",
       "       5.82143411e+00, 4.14431908e+00, 5.93877791e+00, 1.10033776e+00,\n",
       "       3.92746467e+00, 2.72408353e+00, 1.48327374e+00, 2.83187831e+00,\n",
       "       2.50928972e+00, 5.64716175e+00, 6.18010875e-02, 4.99442363e+00,\n",
       "       5.33812037e+00, 3.12741500e+00, 1.94060040e+00, 1.18911093e+00,\n",
       "       5.11167734e-01, 1.15304932e+00, 3.77361970e+00, 4.63511462e+00,\n",
       "       4.66582431e-01, 1.25720072e-01, 9.31501121e-01, 2.79263453e+00,\n",
       "       1.24902263e+00, 4.89909150e+00, 3.47724727e+00, 2.61186662e+00,\n",
       "       4.61451984e+00, 2.34092976e+00, 4.68632102e-01, 4.66622963e+00,\n",
       "       5.04376069e+00, 1.48350698e+00, 3.15056547e+00, 5.45254379e+00,\n",
       "       2.81529552e+00, 1.87965802e+00, 2.24616883e+00, 2.39806552e+00,\n",
       "       5.92197826e+00, 1.68087625e+00, 5.69169460e+00, 3.57377564e+00,\n",
       "       9.39473650e-01, 1.95167699e+00, 4.37204081e-01, 5.94632052e+00,\n",
       "       5.82033249e+00, 1.41359443e+00, 5.52213119e-03, 4.69970052e-02,\n",
       "       3.06565759e+00, 9.76206685e-01, 3.50290619e-01, 1.17311956e+00,\n",
       "       5.25484195e+00, 1.31873751e+00, 2.21316952e+00, 1.51770960e+00,\n",
       "       2.04488659e+00, 5.59446701e+00, 2.40094985e-01, 3.62687230e+00,\n",
       "       5.97864807e-01, 3.65682477e+00, 2.14697408e-01, 2.92869933e+00,\n",
       "       1.47008455e+00, 2.37127301e-01, 5.55859327e+00, 2.34686271e+00,\n",
       "       5.60181467e-01, 5.59942402e-01, 3.78200478e+00, 3.17741846e+00,\n",
       "       1.15888360e+00, 3.19118247e+00, 4.03103629e+00, 1.82508435e+00,\n",
       "       3.63512256e+00, 1.10018530e+00, 4.89838496e+00, 4.52976019e+00,\n",
       "       3.03418117e+00, 5.11887280e-02, 5.64021553e+00, 5.75784587e+00,\n",
       "       5.65272848e+00, 4.84336798e+00, 1.05407037e+00, 3.88421576e+00,\n",
       "       1.75254797e+00, 2.12432666e+00, 4.10631369e+00, 1.18375091e+00,\n",
       "       2.31310207e+00, 3.50670615e+00, 4.45372980e+00, 1.70867660e+00,\n",
       "       2.58323026e+00, 1.60656710e+00, 4.32456265e+00, 1.68298258e-01,\n",
       "       3.62327010e+00, 5.77670650e+00, 3.70246326e+00, 3.84065273e-01,\n",
       "       4.60100860e+00, 1.36027798e+00, 3.25210203e+00, 8.59822035e-01,\n",
       "       1.91826968e+00, 5.28174501e+00, 4.16132617e+00, 7.36044980e-01,\n",
       "       1.96208499e+00, 5.40752639e+00, 4.68184647e+00, 3.48980058e+00,\n",
       "       4.17097992e+00, 1.16800044e+00, 2.87883271e+00, 1.27004634e+00,\n",
       "       5.06971127e+00, 1.34062552e+00, 5.70878570e+00, 2.89416009e+00,\n",
       "       4.02016739e+00, 1.47935114e+00, 3.09263888e+00, 5.47313809e-02,\n",
       "       2.24044173e-01, 4.84394505e+00, 4.97077939e+00, 4.57788329e+00,\n",
       "       8.49109757e-02, 1.91542679e+00, 3.31222712e+00, 5.88344559e+00,\n",
       "       3.16603002e+00, 3.52613119e+00, 1.35321853e+00, 5.34261276e+00,\n",
       "       9.02462387e-02, 5.21216081e-01, 3.99072431e+00, 4.85722934e+00,\n",
       "       4.62333182e+00, 3.81410811e+00, 8.07640147e-01, 3.76214982e+00,\n",
       "       1.19133725e+00, 3.87327971e+00, 6.37011356e-01, 2.58540498e+00,\n",
       "       1.77153095e+00, 5.52519648e+00, 2.50536963e+00, 1.12406943e-01,\n",
       "       5.61598291e-02, 1.87951042e-01, 1.85307443e+00, 4.64915490e+00,\n",
       "       1.32650324e+00, 5.54377211e+00, 4.63015957e+00, 5.32108854e+00,\n",
       "       6.13983983e-01, 1.96396652e+00, 5.69554890e+00, 1.62489309e+00,\n",
       "       5.13097645e+00, 3.56923424e+00, 3.20540223e+00, 3.96028563e+00,\n",
       "       6.72215710e-01, 2.48796978e+00, 5.38152186e+00, 1.81213070e+00,\n",
       "       5.74587225e-01, 3.40848500e+00, 9.78638838e-01, 8.53705900e-01,\n",
       "       5.23010046e+00, 5.67147515e+00, 1.84486591e+00, 4.73530522e-01,\n",
       "       3.55062360e+00, 2.63930409e+00, 5.99460712e+00, 4.45824495e+00,\n",
       "       3.33192339e+00, 4.93108817e+00, 4.93815700e+00, 3.95257485e+00,\n",
       "       4.65920066e+00, 4.29826396e+00, 5.45604235e+00, 4.00603071e+00,\n",
       "       1.44757446e+00, 5.36957184e+00, 7.15240324e-01, 1.49895651e+00,\n",
       "       5.52065641e+00, 2.28962183e+00, 2.22933503e+00, 1.25336101e+00,\n",
       "       5.06704488e+00, 7.09202246e-01, 5.77165651e+00, 1.18783271e+00,\n",
       "       1.39407066e+00, 5.60034933e+00, 1.75061362e+00, 1.29665234e+00,\n",
       "       4.18643172e+00, 7.56365535e-01, 2.87060687e-01, 4.12240173e+00,\n",
       "       4.02515667e+00, 5.19645739e+00, 5.79442249e+00, 2.47969978e+00,\n",
       "       3.32824872e+00, 2.68148086e+00, 4.12801499e+00, 2.00386123e+00,\n",
       "       2.45981311e+00, 1.58576333e+00, 2.56339542e+00, 5.97031569e+00,\n",
       "       4.80515817e+00, 9.46453125e-02, 9.74245416e-01, 3.30935597e+00,\n",
       "       1.77746176e+00, 3.11783484e+00, 4.38468403e+00, 5.65354005e+00,\n",
       "       4.65513659e+00, 5.22337144e+00, 3.91414331e+00, 1.64966534e+00,\n",
       "       4.67673680e-01, 1.04452303e+00, 3.08737325e+00, 5.12988052e-01,\n",
       "       1.28077843e+00, 4.62272872e+00, 4.77191413e+00, 4.66835276e+00,\n",
       "       2.25531071e+00, 1.97786987e+00, 3.39159161e+00, 2.93514324e+00,\n",
       "       5.35241880e+00, 5.08998318e+00, 3.14545552e+00, 1.95745958e+00,\n",
       "       3.55814409e+00, 2.36587170e+00, 4.24178524e+00, 4.12347353e+00,\n",
       "       3.02307343e+00, 1.07351909e+00, 4.21522728e+00, 2.24243982e+00,\n",
       "       3.39994313e+00, 3.96348319e+00, 4.87043540e+00, 1.43544290e-01,\n",
       "       4.30101042e+00, 2.25025025e+00, 3.70928773e+00, 9.54240742e-01,\n",
       "       1.91106075e+00, 1.60449350e+00, 3.80419076e+00, 3.19908494e+00,\n",
       "       3.99132726e+00, 4.23135946e+00, 3.61542728e+00, 5.19468162e+00,\n",
       "       3.06285848e+00, 1.93218742e-01, 4.92423953e+00, 2.31715012e+00,\n",
       "       5.66125870e+00, 5.63171160e+00, 4.20565937e+00, 5.61354405e+00,\n",
       "       2.62851640e+00, 5.89544378e+00, 2.08455450e+00, 5.69175527e+00,\n",
       "       4.18575519e+00, 4.69046225e+00, 2.49475998e+00, 6.44328254e-01,\n",
       "       1.48697629e+00, 5.81406662e+00, 2.51590102e+00, 5.32154305e+00,\n",
       "       4.80694899e+00, 4.29447911e+00, 4.65266954e-01, 1.45870850e+00,\n",
       "       7.48646091e-01, 4.45312399e+00, 2.56232817e+00, 5.29116857e+00,\n",
       "       5.38525055e+00, 1.33288419e-01, 3.49698243e+00, 5.64486115e+00,\n",
       "       3.27198030e+00, 1.52654968e+00, 4.67187222e+00, 3.40031858e+00,\n",
       "       3.12887866e+00, 1.30802738e+00, 5.03625852e+00, 5.40532142e+00,\n",
       "       8.29343600e-01, 1.07899375e+00, 5.88422942e+00, 1.20764641e+00,\n",
       "       4.56724842e+00, 4.81831485e+00, 3.67298839e+00, 2.69623998e-01,\n",
       "       4.47861479e+00, 1.71285849e+00, 3.64692766e+00, 3.04030271e+00,\n",
       "       1.13119823e+00, 4.26505991e+00, 3.86057869e+00, 3.94987800e+00,\n",
       "       1.94209284e-01, 1.60562174e+00, 5.11502929e-01, 7.43366584e-01,\n",
       "       5.46442619e+00, 5.82999232e+00, 2.91259623e+00, 2.00558009e+00,\n",
       "       5.02427485e+00, 6.57167860e-01, 5.58248609e+00, 4.77156417e+00,\n",
       "       2.66898905e+00, 4.32890653e+00, 1.22036891e+00, 3.11639156e+00,\n",
       "       5.90809222e+00, 3.38703311e-01, 7.38165107e-01, 4.70334562e+00,\n",
       "       5.39060784e+00, 4.44355728e+00, 1.65632239e+00, 5.61564824e+00,\n",
       "       5.67225603e+00, 5.67219171e+00, 1.56224292e+00, 1.18010238e+00,\n",
       "       2.54607129e+00, 9.96117346e-02, 5.13704303e+00, 1.61594936e+00,\n",
       "       5.25680872e+00, 4.23051645e+00, 5.53579602e+00, 2.00678798e+00,\n",
       "       5.73805921e+00, 2.71802228e+00, 5.79502847e+00, 4.59311821e-02,\n",
       "       5.80626352e+00, 5.16405254e+00, 2.80571308e+00, 4.29404170e+00,\n",
       "       5.70827683e+00, 5.59871895e-01, 3.89126165e+00, 2.18205320e+00,\n",
       "       5.10015194e+00, 7.63491331e-01, 4.01203633e+00, 3.49050312e+00,\n",
       "       4.10267033e+00, 3.98477859e+00, 1.42948345e+00, 3.45920102e+00,\n",
       "       4.15653743e+00, 1.00041288e+00, 1.82362530e+00, 4.00146540e+00,\n",
       "       3.52443796e+00, 3.95458291e+00, 2.11656451e+00, 4.82436796e+00,\n",
       "       4.73231246e+00, 5.41301491e+00, 3.08993262e+00, 4.30067760e-01,\n",
       "       3.34181716e+00, 3.76937087e+00, 5.98681073e+00, 5.16166165e+00,\n",
       "       1.24245682e-01, 2.09249633e+00, 4.23489778e+00, 6.89443796e-01,\n",
       "       3.57629294e+00, 2.78833092e+00, 5.77176543e+00, 1.32869166e+00,\n",
       "       4.76036868e-01, 4.90764763e+00, 2.18923360e+00, 3.48852334e+00,\n",
       "       2.53704611e+00, 2.23600231e+00, 3.91648484e+00, 5.36573356e+00,\n",
       "       2.59190518e+00, 1.76679123e+00, 2.56152327e+00, 2.59253332e+00,\n",
       "       1.02898684e+00, 7.55325640e-01, 1.45433818e+00, 1.06525554e+00,\n",
       "       2.97187333e+00, 2.96922991e+00, 2.52683113e+00, 3.66855638e+00,\n",
       "       2.93571072e+00, 5.64759291e+00, 1.00428205e+00, 1.45663151e+00,\n",
       "       4.33553708e+00, 2.44825686e+00, 2.88687080e+00, 5.93997649e+00,\n",
       "       4.97631066e+00, 1.07794558e+00, 5.43740898e+00, 2.47477118e+00,\n",
       "       3.71352833e+00, 1.26442149e+00, 2.89017789e+00, 5.21105500e+00,\n",
       "       5.59963837e+00, 1.20952433e-01, 3.37744480e+00, 9.65157076e-01,\n",
       "       4.32006500e+00, 5.11686190e+00, 2.27696587e+00, 3.46275040e+00,\n",
       "       5.81555753e+00, 1.20301560e+00, 1.96146428e+00, 3.18920236e+00,\n",
       "       2.02512581e+00, 5.51651684e+00, 5.55083721e+00, 3.05596214e+00,\n",
       "       4.28026490e+00, 3.16304708e+00, 7.08318352e-01, 5.23083351e-01,\n",
       "       8.36917490e-01, 5.55582286e+00, 3.92328180e+00, 4.01295566e+00,\n",
       "       1.83902005e+00, 1.18737890e+00, 3.12804116e+00, 3.09893365e+00,\n",
       "       3.51135965e+00, 4.69134728e+00, 2.21448899e+00, 2.12834685e+00,\n",
       "       8.60862072e-01, 2.41893108e+00, 1.88938528e-01, 4.88715604e+00,\n",
       "       4.39232762e+00, 3.79851624e+00, 2.26043988e+00, 6.10732914e-01,\n",
       "       4.41036756e+00, 1.17311407e+00, 4.05550789e+00, 5.20853461e+00,\n",
       "       4.64363536e+00, 1.63696780e+00, 5.49487078e+00, 1.28669437e+00,\n",
       "       9.69195486e-01, 1.97682948e+00, 3.12738901e-01, 5.69118981e+00,\n",
       "       3.28227155e+00, 5.24458055e+00, 4.23505976e+00, 6.05002063e-01,\n",
       "       2.00056219e-01, 3.08325266e+00, 5.43014530e+00, 2.91945521e-02,\n",
       "       3.31236052e+00, 4.96715521e+00, 4.38127397e+00, 9.04286870e-01,\n",
       "       2.18703490e+00, 4.44560538e+00, 1.85296056e+00, 1.82513194e+00,\n",
       "       1.60818749e+00, 1.64423028e+00, 2.79448432e+00, 2.96920609e+00,\n",
       "       3.11809060e+00, 1.84916705e+00, 5.14035486e-01, 9.11597133e-01,\n",
       "       5.35763867e+00, 2.91934060e+00, 1.46072897e+00, 2.70765951e+00,\n",
       "       5.78592170e+00, 1.77050240e+00, 2.29104318e+00, 2.17552157e+00,\n",
       "       2.35471594e+00, 4.89355238e+00, 2.70889219e+00, 5.57707261e+00])"
      ]
     },
     "execution_count": 197,
     "metadata": {},
     "output_type": "execute_result"
    }
   ],
   "source": [
    "x"
   ]
  },
  {
   "cell_type": "code",
   "execution_count": 198,
   "id": "b7ee8813-a35e-4fef-9b68-cb134c197144",
   "metadata": {
    "tags": []
   },
   "outputs": [
    {
     "data": {
      "text/plain": [
       "(array([108., 101., 104.,  96.,  79.,  99., 100., 102., 103., 108.]),\n",
       " array([5.52213119e-03, 6.04603135e-01, 1.20368414e+00, 1.80276514e+00,\n",
       "        2.40184615e+00, 3.00092715e+00, 3.60000816e+00, 4.19908916e+00,\n",
       "        4.79817017e+00, 5.39725117e+00, 5.99633217e+00]),\n",
       " <BarContainer object of 10 artists>)"
      ]
     },
     "execution_count": 198,
     "metadata": {},
     "output_type": "execute_result"
    },
    {
     "data": {
      "image/png": "[encoded data removed]",
      "text/plain": [
       "<Figure size 640x480 with 1 Axes>"
      ]
     },
     "metadata": {},
     "output_type": "display_data"
    }
   ],
   "source": [
    "plt.hist(x)"
   ]
  },
  {
   "cell_type": "code",
   "execution_count": 199,
   "id": "c0d6f3da-5686-4f70-a89e-0a0edc91c5cf",
   "metadata": {
    "tags": []
   },
   "outputs": [
    {
     "data": {
      "text/plain": [
       "2.8511381863534777"
      ]
     },
     "execution_count": 199,
     "metadata": {},
     "output_type": "execute_result"
    }
   ],
   "source": [
    "np.mean(np.random.choice(x, 30))"
   ]
  },
  {
   "cell_type": "code",
   "execution_count": 200,
   "id": "09a421c2-0039-4cad-bc65-41448c221dc8",
   "metadata": {
    "tags": []
   },
   "outputs": [
    {
     "data": {
      "text/plain": [
       "(array([ 2.,  2.,  7.,  3., 10., 17., 23., 35., 41., 36., 61., 67., 82.,\n",
       "        79., 83., 68., 68., 63., 74., 43., 42., 29., 25., 15., 10.,  6.,\n",
       "         3.,  3.,  2.,  1.]),\n",
       " array([2.04175439, 2.1088163 , 2.17587821, 2.24294012, 2.31000203,\n",
       "        2.37706394, 2.44412586, 2.51118777, 2.57824968, 2.64531159,\n",
       "        2.7123735 , 2.77943541, 2.84649732, 2.91355923, 2.98062114,\n",
       "        3.04768305, 3.11474496, 3.18180687, 3.24886878, 3.31593069,\n",
       "        3.3829926 , 3.45005451, 3.51711642, 3.58417833, 3.65124024,\n",
       "        3.71830215, 3.78536407, 3.85242598, 3.91948789, 3.9865498 ,\n",
       "        4.05361171]),\n",
       " <BarContainer object of 30 artists>)"
      ]
     },
     "execution_count": 200,
     "metadata": {},
     "output_type": "execute_result"
    },
    {
     "data": {
      "image/png": "[encoded data removed]",
      "text/plain": [
       "<Figure size 640x480 with 1 Axes>"
      ]
     },
     "metadata": {},
     "output_type": "display_data"
    }
   ],
   "source": [
    "x_sample = []\n",
    "for _ in range(1000):\n",
    "    x_sample.append(np.mean(np.random.choice(x, 30)))\n",
    "plt.hist(x_sample, bins=30)"
   ]
  },
  {
   "cell_type": "code",
   "execution_count": 201,
   "id": "9eaa841b-0d2e-4aa1-a745-da8da79e09bf",
   "metadata": {
    "tags": []
   },
   "outputs": [
    {
     "data": {
      "text/plain": [
       "(array([256.,  96.,  71.,  63.,  43.,  39.,  41.,  24.,  24.,  22.,  20.,\n",
       "         26.,  14.,  14.,  15.,  18.,  17.,  16.,  12.,   8.,  11.,  12.,\n",
       "          9.,   5.,   8.,   4.,   6.,   5.,   3.,   4.,   6.,   7.,   9.,\n",
       "          4.,   3.,   3.,   1.,   3.,   4.,   3.,   2.,   3.,   5.,   4.,\n",
       "          2.,   3.,   2.,   2.,   0.,   5.,   3.,   1.,   2.,   1.,   0.,\n",
       "          1.,   1.,   2.,   0.,   0.,   1.,   1.,   2.,   1.,   0.,   0.,\n",
       "          1.,   0.,   1.,   2.,   0.,   0.,   1.,   0.,   0.,   0.,   0.,\n",
       "          1.,   0.,   0.,   0.,   0.,   0.,   0.,   0.,   0.,   0.,   0.,\n",
       "          0.,   0.,   0.,   0.,   0.,   0.,   0.,   0.,   0.,   0.,   0.,\n",
       "          1.]),\n",
       " array([5.88880668e-07, 9.67084748e-02, 1.93416361e-01, 2.90124247e-01,\n",
       "        3.86832133e-01, 4.83540018e-01, 5.80247904e-01, 6.76955790e-01,\n",
       "        7.73663676e-01, 8.70371562e-01, 9.67079448e-01, 1.06378733e+00,\n",
       "        1.16049522e+00, 1.25720311e+00, 1.35391099e+00, 1.45061888e+00,\n",
       "        1.54732676e+00, 1.64403465e+00, 1.74074254e+00, 1.83745042e+00,\n",
       "        1.93415831e+00, 2.03086619e+00, 2.12757408e+00, 2.22428196e+00,\n",
       "        2.32098985e+00, 2.41769774e+00, 2.51440562e+00, 2.61111351e+00,\n",
       "        2.70782139e+00, 2.80452928e+00, 2.90123717e+00, 2.99794505e+00,\n",
       "        3.09465294e+00, 3.19136082e+00, 3.28806871e+00, 3.38477660e+00,\n",
       "        3.48148448e+00, 3.57819237e+00, 3.67490025e+00, 3.77160814e+00,\n",
       "        3.86831603e+00, 3.96502391e+00, 4.06173180e+00, 4.15843968e+00,\n",
       "        4.25514757e+00, 4.35185545e+00, 4.44856334e+00, 4.54527123e+00,\n",
       "        4.64197911e+00, 4.73868700e+00, 4.83539488e+00, 4.93210277e+00,\n",
       "        5.02881066e+00, 5.12551854e+00, 5.22222643e+00, 5.31893431e+00,\n",
       "        5.41564220e+00, 5.51235009e+00, 5.60905797e+00, 5.70576586e+00,\n",
       "        5.80247374e+00, 5.89918163e+00, 5.99588952e+00, 6.09259740e+00,\n",
       "        6.18930529e+00, 6.28601317e+00, 6.38272106e+00, 6.47942894e+00,\n",
       "        6.57613683e+00, 6.67284472e+00, 6.76955260e+00, 6.86626049e+00,\n",
       "        6.96296837e+00, 7.05967626e+00, 7.15638415e+00, 7.25309203e+00,\n",
       "        7.34979992e+00, 7.44650780e+00, 7.54321569e+00, 7.63992358e+00,\n",
       "        7.73663146e+00, 7.83333935e+00, 7.93004723e+00, 8.02675512e+00,\n",
       "        8.12346300e+00, 8.22017089e+00, 8.31687878e+00, 8.41358666e+00,\n",
       "        8.51029455e+00, 8.60700243e+00, 8.70371032e+00, 8.80041821e+00,\n",
       "        8.89712609e+00, 8.99383398e+00, 9.09054186e+00, 9.18724975e+00,\n",
       "        9.28395764e+00, 9.38066552e+00, 9.47737341e+00, 9.57408129e+00,\n",
       "        9.67078918e+00]),\n",
       " <BarContainer object of 100 artists>)"
      ]
     },
     "execution_count": 201,
     "metadata": {},
     "output_type": "execute_result"
    },
    {
     "data": {
      "image/png": "[encoded data removed]",
      "text/plain": [
       "<Figure size 640x480 with 1 Axes>"
      ]
     },
     "metadata": {},
     "output_type": "display_data"
    }
   ],
   "source": [
    "x1 = np.random.chisquare(1, 1000)\n",
    "plt.hist(x1, bins = 100)"
   ]
  },
  {
   "cell_type": "markdown",
   "id": "f58b6c26-1b2e-4135-88a1-bc836c63da97",
   "metadata": {},
   "source": [
    "추론 통계\n",
    "추측하는 것\n",
    "- 근거, 가능도(확률이라고 말하지 않음)\n",
    "가설 검정을 통해 나와야 하며 확률분포를 통해 정규분포를 뽑아낸다.\n",
    "신뢰구간에 있을 가능성이 있다고 정리를 한다.\n",
    "\n",
    "\n",
    "통계적 추론\n",
    "1. 임의의 모집단 모수에 대하여 95%확률로 관측통계량이 그 안에 놓여 있기를 기대하는 구간을 확률을 통해 판단\n",
    "2. 통계량을 관측\n",
    "3. 통계량이 95% 예측 구간안에 놓일 수 있는 모수의 범위를 산출한다. 이 범위는 95%신뢰구간(confidence interval)이라고 부른다.\n",
    "4. 반복 적용할 때 그런 구간들의 95%가 참값을 포함해야 하기 때문에 결과로 나오는 이 신뢰구간을 95%라고 한다.\n",
    "95% 신뢰구간은 이 특정한 구간이 참값을 포함할 확률이 95%라는 뜻이 아님\n",
    "\n",
    "정규분포\n",
    "\n",
    "정규분포 = (표준편차 * 정규분포 데이터) + 평균\n"
   ]
  },
  {
   "cell_type": "code",
   "execution_count": 202,
   "id": "41385d4d-b332-484b-b04e-24ad38199f93",
   "metadata": {
    "tags": []
   },
   "outputs": [],
   "source": [
    "from sklearn import datasets"
   ]
  },
  {
   "cell_type": "code",
   "execution_count": 203,
   "id": "8a946697-975c-486e-b0e5-defd7a6631cc",
   "metadata": {
    "tags": []
   },
   "outputs": [
    {
     "data": {
      "text/plain": [
       "array([[5.1, 3.5, 1.4, 0.2],\n",
       "       [4.9, 3. , 1.4, 0.2],\n",
       "       [4.7, 3.2, 1.3, 0.2],\n",
       "       [4.6, 3.1, 1.5, 0.2],\n",
       "       [5. , 3.6, 1.4, 0.2]])"
      ]
     },
     "execution_count": 203,
     "metadata": {},
     "output_type": "execute_result"
    }
   ],
   "source": [
    "datasets.load_iris().data[:5]"
   ]
  },
  {
   "cell_type": "code",
   "execution_count": 204,
   "id": "632ae2d3-d4a8-4d81-b91c-2c383070ca3a",
   "metadata": {
    "tags": []
   },
   "outputs": [
    {
     "data": {
      "text/plain": [
       "array([0, 0, 0, 0, 0])"
      ]
     },
     "execution_count": 204,
     "metadata": {},
     "output_type": "execute_result"
    }
   ],
   "source": [
    "datasets.load_iris().target[:5]"
   ]
  },
  {
   "cell_type": "code",
   "execution_count": 205,
   "id": "9f3fe7da-e914-43ae-8fad-512041de7217",
   "metadata": {
    "tags": []
   },
   "outputs": [],
   "source": [
    "X = datasets.load_iris().data[:,:2]"
   ]
  },
  {
   "cell_type": "code",
   "execution_count": 206,
   "id": "12f96113-cec9-4d29-86e4-82a256c97709",
   "metadata": {
    "tags": []
   },
   "outputs": [],
   "source": [
    "y = datasets.load_iris().data[:,2]"
   ]
  },
  {
   "cell_type": "code",
   "execution_count": 207,
   "id": "8d3c37fd-038c-4b4a-93f5-0d250010d33c",
   "metadata": {
    "tags": []
   },
   "outputs": [],
   "source": [
    "from sklearn.linear_model import LinearRegression\n",
    "from sklearn.metrics import r2_score"
   ]
  },
  {
   "cell_type": "code",
   "execution_count": 208,
   "id": "93446d07-f5a4-4fd4-8a7f-a47abf1def91",
   "metadata": {
    "tags": []
   },
   "outputs": [],
   "source": [
    "lm_model = LinearRegression()"
   ]
  },
  {
   "cell_type": "code",
   "execution_count": 209,
   "id": "879a4a00-2b11-4935-8f26-1a8dc14a70f1",
   "metadata": {
    "tags": []
   },
   "outputs": [
    {
     "data": {
      "text/html": [
       "<style>#sk-container-id-13 {color: black;}#sk-container-id-13 pre{padding: 0;}#sk-container-id-13 div.sk-toggleable {background-color: white;}#sk-container-id-13 label.sk-toggleable__label {cursor: pointer;display: block;width: 100%;margin-bottom: 0;padding: 0.3em;box-sizing: border-box;text-align: center;}#sk-container-id-13 label.sk-toggleable__label-arrow:before {content: \"▸\";float: left;margin-right: 0.25em;color: #696969;}#sk-container-id-13 label.sk-toggleable__label-arrow:hover:before {color: black;}#sk-container-id-13 div.sk-estimator:hover label.sk-toggleable__label-arrow:before {color: black;}#sk-container-id-13 div.sk-toggleable__content {max-height: 0;max-width: 0;overflow: hidden;text-align: left;background-color: #f0f8ff;}#sk-container-id-13 div.sk-toggleable__content pre {margin: 0.2em;color: black;border-radius: 0.25em;background-color: #f0f8ff;}#sk-container-id-13 input.sk-toggleable__control:checked~div.sk-toggleable__content {max-height: 200px;max-width: 100%;overflow: auto;}#sk-container-id-13 input.sk-toggleable__control:checked~label.sk-toggleable__label-arrow:before {content: \"▾\";}#sk-container-id-13 div.sk-estimator input.sk-toggleable__control:checked~label.sk-toggleable__label {background-color: #d4ebff;}#sk-container-id-13 div.sk-label input.sk-toggleable__control:checked~label.sk-toggleable__label {background-color: #d4ebff;}#sk-container-id-13 input.sk-hidden--visually {border: 0;clip: rect(1px 1px 1px 1px);clip: rect(1px, 1px, 1px, 1px);height: 1px;margin: -1px;overflow: hidden;padding: 0;position: absolute;width: 1px;}#sk-container-id-13 div.sk-estimator {font-family: monospace;background-color: #f0f8ff;border: 1px dotted black;border-radius: 0.25em;box-sizing: border-box;margin-bottom: 0.5em;}#sk-container-id-13 div.sk-estimator:hover {background-color: #d4ebff;}#sk-container-id-13 div.sk-parallel-item::after {content: \"\";width: 100%;border-bottom: 1px solid gray;flex-grow: 1;}#sk-container-id-13 div.sk-label:hover label.sk-toggleable__label {background-color: #d4ebff;}#sk-container-id-13 div.sk-serial::before {content: \"\";position: absolute;border-left: 1px solid gray;box-sizing: border-box;top: 0;bottom: 0;left: 50%;z-index: 0;}#sk-container-id-13 div.sk-serial {display: flex;flex-direction: column;align-items: center;background-color: white;padding-right: 0.2em;padding-left: 0.2em;position: relative;}#sk-container-id-13 div.sk-item {position: relative;z-index: 1;}#sk-container-id-13 div.sk-parallel {display: flex;align-items: stretch;justify-content: center;background-color: white;position: relative;}#sk-container-id-13 div.sk-item::before, #sk-container-id-13 div.sk-parallel-item::before {content: \"\";position: absolute;border-left: 1px solid gray;box-sizing: border-box;top: 0;bottom: 0;left: 50%;z-index: -1;}#sk-container-id-13 div.sk-parallel-item {display: flex;flex-direction: column;z-index: 1;position: relative;background-color: white;}#sk-container-id-13 div.sk-parallel-item:first-child::after {align-self: flex-end;width: 50%;}#sk-container-id-13 div.sk-parallel-item:last-child::after {align-self: flex-start;width: 50%;}#sk-container-id-13 div.sk-parallel-item:only-child::after {width: 0;}#sk-container-id-13 div.sk-dashed-wrapped {border: 1px dashed gray;margin: 0 0.4em 0.5em 0.4em;box-sizing: border-box;padding-bottom: 0.4em;background-color: white;}#sk-container-id-13 div.sk-label label {font-family: monospace;font-weight: bold;display: inline-block;line-height: 1.2em;}#sk-container-id-13 div.sk-label-container {text-align: center;}#sk-container-id-13 div.sk-container {/* jupyter's `normalize.less` sets `[hidden] { display: none; }` but bootstrap.min.css set `[hidden] { display: none !important; }` so we also need the `!important` here to be able to override the default hidden behavior on the sphinx rendered scikit-learn.org. See: https://github.com/scikit-learn/scikit-learn/issues/21755 */display: inline-block !important;position: relative;}#sk-container-id-13 div.sk-text-repr-fallback {display: none;}</style><div id=\"sk-container-id-13\" class=\"sk-top-container\"><div class=\"sk-text-repr-fallback\"><pre>LinearRegression()</pre><b>In a Jupyter environment, please rerun this cell to show the HTML representation or trust the notebook. <br />On GitHub, the HTML representation is unable to render, please try loading this page with nbviewer.org.</b></div><div class=\"sk-container\" hidden><div class=\"sk-item\"><div class=\"sk-estimator sk-toggleable\"><input class=\"sk-toggleable__control sk-hidden--visually\" id=\"sk-estimator-id-13\" type=\"checkbox\" checked><label for=\"sk-estimator-id-13\" class=\"sk-toggleable__label sk-toggleable__label-arrow\">LinearRegression</label><div class=\"sk-toggleable__content\"><pre>LinearRegression()</pre></div></div></div></div></div>"
      ],
      "text/plain": [
       "LinearRegression()"
      ]
     },
     "execution_count": 209,
     "metadata": {},
     "output_type": "execute_result"
    }
   ],
   "source": [
    "lm_model.fit(X, y)"
   ]
  },
  {
   "cell_type": "code",
   "execution_count": 210,
   "id": "ef8281a6-d915-4ee1-8022-797695c385b8",
   "metadata": {
    "tags": []
   },
   "outputs": [],
   "source": [
    "y_pred = lm_model.predict(X)"
   ]
  },
  {
   "cell_type": "code",
   "execution_count": 211,
   "id": "7fd6f2c7-574e-42d0-b236-939f33c6e081",
   "metadata": {
    "tags": []
   },
   "outputs": [
    {
     "data": {
      "text/plain": [
       "0.8676860089345194"
      ]
     },
     "execution_count": 211,
     "metadata": {},
     "output_type": "execute_result"
    }
   ],
   "source": [
    "r2_score(y,y_pred) "
   ]
  },
  {
   "cell_type": "code",
   "execution_count": 212,
   "id": "d3c0d58c-8ee4-4dfb-9635-635a9d537977",
   "metadata": {
    "tags": []
   },
   "outputs": [],
   "source": [
    "from sklearn.tree import DecisionTreeRegressor\n",
    "from sklearn.model_selection import train_test_split"
   ]
  },
  {
   "cell_type": "code",
   "execution_count": 213,
   "id": "6f82e560-d5f6-4d87-94c6-80c8e701beb0",
   "metadata": {
    "tags": []
   },
   "outputs": [],
   "source": [
    "dt_model = DecisionTreeRegressor()"
   ]
  },
  {
   "cell_type": "code",
   "execution_count": 214,
   "id": "2877d830-0511-4dc4-8863-c27a0d7461b5",
   "metadata": {
    "tags": []
   },
   "outputs": [
    {
     "data": {
      "text/html": [
       "<style>#sk-container-id-14 {color: black;}#sk-container-id-14 pre{padding: 0;}#sk-container-id-14 div.sk-toggleable {background-color: white;}#sk-container-id-14 label.sk-toggleable__label {cursor: pointer;display: block;width: 100%;margin-bottom: 0;padding: 0.3em;box-sizing: border-box;text-align: center;}#sk-container-id-14 label.sk-toggleable__label-arrow:before {content: \"▸\";float: left;margin-right: 0.25em;color: #696969;}#sk-container-id-14 label.sk-toggleable__label-arrow:hover:before {color: black;}#sk-container-id-14 div.sk-estimator:hover label.sk-toggleable__label-arrow:before {color: black;}#sk-container-id-14 div.sk-toggleable__content {max-height: 0;max-width: 0;overflow: hidden;text-align: left;background-color: #f0f8ff;}#sk-container-id-14 div.sk-toggleable__content pre {margin: 0.2em;color: black;border-radius: 0.25em;background-color: #f0f8ff;}#sk-container-id-14 input.sk-toggleable__control:checked~div.sk-toggleable__content {max-height: 200px;max-width: 100%;overflow: auto;}#sk-container-id-14 input.sk-toggleable__control:checked~label.sk-toggleable__label-arrow:before {content: \"▾\";}#sk-container-id-14 div.sk-estimator input.sk-toggleable__control:checked~label.sk-toggleable__label {background-color: #d4ebff;}#sk-container-id-14 div.sk-label input.sk-toggleable__control:checked~label.sk-toggleable__label {background-color: #d4ebff;}#sk-container-id-14 input.sk-hidden--visually {border: 0;clip: rect(1px 1px 1px 1px);clip: rect(1px, 1px, 1px, 1px);height: 1px;margin: -1px;overflow: hidden;padding: 0;position: absolute;width: 1px;}#sk-container-id-14 div.sk-estimator {font-family: monospace;background-color: #f0f8ff;border: 1px dotted black;border-radius: 0.25em;box-sizing: border-box;margin-bottom: 0.5em;}#sk-container-id-14 div.sk-estimator:hover {background-color: #d4ebff;}#sk-container-id-14 div.sk-parallel-item::after {content: \"\";width: 100%;border-bottom: 1px solid gray;flex-grow: 1;}#sk-container-id-14 div.sk-label:hover label.sk-toggleable__label {background-color: #d4ebff;}#sk-container-id-14 div.sk-serial::before {content: \"\";position: absolute;border-left: 1px solid gray;box-sizing: border-box;top: 0;bottom: 0;left: 50%;z-index: 0;}#sk-container-id-14 div.sk-serial {display: flex;flex-direction: column;align-items: center;background-color: white;padding-right: 0.2em;padding-left: 0.2em;position: relative;}#sk-container-id-14 div.sk-item {position: relative;z-index: 1;}#sk-container-id-14 div.sk-parallel {display: flex;align-items: stretch;justify-content: center;background-color: white;position: relative;}#sk-container-id-14 div.sk-item::before, #sk-container-id-14 div.sk-parallel-item::before {content: \"\";position: absolute;border-left: 1px solid gray;box-sizing: border-box;top: 0;bottom: 0;left: 50%;z-index: -1;}#sk-container-id-14 div.sk-parallel-item {display: flex;flex-direction: column;z-index: 1;position: relative;background-color: white;}#sk-container-id-14 div.sk-parallel-item:first-child::after {align-self: flex-end;width: 50%;}#sk-container-id-14 div.sk-parallel-item:last-child::after {align-self: flex-start;width: 50%;}#sk-container-id-14 div.sk-parallel-item:only-child::after {width: 0;}#sk-container-id-14 div.sk-dashed-wrapped {border: 1px dashed gray;margin: 0 0.4em 0.5em 0.4em;box-sizing: border-box;padding-bottom: 0.4em;background-color: white;}#sk-container-id-14 div.sk-label label {font-family: monospace;font-weight: bold;display: inline-block;line-height: 1.2em;}#sk-container-id-14 div.sk-label-container {text-align: center;}#sk-container-id-14 div.sk-container {/* jupyter's `normalize.less` sets `[hidden] { display: none; }` but bootstrap.min.css set `[hidden] { display: none !important; }` so we also need the `!important` here to be able to override the default hidden behavior on the sphinx rendered scikit-learn.org. See: https://github.com/scikit-learn/scikit-learn/issues/21755 */display: inline-block !important;position: relative;}#sk-container-id-14 div.sk-text-repr-fallback {display: none;}</style><div id=\"sk-container-id-14\" class=\"sk-top-container\"><div class=\"sk-text-repr-fallback\"><pre>DecisionTreeRegressor()</pre><b>In a Jupyter environment, please rerun this cell to show the HTML representation or trust the notebook. <br />On GitHub, the HTML representation is unable to render, please try loading this page with nbviewer.org.</b></div><div class=\"sk-container\" hidden><div class=\"sk-item\"><div class=\"sk-estimator sk-toggleable\"><input class=\"sk-toggleable__control sk-hidden--visually\" id=\"sk-estimator-id-14\" type=\"checkbox\" checked><label for=\"sk-estimator-id-14\" class=\"sk-toggleable__label sk-toggleable__label-arrow\">DecisionTreeRegressor</label><div class=\"sk-toggleable__content\"><pre>DecisionTreeRegressor()</pre></div></div></div></div></div>"
      ],
      "text/plain": [
       "DecisionTreeRegressor()"
      ]
     },
     "execution_count": 214,
     "metadata": {},
     "output_type": "execute_result"
    }
   ],
   "source": [
    "dt_model.fit(X, y)"
   ]
  },
  {
   "cell_type": "code",
   "execution_count": 215,
   "id": "7750754d-f235-4bb7-8607-fb289100df77",
   "metadata": {
    "tags": []
   },
   "outputs": [
    {
     "data": {
      "text/plain": [
       "0.9888153150068177"
      ]
     },
     "execution_count": 215,
     "metadata": {},
     "output_type": "execute_result"
    }
   ],
   "source": [
    "r2_score(y, dt_model.predict(X))"
   ]
  },
  {
   "cell_type": "code",
   "execution_count": 216,
   "id": "5aee2cd7-c9ca-4a07-9b22-b0b1bb5144d3",
   "metadata": {
    "tags": []
   },
   "outputs": [],
   "source": [
    "from sklearn.tree import DecisionTreeRegressor\n",
    "from sklearn.linear_model import LinearRegression\n",
    "from sklearn.model_selection import train_test_split"
   ]
  },
  {
   "cell_type": "code",
   "execution_count": 217,
   "id": "37632e3c-e987-42a9-a705-61710898cde0",
   "metadata": {
    "tags": []
   },
   "outputs": [],
   "source": [
    "X_train, X_test, y_train, y_test = train_test_split(X, y)"
   ]
  },
  {
   "cell_type": "code",
   "execution_count": 218,
   "id": "e23449e4-e75c-49b3-bab4-4c17a9331a27",
   "metadata": {
    "tags": []
   },
   "outputs": [],
   "source": [
    "lm_model = LinearRegression()\n",
    "dt_model = DecisionTreeRegressor()"
   ]
  },
  {
   "cell_type": "code",
   "execution_count": 219,
   "id": "d5e6740e-a197-4630-83f9-faf8a52a8df9",
   "metadata": {
    "tags": []
   },
   "outputs": [
    {
     "data": {
      "text/html": [
       "<style>#sk-container-id-15 {color: black;}#sk-container-id-15 pre{padding: 0;}#sk-container-id-15 div.sk-toggleable {background-color: white;}#sk-container-id-15 label.sk-toggleable__label {cursor: pointer;display: block;width: 100%;margin-bottom: 0;padding: 0.3em;box-sizing: border-box;text-align: center;}#sk-container-id-15 label.sk-toggleable__label-arrow:before {content: \"▸\";float: left;margin-right: 0.25em;color: #696969;}#sk-container-id-15 label.sk-toggleable__label-arrow:hover:before {color: black;}#sk-container-id-15 div.sk-estimator:hover label.sk-toggleable__label-arrow:before {color: black;}#sk-container-id-15 div.sk-toggleable__content {max-height: 0;max-width: 0;overflow: hidden;text-align: left;background-color: #f0f8ff;}#sk-container-id-15 div.sk-toggleable__content pre {margin: 0.2em;color: black;border-radius: 0.25em;background-color: #f0f8ff;}#sk-container-id-15 input.sk-toggleable__control:checked~div.sk-toggleable__content {max-height: 200px;max-width: 100%;overflow: auto;}#sk-container-id-15 input.sk-toggleable__control:checked~label.sk-toggleable__label-arrow:before {content: \"▾\";}#sk-container-id-15 div.sk-estimator input.sk-toggleable__control:checked~label.sk-toggleable__label {background-color: #d4ebff;}#sk-container-id-15 div.sk-label input.sk-toggleable__control:checked~label.sk-toggleable__label {background-color: #d4ebff;}#sk-container-id-15 input.sk-hidden--visually {border: 0;clip: rect(1px 1px 1px 1px);clip: rect(1px, 1px, 1px, 1px);height: 1px;margin: -1px;overflow: hidden;padding: 0;position: absolute;width: 1px;}#sk-container-id-15 div.sk-estimator {font-family: monospace;background-color: #f0f8ff;border: 1px dotted black;border-radius: 0.25em;box-sizing: border-box;margin-bottom: 0.5em;}#sk-container-id-15 div.sk-estimator:hover {background-color: #d4ebff;}#sk-container-id-15 div.sk-parallel-item::after {content: \"\";width: 100%;border-bottom: 1px solid gray;flex-grow: 1;}#sk-container-id-15 div.sk-label:hover label.sk-toggleable__label {background-color: #d4ebff;}#sk-container-id-15 div.sk-serial::before {content: \"\";position: absolute;border-left: 1px solid gray;box-sizing: border-box;top: 0;bottom: 0;left: 50%;z-index: 0;}#sk-container-id-15 div.sk-serial {display: flex;flex-direction: column;align-items: center;background-color: white;padding-right: 0.2em;padding-left: 0.2em;position: relative;}#sk-container-id-15 div.sk-item {position: relative;z-index: 1;}#sk-container-id-15 div.sk-parallel {display: flex;align-items: stretch;justify-content: center;background-color: white;position: relative;}#sk-container-id-15 div.sk-item::before, #sk-container-id-15 div.sk-parallel-item::before {content: \"\";position: absolute;border-left: 1px solid gray;box-sizing: border-box;top: 0;bottom: 0;left: 50%;z-index: -1;}#sk-container-id-15 div.sk-parallel-item {display: flex;flex-direction: column;z-index: 1;position: relative;background-color: white;}#sk-container-id-15 div.sk-parallel-item:first-child::after {align-self: flex-end;width: 50%;}#sk-container-id-15 div.sk-parallel-item:last-child::after {align-self: flex-start;width: 50%;}#sk-container-id-15 div.sk-parallel-item:only-child::after {width: 0;}#sk-container-id-15 div.sk-dashed-wrapped {border: 1px dashed gray;margin: 0 0.4em 0.5em 0.4em;box-sizing: border-box;padding-bottom: 0.4em;background-color: white;}#sk-container-id-15 div.sk-label label {font-family: monospace;font-weight: bold;display: inline-block;line-height: 1.2em;}#sk-container-id-15 div.sk-label-container {text-align: center;}#sk-container-id-15 div.sk-container {/* jupyter's `normalize.less` sets `[hidden] { display: none; }` but bootstrap.min.css set `[hidden] { display: none !important; }` so we also need the `!important` here to be able to override the default hidden behavior on the sphinx rendered scikit-learn.org. See: https://github.com/scikit-learn/scikit-learn/issues/21755 */display: inline-block !important;position: relative;}#sk-container-id-15 div.sk-text-repr-fallback {display: none;}</style><div id=\"sk-container-id-15\" class=\"sk-top-container\"><div class=\"sk-text-repr-fallback\"><pre>DecisionTreeRegressor()</pre><b>In a Jupyter environment, please rerun this cell to show the HTML representation or trust the notebook. <br />On GitHub, the HTML representation is unable to render, please try loading this page with nbviewer.org.</b></div><div class=\"sk-container\" hidden><div class=\"sk-item\"><div class=\"sk-estimator sk-toggleable\"><input class=\"sk-toggleable__control sk-hidden--visually\" id=\"sk-estimator-id-15\" type=\"checkbox\" checked><label for=\"sk-estimator-id-15\" class=\"sk-toggleable__label sk-toggleable__label-arrow\">DecisionTreeRegressor</label><div class=\"sk-toggleable__content\"><pre>DecisionTreeRegressor()</pre></div></div></div></div></div>"
      ],
      "text/plain": [
       "DecisionTreeRegressor()"
      ]
     },
     "execution_count": 219,
     "metadata": {},
     "output_type": "execute_result"
    }
   ],
   "source": [
    "lm_model.fit(X_train, y_train)\n",
    "dt_model.fit(X_train, y_train)"
   ]
  },
  {
   "cell_type": "code",
   "execution_count": 220,
   "id": "5bac0f01-44a6-4774-8d85-4e925e35e5f6",
   "metadata": {
    "tags": []
   },
   "outputs": [
    {
     "name": "stdout",
     "output_type": "stream",
     "text": [
      "lm_model : 0.8754885433625149\n",
      "dt_model : 0.7659953000379796\n"
     ]
    }
   ],
   "source": [
    "print(f\"lm_model : {r2_score(y_test, lm_model.predict(X_test))}\")\n",
    "print(f\"dt_model : {r2_score(y_test, dt_model.predict(X_test))}\")"
   ]
  },
  {
   "cell_type": "code",
   "execution_count": 221,
   "id": "2945ae03-12ee-402e-99fb-2d94ac21fc30",
   "metadata": {
    "tags": []
   },
   "outputs": [
    {
     "data": {
      "text/plain": [
       "0.8667368352074221"
      ]
     },
     "execution_count": 221,
     "metadata": {},
     "output_type": "execute_result"
    }
   ],
   "source": [
    "# SSE(편차) / SST\n",
    "1-np.sum(np.square(y-lm_model.predict(X))/np.sum(np.square(y-y.mean())))\n"
   ]
  },
  {
   "cell_type": "code",
   "execution_count": 222,
   "id": "bfa12e59-1990-4dfc-b526-86f4ff8c64d9",
   "metadata": {
    "tags": []
   },
   "outputs": [],
   "source": [
    "W = np.random.randn(2).reshape(2, 1)\n",
    "b = 0\n",
    "learning_rate = 1e-4\n",
    "for _ in range(10000):\n",
    "    y_hat = np.dot(X, W) + b\n",
    "    W -= 2*np.dot(X.T,(y_hat-y.reshape(-1, 1)))*learning_rate\n",
    "    b -= np.mean(2*(y_hat-y.reshape(-1, 1)))*learning_rate"
   ]
  },
  {
   "cell_type": "code",
   "execution_count": 223,
   "id": "91404a37-fbcf-4af3-9d4f-d75dc88064c0",
   "metadata": {
    "tags": []
   },
   "outputs": [
    {
     "data": {
      "text/plain": [
       "0.8502563939597743"
      ]
     },
     "execution_count": 223,
     "metadata": {},
     "output_type": "execute_result"
    }
   ],
   "source": [
    "r2_score(y, (np.dot(X, W) + b))"
   ]
  },
  {
   "cell_type": "code",
   "execution_count": 224,
   "id": "5d2db598-4218-44d2-ab68-0dd7381b6a68",
   "metadata": {
    "tags": []
   },
   "outputs": [
    {
     "data": {
      "text/plain": [
       "(150, 150)"
      ]
     },
     "execution_count": 224,
     "metadata": {},
     "output_type": "execute_result"
    }
   ],
   "source": [
    "(y_hat-y).shape"
   ]
  },
  {
   "cell_type": "code",
   "execution_count": 225,
   "id": "8e896bf3-284b-4f4e-be99-0969e7b097ef",
   "metadata": {
    "tags": []
   },
   "outputs": [
    {
     "ename": "MemoryError",
     "evalue": "Unable to allocate 74.5 GiB for an array with shape (1000000, 10000) and data type float64",
     "output_type": "error",
     "traceback": [
      "\u001b[1;31m---------------------------------------------------------------------------\u001b[0m",
      "\u001b[1;31mMemoryError\u001b[0m                               Traceback (most recent call last)",
      "Cell \u001b[1;32mIn[225], line 1\u001b[0m\n\u001b[1;32m----> 1\u001b[0m X\u001b[38;5;241m=\u001b[39m \u001b[43mnp\u001b[49m\u001b[38;5;241;43m.\u001b[39;49m\u001b[43mzeros\u001b[49m\u001b[43m(\u001b[49m\u001b[43m(\u001b[49m\u001b[38;5;241;43m1_000_000\u001b[39;49m\u001b[43m,\u001b[49m\u001b[43m \u001b[49m\u001b[38;5;241;43m10_000\u001b[39;49m\u001b[43m)\u001b[49m\u001b[43m)\u001b[49m\n",
      "\u001b[1;31mMemoryError\u001b[0m: Unable to allocate 74.5 GiB for an array with shape (1000000, 10000) and data type float64"
     ]
    }
   ],
   "source": [
    "X= np.zeros((1_000_000, 10_000))"
   ]
  },
  {
   "cell_type": "code",
   "execution_count": 226,
   "id": "45b4aff6-f36f-44b7-99b3-86f2fb17e1d0",
   "metadata": {},
   "outputs": [],
   "source": [
    "import numpy as np\n",
    "import pandas as pd\n",
    "from sklearn.datasets import load_iris\n"
   ]
  },
  {
   "cell_type": "code",
   "execution_count": 227,
   "id": "92eb1433-0c28-4ac4-a469-2c84db611388",
   "metadata": {
    "tags": []
   },
   "outputs": [
    {
     "data": {
      "text/plain": [
       "['sepal length (cm)',\n",
       " 'sepal width (cm)',\n",
       " 'petal length (cm)',\n",
       " 'petal width (cm)']"
      ]
     },
     "execution_count": 227,
     "metadata": {},
     "output_type": "execute_result"
    }
   ],
   "source": [
    "load_iris()['feature_names']"
   ]
  },
  {
   "cell_type": "code",
   "execution_count": 228,
   "id": "53286bea-5a9a-49de-9f7a-df9069b7129a",
   "metadata": {
    "tags": []
   },
   "outputs": [],
   "source": [
    "X = load_iris()['data']\n",
    "y = load_iris()['target']\n",
    "species = np.where(y == 0, 'setosa', np.where(y==1,'versicolor','virginica'))\n",
    "data = pd.DataFrame(X, columns=load_iris()['feature_names'])\n",
    "data['species'] = species"
   ]
  },
  {
   "cell_type": "code",
   "execution_count": 229,
   "id": "839af39b-94c5-47ef-83d7-737a9bb9c292",
   "metadata": {
    "tags": []
   },
   "outputs": [
    {
     "data": {
      "text/html": [
       "<div>\n",
       "<style scoped>\n",
       "    .dataframe tbody tr th:only-of-type {\n",
       "        vertical-align: middle;\n",
       "    }\n",
       "\n",
       "    .dataframe tbody tr th {\n",
       "        vertical-align: top;\n",
       "    }\n",
       "\n",
       "    .dataframe thead th {\n",
       "        text-align: right;\n",
       "    }\n",
       "</style>\n",
       "<table border=\"1\" class=\"dataframe\">\n",
       "  <thead>\n",
       "    <tr style=\"text-align: right;\">\n",
       "      <th></th>\n",
       "      <th>sepal length (cm)</th>\n",
       "      <th>sepal width (cm)</th>\n",
       "      <th>petal length (cm)</th>\n",
       "      <th>petal width (cm)</th>\n",
       "      <th>species</th>\n",
       "    </tr>\n",
       "  </thead>\n",
       "  <tbody>\n",
       "    <tr>\n",
       "      <th>0</th>\n",
       "      <td>5.1</td>\n",
       "      <td>3.5</td>\n",
       "      <td>1.4</td>\n",
       "      <td>0.2</td>\n",
       "      <td>setosa</td>\n",
       "    </tr>\n",
       "    <tr>\n",
       "      <th>1</th>\n",
       "      <td>4.9</td>\n",
       "      <td>3.0</td>\n",
       "      <td>1.4</td>\n",
       "      <td>0.2</td>\n",
       "      <td>setosa</td>\n",
       "    </tr>\n",
       "    <tr>\n",
       "      <th>2</th>\n",
       "      <td>4.7</td>\n",
       "      <td>3.2</td>\n",
       "      <td>1.3</td>\n",
       "      <td>0.2</td>\n",
       "      <td>setosa</td>\n",
       "    </tr>\n",
       "    <tr>\n",
       "      <th>3</th>\n",
       "      <td>4.6</td>\n",
       "      <td>3.1</td>\n",
       "      <td>1.5</td>\n",
       "      <td>0.2</td>\n",
       "      <td>setosa</td>\n",
       "    </tr>\n",
       "    <tr>\n",
       "      <th>4</th>\n",
       "      <td>5.0</td>\n",
       "      <td>3.6</td>\n",
       "      <td>1.4</td>\n",
       "      <td>0.2</td>\n",
       "      <td>setosa</td>\n",
       "    </tr>\n",
       "    <tr>\n",
       "      <th>...</th>\n",
       "      <td>...</td>\n",
       "      <td>...</td>\n",
       "      <td>...</td>\n",
       "      <td>...</td>\n",
       "      <td>...</td>\n",
       "    </tr>\n",
       "    <tr>\n",
       "      <th>145</th>\n",
       "      <td>6.7</td>\n",
       "      <td>3.0</td>\n",
       "      <td>5.2</td>\n",
       "      <td>2.3</td>\n",
       "      <td>virginica</td>\n",
       "    </tr>\n",
       "    <tr>\n",
       "      <th>146</th>\n",
       "      <td>6.3</td>\n",
       "      <td>2.5</td>\n",
       "      <td>5.0</td>\n",
       "      <td>1.9</td>\n",
       "      <td>virginica</td>\n",
       "    </tr>\n",
       "    <tr>\n",
       "      <th>147</th>\n",
       "      <td>6.5</td>\n",
       "      <td>3.0</td>\n",
       "      <td>5.2</td>\n",
       "      <td>2.0</td>\n",
       "      <td>virginica</td>\n",
       "    </tr>\n",
       "    <tr>\n",
       "      <th>148</th>\n",
       "      <td>6.2</td>\n",
       "      <td>3.4</td>\n",
       "      <td>5.4</td>\n",
       "      <td>2.3</td>\n",
       "      <td>virginica</td>\n",
       "    </tr>\n",
       "    <tr>\n",
       "      <th>149</th>\n",
       "      <td>5.9</td>\n",
       "      <td>3.0</td>\n",
       "      <td>5.1</td>\n",
       "      <td>1.8</td>\n",
       "      <td>virginica</td>\n",
       "    </tr>\n",
       "  </tbody>\n",
       "</table>\n",
       "<p>150 rows × 5 columns</p>\n",
       "</div>"
      ],
      "text/plain": [
       "     sepal length (cm)  sepal width (cm)  petal length (cm)  petal width (cm)  \\\n",
       "0                  5.1               3.5                1.4               0.2   \n",
       "1                  4.9               3.0                1.4               0.2   \n",
       "2                  4.7               3.2                1.3               0.2   \n",
       "3                  4.6               3.1                1.5               0.2   \n",
       "4                  5.0               3.6                1.4               0.2   \n",
       "..                 ...               ...                ...               ...   \n",
       "145                6.7               3.0                5.2               2.3   \n",
       "146                6.3               2.5                5.0               1.9   \n",
       "147                6.5               3.0                5.2               2.0   \n",
       "148                6.2               3.4                5.4               2.3   \n",
       "149                5.9               3.0                5.1               1.8   \n",
       "\n",
       "       species  \n",
       "0       setosa  \n",
       "1       setosa  \n",
       "2       setosa  \n",
       "3       setosa  \n",
       "4       setosa  \n",
       "..         ...  \n",
       "145  virginica  \n",
       "146  virginica  \n",
       "147  virginica  \n",
       "148  virginica  \n",
       "149  virginica  \n",
       "\n",
       "[150 rows x 5 columns]"
      ]
     },
     "execution_count": 229,
     "metadata": {},
     "output_type": "execute_result"
    }
   ],
   "source": [
    "data"
   ]
  },
  {
   "cell_type": "code",
   "execution_count": 230,
   "id": "c7824191-3942-4580-8c97-df657758c25a",
   "metadata": {
    "tags": []
   },
   "outputs": [
    {
     "name": "stdout",
     "output_type": "stream",
     "text": [
      "<class 'pandas.core.frame.DataFrame'>\n",
      "RangeIndex: 150 entries, 0 to 149\n",
      "Data columns (total 5 columns):\n",
      " #   Column             Non-Null Count  Dtype  \n",
      "---  ------             --------------  -----  \n",
      " 0   sepal length (cm)  150 non-null    float64\n",
      " 1   sepal width (cm)   150 non-null    float64\n",
      " 2   petal length (cm)  150 non-null    float64\n",
      " 3   petal width (cm)   150 non-null    float64\n",
      " 4   species            150 non-null    object \n",
      "dtypes: float64(4), object(1)\n",
      "memory usage: 6.0+ KB\n"
     ]
    }
   ],
   "source": [
    "## 1. 데이터 처리\n",
    "## 데이터의 eda(exporering data analysis)\n",
    "## 데이터 전처리 (missing, none )\n",
    "## 데이터를 tidy데이터로 만드는 작업\n",
    "data.info()"
   ]
  },
  {
   "cell_type": "code",
   "execution_count": 231,
   "id": "df7f7f75-e1c8-4932-804f-b5e944e5c30f",
   "metadata": {
    "tags": []
   },
   "outputs": [],
   "source": [
    "X = data.iloc[:,:-1]\n",
    "y = data.iloc[:,-1]"
   ]
  },
  {
   "cell_type": "code",
   "execution_count": 232,
   "id": "4819f06e-921a-43b4-a887-684f2dbf676b",
   "metadata": {
    "tags": []
   },
   "outputs": [],
   "source": [
    "from sklearn.preprocessing import LabelEncoder"
   ]
  },
  {
   "cell_type": "code",
   "execution_count": 233,
   "id": "644cbff0-d374-4868-8738-0de017c7e22b",
   "metadata": {
    "tags": []
   },
   "outputs": [],
   "source": [
    "le = LabelEncoder()"
   ]
  },
  {
   "cell_type": "code",
   "execution_count": 234,
   "id": "ae22c689-6b61-4742-9fc9-e63c52d14131",
   "metadata": {
    "tags": []
   },
   "outputs": [
    {
     "data": {
      "text/html": [
       "<style>#sk-container-id-16 {color: black;}#sk-container-id-16 pre{padding: 0;}#sk-container-id-16 div.sk-toggleable {background-color: white;}#sk-container-id-16 label.sk-toggleable__label {cursor: pointer;display: block;width: 100%;margin-bottom: 0;padding: 0.3em;box-sizing: border-box;text-align: center;}#sk-container-id-16 label.sk-toggleable__label-arrow:before {content: \"▸\";float: left;margin-right: 0.25em;color: #696969;}#sk-container-id-16 label.sk-toggleable__label-arrow:hover:before {color: black;}#sk-container-id-16 div.sk-estimator:hover label.sk-toggleable__label-arrow:before {color: black;}#sk-container-id-16 div.sk-toggleable__content {max-height: 0;max-width: 0;overflow: hidden;text-align: left;background-color: #f0f8ff;}#sk-container-id-16 div.sk-toggleable__content pre {margin: 0.2em;color: black;border-radius: 0.25em;background-color: #f0f8ff;}#sk-container-id-16 input.sk-toggleable__control:checked~div.sk-toggleable__content {max-height: 200px;max-width: 100%;overflow: auto;}#sk-container-id-16 input.sk-toggleable__control:checked~label.sk-toggleable__label-arrow:before {content: \"▾\";}#sk-container-id-16 div.sk-estimator input.sk-toggleable__control:checked~label.sk-toggleable__label {background-color: #d4ebff;}#sk-container-id-16 div.sk-label input.sk-toggleable__control:checked~label.sk-toggleable__label {background-color: #d4ebff;}#sk-container-id-16 input.sk-hidden--visually {border: 0;clip: rect(1px 1px 1px 1px);clip: rect(1px, 1px, 1px, 1px);height: 1px;margin: -1px;overflow: hidden;padding: 0;position: absolute;width: 1px;}#sk-container-id-16 div.sk-estimator {font-family: monospace;background-color: #f0f8ff;border: 1px dotted black;border-radius: 0.25em;box-sizing: border-box;margin-bottom: 0.5em;}#sk-container-id-16 div.sk-estimator:hover {background-color: #d4ebff;}#sk-container-id-16 div.sk-parallel-item::after {content: \"\";width: 100%;border-bottom: 1px solid gray;flex-grow: 1;}#sk-container-id-16 div.sk-label:hover label.sk-toggleable__label {background-color: #d4ebff;}#sk-container-id-16 div.sk-serial::before {content: \"\";position: absolute;border-left: 1px solid gray;box-sizing: border-box;top: 0;bottom: 0;left: 50%;z-index: 0;}#sk-container-id-16 div.sk-serial {display: flex;flex-direction: column;align-items: center;background-color: white;padding-right: 0.2em;padding-left: 0.2em;position: relative;}#sk-container-id-16 div.sk-item {position: relative;z-index: 1;}#sk-container-id-16 div.sk-parallel {display: flex;align-items: stretch;justify-content: center;background-color: white;position: relative;}#sk-container-id-16 div.sk-item::before, #sk-container-id-16 div.sk-parallel-item::before {content: \"\";position: absolute;border-left: 1px solid gray;box-sizing: border-box;top: 0;bottom: 0;left: 50%;z-index: -1;}#sk-container-id-16 div.sk-parallel-item {display: flex;flex-direction: column;z-index: 1;position: relative;background-color: white;}#sk-container-id-16 div.sk-parallel-item:first-child::after {align-self: flex-end;width: 50%;}#sk-container-id-16 div.sk-parallel-item:last-child::after {align-self: flex-start;width: 50%;}#sk-container-id-16 div.sk-parallel-item:only-child::after {width: 0;}#sk-container-id-16 div.sk-dashed-wrapped {border: 1px dashed gray;margin: 0 0.4em 0.5em 0.4em;box-sizing: border-box;padding-bottom: 0.4em;background-color: white;}#sk-container-id-16 div.sk-label label {font-family: monospace;font-weight: bold;display: inline-block;line-height: 1.2em;}#sk-container-id-16 div.sk-label-container {text-align: center;}#sk-container-id-16 div.sk-container {/* jupyter's `normalize.less` sets `[hidden] { display: none; }` but bootstrap.min.css set `[hidden] { display: none !important; }` so we also need the `!important` here to be able to override the default hidden behavior on the sphinx rendered scikit-learn.org. See: https://github.com/scikit-learn/scikit-learn/issues/21755 */display: inline-block !important;position: relative;}#sk-container-id-16 div.sk-text-repr-fallback {display: none;}</style><div id=\"sk-container-id-16\" class=\"sk-top-container\"><div class=\"sk-text-repr-fallback\"><pre>LabelEncoder()</pre><b>In a Jupyter environment, please rerun this cell to show the HTML representation or trust the notebook. <br />On GitHub, the HTML representation is unable to render, please try loading this page with nbviewer.org.</b></div><div class=\"sk-container\" hidden><div class=\"sk-item\"><div class=\"sk-estimator sk-toggleable\"><input class=\"sk-toggleable__control sk-hidden--visually\" id=\"sk-estimator-id-16\" type=\"checkbox\" checked><label for=\"sk-estimator-id-16\" class=\"sk-toggleable__label sk-toggleable__label-arrow\">LabelEncoder</label><div class=\"sk-toggleable__content\"><pre>LabelEncoder()</pre></div></div></div></div></div>"
      ],
      "text/plain": [
       "LabelEncoder()"
      ]
     },
     "execution_count": 234,
     "metadata": {},
     "output_type": "execute_result"
    }
   ],
   "source": [
    "le.fit(y)"
   ]
  },
  {
   "cell_type": "code",
   "execution_count": 235,
   "id": "5885fb98-a6f4-4cef-ae5e-9f7538a0c37d",
   "metadata": {
    "tags": []
   },
   "outputs": [
    {
     "data": {
      "text/plain": [
       "array([0, 0, 0, 0, 0, 0, 0, 0, 0, 0, 0, 0, 0, 0, 0, 0, 0, 0, 0, 0, 0, 0,\n",
       "       0, 0, 0, 0, 0, 0, 0, 0, 0, 0, 0, 0, 0, 0, 0, 0, 0, 0, 0, 0, 0, 0,\n",
       "       0, 0, 0, 0, 0, 0, 1, 1, 1, 1, 1, 1, 1, 1, 1, 1, 1, 1, 1, 1, 1, 1,\n",
       "       1, 1, 1, 1, 1, 1, 1, 1, 1, 1, 1, 1, 1, 1, 1, 1, 1, 1, 1, 1, 1, 1,\n",
       "       1, 1, 1, 1, 1, 1, 1, 1, 1, 1, 1, 1, 2, 2, 2, 2, 2, 2, 2, 2, 2, 2,\n",
       "       2, 2, 2, 2, 2, 2, 2, 2, 2, 2, 2, 2, 2, 2, 2, 2, 2, 2, 2, 2, 2, 2,\n",
       "       2, 2, 2, 2, 2, 2, 2, 2, 2, 2, 2, 2, 2, 2, 2, 2, 2, 2])"
      ]
     },
     "execution_count": 235,
     "metadata": {},
     "output_type": "execute_result"
    }
   ],
   "source": [
    "le.transform(y)"
   ]
  },
  {
   "cell_type": "code",
   "execution_count": 236,
   "id": "3b5d479b-74bf-4a0a-8053-26b2d8b15886",
   "metadata": {
    "tags": []
   },
   "outputs": [],
   "source": [
    "random_idx = np.random.choice(np.arange(150),150,replace=False)\n",
    "idx = int(len(random_idx)*0.8)\n",
    "tr_idx = random_idx[:idx]\n",
    "te_idx = random_idx[idx:]"
   ]
  },
  {
   "cell_type": "code",
   "execution_count": 237,
   "id": "d41f2e7a-24ba-4b2e-9ace-db43cdf80a0f",
   "metadata": {
    "tags": []
   },
   "outputs": [],
   "source": [
    "X_train = X.iloc[tr_idx,:]\n",
    "y_train = y[tr_idx]\n",
    "X_test = X.iloc[te_idx,:]\n",
    "y_test = y[te_idx]"
   ]
  },
  {
   "cell_type": "code",
   "execution_count": 238,
   "id": "24032656-65e8-452d-86cb-86ec3ba0704f",
   "metadata": {
    "tags": []
   },
   "outputs": [],
   "source": [
    "##2 알고리즘 선택\n",
    "from sklearn.tree import DecisionTreeClassifier"
   ]
  },
  {
   "cell_type": "code",
   "execution_count": 239,
   "id": "51024d96-340c-471e-8de8-13a22d5dc736",
   "metadata": {
    "tags": []
   },
   "outputs": [
    {
     "data": {
      "text/html": [
       "<style>#sk-container-id-17 {color: black;}#sk-container-id-17 pre{padding: 0;}#sk-container-id-17 div.sk-toggleable {background-color: white;}#sk-container-id-17 label.sk-toggleable__label {cursor: pointer;display: block;width: 100%;margin-bottom: 0;padding: 0.3em;box-sizing: border-box;text-align: center;}#sk-container-id-17 label.sk-toggleable__label-arrow:before {content: \"▸\";float: left;margin-right: 0.25em;color: #696969;}#sk-container-id-17 label.sk-toggleable__label-arrow:hover:before {color: black;}#sk-container-id-17 div.sk-estimator:hover label.sk-toggleable__label-arrow:before {color: black;}#sk-container-id-17 div.sk-toggleable__content {max-height: 0;max-width: 0;overflow: hidden;text-align: left;background-color: #f0f8ff;}#sk-container-id-17 div.sk-toggleable__content pre {margin: 0.2em;color: black;border-radius: 0.25em;background-color: #f0f8ff;}#sk-container-id-17 input.sk-toggleable__control:checked~div.sk-toggleable__content {max-height: 200px;max-width: 100%;overflow: auto;}#sk-container-id-17 input.sk-toggleable__control:checked~label.sk-toggleable__label-arrow:before {content: \"▾\";}#sk-container-id-17 div.sk-estimator input.sk-toggleable__control:checked~label.sk-toggleable__label {background-color: #d4ebff;}#sk-container-id-17 div.sk-label input.sk-toggleable__control:checked~label.sk-toggleable__label {background-color: #d4ebff;}#sk-container-id-17 input.sk-hidden--visually {border: 0;clip: rect(1px 1px 1px 1px);clip: rect(1px, 1px, 1px, 1px);height: 1px;margin: -1px;overflow: hidden;padding: 0;position: absolute;width: 1px;}#sk-container-id-17 div.sk-estimator {font-family: monospace;background-color: #f0f8ff;border: 1px dotted black;border-radius: 0.25em;box-sizing: border-box;margin-bottom: 0.5em;}#sk-container-id-17 div.sk-estimator:hover {background-color: #d4ebff;}#sk-container-id-17 div.sk-parallel-item::after {content: \"\";width: 100%;border-bottom: 1px solid gray;flex-grow: 1;}#sk-container-id-17 div.sk-label:hover label.sk-toggleable__label {background-color: #d4ebff;}#sk-container-id-17 div.sk-serial::before {content: \"\";position: absolute;border-left: 1px solid gray;box-sizing: border-box;top: 0;bottom: 0;left: 50%;z-index: 0;}#sk-container-id-17 div.sk-serial {display: flex;flex-direction: column;align-items: center;background-color: white;padding-right: 0.2em;padding-left: 0.2em;position: relative;}#sk-container-id-17 div.sk-item {position: relative;z-index: 1;}#sk-container-id-17 div.sk-parallel {display: flex;align-items: stretch;justify-content: center;background-color: white;position: relative;}#sk-container-id-17 div.sk-item::before, #sk-container-id-17 div.sk-parallel-item::before {content: \"\";position: absolute;border-left: 1px solid gray;box-sizing: border-box;top: 0;bottom: 0;left: 50%;z-index: -1;}#sk-container-id-17 div.sk-parallel-item {display: flex;flex-direction: column;z-index: 1;position: relative;background-color: white;}#sk-container-id-17 div.sk-parallel-item:first-child::after {align-self: flex-end;width: 50%;}#sk-container-id-17 div.sk-parallel-item:last-child::after {align-self: flex-start;width: 50%;}#sk-container-id-17 div.sk-parallel-item:only-child::after {width: 0;}#sk-container-id-17 div.sk-dashed-wrapped {border: 1px dashed gray;margin: 0 0.4em 0.5em 0.4em;box-sizing: border-box;padding-bottom: 0.4em;background-color: white;}#sk-container-id-17 div.sk-label label {font-family: monospace;font-weight: bold;display: inline-block;line-height: 1.2em;}#sk-container-id-17 div.sk-label-container {text-align: center;}#sk-container-id-17 div.sk-container {/* jupyter's `normalize.less` sets `[hidden] { display: none; }` but bootstrap.min.css set `[hidden] { display: none !important; }` so we also need the `!important` here to be able to override the default hidden behavior on the sphinx rendered scikit-learn.org. See: https://github.com/scikit-learn/scikit-learn/issues/21755 */display: inline-block !important;position: relative;}#sk-container-id-17 div.sk-text-repr-fallback {display: none;}</style><div id=\"sk-container-id-17\" class=\"sk-top-container\"><div class=\"sk-text-repr-fallback\"><pre>DecisionTreeClassifier()</pre><b>In a Jupyter environment, please rerun this cell to show the HTML representation or trust the notebook. <br />On GitHub, the HTML representation is unable to render, please try loading this page with nbviewer.org.</b></div><div class=\"sk-container\" hidden><div class=\"sk-item\"><div class=\"sk-estimator sk-toggleable\"><input class=\"sk-toggleable__control sk-hidden--visually\" id=\"sk-estimator-id-17\" type=\"checkbox\" checked><label for=\"sk-estimator-id-17\" class=\"sk-toggleable__label sk-toggleable__label-arrow\">DecisionTreeClassifier</label><div class=\"sk-toggleable__content\"><pre>DecisionTreeClassifier()</pre></div></div></div></div></div>"
      ],
      "text/plain": [
       "DecisionTreeClassifier()"
      ]
     },
     "execution_count": 239,
     "metadata": {},
     "output_type": "execute_result"
    }
   ],
   "source": [
    "##2-1 모델학습\n",
    "clf = DecisionTreeClassifier()\n",
    "clf.fit(X_train,y_train)"
   ]
  },
  {
   "cell_type": "code",
   "execution_count": 240,
   "id": "05052d7f-a9be-4ef1-a4c8-2f182cf3aa03",
   "metadata": {
    "tags": []
   },
   "outputs": [
    {
     "data": {
      "text/plain": [
       "1.0"
      ]
     },
     "execution_count": 240,
     "metadata": {},
     "output_type": "execute_result"
    }
   ],
   "source": [
    "np.sum(clf.predict(X_test) == y_test)/y_test.size"
   ]
  },
  {
   "cell_type": "code",
   "execution_count": 241,
   "id": "14cedc75-7c03-4c61-b1de-44f581ca1120",
   "metadata": {
    "tags": []
   },
   "outputs": [
    {
     "data": {
      "text/plain": [
       "1.0"
      ]
     },
     "execution_count": 241,
     "metadata": {},
     "output_type": "execute_result"
    }
   ],
   "source": [
    "clf.score(X_test,y_test)"
   ]
  },
  {
   "cell_type": "code",
   "execution_count": 242,
   "id": "098d8264-1fd9-4f7c-9cbc-0d199b4e3d29",
   "metadata": {
    "tags": []
   },
   "outputs": [
    {
     "data": {
      "text/plain": [
       "{'ccp_alpha': 0.0,\n",
       " 'class_weight': None,\n",
       " 'criterion': 'gini',\n",
       " 'max_depth': None,\n",
       " 'max_features': None,\n",
       " 'max_leaf_nodes': None,\n",
       " 'min_impurity_decrease': 0.0,\n",
       " 'min_samples_leaf': 1,\n",
       " 'min_samples_split': 2,\n",
       " 'min_weight_fraction_leaf': 0.0,\n",
       " 'random_state': None,\n",
       " 'splitter': 'best'}"
      ]
     },
     "execution_count": 242,
     "metadata": {},
     "output_type": "execute_result"
    }
   ],
   "source": [
    "clf.get_params()"
   ]
  },
  {
   "cell_type": "code",
   "execution_count": 243,
   "id": "25df8541-ff9c-4f0e-a95a-90b9af13eb5b",
   "metadata": {
    "tags": []
   },
   "outputs": [],
   "source": [
    "clf = DecisionTreeClassifier(criterion=\"gini\",max_depth=7)"
   ]
  },
  {
   "cell_type": "code",
   "execution_count": 244,
   "id": "4832e684-8393-4e2c-be7e-1ffb5e8f8e8a",
   "metadata": {
    "tags": []
   },
   "outputs": [
    {
     "data": {
      "text/plain": [
       "0.9666666666666667"
      ]
     },
     "execution_count": 244,
     "metadata": {},
     "output_type": "execute_result"
    }
   ],
   "source": [
    "clf.fit(X_train,y_train)\n",
    "clf.score(X_test,y_test)"
   ]
  },
  {
   "cell_type": "code",
   "execution_count": 245,
   "id": "f181c95d-deff-4244-b914-b43d19907f00",
   "metadata": {
    "tags": []
   },
   "outputs": [
    {
     "data": {
      "text/plain": [
       "5"
      ]
     },
     "execution_count": 245,
     "metadata": {},
     "output_type": "execute_result"
    }
   ],
   "source": [
    "clf.get_depth()"
   ]
  },
  {
   "cell_type": "code",
   "execution_count": 246,
   "id": "1231d6c3-d821-4905-a038-e0610fe33d55",
   "metadata": {
    "tags": []
   },
   "outputs": [
    {
     "data": {
      "text/plain": [
       "(120, 4)"
      ]
     },
     "execution_count": 246,
     "metadata": {},
     "output_type": "execute_result"
    }
   ],
   "source": [
    "X_train.shape"
   ]
  },
  {
   "cell_type": "code",
   "execution_count": 247,
   "id": "944c288e-53d1-4814-af00-12859aea5af5",
   "metadata": {
    "tags": []
   },
   "outputs": [
    {
     "data": {
      "text/plain": [
       "(1, 4)"
      ]
     },
     "execution_count": 247,
     "metadata": {},
     "output_type": "execute_result"
    }
   ],
   "source": [
    "X_train.iloc[[1],:].shape"
   ]
  },
  {
   "cell_type": "code",
   "execution_count": 248,
   "id": "0b7250ac-dcfe-4d93-b063-ef633c3603d6",
   "metadata": {
    "tags": []
   },
   "outputs": [],
   "source": [
    "# 1  \n",
    "# 2 모델\n",
    "from sklearn.cluster import KMeans"
   ]
  },
  {
   "cell_type": "code",
   "execution_count": 249,
   "id": "a2a44f0e-bd2b-4007-ad80-f2930ed0d80e",
   "metadata": {
    "tags": []
   },
   "outputs": [
    {
     "data": {
      "text/html": [
       "<div>\n",
       "<style scoped>\n",
       "    .dataframe tbody tr th:only-of-type {\n",
       "        vertical-align: middle;\n",
       "    }\n",
       "\n",
       "    .dataframe tbody tr th {\n",
       "        vertical-align: top;\n",
       "    }\n",
       "\n",
       "    .dataframe thead th {\n",
       "        text-align: right;\n",
       "    }\n",
       "</style>\n",
       "<table border=\"1\" class=\"dataframe\">\n",
       "  <thead>\n",
       "    <tr style=\"text-align: right;\">\n",
       "      <th></th>\n",
       "      <th>sepal length (cm)</th>\n",
       "      <th>sepal width (cm)</th>\n",
       "      <th>petal length (cm)</th>\n",
       "      <th>petal width (cm)</th>\n",
       "    </tr>\n",
       "  </thead>\n",
       "  <tbody>\n",
       "    <tr>\n",
       "      <th>0</th>\n",
       "      <td>5.1</td>\n",
       "      <td>3.5</td>\n",
       "      <td>1.4</td>\n",
       "      <td>0.2</td>\n",
       "    </tr>\n",
       "    <tr>\n",
       "      <th>1</th>\n",
       "      <td>4.9</td>\n",
       "      <td>3.0</td>\n",
       "      <td>1.4</td>\n",
       "      <td>0.2</td>\n",
       "    </tr>\n",
       "    <tr>\n",
       "      <th>2</th>\n",
       "      <td>4.7</td>\n",
       "      <td>3.2</td>\n",
       "      <td>1.3</td>\n",
       "      <td>0.2</td>\n",
       "    </tr>\n",
       "    <tr>\n",
       "      <th>3</th>\n",
       "      <td>4.6</td>\n",
       "      <td>3.1</td>\n",
       "      <td>1.5</td>\n",
       "      <td>0.2</td>\n",
       "    </tr>\n",
       "    <tr>\n",
       "      <th>4</th>\n",
       "      <td>5.0</td>\n",
       "      <td>3.6</td>\n",
       "      <td>1.4</td>\n",
       "      <td>0.2</td>\n",
       "    </tr>\n",
       "    <tr>\n",
       "      <th>...</th>\n",
       "      <td>...</td>\n",
       "      <td>...</td>\n",
       "      <td>...</td>\n",
       "      <td>...</td>\n",
       "    </tr>\n",
       "    <tr>\n",
       "      <th>145</th>\n",
       "      <td>6.7</td>\n",
       "      <td>3.0</td>\n",
       "      <td>5.2</td>\n",
       "      <td>2.3</td>\n",
       "    </tr>\n",
       "    <tr>\n",
       "      <th>146</th>\n",
       "      <td>6.3</td>\n",
       "      <td>2.5</td>\n",
       "      <td>5.0</td>\n",
       "      <td>1.9</td>\n",
       "    </tr>\n",
       "    <tr>\n",
       "      <th>147</th>\n",
       "      <td>6.5</td>\n",
       "      <td>3.0</td>\n",
       "      <td>5.2</td>\n",
       "      <td>2.0</td>\n",
       "    </tr>\n",
       "    <tr>\n",
       "      <th>148</th>\n",
       "      <td>6.2</td>\n",
       "      <td>3.4</td>\n",
       "      <td>5.4</td>\n",
       "      <td>2.3</td>\n",
       "    </tr>\n",
       "    <tr>\n",
       "      <th>149</th>\n",
       "      <td>5.9</td>\n",
       "      <td>3.0</td>\n",
       "      <td>5.1</td>\n",
       "      <td>1.8</td>\n",
       "    </tr>\n",
       "  </tbody>\n",
       "</table>\n",
       "<p>150 rows × 4 columns</p>\n",
       "</div>"
      ],
      "text/plain": [
       "     sepal length (cm)  sepal width (cm)  petal length (cm)  petal width (cm)\n",
       "0                  5.1               3.5                1.4               0.2\n",
       "1                  4.9               3.0                1.4               0.2\n",
       "2                  4.7               3.2                1.3               0.2\n",
       "3                  4.6               3.1                1.5               0.2\n",
       "4                  5.0               3.6                1.4               0.2\n",
       "..                 ...               ...                ...               ...\n",
       "145                6.7               3.0                5.2               2.3\n",
       "146                6.3               2.5                5.0               1.9\n",
       "147                6.5               3.0                5.2               2.0\n",
       "148                6.2               3.4                5.4               2.3\n",
       "149                5.9               3.0                5.1               1.8\n",
       "\n",
       "[150 rows x 4 columns]"
      ]
     },
     "execution_count": 249,
     "metadata": {},
     "output_type": "execute_result"
    }
   ],
   "source": [
    "X"
   ]
  },
  {
   "cell_type": "code",
   "execution_count": 250,
   "id": "e59b942d-8013-455e-b797-6f7ed5bf7ee3",
   "metadata": {
    "tags": []
   },
   "outputs": [],
   "source": [
    "km = KMeans(3)"
   ]
  },
  {
   "cell_type": "code",
   "execution_count": 251,
   "id": "a41ef1ba-3346-4857-84c7-b5d42c4d3623",
   "metadata": {
    "tags": []
   },
   "outputs": [
    {
     "name": "stderr",
     "output_type": "stream",
     "text": [
      "C:\\Users\\user\\anaconda3\\Lib\\site-packages\\sklearn\\cluster\\_kmeans.py:1412: FutureWarning: The default value of `n_init` will change from 10 to 'auto' in 1.4. Set the value of `n_init` explicitly to suppress the warning\n",
      "  super()._check_params_vs_input(X, default_n_init=10)\n",
      "C:\\Users\\user\\anaconda3\\Lib\\site-packages\\sklearn\\cluster\\_kmeans.py:1436: UserWarning: KMeans is known to have a memory leak on Windows with MKL, when there are less chunks than available threads. You can avoid it by setting the environment variable OMP_NUM_THREADS=1.\n",
      "  warnings.warn(\n"
     ]
    },
    {
     "data": {
      "text/html": [
       "<style>#sk-container-id-18 {color: black;}#sk-container-id-18 pre{padding: 0;}#sk-container-id-18 div.sk-toggleable {background-color: white;}#sk-container-id-18 label.sk-toggleable__label {cursor: pointer;display: block;width: 100%;margin-bottom: 0;padding: 0.3em;box-sizing: border-box;text-align: center;}#sk-container-id-18 label.sk-toggleable__label-arrow:before {content: \"▸\";float: left;margin-right: 0.25em;color: #696969;}#sk-container-id-18 label.sk-toggleable__label-arrow:hover:before {color: black;}#sk-container-id-18 div.sk-estimator:hover label.sk-toggleable__label-arrow:before {color: black;}#sk-container-id-18 div.sk-toggleable__content {max-height: 0;max-width: 0;overflow: hidden;text-align: left;background-color: #f0f8ff;}#sk-container-id-18 div.sk-toggleable__content pre {margin: 0.2em;color: black;border-radius: 0.25em;background-color: #f0f8ff;}#sk-container-id-18 input.sk-toggleable__control:checked~div.sk-toggleable__content {max-height: 200px;max-width: 100%;overflow: auto;}#sk-container-id-18 input.sk-toggleable__control:checked~label.sk-toggleable__label-arrow:before {content: \"▾\";}#sk-container-id-18 div.sk-estimator input.sk-toggleable__control:checked~label.sk-toggleable__label {background-color: #d4ebff;}#sk-container-id-18 div.sk-label input.sk-toggleable__control:checked~label.sk-toggleable__label {background-color: #d4ebff;}#sk-container-id-18 input.sk-hidden--visually {border: 0;clip: rect(1px 1px 1px 1px);clip: rect(1px, 1px, 1px, 1px);height: 1px;margin: -1px;overflow: hidden;padding: 0;position: absolute;width: 1px;}#sk-container-id-18 div.sk-estimator {font-family: monospace;background-color: #f0f8ff;border: 1px dotted black;border-radius: 0.25em;box-sizing: border-box;margin-bottom: 0.5em;}#sk-container-id-18 div.sk-estimator:hover {background-color: #d4ebff;}#sk-container-id-18 div.sk-parallel-item::after {content: \"\";width: 100%;border-bottom: 1px solid gray;flex-grow: 1;}#sk-container-id-18 div.sk-label:hover label.sk-toggleable__label {background-color: #d4ebff;}#sk-container-id-18 div.sk-serial::before {content: \"\";position: absolute;border-left: 1px solid gray;box-sizing: border-box;top: 0;bottom: 0;left: 50%;z-index: 0;}#sk-container-id-18 div.sk-serial {display: flex;flex-direction: column;align-items: center;background-color: white;padding-right: 0.2em;padding-left: 0.2em;position: relative;}#sk-container-id-18 div.sk-item {position: relative;z-index: 1;}#sk-container-id-18 div.sk-parallel {display: flex;align-items: stretch;justify-content: center;background-color: white;position: relative;}#sk-container-id-18 div.sk-item::before, #sk-container-id-18 div.sk-parallel-item::before {content: \"\";position: absolute;border-left: 1px solid gray;box-sizing: border-box;top: 0;bottom: 0;left: 50%;z-index: -1;}#sk-container-id-18 div.sk-parallel-item {display: flex;flex-direction: column;z-index: 1;position: relative;background-color: white;}#sk-container-id-18 div.sk-parallel-item:first-child::after {align-self: flex-end;width: 50%;}#sk-container-id-18 div.sk-parallel-item:last-child::after {align-self: flex-start;width: 50%;}#sk-container-id-18 div.sk-parallel-item:only-child::after {width: 0;}#sk-container-id-18 div.sk-dashed-wrapped {border: 1px dashed gray;margin: 0 0.4em 0.5em 0.4em;box-sizing: border-box;padding-bottom: 0.4em;background-color: white;}#sk-container-id-18 div.sk-label label {font-family: monospace;font-weight: bold;display: inline-block;line-height: 1.2em;}#sk-container-id-18 div.sk-label-container {text-align: center;}#sk-container-id-18 div.sk-container {/* jupyter's `normalize.less` sets `[hidden] { display: none; }` but bootstrap.min.css set `[hidden] { display: none !important; }` so we also need the `!important` here to be able to override the default hidden behavior on the sphinx rendered scikit-learn.org. See: https://github.com/scikit-learn/scikit-learn/issues/21755 */display: inline-block !important;position: relative;}#sk-container-id-18 div.sk-text-repr-fallback {display: none;}</style><div id=\"sk-container-id-18\" class=\"sk-top-container\"><div class=\"sk-text-repr-fallback\"><pre>KMeans(n_clusters=3)</pre><b>In a Jupyter environment, please rerun this cell to show the HTML representation or trust the notebook. <br />On GitHub, the HTML representation is unable to render, please try loading this page with nbviewer.org.</b></div><div class=\"sk-container\" hidden><div class=\"sk-item\"><div class=\"sk-estimator sk-toggleable\"><input class=\"sk-toggleable__control sk-hidden--visually\" id=\"sk-estimator-id-18\" type=\"checkbox\" checked><label for=\"sk-estimator-id-18\" class=\"sk-toggleable__label sk-toggleable__label-arrow\">KMeans</label><div class=\"sk-toggleable__content\"><pre>KMeans(n_clusters=3)</pre></div></div></div></div></div>"
      ],
      "text/plain": [
       "KMeans(n_clusters=3)"
      ]
     },
     "execution_count": 251,
     "metadata": {},
     "output_type": "execute_result"
    }
   ],
   "source": [
    "km.fit(X)"
   ]
  },
  {
   "cell_type": "code",
   "execution_count": 252,
   "id": "353fc3f4-9738-4f24-ba30-17ce354b9858",
   "metadata": {
    "tags": []
   },
   "outputs": [
    {
     "data": {
      "text/plain": [
       "array([1, 1, 1, 1, 1, 1, 1, 1, 1, 1, 1, 1, 1, 1, 1, 1, 1, 1, 1, 1, 1, 1,\n",
       "       1, 1, 1, 1, 1, 1, 1, 1, 1, 1, 1, 1, 1, 1, 1, 1, 1, 1, 1, 1, 1, 1,\n",
       "       1, 1, 1, 1, 1, 1, 2, 2, 0, 2, 2, 2, 2, 2, 2, 2, 2, 2, 2, 2, 2, 2,\n",
       "       2, 2, 2, 2, 2, 2, 2, 2, 2, 2, 2, 0, 2, 2, 2, 2, 2, 2, 2, 2, 2, 2,\n",
       "       2, 2, 2, 2, 2, 2, 2, 2, 2, 2, 2, 2, 0, 2, 0, 0, 0, 0, 2, 0, 0, 0,\n",
       "       0, 0, 0, 2, 2, 0, 0, 0, 0, 2, 0, 2, 0, 2, 0, 0, 2, 2, 0, 0, 0, 0,\n",
       "       0, 2, 0, 0, 0, 0, 2, 0, 0, 0, 2, 0, 0, 0, 2, 0, 0, 2])"
      ]
     },
     "execution_count": 252,
     "metadata": {},
     "output_type": "execute_result"
    }
   ],
   "source": [
    "km.labels_"
   ]
  },
  {
   "cell_type": "code",
   "execution_count": 253,
   "id": "5a2ceaa9-339f-462c-992c-3aa48e8f8034",
   "metadata": {
    "tags": []
   },
   "outputs": [],
   "source": [
    "result1 = km.labels_"
   ]
  },
  {
   "cell_type": "code",
   "execution_count": 254,
   "id": "d71694cd-cd50-49ed-a8f2-1ac03e1b05fd",
   "metadata": {
    "tags": []
   },
   "outputs": [
    {
     "data": {
      "text/plain": [
       "array([[6.85      , 3.07368421, 5.74210526, 2.07105263],\n",
       "       [5.006     , 3.428     , 1.462     , 0.246     ],\n",
       "       [5.9016129 , 2.7483871 , 4.39354839, 1.43387097]])"
      ]
     },
     "execution_count": 254,
     "metadata": {},
     "output_type": "execute_result"
    }
   ],
   "source": [
    "km.cluster_centers_"
   ]
  },
  {
   "cell_type": "code",
   "execution_count": 255,
   "id": "eb4b26e9-7736-42ee-ac30-2f0618bbccf4",
   "metadata": {
    "tags": []
   },
   "outputs": [
    {
     "data": {
      "text/plain": [
       "array([ True,  True,  True,  True,  True,  True,  True,  True,  True,\n",
       "        True,  True,  True,  True,  True,  True,  True,  True,  True,\n",
       "        True,  True,  True,  True,  True,  True,  True,  True,  True,\n",
       "        True,  True,  True,  True,  True,  True,  True,  True,  True,\n",
       "        True,  True,  True,  True,  True,  True,  True,  True,  True,\n",
       "        True,  True,  True,  True,  True,  True,  True,  True,  True,\n",
       "        True,  True,  True,  True,  True,  True,  True,  True,  True,\n",
       "        True,  True,  True,  True,  True,  True,  True,  True,  True,\n",
       "        True,  True,  True,  True,  True,  True,  True,  True,  True,\n",
       "        True,  True,  True,  True,  True,  True,  True,  True,  True,\n",
       "        True,  True,  True,  True,  True,  True,  True,  True,  True,\n",
       "        True,  True,  True,  True,  True,  True,  True,  True,  True,\n",
       "        True,  True,  True,  True,  True,  True,  True,  True,  True,\n",
       "        True,  True,  True,  True,  True,  True,  True,  True,  True,\n",
       "        True,  True,  True,  True,  True,  True,  True,  True,  True,\n",
       "        True,  True,  True,  True,  True,  True,  True,  True,  True,\n",
       "        True,  True,  True,  True,  True,  True])"
      ]
     },
     "execution_count": 255,
     "metadata": {},
     "output_type": "execute_result"
    }
   ],
   "source": [
    "km.predict(X) == result1"
   ]
  },
  {
   "cell_type": "code",
   "execution_count": 256,
   "id": "86d6e007-64d4-47c0-92cd-ad524b84ab0f",
   "metadata": {
    "tags": []
   },
   "outputs": [],
   "source": [
    "y = km.predict(X)"
   ]
  },
  {
   "cell_type": "code",
   "execution_count": 257,
   "id": "f3e8abcd-a63b-4997-80cc-f3795e1a1326",
   "metadata": {
    "tags": []
   },
   "outputs": [],
   "source": [
    "from sklearn.model_selection import train_test_split"
   ]
  },
  {
   "cell_type": "code",
   "execution_count": 258,
   "id": "ec37bb87-fee7-4031-8237-e1f554182caf",
   "metadata": {
    "tags": []
   },
   "outputs": [],
   "source": [
    "X_train, X_test, y_train, y_test = train_test_split(X, y, test_size=.2)"
   ]
  },
  {
   "cell_type": "code",
   "execution_count": 259,
   "id": "af29f975-ee27-4808-be53-7a5504960d22",
   "metadata": {
    "tags": []
   },
   "outputs": [],
   "source": [
    "from sklearn.linear_model import LogisticRegression"
   ]
  },
  {
   "cell_type": "code",
   "execution_count": 260,
   "id": "746caac7-7468-4451-951c-071bef8a1130",
   "metadata": {
    "tags": []
   },
   "outputs": [
    {
     "data": {
      "text/html": [
       "<style>#sk-container-id-19 {color: black;}#sk-container-id-19 pre{padding: 0;}#sk-container-id-19 div.sk-toggleable {background-color: white;}#sk-container-id-19 label.sk-toggleable__label {cursor: pointer;display: block;width: 100%;margin-bottom: 0;padding: 0.3em;box-sizing: border-box;text-align: center;}#sk-container-id-19 label.sk-toggleable__label-arrow:before {content: \"▸\";float: left;margin-right: 0.25em;color: #696969;}#sk-container-id-19 label.sk-toggleable__label-arrow:hover:before {color: black;}#sk-container-id-19 div.sk-estimator:hover label.sk-toggleable__label-arrow:before {color: black;}#sk-container-id-19 div.sk-toggleable__content {max-height: 0;max-width: 0;overflow: hidden;text-align: left;background-color: #f0f8ff;}#sk-container-id-19 div.sk-toggleable__content pre {margin: 0.2em;color: black;border-radius: 0.25em;background-color: #f0f8ff;}#sk-container-id-19 input.sk-toggleable__control:checked~div.sk-toggleable__content {max-height: 200px;max-width: 100%;overflow: auto;}#sk-container-id-19 input.sk-toggleable__control:checked~label.sk-toggleable__label-arrow:before {content: \"▾\";}#sk-container-id-19 div.sk-estimator input.sk-toggleable__control:checked~label.sk-toggleable__label {background-color: #d4ebff;}#sk-container-id-19 div.sk-label input.sk-toggleable__control:checked~label.sk-toggleable__label {background-color: #d4ebff;}#sk-container-id-19 input.sk-hidden--visually {border: 0;clip: rect(1px 1px 1px 1px);clip: rect(1px, 1px, 1px, 1px);height: 1px;margin: -1px;overflow: hidden;padding: 0;position: absolute;width: 1px;}#sk-container-id-19 div.sk-estimator {font-family: monospace;background-color: #f0f8ff;border: 1px dotted black;border-radius: 0.25em;box-sizing: border-box;margin-bottom: 0.5em;}#sk-container-id-19 div.sk-estimator:hover {background-color: #d4ebff;}#sk-container-id-19 div.sk-parallel-item::after {content: \"\";width: 100%;border-bottom: 1px solid gray;flex-grow: 1;}#sk-container-id-19 div.sk-label:hover label.sk-toggleable__label {background-color: #d4ebff;}#sk-container-id-19 div.sk-serial::before {content: \"\";position: absolute;border-left: 1px solid gray;box-sizing: border-box;top: 0;bottom: 0;left: 50%;z-index: 0;}#sk-container-id-19 div.sk-serial {display: flex;flex-direction: column;align-items: center;background-color: white;padding-right: 0.2em;padding-left: 0.2em;position: relative;}#sk-container-id-19 div.sk-item {position: relative;z-index: 1;}#sk-container-id-19 div.sk-parallel {display: flex;align-items: stretch;justify-content: center;background-color: white;position: relative;}#sk-container-id-19 div.sk-item::before, #sk-container-id-19 div.sk-parallel-item::before {content: \"\";position: absolute;border-left: 1px solid gray;box-sizing: border-box;top: 0;bottom: 0;left: 50%;z-index: -1;}#sk-container-id-19 div.sk-parallel-item {display: flex;flex-direction: column;z-index: 1;position: relative;background-color: white;}#sk-container-id-19 div.sk-parallel-item:first-child::after {align-self: flex-end;width: 50%;}#sk-container-id-19 div.sk-parallel-item:last-child::after {align-self: flex-start;width: 50%;}#sk-container-id-19 div.sk-parallel-item:only-child::after {width: 0;}#sk-container-id-19 div.sk-dashed-wrapped {border: 1px dashed gray;margin: 0 0.4em 0.5em 0.4em;box-sizing: border-box;padding-bottom: 0.4em;background-color: white;}#sk-container-id-19 div.sk-label label {font-family: monospace;font-weight: bold;display: inline-block;line-height: 1.2em;}#sk-container-id-19 div.sk-label-container {text-align: center;}#sk-container-id-19 div.sk-container {/* jupyter's `normalize.less` sets `[hidden] { display: none; }` but bootstrap.min.css set `[hidden] { display: none !important; }` so we also need the `!important` here to be able to override the default hidden behavior on the sphinx rendered scikit-learn.org. See: https://github.com/scikit-learn/scikit-learn/issues/21755 */display: inline-block !important;position: relative;}#sk-container-id-19 div.sk-text-repr-fallback {display: none;}</style><div id=\"sk-container-id-19\" class=\"sk-top-container\"><div class=\"sk-text-repr-fallback\"><pre>DecisionTreeClassifier(max_depth=7)</pre><b>In a Jupyter environment, please rerun this cell to show the HTML representation or trust the notebook. <br />On GitHub, the HTML representation is unable to render, please try loading this page with nbviewer.org.</b></div><div class=\"sk-container\" hidden><div class=\"sk-item\"><div class=\"sk-estimator sk-toggleable\"><input class=\"sk-toggleable__control sk-hidden--visually\" id=\"sk-estimator-id-19\" type=\"checkbox\" checked><label for=\"sk-estimator-id-19\" class=\"sk-toggleable__label sk-toggleable__label-arrow\">DecisionTreeClassifier</label><div class=\"sk-toggleable__content\"><pre>DecisionTreeClassifier(max_depth=7)</pre></div></div></div></div></div>"
      ],
      "text/plain": [
       "DecisionTreeClassifier(max_depth=7)"
      ]
     },
     "execution_count": 260,
     "metadata": {},
     "output_type": "execute_result"
    }
   ],
   "source": [
    "clf.fit(X_train, y_train)"
   ]
  },
  {
   "cell_type": "code",
   "execution_count": 261,
   "id": "891296d3-ec4b-425a-b6d4-9893b0b029e7",
   "metadata": {
    "tags": []
   },
   "outputs": [
    {
     "data": {
      "text/plain": [
       "0.9666666666666667"
      ]
     },
     "execution_count": 261,
     "metadata": {},
     "output_type": "execute_result"
    }
   ],
   "source": [
    "clf.score(X_test, y_test)"
   ]
  },
  {
   "cell_type": "code",
   "execution_count": 262,
   "id": "9b0bdbe7-f959-4adc-902f-ce7b4c9880c7",
   "metadata": {
    "tags": []
   },
   "outputs": [
    {
     "data": {
      "text/plain": [
       "array([0])"
      ]
     },
     "execution_count": 262,
     "metadata": {},
     "output_type": "execute_result"
    }
   ],
   "source": [
    "clf.predict(X.iloc[[120], :])"
   ]
  },
  {
   "cell_type": "code",
   "execution_count": 263,
   "id": "4943eae4-ca94-4054-a8f2-90acac30fe63",
   "metadata": {
    "tags": []
   },
   "outputs": [
    {
     "data": {
      "text/plain": [
       "array([1, 1, 1, 1, 1, 1, 1, 1, 1, 1, 1, 1, 1, 1, 1, 1, 1, 1, 1, 1, 1, 1,\n",
       "       1, 1, 1, 1, 1, 1, 1, 1, 1, 1, 1, 1, 1, 1, 1, 1, 1, 1, 1, 1, 1, 1,\n",
       "       1, 1, 1, 1, 1, 1, 2, 2, 0, 2, 2, 2, 2, 2, 2, 2, 2, 2, 2, 2, 2, 2,\n",
       "       2, 2, 2, 2, 2, 2, 2, 2, 2, 2, 2, 0, 2, 2, 2, 2, 2, 2, 2, 2, 2, 2,\n",
       "       2, 2, 2, 2, 2, 2, 2, 2, 2, 2, 2, 2, 0, 2, 0, 0, 0, 0, 2, 0, 0, 0,\n",
       "       0, 0, 0, 2, 2, 0, 0, 0, 0, 2, 0, 2, 0, 2, 0, 0, 2, 2, 0, 0, 0, 0,\n",
       "       0, 2, 0, 0, 0, 0, 2, 0, 0, 0, 2, 0, 0, 0, 2, 0, 0, 2])"
      ]
     },
     "execution_count": 263,
     "metadata": {},
     "output_type": "execute_result"
    }
   ],
   "source": [
    "y"
   ]
  },
  {
   "cell_type": "code",
   "execution_count": 264,
   "id": "49594c56-6236-404a-aae6-6039b222efa5",
   "metadata": {
    "tags": []
   },
   "outputs": [
    {
     "data": {
      "text/html": [
       "<div>\n",
       "<style scoped>\n",
       "    .dataframe tbody tr th:only-of-type {\n",
       "        vertical-align: middle;\n",
       "    }\n",
       "\n",
       "    .dataframe tbody tr th {\n",
       "        vertical-align: top;\n",
       "    }\n",
       "\n",
       "    .dataframe thead th {\n",
       "        text-align: right;\n",
       "    }\n",
       "</style>\n",
       "<table border=\"1\" class=\"dataframe\">\n",
       "  <thead>\n",
       "    <tr style=\"text-align: right;\">\n",
       "      <th></th>\n",
       "      <th>sepal length (cm)</th>\n",
       "      <th>sepal width (cm)</th>\n",
       "      <th>petal length (cm)</th>\n",
       "      <th>petal width (cm)</th>\n",
       "    </tr>\n",
       "  </thead>\n",
       "  <tbody>\n",
       "    <tr>\n",
       "      <th>106</th>\n",
       "      <td>4.9</td>\n",
       "      <td>2.5</td>\n",
       "      <td>4.5</td>\n",
       "      <td>1.7</td>\n",
       "    </tr>\n",
       "    <tr>\n",
       "      <th>5</th>\n",
       "      <td>5.4</td>\n",
       "      <td>3.9</td>\n",
       "      <td>1.7</td>\n",
       "      <td>0.4</td>\n",
       "    </tr>\n",
       "    <tr>\n",
       "      <th>16</th>\n",
       "      <td>5.4</td>\n",
       "      <td>3.9</td>\n",
       "      <td>1.3</td>\n",
       "      <td>0.4</td>\n",
       "    </tr>\n",
       "    <tr>\n",
       "      <th>101</th>\n",
       "      <td>5.8</td>\n",
       "      <td>2.7</td>\n",
       "      <td>5.1</td>\n",
       "      <td>1.9</td>\n",
       "    </tr>\n",
       "    <tr>\n",
       "      <th>137</th>\n",
       "      <td>6.4</td>\n",
       "      <td>3.1</td>\n",
       "      <td>5.5</td>\n",
       "      <td>1.8</td>\n",
       "    </tr>\n",
       "    <tr>\n",
       "      <th>...</th>\n",
       "      <td>...</td>\n",
       "      <td>...</td>\n",
       "      <td>...</td>\n",
       "      <td>...</td>\n",
       "    </tr>\n",
       "    <tr>\n",
       "      <th>113</th>\n",
       "      <td>5.7</td>\n",
       "      <td>2.5</td>\n",
       "      <td>5.0</td>\n",
       "      <td>2.0</td>\n",
       "    </tr>\n",
       "    <tr>\n",
       "      <th>119</th>\n",
       "      <td>6.0</td>\n",
       "      <td>2.2</td>\n",
       "      <td>5.0</td>\n",
       "      <td>1.5</td>\n",
       "    </tr>\n",
       "    <tr>\n",
       "      <th>107</th>\n",
       "      <td>7.3</td>\n",
       "      <td>2.9</td>\n",
       "      <td>6.3</td>\n",
       "      <td>1.8</td>\n",
       "    </tr>\n",
       "    <tr>\n",
       "      <th>118</th>\n",
       "      <td>7.7</td>\n",
       "      <td>2.6</td>\n",
       "      <td>6.9</td>\n",
       "      <td>2.3</td>\n",
       "    </tr>\n",
       "    <tr>\n",
       "      <th>129</th>\n",
       "      <td>7.2</td>\n",
       "      <td>3.0</td>\n",
       "      <td>5.8</td>\n",
       "      <td>1.6</td>\n",
       "    </tr>\n",
       "  </tbody>\n",
       "</table>\n",
       "<p>120 rows × 4 columns</p>\n",
       "</div>"
      ],
      "text/plain": [
       "     sepal length (cm)  sepal width (cm)  petal length (cm)  petal width (cm)\n",
       "106                4.9               2.5                4.5               1.7\n",
       "5                  5.4               3.9                1.7               0.4\n",
       "16                 5.4               3.9                1.3               0.4\n",
       "101                5.8               2.7                5.1               1.9\n",
       "137                6.4               3.1                5.5               1.8\n",
       "..                 ...               ...                ...               ...\n",
       "113                5.7               2.5                5.0               2.0\n",
       "119                6.0               2.2                5.0               1.5\n",
       "107                7.3               2.9                6.3               1.8\n",
       "118                7.7               2.6                6.9               2.3\n",
       "129                7.2               3.0                5.8               1.6\n",
       "\n",
       "[120 rows x 4 columns]"
      ]
     },
     "execution_count": 264,
     "metadata": {},
     "output_type": "execute_result"
    }
   ],
   "source": [
    "X_train"
   ]
  },
  {
   "cell_type": "code",
   "execution_count": 265,
   "id": "92b28939-22ee-40be-8b4f-be44cc5dc618",
   "metadata": {
    "tags": []
   },
   "outputs": [
    {
     "data": {
      "text/plain": [
       "array([2, 1, 1, 2, 0, 2, 0, 1, 2, 2, 0, 2, 0, 0, 2, 1, 2, 2, 2, 2, 1, 2,\n",
       "       2, 0, 0, 2, 1, 2, 0, 0, 0, 2, 1, 2, 1, 2, 2, 2, 0, 2, 1, 1, 1, 1,\n",
       "       0, 1, 2, 0, 0, 0, 2, 0, 2, 2, 1, 2, 0, 2, 1, 2, 2, 1, 2, 0, 2, 0,\n",
       "       1, 2, 2, 1, 2, 1, 1, 0, 0, 0, 1, 1, 1, 1, 2, 1, 1, 1, 1, 1, 1, 2,\n",
       "       1, 0, 2, 2, 0, 1, 0, 1, 2, 1, 1, 2, 1, 0, 2, 2, 2, 0, 2, 1, 2, 0,\n",
       "       1, 1, 2, 1, 2, 2, 2, 0, 0, 0])"
      ]
     },
     "execution_count": 265,
     "metadata": {},
     "output_type": "execute_result"
    }
   ],
   "source": [
    "y_train"
   ]
  },
  {
   "cell_type": "code",
   "execution_count": 266,
   "id": "2dfba13a-c511-495f-8707-c41f357ca275",
   "metadata": {
    "tags": []
   },
   "outputs": [
    {
     "data": {
      "text/plain": [
       "(120, 4)"
      ]
     },
     "execution_count": 266,
     "metadata": {},
     "output_type": "execute_result"
    }
   ],
   "source": [
    "X_train.shape"
   ]
  },
  {
   "cell_type": "code",
   "execution_count": 267,
   "id": "00d949cd-93f3-4ed9-82f7-ff4a926105a2",
   "metadata": {
    "tags": []
   },
   "outputs": [],
   "source": [
    "X = data.iloc[:,:-1]\n",
    "y = data.iloc[:, -1]"
   ]
  },
  {
   "cell_type": "code",
   "execution_count": 268,
   "id": "8d55efe8-2784-4549-87f9-963ef997a015",
   "metadata": {
    "tags": []
   },
   "outputs": [],
   "source": [
    "X_train, X_test, y_train, y_test = train_test_split(X, y, test_size=.2)"
   ]
  },
  {
   "cell_type": "code",
   "execution_count": 269,
   "id": "22165aca-285f-4d43-a0b9-42b3a7aad06d",
   "metadata": {
    "tags": []
   },
   "outputs": [],
   "source": [
    "from sklearn.svm import SVC"
   ]
  },
  {
   "cell_type": "code",
   "execution_count": 270,
   "id": "0518c3f2-d9c8-462e-a2e3-8f661f5ea4c2",
   "metadata": {
    "tags": []
   },
   "outputs": [],
   "source": [
    "clf = SVC(kernel='rbf')"
   ]
  },
  {
   "cell_type": "code",
   "execution_count": 271,
   "id": "908ddc52-86ab-4ff2-9bd2-3b7cda2e0eb1",
   "metadata": {
    "tags": []
   },
   "outputs": [
    {
     "data": {
      "text/plain": [
       "{'C': 1.0,\n",
       " 'break_ties': False,\n",
       " 'cache_size': 200,\n",
       " 'class_weight': None,\n",
       " 'coef0': 0.0,\n",
       " 'decision_function_shape': 'ovr',\n",
       " 'degree': 3,\n",
       " 'gamma': 'scale',\n",
       " 'kernel': 'rbf',\n",
       " 'max_iter': -1,\n",
       " 'probability': False,\n",
       " 'random_state': None,\n",
       " 'shrinking': True,\n",
       " 'tol': 0.001,\n",
       " 'verbose': False}"
      ]
     },
     "execution_count": 271,
     "metadata": {},
     "output_type": "execute_result"
    }
   ],
   "source": [
    "clf.get_params()"
   ]
  },
  {
   "cell_type": "code",
   "execution_count": 272,
   "id": "18ad1b67-b914-4665-b0f5-fb6984c4ce5d",
   "metadata": {
    "tags": []
   },
   "outputs": [
    {
     "data": {
      "text/html": [
       "<style>#sk-container-id-20 {color: black;}#sk-container-id-20 pre{padding: 0;}#sk-container-id-20 div.sk-toggleable {background-color: white;}#sk-container-id-20 label.sk-toggleable__label {cursor: pointer;display: block;width: 100%;margin-bottom: 0;padding: 0.3em;box-sizing: border-box;text-align: center;}#sk-container-id-20 label.sk-toggleable__label-arrow:before {content: \"▸\";float: left;margin-right: 0.25em;color: #696969;}#sk-container-id-20 label.sk-toggleable__label-arrow:hover:before {color: black;}#sk-container-id-20 div.sk-estimator:hover label.sk-toggleable__label-arrow:before {color: black;}#sk-container-id-20 div.sk-toggleable__content {max-height: 0;max-width: 0;overflow: hidden;text-align: left;background-color: #f0f8ff;}#sk-container-id-20 div.sk-toggleable__content pre {margin: 0.2em;color: black;border-radius: 0.25em;background-color: #f0f8ff;}#sk-container-id-20 input.sk-toggleable__control:checked~div.sk-toggleable__content {max-height: 200px;max-width: 100%;overflow: auto;}#sk-container-id-20 input.sk-toggleable__control:checked~label.sk-toggleable__label-arrow:before {content: \"▾\";}#sk-container-id-20 div.sk-estimator input.sk-toggleable__control:checked~label.sk-toggleable__label {background-color: #d4ebff;}#sk-container-id-20 div.sk-label input.sk-toggleable__control:checked~label.sk-toggleable__label {background-color: #d4ebff;}#sk-container-id-20 input.sk-hidden--visually {border: 0;clip: rect(1px 1px 1px 1px);clip: rect(1px, 1px, 1px, 1px);height: 1px;margin: -1px;overflow: hidden;padding: 0;position: absolute;width: 1px;}#sk-container-id-20 div.sk-estimator {font-family: monospace;background-color: #f0f8ff;border: 1px dotted black;border-radius: 0.25em;box-sizing: border-box;margin-bottom: 0.5em;}#sk-container-id-20 div.sk-estimator:hover {background-color: #d4ebff;}#sk-container-id-20 div.sk-parallel-item::after {content: \"\";width: 100%;border-bottom: 1px solid gray;flex-grow: 1;}#sk-container-id-20 div.sk-label:hover label.sk-toggleable__label {background-color: #d4ebff;}#sk-container-id-20 div.sk-serial::before {content: \"\";position: absolute;border-left: 1px solid gray;box-sizing: border-box;top: 0;bottom: 0;left: 50%;z-index: 0;}#sk-container-id-20 div.sk-serial {display: flex;flex-direction: column;align-items: center;background-color: white;padding-right: 0.2em;padding-left: 0.2em;position: relative;}#sk-container-id-20 div.sk-item {position: relative;z-index: 1;}#sk-container-id-20 div.sk-parallel {display: flex;align-items: stretch;justify-content: center;background-color: white;position: relative;}#sk-container-id-20 div.sk-item::before, #sk-container-id-20 div.sk-parallel-item::before {content: \"\";position: absolute;border-left: 1px solid gray;box-sizing: border-box;top: 0;bottom: 0;left: 50%;z-index: -1;}#sk-container-id-20 div.sk-parallel-item {display: flex;flex-direction: column;z-index: 1;position: relative;background-color: white;}#sk-container-id-20 div.sk-parallel-item:first-child::after {align-self: flex-end;width: 50%;}#sk-container-id-20 div.sk-parallel-item:last-child::after {align-self: flex-start;width: 50%;}#sk-container-id-20 div.sk-parallel-item:only-child::after {width: 0;}#sk-container-id-20 div.sk-dashed-wrapped {border: 1px dashed gray;margin: 0 0.4em 0.5em 0.4em;box-sizing: border-box;padding-bottom: 0.4em;background-color: white;}#sk-container-id-20 div.sk-label label {font-family: monospace;font-weight: bold;display: inline-block;line-height: 1.2em;}#sk-container-id-20 div.sk-label-container {text-align: center;}#sk-container-id-20 div.sk-container {/* jupyter's `normalize.less` sets `[hidden] { display: none; }` but bootstrap.min.css set `[hidden] { display: none !important; }` so we also need the `!important` here to be able to override the default hidden behavior on the sphinx rendered scikit-learn.org. See: https://github.com/scikit-learn/scikit-learn/issues/21755 */display: inline-block !important;position: relative;}#sk-container-id-20 div.sk-text-repr-fallback {display: none;}</style><div id=\"sk-container-id-20\" class=\"sk-top-container\"><div class=\"sk-text-repr-fallback\"><pre>SVC()</pre><b>In a Jupyter environment, please rerun this cell to show the HTML representation or trust the notebook. <br />On GitHub, the HTML representation is unable to render, please try loading this page with nbviewer.org.</b></div><div class=\"sk-container\" hidden><div class=\"sk-item\"><div class=\"sk-estimator sk-toggleable\"><input class=\"sk-toggleable__control sk-hidden--visually\" id=\"sk-estimator-id-20\" type=\"checkbox\" checked><label for=\"sk-estimator-id-20\" class=\"sk-toggleable__label sk-toggleable__label-arrow\">SVC</label><div class=\"sk-toggleable__content\"><pre>SVC()</pre></div></div></div></div></div>"
      ],
      "text/plain": [
       "SVC()"
      ]
     },
     "execution_count": 272,
     "metadata": {},
     "output_type": "execute_result"
    }
   ],
   "source": [
    "clf.fit(X_train, y_train)"
   ]
  },
  {
   "cell_type": "code",
   "execution_count": 273,
   "id": "ca0a435d-3637-4976-81df-a80921d1653b",
   "metadata": {
    "tags": []
   },
   "outputs": [
    {
     "data": {
      "text/plain": [
       "0.9666666666666667"
      ]
     },
     "execution_count": 273,
     "metadata": {},
     "output_type": "execute_result"
    }
   ],
   "source": [
    "clf.score(X_test, y_test)"
   ]
  },
  {
   "cell_type": "code",
   "execution_count": 274,
   "id": "3adb813c-8e4f-458f-ba60-8169ade71f53",
   "metadata": {
    "tags": []
   },
   "outputs": [],
   "source": [
    "clf = SVC()"
   ]
  },
  {
   "cell_type": "code",
   "execution_count": 275,
   "id": "477c4e72-854f-444f-9147-15f87b8afb0b",
   "metadata": {
    "tags": []
   },
   "outputs": [
    {
     "data": {
      "text/html": [
       "<style>#sk-container-id-21 {color: black;}#sk-container-id-21 pre{padding: 0;}#sk-container-id-21 div.sk-toggleable {background-color: white;}#sk-container-id-21 label.sk-toggleable__label {cursor: pointer;display: block;width: 100%;margin-bottom: 0;padding: 0.3em;box-sizing: border-box;text-align: center;}#sk-container-id-21 label.sk-toggleable__label-arrow:before {content: \"▸\";float: left;margin-right: 0.25em;color: #696969;}#sk-container-id-21 label.sk-toggleable__label-arrow:hover:before {color: black;}#sk-container-id-21 div.sk-estimator:hover label.sk-toggleable__label-arrow:before {color: black;}#sk-container-id-21 div.sk-toggleable__content {max-height: 0;max-width: 0;overflow: hidden;text-align: left;background-color: #f0f8ff;}#sk-container-id-21 div.sk-toggleable__content pre {margin: 0.2em;color: black;border-radius: 0.25em;background-color: #f0f8ff;}#sk-container-id-21 input.sk-toggleable__control:checked~div.sk-toggleable__content {max-height: 200px;max-width: 100%;overflow: auto;}#sk-container-id-21 input.sk-toggleable__control:checked~label.sk-toggleable__label-arrow:before {content: \"▾\";}#sk-container-id-21 div.sk-estimator input.sk-toggleable__control:checked~label.sk-toggleable__label {background-color: #d4ebff;}#sk-container-id-21 div.sk-label input.sk-toggleable__control:checked~label.sk-toggleable__label {background-color: #d4ebff;}#sk-container-id-21 input.sk-hidden--visually {border: 0;clip: rect(1px 1px 1px 1px);clip: rect(1px, 1px, 1px, 1px);height: 1px;margin: -1px;overflow: hidden;padding: 0;position: absolute;width: 1px;}#sk-container-id-21 div.sk-estimator {font-family: monospace;background-color: #f0f8ff;border: 1px dotted black;border-radius: 0.25em;box-sizing: border-box;margin-bottom: 0.5em;}#sk-container-id-21 div.sk-estimator:hover {background-color: #d4ebff;}#sk-container-id-21 div.sk-parallel-item::after {content: \"\";width: 100%;border-bottom: 1px solid gray;flex-grow: 1;}#sk-container-id-21 div.sk-label:hover label.sk-toggleable__label {background-color: #d4ebff;}#sk-container-id-21 div.sk-serial::before {content: \"\";position: absolute;border-left: 1px solid gray;box-sizing: border-box;top: 0;bottom: 0;left: 50%;z-index: 0;}#sk-container-id-21 div.sk-serial {display: flex;flex-direction: column;align-items: center;background-color: white;padding-right: 0.2em;padding-left: 0.2em;position: relative;}#sk-container-id-21 div.sk-item {position: relative;z-index: 1;}#sk-container-id-21 div.sk-parallel {display: flex;align-items: stretch;justify-content: center;background-color: white;position: relative;}#sk-container-id-21 div.sk-item::before, #sk-container-id-21 div.sk-parallel-item::before {content: \"\";position: absolute;border-left: 1px solid gray;box-sizing: border-box;top: 0;bottom: 0;left: 50%;z-index: -1;}#sk-container-id-21 div.sk-parallel-item {display: flex;flex-direction: column;z-index: 1;position: relative;background-color: white;}#sk-container-id-21 div.sk-parallel-item:first-child::after {align-self: flex-end;width: 50%;}#sk-container-id-21 div.sk-parallel-item:last-child::after {align-self: flex-start;width: 50%;}#sk-container-id-21 div.sk-parallel-item:only-child::after {width: 0;}#sk-container-id-21 div.sk-dashed-wrapped {border: 1px dashed gray;margin: 0 0.4em 0.5em 0.4em;box-sizing: border-box;padding-bottom: 0.4em;background-color: white;}#sk-container-id-21 div.sk-label label {font-family: monospace;font-weight: bold;display: inline-block;line-height: 1.2em;}#sk-container-id-21 div.sk-label-container {text-align: center;}#sk-container-id-21 div.sk-container {/* jupyter's `normalize.less` sets `[hidden] { display: none; }` but bootstrap.min.css set `[hidden] { display: none !important; }` so we also need the `!important` here to be able to override the default hidden behavior on the sphinx rendered scikit-learn.org. See: https://github.com/scikit-learn/scikit-learn/issues/21755 */display: inline-block !important;position: relative;}#sk-container-id-21 div.sk-text-repr-fallback {display: none;}</style><div id=\"sk-container-id-21\" class=\"sk-top-container\"><div class=\"sk-text-repr-fallback\"><pre>SVC()</pre><b>In a Jupyter environment, please rerun this cell to show the HTML representation or trust the notebook. <br />On GitHub, the HTML representation is unable to render, please try loading this page with nbviewer.org.</b></div><div class=\"sk-container\" hidden><div class=\"sk-item\"><div class=\"sk-estimator sk-toggleable\"><input class=\"sk-toggleable__control sk-hidden--visually\" id=\"sk-estimator-id-21\" type=\"checkbox\" checked><label for=\"sk-estimator-id-21\" class=\"sk-toggleable__label sk-toggleable__label-arrow\">SVC</label><div class=\"sk-toggleable__content\"><pre>SVC()</pre></div></div></div></div></div>"
      ],
      "text/plain": [
       "SVC()"
      ]
     },
     "execution_count": 275,
     "metadata": {},
     "output_type": "execute_result"
    }
   ],
   "source": [
    "clf.fit(X_train.iloc[:, :2], y_train)"
   ]
  },
  {
   "cell_type": "code",
   "execution_count": 276,
   "id": "b26474a4-fbc2-471a-9bb2-16fe910b7840",
   "metadata": {
    "tags": []
   },
   "outputs": [
    {
     "data": {
      "text/plain": [
       "0.8333333333333334"
      ]
     },
     "execution_count": 276,
     "metadata": {},
     "output_type": "execute_result"
    }
   ],
   "source": [
    "clf.score(X_test.iloc[:, :2],y_test)"
   ]
  },
  {
   "cell_type": "code",
   "execution_count": 277,
   "id": "b9225ed4-ba74-4498-83c6-e1e3d7303407",
   "metadata": {
    "tags": []
   },
   "outputs": [],
   "source": [
    "from sklearn.decomposition import PCA"
   ]
  },
  {
   "cell_type": "code",
   "execution_count": 278,
   "id": "31882508-f05e-4f1f-9ccd-6d6a15bfb8b2",
   "metadata": {
    "tags": []
   },
   "outputs": [],
   "source": [
    "pca = PCA(n_components=2)"
   ]
  },
  {
   "cell_type": "code",
   "execution_count": 279,
   "id": "b663ac53-8d98-4752-a2cf-1f511994ad1c",
   "metadata": {
    "tags": []
   },
   "outputs": [
    {
     "data": {
      "text/html": [
       "<style>#sk-container-id-22 {color: black;}#sk-container-id-22 pre{padding: 0;}#sk-container-id-22 div.sk-toggleable {background-color: white;}#sk-container-id-22 label.sk-toggleable__label {cursor: pointer;display: block;width: 100%;margin-bottom: 0;padding: 0.3em;box-sizing: border-box;text-align: center;}#sk-container-id-22 label.sk-toggleable__label-arrow:before {content: \"▸\";float: left;margin-right: 0.25em;color: #696969;}#sk-container-id-22 label.sk-toggleable__label-arrow:hover:before {color: black;}#sk-container-id-22 div.sk-estimator:hover label.sk-toggleable__label-arrow:before {color: black;}#sk-container-id-22 div.sk-toggleable__content {max-height: 0;max-width: 0;overflow: hidden;text-align: left;background-color: #f0f8ff;}#sk-container-id-22 div.sk-toggleable__content pre {margin: 0.2em;color: black;border-radius: 0.25em;background-color: #f0f8ff;}#sk-container-id-22 input.sk-toggleable__control:checked~div.sk-toggleable__content {max-height: 200px;max-width: 100%;overflow: auto;}#sk-container-id-22 input.sk-toggleable__control:checked~label.sk-toggleable__label-arrow:before {content: \"▾\";}#sk-container-id-22 div.sk-estimator input.sk-toggleable__control:checked~label.sk-toggleable__label {background-color: #d4ebff;}#sk-container-id-22 div.sk-label input.sk-toggleable__control:checked~label.sk-toggleable__label {background-color: #d4ebff;}#sk-container-id-22 input.sk-hidden--visually {border: 0;clip: rect(1px 1px 1px 1px);clip: rect(1px, 1px, 1px, 1px);height: 1px;margin: -1px;overflow: hidden;padding: 0;position: absolute;width: 1px;}#sk-container-id-22 div.sk-estimator {font-family: monospace;background-color: #f0f8ff;border: 1px dotted black;border-radius: 0.25em;box-sizing: border-box;margin-bottom: 0.5em;}#sk-container-id-22 div.sk-estimator:hover {background-color: #d4ebff;}#sk-container-id-22 div.sk-parallel-item::after {content: \"\";width: 100%;border-bottom: 1px solid gray;flex-grow: 1;}#sk-container-id-22 div.sk-label:hover label.sk-toggleable__label {background-color: #d4ebff;}#sk-container-id-22 div.sk-serial::before {content: \"\";position: absolute;border-left: 1px solid gray;box-sizing: border-box;top: 0;bottom: 0;left: 50%;z-index: 0;}#sk-container-id-22 div.sk-serial {display: flex;flex-direction: column;align-items: center;background-color: white;padding-right: 0.2em;padding-left: 0.2em;position: relative;}#sk-container-id-22 div.sk-item {position: relative;z-index: 1;}#sk-container-id-22 div.sk-parallel {display: flex;align-items: stretch;justify-content: center;background-color: white;position: relative;}#sk-container-id-22 div.sk-item::before, #sk-container-id-22 div.sk-parallel-item::before {content: \"\";position: absolute;border-left: 1px solid gray;box-sizing: border-box;top: 0;bottom: 0;left: 50%;z-index: -1;}#sk-container-id-22 div.sk-parallel-item {display: flex;flex-direction: column;z-index: 1;position: relative;background-color: white;}#sk-container-id-22 div.sk-parallel-item:first-child::after {align-self: flex-end;width: 50%;}#sk-container-id-22 div.sk-parallel-item:last-child::after {align-self: flex-start;width: 50%;}#sk-container-id-22 div.sk-parallel-item:only-child::after {width: 0;}#sk-container-id-22 div.sk-dashed-wrapped {border: 1px dashed gray;margin: 0 0.4em 0.5em 0.4em;box-sizing: border-box;padding-bottom: 0.4em;background-color: white;}#sk-container-id-22 div.sk-label label {font-family: monospace;font-weight: bold;display: inline-block;line-height: 1.2em;}#sk-container-id-22 div.sk-label-container {text-align: center;}#sk-container-id-22 div.sk-container {/* jupyter's `normalize.less` sets `[hidden] { display: none; }` but bootstrap.min.css set `[hidden] { display: none !important; }` so we also need the `!important` here to be able to override the default hidden behavior on the sphinx rendered scikit-learn.org. See: https://github.com/scikit-learn/scikit-learn/issues/21755 */display: inline-block !important;position: relative;}#sk-container-id-22 div.sk-text-repr-fallback {display: none;}</style><div id=\"sk-container-id-22\" class=\"sk-top-container\"><div class=\"sk-text-repr-fallback\"><pre>PCA(n_components=2)</pre><b>In a Jupyter environment, please rerun this cell to show the HTML representation or trust the notebook. <br />On GitHub, the HTML representation is unable to render, please try loading this page with nbviewer.org.</b></div><div class=\"sk-container\" hidden><div class=\"sk-item\"><div class=\"sk-estimator sk-toggleable\"><input class=\"sk-toggleable__control sk-hidden--visually\" id=\"sk-estimator-id-22\" type=\"checkbox\" checked><label for=\"sk-estimator-id-22\" class=\"sk-toggleable__label sk-toggleable__label-arrow\">PCA</label><div class=\"sk-toggleable__content\"><pre>PCA(n_components=2)</pre></div></div></div></div></div>"
      ],
      "text/plain": [
       "PCA(n_components=2)"
      ]
     },
     "execution_count": 279,
     "metadata": {},
     "output_type": "execute_result"
    }
   ],
   "source": [
    "pca.fit(X_train)"
   ]
  },
  {
   "cell_type": "code",
   "execution_count": 280,
   "id": "d842049d-17bb-4174-9afe-59ab047d0225",
   "metadata": {
    "tags": []
   },
   "outputs": [],
   "source": [
    "X_pca = pca.transform(X_train)"
   ]
  },
  {
   "cell_type": "code",
   "execution_count": 281,
   "id": "16a992f6-3860-40bc-9ad0-50e21c817797",
   "metadata": {
    "tags": []
   },
   "outputs": [
    {
     "data": {
      "text/plain": [
       "(120, 2)"
      ]
     },
     "execution_count": 281,
     "metadata": {},
     "output_type": "execute_result"
    }
   ],
   "source": [
    "X_pca.shape"
   ]
  },
  {
   "cell_type": "code",
   "execution_count": 282,
   "id": "a7e0807d-2e17-4c7f-be32-f24faaa59aa1",
   "metadata": {
    "tags": []
   },
   "outputs": [
    {
     "data": {
      "text/html": [
       "<style>#sk-container-id-23 {color: black;}#sk-container-id-23 pre{padding: 0;}#sk-container-id-23 div.sk-toggleable {background-color: white;}#sk-container-id-23 label.sk-toggleable__label {cursor: pointer;display: block;width: 100%;margin-bottom: 0;padding: 0.3em;box-sizing: border-box;text-align: center;}#sk-container-id-23 label.sk-toggleable__label-arrow:before {content: \"▸\";float: left;margin-right: 0.25em;color: #696969;}#sk-container-id-23 label.sk-toggleable__label-arrow:hover:before {color: black;}#sk-container-id-23 div.sk-estimator:hover label.sk-toggleable__label-arrow:before {color: black;}#sk-container-id-23 div.sk-toggleable__content {max-height: 0;max-width: 0;overflow: hidden;text-align: left;background-color: #f0f8ff;}#sk-container-id-23 div.sk-toggleable__content pre {margin: 0.2em;color: black;border-radius: 0.25em;background-color: #f0f8ff;}#sk-container-id-23 input.sk-toggleable__control:checked~div.sk-toggleable__content {max-height: 200px;max-width: 100%;overflow: auto;}#sk-container-id-23 input.sk-toggleable__control:checked~label.sk-toggleable__label-arrow:before {content: \"▾\";}#sk-container-id-23 div.sk-estimator input.sk-toggleable__control:checked~label.sk-toggleable__label {background-color: #d4ebff;}#sk-container-id-23 div.sk-label input.sk-toggleable__control:checked~label.sk-toggleable__label {background-color: #d4ebff;}#sk-container-id-23 input.sk-hidden--visually {border: 0;clip: rect(1px 1px 1px 1px);clip: rect(1px, 1px, 1px, 1px);height: 1px;margin: -1px;overflow: hidden;padding: 0;position: absolute;width: 1px;}#sk-container-id-23 div.sk-estimator {font-family: monospace;background-color: #f0f8ff;border: 1px dotted black;border-radius: 0.25em;box-sizing: border-box;margin-bottom: 0.5em;}#sk-container-id-23 div.sk-estimator:hover {background-color: #d4ebff;}#sk-container-id-23 div.sk-parallel-item::after {content: \"\";width: 100%;border-bottom: 1px solid gray;flex-grow: 1;}#sk-container-id-23 div.sk-label:hover label.sk-toggleable__label {background-color: #d4ebff;}#sk-container-id-23 div.sk-serial::before {content: \"\";position: absolute;border-left: 1px solid gray;box-sizing: border-box;top: 0;bottom: 0;left: 50%;z-index: 0;}#sk-container-id-23 div.sk-serial {display: flex;flex-direction: column;align-items: center;background-color: white;padding-right: 0.2em;padding-left: 0.2em;position: relative;}#sk-container-id-23 div.sk-item {position: relative;z-index: 1;}#sk-container-id-23 div.sk-parallel {display: flex;align-items: stretch;justify-content: center;background-color: white;position: relative;}#sk-container-id-23 div.sk-item::before, #sk-container-id-23 div.sk-parallel-item::before {content: \"\";position: absolute;border-left: 1px solid gray;box-sizing: border-box;top: 0;bottom: 0;left: 50%;z-index: -1;}#sk-container-id-23 div.sk-parallel-item {display: flex;flex-direction: column;z-index: 1;position: relative;background-color: white;}#sk-container-id-23 div.sk-parallel-item:first-child::after {align-self: flex-end;width: 50%;}#sk-container-id-23 div.sk-parallel-item:last-child::after {align-self: flex-start;width: 50%;}#sk-container-id-23 div.sk-parallel-item:only-child::after {width: 0;}#sk-container-id-23 div.sk-dashed-wrapped {border: 1px dashed gray;margin: 0 0.4em 0.5em 0.4em;box-sizing: border-box;padding-bottom: 0.4em;background-color: white;}#sk-container-id-23 div.sk-label label {font-family: monospace;font-weight: bold;display: inline-block;line-height: 1.2em;}#sk-container-id-23 div.sk-label-container {text-align: center;}#sk-container-id-23 div.sk-container {/* jupyter's `normalize.less` sets `[hidden] { display: none; }` but bootstrap.min.css set `[hidden] { display: none !important; }` so we also need the `!important` here to be able to override the default hidden behavior on the sphinx rendered scikit-learn.org. See: https://github.com/scikit-learn/scikit-learn/issues/21755 */display: inline-block !important;position: relative;}#sk-container-id-23 div.sk-text-repr-fallback {display: none;}</style><div id=\"sk-container-id-23\" class=\"sk-top-container\"><div class=\"sk-text-repr-fallback\"><pre>SVC()</pre><b>In a Jupyter environment, please rerun this cell to show the HTML representation or trust the notebook. <br />On GitHub, the HTML representation is unable to render, please try loading this page with nbviewer.org.</b></div><div class=\"sk-container\" hidden><div class=\"sk-item\"><div class=\"sk-estimator sk-toggleable\"><input class=\"sk-toggleable__control sk-hidden--visually\" id=\"sk-estimator-id-23\" type=\"checkbox\" checked><label for=\"sk-estimator-id-23\" class=\"sk-toggleable__label sk-toggleable__label-arrow\">SVC</label><div class=\"sk-toggleable__content\"><pre>SVC()</pre></div></div></div></div></div>"
      ],
      "text/plain": [
       "SVC()"
      ]
     },
     "execution_count": 282,
     "metadata": {},
     "output_type": "execute_result"
    }
   ],
   "source": [
    "clf = SVC()\n",
    "clf.fit(X_pca, y_train)"
   ]
  },
  {
   "cell_type": "code",
   "execution_count": 283,
   "id": "009bc84b-bd71-482b-a9a4-60213d75b8aa",
   "metadata": {
    "tags": []
   },
   "outputs": [],
   "source": [
    "X_pca_test = pca.transform(X_test)"
   ]
  },
  {
   "cell_type": "code",
   "execution_count": 284,
   "id": "600378f4-cac9-462a-9212-4958f46187a4",
   "metadata": {
    "tags": []
   },
   "outputs": [
    {
     "data": {
      "text/plain": [
       "1.0"
      ]
     },
     "execution_count": 284,
     "metadata": {},
     "output_type": "execute_result"
    }
   ],
   "source": [
    "clf.score(X_pca_test, y_test)"
   ]
  },
  {
   "cell_type": "code",
   "execution_count": 285,
   "id": "6d70a220-da30-4d46-8cdd-2b8a3d33f5bd",
   "metadata": {
    "tags": []
   },
   "outputs": [
    {
     "name": "stderr",
     "output_type": "stream",
     "text": [
      "C:\\Users\\user\\anaconda3\\Lib\\site-packages\\sklearn\\cluster\\_kmeans.py:1412: FutureWarning: The default value of `n_init` will change from 10 to 'auto' in 1.4. Set the value of `n_init` explicitly to suppress the warning\n",
      "  super()._check_params_vs_input(X, default_n_init=10)\n",
      "C:\\Users\\user\\anaconda3\\Lib\\site-packages\\sklearn\\cluster\\_kmeans.py:1436: UserWarning: KMeans is known to have a memory leak on Windows with MKL, when there are less chunks than available threads. You can avoid it by setting the environment variable OMP_NUM_THREADS=1.\n",
      "  warnings.warn(\n"
     ]
    }
   ],
   "source": [
    "group = KMeans(4).fit_transform(X)"
   ]
  },
  {
   "cell_type": "code",
   "execution_count": 286,
   "id": "4f9c255c-9ff0-4640-999d-ce04ff3ad082",
   "metadata": {
    "collapsed": true,
    "jupyter": {
     "outputs_hidden": true
    },
    "tags": []
   },
   "outputs": [
    {
     "data": {
      "text/plain": [
       "array([[5.1912985 , 0.14135063, 3.91600007, 2.90651319],\n",
       "       [5.2501981 , 0.44763825, 3.92915096, 2.83405946],\n",
       "       [5.41377457, 0.4171091 , 4.09889133, 3.00549565],\n",
       "       [5.28892287, 0.52533799, 3.96194494, 2.84377886],\n",
       "       [5.23565469, 0.18862662, 3.96366828, 2.95453895],\n",
       "       [4.80847742, 0.67703767, 3.59626268, 2.70931938],\n",
       "       [5.34470112, 0.4151867 , 4.04091066, 2.96111285],\n",
       "       [5.13543621, 0.06618157, 3.84481696, 2.8071411 ],\n",
       "       [5.46416326, 0.80745278, 4.12389621, 2.97421705],\n",
       "       [5.20302365, 0.37627118, 3.88580066, 2.79875046],\n",
       "       [5.02719654, 0.4824728 , 3.79054445, 2.85884664],\n",
       "       [5.13013938, 0.25373214, 3.82959374, 2.76654023],\n",
       "       [5.32666219, 0.50077939, 4.00124163, 2.89508595],\n",
       "       [5.78739623, 0.91322505, 4.45319101, 3.31294381],\n",
       "       [5.23171388, 1.01409073, 4.06549225, 3.24351839],\n",
       "       [5.00526773, 1.20481534, 3.88529849, 3.13316259],\n",
       "       [5.15741748, 0.6542018 , 3.947019  , 3.0484429 ],\n",
       "       [5.1549326 , 0.1441527 , 3.88080743, 2.8729976 ],\n",
       "       [4.74449208, 0.82436642, 3.54644211, 2.6982924 ],\n",
       "       [5.10136796, 0.38933276, 3.85539634, 2.89355037],\n",
       "       [4.82741702, 0.46344363, 3.55955368, 2.58457756],\n",
       "       [5.05348445, 0.3286031 , 3.79886799, 2.82371643],\n",
       "       [5.72883759, 0.64029681, 4.44362332, 3.39199008],\n",
       "       [4.81484217, 0.38259639, 3.52149261, 2.48619232],\n",
       "       [4.88469089, 0.48701129, 3.58209408, 2.51779674],\n",
       "       [5.04314684, 0.45208406, 3.72263124, 2.63432549],\n",
       "       [4.97803476, 0.20875823, 3.68813958, 2.65226047],\n",
       "       [5.07126267, 0.21536016, 3.8008257 , 2.8060194 ],\n",
       "       [5.15044465, 0.21066561, 3.87291192, 2.86467057],\n",
       "       [5.1643809 , 0.40838707, 3.84532442, 2.74564376],\n",
       "       [5.12136018, 0.41373905, 3.79880378, 2.69760601],\n",
       "       [4.92647999, 0.42565244, 3.66395534, 2.69238371],\n",
       "       [5.19171986, 0.71552778, 3.98376987, 3.08233384],\n",
       "       [5.1681312 , 0.91977171, 3.99672829, 3.15958923],\n",
       "       [5.16480446, 0.34982853, 3.84773395, 2.76030803],\n",
       "       [5.38431333, 0.35039977, 4.08416728, 3.02710662],\n",
       "       [5.15353811, 0.52685861, 3.90861249, 2.96348838],\n",
       "       [5.31044537, 0.25686572, 4.03266334, 3.00980565],\n",
       "       [5.54314487, 0.76077592, 4.20907068, 3.0707769 ],\n",
       "       [5.09903962, 0.11480418, 3.81383015, 2.79000273],\n",
       "       [5.27685561, 0.18541845, 3.99868063, 2.97795052],\n",
       "       [5.52156727, 1.24803045, 4.16851531, 2.99685706],\n",
       "       [5.54314487, 0.6690142 , 4.22052857, 3.10173853],\n",
       "       [4.91917982, 0.38675574, 3.64305995, 2.6291888 ],\n",
       "       [4.72760035, 0.60231221, 3.48193007, 2.53107437],\n",
       "       [5.25364922, 0.48205809, 3.92952339, 2.82384759],\n",
       "       [5.05379363, 0.41034132, 3.8061802 , 2.84397421],\n",
       "       [5.372344  , 0.47199576, 4.05299443, 2.94801321],\n",
       "       [5.05818199, 0.40494444, 3.81386213, 2.86512304],\n",
       "       [5.21556134, 0.14959947, 3.91864622, 2.86925665],\n",
       "       [1.36664007, 3.98049997, 0.87188214, 1.76216524],\n",
       "       [1.57645332, 3.57731464, 0.50261067, 1.21793862],\n",
       "       [1.13807077, 4.13366423, 0.72241663, 1.76227033],\n",
       "       [2.59558858, 3.01144152, 1.26883197, 0.33890407],\n",
       "       [1.48772648, 3.74779669, 0.3614779 , 1.21945815],\n",
       "       [2.01623537, 3.34908644, 0.69960472, 0.61647478],\n",
       "       [1.41869837, 3.74283048, 0.45924958, 1.3322372 ],\n",
       "       [3.50805574, 2.23937045, 2.15767104, 0.95084974],\n",
       "       [1.54380377, 3.71181627, 0.52954921, 1.2900059 ],\n",
       "       [2.72354642, 2.8005678 , 1.40432535, 0.38639411],\n",
       "       [3.41397204, 2.60022691, 2.08857121, 0.95376663],\n",
       "       [2.03613115, 3.17042268, 0.7190325 , 0.65294521],\n",
       "       [2.51661083, 3.08317693, 1.23621489, 0.67140293],\n",
       "       [1.59693615, 3.64581678, 0.28487554, 1.00592893],\n",
       "       [2.73899253, 2.51268382, 1.40293523, 0.45261017],\n",
       "       [1.63503213, 3.59732957, 0.6987326 , 1.35716359],\n",
       "       [1.98625403, 3.36719171, 0.73114206, 0.73462288],\n",
       "       [2.39352357, 2.94753796, 1.05017208, 0.3902094 ],\n",
       "       [1.878884  , 3.70615434, 0.73778371, 1.00978749],\n",
       "       [2.63371507, 2.80841236, 1.27649785, 0.1886709 ],\n",
       "       [1.49694024, 3.79583719, 0.51150941, 1.24396485],\n",
       "       [2.20274376, 3.02383531, 0.88175707, 0.60586978],\n",
       "       [1.42485265, 3.99098735, 0.39500902, 1.267998  ],\n",
       "       [1.71251426, 3.60360653, 0.46004552, 0.96630474],\n",
       "       [1.84023234, 3.37448959, 0.62405669, 0.98509468],\n",
       "       [1.65403449, 3.56196294, 0.6060129 , 1.23784626],\n",
       "       [1.31655994, 4.01083283, 0.60842293, 1.55457641],\n",
       "       [0.97894335, 4.20528001, 0.52724126, 1.69302612],\n",
       "       [1.75647519, 3.47401497, 0.4086658 , 0.83091006],\n",
       "       [2.91679706, 2.42676328, 1.5654604 , 0.52107834],\n",
       "       [2.78178541, 2.73795179, 1.42826278, 0.29002625],\n",
       "       [2.89377869, 2.62259032, 1.5381119 , 0.39492667],\n",
       "       [2.46073263, 2.83096803, 1.10318073, 0.28487236],\n",
       "       [1.35377438, 4.07263797, 0.4089641 , 1.31023197],\n",
       "       [2.12372434, 3.33772078, 0.91060576, 0.7426457 ],\n",
       "       [1.73751405, 3.47153856, 0.66639396, 1.13335149],\n",
       "       [1.32625604, 3.87741924, 0.54721729, 1.50124777],\n",
       "       [1.94925116, 3.56224367, 0.76520868, 0.95648103],\n",
       "       [2.33991561, 2.93359506, 1.01449636, 0.4238759 ],\n",
       "       [2.54107853, 2.94237659, 1.1943701 , 0.16114304],\n",
       "       [2.28162882, 3.23598208, 0.97639602, 0.46112227],\n",
       "       [1.66119839, 3.5438369 , 0.36181511, 0.96726248],\n",
       "       [2.40121429, 2.94407541, 1.04271359, 0.27829581],\n",
       "       [3.47332047, 2.28455247, 2.12130492, 0.91795084],\n",
       "       [2.29909332, 3.08064604, 0.95019019, 0.29130048],\n",
       "       [2.24935103, 3.01190637, 0.92456077, 0.48918341],\n",
       "       [2.21660327, 3.0607156 , 0.87300039, 0.42431256],\n",
       "       [1.90563771, 3.29690461, 0.60339117, 0.81379566],\n",
       "       [3.57957121, 1.99117553, 2.22692677, 1.04812197],\n",
       "       [2.30276032, 2.99098312, 0.94620316, 0.30435792],\n",
       "       [0.75801061, 5.23113563, 1.54672997, 2.63355211],\n",
       "       [1.41737612, 4.13898297, 0.61539829, 1.37384445],\n",
       "       [0.22125794, 5.26319105, 1.47918334, 2.68784032],\n",
       "       [0.76539537, 4.63585807, 0.81595847, 1.93956   ],\n",
       "       [0.43252755, 5.00515534, 1.18699577, 2.34616402],\n",
       "       [1.02510003, 6.06204421, 2.30676268, 3.50397188],\n",
       "       [2.53183828, 3.49513662, 1.41969867, 0.97773569],\n",
       "       [0.7107778 , 5.6002125 , 1.84183973, 3.01920465],\n",
       "       [0.7190828 , 4.9963967 , 1.16637145, 2.27588901],\n",
       "       [0.72986648, 5.60667281, 1.97988246, 3.17029681],\n",
       "       [0.86902536, 4.31225927, 0.6438701 , 1.79723152],\n",
       "       [0.88045731, 4.46533089, 0.60982439, 1.75373792],\n",
       "       [0.37941412, 4.81086063, 1.02263787, 2.22819568],\n",
       "       [1.60143063, 4.11543193, 0.77234703, 1.33293204],\n",
       "       [1.39918014, 4.34736472, 0.94077442, 1.68656029],\n",
       "       [0.77472904, 4.57650303, 0.91966745, 2.02695823],\n",
       "       [0.64047254, 4.59734489, 0.77518396, 1.96309573],\n",
       "       [1.35746274, 6.21697515, 2.63520868, 3.83072912],\n",
       "       [1.4169351 , 6.46018421, 2.65471195, 3.82594027],\n",
       "       [1.66082211, 4.07258886, 0.73596323, 1.2652201 ],\n",
       "       [0.24536723, 5.08121836, 1.34660655, 2.54486492],\n",
       "       [1.65119807, 3.95519658, 0.74845071, 1.25197786],\n",
       "       [1.20631881, 6.17779734, 2.42284512, 3.60088009],\n",
       "       [1.24155349, 4.05452587, 0.26352753, 1.36301832],\n",
       "       [0.32818452, 4.92787784, 1.19793844, 2.38770858],\n",
       "       [0.47521582, 5.27958142, 1.58080959, 2.77536191],\n",
       "       [1.34288126, 3.92137476, 0.19110188, 1.24797779],\n",
       "       [1.29477993, 3.95155412, 0.28099636, 1.31390161],\n",
       "       [0.64387893, 4.78518338, 0.94181088, 2.07829267],\n",
       "       [0.61406846, 5.06442297, 1.39071237, 2.55640888],\n",
       "       [0.6672369 , 5.51111422, 1.76218626, 2.94222838],\n",
       "       [1.33728459, 5.99783127, 2.51651771, 3.6965505 ],\n",
       "       [0.64678441, 4.8248088 , 0.99630191, 2.12263909],\n",
       "       [1.19224791, 4.10808715, 0.32860819, 1.43114964],\n",
       "       [1.22712268, 4.50967626, 0.87355898, 1.76405584],\n",
       "       [0.85012063, 5.75940796, 2.07180443, 3.26882645],\n",
       "       [0.77351799, 4.84127876, 1.23729955, 2.31245509],\n",
       "       [0.70192954, 4.557541  , 0.77234703, 1.93784064],\n",
       "       [1.43119883, 3.83775716, 0.32823687, 1.20017146],\n",
       "       [0.44814069, 4.7581488 , 1.03837722, 2.23889119],\n",
       "       [0.42229146, 4.97393004, 1.22750309, 2.39730644],\n",
       "       [0.76580355, 4.59878027, 1.02168342, 2.14934194],\n",
       "       [1.41737612, 4.13898297, 0.61539829, 1.37384445],\n",
       "       [0.23228232, 5.21394093, 1.44490119, 2.63741674],\n",
       "       [0.49265107, 5.09187392, 1.40623452, 2.56248658],\n",
       "       [0.70857609, 4.60916261, 0.92125732, 2.06587002],\n",
       "       [1.22712268, 4.21767471, 0.49699873, 1.48150463],\n",
       "       [0.78474842, 4.41184542, 0.62170727, 1.81129288],\n",
       "       [0.90875193, 4.59925864, 1.05144868, 2.08647418],\n",
       "       [1.30487742, 4.0782815 , 0.50066583, 1.40067591]])"
      ]
     },
     "execution_count": 286,
     "metadata": {},
     "output_type": "execute_result"
    }
   ],
   "source": [
    "group"
   ]
  },
  {
   "cell_type": "code",
   "execution_count": 138,
   "id": "a3db6e16-414a-4697-989e-9ed55c6ded08",
   "metadata": {
    "tags": []
   },
   "outputs": [
    {
     "data": {
      "text/html": [
       "<div>\n",
       "<style scoped>\n",
       "    .dataframe tbody tr th:only-of-type {\n",
       "        vertical-align: middle;\n",
       "    }\n",
       "\n",
       "    .dataframe tbody tr th {\n",
       "        vertical-align: top;\n",
       "    }\n",
       "\n",
       "    .dataframe thead th {\n",
       "        text-align: right;\n",
       "    }\n",
       "</style>\n",
       "<table border=\"1\" class=\"dataframe\">\n",
       "  <thead>\n",
       "    <tr style=\"text-align: right;\">\n",
       "      <th></th>\n",
       "      <th>sepal length (cm)</th>\n",
       "      <th>sepal width (cm)</th>\n",
       "      <th>petal length (cm)</th>\n",
       "      <th>petal width (cm)</th>\n",
       "    </tr>\n",
       "  </thead>\n",
       "  <tbody>\n",
       "    <tr>\n",
       "      <th>0</th>\n",
       "      <td>5.1</td>\n",
       "      <td>3.5</td>\n",
       "      <td>1.4</td>\n",
       "      <td>0.2</td>\n",
       "    </tr>\n",
       "    <tr>\n",
       "      <th>1</th>\n",
       "      <td>4.9</td>\n",
       "      <td>3.0</td>\n",
       "      <td>1.4</td>\n",
       "      <td>0.2</td>\n",
       "    </tr>\n",
       "    <tr>\n",
       "      <th>2</th>\n",
       "      <td>4.7</td>\n",
       "      <td>3.2</td>\n",
       "      <td>1.3</td>\n",
       "      <td>0.2</td>\n",
       "    </tr>\n",
       "    <tr>\n",
       "      <th>3</th>\n",
       "      <td>4.6</td>\n",
       "      <td>3.1</td>\n",
       "      <td>1.5</td>\n",
       "      <td>0.2</td>\n",
       "    </tr>\n",
       "    <tr>\n",
       "      <th>4</th>\n",
       "      <td>5.0</td>\n",
       "      <td>3.6</td>\n",
       "      <td>1.4</td>\n",
       "      <td>0.2</td>\n",
       "    </tr>\n",
       "    <tr>\n",
       "      <th>...</th>\n",
       "      <td>...</td>\n",
       "      <td>...</td>\n",
       "      <td>...</td>\n",
       "      <td>...</td>\n",
       "    </tr>\n",
       "    <tr>\n",
       "      <th>145</th>\n",
       "      <td>6.7</td>\n",
       "      <td>3.0</td>\n",
       "      <td>5.2</td>\n",
       "      <td>2.3</td>\n",
       "    </tr>\n",
       "    <tr>\n",
       "      <th>146</th>\n",
       "      <td>6.3</td>\n",
       "      <td>2.5</td>\n",
       "      <td>5.0</td>\n",
       "      <td>1.9</td>\n",
       "    </tr>\n",
       "    <tr>\n",
       "      <th>147</th>\n",
       "      <td>6.5</td>\n",
       "      <td>3.0</td>\n",
       "      <td>5.2</td>\n",
       "      <td>2.0</td>\n",
       "    </tr>\n",
       "    <tr>\n",
       "      <th>148</th>\n",
       "      <td>6.2</td>\n",
       "      <td>3.4</td>\n",
       "      <td>5.4</td>\n",
       "      <td>2.3</td>\n",
       "    </tr>\n",
       "    <tr>\n",
       "      <th>149</th>\n",
       "      <td>5.9</td>\n",
       "      <td>3.0</td>\n",
       "      <td>5.1</td>\n",
       "      <td>1.8</td>\n",
       "    </tr>\n",
       "  </tbody>\n",
       "</table>\n",
       "<p>150 rows × 4 columns</p>\n",
       "</div>"
      ],
      "text/plain": [
       "     sepal length (cm)  sepal width (cm)  petal length (cm)  petal width (cm)\n",
       "0                  5.1               3.5                1.4               0.2\n",
       "1                  4.9               3.0                1.4               0.2\n",
       "2                  4.7               3.2                1.3               0.2\n",
       "3                  4.6               3.1                1.5               0.2\n",
       "4                  5.0               3.6                1.4               0.2\n",
       "..                 ...               ...                ...               ...\n",
       "145                6.7               3.0                5.2               2.3\n",
       "146                6.3               2.5                5.0               1.9\n",
       "147                6.5               3.0                5.2               2.0\n",
       "148                6.2               3.4                5.4               2.3\n",
       "149                5.9               3.0                5.1               1.8\n",
       "\n",
       "[150 rows x 4 columns]"
      ]
     },
     "execution_count": 138,
     "metadata": {},
     "output_type": "execute_result"
    }
   ],
   "source": [
    "X"
   ]
  },
  {
   "cell_type": "code",
   "execution_count": 287,
   "id": "b41eaa62-2b2e-4750-9414-c39ae4c95c8e",
   "metadata": {
    "collapsed": true,
    "jupyter": {
     "outputs_hidden": true
    },
    "tags": []
   },
   "outputs": [
    {
     "ename": "ValueError",
     "evalue": "Expected a 1D array, got an array with shape (150, 4)",
     "output_type": "error",
     "traceback": [
      "\u001b[1;31m---------------------------------------------------------------------------\u001b[0m",
      "\u001b[1;31mKeyError\u001b[0m                                  Traceback (most recent call last)",
      "File \u001b[1;32m~\\anaconda3\\Lib\\site-packages\\pandas\\core\\indexes\\base.py:3802\u001b[0m, in \u001b[0;36mIndex.get_loc\u001b[1;34m(self, key, method, tolerance)\u001b[0m\n\u001b[0;32m   3801\u001b[0m \u001b[38;5;28;01mtry\u001b[39;00m:\n\u001b[1;32m-> 3802\u001b[0m     \u001b[38;5;28;01mreturn\u001b[39;00m \u001b[38;5;28;43mself\u001b[39;49m\u001b[38;5;241;43m.\u001b[39;49m\u001b[43m_engine\u001b[49m\u001b[38;5;241;43m.\u001b[39;49m\u001b[43mget_loc\u001b[49m\u001b[43m(\u001b[49m\u001b[43mcasted_key\u001b[49m\u001b[43m)\u001b[49m\n\u001b[0;32m   3803\u001b[0m \u001b[38;5;28;01mexcept\u001b[39;00m \u001b[38;5;167;01mKeyError\u001b[39;00m \u001b[38;5;28;01mas\u001b[39;00m err:\n",
      "File \u001b[1;32m~\\anaconda3\\Lib\\site-packages\\pandas\\_libs\\index.pyx:138\u001b[0m, in \u001b[0;36mpandas._libs.index.IndexEngine.get_loc\u001b[1;34m()\u001b[0m\n",
      "File \u001b[1;32m~\\anaconda3\\Lib\\site-packages\\pandas\\_libs\\index.pyx:165\u001b[0m, in \u001b[0;36mpandas._libs.index.IndexEngine.get_loc\u001b[1;34m()\u001b[0m\n",
      "File \u001b[1;32mpandas\\_libs\\hashtable_class_helper.pxi:5745\u001b[0m, in \u001b[0;36mpandas._libs.hashtable.PyObjectHashTable.get_item\u001b[1;34m()\u001b[0m\n",
      "File \u001b[1;32mpandas\\_libs\\hashtable_class_helper.pxi:5753\u001b[0m, in \u001b[0;36mpandas._libs.hashtable.PyObjectHashTable.get_item\u001b[1;34m()\u001b[0m\n",
      "\u001b[1;31mKeyError\u001b[0m: 'gr'",
      "\nThe above exception was the direct cause of the following exception:\n",
      "\u001b[1;31mKeyError\u001b[0m                                  Traceback (most recent call last)",
      "File \u001b[1;32m~\\anaconda3\\Lib\\site-packages\\pandas\\core\\frame.py:4141\u001b[0m, in \u001b[0;36mDataFrame._set_item_mgr\u001b[1;34m(self, key, value)\u001b[0m\n\u001b[0;32m   4140\u001b[0m \u001b[38;5;28;01mtry\u001b[39;00m:\n\u001b[1;32m-> 4141\u001b[0m     loc \u001b[38;5;241m=\u001b[39m \u001b[38;5;28;43mself\u001b[39;49m\u001b[38;5;241;43m.\u001b[39;49m\u001b[43m_info_axis\u001b[49m\u001b[38;5;241;43m.\u001b[39;49m\u001b[43mget_loc\u001b[49m\u001b[43m(\u001b[49m\u001b[43mkey\u001b[49m\u001b[43m)\u001b[49m\n\u001b[0;32m   4142\u001b[0m \u001b[38;5;28;01mexcept\u001b[39;00m \u001b[38;5;167;01mKeyError\u001b[39;00m:\n\u001b[0;32m   4143\u001b[0m     \u001b[38;5;66;03m# This item wasn't present, just insert at end\u001b[39;00m\n",
      "File \u001b[1;32m~\\anaconda3\\Lib\\site-packages\\pandas\\core\\indexes\\base.py:3804\u001b[0m, in \u001b[0;36mIndex.get_loc\u001b[1;34m(self, key, method, tolerance)\u001b[0m\n\u001b[0;32m   3803\u001b[0m \u001b[38;5;28;01mexcept\u001b[39;00m \u001b[38;5;167;01mKeyError\u001b[39;00m \u001b[38;5;28;01mas\u001b[39;00m err:\n\u001b[1;32m-> 3804\u001b[0m     \u001b[38;5;28;01mraise\u001b[39;00m \u001b[38;5;167;01mKeyError\u001b[39;00m(key) \u001b[38;5;28;01mfrom\u001b[39;00m \u001b[38;5;21;01merr\u001b[39;00m\n\u001b[0;32m   3805\u001b[0m \u001b[38;5;28;01mexcept\u001b[39;00m \u001b[38;5;167;01mTypeError\u001b[39;00m:\n\u001b[0;32m   3806\u001b[0m     \u001b[38;5;66;03m# If we have a listlike key, _check_indexing_error will raise\u001b[39;00m\n\u001b[0;32m   3807\u001b[0m     \u001b[38;5;66;03m#  InvalidIndexError. Otherwise we fall through and re-raise\u001b[39;00m\n\u001b[0;32m   3808\u001b[0m     \u001b[38;5;66;03m#  the TypeError.\u001b[39;00m\n",
      "\u001b[1;31mKeyError\u001b[0m: 'gr'",
      "\nDuring handling of the above exception, another exception occurred:\n",
      "\u001b[1;31mValueError\u001b[0m                                Traceback (most recent call last)",
      "Cell \u001b[1;32mIn[287], line 1\u001b[0m\n\u001b[1;32m----> 1\u001b[0m \u001b[43mX\u001b[49m\u001b[43m[\u001b[49m\u001b[38;5;124;43m'\u001b[39;49m\u001b[38;5;124;43mgr\u001b[39;49m\u001b[38;5;124;43m'\u001b[39;49m\u001b[43m]\u001b[49m \u001b[38;5;241m=\u001b[39m group\n",
      "File \u001b[1;32m~\\anaconda3\\Lib\\site-packages\\pandas\\core\\frame.py:3980\u001b[0m, in \u001b[0;36mDataFrame.__setitem__\u001b[1;34m(self, key, value)\u001b[0m\n\u001b[0;32m   3977\u001b[0m     \u001b[38;5;28mself\u001b[39m\u001b[38;5;241m.\u001b[39m_setitem_array([key], value)\n\u001b[0;32m   3978\u001b[0m \u001b[38;5;28;01melse\u001b[39;00m:\n\u001b[0;32m   3979\u001b[0m     \u001b[38;5;66;03m# set column\u001b[39;00m\n\u001b[1;32m-> 3980\u001b[0m     \u001b[38;5;28;43mself\u001b[39;49m\u001b[38;5;241;43m.\u001b[39;49m\u001b[43m_set_item\u001b[49m\u001b[43m(\u001b[49m\u001b[43mkey\u001b[49m\u001b[43m,\u001b[49m\u001b[43m \u001b[49m\u001b[43mvalue\u001b[49m\u001b[43m)\u001b[49m\n",
      "File \u001b[1;32m~\\anaconda3\\Lib\\site-packages\\pandas\\core\\frame.py:4187\u001b[0m, in \u001b[0;36mDataFrame._set_item\u001b[1;34m(self, key, value)\u001b[0m\n\u001b[0;32m   4184\u001b[0m         \u001b[38;5;28;01mif\u001b[39;00m \u001b[38;5;28misinstance\u001b[39m(existing_piece, DataFrame):\n\u001b[0;32m   4185\u001b[0m             value \u001b[38;5;241m=\u001b[39m np\u001b[38;5;241m.\u001b[39mtile(value, (\u001b[38;5;28mlen\u001b[39m(existing_piece\u001b[38;5;241m.\u001b[39mcolumns), \u001b[38;5;241m1\u001b[39m))\u001b[38;5;241m.\u001b[39mT\n\u001b[1;32m-> 4187\u001b[0m \u001b[38;5;28;43mself\u001b[39;49m\u001b[38;5;241;43m.\u001b[39;49m\u001b[43m_set_item_mgr\u001b[49m\u001b[43m(\u001b[49m\u001b[43mkey\u001b[49m\u001b[43m,\u001b[49m\u001b[43m \u001b[49m\u001b[43mvalue\u001b[49m\u001b[43m)\u001b[49m\n",
      "File \u001b[1;32m~\\anaconda3\\Lib\\site-packages\\pandas\\core\\frame.py:4144\u001b[0m, in \u001b[0;36mDataFrame._set_item_mgr\u001b[1;34m(self, key, value)\u001b[0m\n\u001b[0;32m   4141\u001b[0m     loc \u001b[38;5;241m=\u001b[39m \u001b[38;5;28mself\u001b[39m\u001b[38;5;241m.\u001b[39m_info_axis\u001b[38;5;241m.\u001b[39mget_loc(key)\n\u001b[0;32m   4142\u001b[0m \u001b[38;5;28;01mexcept\u001b[39;00m \u001b[38;5;167;01mKeyError\u001b[39;00m:\n\u001b[0;32m   4143\u001b[0m     \u001b[38;5;66;03m# This item wasn't present, just insert at end\u001b[39;00m\n\u001b[1;32m-> 4144\u001b[0m     \u001b[38;5;28;43mself\u001b[39;49m\u001b[38;5;241;43m.\u001b[39;49m\u001b[43m_mgr\u001b[49m\u001b[38;5;241;43m.\u001b[39;49m\u001b[43minsert\u001b[49m\u001b[43m(\u001b[49m\u001b[38;5;28;43mlen\u001b[39;49m\u001b[43m(\u001b[49m\u001b[38;5;28;43mself\u001b[39;49m\u001b[38;5;241;43m.\u001b[39;49m\u001b[43m_info_axis\u001b[49m\u001b[43m)\u001b[49m\u001b[43m,\u001b[49m\u001b[43m \u001b[49m\u001b[43mkey\u001b[49m\u001b[43m,\u001b[49m\u001b[43m \u001b[49m\u001b[43mvalue\u001b[49m\u001b[43m)\u001b[49m\n\u001b[0;32m   4145\u001b[0m \u001b[38;5;28;01melse\u001b[39;00m:\n\u001b[0;32m   4146\u001b[0m     \u001b[38;5;28mself\u001b[39m\u001b[38;5;241m.\u001b[39m_iset_item_mgr(loc, value)\n",
      "File \u001b[1;32m~\\anaconda3\\Lib\\site-packages\\pandas\\core\\internals\\managers.py:1410\u001b[0m, in \u001b[0;36mBlockManager.insert\u001b[1;34m(self, loc, item, value)\u001b[0m\n\u001b[0;32m   1408\u001b[0m     value \u001b[38;5;241m=\u001b[39m value\u001b[38;5;241m.\u001b[39mT\n\u001b[0;32m   1409\u001b[0m     \u001b[38;5;28;01mif\u001b[39;00m \u001b[38;5;28mlen\u001b[39m(value) \u001b[38;5;241m>\u001b[39m \u001b[38;5;241m1\u001b[39m:\n\u001b[1;32m-> 1410\u001b[0m         \u001b[38;5;28;01mraise\u001b[39;00m \u001b[38;5;167;01mValueError\u001b[39;00m(\n\u001b[0;32m   1411\u001b[0m             \u001b[38;5;124mf\u001b[39m\u001b[38;5;124m\"\u001b[39m\u001b[38;5;124mExpected a 1D array, got an array with shape \u001b[39m\u001b[38;5;132;01m{\u001b[39;00mvalue\u001b[38;5;241m.\u001b[39mT\u001b[38;5;241m.\u001b[39mshape\u001b[38;5;132;01m}\u001b[39;00m\u001b[38;5;124m\"\u001b[39m\n\u001b[0;32m   1412\u001b[0m         )\n\u001b[0;32m   1413\u001b[0m \u001b[38;5;28;01melse\u001b[39;00m:\n\u001b[0;32m   1414\u001b[0m     value \u001b[38;5;241m=\u001b[39m ensure_block_shape(value, ndim\u001b[38;5;241m=\u001b[39m\u001b[38;5;28mself\u001b[39m\u001b[38;5;241m.\u001b[39mndim)\n",
      "\u001b[1;31mValueError\u001b[0m: Expected a 1D array, got an array with shape (150, 4)"
     ]
    }
   ],
   "source": [
    "X['gr'] = group"
   ]
  },
  {
   "cell_type": "code",
   "execution_count": 288,
   "id": "89ce2041-feb8-410b-8e4f-c88f6297798a",
   "metadata": {},
   "outputs": [
    {
     "data": {
      "text/plain": [
       "0      1.457143\n",
       "1      1.633333\n",
       "2      1.468750\n",
       "3      1.483871\n",
       "4      1.388889\n",
       "         ...   \n",
       "145    2.233333\n",
       "146    2.520000\n",
       "147    2.166667\n",
       "148    1.823529\n",
       "149    1.966667\n",
       "Length: 150, dtype: float64"
      ]
     },
     "execution_count": 288,
     "metadata": {},
     "output_type": "execute_result"
    }
   ],
   "source": [
    "X[\"sepal length (cm)\"]/X[\"sepal width (cm)\"]"
   ]
  },
  {
   "cell_type": "code",
   "execution_count": 14,
   "id": "530f87f6-f704-4506-804a-b2e715655d63",
   "metadata": {},
   "outputs": [],
   "source": [
    "X = np.random.randint(1, 100, 7)"
   ]
  },
  {
   "cell_type": "code",
   "execution_count": 15,
   "id": "10492c90-b526-4c65-8fde-c8701bd2b36d",
   "metadata": {
    "tags": []
   },
   "outputs": [
    {
     "data": {
      "text/plain": [
       "array([0.15384615, 0.        , 1.        , 0.53846154, 0.07692308,\n",
       "       0.23076923, 0.34615385])"
      ]
     },
     "execution_count": 15,
     "metadata": {},
     "output_type": "execute_result"
    }
   ],
   "source": [
    "(X - min(X))/(max(X) - min(X))"
   ]
  },
  {
   "cell_type": "code",
   "execution_count": 16,
   "id": "50b02e94-a076-4139-a686-b09c5e4e2be4",
   "metadata": {
    "tags": []
   },
   "outputs": [
    {
     "data": {
      "text/plain": [
       "array([-0.57083516, -1.05518015,  2.09306226,  0.6400273 , -0.81300766,\n",
       "       -0.32866267,  0.03459607])"
      ]
     },
     "execution_count": 16,
     "metadata": {},
     "output_type": "execute_result"
    }
   ],
   "source": [
    "(X-np.mean(X))/np.std(X)"
   ]
  },
  {
   "cell_type": "code",
   "execution_count": 17,
   "id": "90ee7ab6-9162-4362-8d6b-fd10c6565d76",
   "metadata": {
    "tags": []
   },
   "outputs": [],
   "source": [
    "from sklearn.preprocessing import MinMaxScaler"
   ]
  },
  {
   "cell_type": "code",
   "execution_count": 18,
   "id": "34437021-33c5-4c90-a87a-0a71ba40ec5b",
   "metadata": {
    "tags": []
   },
   "outputs": [
    {
     "data": {
      "text/plain": [
       "array([[0.15384615],\n",
       "       [0.        ],\n",
       "       [1.        ],\n",
       "       [0.53846154],\n",
       "       [0.07692308],\n",
       "       [0.23076923],\n",
       "       [0.34615385]])"
      ]
     },
     "execution_count": 18,
     "metadata": {},
     "output_type": "execute_result"
    }
   ],
   "source": [
    "mmScaler = MinMaxScaler()\n",
    "mmScaler.fit(X.reshape(-1, 1))\n",
    "mmScaler.transform(X.reshape(-1, 1))"
   ]
  },
  {
   "cell_type": "code",
   "execution_count": 19,
   "id": "d2d0be0e-e6e2-496a-bbb8-1c442cb40baf",
   "metadata": {
    "tags": []
   },
   "outputs": [],
   "source": [
    "from sklearn.preprocessing import StandardScaler"
   ]
  },
  {
   "cell_type": "code",
   "execution_count": 20,
   "id": "607d35eb-c0ba-4355-a328-674bfdbb927b",
   "metadata": {
    "tags": []
   },
   "outputs": [
    {
     "data": {
      "text/plain": [
       "array([[-0.57083516],\n",
       "       [-1.05518015],\n",
       "       [ 2.09306226],\n",
       "       [ 0.6400273 ],\n",
       "       [-0.81300766],\n",
       "       [-0.32866267],\n",
       "       [ 0.03459607]])"
      ]
     },
     "execution_count": 20,
     "metadata": {},
     "output_type": "execute_result"
    }
   ],
   "source": [
    "StandardScaler().fit_transform(X.reshape(-1, 1))"
   ]
  },
  {
   "cell_type": "code",
   "execution_count": 21,
   "id": "e70a1cd9-8d3a-44be-875b-d5e081108ff5",
   "metadata": {
    "tags": []
   },
   "outputs": [
    {
     "data": {
      "text/plain": [
       "array([-0.23529412, -0.70588235,  2.35294118,  0.94117647, -0.47058824,\n",
       "        0.        ,  0.35294118])"
      ]
     },
     "execution_count": 21,
     "metadata": {},
     "output_type": "execute_result"
    }
   ],
   "source": [
    "#(X-median)/(Q3-Q1)\n",
    "(X-np.median(X))/(np.percentile(X, 75) - np.percentile(X, 25))"
   ]
  },
  {
   "cell_type": "code",
   "execution_count": 22,
   "id": "0f5edd43-0e31-4634-bbfe-b2d4651b80c7",
   "metadata": {
    "tags": []
   },
   "outputs": [],
   "source": [
    "from sklearn.preprocessing import RobustScaler"
   ]
  },
  {
   "cell_type": "code",
   "execution_count": 23,
   "id": "7c7ce614-d6e2-45a2-8b2d-be1c65e15205",
   "metadata": {
    "tags": []
   },
   "outputs": [
    {
     "data": {
      "text/plain": [
       "array([[-0.23529412],\n",
       "       [-0.70588235],\n",
       "       [ 2.35294118],\n",
       "       [ 0.94117647],\n",
       "       [-0.47058824],\n",
       "       [ 0.        ],\n",
       "       [ 0.35294118]])"
      ]
     },
     "execution_count": 23,
     "metadata": {},
     "output_type": "execute_result"
    }
   ],
   "source": [
    "rbScaler = RobustScaler()\n",
    "rbScaler.fit(X.reshape(-1, 1))\n",
    "rbScaler.transform(X.reshape(-1, 1))"
   ]
  },
  {
   "cell_type": "code",
   "execution_count": null,
   "id": "833143c1-cfa2-4bd8-8f23-3bcac29dbe7d",
   "metadata": {},
   "outputs": [],
   "source": []
  },
  {
   "cell_type": "code",
   "execution_count": null,
   "id": "f16737ac-2e41-42f8-adcf-782c2b649a88",
   "metadata": {},
   "outputs": [],
   "source": []
  }
 ],
 "metadata": {
  "kernelspec": {
   "display_name": "Python 3 (ipykernel)",
   "language": "python",
   "name": "python3"
  },
  "language_info": {
   "codemirror_mode": {
    "name": "ipython",
    "version": 3
   },
   "file_extension": ".py",
   "mimetype": "text/x-python",
   "name": "python",
   "nbconvert_exporter": "python",
   "pygments_lexer": "ipython3",
   "version": "3.11.4"
  }
 },
 "nbformat": 4,
 "nbformat_minor": 5
}
