{
 "cells": [
  {
   "cell_type": "code",
   "execution_count": 1,
   "id": "8d5a6a0b-5e06-4d3e-8570-746c046367ba",
   "metadata": {
    "tags": []
   },
   "outputs": [
    {
     "name": "stdout",
     "output_type": "stream",
     "text": [
      "Requirement already satisfied: scikit-learn in c:\\users\\user\\anaconda3\\lib\\site-packages (1.3.0)\n",
      "Requirement already satisfied: numpy>=1.17.3 in c:\\users\\user\\anaconda3\\lib\\site-packages (from scikit-learn) (1.24.3)\n",
      "Requirement already satisfied: scipy>=1.5.0 in c:\\users\\user\\anaconda3\\lib\\site-packages (from scikit-learn) (1.10.1)\n",
      "Requirement already satisfied: joblib>=1.1.1 in c:\\users\\user\\anaconda3\\lib\\site-packages (from scikit-learn) (1.2.0)\n",
      "Requirement already satisfied: threadpoolctl>=2.0.0 in c:\\users\\user\\anaconda3\\lib\\site-packages (from scikit-learn) (2.2.0)\n",
      "Note: you may need to restart the kernel to use updated packages.\n"
     ]
    }
   ],
   "source": [
    "pip install scikit-learn"
   ]
  },
  {
   "cell_type": "code",
   "execution_count": 16,
   "id": "101486cc-3977-4d3f-b6cb-15836a89fd1c",
   "metadata": {},
   "outputs": [],
   "source": [
    "import numpy as np\n",
    "import matplotlib.pyplot as plt\n",
    "import pandas as pd"
   ]
  },
  {
   "cell_type": "code",
   "execution_count": 3,
   "id": "428bea68-2713-49ea-82e8-e2f521b6dd91",
   "metadata": {
    "tags": []
   },
   "outputs": [],
   "source": [
    "x = np.random.randint(1, 100, 50)"
   ]
  },
  {
   "cell_type": "code",
   "execution_count": 4,
   "id": "7d034785-9adf-45c3-afa6-1ae62b7e135d",
   "metadata": {
    "tags": []
   },
   "outputs": [],
   "source": [
    "a = np.random.choice(np.arange(100), 1)\n",
    "y = a * x + np.random.randn(50)"
   ]
  },
  {
   "cell_type": "code",
   "execution_count": 5,
   "id": "17fd85c4-82d9-432c-91bc-953b9c2cf901",
   "metadata": {
    "tags": []
   },
   "outputs": [
    {
     "data": {
      "text/plain": [
       "array([86])"
      ]
     },
     "execution_count": 5,
     "metadata": {},
     "output_type": "execute_result"
    }
   ],
   "source": [
    "a"
   ]
  },
  {
   "cell_type": "code",
   "execution_count": 6,
   "id": "2e462fcb-c68b-44d0-a314-31cb8b209d8d",
   "metadata": {
    "collapsed": true,
    "jupyter": {
     "outputs_hidden": true
    },
    "tags": []
   },
   "outputs": [
    {
     "data": {
      "text/html": [
       "<div>\n",
       "<style scoped>\n",
       "    .dataframe tbody tr th:only-of-type {\n",
       "        vertical-align: middle;\n",
       "    }\n",
       "\n",
       "    .dataframe tbody tr th {\n",
       "        vertical-align: top;\n",
       "    }\n",
       "\n",
       "    .dataframe thead th {\n",
       "        text-align: right;\n",
       "    }\n",
       "</style>\n",
       "<table border=\"1\" class=\"dataframe\">\n",
       "  <thead>\n",
       "    <tr style=\"text-align: right;\">\n",
       "      <th></th>\n",
       "      <th>0</th>\n",
       "    </tr>\n",
       "  </thead>\n",
       "  <tbody>\n",
       "    <tr>\n",
       "      <th>2493.294078</th>\n",
       "      <td>29</td>\n",
       "    </tr>\n",
       "    <tr>\n",
       "      <th>7740.701014</th>\n",
       "      <td>90</td>\n",
       "    </tr>\n",
       "    <tr>\n",
       "      <th>516.760154</th>\n",
       "      <td>6</td>\n",
       "    </tr>\n",
       "    <tr>\n",
       "      <th>3526.118922</th>\n",
       "      <td>41</td>\n",
       "    </tr>\n",
       "    <tr>\n",
       "      <th>3784.574227</th>\n",
       "      <td>44</td>\n",
       "    </tr>\n",
       "    <tr>\n",
       "      <th>7482.154221</th>\n",
       "      <td>87</td>\n",
       "    </tr>\n",
       "    <tr>\n",
       "      <th>4730.393715</th>\n",
       "      <td>55</td>\n",
       "    </tr>\n",
       "    <tr>\n",
       "      <th>6363.785200</th>\n",
       "      <td>74</td>\n",
       "    </tr>\n",
       "    <tr>\n",
       "      <th>601.242217</th>\n",
       "      <td>7</td>\n",
       "    </tr>\n",
       "    <tr>\n",
       "      <th>8256.755004</th>\n",
       "      <td>96</td>\n",
       "    </tr>\n",
       "    <tr>\n",
       "      <th>1633.717386</th>\n",
       "      <td>19</td>\n",
       "    </tr>\n",
       "    <tr>\n",
       "      <th>5505.405268</th>\n",
       "      <td>64</td>\n",
       "    </tr>\n",
       "    <tr>\n",
       "      <th>4384.885932</th>\n",
       "      <td>51</td>\n",
       "    </tr>\n",
       "    <tr>\n",
       "      <th>2065.174576</th>\n",
       "      <td>24</td>\n",
       "    </tr>\n",
       "    <tr>\n",
       "      <th>5676.899312</th>\n",
       "      <td>66</td>\n",
       "    </tr>\n",
       "    <tr>\n",
       "      <th>3868.494075</th>\n",
       "      <td>45</td>\n",
       "    </tr>\n",
       "    <tr>\n",
       "      <th>3525.238009</th>\n",
       "      <td>41</td>\n",
       "    </tr>\n",
       "    <tr>\n",
       "      <th>7912.259618</th>\n",
       "      <td>92</td>\n",
       "    </tr>\n",
       "    <tr>\n",
       "      <th>5934.763411</th>\n",
       "      <td>69</td>\n",
       "    </tr>\n",
       "    <tr>\n",
       "      <th>602.085090</th>\n",
       "      <td>7</td>\n",
       "    </tr>\n",
       "    <tr>\n",
       "      <th>171.143689</th>\n",
       "      <td>2</td>\n",
       "    </tr>\n",
       "    <tr>\n",
       "      <th>3352.627309</th>\n",
       "      <td>39</td>\n",
       "    </tr>\n",
       "    <tr>\n",
       "      <th>8085.081345</th>\n",
       "      <td>94</td>\n",
       "    </tr>\n",
       "    <tr>\n",
       "      <th>7308.724990</th>\n",
       "      <td>85</td>\n",
       "    </tr>\n",
       "    <tr>\n",
       "      <th>3010.253826</th>\n",
       "      <td>35</td>\n",
       "    </tr>\n",
       "    <tr>\n",
       "      <th>2234.562627</th>\n",
       "      <td>26</td>\n",
       "    </tr>\n",
       "    <tr>\n",
       "      <th>3269.367849</th>\n",
       "      <td>38</td>\n",
       "    </tr>\n",
       "    <tr>\n",
       "      <th>772.743212</th>\n",
       "      <td>9</td>\n",
       "    </tr>\n",
       "    <tr>\n",
       "      <th>7825.298452</th>\n",
       "      <td>91</td>\n",
       "    </tr>\n",
       "    <tr>\n",
       "      <th>946.848381</th>\n",
       "      <td>11</td>\n",
       "    </tr>\n",
       "    <tr>\n",
       "      <th>8256.369968</th>\n",
       "      <td>96</td>\n",
       "    </tr>\n",
       "    <tr>\n",
       "      <th>7483.754201</th>\n",
       "      <td>87</td>\n",
       "    </tr>\n",
       "    <tr>\n",
       "      <th>6364.644480</th>\n",
       "      <td>74</td>\n",
       "    </tr>\n",
       "    <tr>\n",
       "      <th>3009.611419</th>\n",
       "      <td>35</td>\n",
       "    </tr>\n",
       "    <tr>\n",
       "      <th>3266.390857</th>\n",
       "      <td>38</td>\n",
       "    </tr>\n",
       "    <tr>\n",
       "      <th>2752.702307</th>\n",
       "      <td>32</td>\n",
       "    </tr>\n",
       "    <tr>\n",
       "      <th>3182.820089</th>\n",
       "      <td>37</td>\n",
       "    </tr>\n",
       "    <tr>\n",
       "      <th>5247.081357</th>\n",
       "      <td>61</td>\n",
       "    </tr>\n",
       "    <tr>\n",
       "      <th>7138.612082</th>\n",
       "      <td>83</td>\n",
       "    </tr>\n",
       "    <tr>\n",
       "      <th>7224.560657</th>\n",
       "      <td>84</td>\n",
       "    </tr>\n",
       "    <tr>\n",
       "      <th>3696.189514</th>\n",
       "      <td>43</td>\n",
       "    </tr>\n",
       "    <tr>\n",
       "      <th>7738.702831</th>\n",
       "      <td>90</td>\n",
       "    </tr>\n",
       "    <tr>\n",
       "      <th>7308.769029</th>\n",
       "      <td>85</td>\n",
       "    </tr>\n",
       "    <tr>\n",
       "      <th>945.927939</th>\n",
       "      <td>11</td>\n",
       "    </tr>\n",
       "    <tr>\n",
       "      <th>7568.642725</th>\n",
       "      <td>88</td>\n",
       "    </tr>\n",
       "    <tr>\n",
       "      <th>5502.406567</th>\n",
       "      <td>64</td>\n",
       "    </tr>\n",
       "    <tr>\n",
       "      <th>343.465471</th>\n",
       "      <td>4</td>\n",
       "    </tr>\n",
       "    <tr>\n",
       "      <th>3094.900837</th>\n",
       "      <td>36</td>\n",
       "    </tr>\n",
       "    <tr>\n",
       "      <th>4900.915439</th>\n",
       "      <td>57</td>\n",
       "    </tr>\n",
       "    <tr>\n",
       "      <th>7395.672583</th>\n",
       "      <td>86</td>\n",
       "    </tr>\n",
       "  </tbody>\n",
       "</table>\n",
       "</div>"
      ],
      "text/plain": [
       "              0\n",
       "2493.294078  29\n",
       "7740.701014  90\n",
       "516.760154    6\n",
       "3526.118922  41\n",
       "3784.574227  44\n",
       "7482.154221  87\n",
       "4730.393715  55\n",
       "6363.785200  74\n",
       "601.242217    7\n",
       "8256.755004  96\n",
       "1633.717386  19\n",
       "5505.405268  64\n",
       "4384.885932  51\n",
       "2065.174576  24\n",
       "5676.899312  66\n",
       "3868.494075  45\n",
       "3525.238009  41\n",
       "7912.259618  92\n",
       "5934.763411  69\n",
       "602.085090    7\n",
       "171.143689    2\n",
       "3352.627309  39\n",
       "8085.081345  94\n",
       "7308.724990  85\n",
       "3010.253826  35\n",
       "2234.562627  26\n",
       "3269.367849  38\n",
       "772.743212    9\n",
       "7825.298452  91\n",
       "946.848381   11\n",
       "8256.369968  96\n",
       "7483.754201  87\n",
       "6364.644480  74\n",
       "3009.611419  35\n",
       "3266.390857  38\n",
       "2752.702307  32\n",
       "3182.820089  37\n",
       "5247.081357  61\n",
       "7138.612082  83\n",
       "7224.560657  84\n",
       "3696.189514  43\n",
       "7738.702831  90\n",
       "7308.769029  85\n",
       "945.927939   11\n",
       "7568.642725  88\n",
       "5502.406567  64\n",
       "343.465471    4\n",
       "3094.900837  36\n",
       "4900.915439  57\n",
       "7395.672583  86"
      ]
     },
     "execution_count": 6,
     "metadata": {},
     "output_type": "execute_result"
    }
   ],
   "source": [
    "pd.DataFrame(x, y)"
   ]
  },
  {
   "cell_type": "code",
   "execution_count": 7,
   "id": "4f3f2711-5fc4-46da-bc0e-d683996df17e",
   "metadata": {
    "tags": []
   },
   "outputs": [],
   "source": [
    "a_hat = np.random.randn(1)"
   ]
  },
  {
   "cell_type": "code",
   "execution_count": 8,
   "id": "cac18f9f-3df6-457f-86c4-7c07df5ad6f3",
   "metadata": {
    "tags": []
   },
   "outputs": [
    {
     "data": {
      "text/plain": [
       "array([-0.30161003])"
      ]
     },
     "execution_count": 8,
     "metadata": {},
     "output_type": "execute_result"
    }
   ],
   "source": [
    "a_hat"
   ]
  },
  {
   "cell_type": "code",
   "execution_count": 9,
   "id": "b779fc35-aaba-45e1-a573-7c8c3e71ba73",
   "metadata": {
    "tags": []
   },
   "outputs": [],
   "source": [
    "y_hat = a_hat * x"
   ]
  },
  {
   "cell_type": "code",
   "execution_count": 10,
   "id": "2e2b2281-c02b-411e-b685-fc1314fde72f",
   "metadata": {
    "tags": []
   },
   "outputs": [
    {
     "data": {
      "text/plain": [
       "array([ -8.74669099, -27.14490307,  -1.8096602 , -12.3660114 ,\n",
       "       -13.2708415 , -26.24007297, -16.58855188, -22.31914252,\n",
       "        -2.11127024, -28.95456327,  -5.73059065, -19.30304218,\n",
       "       -15.38211174,  -7.23864082, -19.90626225, -13.57245154,\n",
       "       -12.3660114 , -27.74812314, -20.81109235,  -2.11127024,\n",
       "        -0.60322007, -11.76279133, -28.35134321, -25.6368529 ,\n",
       "       -10.55635119,  -7.84186089, -11.4611813 ,  -2.71449031,\n",
       "       -27.4465131 ,  -3.31771038, -28.95456327, -26.24007297,\n",
       "       -22.31914252, -10.55635119, -11.4611813 ,  -9.65152109,\n",
       "       -11.15957126, -18.39821208, -25.03363283, -25.33524287,\n",
       "       -12.96923147, -27.14490307, -25.6368529 ,  -3.31771038,\n",
       "       -26.541683  , -19.30304218,  -1.20644014, -10.85796123,\n",
       "       -17.19177194, -25.93846293])"
      ]
     },
     "execution_count": 10,
     "metadata": {},
     "output_type": "execute_result"
    }
   ],
   "source": [
    "y_hat"
   ]
  },
  {
   "cell_type": "code",
   "execution_count": 11,
   "id": "14c3c708-2f7c-4c39-8800-7e00ef366341",
   "metadata": {
    "tags": []
   },
   "outputs": [
    {
     "data": {
      "text/plain": [
       "27169478.51329589"
      ]
     },
     "execution_count": 11,
     "metadata": {},
     "output_type": "execute_result"
    }
   ],
   "source": [
    "\n",
    "np.sum((y_hat - y)**2)/y_hat.size"
   ]
  },
  {
   "cell_type": "code",
   "execution_count": 12,
   "id": "bb118ca4-3c4e-40b7-8deb-b50653766b91",
   "metadata": {
    "tags": []
   },
   "outputs": [],
   "source": [
    "learning_rate = 1e-3\n",
    "a_hat = a_hat - learning_rate*2*np.mean(x*(y_hat-y))"
   ]
  },
  {
   "cell_type": "code",
   "execution_count": 13,
   "id": "7fb72db1-58dc-4746-a5de-dfdfbb2a858b",
   "metadata": {
    "tags": []
   },
   "outputs": [
    {
     "data": {
      "text/plain": [
       "array([629.33636188])"
      ]
     },
     "execution_count": 13,
     "metadata": {},
     "output_type": "execute_result"
    }
   ],
   "source": [
    "a_hat"
   ]
  },
  {
   "cell_type": "code",
   "execution_count": 14,
   "id": "f8f5448b-4490-4d37-a790-36f41f31712d",
   "metadata": {
    "tags": []
   },
   "outputs": [
    {
     "data": {
      "text/plain": [
       "array([-3334.71319617])"
      ]
     },
     "execution_count": 14,
     "metadata": {},
     "output_type": "execute_result"
    }
   ],
   "source": [
    "y_hat = a_hat*x\n",
    "a_hat = a_hat - learning_rate*2*np.mean(x*(y_hat-y))\n",
    "a_hat"
   ]
  },
  {
   "cell_type": "code",
   "execution_count": 15,
   "id": "8a9dc013-5f29-432e-bf0b-cc3e8897901f",
   "metadata": {
    "tags": []
   },
   "outputs": [],
   "source": [
    "def gradient_descent(x, y, learning_rate, epochs):\n",
    "    a_hat = np.random.randn(1)\n",
    "    for _ in range(epochs):\n",
    "        y_hat = a_hat*x\n",
    "        a_hat -= learning_rate*np.mean(x*(y_hat - y))\n",
    "    return a_hat"
   ]
  },
  {
   "cell_type": "code",
   "execution_count": 16,
   "id": "976bbcba-fea9-4972-9e37-6bfeed8c1ad7",
   "metadata": {
    "tags": []
   },
   "outputs": [],
   "source": [
    "x = np.random.randn(100)\n",
    "y = 48*x"
   ]
  },
  {
   "cell_type": "code",
   "execution_count": 17,
   "id": "84efd1a9-8b15-4c90-b60a-39e445b7311a",
   "metadata": {
    "tags": []
   },
   "outputs": [
    {
     "data": {
      "text/plain": [
       "array([47.98909692])"
      ]
     },
     "execution_count": 17,
     "metadata": {},
     "output_type": "execute_result"
    }
   ],
   "source": [
    "gradient_descent(x, y, 1e-4, 100000)"
   ]
  },
  {
   "cell_type": "code",
   "execution_count": 18,
   "id": "cd7a93c8-cc62-48ff-b31e-501c937b6cfa",
   "metadata": {
    "tags": []
   },
   "outputs": [],
   "source": [
    "X = np.random.randn(50)"
   ]
  },
  {
   "cell_type": "code",
   "execution_count": 19,
   "id": "9b91885d-93a5-4d51-906f-9c4a5ee3dc4c",
   "metadata": {
    "tags": []
   },
   "outputs": [],
   "source": [
    "y = -200 * X + 90"
   ]
  },
  {
   "cell_type": "code",
   "execution_count": 20,
   "id": "d809b9c5-3d71-4289-af93-dbc98aaf6895",
   "metadata": {
    "tags": []
   },
   "outputs": [],
   "source": [
    "def gradient_descent(x, y, learning_rate, epochs):\n",
    "    a_hat = 1000\n",
    "    b_hat = 0\n",
    "    for _ in range(epochs):\n",
    "        y_hat = a_hat*x + b_hat\n",
    "        a_hat -= learning_rate*np.mean(2*x*(y_hat-y))\n",
    "        b_hat -= learning_rate*np.mean(2*(y_hat-y))\n",
    "    return a_hat, b_hat"
   ]
  },
  {
   "cell_type": "code",
   "execution_count": 21,
   "id": "c7009902-be9a-4886-acbe-052de0739d73",
   "metadata": {
    "tags": []
   },
   "outputs": [
    {
     "ename": "ValueError",
     "evalue": "operands could not be broadcast together with shapes (100,) (50,) ",
     "output_type": "error",
     "traceback": [
      "\u001b[1;31m---------------------------------------------------------------------------\u001b[0m",
      "\u001b[1;31mValueError\u001b[0m                                Traceback (most recent call last)",
      "Cell \u001b[1;32mIn[21], line 1\u001b[0m\n\u001b[1;32m----> 1\u001b[0m \u001b[43mgradient_descent\u001b[49m\u001b[43m(\u001b[49m\u001b[43mx\u001b[49m\u001b[43m,\u001b[49m\u001b[43m \u001b[49m\u001b[43my\u001b[49m\u001b[43m,\u001b[49m\u001b[43m \u001b[49m\u001b[38;5;241;43m1e-4\u001b[39;49m\u001b[43m,\u001b[49m\u001b[43m \u001b[49m\u001b[38;5;241;43m100000\u001b[39;49m\u001b[43m)\u001b[49m\n",
      "Cell \u001b[1;32mIn[20], line 6\u001b[0m, in \u001b[0;36mgradient_descent\u001b[1;34m(x, y, learning_rate, epochs)\u001b[0m\n\u001b[0;32m      4\u001b[0m \u001b[38;5;28;01mfor\u001b[39;00m _ \u001b[38;5;129;01min\u001b[39;00m \u001b[38;5;28mrange\u001b[39m(epochs):\n\u001b[0;32m      5\u001b[0m     y_hat \u001b[38;5;241m=\u001b[39m a_hat\u001b[38;5;241m*\u001b[39mx \u001b[38;5;241m+\u001b[39m b_hat\n\u001b[1;32m----> 6\u001b[0m     a_hat \u001b[38;5;241m-\u001b[39m\u001b[38;5;241m=\u001b[39m learning_rate\u001b[38;5;241m*\u001b[39mnp\u001b[38;5;241m.\u001b[39mmean(\u001b[38;5;241m2\u001b[39m\u001b[38;5;241m*\u001b[39mx\u001b[38;5;241m*\u001b[39m(\u001b[43my_hat\u001b[49m\u001b[38;5;241;43m-\u001b[39;49m\u001b[43my\u001b[49m))\n\u001b[0;32m      7\u001b[0m     b_hat \u001b[38;5;241m-\u001b[39m\u001b[38;5;241m=\u001b[39m learning_rate\u001b[38;5;241m*\u001b[39mnp\u001b[38;5;241m.\u001b[39mmean(\u001b[38;5;241m2\u001b[39m\u001b[38;5;241m*\u001b[39m(y_hat\u001b[38;5;241m-\u001b[39my))\n\u001b[0;32m      8\u001b[0m \u001b[38;5;28;01mreturn\u001b[39;00m a_hat, b_hat\n",
      "\u001b[1;31mValueError\u001b[0m: operands could not be broadcast together with shapes (100,) (50,) "
     ]
    }
   ],
   "source": [
    "gradient_descent(x, y, 1e-4, 100000)"
   ]
  },
  {
   "cell_type": "code",
   "execution_count": null,
   "id": "8eb373e2-29d7-4796-b2be-0b79b228f4a9",
   "metadata": {
    "tags": []
   },
   "outputs": [],
   "source": [
    "def diff(f, x):\n",
    "    h = 1e-5\n",
    "    return (f(x+h) - f(x))/h"
   ]
  },
  {
   "cell_type": "code",
   "execution_count": null,
   "id": "532b259a-7d40-464e-995f-32f00ada18f3",
   "metadata": {
    "tags": []
   },
   "outputs": [],
   "source": [
    "np.array([1, 2])[0]"
   ]
  },
  {
   "cell_type": "code",
   "execution_count": null,
   "id": "63b844fb-0f55-40e4-a573-85a8ae93630e",
   "metadata": {
    "tags": []
   },
   "outputs": [],
   "source": [
    "def fx(x):\n",
    "    a = x[0]\n",
    "    b = x[1]\n",
    "    return np.mean(a*X + b)\n",
    "\n",
    "\n",
    "def gradient_descent(x, y, learning_rate, epochs):\n",
    "    a_hat = 1000\n",
    "    for _ in range(epochs):\n",
    "        fx = lambda W: np.mean(x*W)\n",
    "        a_hat -= diff(fx, a_hat)*learning_rate\n",
    "        \n",
    "    return a_hat\n",
    "\n",
    "X = np.random.randn(100)\n",
    "y = 100*X"
   ]
  },
  {
   "cell_type": "code",
   "execution_count": null,
   "id": "06ad470f-02ad-4465-8f5d-ffa647569a2f",
   "metadata": {
    "tags": []
   },
   "outputs": [],
   "source": [
    "a_hat= gradient_descent(X, y, 1e-3, 1000)"
   ]
  },
  {
   "cell_type": "code",
   "execution_count": null,
   "id": "ce71395e-cdfc-4831-b847-0cf9ca3380ba",
   "metadata": {
    "tags": []
   },
   "outputs": [],
   "source": [
    "a_hat1 = gradient_descent(X, y, 1e-3, 10000)"
   ]
  },
  {
   "cell_type": "code",
   "execution_count": null,
   "id": "bbd61d3b-1b60-4488-a3e4-2044b92f3865",
   "metadata": {
    "tags": []
   },
   "outputs": [],
   "source": [
    "a_hat, a_hat1"
   ]
  },
  {
   "cell_type": "code",
   "execution_count": null,
   "id": "e7d6579a-68d1-4c8e-829e-6d5f6b11db3f",
   "metadata": {
    "tags": []
   },
   "outputs": [],
   "source": [
    "a_hat2 = gradient_descent(X, y, 1e-3, 100000)"
   ]
  },
  {
   "cell_type": "code",
   "execution_count": null,
   "id": "a7103dfc-b853-49e2-99ff-82cddbfdc5dd",
   "metadata": {
    "tags": []
   },
   "outputs": [],
   "source": [
    "a_hat2"
   ]
  },
  {
   "cell_type": "code",
   "execution_count": null,
   "id": "9162fe94-5a7b-45fd-a1cf-1737d4de1614",
   "metadata": {
    "tags": []
   },
   "outputs": [],
   "source": [
    "a_hat = 1000\n",
    "fx = lambda W: np.mean(X*W)\n",
    "diff(fx, a_hat)"
   ]
  },
  {
   "cell_type": "code",
   "execution_count": null,
   "id": "6b889aa9-e515-449a-badc-8bc7c2475561",
   "metadata": {
    "tags": []
   },
   "outputs": [],
   "source": [
    "np.mean(X*(1000+1e-5) - X*(1000))/(1e-5)"
   ]
  },
  {
   "cell_type": "code",
   "execution_count": null,
   "id": "7829a46c-b49e-4666-ab9a-22327a27a1c7",
   "metadata": {
    "tags": []
   },
   "outputs": [],
   "source": [
    "def gradient_descent(x, y, learning_rate, epochs):\n",
    "    a_hat = np.random.randn(1)\n",
    "    b_hat = 0\n",
    "    W = np.array([a_hat, b_hat])\n",
    "    for _ in range(epochs):\n",
    "        predict = lambda W : x*W[0] + W[1]\n",
    "        loss = lambda y, predict : np.mean((y - predict)**2)\n",
    "        W[0] -= diff(loss, W)[0]*learning_rate\n",
    "        W[1] -= diff(loss, W)[1]*learning_rate\n",
    "\n",
    "\n",
    "    return W[0], W[1]"
   ]
  },
  {
   "cell_type": "code",
   "execution_count": null,
   "id": "a35ef80c-1ce1-4a26-997e-e41f6a0c2257",
   "metadata": {
    "tags": []
   },
   "outputs": [],
   "source": [
    "X = np.random.rand(100)\n",
    "y = x*100 + 20"
   ]
  },
  {
   "cell_type": "code",
   "execution_count": null,
   "id": "9e66f5c1-0069-49e5-8bbb-b93f773e9d81",
   "metadata": {
    "tags": []
   },
   "outputs": [],
   "source": [
    "gradient_descent(X, y, 1e-3, 10000)"
   ]
  },
  {
   "cell_type": "code",
   "execution_count": null,
   "id": "a3305271-fe59-402b-84d4-e422d9a56f4a",
   "metadata": {},
   "outputs": [],
   "source": []
  },
  {
   "cell_type": "code",
   "execution_count": null,
   "id": "493f4f68-bf29-4264-9b5f-5c4f90028f6b",
   "metadata": {},
   "outputs": [],
   "source": []
  },
  {
   "cell_type": "code",
   "execution_count": 45,
   "id": "ca35002c-3687-439f-bc6a-107e870e816e",
   "metadata": {},
   "outputs": [],
   "source": [
    "a_hat = 1000\n",
    "b_hat = 0\n",
    "h = 1e-5"
   ]
  },
  {
   "cell_type": "code",
   "execution_count": 46,
   "id": "18314580-ce14-4e74-9cc9-6fc4f1f7566d",
   "metadata": {},
   "outputs": [],
   "source": [
    "predict_a = lambda a_hat : X*a_hat + b_hat"
   ]
  },
  {
   "cell_type": "code",
   "execution_count": 47,
   "id": "6979e0f3-94d7-4a20-9e84-3df891779207",
   "metadata": {},
   "outputs": [],
   "source": [
    "loss_a = lambda y, predict_a : np.mean(y-predict_a)**2"
   ]
  },
  {
   "cell_type": "code",
   "execution_count": 48,
   "id": "c2e8f89a-57ec-406b-8592-f0f0813f1bb5",
   "metadata": {
    "tags": []
   },
   "outputs": [],
   "source": [
    "predict_b = lambda b_hat : X*a_hat + b_hat"
   ]
  },
  {
   "cell_type": "code",
   "execution_count": 49,
   "id": "5f403193-b12a-403c-99ee-4e2c9cd5e116",
   "metadata": {
    "tags": []
   },
   "outputs": [],
   "source": [
    "loss_b = lambda y, predict_b : np.mean(y-predict_b)**2"
   ]
  },
  {
   "cell_type": "code",
   "execution_count": 50,
   "id": "dc38c10e-ebda-43cb-a645-22c4d6cf2e7c",
   "metadata": {
    "tags": []
   },
   "outputs": [
    {
     "data": {
      "text/plain": [
       "array([  -84.92099397,   -73.72577677,   -49.05528291,   642.87945979,\n",
       "         -81.11446462,  -283.20758093,  -702.67675771,   345.12746365,\n",
       "         449.84831546,  -578.96093816,   172.99241843, -1412.00950755,\n",
       "        -336.69882545,   280.04610098,  -179.30476574,  -621.06757331,\n",
       "         986.1399931 ,   -38.41869838,  -223.79162558,   753.78158386,\n",
       "         479.98069569,   798.93777349,  -254.76401832,  -963.68880592,\n",
       "        1276.53593519, -1066.52727447,  1595.33123539,  -994.10368016,\n",
       "        1721.22346649,  -599.80366015,   189.53108369, -1426.99476658,\n",
       "        -634.95293011,   811.68078652,  -242.63635072,    72.39353806,\n",
       "        -857.24158257,  -681.5528263 ,   611.54736223,  -395.56311062,\n",
       "       -1890.04271687,  1069.65699532,  -996.64150153,  -393.07424347,\n",
       "       -1410.48336872,   625.04098318,  -491.37315908,   -14.56638196,\n",
       "       -2510.95506492,  -541.34390681])"
      ]
     },
     "execution_count": 50,
     "metadata": {},
     "output_type": "execute_result"
    }
   ],
   "source": [
    "predict_a(a_hat)"
   ]
  },
  {
   "cell_type": "code",
   "execution_count": 51,
   "id": "f5629126-d599-4b05-8691-ae8bd00c4b9c",
   "metadata": {
    "tags": []
   },
   "outputs": [
    {
     "data": {
      "text/plain": [
       "81547.9899278783"
      ]
     },
     "execution_count": 51,
     "metadata": {},
     "output_type": "execute_result"
    }
   ],
   "source": [
    "loss_a(y, predict_a(a_hat))"
   ]
  },
  {
   "cell_type": "code",
   "execution_count": 52,
   "id": "0fa1de1b-0ac1-45d5-8252-c7bbeb688e62",
   "metadata": {
    "tags": []
   },
   "outputs": [
    {
     "data": {
      "text/plain": [
       "93.07840518886222"
      ]
     },
     "execution_count": 52,
     "metadata": {},
     "output_type": "execute_result"
    }
   ],
   "source": [
    "(loss_a(y, predict_a(a_hat+h))-loss_a(y, predict_a(a_hat)))/h"
   ]
  },
  {
   "cell_type": "code",
   "execution_count": 53,
   "id": "c4dc4cb1-36a2-4835-9e4b-c53062b718fe",
   "metadata": {
    "tags": []
   },
   "outputs": [
    {
     "data": {
      "text/plain": [
       "1428.8678357843307"
      ]
     },
     "execution_count": 53,
     "metadata": {},
     "output_type": "execute_result"
    }
   ],
   "source": [
    "(loss_b(y, predict_b(a_hat+h))-loss_b(y, predict_b(a_hat)))/h"
   ]
  },
  {
   "cell_type": "code",
   "execution_count": 54,
   "id": "b4649898-f672-4ec3-90dc-63aabc0ab01f",
   "metadata": {
    "tags": []
   },
   "outputs": [],
   "source": [
    "x1 = np.random.randn(100)\n",
    "x2 = np.random.randn(100)"
   ]
  },
  {
   "cell_type": "code",
   "execution_count": 55,
   "id": "d1d75f1f-8473-4a67-b000-58ead068875c",
   "metadata": {
    "tags": []
   },
   "outputs": [],
   "source": [
    "a1 = 100\n",
    "a2 = -3"
   ]
  },
  {
   "cell_type": "code",
   "execution_count": 57,
   "id": "6368483d-184f-4c1f-828f-6cda04898c61",
   "metadata": {
    "tags": []
   },
   "outputs": [],
   "source": [
    "y = a1*x1 + a2*x2 #회귀식"
   ]
  },
  {
   "cell_type": "code",
   "execution_count": 62,
   "id": "22d8a721-0385-433d-be95-e3d62b094b94",
   "metadata": {
    "tags": []
   },
   "outputs": [
    {
     "data": {
      "text/plain": [
       "(99.99999198313714, -3.000015043408128)"
      ]
     },
     "execution_count": 62,
     "metadata": {},
     "output_type": "execute_result"
    }
   ],
   "source": [
    "a_hat1 = -15\n",
    "a_hat2 = 4\n",
    "for _ in range(100000):\n",
    "    y_hat = a_hat1*x1 + a_hat2*x2\n",
    "    da1 = np.mean(2*x1*(y_hat-y))\n",
    "    da2 = np.mean(2*x2*(y_hat-y))\n",
    "    a_hat1 -= da1*1e-4\n",
    "    a_hat2 -= da2*1e-4\n",
    "    \n",
    "a_hat1, a_hat2"
   ]
  },
  {
   "cell_type": "code",
   "execution_count": 69,
   "id": "b6e35046-83c9-4369-afb5-b8381c194476",
   "metadata": {
    "tags": []
   },
   "outputs": [],
   "source": [
    "X = np.c_[x1, x2]\n",
    "W = np.array([a1, a2]).reshape(2,1)\n",
    "y = np.dot(X, W)"
   ]
  },
  {
   "cell_type": "code",
   "execution_count": 70,
   "id": "cc544350-c907-41a4-aff1-fd9c94203d9e",
   "metadata": {
    "tags": []
   },
   "outputs": [],
   "source": [
    "W_hat = np.random.randn(2, 1)"
   ]
  },
  {
   "cell_type": "code",
   "execution_count": 72,
   "id": "41fb63c0-a129-4b34-bd21-87167509d327",
   "metadata": {
    "tags": []
   },
   "outputs": [
    {
     "data": {
      "text/plain": [
       "((100, 2), (2, 100), (2, 100))"
      ]
     },
     "execution_count": 72,
     "metadata": {},
     "output_type": "execute_result"
    }
   ],
   "source": [
    "X.shape, X.T.shape, X.transpose().shape"
   ]
  },
  {
   "cell_type": "code",
   "execution_count": 81,
   "id": "dafd6851-7753-4d98-8bc1-01dcfeab3d7c",
   "metadata": {
    "tags": []
   },
   "outputs": [],
   "source": [
    "X = np.random.randn(100, 50)\n",
    "W = np.arange(1, 51).reshape(50, 1)\n",
    "b = 300\n",
    "y = np.dot(X, W) + b"
   ]
  },
  {
   "cell_type": "code",
   "execution_count": 83,
   "id": "bb6c2677-e3b8-430f-a09f-ca1b52266fbd",
   "metadata": {
    "collapsed": true,
    "jupyter": {
     "outputs_hidden": true
    },
    "tags": []
   },
   "outputs": [
    {
     "data": {
      "text/plain": [
       "(array([[ 0.99793946],\n",
       "        [ 1.99997883],\n",
       "        [ 2.99959692],\n",
       "        [ 3.99979647],\n",
       "        [ 5.00208068],\n",
       "        [ 6.00065694],\n",
       "        [ 7.00078918],\n",
       "        [ 8.0002056 ],\n",
       "        [ 9.00040061],\n",
       "        [ 9.99866467],\n",
       "        [10.99948545],\n",
       "        [12.00128153],\n",
       "        [12.99922639],\n",
       "        [14.00067584],\n",
       "        [15.00231328],\n",
       "        [16.00053838],\n",
       "        [16.9997531 ],\n",
       "        [17.99979854],\n",
       "        [19.00018493],\n",
       "        [20.00171903],\n",
       "        [21.00146589],\n",
       "        [22.00063221],\n",
       "        [23.00111547],\n",
       "        [24.00247715],\n",
       "        [25.00187399],\n",
       "        [26.00046987],\n",
       "        [26.99920457],\n",
       "        [27.99995586],\n",
       "        [29.0018981 ],\n",
       "        [30.00149293],\n",
       "        [30.99772386],\n",
       "        [32.00119102],\n",
       "        [33.00235056],\n",
       "        [33.99916523],\n",
       "        [34.99931409],\n",
       "        [35.99845045],\n",
       "        [36.99995043],\n",
       "        [37.99696805],\n",
       "        [38.99938161],\n",
       "        [39.9988395 ],\n",
       "        [40.99618546],\n",
       "        [41.99807872],\n",
       "        [43.0015159 ],\n",
       "        [44.00329977],\n",
       "        [44.99792917],\n",
       "        [45.99839274],\n",
       "        [47.00087178],\n",
       "        [48.00156299],\n",
       "        [49.00189415],\n",
       "        [50.00185293]]),\n",
       " 299.991049429915)"
      ]
     },
     "execution_count": 83,
     "metadata": {},
     "output_type": "execute_result"
    }
   ],
   "source": [
    "learning_rate = 1e-4\n",
    "W_hat = np.random.randn(W.shape[0], W.shape[1])\n",
    "b_hat = 0\n",
    "for _ in range(100000):\n",
    "    y_hat = np.dot(X, W_hat) + b_hat\n",
    "    dw = 2*np.dot(X.T,(y_hat-y))\n",
    "    db = 2*np.mean(y_hat-y)\n",
    "    W_hat -= dw*learning_rate\n",
    "    b_hat -= db*learning_rate\n",
    "W_hat, b_hat"
   ]
  },
  {
   "cell_type": "code",
   "execution_count": 84,
   "id": "41171bc0-623b-4c9d-93c2-a09d22f5d974",
   "metadata": {
    "tags": []
   },
   "outputs": [],
   "source": [
    "X = np.random.choice(np.arange(1,9), 100)"
   ]
  },
  {
   "cell_type": "code",
   "execution_count": 85,
   "id": "02700236-2aab-4912-b157-02153a4dceb6",
   "metadata": {
    "tags": []
   },
   "outputs": [],
   "source": [
    "y = np.where(X >= 4, 1, 0)"
   ]
  },
  {
   "cell_type": "code",
   "execution_count": 86,
   "id": "8c1539bc-6791-4fd3-bd40-b7b3f95e0935",
   "metadata": {
    "tags": []
   },
   "outputs": [],
   "source": [
    "learning_rate = 1e-4\n",
    "a_hat = np.random.randn(1)\n",
    "for _ in range(10000):\n",
    "    y_hat = X * a_hat\n",
    "    da = np.mean(2*X*(y_hat-y))\n",
    "    a_hat -= da*learning_rate"
   ]
  },
  {
   "cell_type": "code",
   "execution_count": 87,
   "id": "bc996966-8dfe-4dd4-92cb-bf267a2c377b",
   "metadata": {
    "tags": []
   },
   "outputs": [
    {
     "data": {
      "text/plain": [
       "array([0.14041514])"
      ]
     },
     "execution_count": 87,
     "metadata": {},
     "output_type": "execute_result"
    }
   ],
   "source": [
    "a_hat"
   ]
  },
  {
   "cell_type": "code",
   "execution_count": 88,
   "id": "0e03ebdc-9c02-48f9-a0bf-b1b0ea21155c",
   "metadata": {
    "tags": []
   },
   "outputs": [
    {
     "data": {
      "text/plain": [
       "array([0.28083028])"
      ]
     },
     "execution_count": 88,
     "metadata": {},
     "output_type": "execute_result"
    }
   ],
   "source": [
    "a_hat*X[0]"
   ]
  },
  {
   "cell_type": "code",
   "execution_count": 94,
   "id": "db25eb0e-24ea-4811-a24c-745d75ae4576",
   "metadata": {
    "collapsed": true,
    "jupyter": {
     "outputs_hidden": true
    },
    "tags": []
   },
   "outputs": [
    {
     "name": "stdout",
     "output_type": "stream",
     "text": [
      "[0] 0\n",
      "[0] 0\n",
      "[1] 1\n",
      "[0] 0\n",
      "[1] 1\n",
      "[1] 1\n",
      "[1] 1\n",
      "[0] 0\n",
      "[1] 1\n",
      "[0] 0\n",
      "[1] 1\n",
      "[1] 1\n",
      "[1] 1\n",
      "[0] 0\n",
      "[0] 0\n",
      "[0] 0\n",
      "[0] 0\n",
      "[0] 0\n",
      "[0] 0\n",
      "[0] 0\n",
      "[1] 1\n",
      "[0] 0\n",
      "[1] 1\n",
      "[1] 1\n",
      "[1] 1\n",
      "[1] 1\n",
      "[1] 1\n",
      "[1] 1\n",
      "[1] 1\n",
      "[0] 0\n",
      "[0] 0\n",
      "[1] 1\n",
      "[1] 1\n",
      "[1] 1\n",
      "[1] 1\n",
      "[0] 0\n",
      "[1] 1\n",
      "[1] 1\n",
      "[0] 0\n",
      "[1] 1\n",
      "[1] 1\n",
      "[1] 1\n",
      "[1] 1\n",
      "[0] 0\n",
      "[1] 1\n",
      "[1] 1\n",
      "[1] 1\n",
      "[0] 0\n",
      "[1] 1\n",
      "[1] 1\n",
      "[1] 1\n",
      "[1] 1\n",
      "[1] 1\n",
      "[1] 1\n",
      "[0] 0\n",
      "[0] 0\n",
      "[0] 0\n",
      "[1] 1\n",
      "[0] 0\n",
      "[1] 1\n",
      "[0] 0\n",
      "[1] 1\n",
      "[1] 1\n",
      "[0] 0\n",
      "[0] 0\n",
      "[1] 1\n",
      "[0] 0\n",
      "[0] 0\n",
      "[0] 0\n",
      "[0] 0\n",
      "[0] 0\n",
      "[1] 1\n",
      "[0] 0\n",
      "[0] 0\n",
      "[1] 1\n",
      "[1] 1\n",
      "[0] 0\n",
      "[0] 0\n",
      "[0] 0\n",
      "[1] 1\n",
      "[0] 0\n",
      "[1] 1\n",
      "[0] 0\n",
      "[1] 1\n",
      "[0] 0\n",
      "[1] 1\n",
      "[0] 0\n",
      "[1] 1\n",
      "[1] 1\n",
      "[1] 1\n",
      "[0] 0\n",
      "[0] 0\n",
      "[0] 0\n",
      "[1] 1\n",
      "[1] 1\n",
      "[1] 1\n",
      "[1] 1\n",
      "[1] 1\n",
      "[0] 0\n",
      "[0] 0\n"
     ]
    }
   ],
   "source": [
    "for i in range(100):\n",
    "    print(np.where(a_hat*X[i] > 0.5, 1, 0), y[i])"
   ]
  },
  {
   "cell_type": "code",
   "execution_count": 95,
   "id": "b063d152-4169-4897-bfce-fff30904b77d",
   "metadata": {
    "tags": []
   },
   "outputs": [],
   "source": [
    "import matplotlib.pyplot as plt"
   ]
  },
  {
   "cell_type": "code",
   "execution_count": 98,
   "id": "a41b9a49-0e51-4b1e-a9af-ec4b4eafd357",
   "metadata": {
    "tags": []
   },
   "outputs": [],
   "source": [
    "p = np.linspace(0, 0.9999, 100)"
   ]
  },
  {
   "cell_type": "code",
   "execution_count": 99,
   "id": "d66f9dfc-c4ed-430c-87ac-0988bfb076df",
   "metadata": {
    "tags": []
   },
   "outputs": [
    {
     "data": {
      "text/plain": [
       "[<matplotlib.lines.Line2D at 0x1cbd96a8d10>]"
      ]
     },
     "execution_count": 99,
     "metadata": {},
     "output_type": "execute_result"
    },
    {
     "data": {
      "image/png": "[encoded data removed]",
      "text/plain": [
       "<Figure size 640x480 with 1 Axes>"
      ]
     },
     "metadata": {},
     "output_type": "display_data"
    }
   ],
   "source": [
    "plt.plot(p)"
   ]
  },
  {
   "cell_type": "code",
   "execution_count": 100,
   "id": "bd7722d7-f430-489c-8c28-ad2bd744d804",
   "metadata": {
    "tags": []
   },
   "outputs": [
    {
     "data": {
      "text/plain": [
       "[<matplotlib.lines.Line2D at 0x1cbd9fda790>]"
      ]
     },
     "execution_count": 100,
     "metadata": {},
     "output_type": "execute_result"
    },
    {
     "data": {
      "image/png": "[encoded data removed]",
      "text/plain": [
       "<Figure size 640x480 with 1 Axes>"
      ]
     },
     "metadata": {},
     "output_type": "display_data"
    }
   ],
   "source": [
    "plt.plot(p/(1-p))"
   ]
  },
  {
   "cell_type": "code",
   "execution_count": 101,
   "id": "e4b9a4cd-fff8-43ea-b263-7f08b5bb9cbc",
   "metadata": {
    "tags": []
   },
   "outputs": [
    {
     "name": "stderr",
     "output_type": "stream",
     "text": [
      "C:\\Users\\user\\AppData\\Local\\Temp\\ipykernel_28140\\2845543051.py:1: RuntimeWarning: divide by zero encountered in log\n",
      "  plt.plot(np.log(p/(1-p)))\n"
     ]
    },
    {
     "data": {
      "text/plain": [
       "[<matplotlib.lines.Line2D at 0x1cbda350150>]"
      ]
     },
     "execution_count": 101,
     "metadata": {},
     "output_type": "execute_result"
    },
    {
     "data": {
      "image/png": "[encoded data removed]",
      "text/plain": [
       "<Figure size 640x480 with 1 Axes>"
      ]
     },
     "metadata": {},
     "output_type": "display_data"
    }
   ],
   "source": [
    "plt.plot(np.log(p/(1-p)))"
   ]
  },
  {
   "cell_type": "code",
   "execution_count": 102,
   "id": "84f8c313-fd60-4217-ac60-32c8489e356e",
   "metadata": {
    "tags": []
   },
   "outputs": [
    {
     "name": "stderr",
     "output_type": "stream",
     "text": [
      "C:\\Users\\user\\AppData\\Local\\Temp\\ipykernel_28140\\2420458820.py:2: RuntimeWarning: divide by zero encountered in log\n",
      "  plt.plot(8*np.log(p) + 2*np.log(1-p))\n"
     ]
    },
    {
     "data": {
      "text/plain": [
       "[<matplotlib.lines.Line2D at 0x1cbda2fa3d0>]"
      ]
     },
     "execution_count": 102,
     "metadata": {},
     "output_type": "execute_result"
    },
    {
     "data": {
      "image/png": "[encoded data removed]",
      "text/plain": [
       "<Figure size 640x480 with 1 Axes>"
      ]
     },
     "metadata": {},
     "output_type": "display_data"
    }
   ],
   "source": [
    "p = np.linspace(0, 1, 100)\n",
    "plt.plot(8*np.log(p) + 2*np.log(1-p))"
   ]
  },
  {
   "cell_type": "code",
   "execution_count": 7,
   "id": "ed91ec74-488f-4e71-b4c1-568a1e42224c",
   "metadata": {},
   "outputs": [],
   "source": [
    "x = np.random.uniform(0 ,6, 1000)"
   ]
  },
  {
   "cell_type": "code",
   "execution_count": 8,
   "id": "820b8946-e048-4f3f-afa6-a9fe7aa6ebdf",
   "metadata": {
    "collapsed": true,
    "jupyter": {
     "outputs_hidden": true
    },
    "tags": []
   },
   "outputs": [
    {
     "data": {
      "text/plain": [
       "array([2.48407735, 1.63508079, 4.27196962, 0.68938015, 3.80313215,\n",
       "       0.73010909, 4.29653397, 4.8878404 , 0.35359742, 0.53016801,\n",
       "       2.25926349, 3.17385516, 1.1599698 , 4.11481379, 0.73296743,\n",
       "       2.26439514, 4.63480425, 1.2103399 , 0.26783158, 5.69999481,\n",
       "       3.42641449, 2.54443948, 2.09519954, 3.55144715, 5.91296105,\n",
       "       5.20047808, 5.54723342, 2.94419947, 1.71508155, 1.72524602,\n",
       "       0.98977002, 3.73724535, 0.96270845, 1.04059782, 0.63011909,\n",
       "       5.3724718 , 5.3393322 , 2.01113302, 1.77635075, 4.07256886,\n",
       "       2.99757802, 0.64178126, 4.22535457, 0.78120594, 3.32023127,\n",
       "       2.15759273, 1.89422156, 0.18449492, 3.33141944, 1.10609088,\n",
       "       3.05534585, 4.17784167, 3.37988278, 1.95685357, 3.11803043,\n",
       "       0.18210891, 0.28554427, 3.65394475, 4.93436821, 0.38996238,\n",
       "       3.41895739, 1.59310263, 2.79400394, 2.46967423, 1.71110372,\n",
       "       3.4902626 , 1.17645573, 1.53482421, 0.80827413, 4.57376687,\n",
       "       5.7713888 , 1.22814103, 0.36156047, 4.21026926, 2.51302435,\n",
       "       1.27903286, 0.20844766, 0.73314587, 5.66926369, 5.97085542,\n",
       "       1.50663102, 5.13996976, 4.23201932, 2.15512239, 1.57461617,\n",
       "       5.65221532, 0.62350784, 0.52192598, 3.74513881, 2.12791688,\n",
       "       4.27073275, 3.67761606, 1.89638364, 2.03833808, 4.51238017,\n",
       "       3.60383728, 2.22409065, 3.47292261, 1.87909625, 2.0801132 ,\n",
       "       5.06683574, 5.1674367 , 5.9484752 , 3.82294045, 4.50385244,\n",
       "       2.73344376, 5.18188811, 4.58619256, 2.4119005 , 3.27473895,\n",
       "       1.16869552, 2.27257513, 0.09455601, 0.502456  , 2.36853268,\n",
       "       4.06236629, 3.38997146, 4.30159638, 1.01248523, 4.95599442,\n",
       "       0.18534597, 5.52285744, 2.90085144, 4.17766049, 1.23772862,\n",
       "       3.20999398, 0.35169486, 1.52316903, 4.80741966, 2.26226525,\n",
       "       5.63570959, 3.75408718, 1.0774707 , 5.12988147, 1.55078167,\n",
       "       5.87321378, 1.52078324, 2.21778402, 4.99656029, 1.38363459,\n",
       "       2.37109154, 0.5276047 , 1.07176903, 1.50485959, 2.05057803,\n",
       "       0.61206245, 2.52501147, 0.78530489, 3.00140606, 1.09008872,\n",
       "       0.04109872, 3.7898427 , 5.26949719, 4.63243873, 2.51250703,\n",
       "       0.8488273 , 1.98568103, 2.98173915, 1.75257328, 3.28561267,\n",
       "       4.1481204 , 4.11507593, 3.9223555 , 2.37572392, 1.79669042,\n",
       "       0.55422572, 2.08740593, 2.29668837, 5.21938009, 3.58432522,\n",
       "       5.67873624, 0.50752386, 2.9513107 , 4.07895545, 5.60144913,\n",
       "       1.07490203, 0.33818166, 4.64984924, 0.01239237, 2.83187771,\n",
       "       5.40924459, 2.90425476, 5.44253445, 5.78257919, 5.96985396,\n",
       "       2.15323825, 5.3075355 , 4.35937265, 2.31677124, 5.1826924 ,\n",
       "       1.47327853, 3.253164  , 4.49200285, 4.77327241, 0.8261123 ,\n",
       "       1.6330379 , 3.8964115 , 3.725126  , 4.72061104, 4.13935726,\n",
       "       5.26564402, 0.97873037, 2.8240529 , 1.5381298 , 3.64479336,\n",
       "       4.44713914, 3.27282519, 5.83947709, 3.81792643, 2.92649583,\n",
       "       2.27756095, 0.9561701 , 1.55692028, 3.24429171, 1.49295963,\n",
       "       3.09746523, 4.25368648, 3.902369  , 0.12767067, 4.24563513,\n",
       "       3.24304783, 5.95062828, 2.41426702, 5.64004762, 5.60597014,\n",
       "       1.60012539, 3.36364835, 5.3576041 , 5.48481237, 4.93488736,\n",
       "       2.25518754, 5.55361126, 3.12054837, 1.47582608, 3.62409144,\n",
       "       5.87608892, 1.39631664, 1.69104712, 4.23739208, 4.99905997,\n",
       "       5.74638725, 0.79123438, 2.76908161, 0.89047606, 2.10753994,\n",
       "       1.51887199, 0.74112151, 2.33282822, 2.7851734 , 5.91290791,\n",
       "       2.24819815, 0.00966464, 4.39469701, 0.77222061, 2.47286039,\n",
       "       2.88263119, 1.4830879 , 4.32337597, 0.75472751, 3.34352211,\n",
       "       0.8332086 , 0.50857804, 5.96217188, 3.48007322, 1.71159443,\n",
       "       1.23546196, 5.39294507, 5.21153233, 0.99298136, 2.65363954,\n",
       "       2.60661158, 0.08692041, 2.07383029, 2.14987572, 0.83344147,\n",
       "       5.85159581, 5.86093496, 3.70110535, 0.23305406, 2.02209447,\n",
       "       5.25967637, 2.77866163, 3.19569274, 5.48052166, 5.72802074,\n",
       "       2.54185135, 1.59652411, 1.08775768, 4.95224941, 1.82506885,\n",
       "       0.54739699, 2.7918837 , 1.53325656, 5.05463629, 1.76606819,\n",
       "       3.72952302, 1.69728253, 2.21835035, 5.59741424, 2.12486704,\n",
       "       1.4523367 , 4.95458959, 2.20564647, 5.85317501, 2.14011431,\n",
       "       3.19294169, 5.73616658, 1.70876345, 4.58210836, 4.17846993,\n",
       "       0.72038115, 5.78536775, 3.4640678 , 1.52922019, 5.91149456,\n",
       "       0.51214261, 1.58733078, 5.49510721, 0.45058635, 5.89711617,\n",
       "       2.89914185, 3.34865482, 4.5347378 , 4.73709844, 1.47325991,\n",
       "       3.27251234, 2.37910814, 0.33904913, 1.91527454, 1.59367497,\n",
       "       2.7778568 , 0.14642531, 4.36191552, 4.42977085, 5.04900817,\n",
       "       0.36548354, 2.34977217, 4.49576474, 5.95140168, 5.44165347,\n",
       "       1.50825162, 4.73186063, 4.45533281, 5.39194473, 5.3107368 ,\n",
       "       3.59301197, 2.54620958, 2.71005265, 1.98057617, 2.04318742,\n",
       "       0.61995948, 4.84031552, 5.48491674, 1.05747691, 0.83358783,\n",
       "       4.00965894, 3.10047266, 0.42822884, 4.65724739, 0.5330187 ,\n",
       "       3.53304697, 4.11052423, 4.9514145 , 3.05627309, 0.5923037 ,\n",
       "       4.94734653, 5.10168225, 2.14809858, 4.03132454, 4.54109631,\n",
       "       3.65391479, 5.12511776, 4.4689571 , 5.03930998, 1.7766025 ,\n",
       "       3.92962696, 4.07678185, 4.58806542, 2.39195808, 2.02022284,\n",
       "       1.91530533, 5.01720337, 3.63827565, 5.8494647 , 4.98110967,\n",
       "       3.70908425, 4.12628243, 5.84355329, 1.5208634 , 2.64608595,\n",
       "       3.17556691, 5.52894643, 1.17839112, 5.2615836 , 5.10530446,\n",
       "       2.34288183, 5.41759537, 2.5715272 , 4.10405832, 4.7683321 ,\n",
       "       1.54976352, 3.96143693, 2.35106766, 0.15718852, 0.59322875,\n",
       "       3.45389618, 0.1642733 , 0.15682494, 5.27044195, 1.12858421,\n",
       "       0.49528875, 5.42854535, 5.4205995 , 2.36881445, 4.18474412,\n",
       "       5.92936189, 1.17215561, 2.77514959, 1.22395712, 0.77636895,\n",
       "       3.73740023, 1.56553076, 5.32307893, 5.85633091, 0.49002614,\n",
       "       3.15358364, 3.88129987, 3.57483652, 2.27033439, 5.15341899,\n",
       "       4.3634264 , 0.36443081, 3.54147748, 3.78061361, 3.51372111,\n",
       "       4.69715416, 0.86414385, 4.67283884, 0.17458674, 1.04487676,\n",
       "       0.66454884, 4.93784441, 5.58677845, 5.99124729, 5.95685746,\n",
       "       0.89165288, 4.79785613, 5.10244082, 5.52504171, 0.79263361,\n",
       "       1.16997302, 1.1713688 , 4.18928738, 3.4094343 , 1.45370149,\n",
       "       5.14202958, 5.18595751, 2.61439787, 5.24594462, 5.1085532 ,\n",
       "       4.44635736, 1.50714598, 4.11222963, 0.81157159, 4.36206078,\n",
       "       2.04709766, 2.48309626, 3.24168   , 1.26279393, 3.4979385 ,\n",
       "       3.7072744 , 3.31170861, 5.61467659, 1.66701734, 5.76347457,\n",
       "       3.89224257, 4.50078346, 3.81579272, 2.54639107, 1.37361797,\n",
       "       4.46584388, 2.8902756 , 1.94763437, 4.9865242 , 5.81593965,\n",
       "       2.03057861, 1.09969968, 1.2147694 , 1.77739879, 2.32645663,\n",
       "       1.74766364, 2.54454681, 3.44324051, 1.50950045, 2.87389254,\n",
       "       3.06766226, 2.233663  , 3.12351147, 4.52835418, 3.89085628,\n",
       "       3.82525483, 0.63009013, 5.47498649, 2.36120021, 5.89314393,\n",
       "       2.11409241, 3.19462175, 0.87913028, 5.40213049, 5.51771063,\n",
       "       2.40600071, 5.32820662, 0.83611682, 5.68387059, 2.96322078,\n",
       "       4.87683337, 5.23431675, 4.89862237, 5.76582349, 2.85735919,\n",
       "       0.75461584, 3.26467107, 5.57964965, 2.29289824, 4.94489238,\n",
       "       5.16815565, 4.06772413, 0.04452245, 4.17790298, 5.26109757,\n",
       "       2.83354846, 4.13499229, 0.87725656, 5.11978203, 3.22724255,\n",
       "       2.47526125, 3.55162377, 3.06490512, 0.28733864, 2.46788819,\n",
       "       0.48708248, 5.53008422, 2.04005284, 5.40755807, 0.99229527,\n",
       "       2.97561798, 0.9312674 , 5.85097409, 3.32808741, 4.8697007 ,\n",
       "       4.25306781, 0.90001643, 4.93082116, 2.04272677, 1.05099608,\n",
       "       3.12272811, 0.86447696, 1.11249857, 1.28553863, 3.97152334,\n",
       "       2.51354881, 0.9230718 , 3.5092398 , 5.7493807 , 3.88290919,\n",
       "       1.28823531, 0.52347883, 3.40178126, 1.71263301, 5.40567325,\n",
       "       5.48008387, 3.5060334 , 0.12893439, 3.62956429, 3.1871834 ,\n",
       "       5.1124717 , 5.76042744, 0.53938707, 4.00964897, 0.81490551,\n",
       "       1.43501417, 0.95573941, 1.03972361, 1.80383475, 0.81202326,\n",
       "       4.01600263, 0.49916584, 0.12263957, 0.7328145 , 0.97013056,\n",
       "       0.1779444 , 4.41748698, 4.62836272, 2.80674574, 2.40822966,\n",
       "       0.47446431, 4.45227405, 0.3928129 , 2.92658068, 1.68676861,\n",
       "       2.00316707, 4.08540243, 3.10183261, 4.33781682, 5.67776083,\n",
       "       0.22512163, 5.32719045, 0.88943764, 3.61394705, 2.31820404,\n",
       "       0.23334578, 1.86624817, 2.42066747, 1.97214339, 2.1363897 ,\n",
       "       3.16120705, 2.85980719, 2.45723883, 2.35088964, 4.88677561,\n",
       "       4.30858904, 1.8728156 , 2.30218729, 2.73564588, 3.73682673,\n",
       "       4.63678774, 1.27165693, 5.49473265, 1.76171562, 3.52681717,\n",
       "       3.05807237, 0.61657401, 0.5628707 , 2.20672581, 3.15222799,\n",
       "       5.12266664, 3.27628076, 2.31817503, 4.84803699, 2.95770765,\n",
       "       1.05691826, 5.29210147, 1.35427724, 0.07037255, 4.76089276,\n",
       "       2.81839672, 4.70397933, 2.48282848, 1.73677882, 3.13839337,\n",
       "       5.61641027, 2.27645661, 0.85294824, 3.22715051, 0.42745409,\n",
       "       3.46895038, 5.80190663, 3.35300381, 1.17214328, 4.59130583,\n",
       "       2.65856887, 0.87397088, 5.02827907, 0.30072541, 4.92145368,\n",
       "       4.15567678, 2.14296507, 5.46944802, 2.02287649, 1.53820819,\n",
       "       4.72899411, 0.22355442, 3.54139998, 3.0422367 , 2.59112266,\n",
       "       0.0802243 , 0.59307048, 0.37632389, 2.35743214, 5.70866355,\n",
       "       4.17647069, 4.85242256, 5.05537508, 2.29893668, 1.37238089,\n",
       "       5.4186477 , 3.37301809, 2.01616186, 0.78050819, 0.65079216,\n",
       "       5.98786233, 0.77785902, 4.74338026, 4.92339311, 4.38529644,\n",
       "       1.34040472, 5.38241395, 3.38204726, 3.87306236, 3.66216143,\n",
       "       3.71706619, 5.01490236, 4.22555107, 3.72515027, 0.79461077,\n",
       "       1.89942568, 2.08006961, 4.51057253, 3.01919819, 1.88663786,\n",
       "       3.08590551, 3.09893999, 4.20531736, 0.94263744, 0.77013006,\n",
       "       2.23521788, 4.76004467, 0.03297129, 1.07163189, 0.63431653,\n",
       "       5.58366847, 5.10004694, 1.20544719, 1.07955519, 3.28303865,\n",
       "       3.95656351, 0.38912636, 5.77434407, 4.09137072, 5.9078951 ,\n",
       "       3.26434964, 2.726089  , 5.49598901, 0.59707601, 5.38626941,\n",
       "       0.65365465, 2.32268222, 0.49102644, 4.7302782 , 4.92839516,\n",
       "       5.57644494, 1.41497937, 5.24488505, 2.03659898, 0.1074964 ,\n",
       "       1.16468972, 4.87415911, 1.36992206, 0.65340333, 3.27218283,\n",
       "       0.75188209, 2.97759037, 4.3798368 , 0.40271438, 1.76973224,\n",
       "       1.6689633 , 4.02684151, 0.45337111, 5.51495134, 3.448748  ,\n",
       "       5.20300724, 2.06083977, 0.22313843, 4.09119816, 3.07428094,\n",
       "       2.26473967, 5.35709646, 2.29177957, 2.60031827, 5.98311555,\n",
       "       2.68416187, 5.78077259, 2.24144921, 5.63863777, 4.32581114,\n",
       "       3.6213808 , 0.98193484, 3.45543109, 5.47697078, 4.55622339,\n",
       "       4.08500147, 0.11218561, 0.39720936, 2.79424462, 1.46032133,\n",
       "       3.24822673, 5.57354142, 5.35601288, 1.88409018, 3.73043684,\n",
       "       3.65956875, 0.64074828, 1.14532405, 0.39646277, 5.10504222,\n",
       "       3.1911583 , 1.13303304, 1.93929188, 4.33846458, 0.17991337,\n",
       "       3.0833272 , 4.88646953, 5.61027439, 2.54059221, 3.27380647,\n",
       "       4.94226632, 3.62545   , 4.5461122 , 2.38959058, 2.3842857 ,\n",
       "       0.14614258, 2.52937141, 2.41460627, 0.43894061, 3.3320574 ,\n",
       "       5.48435705, 1.68398102, 3.51100779, 3.77670413, 5.46579373,\n",
       "       5.85306187, 3.08604607, 4.56201607, 5.43716224, 5.16817269,\n",
       "       0.44444746, 4.08235677, 1.17441897, 1.81589277, 5.41314691,\n",
       "       2.07214066, 0.88994032, 4.78452697, 4.57218235, 4.82737311,\n",
       "       3.45428571, 2.74856307, 5.52387156, 5.43667195, 3.98492119,\n",
       "       0.90733393, 1.54618515, 2.65928879, 3.16643245, 3.17533333,\n",
       "       3.90758956, 3.08061409, 5.14629865, 5.11891201, 0.23172733,\n",
       "       0.69710594, 1.25615527, 3.16027043, 4.81069964, 1.69358985,\n",
       "       1.69750803, 5.92074311, 3.42393261, 2.77574676, 1.41670951,\n",
       "       3.69161994, 5.3915703 , 1.46450204, 3.15081164, 0.24917503,\n",
       "       4.89796616, 5.35504778, 0.63545913, 5.6516464 , 2.57343548,\n",
       "       1.27339386, 2.58090836, 2.3997846 , 0.07659415, 3.40309291,\n",
       "       5.92983011, 1.03231014, 5.03974844, 2.94274598, 3.77926196,\n",
       "       1.69754972, 0.16784251, 1.75965391, 4.92351633, 2.82718119,\n",
       "       5.95389476, 1.03413838, 2.00401874, 5.98675745, 2.36303142,\n",
       "       4.9838952 , 1.95463161, 5.93922271, 4.47219497, 4.5682197 ,\n",
       "       2.07106826, 0.52531321, 1.29888509, 2.88457682, 5.89945478,\n",
       "       0.23339932, 1.56127994, 2.74062175, 2.05966908, 2.63375804,\n",
       "       5.37224827, 2.03155945, 0.63830851, 3.07114509, 3.68920411,\n",
       "       2.64617904, 4.68807292, 3.39440027, 1.13081021, 4.80874211,\n",
       "       2.30686915, 0.28831141, 2.32427396, 4.53992863, 5.82268347,\n",
       "       5.39236516, 3.77852271, 2.87933638, 4.41932088, 1.92891228,\n",
       "       0.28103544, 5.024855  , 2.04872648, 3.27894609, 5.65073075,\n",
       "       3.70263171, 3.86767027, 3.36716946, 0.31052246, 1.58328878,\n",
       "       1.32776466, 3.12592272, 5.84281426, 1.70903242, 4.50369814,\n",
       "       4.62232803, 1.7227867 , 0.18033764, 2.6075137 , 1.36710342,\n",
       "       5.5045562 , 0.16191756, 3.1751573 , 5.58556093, 5.94767938,\n",
       "       5.39052918, 2.41482521, 1.22194156, 3.89369989, 2.9603233 ,\n",
       "       2.10439806, 5.3191069 , 0.84832633, 3.91381681, 0.3610425 ,\n",
       "       3.397104  , 5.40835497, 0.17334843, 3.93766282, 0.63649726,\n",
       "       5.70390307, 4.71786445, 5.48881025, 3.38453558, 5.14129878,\n",
       "       3.51729345, 4.97632785, 1.64243962, 1.36478254, 2.00183933,\n",
       "       5.63675521, 5.75542857, 2.25371361, 1.10741596, 3.73131328,\n",
       "       1.677194  , 2.30825962, 3.93672692, 4.10484275, 1.25234005,\n",
       "       4.89493762, 0.35917001, 1.28924242, 3.35727555, 3.07228583,\n",
       "       3.60172962, 2.44063765, 2.88263858, 0.44817042, 4.55095036,\n",
       "       0.61002268, 3.82768187, 2.18721446, 2.31711946, 0.71400163])"
      ]
     },
     "execution_count": 8,
     "metadata": {},
     "output_type": "execute_result"
    }
   ],
   "source": [
    "x"
   ]
  },
  {
   "cell_type": "code",
   "execution_count": 9,
   "id": "b7ee8813-a35e-4fef-9b68-cb134c197144",
   "metadata": {
    "tags": []
   },
   "outputs": [
    {
     "data": {
      "text/plain": [
       "(array([ 93., 109.,  99., 111.,  86., 108.,  94.,  80., 105., 115.]),\n",
       " array([0.00966464, 0.6078229 , 1.20598117, 1.80413943, 2.4022977 ,\n",
       "        3.00045596, 3.59861423, 4.1967725 , 4.79493076, 5.39308903,\n",
       "        5.99124729]),\n",
       " <BarContainer object of 10 artists>)"
      ]
     },
     "execution_count": 9,
     "metadata": {},
     "output_type": "execute_result"
    },
    {
     "data": {
      "image/png": "[encoded data removed]",
      "text/plain": [
       "<Figure size 640x480 with 1 Axes>"
      ]
     },
     "metadata": {},
     "output_type": "display_data"
    }
   ],
   "source": [
    "plt.hist(x)"
   ]
  },
  {
   "cell_type": "code",
   "execution_count": 10,
   "id": "c0d6f3da-5686-4f70-a89e-0a0edc91c5cf",
   "metadata": {
    "tags": []
   },
   "outputs": [
    {
     "data": {
      "text/plain": [
       "2.8072012922696437"
      ]
     },
     "execution_count": 10,
     "metadata": {},
     "output_type": "execute_result"
    }
   ],
   "source": [
    "np.mean(np.random.choice(x, 30))"
   ]
  },
  {
   "cell_type": "code",
   "execution_count": 13,
   "id": "09a421c2-0039-4cad-bc65-41448c221dc8",
   "metadata": {
    "tags": []
   },
   "outputs": [
    {
     "data": {
      "text/plain": [
       "(array([ 1.,  1.,  3.,  1.,  8., 13., 20., 18., 23., 42., 42., 48., 74.,\n",
       "        65., 75., 66., 85., 78., 69., 76., 44., 41., 28., 23., 21., 10.,\n",
       "        11.,  7.,  4.,  3.]),\n",
       " array([1.99200697, 2.05550479, 2.11900261, 2.18250043, 2.24599826,\n",
       "        2.30949608, 2.3729939 , 2.43649172, 2.49998954, 2.56348737,\n",
       "        2.62698519, 2.69048301, 2.75398083, 2.81747866, 2.88097648,\n",
       "        2.9444743 , 3.00797212, 3.07146994, 3.13496777, 3.19846559,\n",
       "        3.26196341, 3.32546123, 3.38895906, 3.45245688, 3.5159547 ,\n",
       "        3.57945252, 3.64295035, 3.70644817, 3.76994599, 3.83344381,\n",
       "        3.89694163]),\n",
       " <BarContainer object of 30 artists>)"
      ]
     },
     "execution_count": 13,
     "metadata": {},
     "output_type": "execute_result"
    },
    {
     "data": {
      "image/png": "[encoded data removed]",
      "text/plain": [
       "<Figure size 640x480 with 1 Axes>"
      ]
     },
     "metadata": {},
     "output_type": "display_data"
    }
   ],
   "source": [
    "x_sample = []\n",
    "for _ in range(1000):\n",
    "    x_sample.append(np.mean(np.random.choice(x, 30)))\n",
    "plt.hist(x_sample, bins=30)"
   ]
  },
  {
   "cell_type": "code",
   "execution_count": 14,
   "id": "9eaa841b-0d2e-4aa1-a745-da8da79e09bf",
   "metadata": {
    "tags": []
   },
   "outputs": [
    {
     "data": {
      "text/plain": [
       "(array([277., 117.,  75.,  61.,  50.,  40.,  30.,  22.,  39.,  28.,  19.,\n",
       "         14.,  18.,  17.,  19.,  15.,  13.,  12.,  12.,   8.,  11.,   8.,\n",
       "          9.,   5.,   5.,  10.,   4.,   5.,  10.,   8.,   4.,   1.,   0.,\n",
       "          3.,   1.,   1.,   2.,   3.,   1.,   1.,   0.,   1.,   2.,   0.,\n",
       "          0.,   2.,   2.,   0.,   1.,   1.,   1.,   1.,   0.,   2.,   2.,\n",
       "          1.,   0.,   3.,   0.,   0.,   0.,   0.,   0.,   1.,   0.,   0.,\n",
       "          0.,   0.,   0.,   0.,   0.,   0.,   0.,   0.,   0.,   0.,   0.,\n",
       "          0.,   0.,   0.,   0.,   0.,   0.,   0.,   0.,   0.,   0.,   0.,\n",
       "          0.,   1.,   0.,   0.,   0.,   0.,   0.,   0.,   0.,   0.,   0.,\n",
       "          1.]),\n",
       " array([5.04141458e-06, 1.23778849e-01, 2.47552656e-01, 3.71326463e-01,\n",
       "        4.95100271e-01, 6.18874078e-01, 7.42647885e-01, 8.66421693e-01,\n",
       "        9.90195500e-01, 1.11396931e+00, 1.23774311e+00, 1.36151692e+00,\n",
       "        1.48529073e+00, 1.60906454e+00, 1.73283834e+00, 1.85661215e+00,\n",
       "        1.98038596e+00, 2.10415977e+00, 2.22793357e+00, 2.35170738e+00,\n",
       "        2.47548119e+00, 2.59925500e+00, 2.72302880e+00, 2.84680261e+00,\n",
       "        2.97057642e+00, 3.09435022e+00, 3.21812403e+00, 3.34189784e+00,\n",
       "        3.46567165e+00, 3.58944545e+00, 3.71321926e+00, 3.83699307e+00,\n",
       "        3.96076688e+00, 4.08454068e+00, 4.20831449e+00, 4.33208830e+00,\n",
       "        4.45586211e+00, 4.57963591e+00, 4.70340972e+00, 4.82718353e+00,\n",
       "        4.95095734e+00, 5.07473114e+00, 5.19850495e+00, 5.32227876e+00,\n",
       "        5.44605256e+00, 5.56982637e+00, 5.69360018e+00, 5.81737399e+00,\n",
       "        5.94114779e+00, 6.06492160e+00, 6.18869541e+00, 6.31246922e+00,\n",
       "        6.43624302e+00, 6.56001683e+00, 6.68379064e+00, 6.80756445e+00,\n",
       "        6.93133825e+00, 7.05511206e+00, 7.17888587e+00, 7.30265967e+00,\n",
       "        7.42643348e+00, 7.55020729e+00, 7.67398110e+00, 7.79775490e+00,\n",
       "        7.92152871e+00, 8.04530252e+00, 8.16907633e+00, 8.29285013e+00,\n",
       "        8.41662394e+00, 8.54039775e+00, 8.66417156e+00, 8.78794536e+00,\n",
       "        8.91171917e+00, 9.03549298e+00, 9.15926678e+00, 9.28304059e+00,\n",
       "        9.40681440e+00, 9.53058821e+00, 9.65436201e+00, 9.77813582e+00,\n",
       "        9.90190963e+00, 1.00256834e+01, 1.01494572e+01, 1.02732311e+01,\n",
       "        1.03970049e+01, 1.05207787e+01, 1.06445525e+01, 1.07683263e+01,\n",
       "        1.08921001e+01, 1.10158739e+01, 1.11396477e+01, 1.12634215e+01,\n",
       "        1.13871953e+01, 1.15109691e+01, 1.16347429e+01, 1.17585167e+01,\n",
       "        1.18822905e+01, 1.20060644e+01, 1.21298382e+01, 1.22536120e+01,\n",
       "        1.23773858e+01]),\n",
       " <BarContainer object of 100 artists>)"
      ]
     },
     "execution_count": 14,
     "metadata": {},
     "output_type": "execute_result"
    },
    {
     "data": {
      "image/png": "[encoded data removed]",
      "text/plain": [
       "<Figure size 640x480 with 1 Axes>"
      ]
     },
     "metadata": {},
     "output_type": "display_data"
    }
   ],
   "source": [
    "x1 = np.random.chisquare(1, 1000)\n",
    "plt.hist(x1, bins = 100)"
   ]
  },
  {
   "cell_type": "markdown",
   "id": "f58b6c26-1b2e-4135-88a1-bc836c63da97",
   "metadata": {},
   "source": [
    "추론 통계\n",
    "추측하는 것\n",
    "- 근거, 가능도(확률이라고 말하지 않음)\n",
    "가설 검정을 통해 나와야 하며 확률분포를 통해 정규분포를 뽑아낸다.\n",
    "신뢰구간에 있을 가능성이 있다고 정리를 한다.\n",
    "\n",
    "\n",
    "통계적 추론\n",
    "1. 임의의 모집단 모수에 대하여 95%확률로 관측통계량이 그 안에 놓여 있기를 기대하는 구간을 확률을 통해 판단\n",
    "2. 통계량을 관측\n",
    "3. 통계량이 95% 예측 구간안에 놓일 수 있는 모수의 범위를 산출한다. 이 범위는 95%신뢰구간(confidence interval)이라고 부른다.\n",
    "4. 반복 적용할 때 그런 구간들의 95%가 참값을 포함해야 하기 때문에 결과로 나오는 이 신뢰구간을 95%라고 한다.\n",
    "95% 신뢰구간은 이 특정한 구간이 참값을 포함할 확률이 95%라는 뜻이 아님\n",
    "\n",
    "정규분포\n",
    "\n",
    "정규분포 = (표준편차 * 정규분포 데이터) + 평균\n"
   ]
  },
  {
   "cell_type": "code",
   "execution_count": 17,
   "id": "41385d4d-b332-484b-b04e-24ad38199f93",
   "metadata": {
    "tags": []
   },
   "outputs": [],
   "source": [
    "from sklearn import datasets"
   ]
  },
  {
   "cell_type": "code",
   "execution_count": 19,
   "id": "8a946697-975c-486e-b0e5-defd7a6631cc",
   "metadata": {
    "tags": []
   },
   "outputs": [
    {
     "data": {
      "text/plain": [
       "array([[5.1, 3.5, 1.4, 0.2],\n",
       "       [4.9, 3. , 1.4, 0.2],\n",
       "       [4.7, 3.2, 1.3, 0.2],\n",
       "       [4.6, 3.1, 1.5, 0.2],\n",
       "       [5. , 3.6, 1.4, 0.2]])"
      ]
     },
     "execution_count": 19,
     "metadata": {},
     "output_type": "execute_result"
    }
   ],
   "source": [
    "datasets.load_iris().data[:5]"
   ]
  },
  {
   "cell_type": "code",
   "execution_count": 20,
   "id": "632ae2d3-d4a8-4d81-b91c-2c383070ca3a",
   "metadata": {
    "tags": []
   },
   "outputs": [
    {
     "data": {
      "text/plain": [
       "array([0, 0, 0, 0, 0])"
      ]
     },
     "execution_count": 20,
     "metadata": {},
     "output_type": "execute_result"
    }
   ],
   "source": [
    "datasets.load_iris().target[:5]"
   ]
  },
  {
   "cell_type": "code",
   "execution_count": 21,
   "id": "9f3fe7da-e914-43ae-8fad-512041de7217",
   "metadata": {
    "tags": []
   },
   "outputs": [],
   "source": [
    "X = datasets.load_iris().data[:,:2]"
   ]
  },
  {
   "cell_type": "code",
   "execution_count": 22,
   "id": "12f96113-cec9-4d29-86e4-82a256c97709",
   "metadata": {
    "tags": []
   },
   "outputs": [],
   "source": [
    "y = datasets.load_iris().data[:,2]"
   ]
  },
  {
   "cell_type": "code",
   "execution_count": 26,
   "id": "8d3c37fd-038c-4b4a-93f5-0d250010d33c",
   "metadata": {
    "tags": []
   },
   "outputs": [],
   "source": [
    "from sklearn.linear_model import LinearRegression\n",
    "from sklearn.metrics import r2_score"
   ]
  },
  {
   "cell_type": "code",
   "execution_count": 24,
   "id": "93446d07-f5a4-4fd4-8a7f-a47abf1def91",
   "metadata": {
    "tags": []
   },
   "outputs": [],
   "source": [
    "lm_model = LinearRegression()"
   ]
  },
  {
   "cell_type": "code",
   "execution_count": 25,
   "id": "879a4a00-2b11-4935-8f26-1a8dc14a70f1",
   "metadata": {
    "tags": []
   },
   "outputs": [
    {
     "data": {
      "text/html": [
       "<style>#sk-container-id-1 {color: black;}#sk-container-id-1 pre{padding: 0;}#sk-container-id-1 div.sk-toggleable {background-color: white;}#sk-container-id-1 label.sk-toggleable__label {cursor: pointer;display: block;width: 100%;margin-bottom: 0;padding: 0.3em;box-sizing: border-box;text-align: center;}#sk-container-id-1 label.sk-toggleable__label-arrow:before {content: \"▸\";float: left;margin-right: 0.25em;color: #696969;}#sk-container-id-1 label.sk-toggleable__label-arrow:hover:before {color: black;}#sk-container-id-1 div.sk-estimator:hover label.sk-toggleable__label-arrow:before {color: black;}#sk-container-id-1 div.sk-toggleable__content {max-height: 0;max-width: 0;overflow: hidden;text-align: left;background-color: #f0f8ff;}#sk-container-id-1 div.sk-toggleable__content pre {margin: 0.2em;color: black;border-radius: 0.25em;background-color: #f0f8ff;}#sk-container-id-1 input.sk-toggleable__control:checked~div.sk-toggleable__content {max-height: 200px;max-width: 100%;overflow: auto;}#sk-container-id-1 input.sk-toggleable__control:checked~label.sk-toggleable__label-arrow:before {content: \"▾\";}#sk-container-id-1 div.sk-estimator input.sk-toggleable__control:checked~label.sk-toggleable__label {background-color: #d4ebff;}#sk-container-id-1 div.sk-label input.sk-toggleable__control:checked~label.sk-toggleable__label {background-color: #d4ebff;}#sk-container-id-1 input.sk-hidden--visually {border: 0;clip: rect(1px 1px 1px 1px);clip: rect(1px, 1px, 1px, 1px);height: 1px;margin: -1px;overflow: hidden;padding: 0;position: absolute;width: 1px;}#sk-container-id-1 div.sk-estimator {font-family: monospace;background-color: #f0f8ff;border: 1px dotted black;border-radius: 0.25em;box-sizing: border-box;margin-bottom: 0.5em;}#sk-container-id-1 div.sk-estimator:hover {background-color: #d4ebff;}#sk-container-id-1 div.sk-parallel-item::after {content: \"\";width: 100%;border-bottom: 1px solid gray;flex-grow: 1;}#sk-container-id-1 div.sk-label:hover label.sk-toggleable__label {background-color: #d4ebff;}#sk-container-id-1 div.sk-serial::before {content: \"\";position: absolute;border-left: 1px solid gray;box-sizing: border-box;top: 0;bottom: 0;left: 50%;z-index: 0;}#sk-container-id-1 div.sk-serial {display: flex;flex-direction: column;align-items: center;background-color: white;padding-right: 0.2em;padding-left: 0.2em;position: relative;}#sk-container-id-1 div.sk-item {position: relative;z-index: 1;}#sk-container-id-1 div.sk-parallel {display: flex;align-items: stretch;justify-content: center;background-color: white;position: relative;}#sk-container-id-1 div.sk-item::before, #sk-container-id-1 div.sk-parallel-item::before {content: \"\";position: absolute;border-left: 1px solid gray;box-sizing: border-box;top: 0;bottom: 0;left: 50%;z-index: -1;}#sk-container-id-1 div.sk-parallel-item {display: flex;flex-direction: column;z-index: 1;position: relative;background-color: white;}#sk-container-id-1 div.sk-parallel-item:first-child::after {align-self: flex-end;width: 50%;}#sk-container-id-1 div.sk-parallel-item:last-child::after {align-self: flex-start;width: 50%;}#sk-container-id-1 div.sk-parallel-item:only-child::after {width: 0;}#sk-container-id-1 div.sk-dashed-wrapped {border: 1px dashed gray;margin: 0 0.4em 0.5em 0.4em;box-sizing: border-box;padding-bottom: 0.4em;background-color: white;}#sk-container-id-1 div.sk-label label {font-family: monospace;font-weight: bold;display: inline-block;line-height: 1.2em;}#sk-container-id-1 div.sk-label-container {text-align: center;}#sk-container-id-1 div.sk-container {/* jupyter's `normalize.less` sets `[hidden] { display: none; }` but bootstrap.min.css set `[hidden] { display: none !important; }` so we also need the `!important` here to be able to override the default hidden behavior on the sphinx rendered scikit-learn.org. See: https://github.com/scikit-learn/scikit-learn/issues/21755 */display: inline-block !important;position: relative;}#sk-container-id-1 div.sk-text-repr-fallback {display: none;}</style><div id=\"sk-container-id-1\" class=\"sk-top-container\"><div class=\"sk-text-repr-fallback\"><pre>LinearRegression()</pre><b>In a Jupyter environment, please rerun this cell to show the HTML representation or trust the notebook. <br />On GitHub, the HTML representation is unable to render, please try loading this page with nbviewer.org.</b></div><div class=\"sk-container\" hidden><div class=\"sk-item\"><div class=\"sk-estimator sk-toggleable\"><input class=\"sk-toggleable__control sk-hidden--visually\" id=\"sk-estimator-id-1\" type=\"checkbox\" checked><label for=\"sk-estimator-id-1\" class=\"sk-toggleable__label sk-toggleable__label-arrow\">LinearRegression</label><div class=\"sk-toggleable__content\"><pre>LinearRegression()</pre></div></div></div></div></div>"
      ],
      "text/plain": [
       "LinearRegression()"
      ]
     },
     "execution_count": 25,
     "metadata": {},
     "output_type": "execute_result"
    }
   ],
   "source": [
    "lm_model.fit(X, y)"
   ]
  },
  {
   "cell_type": "code",
   "execution_count": 28,
   "id": "ef8281a6-d915-4ee1-8022-797695c385b8",
   "metadata": {
    "tags": []
   },
   "outputs": [],
   "source": [
    "y_pred = lm_model.predict(X)"
   ]
  },
  {
   "cell_type": "code",
   "execution_count": 29,
   "id": "7fd6f2c7-574e-42d0-b236-939f33c6e081",
   "metadata": {
    "tags": []
   },
   "outputs": [
    {
     "data": {
      "text/plain": [
       "0.8676860089345194"
      ]
     },
     "execution_count": 29,
     "metadata": {},
     "output_type": "execute_result"
    }
   ],
   "source": [
    "r2_score(y,y_pred) "
   ]
  },
  {
   "cell_type": "code",
   "execution_count": 48,
   "id": "d3c0d58c-8ee4-4dfb-9635-635a9d537977",
   "metadata": {
    "tags": []
   },
   "outputs": [],
   "source": [
    "from sklearn.tree import DecisionTreeRegressor\n",
    "from sklearn.model_selection import train_test_split"
   ]
  },
  {
   "cell_type": "code",
   "execution_count": 49,
   "id": "6f82e560-d5f6-4d87-94c6-80c8e701beb0",
   "metadata": {
    "tags": []
   },
   "outputs": [],
   "source": [
    "dt_model = DecisionTreeRegressor()"
   ]
  },
  {
   "cell_type": "code",
   "execution_count": 50,
   "id": "2877d830-0511-4dc4-8863-c27a0d7461b5",
   "metadata": {
    "tags": []
   },
   "outputs": [
    {
     "data": {
      "text/html": [
       "<style>#sk-container-id-5 {color: black;}#sk-container-id-5 pre{padding: 0;}#sk-container-id-5 div.sk-toggleable {background-color: white;}#sk-container-id-5 label.sk-toggleable__label {cursor: pointer;display: block;width: 100%;margin-bottom: 0;padding: 0.3em;box-sizing: border-box;text-align: center;}#sk-container-id-5 label.sk-toggleable__label-arrow:before {content: \"▸\";float: left;margin-right: 0.25em;color: #696969;}#sk-container-id-5 label.sk-toggleable__label-arrow:hover:before {color: black;}#sk-container-id-5 div.sk-estimator:hover label.sk-toggleable__label-arrow:before {color: black;}#sk-container-id-5 div.sk-toggleable__content {max-height: 0;max-width: 0;overflow: hidden;text-align: left;background-color: #f0f8ff;}#sk-container-id-5 div.sk-toggleable__content pre {margin: 0.2em;color: black;border-radius: 0.25em;background-color: #f0f8ff;}#sk-container-id-5 input.sk-toggleable__control:checked~div.sk-toggleable__content {max-height: 200px;max-width: 100%;overflow: auto;}#sk-container-id-5 input.sk-toggleable__control:checked~label.sk-toggleable__label-arrow:before {content: \"▾\";}#sk-container-id-5 div.sk-estimator input.sk-toggleable__control:checked~label.sk-toggleable__label {background-color: #d4ebff;}#sk-container-id-5 div.sk-label input.sk-toggleable__control:checked~label.sk-toggleable__label {background-color: #d4ebff;}#sk-container-id-5 input.sk-hidden--visually {border: 0;clip: rect(1px 1px 1px 1px);clip: rect(1px, 1px, 1px, 1px);height: 1px;margin: -1px;overflow: hidden;padding: 0;position: absolute;width: 1px;}#sk-container-id-5 div.sk-estimator {font-family: monospace;background-color: #f0f8ff;border: 1px dotted black;border-radius: 0.25em;box-sizing: border-box;margin-bottom: 0.5em;}#sk-container-id-5 div.sk-estimator:hover {background-color: #d4ebff;}#sk-container-id-5 div.sk-parallel-item::after {content: \"\";width: 100%;border-bottom: 1px solid gray;flex-grow: 1;}#sk-container-id-5 div.sk-label:hover label.sk-toggleable__label {background-color: #d4ebff;}#sk-container-id-5 div.sk-serial::before {content: \"\";position: absolute;border-left: 1px solid gray;box-sizing: border-box;top: 0;bottom: 0;left: 50%;z-index: 0;}#sk-container-id-5 div.sk-serial {display: flex;flex-direction: column;align-items: center;background-color: white;padding-right: 0.2em;padding-left: 0.2em;position: relative;}#sk-container-id-5 div.sk-item {position: relative;z-index: 1;}#sk-container-id-5 div.sk-parallel {display: flex;align-items: stretch;justify-content: center;background-color: white;position: relative;}#sk-container-id-5 div.sk-item::before, #sk-container-id-5 div.sk-parallel-item::before {content: \"\";position: absolute;border-left: 1px solid gray;box-sizing: border-box;top: 0;bottom: 0;left: 50%;z-index: -1;}#sk-container-id-5 div.sk-parallel-item {display: flex;flex-direction: column;z-index: 1;position: relative;background-color: white;}#sk-container-id-5 div.sk-parallel-item:first-child::after {align-self: flex-end;width: 50%;}#sk-container-id-5 div.sk-parallel-item:last-child::after {align-self: flex-start;width: 50%;}#sk-container-id-5 div.sk-parallel-item:only-child::after {width: 0;}#sk-container-id-5 div.sk-dashed-wrapped {border: 1px dashed gray;margin: 0 0.4em 0.5em 0.4em;box-sizing: border-box;padding-bottom: 0.4em;background-color: white;}#sk-container-id-5 div.sk-label label {font-family: monospace;font-weight: bold;display: inline-block;line-height: 1.2em;}#sk-container-id-5 div.sk-label-container {text-align: center;}#sk-container-id-5 div.sk-container {/* jupyter's `normalize.less` sets `[hidden] { display: none; }` but bootstrap.min.css set `[hidden] { display: none !important; }` so we also need the `!important` here to be able to override the default hidden behavior on the sphinx rendered scikit-learn.org. See: https://github.com/scikit-learn/scikit-learn/issues/21755 */display: inline-block !important;position: relative;}#sk-container-id-5 div.sk-text-repr-fallback {display: none;}</style><div id=\"sk-container-id-5\" class=\"sk-top-container\"><div class=\"sk-text-repr-fallback\"><pre>DecisionTreeRegressor()</pre><b>In a Jupyter environment, please rerun this cell to show the HTML representation or trust the notebook. <br />On GitHub, the HTML representation is unable to render, please try loading this page with nbviewer.org.</b></div><div class=\"sk-container\" hidden><div class=\"sk-item\"><div class=\"sk-estimator sk-toggleable\"><input class=\"sk-toggleable__control sk-hidden--visually\" id=\"sk-estimator-id-5\" type=\"checkbox\" checked><label for=\"sk-estimator-id-5\" class=\"sk-toggleable__label sk-toggleable__label-arrow\">DecisionTreeRegressor</label><div class=\"sk-toggleable__content\"><pre>DecisionTreeRegressor()</pre></div></div></div></div></div>"
      ],
      "text/plain": [
       "DecisionTreeRegressor()"
      ]
     },
     "execution_count": 50,
     "metadata": {},
     "output_type": "execute_result"
    }
   ],
   "source": [
    "dt_model.fit(X, y)"
   ]
  },
  {
   "cell_type": "code",
   "execution_count": 51,
   "id": "7750754d-f235-4bb7-8607-fb289100df77",
   "metadata": {
    "tags": []
   },
   "outputs": [
    {
     "data": {
      "text/plain": [
       "0.9888153150068177"
      ]
     },
     "execution_count": 51,
     "metadata": {},
     "output_type": "execute_result"
    }
   ],
   "source": [
    "r2_score(y, dt_model.predict(X))"
   ]
  },
  {
   "cell_type": "code",
   "execution_count": 52,
   "id": "5aee2cd7-c9ca-4a07-9b22-b0b1bb5144d3",
   "metadata": {
    "tags": []
   },
   "outputs": [],
   "source": [
    "from sklearn.tree import DecisionTreeRegressor\n",
    "from sklearn.linear_model import LinearRegression\n",
    "from sklearn.model_selection import train_test_split"
   ]
  },
  {
   "cell_type": "code",
   "execution_count": 53,
   "id": "37632e3c-e987-42a9-a705-61710898cde0",
   "metadata": {
    "tags": []
   },
   "outputs": [],
   "source": [
    "X_train, X_test, y_train, y_test = train_test_split(X, y)"
   ]
  },
  {
   "cell_type": "code",
   "execution_count": 54,
   "id": "e23449e4-e75c-49b3-bab4-4c17a9331a27",
   "metadata": {
    "tags": []
   },
   "outputs": [],
   "source": [
    "lm_model = LinearRegression()\n",
    "dt_model = DecisionTreeRegressor()"
   ]
  },
  {
   "cell_type": "code",
   "execution_count": 55,
   "id": "d5e6740e-a197-4630-83f9-faf8a52a8df9",
   "metadata": {
    "tags": []
   },
   "outputs": [
    {
     "data": {
      "text/html": [
       "<style>#sk-container-id-6 {color: black;}#sk-container-id-6 pre{padding: 0;}#sk-container-id-6 div.sk-toggleable {background-color: white;}#sk-container-id-6 label.sk-toggleable__label {cursor: pointer;display: block;width: 100%;margin-bottom: 0;padding: 0.3em;box-sizing: border-box;text-align: center;}#sk-container-id-6 label.sk-toggleable__label-arrow:before {content: \"▸\";float: left;margin-right: 0.25em;color: #696969;}#sk-container-id-6 label.sk-toggleable__label-arrow:hover:before {color: black;}#sk-container-id-6 div.sk-estimator:hover label.sk-toggleable__label-arrow:before {color: black;}#sk-container-id-6 div.sk-toggleable__content {max-height: 0;max-width: 0;overflow: hidden;text-align: left;background-color: #f0f8ff;}#sk-container-id-6 div.sk-toggleable__content pre {margin: 0.2em;color: black;border-radius: 0.25em;background-color: #f0f8ff;}#sk-container-id-6 input.sk-toggleable__control:checked~div.sk-toggleable__content {max-height: 200px;max-width: 100%;overflow: auto;}#sk-container-id-6 input.sk-toggleable__control:checked~label.sk-toggleable__label-arrow:before {content: \"▾\";}#sk-container-id-6 div.sk-estimator input.sk-toggleable__control:checked~label.sk-toggleable__label {background-color: #d4ebff;}#sk-container-id-6 div.sk-label input.sk-toggleable__control:checked~label.sk-toggleable__label {background-color: #d4ebff;}#sk-container-id-6 input.sk-hidden--visually {border: 0;clip: rect(1px 1px 1px 1px);clip: rect(1px, 1px, 1px, 1px);height: 1px;margin: -1px;overflow: hidden;padding: 0;position: absolute;width: 1px;}#sk-container-id-6 div.sk-estimator {font-family: monospace;background-color: #f0f8ff;border: 1px dotted black;border-radius: 0.25em;box-sizing: border-box;margin-bottom: 0.5em;}#sk-container-id-6 div.sk-estimator:hover {background-color: #d4ebff;}#sk-container-id-6 div.sk-parallel-item::after {content: \"\";width: 100%;border-bottom: 1px solid gray;flex-grow: 1;}#sk-container-id-6 div.sk-label:hover label.sk-toggleable__label {background-color: #d4ebff;}#sk-container-id-6 div.sk-serial::before {content: \"\";position: absolute;border-left: 1px solid gray;box-sizing: border-box;top: 0;bottom: 0;left: 50%;z-index: 0;}#sk-container-id-6 div.sk-serial {display: flex;flex-direction: column;align-items: center;background-color: white;padding-right: 0.2em;padding-left: 0.2em;position: relative;}#sk-container-id-6 div.sk-item {position: relative;z-index: 1;}#sk-container-id-6 div.sk-parallel {display: flex;align-items: stretch;justify-content: center;background-color: white;position: relative;}#sk-container-id-6 div.sk-item::before, #sk-container-id-6 div.sk-parallel-item::before {content: \"\";position: absolute;border-left: 1px solid gray;box-sizing: border-box;top: 0;bottom: 0;left: 50%;z-index: -1;}#sk-container-id-6 div.sk-parallel-item {display: flex;flex-direction: column;z-index: 1;position: relative;background-color: white;}#sk-container-id-6 div.sk-parallel-item:first-child::after {align-self: flex-end;width: 50%;}#sk-container-id-6 div.sk-parallel-item:last-child::after {align-self: flex-start;width: 50%;}#sk-container-id-6 div.sk-parallel-item:only-child::after {width: 0;}#sk-container-id-6 div.sk-dashed-wrapped {border: 1px dashed gray;margin: 0 0.4em 0.5em 0.4em;box-sizing: border-box;padding-bottom: 0.4em;background-color: white;}#sk-container-id-6 div.sk-label label {font-family: monospace;font-weight: bold;display: inline-block;line-height: 1.2em;}#sk-container-id-6 div.sk-label-container {text-align: center;}#sk-container-id-6 div.sk-container {/* jupyter's `normalize.less` sets `[hidden] { display: none; }` but bootstrap.min.css set `[hidden] { display: none !important; }` so we also need the `!important` here to be able to override the default hidden behavior on the sphinx rendered scikit-learn.org. See: https://github.com/scikit-learn/scikit-learn/issues/21755 */display: inline-block !important;position: relative;}#sk-container-id-6 div.sk-text-repr-fallback {display: none;}</style><div id=\"sk-container-id-6\" class=\"sk-top-container\"><div class=\"sk-text-repr-fallback\"><pre>DecisionTreeRegressor()</pre><b>In a Jupyter environment, please rerun this cell to show the HTML representation or trust the notebook. <br />On GitHub, the HTML representation is unable to render, please try loading this page with nbviewer.org.</b></div><div class=\"sk-container\" hidden><div class=\"sk-item\"><div class=\"sk-estimator sk-toggleable\"><input class=\"sk-toggleable__control sk-hidden--visually\" id=\"sk-estimator-id-6\" type=\"checkbox\" checked><label for=\"sk-estimator-id-6\" class=\"sk-toggleable__label sk-toggleable__label-arrow\">DecisionTreeRegressor</label><div class=\"sk-toggleable__content\"><pre>DecisionTreeRegressor()</pre></div></div></div></div></div>"
      ],
      "text/plain": [
       "DecisionTreeRegressor()"
      ]
     },
     "execution_count": 55,
     "metadata": {},
     "output_type": "execute_result"
    }
   ],
   "source": [
    "lm_model.fit(X_train, y_train)\n",
    "dt_model.fit(X_train, y_train)"
   ]
  },
  {
   "cell_type": "code",
   "execution_count": 57,
   "id": "5bac0f01-44a6-4774-8d85-4e925e35e5f6",
   "metadata": {
    "tags": []
   },
   "outputs": [
    {
     "name": "stdout",
     "output_type": "stream",
     "text": [
      "lm_model : 0.834013678423684\n",
      "dt_model : 0.6979948376388175\n"
     ]
    }
   ],
   "source": [
    "print(f\"lm_model : {r2_score(y_test, lm_model.predict(X_test))}\")\n",
    "print(f\"dt_model : {r2_score(y_test, dt_model.predict(X_test))}\")"
   ]
  },
  {
   "cell_type": "code",
   "execution_count": 60,
   "id": "2945ae03-12ee-402e-99fb-2d94ac21fc30",
   "metadata": {
    "tags": []
   },
   "outputs": [
    {
     "data": {
      "text/plain": [
       "0.8665049575851498"
      ]
     },
     "execution_count": 60,
     "metadata": {},
     "output_type": "execute_result"
    }
   ],
   "source": [
    "# SSE(편차) / SST\n",
    "1-np.sum(np.square(y-lm_model.predict(X))/np.sum(np.square(y-y.mean())))\n"
   ]
  },
  {
   "cell_type": "code",
   "execution_count": 72,
   "id": "bfa12e59-1990-4dfc-b526-86f4ff8c64d9",
   "metadata": {
    "tags": []
   },
   "outputs": [],
   "source": [
    "W = np.random.randn(2).reshape(2, 1)\n",
    "b = 0\n",
    "learning_rate = 1e-4\n",
    "for _ in range(10000):\n",
    "    y_hat = np.dot(X, W) + b\n",
    "    W -= 2*np.dot(X.T,(y_hat-y.reshape(-1, 1)))*learning_rate\n",
    "    b -= np.mean(2*(y_hat-y.reshape(-1, 1)))*learning_rate"
   ]
  },
  {
   "cell_type": "code",
   "execution_count": 73,
   "id": "91404a37-fbcf-4af3-9d4f-d75dc88064c0",
   "metadata": {
    "tags": []
   },
   "outputs": [
    {
     "data": {
      "text/plain": [
       "0.8502403285094356"
      ]
     },
     "execution_count": 73,
     "metadata": {},
     "output_type": "execute_result"
    }
   ],
   "source": [
    "r2_score(y, (np.dot(X, W) + b))"
   ]
  },
  {
   "cell_type": "code",
   "execution_count": 74,
   "id": "5d2db598-4218-44d2-ab68-0dd7381b6a68",
   "metadata": {
    "tags": []
   },
   "outputs": [
    {
     "data": {
      "text/plain": [
       "(150, 150)"
      ]
     },
     "execution_count": 74,
     "metadata": {},
     "output_type": "execute_result"
    }
   ],
   "source": [
    "(y_hat-y).shape"
   ]
  },
  {
   "cell_type": "code",
   "execution_count": 75,
   "id": "8e896bf3-284b-4f4e-be99-0969e7b097ef",
   "metadata": {
    "tags": []
   },
   "outputs": [
    {
     "ename": "MemoryError",
     "evalue": "Unable to allocate 74.5 GiB for an array with shape (1000000, 10000) and data type float64",
     "output_type": "error",
     "traceback": [
      "\u001b[1;31m---------------------------------------------------------------------------\u001b[0m",
      "\u001b[1;31mMemoryError\u001b[0m                               Traceback (most recent call last)",
      "Cell \u001b[1;32mIn[75], line 1\u001b[0m\n\u001b[1;32m----> 1\u001b[0m X\u001b[38;5;241m=\u001b[39m \u001b[43mnp\u001b[49m\u001b[38;5;241;43m.\u001b[39;49m\u001b[43mzeros\u001b[49m\u001b[43m(\u001b[49m\u001b[43m(\u001b[49m\u001b[38;5;241;43m1_000_000\u001b[39;49m\u001b[43m,\u001b[49m\u001b[43m \u001b[49m\u001b[38;5;241;43m10_000\u001b[39;49m\u001b[43m)\u001b[49m\u001b[43m)\u001b[49m\n",
      "\u001b[1;31mMemoryError\u001b[0m: Unable to allocate 74.5 GiB for an array with shape (1000000, 10000) and data type float64"
     ]
    }
   ],
   "source": [
    "X= np.zeros((1_000_000, 10_000))"
   ]
  },
  {
   "cell_type": "code",
   "execution_count": null,
   "id": "45b4aff6-f36f-44b7-99b3-86f2fb17e1d0",
   "metadata": {},
   "outputs": [],
   "source": []
  }
 ],
 "metadata": {
  "kernelspec": {
   "display_name": "Python 3 (ipykernel)",
   "language": "python",
   "name": "python3"
  },
  "language_info": {
   "codemirror_mode": {
    "name": "ipython",
    "version": 3
   },
   "file_extension": ".py",
   "mimetype": "text/x-python",
   "name": "python",
   "nbconvert_exporter": "python",
   "pygments_lexer": "ipython3",
   "version": "3.11.4"
  }
 },
 "nbformat": 4,
 "nbformat_minor": 5
}
