{
 "cells": [
  {
   "cell_type": "code",
   "execution_count": 1,
   "id": "8d5a6a0b-5e06-4d3e-8570-746c046367ba",
   "metadata": {
    "tags": []
   },
   "outputs": [
    {
     "name": "stdout",
     "output_type": "stream",
     "text": [
      "Requirement already satisfied: scikit-learn in c:\\users\\user\\anaconda3\\lib\\site-packages (1.3.0)Note: you may need to restart the kernel to use updated packages.\n",
      "\n",
      "Requirement already satisfied: numpy>=1.17.3 in c:\\users\\user\\anaconda3\\lib\\site-packages (from scikit-learn) (1.24.3)\n",
      "Requirement already satisfied: scipy>=1.5.0 in c:\\users\\user\\anaconda3\\lib\\site-packages (from scikit-learn) (1.10.1)\n",
      "Requirement already satisfied: joblib>=1.1.1 in c:\\users\\user\\anaconda3\\lib\\site-packages (from scikit-learn) (1.2.0)\n",
      "Requirement already satisfied: threadpoolctl>=2.0.0 in c:\\users\\user\\anaconda3\\lib\\site-packages (from scikit-learn) (2.2.0)\n"
     ]
    }
   ],
   "source": [
    "pip install scikit-learn"
   ]
  },
  {
   "cell_type": "code",
   "execution_count": 41,
   "id": "101486cc-3977-4d3f-b6cb-15836a89fd1c",
   "metadata": {},
   "outputs": [],
   "source": [
    "import numpy as np\n",
    "import matplotlib.pyplot as plt\n",
    "import pandas as pd"
   ]
  },
  {
   "cell_type": "code",
   "execution_count": 42,
   "id": "428bea68-2713-49ea-82e8-e2f521b6dd91",
   "metadata": {
    "tags": []
   },
   "outputs": [],
   "source": [
    "x = np.random.randint(1, 100, 50)\n"
   ]
  },
  {
   "cell_type": "code",
   "execution_count": 43,
   "id": "7d034785-9adf-45c3-afa6-1ae62b7e135d",
   "metadata": {
    "tags": []
   },
   "outputs": [],
   "source": [
    "a = np.random.choice(np.arange(100), 1)\n",
    "y = a * x + np.random.randn(50)"
   ]
  },
  {
   "cell_type": "code",
   "execution_count": 44,
   "id": "17fd85c4-82d9-432c-91bc-953b9c2cf901",
   "metadata": {
    "tags": []
   },
   "outputs": [
    {
     "data": {
      "text/plain": [
       "array([52])"
      ]
     },
     "execution_count": 44,
     "metadata": {},
     "output_type": "execute_result"
    }
   ],
   "source": [
    "a"
   ]
  },
  {
   "cell_type": "code",
   "execution_count": 45,
   "id": "2e462fcb-c68b-44d0-a314-31cb8b209d8d",
   "metadata": {
    "tags": []
   },
   "outputs": [
    {
     "data": {
      "text/html": [
       "<div>\n",
       "<style scoped>\n",
       "    .dataframe tbody tr th:only-of-type {\n",
       "        vertical-align: middle;\n",
       "    }\n",
       "\n",
       "    .dataframe tbody tr th {\n",
       "        vertical-align: top;\n",
       "    }\n",
       "\n",
       "    .dataframe thead th {\n",
       "        text-align: right;\n",
       "    }\n",
       "</style>\n",
       "<table border=\"1\" class=\"dataframe\">\n",
       "  <thead>\n",
       "    <tr style=\"text-align: right;\">\n",
       "      <th></th>\n",
       "      <th>0</th>\n",
       "    </tr>\n",
       "  </thead>\n",
       "  <tbody>\n",
       "    <tr>\n",
       "      <th>157.597549</th>\n",
       "      <td>3</td>\n",
       "    </tr>\n",
       "    <tr>\n",
       "      <th>4213.965181</th>\n",
       "      <td>81</td>\n",
       "    </tr>\n",
       "    <tr>\n",
       "      <th>3537.001553</th>\n",
       "      <td>68</td>\n",
       "    </tr>\n",
       "    <tr>\n",
       "      <th>676.598420</th>\n",
       "      <td>13</td>\n",
       "    </tr>\n",
       "    <tr>\n",
       "      <th>1768.273480</th>\n",
       "      <td>34</td>\n",
       "    </tr>\n",
       "    <tr>\n",
       "      <th>2806.569066</th>\n",
       "      <td>54</td>\n",
       "    </tr>\n",
       "    <tr>\n",
       "      <th>779.124210</th>\n",
       "      <td>15</td>\n",
       "    </tr>\n",
       "    <tr>\n",
       "      <th>1505.428954</th>\n",
       "      <td>29</td>\n",
       "    </tr>\n",
       "    <tr>\n",
       "      <th>2081.240944</th>\n",
       "      <td>40</td>\n",
       "    </tr>\n",
       "    <tr>\n",
       "      <th>1352.163279</th>\n",
       "      <td>26</td>\n",
       "    </tr>\n",
       "    <tr>\n",
       "      <th>2131.317421</th>\n",
       "      <td>41</td>\n",
       "    </tr>\n",
       "    <tr>\n",
       "      <th>1818.842950</th>\n",
       "      <td>35</td>\n",
       "    </tr>\n",
       "    <tr>\n",
       "      <th>1302.258839</th>\n",
       "      <td>25</td>\n",
       "    </tr>\n",
       "    <tr>\n",
       "      <th>2029.197514</th>\n",
       "      <td>39</td>\n",
       "    </tr>\n",
       "    <tr>\n",
       "      <th>625.099355</th>\n",
       "      <td>12</td>\n",
       "    </tr>\n",
       "    <tr>\n",
       "      <th>5043.689900</th>\n",
       "      <td>97</td>\n",
       "    </tr>\n",
       "    <tr>\n",
       "      <th>311.706490</th>\n",
       "      <td>6</td>\n",
       "    </tr>\n",
       "    <tr>\n",
       "      <th>4681.022296</th>\n",
       "      <td>90</td>\n",
       "    </tr>\n",
       "    <tr>\n",
       "      <th>3067.847896</th>\n",
       "      <td>59</td>\n",
       "    </tr>\n",
       "    <tr>\n",
       "      <th>2287.250817</th>\n",
       "      <td>44</td>\n",
       "    </tr>\n",
       "    <tr>\n",
       "      <th>2183.746013</th>\n",
       "      <td>42</td>\n",
       "    </tr>\n",
       "    <tr>\n",
       "      <th>832.956490</th>\n",
       "      <td>16</td>\n",
       "    </tr>\n",
       "    <tr>\n",
       "      <th>2288.058217</th>\n",
       "      <td>44</td>\n",
       "    </tr>\n",
       "    <tr>\n",
       "      <th>572.448317</th>\n",
       "      <td>11</td>\n",
       "    </tr>\n",
       "    <tr>\n",
       "      <th>2910.809417</th>\n",
       "      <td>56</td>\n",
       "    </tr>\n",
       "    <tr>\n",
       "      <th>5148.070981</th>\n",
       "      <td>99</td>\n",
       "    </tr>\n",
       "    <tr>\n",
       "      <th>2704.917817</th>\n",
       "      <td>52</td>\n",
       "    </tr>\n",
       "    <tr>\n",
       "      <th>1923.720102</th>\n",
       "      <td>37</td>\n",
       "    </tr>\n",
       "    <tr>\n",
       "      <th>3586.805709</th>\n",
       "      <td>69</td>\n",
       "    </tr>\n",
       "    <tr>\n",
       "      <th>4316.961770</th>\n",
       "      <td>83</td>\n",
       "    </tr>\n",
       "    <tr>\n",
       "      <th>3171.349217</th>\n",
       "      <td>61</td>\n",
       "    </tr>\n",
       "    <tr>\n",
       "      <th>2497.469033</th>\n",
       "      <td>48</td>\n",
       "    </tr>\n",
       "    <tr>\n",
       "      <th>2182.917279</th>\n",
       "      <td>42</td>\n",
       "    </tr>\n",
       "    <tr>\n",
       "      <th>831.836367</th>\n",
       "      <td>16</td>\n",
       "    </tr>\n",
       "    <tr>\n",
       "      <th>5093.602346</th>\n",
       "      <td>98</td>\n",
       "    </tr>\n",
       "    <tr>\n",
       "      <th>1612.952214</th>\n",
       "      <td>31</td>\n",
       "    </tr>\n",
       "    <tr>\n",
       "      <th>1508.475072</th>\n",
       "      <td>29</td>\n",
       "    </tr>\n",
       "    <tr>\n",
       "      <th>1196.201270</th>\n",
       "      <td>23</td>\n",
       "    </tr>\n",
       "    <tr>\n",
       "      <th>4629.098600</th>\n",
       "      <td>89</td>\n",
       "    </tr>\n",
       "    <tr>\n",
       "      <th>2029.139392</th>\n",
       "      <td>39</td>\n",
       "    </tr>\n",
       "    <tr>\n",
       "      <th>2757.207040</th>\n",
       "      <td>53</td>\n",
       "    </tr>\n",
       "    <tr>\n",
       "      <th>1250.397848</th>\n",
       "      <td>24</td>\n",
       "    </tr>\n",
       "    <tr>\n",
       "      <th>153.328590</th>\n",
       "      <td>3</td>\n",
       "    </tr>\n",
       "    <tr>\n",
       "      <th>4939.375097</th>\n",
       "      <td>95</td>\n",
       "    </tr>\n",
       "    <tr>\n",
       "      <th>104.116870</th>\n",
       "      <td>2</td>\n",
       "    </tr>\n",
       "    <tr>\n",
       "      <th>2808.332254</th>\n",
       "      <td>54</td>\n",
       "    </tr>\n",
       "    <tr>\n",
       "      <th>1456.086375</th>\n",
       "      <td>28</td>\n",
       "    </tr>\n",
       "    <tr>\n",
       "      <th>2288.036879</th>\n",
       "      <td>44</td>\n",
       "    </tr>\n",
       "    <tr>\n",
       "      <th>3951.057658</th>\n",
       "      <td>76</td>\n",
       "    </tr>\n",
       "    <tr>\n",
       "      <th>156.287284</th>\n",
       "      <td>3</td>\n",
       "    </tr>\n",
       "  </tbody>\n",
       "</table>\n",
       "</div>"
      ],
      "text/plain": [
       "              0\n",
       "157.597549    3\n",
       "4213.965181  81\n",
       "3537.001553  68\n",
       "676.598420   13\n",
       "1768.273480  34\n",
       "2806.569066  54\n",
       "779.124210   15\n",
       "1505.428954  29\n",
       "2081.240944  40\n",
       "1352.163279  26\n",
       "2131.317421  41\n",
       "1818.842950  35\n",
       "1302.258839  25\n",
       "2029.197514  39\n",
       "625.099355   12\n",
       "5043.689900  97\n",
       "311.706490    6\n",
       "4681.022296  90\n",
       "3067.847896  59\n",
       "2287.250817  44\n",
       "2183.746013  42\n",
       "832.956490   16\n",
       "2288.058217  44\n",
       "572.448317   11\n",
       "2910.809417  56\n",
       "5148.070981  99\n",
       "2704.917817  52\n",
       "1923.720102  37\n",
       "3586.805709  69\n",
       "4316.961770  83\n",
       "3171.349217  61\n",
       "2497.469033  48\n",
       "2182.917279  42\n",
       "831.836367   16\n",
       "5093.602346  98\n",
       "1612.952214  31\n",
       "1508.475072  29\n",
       "1196.201270  23\n",
       "4629.098600  89\n",
       "2029.139392  39\n",
       "2757.207040  53\n",
       "1250.397848  24\n",
       "153.328590    3\n",
       "4939.375097  95\n",
       "104.116870    2\n",
       "2808.332254  54\n",
       "1456.086375  28\n",
       "2288.036879  44\n",
       "3951.057658  76\n",
       "156.287284    3"
      ]
     },
     "execution_count": 45,
     "metadata": {},
     "output_type": "execute_result"
    }
   ],
   "source": [
    "pd.DataFrame(x, y)"
   ]
  },
  {
   "cell_type": "code",
   "execution_count": 46,
   "id": "4f3f2711-5fc4-46da-bc0e-d683996df17e",
   "metadata": {
    "tags": []
   },
   "outputs": [],
   "source": [
    "a_hat = np.random.randn(1)"
   ]
  },
  {
   "cell_type": "code",
   "execution_count": 47,
   "id": "cac18f9f-3df6-457f-86c4-7c07df5ad6f3",
   "metadata": {
    "tags": []
   },
   "outputs": [
    {
     "data": {
      "text/plain": [
       "array([-1.6360076])"
      ]
     },
     "execution_count": 47,
     "metadata": {},
     "output_type": "execute_result"
    }
   ],
   "source": [
    "a_hat"
   ]
  },
  {
   "cell_type": "code",
   "execution_count": 48,
   "id": "b779fc35-aaba-45e1-a573-7c8c3e71ba73",
   "metadata": {
    "tags": []
   },
   "outputs": [],
   "source": [
    "y_hat = a_hat * x"
   ]
  },
  {
   "cell_type": "code",
   "execution_count": 49,
   "id": "2e2b2281-c02b-411e-b685-fc1314fde72f",
   "metadata": {
    "tags": []
   },
   "outputs": [
    {
     "data": {
      "text/plain": [
       "array([  -4.9080228 , -132.51661563, -111.24851683,  -21.26809881,\n",
       "        -55.62425841,  -88.34441042,  -24.54011401,  -47.44422041,\n",
       "        -65.44030402,  -42.53619761,  -67.07631162,  -57.26026601,\n",
       "        -40.90019001,  -63.80429642,  -19.6320912 , -158.69273724,\n",
       "         -9.8160456 , -147.24068404,  -96.52444842,  -71.98433442,\n",
       "        -68.71231922,  -26.17612161,  -71.98433442,  -17.9960836 ,\n",
       "        -91.61642562, -161.96475244,  -85.07239522,  -60.53228121,\n",
       "       -112.88452443, -135.78863083,  -99.79646362,  -78.52836482,\n",
       "        -68.71231922,  -26.17612161, -160.32874484,  -50.71623561,\n",
       "        -47.44422041,  -37.62817481, -145.60467644,  -63.80429642,\n",
       "        -86.70840282,  -39.26418241,   -4.9080228 , -155.42072204,\n",
       "         -3.2720152 ,  -88.34441042,  -45.80821281,  -71.98433442,\n",
       "       -124.33657763,   -4.9080228 ])"
      ]
     },
     "execution_count": 49,
     "metadata": {},
     "output_type": "execute_result"
    }
   ],
   "source": [
    "y_hat"
   ]
  },
  {
   "cell_type": "code",
   "execution_count": 50,
   "id": "14c3c708-2f7c-4c39-8800-7e00ef366341",
   "metadata": {
    "tags": []
   },
   "outputs": [
    {
     "data": {
      "text/plain": [
       "7649068.25833006"
      ]
     },
     "execution_count": 50,
     "metadata": {},
     "output_type": "execute_result"
    }
   ],
   "source": [
    "\n",
    "np.sum((y_hat - y)**2)/y_hat.size"
   ]
  },
  {
   "cell_type": "code",
   "execution_count": 51,
   "id": "bb118ca4-3c4e-40b7-8deb-b50653766b91",
   "metadata": {
    "tags": []
   },
   "outputs": [],
   "source": [
    "learning_rate = 1e-3\n",
    "a_hat = a_hat - learning_rate*2*np.mean(x*(y_hat-y))"
   ]
  },
  {
   "cell_type": "code",
   "execution_count": 52,
   "id": "7fb72db1-58dc-4746-a5de-dfdfbb2a858b",
   "metadata": {
    "tags": []
   },
   "outputs": [
    {
     "data": {
      "text/plain": [
       "array([283.57993352])"
      ]
     },
     "execution_count": 52,
     "metadata": {},
     "output_type": "execute_result"
    }
   ],
   "source": [
    "a_hat"
   ]
  },
  {
   "cell_type": "code",
   "execution_count": 56,
   "id": "f8f5448b-4490-4d37-a790-36f41f31712d",
   "metadata": {
    "tags": []
   },
   "outputs": [
    {
     "data": {
      "text/plain": [
       "array([80522.45533361])"
      ]
     },
     "execution_count": 56,
     "metadata": {},
     "output_type": "execute_result"
    }
   ],
   "source": [
    "y_hat = a_hat*x\n",
    "a_hat = a_hat - learning_rate*2*np.mean(x*(y_hat-y))\n",
    "a_hat"
   ]
  },
  {
   "cell_type": "code",
   "execution_count": 58,
   "id": "8a9dc013-5f29-432e-bf0b-cc3e8897901f",
   "metadata": {
    "tags": []
   },
   "outputs": [],
   "source": [
    "def gradient_descent(x, y, learning_rate, epochs):\n",
    "    a_hat = np.random.randn(1)\n",
    "    for _ in range(epochs):\n",
    "        y_hat = a_hat*x\n",
    "        a_hat -= learning_rate*np.mean(x*(y_hat - y))\n",
    "    return a_hat"
   ]
  },
  {
   "cell_type": "code",
   "execution_count": 59,
   "id": "976bbcba-fea9-4972-9e37-6bfeed8c1ad7",
   "metadata": {
    "tags": []
   },
   "outputs": [],
   "source": [
    "x = np.random.randn(100)\n",
    "y = 48*x"
   ]
  },
  {
   "cell_type": "code",
   "execution_count": 60,
   "id": "84efd1a9-8b15-4c90-b60a-39e445b7311a",
   "metadata": {
    "tags": []
   },
   "outputs": [
    {
     "data": {
      "text/plain": [
       "array([47.99706439])"
      ]
     },
     "execution_count": 60,
     "metadata": {},
     "output_type": "execute_result"
    }
   ],
   "source": [
    "gradient_descent(x, y, 1e-4, 100000)"
   ]
  },
  {
   "cell_type": "code",
   "execution_count": 84,
   "id": "cd7a93c8-cc62-48ff-b31e-501c937b6cfa",
   "metadata": {
    "tags": []
   },
   "outputs": [],
   "source": [
    "X = np.random.randn(50)"
   ]
  },
  {
   "cell_type": "code",
   "execution_count": 85,
   "id": "9b91885d-93a5-4d51-906f-9c4a5ee3dc4c",
   "metadata": {
    "tags": []
   },
   "outputs": [],
   "source": [
    "y = -200 * X + 90"
   ]
  },
  {
   "cell_type": "code",
   "execution_count": 86,
   "id": "d809b9c5-3d71-4289-af93-dbc98aaf6895",
   "metadata": {
    "tags": []
   },
   "outputs": [],
   "source": [
    "def gradient_descent(x, y, learning_rate, epochs):\n",
    "    a_hat = 1000\n",
    "    b_hat = 0\n",
    "    for _ in range(epochs):\n",
    "        y_hat = a_hat*x + b_hat\n",
    "        a_hat -= learning_rate*np.mean(2*x*(y_hat-y))\n",
    "        b_hat -= learning_rate*np.mean(2*(y_hat-y))\n",
    "    return a_hat, b_hat"
   ]
  },
  {
   "cell_type": "code",
   "execution_count": 87,
   "id": "c7009902-be9a-4886-acbe-052de0739d73",
   "metadata": {
    "tags": []
   },
   "outputs": [
    {
     "data": {
      "text/plain": [
       "(-73.15020430678338, 82.17517364673711)"
      ]
     },
     "execution_count": 87,
     "metadata": {},
     "output_type": "execute_result"
    }
   ],
   "source": [
    "gradient_descent(x, y, 1e-4, 100000)"
   ]
  },
  {
   "cell_type": "code",
   "execution_count": 121,
   "id": "8eb373e2-29d7-4796-b2be-0b79b228f4a9",
   "metadata": {
    "tags": []
   },
   "outputs": [],
   "source": [
    "def diff(f, x):\n",
    "    h = 1e-5\n",
    "    return (f(x+h) - f(x))/h"
   ]
  },
  {
   "cell_type": "code",
   "execution_count": 122,
   "id": "532b259a-7d40-464e-995f-32f00ada18f3",
   "metadata": {
    "tags": []
   },
   "outputs": [
    {
     "data": {
      "text/plain": [
       "1"
      ]
     },
     "execution_count": 122,
     "metadata": {},
     "output_type": "execute_result"
    }
   ],
   "source": [
    "np.array([1, 2])[0]"
   ]
  },
  {
   "cell_type": "code",
   "execution_count": 123,
   "id": "63b844fb-0f55-40e4-a573-85a8ae93630e",
   "metadata": {
    "tags": []
   },
   "outputs": [],
   "source": [
    "def fx(x):\n",
    "    a = x[0]\n",
    "    b = x[1]\n",
    "    return np.mean(a*X + b)\n",
    "\n",
    "\n",
    "def gradient_descent(x, y, learning_rate, epochs):\n",
    "    a_hat = 1000\n",
    "    for _ in range(epochs):\n",
    "        fx = lambda W: np.mean(x*W)\n",
    "        a_hat -= diff(fx, a_hat)*learning_rate\n",
    "        \n",
    "    return a_hat\n",
    "\n",
    "X = np.random.randn(100)\n",
    "y = 100*X"
   ]
  },
  {
   "cell_type": "code",
   "execution_count": 124,
   "id": "06ad470f-02ad-4465-8f5d-ffa647569a2f",
   "metadata": {
    "tags": []
   },
   "outputs": [],
   "source": [
    "a_hat= gradient_descent(X, y, 1e-3, 1000)"
   ]
  },
  {
   "cell_type": "code",
   "execution_count": 125,
   "id": "ce71395e-cdfc-4831-b847-0cf9ca3380ba",
   "metadata": {
    "tags": []
   },
   "outputs": [],
   "source": [
    "a_hat1 = gradient_descent(X, y, 1e-3, 10000)"
   ]
  },
  {
   "cell_type": "code",
   "execution_count": 126,
   "id": "bbd61d3b-1b60-4488-a3e4-2044b92f3865",
   "metadata": {
    "tags": []
   },
   "outputs": [
    {
     "data": {
      "text/plain": [
       "(999.9221397644628, 999.2213976451781)"
      ]
     },
     "execution_count": 126,
     "metadata": {},
     "output_type": "execute_result"
    }
   ],
   "source": [
    "a_hat, a_hat1"
   ]
  },
  {
   "cell_type": "code",
   "execution_count": 127,
   "id": "e7d6579a-68d1-4c8e-829e-6d5f6b11db3f",
   "metadata": {
    "tags": []
   },
   "outputs": [],
   "source": [
    "a_hat2 = gradient_descent(X, y, 1e-3, 100000)"
   ]
  },
  {
   "cell_type": "code",
   "execution_count": 128,
   "id": "a7103dfc-b853-49e2-99ff-82cddbfdc5dd",
   "metadata": {
    "tags": []
   },
   "outputs": [
    {
     "data": {
      "text/plain": [
       "992.2139764522835"
      ]
     },
     "execution_count": 128,
     "metadata": {},
     "output_type": "execute_result"
    }
   ],
   "source": [
    "a_hat2"
   ]
  },
  {
   "cell_type": "code",
   "execution_count": 129,
   "id": "9162fe94-5a7b-45fd-a1cf-1737d4de1614",
   "metadata": {
    "tags": []
   },
   "outputs": [
    {
     "data": {
      "text/plain": [
       "0.07786023559219757"
      ]
     },
     "execution_count": 129,
     "metadata": {},
     "output_type": "execute_result"
    }
   ],
   "source": [
    "a_hat = 1000\n",
    "fx = lambda W: np.mean(X*W)\n",
    "diff(fx, a_hat)"
   ]
  },
  {
   "cell_type": "code",
   "execution_count": 130,
   "id": "6b889aa9-e515-449a-badc-8bc7c2475561",
   "metadata": {
    "tags": []
   },
   "outputs": [
    {
     "data": {
      "text/plain": [
       "0.07786023565259369"
      ]
     },
     "execution_count": 130,
     "metadata": {},
     "output_type": "execute_result"
    }
   ],
   "source": [
    "np.mean(X*(1000+1e-5) - X*(1000))/(1e-5)"
   ]
  },
  {
   "cell_type": "code",
   "execution_count": 141,
   "id": "7829a46c-b49e-4666-ab9a-22327a27a1c7",
   "metadata": {
    "tags": []
   },
   "outputs": [],
   "source": [
    "def gradient_descent(x, y, learning_rate, epochs):\n",
    "    a_hat = np.random.randn(1)\n",
    "    b_hat = 0\n",
    "    W = np.array([a_hat, b_hat])\n",
    "    for _ in range(epochs):\n",
    "        predict = lambda W : x*W[0] + W[1]\n",
    "        loss = lambda y, predict : np.mean((y - predict)**2)\n",
    "        W[0] -= diff(loss, W)[0]*learning_rate\n",
    "        W[1] -= diff(loss, W)[1]*learning_rate\n",
    "\n",
    "\n",
    "    return W[0], W[1]"
   ]
  },
  {
   "cell_type": "code",
   "execution_count": 142,
   "id": "a35ef80c-1ce1-4a26-997e-e41f6a0c2257",
   "metadata": {
    "tags": []
   },
   "outputs": [],
   "source": [
    "X = np.random.rand(100)\n",
    "y = x*100 + 20"
   ]
  },
  {
   "cell_type": "code",
   "execution_count": 143,
   "id": "9e66f5c1-0069-49e5-8bbb-b93f773e9d81",
   "metadata": {
    "tags": []
   },
   "outputs": [
    {
     "ename": "ValueError",
     "evalue": "setting an array element with a sequence. The requested array has an inhomogeneous shape after 1 dimensions. The detected shape was (2,) + inhomogeneous part.",
     "output_type": "error",
     "traceback": [
      "\u001b[1;31m---------------------------------------------------------------------------\u001b[0m",
      "\u001b[1;31mValueError\u001b[0m                                Traceback (most recent call last)",
      "Cell \u001b[1;32mIn[143], line 1\u001b[0m\n\u001b[1;32m----> 1\u001b[0m \u001b[43mgradient_descent\u001b[49m\u001b[43m(\u001b[49m\u001b[43mX\u001b[49m\u001b[43m,\u001b[49m\u001b[43m \u001b[49m\u001b[43my\u001b[49m\u001b[43m,\u001b[49m\u001b[43m \u001b[49m\u001b[38;5;241;43m1e-3\u001b[39;49m\u001b[43m,\u001b[49m\u001b[43m \u001b[49m\u001b[38;5;241;43m10000\u001b[39;49m\u001b[43m)\u001b[49m\n",
      "Cell \u001b[1;32mIn[141], line 4\u001b[0m, in \u001b[0;36mgradient_descent\u001b[1;34m(x, y, learning_rate, epochs)\u001b[0m\n\u001b[0;32m      2\u001b[0m a_hat \u001b[38;5;241m=\u001b[39m np\u001b[38;5;241m.\u001b[39mrandom\u001b[38;5;241m.\u001b[39mrandn(\u001b[38;5;241m1\u001b[39m)\n\u001b[0;32m      3\u001b[0m b_hat \u001b[38;5;241m=\u001b[39m \u001b[38;5;241m0\u001b[39m\n\u001b[1;32m----> 4\u001b[0m W \u001b[38;5;241m=\u001b[39m \u001b[43mnp\u001b[49m\u001b[38;5;241;43m.\u001b[39;49m\u001b[43marray\u001b[49m\u001b[43m(\u001b[49m\u001b[43m[\u001b[49m\u001b[43ma_hat\u001b[49m\u001b[43m,\u001b[49m\u001b[43m \u001b[49m\u001b[43mb_hat\u001b[49m\u001b[43m]\u001b[49m\u001b[43m)\u001b[49m\n\u001b[0;32m      5\u001b[0m \u001b[38;5;28;01mfor\u001b[39;00m _ \u001b[38;5;129;01min\u001b[39;00m \u001b[38;5;28mrange\u001b[39m(epochs):\n\u001b[0;32m      6\u001b[0m     predict \u001b[38;5;241m=\u001b[39m \u001b[38;5;28;01mlambda\u001b[39;00m W : x\u001b[38;5;241m*\u001b[39mW[\u001b[38;5;241m0\u001b[39m] \u001b[38;5;241m+\u001b[39m W[\u001b[38;5;241m1\u001b[39m]\n",
      "\u001b[1;31mValueError\u001b[0m: setting an array element with a sequence. The requested array has an inhomogeneous shape after 1 dimensions. The detected shape was (2,) + inhomogeneous part."
     ]
    }
   ],
   "source": [
    "gradient_descent(X, y, 1e-3, 10000)"
   ]
  },
  {
   "cell_type": "code",
   "execution_count": null,
   "id": "a3305271-fe59-402b-84d4-e422d9a56f4a",
   "metadata": {},
   "outputs": [],
   "source": []
  },
  {
   "cell_type": "code",
   "execution_count": null,
   "id": "493f4f68-bf29-4264-9b5f-5c4f90028f6b",
   "metadata": {},
   "outputs": [],
   "source": []
  },
  {
   "cell_type": "code",
   "execution_count": null,
   "id": "ca35002c-3687-439f-bc6a-107e870e816e",
   "metadata": {},
   "outputs": [],
   "source": []
  },
  {
   "cell_type": "code",
   "execution_count": null,
   "id": "18314580-ce14-4e74-9cc9-6fc4f1f7566d",
   "metadata": {},
   "outputs": [],
   "source": []
  },
  {
   "cell_type": "code",
   "execution_count": null,
   "id": "6979e0f3-94d7-4a20-9e84-3df891779207",
   "metadata": {},
   "outputs": [],
   "source": []
  }
 ],
 "metadata": {
  "kernelspec": {
   "display_name": "Python 3 (ipykernel)",
   "language": "python",
   "name": "python3"
  },
  "language_info": {
   "codemirror_mode": {
    "name": "ipython",
    "version": 3
   },
   "file_extension": ".py",
   "mimetype": "text/x-python",
   "name": "python",
   "nbconvert_exporter": "python",
   "pygments_lexer": "ipython3",
   "version": "3.11.4"
  }
 },
 "nbformat": 4,
 "nbformat_minor": 5
}
