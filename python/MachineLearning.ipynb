{
 "cells": [
  {
   "cell_type": "code",
   "execution_count": 1,
   "id": "8d5a6a0b-5e06-4d3e-8570-746c046367ba",
   "metadata": {
    "tags": []
   },
   "outputs": [
    {
     "name": "stdout",
     "output_type": "stream",
     "text": [
      "Requirement already satisfied: scikit-learn in c:\\users\\user\\anaconda3\\lib\\site-packages (1.3.0)\n",
      "Requirement already satisfied: numpy>=1.17.3 in c:\\users\\user\\anaconda3\\lib\\site-packages (from scikit-learn) (1.24.3)\n",
      "Requirement already satisfied: scipy>=1.5.0 in c:\\users\\user\\anaconda3\\lib\\site-packages (from scikit-learn) (1.10.1)\n",
      "Requirement already satisfied: joblib>=1.1.1 in c:\\users\\user\\anaconda3\\lib\\site-packages (from scikit-learn) (1.2.0)\n",
      "Requirement already satisfied: threadpoolctl>=2.0.0 in c:\\users\\user\\anaconda3\\lib\\site-packages (from scikit-learn) (2.2.0)\n",
      "Note: you may need to restart the kernel to use updated packages.\n"
     ]
    }
   ],
   "source": [
    "pip install scikit-learn"
   ]
  },
  {
   "cell_type": "code",
   "execution_count": 2,
   "id": "101486cc-3977-4d3f-b6cb-15836a89fd1c",
   "metadata": {},
   "outputs": [],
   "source": [
    "import numpy as np\n",
    "import matplotlib.pyplot as plt\n",
    "import pandas as pd"
   ]
  },
  {
   "cell_type": "code",
   "execution_count": 3,
   "id": "428bea68-2713-49ea-82e8-e2f521b6dd91",
   "metadata": {
    "tags": []
   },
   "outputs": [],
   "source": [
    "x = np.random.randint(1, 100, 50)\n"
   ]
  },
  {
   "cell_type": "code",
   "execution_count": 4,
   "id": "7d034785-9adf-45c3-afa6-1ae62b7e135d",
   "metadata": {
    "tags": []
   },
   "outputs": [],
   "source": [
    "a = np.random.choice(np.arange(100), 1)\n",
    "y = a * x + np.random.randn(50)"
   ]
  },
  {
   "cell_type": "code",
   "execution_count": 5,
   "id": "17fd85c4-82d9-432c-91bc-953b9c2cf901",
   "metadata": {
    "tags": []
   },
   "outputs": [
    {
     "data": {
      "text/plain": [
       "array([86])"
      ]
     },
     "execution_count": 5,
     "metadata": {},
     "output_type": "execute_result"
    }
   ],
   "source": [
    "a"
   ]
  },
  {
   "cell_type": "code",
   "execution_count": 6,
   "id": "2e462fcb-c68b-44d0-a314-31cb8b209d8d",
   "metadata": {
    "tags": []
   },
   "outputs": [
    {
     "data": {
      "text/html": [
       "<div>\n",
       "<style scoped>\n",
       "    .dataframe tbody tr th:only-of-type {\n",
       "        vertical-align: middle;\n",
       "    }\n",
       "\n",
       "    .dataframe tbody tr th {\n",
       "        vertical-align: top;\n",
       "    }\n",
       "\n",
       "    .dataframe thead th {\n",
       "        text-align: right;\n",
       "    }\n",
       "</style>\n",
       "<table border=\"1\" class=\"dataframe\">\n",
       "  <thead>\n",
       "    <tr style=\"text-align: right;\">\n",
       "      <th></th>\n",
       "      <th>0</th>\n",
       "    </tr>\n",
       "  </thead>\n",
       "  <tbody>\n",
       "    <tr>\n",
       "      <th>2493.294078</th>\n",
       "      <td>29</td>\n",
       "    </tr>\n",
       "    <tr>\n",
       "      <th>7740.701014</th>\n",
       "      <td>90</td>\n",
       "    </tr>\n",
       "    <tr>\n",
       "      <th>516.760154</th>\n",
       "      <td>6</td>\n",
       "    </tr>\n",
       "    <tr>\n",
       "      <th>3526.118922</th>\n",
       "      <td>41</td>\n",
       "    </tr>\n",
       "    <tr>\n",
       "      <th>3784.574227</th>\n",
       "      <td>44</td>\n",
       "    </tr>\n",
       "    <tr>\n",
       "      <th>7482.154221</th>\n",
       "      <td>87</td>\n",
       "    </tr>\n",
       "    <tr>\n",
       "      <th>4730.393715</th>\n",
       "      <td>55</td>\n",
       "    </tr>\n",
       "    <tr>\n",
       "      <th>6363.785200</th>\n",
       "      <td>74</td>\n",
       "    </tr>\n",
       "    <tr>\n",
       "      <th>601.242217</th>\n",
       "      <td>7</td>\n",
       "    </tr>\n",
       "    <tr>\n",
       "      <th>8256.755004</th>\n",
       "      <td>96</td>\n",
       "    </tr>\n",
       "    <tr>\n",
       "      <th>1633.717386</th>\n",
       "      <td>19</td>\n",
       "    </tr>\n",
       "    <tr>\n",
       "      <th>5505.405268</th>\n",
       "      <td>64</td>\n",
       "    </tr>\n",
       "    <tr>\n",
       "      <th>4384.885932</th>\n",
       "      <td>51</td>\n",
       "    </tr>\n",
       "    <tr>\n",
       "      <th>2065.174576</th>\n",
       "      <td>24</td>\n",
       "    </tr>\n",
       "    <tr>\n",
       "      <th>5676.899312</th>\n",
       "      <td>66</td>\n",
       "    </tr>\n",
       "    <tr>\n",
       "      <th>3868.494075</th>\n",
       "      <td>45</td>\n",
       "    </tr>\n",
       "    <tr>\n",
       "      <th>3525.238009</th>\n",
       "      <td>41</td>\n",
       "    </tr>\n",
       "    <tr>\n",
       "      <th>7912.259618</th>\n",
       "      <td>92</td>\n",
       "    </tr>\n",
       "    <tr>\n",
       "      <th>5934.763411</th>\n",
       "      <td>69</td>\n",
       "    </tr>\n",
       "    <tr>\n",
       "      <th>602.085090</th>\n",
       "      <td>7</td>\n",
       "    </tr>\n",
       "    <tr>\n",
       "      <th>171.143689</th>\n",
       "      <td>2</td>\n",
       "    </tr>\n",
       "    <tr>\n",
       "      <th>3352.627309</th>\n",
       "      <td>39</td>\n",
       "    </tr>\n",
       "    <tr>\n",
       "      <th>8085.081345</th>\n",
       "      <td>94</td>\n",
       "    </tr>\n",
       "    <tr>\n",
       "      <th>7308.724990</th>\n",
       "      <td>85</td>\n",
       "    </tr>\n",
       "    <tr>\n",
       "      <th>3010.253826</th>\n",
       "      <td>35</td>\n",
       "    </tr>\n",
       "    <tr>\n",
       "      <th>2234.562627</th>\n",
       "      <td>26</td>\n",
       "    </tr>\n",
       "    <tr>\n",
       "      <th>3269.367849</th>\n",
       "      <td>38</td>\n",
       "    </tr>\n",
       "    <tr>\n",
       "      <th>772.743212</th>\n",
       "      <td>9</td>\n",
       "    </tr>\n",
       "    <tr>\n",
       "      <th>7825.298452</th>\n",
       "      <td>91</td>\n",
       "    </tr>\n",
       "    <tr>\n",
       "      <th>946.848381</th>\n",
       "      <td>11</td>\n",
       "    </tr>\n",
       "    <tr>\n",
       "      <th>8256.369968</th>\n",
       "      <td>96</td>\n",
       "    </tr>\n",
       "    <tr>\n",
       "      <th>7483.754201</th>\n",
       "      <td>87</td>\n",
       "    </tr>\n",
       "    <tr>\n",
       "      <th>6364.644480</th>\n",
       "      <td>74</td>\n",
       "    </tr>\n",
       "    <tr>\n",
       "      <th>3009.611419</th>\n",
       "      <td>35</td>\n",
       "    </tr>\n",
       "    <tr>\n",
       "      <th>3266.390857</th>\n",
       "      <td>38</td>\n",
       "    </tr>\n",
       "    <tr>\n",
       "      <th>2752.702307</th>\n",
       "      <td>32</td>\n",
       "    </tr>\n",
       "    <tr>\n",
       "      <th>3182.820089</th>\n",
       "      <td>37</td>\n",
       "    </tr>\n",
       "    <tr>\n",
       "      <th>5247.081357</th>\n",
       "      <td>61</td>\n",
       "    </tr>\n",
       "    <tr>\n",
       "      <th>7138.612082</th>\n",
       "      <td>83</td>\n",
       "    </tr>\n",
       "    <tr>\n",
       "      <th>7224.560657</th>\n",
       "      <td>84</td>\n",
       "    </tr>\n",
       "    <tr>\n",
       "      <th>3696.189514</th>\n",
       "      <td>43</td>\n",
       "    </tr>\n",
       "    <tr>\n",
       "      <th>7738.702831</th>\n",
       "      <td>90</td>\n",
       "    </tr>\n",
       "    <tr>\n",
       "      <th>7308.769029</th>\n",
       "      <td>85</td>\n",
       "    </tr>\n",
       "    <tr>\n",
       "      <th>945.927939</th>\n",
       "      <td>11</td>\n",
       "    </tr>\n",
       "    <tr>\n",
       "      <th>7568.642725</th>\n",
       "      <td>88</td>\n",
       "    </tr>\n",
       "    <tr>\n",
       "      <th>5502.406567</th>\n",
       "      <td>64</td>\n",
       "    </tr>\n",
       "    <tr>\n",
       "      <th>343.465471</th>\n",
       "      <td>4</td>\n",
       "    </tr>\n",
       "    <tr>\n",
       "      <th>3094.900837</th>\n",
       "      <td>36</td>\n",
       "    </tr>\n",
       "    <tr>\n",
       "      <th>4900.915439</th>\n",
       "      <td>57</td>\n",
       "    </tr>\n",
       "    <tr>\n",
       "      <th>7395.672583</th>\n",
       "      <td>86</td>\n",
       "    </tr>\n",
       "  </tbody>\n",
       "</table>\n",
       "</div>"
      ],
      "text/plain": [
       "              0\n",
       "2493.294078  29\n",
       "7740.701014  90\n",
       "516.760154    6\n",
       "3526.118922  41\n",
       "3784.574227  44\n",
       "7482.154221  87\n",
       "4730.393715  55\n",
       "6363.785200  74\n",
       "601.242217    7\n",
       "8256.755004  96\n",
       "1633.717386  19\n",
       "5505.405268  64\n",
       "4384.885932  51\n",
       "2065.174576  24\n",
       "5676.899312  66\n",
       "3868.494075  45\n",
       "3525.238009  41\n",
       "7912.259618  92\n",
       "5934.763411  69\n",
       "602.085090    7\n",
       "171.143689    2\n",
       "3352.627309  39\n",
       "8085.081345  94\n",
       "7308.724990  85\n",
       "3010.253826  35\n",
       "2234.562627  26\n",
       "3269.367849  38\n",
       "772.743212    9\n",
       "7825.298452  91\n",
       "946.848381   11\n",
       "8256.369968  96\n",
       "7483.754201  87\n",
       "6364.644480  74\n",
       "3009.611419  35\n",
       "3266.390857  38\n",
       "2752.702307  32\n",
       "3182.820089  37\n",
       "5247.081357  61\n",
       "7138.612082  83\n",
       "7224.560657  84\n",
       "3696.189514  43\n",
       "7738.702831  90\n",
       "7308.769029  85\n",
       "945.927939   11\n",
       "7568.642725  88\n",
       "5502.406567  64\n",
       "343.465471    4\n",
       "3094.900837  36\n",
       "4900.915439  57\n",
       "7395.672583  86"
      ]
     },
     "execution_count": 6,
     "metadata": {},
     "output_type": "execute_result"
    }
   ],
   "source": [
    "pd.DataFrame(x, y)"
   ]
  },
  {
   "cell_type": "code",
   "execution_count": 7,
   "id": "4f3f2711-5fc4-46da-bc0e-d683996df17e",
   "metadata": {
    "tags": []
   },
   "outputs": [],
   "source": [
    "a_hat = np.random.randn(1)"
   ]
  },
  {
   "cell_type": "code",
   "execution_count": 8,
   "id": "cac18f9f-3df6-457f-86c4-7c07df5ad6f3",
   "metadata": {
    "tags": []
   },
   "outputs": [
    {
     "data": {
      "text/plain": [
       "array([-0.30161003])"
      ]
     },
     "execution_count": 8,
     "metadata": {},
     "output_type": "execute_result"
    }
   ],
   "source": [
    "a_hat"
   ]
  },
  {
   "cell_type": "code",
   "execution_count": 9,
   "id": "b779fc35-aaba-45e1-a573-7c8c3e71ba73",
   "metadata": {
    "tags": []
   },
   "outputs": [],
   "source": [
    "y_hat = a_hat * x"
   ]
  },
  {
   "cell_type": "code",
   "execution_count": 10,
   "id": "2e2b2281-c02b-411e-b685-fc1314fde72f",
   "metadata": {
    "tags": []
   },
   "outputs": [
    {
     "data": {
      "text/plain": [
       "array([ -8.74669099, -27.14490307,  -1.8096602 , -12.3660114 ,\n",
       "       -13.2708415 , -26.24007297, -16.58855188, -22.31914252,\n",
       "        -2.11127024, -28.95456327,  -5.73059065, -19.30304218,\n",
       "       -15.38211174,  -7.23864082, -19.90626225, -13.57245154,\n",
       "       -12.3660114 , -27.74812314, -20.81109235,  -2.11127024,\n",
       "        -0.60322007, -11.76279133, -28.35134321, -25.6368529 ,\n",
       "       -10.55635119,  -7.84186089, -11.4611813 ,  -2.71449031,\n",
       "       -27.4465131 ,  -3.31771038, -28.95456327, -26.24007297,\n",
       "       -22.31914252, -10.55635119, -11.4611813 ,  -9.65152109,\n",
       "       -11.15957126, -18.39821208, -25.03363283, -25.33524287,\n",
       "       -12.96923147, -27.14490307, -25.6368529 ,  -3.31771038,\n",
       "       -26.541683  , -19.30304218,  -1.20644014, -10.85796123,\n",
       "       -17.19177194, -25.93846293])"
      ]
     },
     "execution_count": 10,
     "metadata": {},
     "output_type": "execute_result"
    }
   ],
   "source": [
    "y_hat"
   ]
  },
  {
   "cell_type": "code",
   "execution_count": 11,
   "id": "14c3c708-2f7c-4c39-8800-7e00ef366341",
   "metadata": {
    "tags": []
   },
   "outputs": [
    {
     "data": {
      "text/plain": [
       "27169478.51329589"
      ]
     },
     "execution_count": 11,
     "metadata": {},
     "output_type": "execute_result"
    }
   ],
   "source": [
    "\n",
    "np.sum((y_hat - y)**2)/y_hat.size"
   ]
  },
  {
   "cell_type": "code",
   "execution_count": 12,
   "id": "bb118ca4-3c4e-40b7-8deb-b50653766b91",
   "metadata": {
    "tags": []
   },
   "outputs": [],
   "source": [
    "learning_rate = 1e-3\n",
    "a_hat = a_hat - learning_rate*2*np.mean(x*(y_hat-y))"
   ]
  },
  {
   "cell_type": "code",
   "execution_count": 13,
   "id": "7fb72db1-58dc-4746-a5de-dfdfbb2a858b",
   "metadata": {
    "tags": []
   },
   "outputs": [
    {
     "data": {
      "text/plain": [
       "array([629.33636188])"
      ]
     },
     "execution_count": 13,
     "metadata": {},
     "output_type": "execute_result"
    }
   ],
   "source": [
    "a_hat"
   ]
  },
  {
   "cell_type": "code",
   "execution_count": 14,
   "id": "f8f5448b-4490-4d37-a790-36f41f31712d",
   "metadata": {
    "tags": []
   },
   "outputs": [
    {
     "data": {
      "text/plain": [
       "array([-3334.71319617])"
      ]
     },
     "execution_count": 14,
     "metadata": {},
     "output_type": "execute_result"
    }
   ],
   "source": [
    "y_hat = a_hat*x\n",
    "a_hat = a_hat - learning_rate*2*np.mean(x*(y_hat-y))\n",
    "a_hat"
   ]
  },
  {
   "cell_type": "code",
   "execution_count": 15,
   "id": "8a9dc013-5f29-432e-bf0b-cc3e8897901f",
   "metadata": {
    "tags": []
   },
   "outputs": [],
   "source": [
    "def gradient_descent(x, y, learning_rate, epochs):\n",
    "    a_hat = np.random.randn(1)\n",
    "    for _ in range(epochs):\n",
    "        y_hat = a_hat*x\n",
    "        a_hat -= learning_rate*np.mean(x*(y_hat - y))\n",
    "    return a_hat"
   ]
  },
  {
   "cell_type": "code",
   "execution_count": 16,
   "id": "976bbcba-fea9-4972-9e37-6bfeed8c1ad7",
   "metadata": {
    "tags": []
   },
   "outputs": [],
   "source": [
    "x = np.random.randn(100)\n",
    "y = 48*x"
   ]
  },
  {
   "cell_type": "code",
   "execution_count": 17,
   "id": "84efd1a9-8b15-4c90-b60a-39e445b7311a",
   "metadata": {
    "tags": []
   },
   "outputs": [
    {
     "data": {
      "text/plain": [
       "array([47.98909692])"
      ]
     },
     "execution_count": 17,
     "metadata": {},
     "output_type": "execute_result"
    }
   ],
   "source": [
    "gradient_descent(x, y, 1e-4, 100000)"
   ]
  },
  {
   "cell_type": "code",
   "execution_count": 18,
   "id": "cd7a93c8-cc62-48ff-b31e-501c937b6cfa",
   "metadata": {
    "tags": []
   },
   "outputs": [],
   "source": [
    "X = np.random.randn(50)"
   ]
  },
  {
   "cell_type": "code",
   "execution_count": 19,
   "id": "9b91885d-93a5-4d51-906f-9c4a5ee3dc4c",
   "metadata": {
    "tags": []
   },
   "outputs": [],
   "source": [
    "y = -200 * X + 90"
   ]
  },
  {
   "cell_type": "code",
   "execution_count": 20,
   "id": "d809b9c5-3d71-4289-af93-dbc98aaf6895",
   "metadata": {
    "tags": []
   },
   "outputs": [],
   "source": [
    "def gradient_descent(x, y, learning_rate, epochs):\n",
    "    a_hat = 1000\n",
    "    b_hat = 0\n",
    "    for _ in range(epochs):\n",
    "        y_hat = a_hat*x + b_hat\n",
    "        a_hat -= learning_rate*np.mean(2*x*(y_hat-y))\n",
    "        b_hat -= learning_rate*np.mean(2*(y_hat-y))\n",
    "    return a_hat, b_hat"
   ]
  },
  {
   "cell_type": "code",
   "execution_count": 21,
   "id": "c7009902-be9a-4886-acbe-052de0739d73",
   "metadata": {
    "tags": []
   },
   "outputs": [
    {
     "ename": "ValueError",
     "evalue": "operands could not be broadcast together with shapes (100,) (50,) ",
     "output_type": "error",
     "traceback": [
      "\u001b[1;31m---------------------------------------------------------------------------\u001b[0m",
      "\u001b[1;31mValueError\u001b[0m                                Traceback (most recent call last)",
      "Cell \u001b[1;32mIn[21], line 1\u001b[0m\n\u001b[1;32m----> 1\u001b[0m \u001b[43mgradient_descent\u001b[49m\u001b[43m(\u001b[49m\u001b[43mx\u001b[49m\u001b[43m,\u001b[49m\u001b[43m \u001b[49m\u001b[43my\u001b[49m\u001b[43m,\u001b[49m\u001b[43m \u001b[49m\u001b[38;5;241;43m1e-4\u001b[39;49m\u001b[43m,\u001b[49m\u001b[43m \u001b[49m\u001b[38;5;241;43m100000\u001b[39;49m\u001b[43m)\u001b[49m\n",
      "Cell \u001b[1;32mIn[20], line 6\u001b[0m, in \u001b[0;36mgradient_descent\u001b[1;34m(x, y, learning_rate, epochs)\u001b[0m\n\u001b[0;32m      4\u001b[0m \u001b[38;5;28;01mfor\u001b[39;00m _ \u001b[38;5;129;01min\u001b[39;00m \u001b[38;5;28mrange\u001b[39m(epochs):\n\u001b[0;32m      5\u001b[0m     y_hat \u001b[38;5;241m=\u001b[39m a_hat\u001b[38;5;241m*\u001b[39mx \u001b[38;5;241m+\u001b[39m b_hat\n\u001b[1;32m----> 6\u001b[0m     a_hat \u001b[38;5;241m-\u001b[39m\u001b[38;5;241m=\u001b[39m learning_rate\u001b[38;5;241m*\u001b[39mnp\u001b[38;5;241m.\u001b[39mmean(\u001b[38;5;241m2\u001b[39m\u001b[38;5;241m*\u001b[39mx\u001b[38;5;241m*\u001b[39m(\u001b[43my_hat\u001b[49m\u001b[38;5;241;43m-\u001b[39;49m\u001b[43my\u001b[49m))\n\u001b[0;32m      7\u001b[0m     b_hat \u001b[38;5;241m-\u001b[39m\u001b[38;5;241m=\u001b[39m learning_rate\u001b[38;5;241m*\u001b[39mnp\u001b[38;5;241m.\u001b[39mmean(\u001b[38;5;241m2\u001b[39m\u001b[38;5;241m*\u001b[39m(y_hat\u001b[38;5;241m-\u001b[39my))\n\u001b[0;32m      8\u001b[0m \u001b[38;5;28;01mreturn\u001b[39;00m a_hat, b_hat\n",
      "\u001b[1;31mValueError\u001b[0m: operands could not be broadcast together with shapes (100,) (50,) "
     ]
    }
   ],
   "source": [
    "gradient_descent(x, y, 1e-4, 100000)"
   ]
  },
  {
   "cell_type": "code",
   "execution_count": null,
   "id": "8eb373e2-29d7-4796-b2be-0b79b228f4a9",
   "metadata": {
    "tags": []
   },
   "outputs": [],
   "source": [
    "def diff(f, x):\n",
    "    h = 1e-5\n",
    "    return (f(x+h) - f(x))/h"
   ]
  },
  {
   "cell_type": "code",
   "execution_count": null,
   "id": "532b259a-7d40-464e-995f-32f00ada18f3",
   "metadata": {
    "tags": []
   },
   "outputs": [],
   "source": [
    "np.array([1, 2])[0]"
   ]
  },
  {
   "cell_type": "code",
   "execution_count": null,
   "id": "63b844fb-0f55-40e4-a573-85a8ae93630e",
   "metadata": {
    "tags": []
   },
   "outputs": [],
   "source": [
    "def fx(x):\n",
    "    a = x[0]\n",
    "    b = x[1]\n",
    "    return np.mean(a*X + b)\n",
    "\n",
    "\n",
    "def gradient_descent(x, y, learning_rate, epochs):\n",
    "    a_hat = 1000\n",
    "    for _ in range(epochs):\n",
    "        fx = lambda W: np.mean(x*W)\n",
    "        a_hat -= diff(fx, a_hat)*learning_rate\n",
    "        \n",
    "    return a_hat\n",
    "\n",
    "X = np.random.randn(100)\n",
    "y = 100*X"
   ]
  },
  {
   "cell_type": "code",
   "execution_count": null,
   "id": "06ad470f-02ad-4465-8f5d-ffa647569a2f",
   "metadata": {
    "tags": []
   },
   "outputs": [],
   "source": [
    "a_hat= gradient_descent(X, y, 1e-3, 1000)"
   ]
  },
  {
   "cell_type": "code",
   "execution_count": null,
   "id": "ce71395e-cdfc-4831-b847-0cf9ca3380ba",
   "metadata": {
    "tags": []
   },
   "outputs": [],
   "source": [
    "a_hat1 = gradient_descent(X, y, 1e-3, 10000)"
   ]
  },
  {
   "cell_type": "code",
   "execution_count": null,
   "id": "bbd61d3b-1b60-4488-a3e4-2044b92f3865",
   "metadata": {
    "tags": []
   },
   "outputs": [],
   "source": [
    "a_hat, a_hat1"
   ]
  },
  {
   "cell_type": "code",
   "execution_count": null,
   "id": "e7d6579a-68d1-4c8e-829e-6d5f6b11db3f",
   "metadata": {
    "tags": []
   },
   "outputs": [],
   "source": [
    "a_hat2 = gradient_descent(X, y, 1e-3, 100000)"
   ]
  },
  {
   "cell_type": "code",
   "execution_count": null,
   "id": "a7103dfc-b853-49e2-99ff-82cddbfdc5dd",
   "metadata": {
    "tags": []
   },
   "outputs": [],
   "source": [
    "a_hat2"
   ]
  },
  {
   "cell_type": "code",
   "execution_count": null,
   "id": "9162fe94-5a7b-45fd-a1cf-1737d4de1614",
   "metadata": {
    "tags": []
   },
   "outputs": [],
   "source": [
    "a_hat = 1000\n",
    "fx = lambda W: np.mean(X*W)\n",
    "diff(fx, a_hat)"
   ]
  },
  {
   "cell_type": "code",
   "execution_count": null,
   "id": "6b889aa9-e515-449a-badc-8bc7c2475561",
   "metadata": {
    "tags": []
   },
   "outputs": [],
   "source": [
    "np.mean(X*(1000+1e-5) - X*(1000))/(1e-5)"
   ]
  },
  {
   "cell_type": "code",
   "execution_count": null,
   "id": "7829a46c-b49e-4666-ab9a-22327a27a1c7",
   "metadata": {
    "tags": []
   },
   "outputs": [],
   "source": [
    "def gradient_descent(x, y, learning_rate, epochs):\n",
    "    a_hat = np.random.randn(1)\n",
    "    b_hat = 0\n",
    "    W = np.array([a_hat, b_hat])\n",
    "    for _ in range(epochs):\n",
    "        predict = lambda W : x*W[0] + W[1]\n",
    "        loss = lambda y, predict : np.mean((y - predict)**2)\n",
    "        W[0] -= diff(loss, W)[0]*learning_rate\n",
    "        W[1] -= diff(loss, W)[1]*learning_rate\n",
    "\n",
    "\n",
    "    return W[0], W[1]"
   ]
  },
  {
   "cell_type": "code",
   "execution_count": null,
   "id": "a35ef80c-1ce1-4a26-997e-e41f6a0c2257",
   "metadata": {
    "tags": []
   },
   "outputs": [],
   "source": [
    "X = np.random.rand(100)\n",
    "y = x*100 + 20"
   ]
  },
  {
   "cell_type": "code",
   "execution_count": null,
   "id": "9e66f5c1-0069-49e5-8bbb-b93f773e9d81",
   "metadata": {
    "tags": []
   },
   "outputs": [],
   "source": [
    "gradient_descent(X, y, 1e-3, 10000)"
   ]
  },
  {
   "cell_type": "code",
   "execution_count": null,
   "id": "a3305271-fe59-402b-84d4-e422d9a56f4a",
   "metadata": {},
   "outputs": [],
   "source": []
  },
  {
   "cell_type": "code",
   "execution_count": null,
   "id": "493f4f68-bf29-4264-9b5f-5c4f90028f6b",
   "metadata": {},
   "outputs": [],
   "source": []
  },
  {
   "cell_type": "code",
   "execution_count": 45,
   "id": "ca35002c-3687-439f-bc6a-107e870e816e",
   "metadata": {},
   "outputs": [],
   "source": [
    "a_hat = 1000\n",
    "b_hat = 0\n",
    "h = 1e-5"
   ]
  },
  {
   "cell_type": "code",
   "execution_count": 46,
   "id": "18314580-ce14-4e74-9cc9-6fc4f1f7566d",
   "metadata": {},
   "outputs": [],
   "source": [
    "predict_a = lambda a_hat : X*a_hat + b_hat"
   ]
  },
  {
   "cell_type": "code",
   "execution_count": 47,
   "id": "6979e0f3-94d7-4a20-9e84-3df891779207",
   "metadata": {},
   "outputs": [],
   "source": [
    "loss_a = lambda y, predict_a : np.mean(y-predict_a)**2"
   ]
  },
  {
   "cell_type": "code",
   "execution_count": 48,
   "id": "c2e8f89a-57ec-406b-8592-f0f0813f1bb5",
   "metadata": {
    "tags": []
   },
   "outputs": [],
   "source": [
    "predict_b = lambda b_hat : X*a_hat + b_hat"
   ]
  },
  {
   "cell_type": "code",
   "execution_count": 49,
   "id": "5f403193-b12a-403c-99ee-4e2c9cd5e116",
   "metadata": {
    "tags": []
   },
   "outputs": [],
   "source": [
    "loss_b = lambda y, predict_b : np.mean(y-predict_b)**2"
   ]
  },
  {
   "cell_type": "code",
   "execution_count": 50,
   "id": "dc38c10e-ebda-43cb-a645-22c4d6cf2e7c",
   "metadata": {
    "tags": []
   },
   "outputs": [
    {
     "data": {
      "text/plain": [
       "array([  -84.92099397,   -73.72577677,   -49.05528291,   642.87945979,\n",
       "         -81.11446462,  -283.20758093,  -702.67675771,   345.12746365,\n",
       "         449.84831546,  -578.96093816,   172.99241843, -1412.00950755,\n",
       "        -336.69882545,   280.04610098,  -179.30476574,  -621.06757331,\n",
       "         986.1399931 ,   -38.41869838,  -223.79162558,   753.78158386,\n",
       "         479.98069569,   798.93777349,  -254.76401832,  -963.68880592,\n",
       "        1276.53593519, -1066.52727447,  1595.33123539,  -994.10368016,\n",
       "        1721.22346649,  -599.80366015,   189.53108369, -1426.99476658,\n",
       "        -634.95293011,   811.68078652,  -242.63635072,    72.39353806,\n",
       "        -857.24158257,  -681.5528263 ,   611.54736223,  -395.56311062,\n",
       "       -1890.04271687,  1069.65699532,  -996.64150153,  -393.07424347,\n",
       "       -1410.48336872,   625.04098318,  -491.37315908,   -14.56638196,\n",
       "       -2510.95506492,  -541.34390681])"
      ]
     },
     "execution_count": 50,
     "metadata": {},
     "output_type": "execute_result"
    }
   ],
   "source": [
    "predict_a(a_hat)"
   ]
  },
  {
   "cell_type": "code",
   "execution_count": 51,
   "id": "f5629126-d599-4b05-8691-ae8bd00c4b9c",
   "metadata": {
    "tags": []
   },
   "outputs": [
    {
     "data": {
      "text/plain": [
       "81547.9899278783"
      ]
     },
     "execution_count": 51,
     "metadata": {},
     "output_type": "execute_result"
    }
   ],
   "source": [
    "loss_a(y, predict_a(a_hat))"
   ]
  },
  {
   "cell_type": "code",
   "execution_count": 52,
   "id": "0fa1de1b-0ac1-45d5-8252-c7bbeb688e62",
   "metadata": {
    "tags": []
   },
   "outputs": [
    {
     "data": {
      "text/plain": [
       "93.07840518886222"
      ]
     },
     "execution_count": 52,
     "metadata": {},
     "output_type": "execute_result"
    }
   ],
   "source": [
    "(loss_a(y, predict_a(a_hat+h))-loss_a(y, predict_a(a_hat)))/h"
   ]
  },
  {
   "cell_type": "code",
   "execution_count": 53,
   "id": "c4dc4cb1-36a2-4835-9e4b-c53062b718fe",
   "metadata": {
    "tags": []
   },
   "outputs": [
    {
     "data": {
      "text/plain": [
       "1428.8678357843307"
      ]
     },
     "execution_count": 53,
     "metadata": {},
     "output_type": "execute_result"
    }
   ],
   "source": [
    "(loss_b(y, predict_b(a_hat+h))-loss_b(y, predict_b(a_hat)))/h"
   ]
  },
  {
   "cell_type": "code",
   "execution_count": 54,
   "id": "b4649898-f672-4ec3-90dc-63aabc0ab01f",
   "metadata": {
    "tags": []
   },
   "outputs": [],
   "source": [
    "x1 = np.random.randn(100)\n",
    "x2 = np.random.randn(100)"
   ]
  },
  {
   "cell_type": "code",
   "execution_count": 55,
   "id": "d1d75f1f-8473-4a67-b000-58ead068875c",
   "metadata": {
    "tags": []
   },
   "outputs": [],
   "source": [
    "a1 = 100\n",
    "a2 = -3"
   ]
  },
  {
   "cell_type": "code",
   "execution_count": 57,
   "id": "6368483d-184f-4c1f-828f-6cda04898c61",
   "metadata": {
    "tags": []
   },
   "outputs": [],
   "source": [
    "y = a1*x1 + a2*x2 #회귀식"
   ]
  },
  {
   "cell_type": "code",
   "execution_count": 62,
   "id": "22d8a721-0385-433d-be95-e3d62b094b94",
   "metadata": {
    "tags": []
   },
   "outputs": [
    {
     "data": {
      "text/plain": [
       "(99.99999198313714, -3.000015043408128)"
      ]
     },
     "execution_count": 62,
     "metadata": {},
     "output_type": "execute_result"
    }
   ],
   "source": [
    "a_hat1 = -15\n",
    "a_hat2 = 4\n",
    "for _ in range(100000):\n",
    "    y_hat = a_hat1*x1 + a_hat2*x2\n",
    "    da1 = np.mean(2*x1*(y_hat-y))\n",
    "    da2 = np.mean(2*x2*(y_hat-y))\n",
    "    a_hat1 -= da1*1e-4\n",
    "    a_hat2 -= da2*1e-4\n",
    "    \n",
    "a_hat1, a_hat2"
   ]
  },
  {
   "cell_type": "code",
   "execution_count": 69,
   "id": "b6e35046-83c9-4369-afb5-b8381c194476",
   "metadata": {
    "tags": []
   },
   "outputs": [],
   "source": [
    "X = np.c_[x1, x2]\n",
    "W = np.array([a1, a2]).reshape(2,1)\n",
    "y = np.dot(X, W)"
   ]
  },
  {
   "cell_type": "code",
   "execution_count": 70,
   "id": "cc544350-c907-41a4-aff1-fd9c94203d9e",
   "metadata": {
    "tags": []
   },
   "outputs": [],
   "source": [
    "W_hat = np.random.randn(2, 1)"
   ]
  },
  {
   "cell_type": "code",
   "execution_count": 72,
   "id": "41fb63c0-a129-4b34-bd21-87167509d327",
   "metadata": {
    "tags": []
   },
   "outputs": [
    {
     "data": {
      "text/plain": [
       "((100, 2), (2, 100), (2, 100))"
      ]
     },
     "execution_count": 72,
     "metadata": {},
     "output_type": "execute_result"
    }
   ],
   "source": [
    "X.shape, X.T.shape, X.transpose().shape"
   ]
  },
  {
   "cell_type": "code",
   "execution_count": 81,
   "id": "dafd6851-7753-4d98-8bc1-01dcfeab3d7c",
   "metadata": {
    "tags": []
   },
   "outputs": [],
   "source": [
    "X = np.random.randn(100, 50)\n",
    "W = np.arange(1, 51).reshape(50, 1)\n",
    "b = 300\n",
    "y = np.dot(X, W) + b"
   ]
  },
  {
   "cell_type": "code",
   "execution_count": 83,
   "id": "bb6c2677-e3b8-430f-a09f-ca1b52266fbd",
   "metadata": {
    "tags": []
   },
   "outputs": [
    {
     "data": {
      "text/plain": [
       "(array([[ 0.99793946],\n",
       "        [ 1.99997883],\n",
       "        [ 2.99959692],\n",
       "        [ 3.99979647],\n",
       "        [ 5.00208068],\n",
       "        [ 6.00065694],\n",
       "        [ 7.00078918],\n",
       "        [ 8.0002056 ],\n",
       "        [ 9.00040061],\n",
       "        [ 9.99866467],\n",
       "        [10.99948545],\n",
       "        [12.00128153],\n",
       "        [12.99922639],\n",
       "        [14.00067584],\n",
       "        [15.00231328],\n",
       "        [16.00053838],\n",
       "        [16.9997531 ],\n",
       "        [17.99979854],\n",
       "        [19.00018493],\n",
       "        [20.00171903],\n",
       "        [21.00146589],\n",
       "        [22.00063221],\n",
       "        [23.00111547],\n",
       "        [24.00247715],\n",
       "        [25.00187399],\n",
       "        [26.00046987],\n",
       "        [26.99920457],\n",
       "        [27.99995586],\n",
       "        [29.0018981 ],\n",
       "        [30.00149293],\n",
       "        [30.99772386],\n",
       "        [32.00119102],\n",
       "        [33.00235056],\n",
       "        [33.99916523],\n",
       "        [34.99931409],\n",
       "        [35.99845045],\n",
       "        [36.99995043],\n",
       "        [37.99696805],\n",
       "        [38.99938161],\n",
       "        [39.9988395 ],\n",
       "        [40.99618546],\n",
       "        [41.99807872],\n",
       "        [43.0015159 ],\n",
       "        [44.00329977],\n",
       "        [44.99792917],\n",
       "        [45.99839274],\n",
       "        [47.00087178],\n",
       "        [48.00156299],\n",
       "        [49.00189415],\n",
       "        [50.00185293]]),\n",
       " 299.991049429915)"
      ]
     },
     "execution_count": 83,
     "metadata": {},
     "output_type": "execute_result"
    }
   ],
   "source": [
    "learning_rate = 1e-4\n",
    "W_hat = np.random.randn(W.shape[0], W.shape[1])\n",
    "b_hat = 0\n",
    "for _ in range(100000):\n",
    "    y_hat = np.dot(X, W_hat) + b_hat\n",
    "    dw = 2*np.dot(X.T,(y_hat-y))\n",
    "    db = 2*np.mean(y_hat-y)\n",
    "    W_hat -= dw*learning_rate\n",
    "    b_hat -= db*learning_rate\n",
    "W_hat, b_hat"
   ]
  },
  {
   "cell_type": "code",
   "execution_count": 84,
   "id": "41171bc0-623b-4c9d-93c2-a09d22f5d974",
   "metadata": {
    "tags": []
   },
   "outputs": [],
   "source": [
    "X = np.random.choice(np.arange(1,9), 100)"
   ]
  },
  {
   "cell_type": "code",
   "execution_count": 85,
   "id": "02700236-2aab-4912-b157-02153a4dceb6",
   "metadata": {
    "tags": []
   },
   "outputs": [],
   "source": [
    "y = np.where(X >= 4, 1, 0)"
   ]
  },
  {
   "cell_type": "code",
   "execution_count": 86,
   "id": "8c1539bc-6791-4fd3-bd40-b7b3f95e0935",
   "metadata": {
    "tags": []
   },
   "outputs": [],
   "source": [
    "learning_rate = 1e-4\n",
    "a_hat = np.random.randn(1)\n",
    "for _ in range(10000):\n",
    "    y_hat = X * a_hat\n",
    "    da = np.mean(2*X*(y_hat-y))\n",
    "    a_hat -= da*learning_rate"
   ]
  },
  {
   "cell_type": "code",
   "execution_count": 87,
   "id": "bc996966-8dfe-4dd4-92cb-bf267a2c377b",
   "metadata": {
    "tags": []
   },
   "outputs": [
    {
     "data": {
      "text/plain": [
       "array([0.14041514])"
      ]
     },
     "execution_count": 87,
     "metadata": {},
     "output_type": "execute_result"
    }
   ],
   "source": [
    "a_hat"
   ]
  },
  {
   "cell_type": "code",
   "execution_count": 88,
   "id": "0e03ebdc-9c02-48f9-a0bf-b1b0ea21155c",
   "metadata": {
    "tags": []
   },
   "outputs": [
    {
     "data": {
      "text/plain": [
       "array([0.28083028])"
      ]
     },
     "execution_count": 88,
     "metadata": {},
     "output_type": "execute_result"
    }
   ],
   "source": [
    "a_hat*X[0]"
   ]
  },
  {
   "cell_type": "code",
   "execution_count": 94,
   "id": "db25eb0e-24ea-4811-a24c-745d75ae4576",
   "metadata": {
    "tags": []
   },
   "outputs": [
    {
     "name": "stdout",
     "output_type": "stream",
     "text": [
      "[0] 0\n",
      "[0] 0\n",
      "[1] 1\n",
      "[0] 0\n",
      "[1] 1\n",
      "[1] 1\n",
      "[1] 1\n",
      "[0] 0\n",
      "[1] 1\n",
      "[0] 0\n",
      "[1] 1\n",
      "[1] 1\n",
      "[1] 1\n",
      "[0] 0\n",
      "[0] 0\n",
      "[0] 0\n",
      "[0] 0\n",
      "[0] 0\n",
      "[0] 0\n",
      "[0] 0\n",
      "[1] 1\n",
      "[0] 0\n",
      "[1] 1\n",
      "[1] 1\n",
      "[1] 1\n",
      "[1] 1\n",
      "[1] 1\n",
      "[1] 1\n",
      "[1] 1\n",
      "[0] 0\n",
      "[0] 0\n",
      "[1] 1\n",
      "[1] 1\n",
      "[1] 1\n",
      "[1] 1\n",
      "[0] 0\n",
      "[1] 1\n",
      "[1] 1\n",
      "[0] 0\n",
      "[1] 1\n",
      "[1] 1\n",
      "[1] 1\n",
      "[1] 1\n",
      "[0] 0\n",
      "[1] 1\n",
      "[1] 1\n",
      "[1] 1\n",
      "[0] 0\n",
      "[1] 1\n",
      "[1] 1\n",
      "[1] 1\n",
      "[1] 1\n",
      "[1] 1\n",
      "[1] 1\n",
      "[0] 0\n",
      "[0] 0\n",
      "[0] 0\n",
      "[1] 1\n",
      "[0] 0\n",
      "[1] 1\n",
      "[0] 0\n",
      "[1] 1\n",
      "[1] 1\n",
      "[0] 0\n",
      "[0] 0\n",
      "[1] 1\n",
      "[0] 0\n",
      "[0] 0\n",
      "[0] 0\n",
      "[0] 0\n",
      "[0] 0\n",
      "[1] 1\n",
      "[0] 0\n",
      "[0] 0\n",
      "[1] 1\n",
      "[1] 1\n",
      "[0] 0\n",
      "[0] 0\n",
      "[0] 0\n",
      "[1] 1\n",
      "[0] 0\n",
      "[1] 1\n",
      "[0] 0\n",
      "[1] 1\n",
      "[0] 0\n",
      "[1] 1\n",
      "[0] 0\n",
      "[1] 1\n",
      "[1] 1\n",
      "[1] 1\n",
      "[0] 0\n",
      "[0] 0\n",
      "[0] 0\n",
      "[1] 1\n",
      "[1] 1\n",
      "[1] 1\n",
      "[1] 1\n",
      "[1] 1\n",
      "[0] 0\n",
      "[0] 0\n"
     ]
    }
   ],
   "source": [
    "for i in range(100):\n",
    "    print(np.where(a_hat*X[i] > 0.5, 1, 0), y[i])"
   ]
  },
  {
   "cell_type": "code",
   "execution_count": 95,
   "id": "b063d152-4169-4897-bfce-fff30904b77d",
   "metadata": {
    "tags": []
   },
   "outputs": [],
   "source": [
    "import matplotlib.pyplot as plt"
   ]
  },
  {
   "cell_type": "code",
   "execution_count": 98,
   "id": "a41b9a49-0e51-4b1e-a9af-ec4b4eafd357",
   "metadata": {
    "tags": []
   },
   "outputs": [],
   "source": [
    "p = np.linspace(0, 0.9999, 100)"
   ]
  },
  {
   "cell_type": "code",
   "execution_count": 99,
   "id": "d66f9dfc-c4ed-430c-87ac-0988bfb076df",
   "metadata": {
    "tags": []
   },
   "outputs": [
    {
     "data": {
      "text/plain": [
       "[<matplotlib.lines.Line2D at 0x1cbd96a8d10>]"
      ]
     },
     "execution_count": 99,
     "metadata": {},
     "output_type": "execute_result"
    },
    {
     "data": {
      "image/png": "[encoded data removed]",
      "text/plain": [
       "<Figure size 640x480 with 1 Axes>"
      ]
     },
     "metadata": {},
     "output_type": "display_data"
    }
   ],
   "source": [
    "plt.plot(p)"
   ]
  },
  {
   "cell_type": "code",
   "execution_count": 100,
   "id": "bd7722d7-f430-489c-8c28-ad2bd744d804",
   "metadata": {
    "tags": []
   },
   "outputs": [
    {
     "data": {
      "text/plain": [
       "[<matplotlib.lines.Line2D at 0x1cbd9fda790>]"
      ]
     },
     "execution_count": 100,
     "metadata": {},
     "output_type": "execute_result"
    },
    {
     "data": {
      "image/png": "[encoded data removed]",
      "text/plain": [
       "<Figure size 640x480 with 1 Axes>"
      ]
     },
     "metadata": {},
     "output_type": "display_data"
    }
   ],
   "source": [
    "plt.plot(p/(1-p))"
   ]
  },
  {
   "cell_type": "code",
   "execution_count": 101,
   "id": "e4b9a4cd-fff8-43ea-b263-7f08b5bb9cbc",
   "metadata": {
    "tags": []
   },
   "outputs": [
    {
     "name": "stderr",
     "output_type": "stream",
     "text": [
      "C:\\Users\\user\\AppData\\Local\\Temp\\ipykernel_28140\\2845543051.py:1: RuntimeWarning: divide by zero encountered in log\n",
      "  plt.plot(np.log(p/(1-p)))\n"
     ]
    },
    {
     "data": {
      "text/plain": [
       "[<matplotlib.lines.Line2D at 0x1cbda350150>]"
      ]
     },
     "execution_count": 101,
     "metadata": {},
     "output_type": "execute_result"
    },
    {
     "data": {
      "image/png": "[encoded data removed]",
      "text/plain": [
       "<Figure size 640x480 with 1 Axes>"
      ]
     },
     "metadata": {},
     "output_type": "display_data"
    }
   ],
   "source": [
    "plt.plot(np.log(p/(1-p)))"
   ]
  },
  {
   "cell_type": "code",
   "execution_count": 102,
   "id": "84f8c313-fd60-4217-ac60-32c8489e356e",
   "metadata": {
    "tags": []
   },
   "outputs": [
    {
     "name": "stderr",
     "output_type": "stream",
     "text": [
      "C:\\Users\\user\\AppData\\Local\\Temp\\ipykernel_28140\\2420458820.py:2: RuntimeWarning: divide by zero encountered in log\n",
      "  plt.plot(8*np.log(p) + 2*np.log(1-p))\n"
     ]
    },
    {
     "data": {
      "text/plain": [
       "[<matplotlib.lines.Line2D at 0x1cbda2fa3d0>]"
      ]
     },
     "execution_count": 102,
     "metadata": {},
     "output_type": "execute_result"
    },
    {
     "data": {
      "image/png": "[encoded data removed]",
      "text/plain": [
       "<Figure size 640x480 with 1 Axes>"
      ]
     },
     "metadata": {},
     "output_type": "display_data"
    }
   ],
   "source": [
    "p = np.linspace(0, 1, 100)\n",
    "plt.plot(8*np.log(p) + 2*np.log(1-p))"
   ]
  },
  {
   "cell_type": "code",
   "execution_count": null,
   "id": "ed91ec74-488f-4e71-b4c1-568a1e42224c",
   "metadata": {},
   "outputs": [],
   "source": []
  }
 ],
 "metadata": {
  "kernelspec": {
   "display_name": "Python 3 (ipykernel)",
   "language": "python",
   "name": "python3"
  },
  "language_info": {
   "codemirror_mode": {
    "name": "ipython",
    "version": 3
   },
   "file_extension": ".py",
   "mimetype": "text/x-python",
   "name": "python",
   "nbconvert_exporter": "python",
   "pygments_lexer": "ipython3",
   "version": "3.11.4"
  }
 },
 "nbformat": 4,
 "nbformat_minor": 5
}
