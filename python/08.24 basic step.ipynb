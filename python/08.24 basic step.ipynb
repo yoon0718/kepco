{
 "cells": [
  {
   "cell_type": "code",
   "execution_count": 7,
   "id": "171da629",
   "metadata": {},
   "outputs": [
    {
     "name": "stdout",
     "output_type": "stream",
     "text": [
      "hello world\n"
     ]
    }
   ],
   "source": [
    "print(\"hello world\")"
   ]
  },
  {
   "cell_type": "code",
   "execution_count": 9,
   "id": "33258e30",
   "metadata": {},
   "outputs": [
    {
     "data": {
      "text/plain": [
       "3"
      ]
     },
     "execution_count": 9,
     "metadata": {},
     "output_type": "execute_result"
    }
   ],
   "source": [
    "1+2"
   ]
  },
  {
   "cell_type": "code",
   "execution_count": 12,
   "id": "66fff43d",
   "metadata": {},
   "outputs": [
    {
     "data": {
      "text/plain": [
       "1.25"
      ]
     },
     "execution_count": 12,
     "metadata": {},
     "output_type": "execute_result"
    }
   ],
   "source": [
    "3/2.4"
   ]
  },
  {
   "cell_type": "code",
   "execution_count": 14,
   "id": "46f0bd0b",
   "metadata": {},
   "outputs": [
    {
     "data": {
      "text/plain": [
       "27"
      ]
     },
     "execution_count": 14,
     "metadata": {},
     "output_type": "execute_result"
    }
   ],
   "source": [
    "3*9"
   ]
  },
  {
   "cell_type": "code",
   "execution_count": 15,
   "id": "1e0c0112",
   "metadata": {},
   "outputs": [
    {
     "data": {
      "text/plain": [
       "3"
      ]
     },
     "execution_count": 15,
     "metadata": {},
     "output_type": "execute_result"
    }
   ],
   "source": [
    "a = 1\n",
    "b = 2\n",
    "a+b"
   ]
  },
  {
   "cell_type": "code",
   "execution_count": 16,
   "id": "1f377369",
   "metadata": {},
   "outputs": [
    {
     "name": "stdout",
     "output_type": "stream",
     "text": [
      "python\n"
     ]
    }
   ],
   "source": [
    "a = \"python\"\n",
    "print(a)"
   ]
  },
  {
   "cell_type": "code",
   "execution_count": 17,
   "id": "aa805df4",
   "metadata": {},
   "outputs": [
    {
     "data": {
      "text/plain": [
       "'python'"
      ]
     },
     "execution_count": 17,
     "metadata": {},
     "output_type": "execute_result"
    }
   ],
   "source": [
    "a = \"python\"\n",
    "a"
   ]
  },
  {
   "cell_type": "code",
   "execution_count": 19,
   "id": "a50bf6e9",
   "metadata": {},
   "outputs": [
    {
     "name": "stdout",
     "output_type": "stream",
     "text": [
      "a 는 1보다 큽니다. a =  3\n"
     ]
    }
   ],
   "source": [
    "a = 3\n",
    "if a > 1:\n",
    "    print(\"a 는 1보다 큽니다. a = \", a)"
   ]
  },
  {
   "cell_type": "code",
   "execution_count": 20,
   "id": "91e989d0",
   "metadata": {},
   "outputs": [
    {
     "name": "stdout",
     "output_type": "stream",
     "text": [
      "1\n",
      "2\n",
      "3\n"
     ]
    }
   ],
   "source": [
    "for a in [1, 2, 3]:\n",
    "    print(a)"
   ]
  },
  {
   "cell_type": "code",
   "execution_count": 23,
   "id": "ef34291f",
   "metadata": {},
   "outputs": [
    {
     "name": "stdout",
     "output_type": "stream",
     "text": [
      "0\n",
      "1\n",
      "2\n"
     ]
    }
   ],
   "source": [
    "i = 0\n",
    "while i < 3:\n",
    "    print(i)\n",
    "    i = i + 1"
   ]
  },
  {
   "cell_type": "code",
   "execution_count": 24,
   "id": "f30b2552",
   "metadata": {},
   "outputs": [
    {
     "data": {
      "text/plain": [
       "15"
      ]
     },
     "execution_count": 24,
     "metadata": {},
     "output_type": "execute_result"
    }
   ],
   "source": [
    "def add(a, b):\n",
    "    return a + b\n",
    "add(5, 10)"
   ]
  },
  {
   "cell_type": "code",
   "execution_count": 26,
   "id": "05bbac77",
   "metadata": {},
   "outputs": [],
   "source": [
    "# 정수형\n",
    "a = 123\n",
    "a = -123\n",
    "a = 0"
   ]
  },
  {
   "cell_type": "code",
   "execution_count": 27,
   "id": "9ac543f6",
   "metadata": {},
   "outputs": [],
   "source": [
    "# 실수형\n",
    "a = 1.2\n",
    "a = -3.45"
   ]
  },
  {
   "cell_type": "code",
   "execution_count": 33,
   "id": "d8e1fc9a",
   "metadata": {},
   "outputs": [
    {
     "data": {
      "text/plain": [
       "(42400000000.0, 4.24e-10)"
      ]
     },
     "execution_count": 33,
     "metadata": {},
     "output_type": "execute_result"
    }
   ],
   "source": [
    "a = 4.24E10\n",
    "b = 4.24e-10\n",
    "a, b"
   ]
  },
  {
   "cell_type": "code",
   "execution_count": 35,
   "id": "e322823c",
   "metadata": {},
   "outputs": [
    {
     "name": "stdout",
     "output_type": "stream",
     "text": [
      "127\n"
     ]
    }
   ],
   "source": [
    "#8진수\n",
    "a = 0o177\n",
    "print(a)"
   ]
  },
  {
   "cell_type": "code",
   "execution_count": 36,
   "id": "858a4dfa",
   "metadata": {},
   "outputs": [
    {
     "name": "stdout",
     "output_type": "stream",
     "text": [
      "2303 2748\n"
     ]
    }
   ],
   "source": [
    "#16진수\n",
    "a = 0x8ff\n",
    "b = 0xABC\n",
    "print(a, b)"
   ]
  },
  {
   "cell_type": "code",
   "execution_count": 39,
   "id": "17f026da",
   "metadata": {},
   "outputs": [
    {
     "name": "stdout",
     "output_type": "stream",
     "text": [
      "7 -1 0.75 12\n"
     ]
    }
   ],
   "source": [
    "#사칙연산\n",
    "a = 3\n",
    "b = 4\n",
    "print(a + b, a - b, a / b, a * b)"
   ]
  },
  {
   "cell_type": "code",
   "execution_count": 40,
   "id": "4d81fcb1",
   "metadata": {},
   "outputs": [
    {
     "data": {
      "text/plain": [
       "81"
      ]
     },
     "execution_count": 40,
     "metadata": {},
     "output_type": "execute_result"
    }
   ],
   "source": [
    "a = 3\n",
    "b = 4\n",
    "a**b"
   ]
  },
  {
   "cell_type": "code",
   "execution_count": 43,
   "id": "923f17e3",
   "metadata": {},
   "outputs": [
    {
     "name": "stdout",
     "output_type": "stream",
     "text": [
      "1 3\n",
      "1.75 1\n"
     ]
    }
   ],
   "source": [
    "# % // 연산자\n",
    "print(7%3, 3%7)\n",
    "print( 7/4, 7//4)"
   ]
  },
  {
   "cell_type": "code",
   "execution_count": 44,
   "id": "17fdd51a",
   "metadata": {},
   "outputs": [
    {
     "data": {
      "text/plain": [
       "'python is fun!'"
      ]
     },
     "execution_count": 44,
     "metadata": {},
     "output_type": "execute_result"
    }
   ],
   "source": [
    "head = \"python\"\n",
    "tail = \" is fun!\"\n",
    "head + tail"
   ]
  },
  {
   "cell_type": "code",
   "execution_count": 46,
   "id": "0db4e7eb",
   "metadata": {},
   "outputs": [
    {
     "data": {
      "text/plain": [
       "'pythonpython'"
      ]
     },
     "execution_count": 46,
     "metadata": {},
     "output_type": "execute_result"
    }
   ],
   "source": [
    "a = \"python\"\n",
    "a * 2"
   ]
  },
  {
   "cell_type": "code",
   "execution_count": 47,
   "id": "26409f8c",
   "metadata": {},
   "outputs": [
    {
     "name": "stdout",
     "output_type": "stream",
     "text": [
      "==================================================\n",
      "My program\n",
      "==================================================\n"
     ]
    }
   ],
   "source": [
    "print(\"=\"*50)\n",
    "print(\"My program\")\n",
    "print(\"=\"*50)"
   ]
  },
  {
   "cell_type": "code",
   "execution_count": 48,
   "id": "0e9679b6",
   "metadata": {},
   "outputs": [
    {
     "data": {
      "text/plain": [
       "17"
      ]
     },
     "execution_count": 48,
     "metadata": {},
     "output_type": "execute_result"
    }
   ],
   "source": [
    "a = \"Life is too short\"\n",
    "len(a)"
   ]
  },
  {
   "cell_type": "code",
   "execution_count": 51,
   "id": "d84e5a67",
   "metadata": {},
   "outputs": [
    {
     "data": {
      "text/plain": [
       "('e', 'n', 'L')"
      ]
     },
     "execution_count": 51,
     "metadata": {},
     "output_type": "execute_result"
    }
   ],
   "source": [
    "a = \"Life is too short, You need Python\"\n",
    "a[3] , a[-1], a[-0]"
   ]
  },
  {
   "cell_type": "code",
   "execution_count": 57,
   "id": "f5708134",
   "metadata": {},
   "outputs": [
    {
     "name": "stdout",
     "output_type": "stream",
     "text": [
      "L\n",
      "i\n",
      "f\n",
      "e\n"
     ]
    }
   ],
   "source": [
    "for i in [0, 1, 2, 3]:print(a[i])"
   ]
  },
  {
   "cell_type": "code",
   "execution_count": 59,
   "id": "b4e65b2d",
   "metadata": {},
   "outputs": [
    {
     "data": {
      "text/plain": [
       "('Life', 'You need Python')"
      ]
     },
     "execution_count": 59,
     "metadata": {},
     "output_type": "execute_result"
    }
   ],
   "source": [
    "a[0:4], a[19:]"
   ]
  },
  {
   "cell_type": "code",
   "execution_count": 60,
   "id": "f980a471",
   "metadata": {},
   "outputs": [
    {
     "data": {
      "text/plain": [
       "('20230824', 'Rainy')"
      ]
     },
     "execution_count": 60,
     "metadata": {},
     "output_type": "execute_result"
    }
   ],
   "source": [
    "a = \"20230824Rainy\"\n",
    "date = a[0:8]\n",
    "weather = a[8:]\n",
    "date, weather"
   ]
  },
  {
   "cell_type": "code",
   "execution_count": 61,
   "id": "ff5226a3",
   "metadata": {},
   "outputs": [
    {
     "data": {
      "text/plain": [
       "('2023', '0824', 'Rainy')"
      ]
     },
     "execution_count": 61,
     "metadata": {},
     "output_type": "execute_result"
    }
   ],
   "source": [
    "year = a[0:4]\n",
    "date = a[4:8]\n",
    "weather = a[8:]\n",
    "year, date, weather"
   ]
  },
  {
   "cell_type": "code",
   "execution_count": 65,
   "id": "daa10718",
   "metadata": {},
   "outputs": [
    {
     "data": {
      "text/plain": [
       "('I eat 3 apples.', 'I eat five apples.')"
      ]
     },
     "execution_count": 65,
     "metadata": {},
     "output_type": "execute_result"
    }
   ],
   "source": [
    "\"I eat %d apples.\" %3, \"I eat %s apples.\" %\"five\""
   ]
  },
  {
   "cell_type": "code",
   "execution_count": 66,
   "id": "a643c7bf",
   "metadata": {},
   "outputs": [
    {
     "data": {
      "text/plain": [
       "'I eat 3 apples.'"
      ]
     },
     "execution_count": 66,
     "metadata": {},
     "output_type": "execute_result"
    }
   ],
   "source": [
    "number = 3\n",
    "\"I eat %d apples.\" %number"
   ]
  },
  {
   "cell_type": "code",
   "execution_count": 68,
   "id": "b0a1b408",
   "metadata": {},
   "outputs": [
    {
     "data": {
      "text/plain": [
       "'I ate 10 apples. so I was sick for three days'"
      ]
     },
     "execution_count": 68,
     "metadata": {},
     "output_type": "execute_result"
    }
   ],
   "source": [
    "number = 10\n",
    "day = \"three\"\n",
    "\"I ate %d apples. so I was sick for %s days\" %(number, day)"
   ]
  },
  {
   "cell_type": "code",
   "execution_count": 71,
   "id": "682ded2a",
   "metadata": {},
   "outputs": [],
   "source": [
    "####이스케이프문자(개행문자)####포맷코드(일체)####외우기"
   ]
  },
  {
   "cell_type": "code",
   "execution_count": 72,
   "id": "333976c9",
   "metadata": {},
   "outputs": [
    {
     "data": {
      "text/plain": [
       "'        hi'"
      ]
     },
     "execution_count": 72,
     "metadata": {},
     "output_type": "execute_result"
    }
   ],
   "source": [
    "\"%10s\" % \"hi\""
   ]
  },
  {
   "cell_type": "code",
   "execution_count": 74,
   "id": "ff6d1e7e",
   "metadata": {},
   "outputs": [
    {
     "data": {
      "text/plain": [
       "'hi        jane.'"
      ]
     },
     "execution_count": 74,
     "metadata": {},
     "output_type": "execute_result"
    }
   ],
   "source": [
    "\"%-10sjane.\" % \"hi\""
   ]
  },
  {
   "cell_type": "code",
   "execution_count": 76,
   "id": "57e89d73",
   "metadata": {},
   "outputs": [
    {
     "name": "stdout",
     "output_type": "stream",
     "text": [
      "python\n"
     ]
    }
   ],
   "source": [
    "a = \"pithon\"\n",
    "a = a[0:1] + 'y' + a[2:]\n",
    "print(a)"
   ]
  },
  {
   "cell_type": "code",
   "execution_count": 77,
   "id": "06258d46",
   "metadata": {},
   "outputs": [
    {
     "data": {
      "text/plain": [
       "'3.1416'"
      ]
     },
     "execution_count": 77,
     "metadata": {},
     "output_type": "execute_result"
    }
   ],
   "source": [
    "\"%0.4f\" %3.141592"
   ]
  },
  {
   "cell_type": "code",
   "execution_count": 78,
   "id": "0002b830",
   "metadata": {},
   "outputs": [
    {
     "data": {
      "text/plain": [
       "'    3.1416'"
      ]
     },
     "execution_count": 78,
     "metadata": {},
     "output_type": "execute_result"
    }
   ],
   "source": [
    "\"%10.4f\" %3.141592"
   ]
  },
  {
   "cell_type": "code",
   "execution_count": 79,
   "id": "977f8ec0",
   "metadata": {},
   "outputs": [
    {
     "data": {
      "text/plain": [
       "'I eat 3 apples'"
      ]
     },
     "execution_count": 79,
     "metadata": {},
     "output_type": "execute_result"
    }
   ],
   "source": [
    "\"I eat {0} apples\".format(3)"
   ]
  },
  {
   "cell_type": "code",
   "execution_count": 80,
   "id": "fd810bf3",
   "metadata": {},
   "outputs": [
    {
     "data": {
      "text/plain": [
       "'I eat five apples'"
      ]
     },
     "execution_count": 80,
     "metadata": {},
     "output_type": "execute_result"
    }
   ],
   "source": [
    "\"I eat {0} apples\".format(\"five\")"
   ]
  },
  {
   "cell_type": "code",
   "execution_count": 81,
   "id": "fda30cc6",
   "metadata": {},
   "outputs": [
    {
     "data": {
      "text/plain": [
       "'I eat 3 apples.'"
      ]
     },
     "execution_count": 81,
     "metadata": {},
     "output_type": "execute_result"
    }
   ],
   "source": [
    "number = 3\n",
    "\"I eat {0} apples.\".format(number)"
   ]
  },
  {
   "cell_type": "code",
   "execution_count": 82,
   "id": "f8c979c9",
   "metadata": {},
   "outputs": [
    {
     "data": {
      "text/plain": [
       "'i eat three apple. so I was sick for 10 days'"
      ]
     },
     "execution_count": 82,
     "metadata": {},
     "output_type": "execute_result"
    }
   ],
   "source": [
    "number = 10\n",
    "day = \"three\"\n",
    "\"i eat {0} apple. so I was sick for {1} days\".format(day, number)"
   ]
  },
  {
   "cell_type": "code",
   "execution_count": 86,
   "id": "b1806f08",
   "metadata": {},
   "outputs": [
    {
     "data": {
      "text/plain": [
       "'I ate three apple. so I was sick for 10 days'"
      ]
     },
     "execution_count": 86,
     "metadata": {},
     "output_type": "execute_result"
    }
   ],
   "source": [
    "\"I ate {number} apple. so I was sick for {day} days\".format(number = \"three\", day = 10)"
   ]
  },
  {
   "cell_type": "code",
   "execution_count": 87,
   "id": "f1ae35ee",
   "metadata": {},
   "outputs": [
    {
     "data": {
      "text/plain": [
       "'I ate three apples. so I was sick for 10 days'"
      ]
     },
     "execution_count": 87,
     "metadata": {},
     "output_type": "execute_result"
    }
   ],
   "source": [
    "\"I ate {0} apples. so I was sick for {day} days\".format(\"three\", day = 10)"
   ]
  },
  {
   "cell_type": "code",
   "execution_count": 88,
   "id": "79e31ceb",
   "metadata": {},
   "outputs": [
    {
     "data": {
      "text/plain": [
       "'hi!       '"
      ]
     },
     "execution_count": 88,
     "metadata": {},
     "output_type": "execute_result"
    }
   ],
   "source": [
    "\"{0:<10}\".format(\"hi!\")"
   ]
  },
  {
   "cell_type": "code",
   "execution_count": 89,
   "id": "aca14c2e",
   "metadata": {},
   "outputs": [
    {
     "data": {
      "text/plain": [
       "'       hi!'"
      ]
     },
     "execution_count": 89,
     "metadata": {},
     "output_type": "execute_result"
    }
   ],
   "source": [
    "\"{0:>10}\".format(\"hi!\")"
   ]
  },
  {
   "cell_type": "code",
   "execution_count": 90,
   "id": "ef997437",
   "metadata": {},
   "outputs": [
    {
     "data": {
      "text/plain": [
       "'   hi!    '"
      ]
     },
     "execution_count": 90,
     "metadata": {},
     "output_type": "execute_result"
    }
   ],
   "source": [
    "\"{0:^10}\".format(\"hi!\")"
   ]
  },
  {
   "cell_type": "code",
   "execution_count": 91,
   "id": "6d8205c9",
   "metadata": {},
   "outputs": [
    {
     "data": {
      "text/plain": [
       "'hi!======='"
      ]
     },
     "execution_count": 91,
     "metadata": {},
     "output_type": "execute_result"
    }
   ],
   "source": [
    "\"{0:=<10}\".format(\"hi!\")"
   ]
  },
  {
   "cell_type": "code",
   "execution_count": 92,
   "id": "f333eaa9",
   "metadata": {},
   "outputs": [
    {
     "data": {
      "text/plain": [
       "'=======hi!'"
      ]
     },
     "execution_count": 92,
     "metadata": {},
     "output_type": "execute_result"
    }
   ],
   "source": [
    "\"{0:=>10}\".format(\"hi!\")"
   ]
  },
  {
   "cell_type": "code",
   "execution_count": 94,
   "id": "be192a86",
   "metadata": {},
   "outputs": [
    {
     "data": {
      "text/plain": [
       "'====hi===='"
      ]
     },
     "execution_count": 94,
     "metadata": {},
     "output_type": "execute_result"
    }
   ],
   "source": [
    "\"{0:=^10}\".format(\"hi\")"
   ]
  },
  {
   "cell_type": "code",
   "execution_count": 95,
   "id": "1fdb57e7",
   "metadata": {},
   "outputs": [
    {
     "data": {
      "text/plain": [
       "'3.1416'"
      ]
     },
     "execution_count": 95,
     "metadata": {},
     "output_type": "execute_result"
    }
   ],
   "source": [
    "y = 3.141592\n",
    "\"{0:0.4f}\".format(y)"
   ]
  },
  {
   "cell_type": "code",
   "execution_count": 96,
   "id": "bc5ed697",
   "metadata": {},
   "outputs": [
    {
     "data": {
      "text/plain": [
       "'    3.1416'"
      ]
     },
     "execution_count": 96,
     "metadata": {},
     "output_type": "execute_result"
    }
   ],
   "source": [
    "\"{0:10.4f}\".format(y)"
   ]
  },
  {
   "cell_type": "code",
   "execution_count": 97,
   "id": "3a3e0460",
   "metadata": {},
   "outputs": [
    {
     "data": {
      "text/plain": [
       "'{and}'"
      ]
     },
     "execution_count": 97,
     "metadata": {},
     "output_type": "execute_result"
    }
   ],
   "source": [
    "\"{{and}}\".format()"
   ]
  },
  {
   "cell_type": "code",
   "execution_count": 101,
   "id": "64f13355",
   "metadata": {},
   "outputs": [
    {
     "data": {
      "text/plain": [
       "'나의 이름은 홍길동 입니다. 나이는 27 입니다.'"
      ]
     },
     "execution_count": 101,
     "metadata": {},
     "output_type": "execute_result"
    }
   ],
   "source": [
    "name = \"홍길동\"\n",
    "age = 27\n",
    "f\"나의 이름은 {name} 입니다. 나이는 {age} 입니다.\""
   ]
  },
  {
   "cell_type": "code",
   "execution_count": 104,
   "id": "cdf4193a",
   "metadata": {},
   "outputs": [
    {
     "data": {
      "text/plain": [
       "'나는 내년이면 28살입니다.'"
      ]
     },
     "execution_count": 104,
     "metadata": {},
     "output_type": "execute_result"
    }
   ],
   "source": [
    "f\"나는 내년이면 {age + 1}살입니다.\""
   ]
  },
  {
   "cell_type": "code",
   "execution_count": 110,
   "id": "c2b10274",
   "metadata": {},
   "outputs": [
    {
     "data": {
      "text/plain": [
       "'나의 이름은 윤여록 입니다. 나이는 27입니다.'"
      ]
     },
     "execution_count": 110,
     "metadata": {},
     "output_type": "execute_result"
    }
   ],
   "source": [
    "d = {'name' : '윤여록', 'age' : 27}\n",
    "f\"나의 이름은 {d['name']} 입니다. 나이는 {d['age']}입니다.\""
   ]
  },
  {
   "cell_type": "code",
   "execution_count": null,
   "id": "9c60c71d",
   "metadata": {},
   "outputs": [],
   "source": [
    "hobby를 가지고 b 인덱스를 있는만큼 찾아라 for문사용 금지\n",
    "(find사용)"
   ]
  },
  {
   "cell_type": "code",
   "execution_count": 111,
   "id": "f968e741",
   "metadata": {},
   "outputs": [
    {
     "data": {
      "text/plain": [
       "2"
      ]
     },
     "execution_count": 111,
     "metadata": {},
     "output_type": "execute_result"
    }
   ],
   "source": [
    "\"hobby\".find('b')"
   ]
  },
  {
   "cell_type": "code",
   "execution_count": 112,
   "id": "72a367c2",
   "metadata": {},
   "outputs": [
    {
     "data": {
      "text/plain": [
       "'h,o,b,b,y'"
      ]
     },
     "execution_count": 112,
     "metadata": {},
     "output_type": "execute_result"
    }
   ],
   "source": [
    "\",\".join('hobby')"
   ]
  },
  {
   "cell_type": "code",
   "execution_count": 114,
   "id": "fe0a5347",
   "metadata": {},
   "outputs": [
    {
     "data": {
      "text/plain": [
       "['h', 'o', 'b', 'b', 'y']"
      ]
     },
     "execution_count": 114,
     "metadata": {},
     "output_type": "execute_result"
    }
   ],
   "source": [
    "\",\".join('hobby').split(',')"
   ]
  },
  {
   "cell_type": "code",
   "execution_count": 71,
   "id": "bfd1476d",
   "metadata": {},
   "outputs": [
    {
     "data": {
      "text/plain": [
       "4"
      ]
     },
     "execution_count": 71,
     "metadata": {},
     "output_type": "execute_result"
    }
   ],
   "source": [
    "name = 'hasdbhsbjdbsjdb'\n",
    "a = name.find('b')\n",
    "a"
   ]
  },
  {
   "cell_type": "code",
   "execution_count": 72,
   "id": "589c9131",
   "metadata": {},
   "outputs": [
    {
     "data": {
      "text/plain": [
       "['h', 'a', 's', 'd', 'b', 'h', 's', 'b', 'j', 'd', 'b', 's', 'j', 'd', 'b']"
      ]
     },
     "execution_count": 72,
     "metadata": {},
     "output_type": "execute_result"
    }
   ],
   "source": [
    "\",\".join(name).split(',')"
   ]
  },
  {
   "cell_type": "code",
   "execution_count": 73,
   "id": "d6b1cf7f",
   "metadata": {},
   "outputs": [
    {
     "data": {
      "text/plain": [
       "'hsbjdbsjdb'"
      ]
     },
     "execution_count": 73,
     "metadata": {},
     "output_type": "execute_result"
    }
   ],
   "source": [
    "name = name.replace(name[0:a+1], \"\")\n",
    "name"
   ]
  },
  {
   "cell_type": "code",
   "execution_count": 74,
   "id": "986588d1",
   "metadata": {},
   "outputs": [
    {
     "data": {
      "text/plain": [
       "7"
      ]
     },
     "execution_count": 74,
     "metadata": {},
     "output_type": "execute_result"
    }
   ],
   "source": [
    "d = name.find('b')\n",
    "a = a + d + 1\n",
    "a"
   ]
  },
  {
   "cell_type": "code",
   "execution_count": 75,
   "id": "31dc6306",
   "metadata": {},
   "outputs": [
    {
     "data": {
      "text/plain": [
       "'db'"
      ]
     },
     "execution_count": 75,
     "metadata": {},
     "output_type": "execute_result"
    }
   ],
   "source": [
    "name = name.replace(name[0:a+1], \"\")\n",
    "name"
   ]
  },
  {
   "cell_type": "code",
   "execution_count": 37,
   "id": "d9c56775",
   "metadata": {},
   "outputs": [
    {
     "data": {
      "text/plain": [
       "7"
      ]
     },
     "execution_count": 37,
     "metadata": {},
     "output_type": "execute_result"
    }
   ],
   "source": [
    "\",\".join(name).split(',')\n",
    "d = name.find('b')\n",
    "a = a + d + 1\n",
    "a"
   ]
  },
  {
   "cell_type": "code",
   "execution_count": 37,
   "id": "dd5924d5",
   "metadata": {},
   "outputs": [
    {
     "data": {
      "text/plain": [
       "7"
      ]
     },
     "execution_count": 37,
     "metadata": {},
     "output_type": "execute_result"
    }
   ],
   "source": []
  },
  {
   "cell_type": "code",
   "execution_count": 62,
   "id": "60039ddf",
   "metadata": {},
   "outputs": [
    {
     "data": {
      "text/plain": [
       "['']"
      ]
     },
     "execution_count": 62,
     "metadata": {},
     "output_type": "execute_result"
    }
   ],
   "source": [
    "name = name.replace(name[0:a+1], \"\")\n",
    "\",\".join(name).split(',')\n"
   ]
  },
  {
   "cell_type": "code",
   "execution_count": 55,
   "id": "16240a89",
   "metadata": {},
   "outputs": [
    {
     "data": {
      "text/plain": [
       "2"
      ]
     },
     "execution_count": 55,
     "metadata": {},
     "output_type": "execute_result"
    }
   ],
   "source": [
    "d = name.find('b')\n",
    "d"
   ]
  },
  {
   "cell_type": "code",
   "execution_count": 37,
   "id": "0126b565",
   "metadata": {},
   "outputs": [
    {
     "data": {
      "text/plain": [
       "7"
      ]
     },
     "execution_count": 37,
     "metadata": {},
     "output_type": "execute_result"
    }
   ],
   "source": [
    "a = a + d + 1\n",
    "a"
   ]
  },
  {
   "cell_type": "code",
   "execution_count": 52,
   "id": "6906c666",
   "metadata": {},
   "outputs": [
    {
     "data": {
      "text/plain": [
       "16"
      ]
     },
     "execution_count": 52,
     "metadata": {},
     "output_type": "execute_result"
    }
   ],
   "source": [
    "\",\".join(name).split(',')\n",
    "d = name.find('b')\n",
    "a = a + d + 1\n",
    "a"
   ]
  },
  {
   "cell_type": "code",
   "execution_count": 93,
   "id": "9fb801a4",
   "metadata": {},
   "outputs": [
    {
     "data": {
      "text/plain": [
       "(4, 'asdcBcfdbvsbcbsd')"
      ]
     },
     "execution_count": 93,
     "metadata": {},
     "output_type": "execute_result"
    }
   ],
   "source": [
    "name = 'asdcbcfdbvsbcbsd'\n",
    "a = name.find('b')\n",
    "name = name[0:a] + name[a].upper() + name[a+1:]\n",
    "a, name"
   ]
  },
  {
   "cell_type": "code",
   "execution_count": 94,
   "id": "7bf2ed94",
   "metadata": {},
   "outputs": [
    {
     "data": {
      "text/plain": [
       "(8, 'asdcBcfdBvsbcbsd')"
      ]
     },
     "execution_count": 94,
     "metadata": {},
     "output_type": "execute_result"
    }
   ],
   "source": [
    "a = name.find('b')\n",
    "name = name[0:a] + name[a].upper() + name[a+1:]\n",
    "a, name"
   ]
  },
  {
   "cell_type": "code",
   "execution_count": 95,
   "id": "32f23a05",
   "metadata": {},
   "outputs": [
    {
     "data": {
      "text/plain": [
       "(11, 'asdcBcfdBvsBcbsd')"
      ]
     },
     "execution_count": 95,
     "metadata": {},
     "output_type": "execute_result"
    }
   ],
   "source": [
    "a = name.find('b')\n",
    "name = name[0:a] + name[a].upper() + name[a+1:]\n",
    "a, name"
   ]
  },
  {
   "cell_type": "code",
   "execution_count": 96,
   "id": "accb25bc",
   "metadata": {},
   "outputs": [
    {
     "data": {
      "text/plain": [
       "(13, 'asdcBcfdBvsBcBsd')"
      ]
     },
     "execution_count": 96,
     "metadata": {},
     "output_type": "execute_result"
    }
   ],
   "source": [
    "a = name.find('b')\n",
    "name = name[0:a] + name[a].upper() + name[a+1:]\n",
    "a, name"
   ]
  },
  {
   "cell_type": "code",
   "execution_count": 97,
   "id": "6fae0520",
   "metadata": {},
   "outputs": [
    {
     "data": {
      "text/plain": [
       "(-1, 'asdcBcfdBvsBcBsDasdcBcfdBvsBcBsd')"
      ]
     },
     "execution_count": 97,
     "metadata": {},
     "output_type": "execute_result"
    }
   ],
   "source": [
    "a = name.find('b')\n",
    "name = name[0:a] + name[a].upper() + name[a+1:]\n",
    "a, name"
   ]
  },
  {
   "cell_type": "code",
   "execution_count": 98,
   "id": "c934e0f0",
   "metadata": {},
   "outputs": [
    {
     "data": {
      "text/plain": [
       "[1, 2, 3]"
      ]
     },
     "execution_count": 98,
     "metadata": {},
     "output_type": "execute_result"
    }
   ],
   "source": [
    "a = [1, 2, 3]\n",
    "a"
   ]
  },
  {
   "cell_type": "code",
   "execution_count": 99,
   "id": "363fb443",
   "metadata": {},
   "outputs": [
    {
     "data": {
      "text/plain": [
       "(1, 2, 3)"
      ]
     },
     "execution_count": 99,
     "metadata": {},
     "output_type": "execute_result"
    }
   ],
   "source": [
    "a[0], a[1], a[2]"
   ]
  },
  {
   "cell_type": "code",
   "execution_count": 100,
   "id": "31ab4d06",
   "metadata": {},
   "outputs": [
    {
     "data": {
      "text/plain": [
       "4"
      ]
     },
     "execution_count": 100,
     "metadata": {},
     "output_type": "execute_result"
    }
   ],
   "source": [
    "a[0] + a[2]"
   ]
  },
  {
   "cell_type": "code",
   "execution_count": 101,
   "id": "547d9979",
   "metadata": {},
   "outputs": [
    {
     "data": {
      "text/plain": [
       "3"
      ]
     },
     "execution_count": 101,
     "metadata": {},
     "output_type": "execute_result"
    }
   ],
   "source": [
    "a[-1]"
   ]
  },
  {
   "cell_type": "code",
   "execution_count": 104,
   "id": "4f6f6058",
   "metadata": {},
   "outputs": [
    {
     "data": {
      "text/plain": [
       "[1, 2, ['a', 'b', 'c']]"
      ]
     },
     "execution_count": 104,
     "metadata": {},
     "output_type": "execute_result"
    }
   ],
   "source": [
    "a = [1, 2, ['a', 'b', 'c']]\n",
    "a\n"
   ]
  },
  {
   "cell_type": "code",
   "execution_count": 106,
   "id": "971bf87c",
   "metadata": {},
   "outputs": [
    {
     "data": {
      "text/plain": [
       "('a', 'a')"
      ]
     },
     "execution_count": 106,
     "metadata": {},
     "output_type": "execute_result"
    }
   ],
   "source": [
    "a[2][0], a[-1][0]"
   ]
  },
  {
   "cell_type": "code",
   "execution_count": 109,
   "id": "4092038b",
   "metadata": {},
   "outputs": [
    {
     "data": {
      "text/plain": [
       "[1, 2, ['a', 'b', ['Life', 'is']]]"
      ]
     },
     "execution_count": 109,
     "metadata": {},
     "output_type": "execute_result"
    }
   ],
   "source": [
    "a = [1, 2, ['a', 'b', ['Life', 'is']]]\n",
    "a"
   ]
  },
  {
   "cell_type": "code",
   "execution_count": 112,
   "id": "41c3163e",
   "metadata": {},
   "outputs": [
    {
     "data": {
      "text/plain": [
       "'is'"
      ]
     },
     "execution_count": 112,
     "metadata": {},
     "output_type": "execute_result"
    }
   ],
   "source": [
    "a[2][2][1]"
   ]
  },
  {
   "cell_type": "code",
   "execution_count": 133,
   "id": "585c2bb3",
   "metadata": {},
   "outputs": [
    {
     "data": {
      "text/plain": [
       "[2, 3]"
      ]
     },
     "execution_count": 133,
     "metadata": {},
     "output_type": "execute_result"
    }
   ],
   "source": [
    "a = [1, 2, 3, 4, 5]\n",
    "a[1:3]"
   ]
  },
  {
   "cell_type": "code",
   "execution_count": 134,
   "id": "41fc0af8",
   "metadata": {},
   "outputs": [
    {
     "data": {
      "text/plain": [
       "([['a', 'b', 'c'], 4, 5], ['b', 'c'])"
      ]
     },
     "execution_count": 134,
     "metadata": {},
     "output_type": "execute_result"
    }
   ],
   "source": [
    "a = [1, 2, ['a', 'b', 'c'], 4, 5]\n",
    "a[2:5], a[2][1:]"
   ]
  },
  {
   "cell_type": "code",
   "execution_count": 135,
   "id": "4489cd79",
   "metadata": {},
   "outputs": [
    {
     "data": {
      "text/plain": [
       "([1, 2, 3, 4, 5, 6], [1, 2, 3, 1, 2, 3])"
      ]
     },
     "execution_count": 135,
     "metadata": {},
     "output_type": "execute_result"
    }
   ],
   "source": [
    "a = [1, 2, 3]\n",
    "b = [4, 5, 6]\n",
    "a + b, a*2, "
   ]
  },
  {
   "cell_type": "code",
   "execution_count": 136,
   "id": "70d8c1e7",
   "metadata": {},
   "outputs": [
    {
     "data": {
      "text/plain": [
       "3"
      ]
     },
     "execution_count": 136,
     "metadata": {},
     "output_type": "execute_result"
    }
   ],
   "source": [
    "len(a)"
   ]
  },
  {
   "cell_type": "code",
   "execution_count": 137,
   "id": "ba16355a",
   "metadata": {},
   "outputs": [
    {
     "data": {
      "text/plain": [
       "'3hi'"
      ]
     },
     "execution_count": 137,
     "metadata": {},
     "output_type": "execute_result"
    }
   ],
   "source": [
    "str(a[2])+'hi'"
   ]
  },
  {
   "cell_type": "code",
   "execution_count": 138,
   "id": "f137b38d",
   "metadata": {},
   "outputs": [
    {
     "data": {
      "text/plain": [
       "list"
      ]
     },
     "execution_count": 138,
     "metadata": {},
     "output_type": "execute_result"
    }
   ],
   "source": [
    "type(a)"
   ]
  },
  {
   "cell_type": "code",
   "execution_count": 139,
   "id": "7043ad14",
   "metadata": {},
   "outputs": [
    {
     "data": {
      "text/plain": [
       "[1, 2, 4]"
      ]
     },
     "execution_count": 139,
     "metadata": {},
     "output_type": "execute_result"
    }
   ],
   "source": [
    "a[2] = 4 \n",
    "a"
   ]
  },
  {
   "cell_type": "code",
   "execution_count": 140,
   "id": "9fecf518",
   "metadata": {},
   "outputs": [
    {
     "data": {
      "text/plain": [
       "[1, 2]"
      ]
     },
     "execution_count": 140,
     "metadata": {},
     "output_type": "execute_result"
    }
   ],
   "source": [
    "del a[2]\n",
    "a"
   ]
  },
  {
   "cell_type": "code",
   "execution_count": null,
   "id": "e961cac9",
   "metadata": {},
   "outputs": [],
   "source": []
  }
 ],
 "metadata": {
  "kernelspec": {
   "display_name": "Python 3 (ipykernel)",
   "language": "python",
   "name": "python3"
  },
  "language_info": {
   "codemirror_mode": {
    "name": "ipython",
    "version": 3
   },
   "file_extension": ".py",
   "mimetype": "text/x-python",
   "name": "python",
   "nbconvert_exporter": "python",
   "pygments_lexer": "ipython3",
   "version": "3.11.4"
  }
 },
 "nbformat": 4,
 "nbformat_minor": 5
}
