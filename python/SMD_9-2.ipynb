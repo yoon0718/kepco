{
 "cells": [
  {
   "cell_type": "code",
   "execution_count": 1,
   "metadata": {},
   "outputs": [
    {
     "name": "stdout",
     "output_type": "stream",
     "text": [
      "WARNING:tensorflow:From c:\\Users\\user\\anaconda3\\Lib\\site-packages\\keras\\src\\losses.py:2976: The name tf.losses.sparse_softmax_cross_entropy is deprecated. Please use tf.compat.v1.losses.sparse_softmax_cross_entropy instead.\n",
      "\n",
      "Downloading data from https://storage.googleapis.com/tensorflow/tf-keras-datasets/imdb.npz\n",
      "17464789/17464789 [==============================] - 5s 0us/step\n"
     ]
    }
   ],
   "source": [
    "from tensorflow.keras.datasets import imdb\n",
    "(train_input, train_target),(test_input, test_target) = imdb.load_data(num_words=300)"
   ]
  },
  {
   "cell_type": "code",
   "execution_count": 2,
   "metadata": {},
   "outputs": [
    {
     "data": {
      "text/plain": [
       "((25000,), (25000,))"
      ]
     },
     "execution_count": 2,
     "metadata": {},
     "output_type": "execute_result"
    }
   ],
   "source": [
    "train_input.shape, test_input.shape"
   ]
  },
  {
   "cell_type": "code",
   "execution_count": 3,
   "metadata": {},
   "outputs": [
    {
     "data": {
      "text/plain": [
       "(218, 189)"
      ]
     },
     "execution_count": 3,
     "metadata": {},
     "output_type": "execute_result"
    }
   ],
   "source": [
    "len(train_input[0]), len(train_input[1])"
   ]
  },
  {
   "cell_type": "code",
   "execution_count": 4,
   "metadata": {},
   "outputs": [
    {
     "data": {
      "text/plain": [
       "[1,\n",
       " 14,\n",
       " 22,\n",
       " 16,\n",
       " 43,\n",
       " 2,\n",
       " 2,\n",
       " 2,\n",
       " 2,\n",
       " 65,\n",
       " 2,\n",
       " 2,\n",
       " 66,\n",
       " 2,\n",
       " 4,\n",
       " 173,\n",
       " 36,\n",
       " 256,\n",
       " 5,\n",
       " 25,\n",
       " 100,\n",
       " 43,\n",
       " 2,\n",
       " 112,\n",
       " 50,\n",
       " 2,\n",
       " 2,\n",
       " 9,\n",
       " 35,\n",
       " 2,\n",
       " 284,\n",
       " 5,\n",
       " 150,\n",
       " 4,\n",
       " 172,\n",
       " 112,\n",
       " 167,\n",
       " 2,\n",
       " 2,\n",
       " 2,\n",
       " 39,\n",
       " 4,\n",
       " 172,\n",
       " 2,\n",
       " 2,\n",
       " 17,\n",
       " 2,\n",
       " 38,\n",
       " 13,\n",
       " 2,\n",
       " 4,\n",
       " 192,\n",
       " 50,\n",
       " 16,\n",
       " 6,\n",
       " 147,\n",
       " 2,\n",
       " 19,\n",
       " 14,\n",
       " 22,\n",
       " 4,\n",
       " 2,\n",
       " 2,\n",
       " 2,\n",
       " 4,\n",
       " 22,\n",
       " 71,\n",
       " 87,\n",
       " 12,\n",
       " 16,\n",
       " 43,\n",
       " 2,\n",
       " 38,\n",
       " 76,\n",
       " 15,\n",
       " 13,\n",
       " 2,\n",
       " 4,\n",
       " 22,\n",
       " 17,\n",
       " 2,\n",
       " 17,\n",
       " 12,\n",
       " 16,\n",
       " 2,\n",
       " 18,\n",
       " 2,\n",
       " 5,\n",
       " 62,\n",
       " 2,\n",
       " 12,\n",
       " 8,\n",
       " 2,\n",
       " 8,\n",
       " 106,\n",
       " 5,\n",
       " 4,\n",
       " 2,\n",
       " 2,\n",
       " 16,\n",
       " 2,\n",
       " 66,\n",
       " 2,\n",
       " 33,\n",
       " 4,\n",
       " 130,\n",
       " 12,\n",
       " 16,\n",
       " 38,\n",
       " 2,\n",
       " 5,\n",
       " 25,\n",
       " 124,\n",
       " 51,\n",
       " 36,\n",
       " 135,\n",
       " 48,\n",
       " 25,\n",
       " 2,\n",
       " 33,\n",
       " 6,\n",
       " 22,\n",
       " 12,\n",
       " 215,\n",
       " 28,\n",
       " 77,\n",
       " 52,\n",
       " 5,\n",
       " 14,\n",
       " 2,\n",
       " 16,\n",
       " 82,\n",
       " 2,\n",
       " 8,\n",
       " 4,\n",
       " 107,\n",
       " 117,\n",
       " 2,\n",
       " 15,\n",
       " 256,\n",
       " 4,\n",
       " 2,\n",
       " 7,\n",
       " 2,\n",
       " 5,\n",
       " 2,\n",
       " 36,\n",
       " 71,\n",
       " 43,\n",
       " 2,\n",
       " 2,\n",
       " 26,\n",
       " 2,\n",
       " 2,\n",
       " 46,\n",
       " 7,\n",
       " 4,\n",
       " 2,\n",
       " 2,\n",
       " 13,\n",
       " 104,\n",
       " 88,\n",
       " 4,\n",
       " 2,\n",
       " 15,\n",
       " 297,\n",
       " 98,\n",
       " 32,\n",
       " 2,\n",
       " 56,\n",
       " 26,\n",
       " 141,\n",
       " 6,\n",
       " 194,\n",
       " 2,\n",
       " 18,\n",
       " 4,\n",
       " 226,\n",
       " 22,\n",
       " 21,\n",
       " 134,\n",
       " 2,\n",
       " 26,\n",
       " 2,\n",
       " 5,\n",
       " 144,\n",
       " 30,\n",
       " 2,\n",
       " 18,\n",
       " 51,\n",
       " 36,\n",
       " 28,\n",
       " 224,\n",
       " 92,\n",
       " 25,\n",
       " 104,\n",
       " 4,\n",
       " 226,\n",
       " 65,\n",
       " 16,\n",
       " 38,\n",
       " 2,\n",
       " 88,\n",
       " 12,\n",
       " 16,\n",
       " 283,\n",
       " 5,\n",
       " 16,\n",
       " 2,\n",
       " 113,\n",
       " 103,\n",
       " 32,\n",
       " 15,\n",
       " 16,\n",
       " 2,\n",
       " 19,\n",
       " 178,\n",
       " 32]"
      ]
     },
     "execution_count": 4,
     "metadata": {},
     "output_type": "execute_result"
    }
   ],
   "source": [
    "train_input[0]"
   ]
  },
  {
   "cell_type": "code",
   "execution_count": 5,
   "metadata": {},
   "outputs": [],
   "source": [
    "from sklearn.model_selection import train_test_split\n",
    "train_input, val_input, train_target, val_target = train_test_split(train_input, train_target, test_size=.2, random_state=42)"
   ]
  },
  {
   "cell_type": "code",
   "execution_count": 6,
   "metadata": {},
   "outputs": [],
   "source": [
    "import numpy as np\n",
    "lengths = np.array([len(x) for x in train_input])"
   ]
  },
  {
   "cell_type": "code",
   "execution_count": 8,
   "metadata": {},
   "outputs": [
    {
     "data": {
      "text/plain": [
       "(239.00925, 178.0, 1854)"
      ]
     },
     "execution_count": 8,
     "metadata": {},
     "output_type": "execute_result"
    }
   ],
   "source": [
    "np.mean(lengths), np.median(lengths), np.max(lengths)"
   ]
  },
  {
   "cell_type": "code",
   "execution_count": 9,
   "metadata": {},
   "outputs": [
    {
     "data": {
      "image/png": "[encoded data removed]",
      "text/plain": [
       "<Figure size 640x480 with 1 Axes>"
      ]
     },
     "metadata": {},
     "output_type": "display_data"
    }
   ],
   "source": [
    "import matplotlib.pyplot as plt\n",
    "plt.hist(lengths)\n",
    "plt.xlabel('length')\n",
    "plt.ylabel('frequency')\n",
    "plt.show()"
   ]
  },
  {
   "cell_type": "code",
   "execution_count": 10,
   "metadata": {},
   "outputs": [],
   "source": [
    "from tensorflow.keras.preprocessing.sequence import pad_sequences\n",
    "train_seq = pad_sequences(train_input, maxlen=100)"
   ]
  },
  {
   "cell_type": "code",
   "execution_count": 11,
   "metadata": {},
   "outputs": [
    {
     "data": {
      "text/plain": [
       "(20000, 100)"
      ]
     },
     "execution_count": 11,
     "metadata": {},
     "output_type": "execute_result"
    }
   ],
   "source": [
    "train_seq.shape"
   ]
  },
  {
   "cell_type": "code",
   "execution_count": 12,
   "metadata": {},
   "outputs": [
    {
     "data": {
      "text/plain": [
       "array([ 10,   4,  20,   9,   2,   2,   2,   5,  45,   6,   2,   2,  33,\n",
       "       269,   8,   2, 142,   2,   5,   2,  17,  73,  17, 204,   5,   2,\n",
       "        19,  55,   2,   2,  92,  66, 104,  14,  20,  93,  76,   2, 151,\n",
       "        33,   4,  58,  12, 188,   2, 151,  12, 215,  69, 224, 142,  73,\n",
       "       237,   6,   2,   7,   2,   2, 188,   2, 103,  14,  31,  10,  10,\n",
       "         2,   7,   2,   5,   2,  80,  91,   2,  30,   2,  34,  14,  20,\n",
       "       151,  50,  26, 131,  49,   2,  84,  46,  50,  37,  80,  79,   6,\n",
       "         2,  46,   7,  14,  20,  10,  10,   2, 158])"
      ]
     },
     "execution_count": 12,
     "metadata": {},
     "output_type": "execute_result"
    }
   ],
   "source": [
    "train_seq[0]"
   ]
  },
  {
   "cell_type": "code",
   "execution_count": 13,
   "metadata": {},
   "outputs": [],
   "source": [
    "val_seq = pad_sequences(val_input, maxlen=100)"
   ]
  },
  {
   "cell_type": "code",
   "execution_count": 15,
   "metadata": {},
   "outputs": [
    {
     "name": "stdout",
     "output_type": "stream",
     "text": [
      "WARNING:tensorflow:From c:\\Users\\user\\anaconda3\\Lib\\site-packages\\keras\\src\\backend.py:873: The name tf.get_default_graph is deprecated. Please use tf.compat.v1.get_default_graph instead.\n",
      "\n"
     ]
    }
   ],
   "source": [
    "from tensorflow import keras\n",
    "model = keras.Sequential()\n",
    "model.add(keras.layers.SimpleRNN(8, input_shape=(100, 300)))\n",
    "model.add(keras.layers.Dense(1, activation='sigmoid'))"
   ]
  },
  {
   "cell_type": "code",
   "execution_count": 16,
   "metadata": {},
   "outputs": [],
   "source": [
    "train_oh = keras.utils.to_categorical(train_seq)"
   ]
  },
  {
   "cell_type": "code",
   "execution_count": 17,
   "metadata": {},
   "outputs": [
    {
     "data": {
      "text/plain": [
       "(20000, 100, 300)"
      ]
     },
     "execution_count": 17,
     "metadata": {},
     "output_type": "execute_result"
    }
   ],
   "source": [
    "train_oh.shape"
   ]
  },
  {
   "cell_type": "code",
   "execution_count": 18,
   "metadata": {},
   "outputs": [],
   "source": [
    "val_oh = keras.utils.to_categorical(val_seq)"
   ]
  },
  {
   "cell_type": "code",
   "execution_count": 19,
   "metadata": {},
   "outputs": [
    {
     "data": {
      "text/plain": [
       "(5000, 100, 300)"
      ]
     },
     "execution_count": 19,
     "metadata": {},
     "output_type": "execute_result"
    }
   ],
   "source": [
    "val_oh.shape"
   ]
  },
  {
   "cell_type": "code",
   "execution_count": 20,
   "metadata": {},
   "outputs": [
    {
     "name": "stdout",
     "output_type": "stream",
     "text": [
      "Model: \"sequential\"\n",
      "_________________________________________________________________\n",
      " Layer (type)                Output Shape              Param #   \n",
      "=================================================================\n",
      " simple_rnn (SimpleRNN)      (None, 8)                 2472      \n",
      "                                                                 \n",
      " dense (Dense)               (None, 1)                 9         \n",
      "                                                                 \n",
      "=================================================================\n",
      "Total params: 2481 (9.69 KB)\n",
      "Trainable params: 2481 (9.69 KB)\n",
      "Non-trainable params: 0 (0.00 Byte)\n",
      "_________________________________________________________________\n"
     ]
    }
   ],
   "source": [
    "model.summary()"
   ]
  },
  {
   "cell_type": "code",
   "execution_count": 21,
   "metadata": {},
   "outputs": [
    {
     "name": "stdout",
     "output_type": "stream",
     "text": [
      "Epoch 1/100\n",
      "WARNING:tensorflow:From c:\\Users\\user\\anaconda3\\Lib\\site-packages\\keras\\src\\utils\\tf_utils.py:492: The name tf.ragged.RaggedTensorValue is deprecated. Please use tf.compat.v1.ragged.RaggedTensorValue instead.\n",
      "\n",
      "WARNING:tensorflow:From c:\\Users\\user\\anaconda3\\Lib\\site-packages\\keras\\src\\engine\\base_layer_utils.py:384: The name tf.executing_eagerly_outside_functions is deprecated. Please use tf.compat.v1.executing_eagerly_outside_functions instead.\n",
      "\n",
      "313/313 [==============================] - 8s 19ms/step - loss: 0.6988 - accuracy: 0.5104 - val_loss: 0.6938 - val_accuracy: 0.5294\n",
      "Epoch 2/100\n",
      "  9/313 [..............................] - ETA: 4s - loss: 0.6915 - accuracy: 0.5486"
     ]
    },
    {
     "name": "stderr",
     "output_type": "stream",
     "text": [
      "c:\\Users\\user\\anaconda3\\Lib\\site-packages\\keras\\src\\engine\\training.py:3103: UserWarning: You are saving your model as an HDF5 file via `model.save()`. This file format is considered legacy. We recommend using instead the native Keras format, e.g. `model.save('my_model.keras')`.\n",
      "  saving_api.save_model(\n"
     ]
    },
    {
     "name": "stdout",
     "output_type": "stream",
     "text": [
      "313/313 [==============================] - 5s 16ms/step - loss: 0.6889 - accuracy: 0.5383 - val_loss: 0.6816 - val_accuracy: 0.5662\n",
      "Epoch 3/100\n",
      "313/313 [==============================] - 4s 14ms/step - loss: 0.6759 - accuracy: 0.5822 - val_loss: 0.6718 - val_accuracy: 0.5948\n",
      "Epoch 4/100\n",
      "313/313 [==============================] - 5s 15ms/step - loss: 0.6660 - accuracy: 0.6047 - val_loss: 0.6626 - val_accuracy: 0.6136\n",
      "Epoch 5/100\n",
      "313/313 [==============================] - 6s 19ms/step - loss: 0.6554 - accuracy: 0.6250 - val_loss: 0.6524 - val_accuracy: 0.6310\n",
      "Epoch 6/100\n",
      "313/313 [==============================] - 6s 20ms/step - loss: 0.6428 - accuracy: 0.6475 - val_loss: 0.6413 - val_accuracy: 0.6480\n",
      "Epoch 7/100\n",
      "313/313 [==============================] - 6s 20ms/step - loss: 0.6289 - accuracy: 0.6660 - val_loss: 0.6282 - val_accuracy: 0.6648\n",
      "Epoch 8/100\n",
      "313/313 [==============================] - 6s 20ms/step - loss: 0.6143 - accuracy: 0.6842 - val_loss: 0.6150 - val_accuracy: 0.6768\n",
      "Epoch 9/100\n",
      "313/313 [==============================] - 6s 19ms/step - loss: 0.6005 - accuracy: 0.6989 - val_loss: 0.6022 - val_accuracy: 0.6922\n",
      "Epoch 10/100\n",
      "313/313 [==============================] - 6s 19ms/step - loss: 0.5886 - accuracy: 0.7099 - val_loss: 0.5915 - val_accuracy: 0.7016\n",
      "Epoch 11/100\n",
      "313/313 [==============================] - 6s 19ms/step - loss: 0.5778 - accuracy: 0.7190 - val_loss: 0.5792 - val_accuracy: 0.7110\n",
      "Epoch 12/100\n",
      "313/313 [==============================] - 6s 20ms/step - loss: 0.5683 - accuracy: 0.7250 - val_loss: 0.5701 - val_accuracy: 0.7210\n",
      "Epoch 13/100\n",
      "313/313 [==============================] - 6s 19ms/step - loss: 0.5598 - accuracy: 0.7309 - val_loss: 0.5611 - val_accuracy: 0.7258\n",
      "Epoch 14/100\n",
      "313/313 [==============================] - 6s 19ms/step - loss: 0.5520 - accuracy: 0.7370 - val_loss: 0.5538 - val_accuracy: 0.7290\n",
      "Epoch 15/100\n",
      "313/313 [==============================] - 6s 19ms/step - loss: 0.5453 - accuracy: 0.7405 - val_loss: 0.5471 - val_accuracy: 0.7326\n",
      "Epoch 16/100\n",
      "313/313 [==============================] - 6s 19ms/step - loss: 0.5389 - accuracy: 0.7448 - val_loss: 0.5417 - val_accuracy: 0.7380\n",
      "Epoch 17/100\n",
      "313/313 [==============================] - 5s 17ms/step - loss: 0.5330 - accuracy: 0.7487 - val_loss: 0.5363 - val_accuracy: 0.7416\n",
      "Epoch 18/100\n",
      "313/313 [==============================] - 5s 17ms/step - loss: 0.5286 - accuracy: 0.7514 - val_loss: 0.5319 - val_accuracy: 0.7406\n",
      "Epoch 19/100\n",
      "313/313 [==============================] - 5s 17ms/step - loss: 0.5241 - accuracy: 0.7510 - val_loss: 0.5288 - val_accuracy: 0.7420\n",
      "Epoch 20/100\n",
      "313/313 [==============================] - 5s 17ms/step - loss: 0.5201 - accuracy: 0.7552 - val_loss: 0.5262 - val_accuracy: 0.7438\n",
      "Epoch 21/100\n",
      "313/313 [==============================] - 6s 18ms/step - loss: 0.5162 - accuracy: 0.7592 - val_loss: 0.5218 - val_accuracy: 0.7450\n",
      "Epoch 22/100\n",
      "313/313 [==============================] - 6s 18ms/step - loss: 0.5132 - accuracy: 0.7571 - val_loss: 0.5189 - val_accuracy: 0.7474\n",
      "Epoch 23/100\n",
      "313/313 [==============================] - 6s 19ms/step - loss: 0.5101 - accuracy: 0.7607 - val_loss: 0.5172 - val_accuracy: 0.7476\n",
      "Epoch 24/100\n",
      "313/313 [==============================] - 6s 18ms/step - loss: 0.5074 - accuracy: 0.7610 - val_loss: 0.5154 - val_accuracy: 0.7490\n",
      "Epoch 25/100\n",
      "313/313 [==============================] - 6s 18ms/step - loss: 0.5050 - accuracy: 0.7631 - val_loss: 0.5147 - val_accuracy: 0.7504\n",
      "Epoch 26/100\n",
      "313/313 [==============================] - 6s 19ms/step - loss: 0.5028 - accuracy: 0.7632 - val_loss: 0.5129 - val_accuracy: 0.7514\n",
      "Epoch 27/100\n",
      "313/313 [==============================] - 6s 21ms/step - loss: 0.5005 - accuracy: 0.7635 - val_loss: 0.5097 - val_accuracy: 0.7520\n",
      "Epoch 28/100\n",
      "313/313 [==============================] - 6s 19ms/step - loss: 0.4985 - accuracy: 0.7649 - val_loss: 0.5090 - val_accuracy: 0.7526\n",
      "Epoch 29/100\n",
      "313/313 [==============================] - 6s 21ms/step - loss: 0.4972 - accuracy: 0.7656 - val_loss: 0.5059 - val_accuracy: 0.7540\n",
      "Epoch 30/100\n",
      "313/313 [==============================] - 6s 18ms/step - loss: 0.4950 - accuracy: 0.7689 - val_loss: 0.5067 - val_accuracy: 0.7534\n",
      "Epoch 31/100\n",
      "313/313 [==============================] - 6s 19ms/step - loss: 0.4937 - accuracy: 0.7675 - val_loss: 0.5096 - val_accuracy: 0.7540\n",
      "Epoch 32/100\n",
      "313/313 [==============================] - 6s 20ms/step - loss: 0.4927 - accuracy: 0.7663 - val_loss: 0.5039 - val_accuracy: 0.7586\n",
      "Epoch 33/100\n",
      "313/313 [==============================] - 6s 20ms/step - loss: 0.4912 - accuracy: 0.7690 - val_loss: 0.5035 - val_accuracy: 0.7560\n",
      "Epoch 34/100\n",
      "313/313 [==============================] - 6s 20ms/step - loss: 0.4898 - accuracy: 0.7691 - val_loss: 0.5038 - val_accuracy: 0.7568\n",
      "Epoch 35/100\n",
      "313/313 [==============================] - 6s 20ms/step - loss: 0.4885 - accuracy: 0.7703 - val_loss: 0.5027 - val_accuracy: 0.7568\n",
      "Epoch 36/100\n",
      "313/313 [==============================] - 6s 20ms/step - loss: 0.4874 - accuracy: 0.7717 - val_loss: 0.5058 - val_accuracy: 0.7556\n",
      "Epoch 37/100\n",
      "313/313 [==============================] - 6s 20ms/step - loss: 0.4867 - accuracy: 0.7707 - val_loss: 0.5025 - val_accuracy: 0.7588\n",
      "Epoch 38/100\n",
      "313/313 [==============================] - 5s 17ms/step - loss: 0.4858 - accuracy: 0.7714 - val_loss: 0.5035 - val_accuracy: 0.7564\n",
      "Epoch 39/100\n",
      "313/313 [==============================] - 6s 19ms/step - loss: 0.4850 - accuracy: 0.7713 - val_loss: 0.5012 - val_accuracy: 0.7598\n",
      "Epoch 40/100\n",
      "313/313 [==============================] - 6s 18ms/step - loss: 0.4842 - accuracy: 0.7720 - val_loss: 0.4999 - val_accuracy: 0.7604\n",
      "Epoch 41/100\n",
      "313/313 [==============================] - 6s 19ms/step - loss: 0.4831 - accuracy: 0.7724 - val_loss: 0.4993 - val_accuracy: 0.7600\n",
      "Epoch 42/100\n",
      "313/313 [==============================] - 7s 22ms/step - loss: 0.4824 - accuracy: 0.7729 - val_loss: 0.4987 - val_accuracy: 0.7598\n",
      "Epoch 43/100\n",
      "313/313 [==============================] - 6s 18ms/step - loss: 0.4817 - accuracy: 0.7727 - val_loss: 0.5017 - val_accuracy: 0.7568\n",
      "Epoch 44/100\n",
      "313/313 [==============================] - 6s 18ms/step - loss: 0.4808 - accuracy: 0.7735 - val_loss: 0.5006 - val_accuracy: 0.7582\n",
      "Epoch 45/100\n",
      "313/313 [==============================] - 6s 18ms/step - loss: 0.4800 - accuracy: 0.7742 - val_loss: 0.5000 - val_accuracy: 0.7590\n"
     ]
    }
   ],
   "source": [
    "rmsprop = keras.optimizers.RMSprop(learning_rate=1e-4)\n",
    "model.compile(optimizer=rmsprop, loss='binary_crossentropy', metrics='accuracy')\n",
    "checkpoint_cb = keras.callbacks.ModelCheckpoint('best-simplernn-model.h5', save_best_only=True)\n",
    "early_stopping_cb = keras.callbacks.EarlyStopping(patience=3, restore_best_weights=True)\n",
    "history = model.fit(train_oh, train_target, epochs=100, batch_size=64, validation_data=(val_oh, val_target), callbacks=[checkpoint_cb, early_stopping_cb])"
   ]
  },
  {
   "cell_type": "code",
   "execution_count": 22,
   "metadata": {},
   "outputs": [
    {
     "data": {
      "image/png": "[encoded data removed]",
      "text/plain": [
       "<Figure size 640x480 with 1 Axes>"
      ]
     },
     "metadata": {},
     "output_type": "display_data"
    }
   ],
   "source": [
    "plt.plot(history.history['loss'])\n",
    "plt.plot(history.history['val_loss'])\n",
    "plt.xlabel('epoch')\n",
    "plt.ylabel('loss')\n",
    "plt.legend(['train','val'])\n",
    "plt.show()"
   ]
  },
  {
   "cell_type": "code",
   "execution_count": 32,
   "metadata": {},
   "outputs": [],
   "source": [
    "model2 = keras.Sequential()\n",
    "model2.add(keras.layers.Embedding(300, 16, input_length=100))\n",
    "model2.add(keras.layers.SimpleRNN(8))\n",
    "model2.add(keras.layers.Dense(1, activation='sigmoid'))"
   ]
  },
  {
   "cell_type": "code",
   "execution_count": 33,
   "metadata": {},
   "outputs": [
    {
     "name": "stdout",
     "output_type": "stream",
     "text": [
      "Model: \"sequential_3\"\n",
      "_________________________________________________________________\n",
      " Layer (type)                Output Shape              Param #   \n",
      "=================================================================\n",
      " embedding_2 (Embedding)     (None, 100, 16)           4800      \n",
      "                                                                 \n",
      " simple_rnn_3 (SimpleRNN)    (None, 8)                 200       \n",
      "                                                                 \n",
      " dense_2 (Dense)             (None, 1)                 9         \n",
      "                                                                 \n",
      "=================================================================\n",
      "Total params: 5009 (19.57 KB)\n",
      "Trainable params: 5009 (19.57 KB)\n",
      "Non-trainable params: 0 (0.00 Byte)\n",
      "_________________________________________________________________\n"
     ]
    }
   ],
   "source": [
    "model2.summary()"
   ]
  },
  {
   "cell_type": "code",
   "execution_count": 34,
   "metadata": {},
   "outputs": [
    {
     "name": "stdout",
     "output_type": "stream",
     "text": [
      "Epoch 1/100\n",
      "313/313 [==============================] - 6s 16ms/step - loss: 0.6969 - accuracy: 0.4997 - val_loss: 0.6931 - val_accuracy: 0.5130\n",
      "Epoch 2/100\n",
      "313/313 [==============================] - 5s 15ms/step - loss: 0.6937 - accuracy: 0.5125 - val_loss: 0.6924 - val_accuracy: 0.5174\n",
      "Epoch 3/100\n",
      "313/313 [==============================] - 5s 15ms/step - loss: 0.6915 - accuracy: 0.5225 - val_loss: 0.6917 - val_accuracy: 0.5190\n",
      "Epoch 4/100\n",
      "313/313 [==============================] - 5s 16ms/step - loss: 0.6896 - accuracy: 0.5361 - val_loss: 0.6912 - val_accuracy: 0.5270\n",
      "Epoch 5/100\n",
      "313/313 [==============================] - 6s 19ms/step - loss: 0.6877 - accuracy: 0.5490 - val_loss: 0.6908 - val_accuracy: 0.5274\n",
      "Epoch 6/100\n",
      "313/313 [==============================] - 6s 20ms/step - loss: 0.6858 - accuracy: 0.5569 - val_loss: 0.6904 - val_accuracy: 0.5336\n",
      "Epoch 7/100\n",
      "313/313 [==============================] - 6s 20ms/step - loss: 0.6838 - accuracy: 0.5645 - val_loss: 0.6902 - val_accuracy: 0.5308\n",
      "Epoch 8/100\n",
      "313/313 [==============================] - 6s 20ms/step - loss: 0.6818 - accuracy: 0.5718 - val_loss: 0.6901 - val_accuracy: 0.5304\n",
      "Epoch 9/100\n",
      "313/313 [==============================] - 6s 20ms/step - loss: 0.6796 - accuracy: 0.5782 - val_loss: 0.6900 - val_accuracy: 0.5298\n",
      "Epoch 10/100\n",
      "313/313 [==============================] - 6s 20ms/step - loss: 0.6774 - accuracy: 0.5832 - val_loss: 0.6900 - val_accuracy: 0.5312\n",
      "Epoch 11/100\n",
      "313/313 [==============================] - 6s 20ms/step - loss: 0.6751 - accuracy: 0.5883 - val_loss: 0.6897 - val_accuracy: 0.5362\n",
      "Epoch 12/100\n",
      "313/313 [==============================] - 6s 20ms/step - loss: 0.6727 - accuracy: 0.5947 - val_loss: 0.6893 - val_accuracy: 0.5376\n",
      "Epoch 13/100\n",
      "313/313 [==============================] - 6s 20ms/step - loss: 0.6702 - accuracy: 0.5997 - val_loss: 0.6895 - val_accuracy: 0.5330\n",
      "Epoch 14/100\n",
      "313/313 [==============================] - 6s 20ms/step - loss: 0.6677 - accuracy: 0.6027 - val_loss: 0.6889 - val_accuracy: 0.5374\n",
      "Epoch 15/100\n",
      "313/313 [==============================] - 6s 20ms/step - loss: 0.6651 - accuracy: 0.6057 - val_loss: 0.6886 - val_accuracy: 0.5378\n",
      "Epoch 16/100\n",
      "313/313 [==============================] - 6s 19ms/step - loss: 0.6624 - accuracy: 0.6110 - val_loss: 0.6888 - val_accuracy: 0.5396\n",
      "Epoch 17/100\n",
      "313/313 [==============================] - 6s 20ms/step - loss: 0.6596 - accuracy: 0.6147 - val_loss: 0.6883 - val_accuracy: 0.5420\n",
      "Epoch 18/100\n",
      "313/313 [==============================] - 6s 20ms/step - loss: 0.6567 - accuracy: 0.6206 - val_loss: 0.6877 - val_accuracy: 0.5444\n",
      "Epoch 19/100\n",
      "313/313 [==============================] - 6s 20ms/step - loss: 0.6539 - accuracy: 0.6241 - val_loss: 0.6865 - val_accuracy: 0.5486\n",
      "Epoch 20/100\n",
      "313/313 [==============================] - 6s 20ms/step - loss: 0.6510 - accuracy: 0.6288 - val_loss: 0.6863 - val_accuracy: 0.5504\n",
      "Epoch 21/100\n",
      "313/313 [==============================] - 6s 20ms/step - loss: 0.6480 - accuracy: 0.6316 - val_loss: 0.6863 - val_accuracy: 0.5574\n",
      "Epoch 22/100\n",
      "313/313 [==============================] - 6s 20ms/step - loss: 0.6452 - accuracy: 0.6337 - val_loss: 0.6839 - val_accuracy: 0.5638\n",
      "Epoch 23/100\n",
      "313/313 [==============================] - 6s 20ms/step - loss: 0.6423 - accuracy: 0.6376 - val_loss: 0.6829 - val_accuracy: 0.5672\n",
      "Epoch 24/100\n",
      "313/313 [==============================] - 6s 20ms/step - loss: 0.6394 - accuracy: 0.6420 - val_loss: 0.6813 - val_accuracy: 0.5722\n",
      "Epoch 25/100\n",
      "313/313 [==============================] - 6s 20ms/step - loss: 0.6364 - accuracy: 0.6474 - val_loss: 0.6787 - val_accuracy: 0.5730\n",
      "Epoch 26/100\n",
      "313/313 [==============================] - 6s 20ms/step - loss: 0.6333 - accuracy: 0.6496 - val_loss: 0.6766 - val_accuracy: 0.5772\n",
      "Epoch 27/100\n",
      "313/313 [==============================] - 6s 20ms/step - loss: 0.6299 - accuracy: 0.6546 - val_loss: 0.6746 - val_accuracy: 0.5822\n",
      "Epoch 28/100\n",
      "313/313 [==============================] - 6s 20ms/step - loss: 0.6261 - accuracy: 0.6571 - val_loss: 0.6726 - val_accuracy: 0.5882\n",
      "Epoch 29/100\n",
      "313/313 [==============================] - 6s 20ms/step - loss: 0.6224 - accuracy: 0.6616 - val_loss: 0.6690 - val_accuracy: 0.5970\n",
      "Epoch 30/100\n",
      "313/313 [==============================] - 6s 20ms/step - loss: 0.6186 - accuracy: 0.6653 - val_loss: 0.6667 - val_accuracy: 0.5996\n",
      "Epoch 31/100\n",
      "313/313 [==============================] - 6s 20ms/step - loss: 0.6150 - accuracy: 0.6712 - val_loss: 0.6665 - val_accuracy: 0.5966\n",
      "Epoch 32/100\n",
      "313/313 [==============================] - 6s 20ms/step - loss: 0.6117 - accuracy: 0.6727 - val_loss: 0.6621 - val_accuracy: 0.6088\n",
      "Epoch 33/100\n",
      "313/313 [==============================] - 6s 20ms/step - loss: 0.6084 - accuracy: 0.6756 - val_loss: 0.6602 - val_accuracy: 0.6076\n",
      "Epoch 34/100\n",
      "313/313 [==============================] - 6s 20ms/step - loss: 0.6056 - accuracy: 0.6773 - val_loss: 0.6583 - val_accuracy: 0.6140\n",
      "Epoch 35/100\n",
      "313/313 [==============================] - 7s 24ms/step - loss: 0.6026 - accuracy: 0.6816 - val_loss: 0.6561 - val_accuracy: 0.6162\n",
      "Epoch 36/100\n",
      "313/313 [==============================] - 6s 20ms/step - loss: 0.5996 - accuracy: 0.6848 - val_loss: 0.6573 - val_accuracy: 0.6198\n",
      "Epoch 37/100\n",
      "313/313 [==============================] - 6s 20ms/step - loss: 0.5968 - accuracy: 0.6877 - val_loss: 0.6527 - val_accuracy: 0.6214\n",
      "Epoch 38/100\n",
      "313/313 [==============================] - 6s 20ms/step - loss: 0.5942 - accuracy: 0.6890 - val_loss: 0.6515 - val_accuracy: 0.6226\n",
      "Epoch 39/100\n",
      "313/313 [==============================] - 6s 20ms/step - loss: 0.5919 - accuracy: 0.6905 - val_loss: 0.6517 - val_accuracy: 0.6210\n",
      "Epoch 40/100\n",
      "313/313 [==============================] - 6s 20ms/step - loss: 0.5897 - accuracy: 0.6913 - val_loss: 0.6519 - val_accuracy: 0.6232\n",
      "Epoch 41/100\n",
      "313/313 [==============================] - 6s 20ms/step - loss: 0.5874 - accuracy: 0.6939 - val_loss: 0.6510 - val_accuracy: 0.6222\n",
      "Epoch 42/100\n",
      "313/313 [==============================] - 6s 20ms/step - loss: 0.5851 - accuracy: 0.6942 - val_loss: 0.6505 - val_accuracy: 0.6248\n",
      "Epoch 43/100\n",
      "313/313 [==============================] - 7s 21ms/step - loss: 0.5832 - accuracy: 0.6975 - val_loss: 0.6515 - val_accuracy: 0.6254\n",
      "Epoch 44/100\n",
      "313/313 [==============================] - 6s 20ms/step - loss: 0.5810 - accuracy: 0.6984 - val_loss: 0.6500 - val_accuracy: 0.6258\n",
      "Epoch 45/100\n",
      "313/313 [==============================] - 6s 20ms/step - loss: 0.5792 - accuracy: 0.6992 - val_loss: 0.6499 - val_accuracy: 0.6228\n",
      "Epoch 46/100\n",
      "313/313 [==============================] - 6s 19ms/step - loss: 0.5771 - accuracy: 0.7009 - val_loss: 0.6499 - val_accuracy: 0.6258\n",
      "Epoch 47/100\n",
      "313/313 [==============================] - 6s 19ms/step - loss: 0.5753 - accuracy: 0.7034 - val_loss: 0.6539 - val_accuracy: 0.6258\n",
      "Epoch 48/100\n",
      "313/313 [==============================] - 6s 20ms/step - loss: 0.5738 - accuracy: 0.7053 - val_loss: 0.6515 - val_accuracy: 0.6264\n",
      "Epoch 49/100\n",
      "313/313 [==============================] - 6s 20ms/step - loss: 0.5717 - accuracy: 0.7077 - val_loss: 0.6539 - val_accuracy: 0.6280\n"
     ]
    }
   ],
   "source": [
    "rmsprop = keras.optimizers.RMSprop(learning_rate=1e-4)\n",
    "model2.compile(optimizer=rmsprop, loss='binary_crossentropy', metrics='accuracy')\n",
    "checkpoint_cb = keras.callbacks.ModelCheckpoint('best-embedding-model.h5', save_best_only=True)\n",
    "early_stopping_cb = keras.callbacks.EarlyStopping(patience=3, restore_best_weights=True)\n",
    "history = model2.fit(train_seq, train_target, epochs=100, batch_size=64, validation_data=(val_seq, val_target), callbacks=[checkpoint_cb, early_stopping_cb])"
   ]
  },
  {
   "cell_type": "code",
   "execution_count": 35,
   "metadata": {},
   "outputs": [
    {
     "data": {
      "image/png": "[encoded data removed]",
      "text/plain": [
       "<Figure size 640x480 with 1 Axes>"
      ]
     },
     "metadata": {},
     "output_type": "display_data"
    }
   ],
   "source": [
    "plt.plot(history.history['loss'])\n",
    "plt.plot(history.history['val_loss'])\n",
    "plt.xlabel('epoch')\n",
    "plt.ylabel('loss')\n",
    "plt.legend(['train','val'])\n",
    "plt.show()"
   ]
  },
  {
   "cell_type": "code",
   "execution_count": null,
   "metadata": {},
   "outputs": [],
   "source": []
  }
 ],
 "metadata": {
  "kernelspec": {
   "display_name": "base",
   "language": "python",
   "name": "python3"
  },
  "language_info": {
   "codemirror_mode": {
    "name": "ipython",
    "version": 3
   },
   "file_extension": ".py",
   "mimetype": "text/x-python",
   "name": "python",
   "nbconvert_exporter": "python",
   "pygments_lexer": "ipython3",
   "version": "3.11.4"
  }
 },
 "nbformat": 4,
 "nbformat_minor": 2
}
