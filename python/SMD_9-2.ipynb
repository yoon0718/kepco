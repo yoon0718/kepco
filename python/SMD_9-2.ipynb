{
 "cells": [
  {
   "cell_type": "code",
   "execution_count": 1,
   "metadata": {},
   "outputs": [
    {
     "name": "stdout",
     "output_type": "stream",
     "text": [
      "WARNING:tensorflow:From c:\\Users\\user\\anaconda3\\Lib\\site-packages\\keras\\src\\losses.py:2976: The name tf.losses.sparse_softmax_cross_entropy is deprecated. Please use tf.compat.v1.losses.sparse_softmax_cross_entropy instead.\n",
      "\n"
     ]
    }
   ],
   "source": [
    "from tensorflow.keras.datasets import imdb\n",
    "(train_input, train_target),(test_input, test_target) = imdb.load_data(num_words=300)"
   ]
  },
  {
   "cell_type": "code",
   "execution_count": 2,
   "metadata": {},
   "outputs": [
    {
     "data": {
      "text/plain": [
       "((25000,), (25000,))"
      ]
     },
     "execution_count": 2,
     "metadata": {},
     "output_type": "execute_result"
    }
   ],
   "source": [
    "train_input.shape, test_input.shape"
   ]
  },
  {
   "cell_type": "code",
   "execution_count": 3,
   "metadata": {},
   "outputs": [
    {
     "data": {
      "text/plain": [
       "(218, 189)"
      ]
     },
     "execution_count": 3,
     "metadata": {},
     "output_type": "execute_result"
    }
   ],
   "source": [
    "len(train_input[0]), len(train_input[1])"
   ]
  },
  {
   "cell_type": "code",
   "execution_count": 4,
   "metadata": {},
   "outputs": [
    {
     "data": {
      "text/plain": [
       "[1,\n",
       " 14,\n",
       " 22,\n",
       " 16,\n",
       " 43,\n",
       " 2,\n",
       " 2,\n",
       " 2,\n",
       " 2,\n",
       " 65,\n",
       " 2,\n",
       " 2,\n",
       " 66,\n",
       " 2,\n",
       " 4,\n",
       " 173,\n",
       " 36,\n",
       " 256,\n",
       " 5,\n",
       " 25,\n",
       " 100,\n",
       " 43,\n",
       " 2,\n",
       " 112,\n",
       " 50,\n",
       " 2,\n",
       " 2,\n",
       " 9,\n",
       " 35,\n",
       " 2,\n",
       " 284,\n",
       " 5,\n",
       " 150,\n",
       " 4,\n",
       " 172,\n",
       " 112,\n",
       " 167,\n",
       " 2,\n",
       " 2,\n",
       " 2,\n",
       " 39,\n",
       " 4,\n",
       " 172,\n",
       " 2,\n",
       " 2,\n",
       " 17,\n",
       " 2,\n",
       " 38,\n",
       " 13,\n",
       " 2,\n",
       " 4,\n",
       " 192,\n",
       " 50,\n",
       " 16,\n",
       " 6,\n",
       " 147,\n",
       " 2,\n",
       " 19,\n",
       " 14,\n",
       " 22,\n",
       " 4,\n",
       " 2,\n",
       " 2,\n",
       " 2,\n",
       " 4,\n",
       " 22,\n",
       " 71,\n",
       " 87,\n",
       " 12,\n",
       " 16,\n",
       " 43,\n",
       " 2,\n",
       " 38,\n",
       " 76,\n",
       " 15,\n",
       " 13,\n",
       " 2,\n",
       " 4,\n",
       " 22,\n",
       " 17,\n",
       " 2,\n",
       " 17,\n",
       " 12,\n",
       " 16,\n",
       " 2,\n",
       " 18,\n",
       " 2,\n",
       " 5,\n",
       " 62,\n",
       " 2,\n",
       " 12,\n",
       " 8,\n",
       " 2,\n",
       " 8,\n",
       " 106,\n",
       " 5,\n",
       " 4,\n",
       " 2,\n",
       " 2,\n",
       " 16,\n",
       " 2,\n",
       " 66,\n",
       " 2,\n",
       " 33,\n",
       " 4,\n",
       " 130,\n",
       " 12,\n",
       " 16,\n",
       " 38,\n",
       " 2,\n",
       " 5,\n",
       " 25,\n",
       " 124,\n",
       " 51,\n",
       " 36,\n",
       " 135,\n",
       " 48,\n",
       " 25,\n",
       " 2,\n",
       " 33,\n",
       " 6,\n",
       " 22,\n",
       " 12,\n",
       " 215,\n",
       " 28,\n",
       " 77,\n",
       " 52,\n",
       " 5,\n",
       " 14,\n",
       " 2,\n",
       " 16,\n",
       " 82,\n",
       " 2,\n",
       " 8,\n",
       " 4,\n",
       " 107,\n",
       " 117,\n",
       " 2,\n",
       " 15,\n",
       " 256,\n",
       " 4,\n",
       " 2,\n",
       " 7,\n",
       " 2,\n",
       " 5,\n",
       " 2,\n",
       " 36,\n",
       " 71,\n",
       " 43,\n",
       " 2,\n",
       " 2,\n",
       " 26,\n",
       " 2,\n",
       " 2,\n",
       " 46,\n",
       " 7,\n",
       " 4,\n",
       " 2,\n",
       " 2,\n",
       " 13,\n",
       " 104,\n",
       " 88,\n",
       " 4,\n",
       " 2,\n",
       " 15,\n",
       " 297,\n",
       " 98,\n",
       " 32,\n",
       " 2,\n",
       " 56,\n",
       " 26,\n",
       " 141,\n",
       " 6,\n",
       " 194,\n",
       " 2,\n",
       " 18,\n",
       " 4,\n",
       " 226,\n",
       " 22,\n",
       " 21,\n",
       " 134,\n",
       " 2,\n",
       " 26,\n",
       " 2,\n",
       " 5,\n",
       " 144,\n",
       " 30,\n",
       " 2,\n",
       " 18,\n",
       " 51,\n",
       " 36,\n",
       " 28,\n",
       " 224,\n",
       " 92,\n",
       " 25,\n",
       " 104,\n",
       " 4,\n",
       " 226,\n",
       " 65,\n",
       " 16,\n",
       " 38,\n",
       " 2,\n",
       " 88,\n",
       " 12,\n",
       " 16,\n",
       " 283,\n",
       " 5,\n",
       " 16,\n",
       " 2,\n",
       " 113,\n",
       " 103,\n",
       " 32,\n",
       " 15,\n",
       " 16,\n",
       " 2,\n",
       " 19,\n",
       " 178,\n",
       " 32]"
      ]
     },
     "execution_count": 4,
     "metadata": {},
     "output_type": "execute_result"
    }
   ],
   "source": [
    "train_input[0]"
   ]
  },
  {
   "cell_type": "code",
   "execution_count": 5,
   "metadata": {},
   "outputs": [],
   "source": [
    "from sklearn.model_selection import train_test_split\n",
    "train_input, val_input, train_target, val_target = train_test_split(train_input, train_target, test_size=.2, random_state=42)"
   ]
  },
  {
   "cell_type": "code",
   "execution_count": 6,
   "metadata": {},
   "outputs": [],
   "source": [
    "import numpy as np\n",
    "lengths = np.array([len(x) for x in train_input])"
   ]
  },
  {
   "cell_type": "code",
   "execution_count": 7,
   "metadata": {},
   "outputs": [
    {
     "data": {
      "text/plain": [
       "(239.00925, 178.0, 1854)"
      ]
     },
     "execution_count": 7,
     "metadata": {},
     "output_type": "execute_result"
    }
   ],
   "source": [
    "np.mean(lengths), np.median(lengths), np.max(lengths)"
   ]
  },
  {
   "cell_type": "code",
   "execution_count": 8,
   "metadata": {},
   "outputs": [
    {
     "data": {
      "image/png": "[encoded data removed]",
      "text/plain": [
       "<Figure size 640x480 with 1 Axes>"
      ]
     },
     "metadata": {},
     "output_type": "display_data"
    }
   ],
   "source": [
    "import matplotlib.pyplot as plt\n",
    "plt.hist(lengths)\n",
    "plt.xlabel('length')\n",
    "plt.ylabel('frequency')\n",
    "plt.show()"
   ]
  },
  {
   "cell_type": "code",
   "execution_count": 9,
   "metadata": {},
   "outputs": [],
   "source": [
    "from tensorflow.keras.preprocessing.sequence import pad_sequences\n",
    "train_seq = pad_sequences(train_input, maxlen=100)"
   ]
  },
  {
   "cell_type": "code",
   "execution_count": 10,
   "metadata": {},
   "outputs": [
    {
     "data": {
      "text/plain": [
       "(20000, 100)"
      ]
     },
     "execution_count": 10,
     "metadata": {},
     "output_type": "execute_result"
    }
   ],
   "source": [
    "train_seq.shape"
   ]
  },
  {
   "cell_type": "code",
   "execution_count": 11,
   "metadata": {},
   "outputs": [
    {
     "data": {
      "text/plain": [
       "array([ 10,   4,  20,   9,   2,   2,   2,   5,  45,   6,   2,   2,  33,\n",
       "       269,   8,   2, 142,   2,   5,   2,  17,  73,  17, 204,   5,   2,\n",
       "        19,  55,   2,   2,  92,  66, 104,  14,  20,  93,  76,   2, 151,\n",
       "        33,   4,  58,  12, 188,   2, 151,  12, 215,  69, 224, 142,  73,\n",
       "       237,   6,   2,   7,   2,   2, 188,   2, 103,  14,  31,  10,  10,\n",
       "         2,   7,   2,   5,   2,  80,  91,   2,  30,   2,  34,  14,  20,\n",
       "       151,  50,  26, 131,  49,   2,  84,  46,  50,  37,  80,  79,   6,\n",
       "         2,  46,   7,  14,  20,  10,  10,   2, 158])"
      ]
     },
     "execution_count": 11,
     "metadata": {},
     "output_type": "execute_result"
    }
   ],
   "source": [
    "train_seq[0]"
   ]
  },
  {
   "cell_type": "code",
   "execution_count": 12,
   "metadata": {},
   "outputs": [],
   "source": [
    "val_seq = pad_sequences(val_input, maxlen=100)"
   ]
  },
  {
   "cell_type": "code",
   "execution_count": 13,
   "metadata": {},
   "outputs": [
    {
     "name": "stdout",
     "output_type": "stream",
     "text": [
      "WARNING:tensorflow:From c:\\Users\\user\\anaconda3\\Lib\\site-packages\\keras\\src\\backend.py:873: The name tf.get_default_graph is deprecated. Please use tf.compat.v1.get_default_graph instead.\n",
      "\n"
     ]
    }
   ],
   "source": [
    "from tensorflow import keras\n",
    "model = keras.Sequential()\n",
    "model.add(keras.layers.SimpleRNN(8, input_shape=(100, 300)))\n",
    "model.add(keras.layers.Dense(1, activation='sigmoid'))"
   ]
  },
  {
   "cell_type": "code",
   "execution_count": 14,
   "metadata": {},
   "outputs": [],
   "source": [
    "train_oh = keras.utils.to_categorical(train_seq)"
   ]
  },
  {
   "cell_type": "code",
   "execution_count": 15,
   "metadata": {},
   "outputs": [
    {
     "data": {
      "text/plain": [
       "(20000, 100, 300)"
      ]
     },
     "execution_count": 15,
     "metadata": {},
     "output_type": "execute_result"
    }
   ],
   "source": [
    "train_oh.shape"
   ]
  },
  {
   "cell_type": "code",
   "execution_count": 16,
   "metadata": {},
   "outputs": [],
   "source": [
    "val_oh = keras.utils.to_categorical(val_seq)"
   ]
  },
  {
   "cell_type": "code",
   "execution_count": 17,
   "metadata": {},
   "outputs": [
    {
     "data": {
      "text/plain": [
       "(5000, 100, 300)"
      ]
     },
     "execution_count": 17,
     "metadata": {},
     "output_type": "execute_result"
    }
   ],
   "source": [
    "val_oh.shape"
   ]
  },
  {
   "cell_type": "code",
   "execution_count": 18,
   "metadata": {},
   "outputs": [
    {
     "name": "stdout",
     "output_type": "stream",
     "text": [
      "Model: \"sequential\"\n",
      "_________________________________________________________________\n",
      " Layer (type)                Output Shape              Param #   \n",
      "=================================================================\n",
      " simple_rnn (SimpleRNN)      (None, 8)                 2472      \n",
      "                                                                 \n",
      " dense (Dense)               (None, 1)                 9         \n",
      "                                                                 \n",
      "=================================================================\n",
      "Total params: 2481 (9.69 KB)\n",
      "Trainable params: 2481 (9.69 KB)\n",
      "Non-trainable params: 0 (0.00 Byte)\n",
      "_________________________________________________________________\n"
     ]
    }
   ],
   "source": [
    "model.summary()"
   ]
  },
  {
   "cell_type": "code",
   "execution_count": 19,
   "metadata": {},
   "outputs": [
    {
     "name": "stdout",
     "output_type": "stream",
     "text": [
      "Epoch 1/100\n",
      "WARNING:tensorflow:From c:\\Users\\user\\anaconda3\\Lib\\site-packages\\keras\\src\\utils\\tf_utils.py:492: The name tf.ragged.RaggedTensorValue is deprecated. Please use tf.compat.v1.ragged.RaggedTensorValue instead.\n",
      "\n",
      "WARNING:tensorflow:From c:\\Users\\user\\anaconda3\\Lib\\site-packages\\keras\\src\\engine\\base_layer_utils.py:384: The name tf.executing_eagerly_outside_functions is deprecated. Please use tf.compat.v1.executing_eagerly_outside_functions instead.\n",
      "\n",
      "313/313 [==============================] - 8s 18ms/step - loss: 0.6985 - accuracy: 0.4954 - val_loss: 0.6964 - val_accuracy: 0.4920\n",
      "Epoch 2/100\n",
      "  9/313 [..............................] - ETA: 4s - loss: 0.6996 - accuracy: 0.4653"
     ]
    },
    {
     "name": "stderr",
     "output_type": "stream",
     "text": [
      "c:\\Users\\user\\anaconda3\\Lib\\site-packages\\keras\\src\\engine\\training.py:3103: UserWarning: You are saving your model as an HDF5 file via `model.save()`. This file format is considered legacy. We recommend using instead the native Keras format, e.g. `model.save('my_model.keras')`.\n",
      "  saving_api.save_model(\n"
     ]
    },
    {
     "name": "stdout",
     "output_type": "stream",
     "text": [
      "313/313 [==============================] - 5s 16ms/step - loss: 0.6948 - accuracy: 0.4970 - val_loss: 0.6950 - val_accuracy: 0.4962\n",
      "Epoch 3/100\n",
      "313/313 [==============================] - 4s 14ms/step - loss: 0.6936 - accuracy: 0.5029 - val_loss: 0.6943 - val_accuracy: 0.4996\n",
      "Epoch 4/100\n",
      "313/313 [==============================] - 4s 13ms/step - loss: 0.6929 - accuracy: 0.5066 - val_loss: 0.6940 - val_accuracy: 0.5004\n",
      "Epoch 5/100\n",
      "313/313 [==============================] - 4s 13ms/step - loss: 0.6923 - accuracy: 0.5136 - val_loss: 0.6934 - val_accuracy: 0.5060\n",
      "Epoch 6/100\n",
      "313/313 [==============================] - 4s 13ms/step - loss: 0.6918 - accuracy: 0.5164 - val_loss: 0.6931 - val_accuracy: 0.5110\n",
      "Epoch 7/100\n",
      "313/313 [==============================] - 4s 13ms/step - loss: 0.6913 - accuracy: 0.5208 - val_loss: 0.6928 - val_accuracy: 0.5092\n",
      "Epoch 8/100\n",
      "313/313 [==============================] - 4s 13ms/step - loss: 0.6907 - accuracy: 0.5271 - val_loss: 0.6926 - val_accuracy: 0.5120\n",
      "Epoch 9/100\n",
      "313/313 [==============================] - 4s 13ms/step - loss: 0.6900 - accuracy: 0.5322 - val_loss: 0.6923 - val_accuracy: 0.5152\n",
      "Epoch 10/100\n",
      "313/313 [==============================] - 4s 13ms/step - loss: 0.6893 - accuracy: 0.5360 - val_loss: 0.6920 - val_accuracy: 0.5176\n",
      "Epoch 11/100\n",
      "313/313 [==============================] - 4s 13ms/step - loss: 0.6886 - accuracy: 0.5385 - val_loss: 0.6920 - val_accuracy: 0.5220\n",
      "Epoch 12/100\n",
      "313/313 [==============================] - 4s 13ms/step - loss: 0.6879 - accuracy: 0.5408 - val_loss: 0.6918 - val_accuracy: 0.5226\n",
      "Epoch 13/100\n",
      "313/313 [==============================] - 4s 14ms/step - loss: 0.6872 - accuracy: 0.5447 - val_loss: 0.6916 - val_accuracy: 0.5256\n",
      "Epoch 14/100\n",
      "313/313 [==============================] - 4s 13ms/step - loss: 0.6865 - accuracy: 0.5480 - val_loss: 0.6916 - val_accuracy: 0.5288\n",
      "Epoch 15/100\n",
      "313/313 [==============================] - 4s 13ms/step - loss: 0.6858 - accuracy: 0.5497 - val_loss: 0.6914 - val_accuracy: 0.5278\n",
      "Epoch 16/100\n",
      "313/313 [==============================] - 4s 13ms/step - loss: 0.6851 - accuracy: 0.5517 - val_loss: 0.6913 - val_accuracy: 0.5272\n",
      "Epoch 17/100\n",
      "313/313 [==============================] - 4s 13ms/step - loss: 0.6843 - accuracy: 0.5531 - val_loss: 0.6912 - val_accuracy: 0.5264\n",
      "Epoch 18/100\n",
      "313/313 [==============================] - 4s 14ms/step - loss: 0.6836 - accuracy: 0.5547 - val_loss: 0.6910 - val_accuracy: 0.5280\n",
      "Epoch 19/100\n",
      "313/313 [==============================] - 4s 14ms/step - loss: 0.6829 - accuracy: 0.5570 - val_loss: 0.6908 - val_accuracy: 0.5272\n",
      "Epoch 20/100\n",
      "313/313 [==============================] - 4s 14ms/step - loss: 0.6821 - accuracy: 0.5599 - val_loss: 0.6908 - val_accuracy: 0.5284\n",
      "Epoch 21/100\n",
      "313/313 [==============================] - 4s 14ms/step - loss: 0.6810 - accuracy: 0.5640 - val_loss: 0.6903 - val_accuracy: 0.5282\n",
      "Epoch 22/100\n",
      "313/313 [==============================] - 5s 15ms/step - loss: 0.6773 - accuracy: 0.5787 - val_loss: 0.6858 - val_accuracy: 0.5442\n",
      "Epoch 23/100\n",
      "313/313 [==============================] - 5s 14ms/step - loss: 0.6713 - accuracy: 0.5972 - val_loss: 0.6795 - val_accuracy: 0.5666\n",
      "Epoch 24/100\n",
      "313/313 [==============================] - 4s 13ms/step - loss: 0.6638 - accuracy: 0.6191 - val_loss: 0.6726 - val_accuracy: 0.5928\n",
      "Epoch 25/100\n",
      "313/313 [==============================] - 4s 13ms/step - loss: 0.6551 - accuracy: 0.6361 - val_loss: 0.6636 - val_accuracy: 0.6092\n",
      "Epoch 26/100\n",
      "313/313 [==============================] - 4s 13ms/step - loss: 0.6416 - accuracy: 0.6619 - val_loss: 0.6511 - val_accuracy: 0.6316\n",
      "Epoch 27/100\n",
      "313/313 [==============================] - 4s 14ms/step - loss: 0.6303 - accuracy: 0.6768 - val_loss: 0.6390 - val_accuracy: 0.6546\n",
      "Epoch 28/100\n",
      "313/313 [==============================] - 4s 13ms/step - loss: 0.6191 - accuracy: 0.6878 - val_loss: 0.6288 - val_accuracy: 0.6686\n",
      "Epoch 29/100\n",
      "313/313 [==============================] - 4s 13ms/step - loss: 0.6082 - accuracy: 0.7005 - val_loss: 0.6177 - val_accuracy: 0.6788\n",
      "Epoch 30/100\n",
      "313/313 [==============================] - 4s 13ms/step - loss: 0.5976 - accuracy: 0.7090 - val_loss: 0.6085 - val_accuracy: 0.6924\n",
      "Epoch 31/100\n",
      "313/313 [==============================] - 4s 13ms/step - loss: 0.5875 - accuracy: 0.7155 - val_loss: 0.5995 - val_accuracy: 0.7018\n",
      "Epoch 32/100\n",
      "313/313 [==============================] - 4s 13ms/step - loss: 0.5779 - accuracy: 0.7248 - val_loss: 0.5909 - val_accuracy: 0.7090\n",
      "Epoch 33/100\n",
      "313/313 [==============================] - 4s 13ms/step - loss: 0.5688 - accuracy: 0.7340 - val_loss: 0.5799 - val_accuracy: 0.7162\n",
      "Epoch 34/100\n",
      "313/313 [==============================] - 4s 13ms/step - loss: 0.5605 - accuracy: 0.7372 - val_loss: 0.5749 - val_accuracy: 0.7166\n",
      "Epoch 35/100\n",
      "313/313 [==============================] - 4s 13ms/step - loss: 0.5523 - accuracy: 0.7431 - val_loss: 0.5673 - val_accuracy: 0.7218\n",
      "Epoch 36/100\n",
      "313/313 [==============================] - 4s 13ms/step - loss: 0.5453 - accuracy: 0.7477 - val_loss: 0.5604 - val_accuracy: 0.7270\n",
      "Epoch 37/100\n",
      "313/313 [==============================] - 4s 13ms/step - loss: 0.5382 - accuracy: 0.7520 - val_loss: 0.5552 - val_accuracy: 0.7316\n",
      "Epoch 38/100\n",
      "313/313 [==============================] - 4s 13ms/step - loss: 0.5327 - accuracy: 0.7541 - val_loss: 0.5497 - val_accuracy: 0.7326\n",
      "Epoch 39/100\n",
      "313/313 [==============================] - 4s 13ms/step - loss: 0.5273 - accuracy: 0.7553 - val_loss: 0.5460 - val_accuracy: 0.7338\n",
      "Epoch 40/100\n",
      "313/313 [==============================] - 4s 13ms/step - loss: 0.5221 - accuracy: 0.7584 - val_loss: 0.5425 - val_accuracy: 0.7372\n",
      "Epoch 41/100\n",
      "313/313 [==============================] - 4s 13ms/step - loss: 0.5182 - accuracy: 0.7606 - val_loss: 0.5396 - val_accuracy: 0.7358\n",
      "Epoch 42/100\n",
      "313/313 [==============================] - 4s 13ms/step - loss: 0.5145 - accuracy: 0.7623 - val_loss: 0.5356 - val_accuracy: 0.7392\n",
      "Epoch 43/100\n",
      "313/313 [==============================] - 4s 13ms/step - loss: 0.5111 - accuracy: 0.7636 - val_loss: 0.5314 - val_accuracy: 0.7448\n",
      "Epoch 44/100\n",
      "313/313 [==============================] - 4s 13ms/step - loss: 0.5078 - accuracy: 0.7646 - val_loss: 0.5294 - val_accuracy: 0.7416\n",
      "Epoch 45/100\n",
      "313/313 [==============================] - 4s 13ms/step - loss: 0.5054 - accuracy: 0.7658 - val_loss: 0.5273 - val_accuracy: 0.7486\n",
      "Epoch 46/100\n",
      "313/313 [==============================] - 4s 14ms/step - loss: 0.5027 - accuracy: 0.7680 - val_loss: 0.5243 - val_accuracy: 0.7502\n",
      "Epoch 47/100\n",
      "313/313 [==============================] - 4s 14ms/step - loss: 0.4996 - accuracy: 0.7697 - val_loss: 0.5257 - val_accuracy: 0.7488\n",
      "Epoch 48/100\n",
      "313/313 [==============================] - 4s 14ms/step - loss: 0.4981 - accuracy: 0.7702 - val_loss: 0.5228 - val_accuracy: 0.7514\n",
      "Epoch 49/100\n",
      "313/313 [==============================] - 4s 14ms/step - loss: 0.4961 - accuracy: 0.7720 - val_loss: 0.5231 - val_accuracy: 0.7448\n",
      "Epoch 50/100\n",
      "313/313 [==============================] - 5s 15ms/step - loss: 0.4942 - accuracy: 0.7719 - val_loss: 0.5214 - val_accuracy: 0.7464\n",
      "Epoch 51/100\n",
      "313/313 [==============================] - 5s 15ms/step - loss: 0.4930 - accuracy: 0.7722 - val_loss: 0.5184 - val_accuracy: 0.7520\n",
      "Epoch 52/100\n",
      "313/313 [==============================] - 4s 14ms/step - loss: 0.4906 - accuracy: 0.7738 - val_loss: 0.5192 - val_accuracy: 0.7518\n",
      "Epoch 53/100\n",
      "313/313 [==============================] - 4s 14ms/step - loss: 0.4899 - accuracy: 0.7746 - val_loss: 0.5177 - val_accuracy: 0.7522\n",
      "Epoch 54/100\n",
      "313/313 [==============================] - 4s 14ms/step - loss: 0.4884 - accuracy: 0.7743 - val_loss: 0.5167 - val_accuracy: 0.7544\n",
      "Epoch 55/100\n",
      "313/313 [==============================] - 4s 14ms/step - loss: 0.4874 - accuracy: 0.7741 - val_loss: 0.5181 - val_accuracy: 0.7478\n",
      "Epoch 56/100\n",
      "313/313 [==============================] - 4s 14ms/step - loss: 0.4861 - accuracy: 0.7755 - val_loss: 0.5167 - val_accuracy: 0.7528\n",
      "Epoch 57/100\n",
      "313/313 [==============================] - 4s 14ms/step - loss: 0.4845 - accuracy: 0.7770 - val_loss: 0.5225 - val_accuracy: 0.7442\n"
     ]
    }
   ],
   "source": [
    "rmsprop = keras.optimizers.RMSprop(learning_rate=1e-4)\n",
    "model.compile(optimizer=rmsprop, loss='binary_crossentropy', metrics='accuracy')\n",
    "checkpoint_cb = keras.callbacks.ModelCheckpoint('best-simplernn-model.h5', save_best_only=True)\n",
    "early_stopping_cb = keras.callbacks.EarlyStopping(patience=3, restore_best_weights=True)\n",
    "history = model.fit(train_oh, train_target, epochs=100, batch_size=64, validation_data=(val_oh, val_target), callbacks=[checkpoint_cb, early_stopping_cb])"
   ]
  },
  {
   "cell_type": "code",
   "execution_count": 20,
   "metadata": {},
   "outputs": [
    {
     "data": {
      "image/png": "[encoded data removed]",
      "text/plain": [
       "<Figure size 640x480 with 1 Axes>"
      ]
     },
     "metadata": {},
     "output_type": "display_data"
    }
   ],
   "source": [
    "plt.plot(history.history['loss'])\n",
    "plt.plot(history.history['val_loss'])\n",
    "plt.xlabel('epoch')\n",
    "plt.ylabel('loss')\n",
    "plt.legend(['train','val'])\n",
    "plt.show()"
   ]
  },
  {
   "cell_type": "code",
   "execution_count": 21,
   "metadata": {},
   "outputs": [],
   "source": [
    "model2 = keras.Sequential()\n",
    "model2.add(keras.layers.Embedding(300, 16, input_length=100))\n",
    "model2.add(keras.layers.SimpleRNN(8))\n",
    "model2.add(keras.layers.Dense(1, activation='sigmoid'))"
   ]
  },
  {
   "cell_type": "code",
   "execution_count": 22,
   "metadata": {},
   "outputs": [
    {
     "name": "stdout",
     "output_type": "stream",
     "text": [
      "Model: \"sequential_1\"\n",
      "_________________________________________________________________\n",
      " Layer (type)                Output Shape              Param #   \n",
      "=================================================================\n",
      " embedding (Embedding)       (None, 100, 16)           4800      \n",
      "                                                                 \n",
      " simple_rnn_1 (SimpleRNN)    (None, 8)                 200       \n",
      "                                                                 \n",
      " dense_1 (Dense)             (None, 1)                 9         \n",
      "                                                                 \n",
      "=================================================================\n",
      "Total params: 5009 (19.57 KB)\n",
      "Trainable params: 5009 (19.57 KB)\n",
      "Non-trainable params: 0 (0.00 Byte)\n",
      "_________________________________________________________________\n"
     ]
    }
   ],
   "source": [
    "model2.summary()"
   ]
  },
  {
   "cell_type": "code",
   "execution_count": 23,
   "metadata": {},
   "outputs": [
    {
     "name": "stdout",
     "output_type": "stream",
     "text": [
      "Epoch 1/100\n",
      "313/313 [==============================] - 4s 9ms/step - loss: 0.6942 - accuracy: 0.5031 - val_loss: 0.6925 - val_accuracy: 0.5112\n",
      "Epoch 2/100\n",
      "313/313 [==============================] - 3s 9ms/step - loss: 0.6922 - accuracy: 0.5161 - val_loss: 0.6919 - val_accuracy: 0.5226\n",
      "Epoch 3/100\n",
      "313/313 [==============================] - 3s 9ms/step - loss: 0.6906 - accuracy: 0.5324 - val_loss: 0.6914 - val_accuracy: 0.5230\n",
      "Epoch 4/100\n",
      "313/313 [==============================] - 3s 9ms/step - loss: 0.6890 - accuracy: 0.5404 - val_loss: 0.6910 - val_accuracy: 0.5294\n",
      "Epoch 5/100\n",
      "313/313 [==============================] - 3s 9ms/step - loss: 0.6872 - accuracy: 0.5497 - val_loss: 0.6907 - val_accuracy: 0.5294\n",
      "Epoch 6/100\n",
      "313/313 [==============================] - 3s 9ms/step - loss: 0.6853 - accuracy: 0.5590 - val_loss: 0.6904 - val_accuracy: 0.5330\n",
      "Epoch 7/100\n",
      "313/313 [==============================] - 3s 9ms/step - loss: 0.6831 - accuracy: 0.5641 - val_loss: 0.6904 - val_accuracy: 0.5316\n",
      "Epoch 8/100\n",
      "313/313 [==============================] - 3s 9ms/step - loss: 0.6806 - accuracy: 0.5735 - val_loss: 0.6896 - val_accuracy: 0.5334\n",
      "Epoch 9/100\n",
      "313/313 [==============================] - 3s 9ms/step - loss: 0.6768 - accuracy: 0.5860 - val_loss: 0.6843 - val_accuracy: 0.5550\n",
      "Epoch 10/100\n",
      "313/313 [==============================] - 3s 9ms/step - loss: 0.6656 - accuracy: 0.6355 - val_loss: 0.6670 - val_accuracy: 0.6304\n",
      "Epoch 11/100\n",
      "313/313 [==============================] - 3s 9ms/step - loss: 0.6494 - accuracy: 0.6758 - val_loss: 0.6518 - val_accuracy: 0.6570\n",
      "Epoch 12/100\n",
      "313/313 [==============================] - 3s 9ms/step - loss: 0.6325 - accuracy: 0.7013 - val_loss: 0.6344 - val_accuracy: 0.6946\n",
      "Epoch 13/100\n",
      "313/313 [==============================] - 3s 9ms/step - loss: 0.6154 - accuracy: 0.7178 - val_loss: 0.6191 - val_accuracy: 0.7016\n",
      "Epoch 14/100\n",
      "313/313 [==============================] - 3s 9ms/step - loss: 0.5999 - accuracy: 0.7268 - val_loss: 0.6068 - val_accuracy: 0.7068\n",
      "Epoch 15/100\n",
      "313/313 [==============================] - 3s 9ms/step - loss: 0.5862 - accuracy: 0.7338 - val_loss: 0.5940 - val_accuracy: 0.7218\n",
      "Epoch 16/100\n",
      "313/313 [==============================] - 3s 9ms/step - loss: 0.5731 - accuracy: 0.7402 - val_loss: 0.5830 - val_accuracy: 0.7304\n",
      "Epoch 17/100\n",
      "313/313 [==============================] - 3s 9ms/step - loss: 0.5614 - accuracy: 0.7450 - val_loss: 0.5716 - val_accuracy: 0.7320\n",
      "Epoch 18/100\n",
      "313/313 [==============================] - 3s 9ms/step - loss: 0.5497 - accuracy: 0.7527 - val_loss: 0.5666 - val_accuracy: 0.7290\n",
      "Epoch 19/100\n",
      "313/313 [==============================] - 3s 9ms/step - loss: 0.5408 - accuracy: 0.7556 - val_loss: 0.5537 - val_accuracy: 0.7416\n",
      "Epoch 20/100\n",
      "313/313 [==============================] - 3s 9ms/step - loss: 0.5322 - accuracy: 0.7578 - val_loss: 0.5483 - val_accuracy: 0.7398\n",
      "Epoch 21/100\n",
      "313/313 [==============================] - 3s 9ms/step - loss: 0.5239 - accuracy: 0.7620 - val_loss: 0.5444 - val_accuracy: 0.7340\n",
      "Epoch 22/100\n",
      "313/313 [==============================] - 3s 9ms/step - loss: 0.5174 - accuracy: 0.7645 - val_loss: 0.5410 - val_accuracy: 0.7460\n",
      "Epoch 23/100\n",
      "313/313 [==============================] - 3s 9ms/step - loss: 0.5120 - accuracy: 0.7666 - val_loss: 0.5329 - val_accuracy: 0.7450\n",
      "Epoch 24/100\n",
      "313/313 [==============================] - 3s 9ms/step - loss: 0.5058 - accuracy: 0.7688 - val_loss: 0.5315 - val_accuracy: 0.7506\n",
      "Epoch 25/100\n",
      "313/313 [==============================] - 3s 9ms/step - loss: 0.5015 - accuracy: 0.7690 - val_loss: 0.5266 - val_accuracy: 0.7396\n",
      "Epoch 26/100\n",
      "313/313 [==============================] - 3s 9ms/step - loss: 0.4971 - accuracy: 0.7728 - val_loss: 0.5290 - val_accuracy: 0.7468\n",
      "Epoch 27/100\n",
      "313/313 [==============================] - 3s 9ms/step - loss: 0.4931 - accuracy: 0.7737 - val_loss: 0.5233 - val_accuracy: 0.7420\n",
      "Epoch 28/100\n",
      "313/313 [==============================] - 3s 9ms/step - loss: 0.4900 - accuracy: 0.7761 - val_loss: 0.5267 - val_accuracy: 0.7494\n",
      "Epoch 29/100\n",
      "313/313 [==============================] - 3s 9ms/step - loss: 0.4866 - accuracy: 0.7771 - val_loss: 0.5220 - val_accuracy: 0.7456\n",
      "Epoch 30/100\n",
      "313/313 [==============================] - 3s 9ms/step - loss: 0.4841 - accuracy: 0.7782 - val_loss: 0.5178 - val_accuracy: 0.7420\n",
      "Epoch 31/100\n",
      "313/313 [==============================] - 3s 9ms/step - loss: 0.4821 - accuracy: 0.7784 - val_loss: 0.5175 - val_accuracy: 0.7450\n",
      "Epoch 32/100\n",
      "313/313 [==============================] - 3s 9ms/step - loss: 0.4792 - accuracy: 0.7825 - val_loss: 0.5191 - val_accuracy: 0.7394\n",
      "Epoch 33/100\n",
      "313/313 [==============================] - 3s 9ms/step - loss: 0.4779 - accuracy: 0.7825 - val_loss: 0.5177 - val_accuracy: 0.7428\n",
      "Epoch 34/100\n",
      "313/313 [==============================] - 3s 9ms/step - loss: 0.4756 - accuracy: 0.7844 - val_loss: 0.5201 - val_accuracy: 0.7482\n"
     ]
    }
   ],
   "source": [
    "rmsprop = keras.optimizers.RMSprop(learning_rate=1e-4)\n",
    "model2.compile(optimizer=rmsprop, loss='binary_crossentropy', metrics='accuracy')\n",
    "checkpoint_cb = keras.callbacks.ModelCheckpoint('best-embedding-model.h5', save_best_only=True)\n",
    "early_stopping_cb = keras.callbacks.EarlyStopping(patience=3, restore_best_weights=True)\n",
    "history = model2.fit(train_seq, train_target, epochs=100, batch_size=64, validation_data=(val_seq, val_target), callbacks=[checkpoint_cb, early_stopping_cb])"
   ]
  },
  {
   "cell_type": "code",
   "execution_count": 24,
   "metadata": {},
   "outputs": [
    {
     "data": {
      "image/png": "[encoded data removed]",
      "text/plain": [
       "<Figure size 640x480 with 1 Axes>"
      ]
     },
     "metadata": {},
     "output_type": "display_data"
    }
   ],
   "source": [
    "plt.plot(history.history['loss'])\n",
    "plt.plot(history.history['val_loss'])\n",
    "plt.xlabel('epoch')\n",
    "plt.ylabel('loss')\n",
    "plt.legend(['train','val'])\n",
    "plt.show()"
   ]
  },
  {
   "cell_type": "code",
   "execution_count": null,
   "metadata": {},
   "outputs": [],
   "source": []
  }
 ],
 "metadata": {
  "kernelspec": {
   "display_name": "base",
   "language": "python",
   "name": "python3"
  },
  "language_info": {
   "codemirror_mode": {
    "name": "ipython",
    "version": 3
   },
   "file_extension": ".py",
   "mimetype": "text/x-python",
   "name": "python",
   "nbconvert_exporter": "python",
   "pygments_lexer": "ipython3",
   "version": "3.11.4"
  }
 },
 "nbformat": 4,
 "nbformat_minor": 2
}
