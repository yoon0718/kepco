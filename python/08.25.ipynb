{
 "cells": [
  {
   "cell_type": "code",
   "execution_count": 8,
   "id": "3ff5d034",
   "metadata": {},
   "outputs": [
    {
     "data": {
      "text/plain": [
       "True"
      ]
     },
     "execution_count": 8,
     "metadata": {},
     "output_type": "execute_result"
    }
   ],
   "source": [
    "a = [1, 2, 3]\n",
    "b = a\n",
    "a[1] = 5\n",
    "a is b"
   ]
  },
  {
   "cell_type": "code",
   "execution_count": 9,
   "id": "749d80cf",
   "metadata": {},
   "outputs": [
    {
     "data": {
      "text/plain": [
       "False"
      ]
     },
     "execution_count": 9,
     "metadata": {},
     "output_type": "execute_result"
    }
   ],
   "source": [
    "a = [1, 2, 3]\n",
    "b = a[:]\n",
    "\n",
    "a is b"
   ]
  },
  {
   "cell_type": "code",
   "execution_count": 10,
   "id": "3e10499b",
   "metadata": {},
   "outputs": [
    {
     "data": {
      "text/plain": [
       "(1877125955456, 1877125940480)"
      ]
     },
     "execution_count": 10,
     "metadata": {},
     "output_type": "execute_result"
    }
   ],
   "source": [
    "id(a), id(b)"
   ]
  },
  {
   "cell_type": "code",
   "execution_count": 11,
   "id": "09ebdb63",
   "metadata": {},
   "outputs": [],
   "source": [
    "words = \"Yoon yeo rok\"\n",
    "words_list = list(words)"
   ]
  },
  {
   "cell_type": "code",
   "execution_count": 12,
   "id": "5ad2977c",
   "metadata": {},
   "outputs": [
    {
     "data": {
      "text/plain": [
       "['Y', 'o', 'o', 'n', ' ', 'y', 'e', 'o', ' ', 'r', 'o', 'k']"
      ]
     },
     "execution_count": 12,
     "metadata": {},
     "output_type": "execute_result"
    }
   ],
   "source": [
    "words_list"
   ]
  },
  {
   "cell_type": "code",
   "execution_count": 13,
   "id": "f3752112",
   "metadata": {},
   "outputs": [
    {
     "data": {
      "text/plain": [
       "'Yoon yeo rok'"
      ]
     },
     "execution_count": 13,
     "metadata": {},
     "output_type": "execute_result"
    }
   ],
   "source": [
    "\"\".join(words_list)"
   ]
  },
  {
   "cell_type": "code",
   "execution_count": 34,
   "id": "2b70c363",
   "metadata": {},
   "outputs": [],
   "source": [
    "a = [1, 2, 3]"
   ]
  },
  {
   "cell_type": "code",
   "execution_count": 35,
   "id": "e1f0e359",
   "metadata": {},
   "outputs": [
    {
     "data": {
      "text/plain": [
       "[1, 2, 3, 4]"
      ]
     },
     "execution_count": 35,
     "metadata": {},
     "output_type": "execute_result"
    }
   ],
   "source": [
    "a.append(4)\n",
    "a"
   ]
  },
  {
   "cell_type": "code",
   "execution_count": 36,
   "id": "4c2aff11",
   "metadata": {},
   "outputs": [
    {
     "data": {
      "text/plain": [
       "[1, 2, 3, 4, [5, 6]]"
      ]
     },
     "execution_count": 36,
     "metadata": {},
     "output_type": "execute_result"
    }
   ],
   "source": [
    "a.append([5, 6])\n",
    "a"
   ]
  },
  {
   "cell_type": "code",
   "execution_count": 37,
   "id": "c1778b0a",
   "metadata": {},
   "outputs": [
    {
     "data": {
      "text/plain": [
       "[1, 2, 3, 4]"
      ]
     },
     "execution_count": 37,
     "metadata": {},
     "output_type": "execute_result"
    }
   ],
   "source": [
    "del a[4]\n",
    "a"
   ]
  },
  {
   "cell_type": "code",
   "execution_count": 38,
   "id": "faadbac3",
   "metadata": {},
   "outputs": [
    {
     "data": {
      "text/plain": [
       "[4, 3, 2, 1]"
      ]
     },
     "execution_count": 38,
     "metadata": {},
     "output_type": "execute_result"
    }
   ],
   "source": [
    "a.reverse()\n",
    "a"
   ]
  },
  {
   "cell_type": "code",
   "execution_count": 39,
   "id": "a81a1dcb",
   "metadata": {},
   "outputs": [
    {
     "data": {
      "text/plain": [
       "(1, 3)"
      ]
     },
     "execution_count": 39,
     "metadata": {},
     "output_type": "execute_result"
    }
   ],
   "source": [
    "a.index(3), a.index(1)"
   ]
  },
  {
   "cell_type": "code",
   "execution_count": 40,
   "id": "7d50820b",
   "metadata": {},
   "outputs": [
    {
     "data": {
      "text/plain": [
       "[4, 4, 3, 2, 1]"
      ]
     },
     "execution_count": 40,
     "metadata": {},
     "output_type": "execute_result"
    }
   ],
   "source": [
    "a.insert(0, 4)\n",
    "a"
   ]
  },
  {
   "cell_type": "code",
   "execution_count": 41,
   "id": "08ba4d01",
   "metadata": {},
   "outputs": [
    {
     "data": {
      "text/plain": [
       "[1, 2, 3, 4, 4]"
      ]
     },
     "execution_count": 41,
     "metadata": {},
     "output_type": "execute_result"
    }
   ],
   "source": [
    "a.sort()\n",
    "a"
   ]
  },
  {
   "cell_type": "code",
   "execution_count": 42,
   "id": "659ca8b3",
   "metadata": {},
   "outputs": [
    {
     "data": {
      "text/plain": [
       "[1, 2, 3, 5, 4, 4]"
      ]
     },
     "execution_count": 42,
     "metadata": {},
     "output_type": "execute_result"
    }
   ],
   "source": [
    "a.insert(3, 5)\n",
    "a"
   ]
  },
  {
   "cell_type": "code",
   "execution_count": 43,
   "id": "988a361c",
   "metadata": {},
   "outputs": [
    {
     "data": {
      "text/plain": [
       "[1, 2, 5, 4, 4]"
      ]
     },
     "execution_count": 43,
     "metadata": {},
     "output_type": "execute_result"
    }
   ],
   "source": [
    "a.remove(3)\n",
    "a"
   ]
  },
  {
   "cell_type": "code",
   "execution_count": 44,
   "id": "99daf886",
   "metadata": {},
   "outputs": [
    {
     "data": {
      "text/plain": [
       "[1, 2, 5, 4]"
      ]
     },
     "execution_count": 44,
     "metadata": {},
     "output_type": "execute_result"
    }
   ],
   "source": [
    "a.remove(4)\n",
    "a"
   ]
  },
  {
   "cell_type": "code",
   "execution_count": 45,
   "id": "65b0afcf",
   "metadata": {},
   "outputs": [
    {
     "data": {
      "text/plain": [
       "[1, 2, 4]"
      ]
     },
     "execution_count": 45,
     "metadata": {},
     "output_type": "execute_result"
    }
   ],
   "source": [
    "a.remove(5)\n",
    "a\n"
   ]
  },
  {
   "cell_type": "code",
   "execution_count": 46,
   "id": "4f5a0ab8",
   "metadata": {},
   "outputs": [
    {
     "data": {
      "text/plain": [
       "[1, 2]"
      ]
     },
     "execution_count": 46,
     "metadata": {},
     "output_type": "execute_result"
    }
   ],
   "source": [
    "a.pop()\n",
    "a"
   ]
  },
  {
   "cell_type": "code",
   "execution_count": 52,
   "id": "194e8c2e",
   "metadata": {},
   "outputs": [],
   "source": [
    "a.append(5)"
   ]
  },
  {
   "cell_type": "code",
   "execution_count": 53,
   "id": "fef711d0",
   "metadata": {},
   "outputs": [
    {
     "data": {
      "text/plain": [
       "(5, [1, 2])"
      ]
     },
     "execution_count": 53,
     "metadata": {},
     "output_type": "execute_result"
    }
   ],
   "source": [
    "a.pop(2), a"
   ]
  },
  {
   "cell_type": "code",
   "execution_count": 94,
   "id": "415c48bc",
   "metadata": {},
   "outputs": [],
   "source": [
    "q1 = '1 2 3 4 5 6' #합구하기\n",
    "q2 = 'hello python!' #을 !nohtyp olleh 역순으로 출력\n",
    "q3 = '3 a 7 21 z x u d b 0 b b b 2 1 1 1' #를 char, int 각각으로 분류"
   ]
  },
  {
   "cell_type": "code",
   "execution_count": 95,
   "id": "78806f03",
   "metadata": {},
   "outputs": [
    {
     "data": {
      "text/plain": [
       "21"
      ]
     },
     "execution_count": 95,
     "metadata": {},
     "output_type": "execute_result"
    }
   ],
   "source": [
    "q1_s = q1.split()\n",
    "q1_j = \"\".join(q1_s)\n",
    "list_q1_j = list(q1_j)\n",
    "int(list_q1_j[0])+int(list_q1_j[1])+int(list_q1_j[2])+int(list_q1_j[3])+int(list_q1_j[4])+int(list_q1_j[5])"
   ]
  },
  {
   "cell_type": "code",
   "execution_count": 96,
   "id": "d8a568e7",
   "metadata": {},
   "outputs": [
    {
     "data": {
      "text/plain": [
       "'!nohtyp olleh'"
      ]
     },
     "execution_count": 96,
     "metadata": {},
     "output_type": "execute_result"
    }
   ],
   "source": [
    "q1_list = list(q2)\n",
    "q1_list.reverse()\n",
    "\"\".join(q1_list)"
   ]
  },
  {
   "cell_type": "code",
   "execution_count": 104,
   "id": "ab234b30",
   "metadata": {},
   "outputs": [
    {
     "data": {
      "text/plain": [
       "['3',\n",
       " 'a',\n",
       " '7',\n",
       " '21',\n",
       " 'z',\n",
       " 'x',\n",
       " 'u',\n",
       " 'd',\n",
       " 'b',\n",
       " '0',\n",
       " 'b',\n",
       " 'b',\n",
       " 'b',\n",
       " '2',\n",
       " '1',\n",
       " '1',\n",
       " '1']"
      ]
     },
     "execution_count": 104,
     "metadata": {},
     "output_type": "execute_result"
    }
   ],
   "source": [
    "q3_s = q3.split()\n",
    "q3_s"
   ]
  },
  {
   "cell_type": "code",
   "execution_count": 105,
   "id": "aabaf3ad",
   "metadata": {},
   "outputs": [],
   "source": [
    "q3_s.sort()"
   ]
  },
  {
   "cell_type": "code",
   "execution_count": 106,
   "id": "137e1f14",
   "metadata": {},
   "outputs": [
    {
     "data": {
      "text/plain": [
       "['0',\n",
       " '1',\n",
       " '1',\n",
       " '1',\n",
       " '2',\n",
       " '21',\n",
       " '3',\n",
       " '7',\n",
       " 'a',\n",
       " 'b',\n",
       " 'b',\n",
       " 'b',\n",
       " 'b',\n",
       " 'd',\n",
       " 'u',\n",
       " 'x',\n",
       " 'z']"
      ]
     },
     "execution_count": 106,
     "metadata": {},
     "output_type": "execute_result"
    }
   ],
   "source": [
    "q3_s"
   ]
  },
  {
   "cell_type": "code",
   "execution_count": 107,
   "id": "72b23da5",
   "metadata": {},
   "outputs": [
    {
     "data": {
      "text/plain": [
       "['0',\n",
       " '1',\n",
       " '1',\n",
       " '1',\n",
       " '1',\n",
       " '2',\n",
       " '2',\n",
       " '3',\n",
       " '7',\n",
       " 'a',\n",
       " 'b',\n",
       " 'b',\n",
       " 'b',\n",
       " 'b',\n",
       " 'd',\n",
       " 'u',\n",
       " 'x',\n",
       " 'z']"
      ]
     },
     "execution_count": 107,
     "metadata": {},
     "output_type": "execute_result"
    }
   ],
   "source": [
    "q3_j = \"\".join(q3_s)\n",
    "list_q3 = list(q3_j)\n",
    "list_q3.sort()\n",
    "list_q3"
   ]
  },
  {
   "cell_type": "code",
   "execution_count": 108,
   "id": "7a21b94c",
   "metadata": {},
   "outputs": [],
   "source": [
    "#스마트 알람프로그램 짜오기\n",
    "#나의 일과를 print 문으로 작성 - 포멧코드 2종류 이상 사용\n",
    "#작성한 내용중에서 조건식 구현가능(ture/false)구별이 가능한 내용과 그렇지 않은 내용을 구별해본다.\n"
   ]
  },
  {
   "cell_type": "code",
   "execution_count": null,
   "id": "5b1f2a78",
   "metadata": {},
   "outputs": [],
   "source": []
  }
 ],
 "metadata": {
  "kernelspec": {
   "display_name": "Python 3 (ipykernel)",
   "language": "python",
   "name": "python3"
  },
  "language_info": {
   "codemirror_mode": {
    "name": "ipython",
    "version": 3
   },
   "file_extension": ".py",
   "mimetype": "text/x-python",
   "name": "python",
   "nbconvert_exporter": "python",
   "pygments_lexer": "ipython3",
   "version": "3.11.4"
  }
 },
 "nbformat": 4,
 "nbformat_minor": 5
}
