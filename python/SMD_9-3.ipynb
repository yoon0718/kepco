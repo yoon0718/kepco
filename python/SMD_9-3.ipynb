{
  "cells": [
    {
      "cell_type": "code",
      "execution_count": 1,
      "metadata": {
        "colab": {
          "base_uri": "https://localhost:8080/"
        },
        "id": "lztN0Fh4yUOD",
        "outputId": "824fbf15-7c42-4845-da29-f001f41280be"
      },
      "outputs": [
        {
          "output_type": "stream",
          "name": "stdout",
          "text": [
            "Downloading data from https://storage.googleapis.com/tensorflow/tf-keras-datasets/imdb.npz\n",
            "17464789/17464789 [==============================] - 0s 0us/step\n"
          ]
        }
      ],
      "source": [
        "from tensorflow.keras.datasets import imdb\n",
        "from sklearn.model_selection import train_test_split\n",
        "(train_input, train_target), (test_input, test_target) = imdb.load_data(num_words=500)\n",
        "train_input, val_input, train_target, val_target = train_test_split(train_input, train_target, test_size=.2, random_state=42)"
      ]
    },
    {
      "cell_type": "code",
      "execution_count": 2,
      "metadata": {
        "id": "j2ILHJDJyUOG"
      },
      "outputs": [],
      "source": [
        "from tensorflow.keras.utils import pad_sequences\n",
        "train_seq = pad_sequences(train_input, maxlen=100)\n",
        "val_seq = pad_sequences(val_input, maxlen=100)"
      ]
    },
    {
      "cell_type": "code",
      "execution_count": 3,
      "metadata": {
        "id": "NYF2uh8QyUOG"
      },
      "outputs": [],
      "source": [
        "from tensorflow.keras import Sequential\n",
        "from tensorflow.keras.layers import Embedding, LSTM, Dense\n",
        "from tensorflow.keras.optimizers import RMSprop\n",
        "from tensorflow.keras.callbacks import ModelCheckpoint, EarlyStopping"
      ]
    },
    {
      "cell_type": "code",
      "execution_count": null,
      "metadata": {
        "id": "s2i7qqrvyUOH",
        "outputId": "7167c9b7-a9f0-494b-8b51-7af697ce91e1"
      },
      "outputs": [
        {
          "name": "stdout",
          "output_type": "stream",
          "text": [
            "WARNING:tensorflow:From c:\\Users\\user\\anaconda3\\Lib\\site-packages\\keras\\src\\backend.py:873: The name tf.get_default_graph is deprecated. Please use tf.compat.v1.get_default_graph instead.\n",
            "\n"
          ]
        }
      ],
      "source": [
        "model = Sequential(\n",
        "    [\n",
        "        Embedding(500, 16, input_length=100),\n",
        "        LSTM(8),\n",
        "        Dense(1, activation='sigmoid')\n",
        "    ]\n",
        ")"
      ]
    },
    {
      "cell_type": "code",
      "execution_count": null,
      "metadata": {
        "id": "G0I8HAvTyUOH",
        "outputId": "4450a83d-4379-4d9d-9326-64d6eaec6af6"
      },
      "outputs": [
        {
          "name": "stdout",
          "output_type": "stream",
          "text": [
            "Model: \"sequential\"\n",
            "_________________________________________________________________\n",
            " Layer (type)                Output Shape              Param #   \n",
            "=================================================================\n",
            " embedding (Embedding)       (None, 100, 16)           8000      \n",
            "                                                                 \n",
            " lstm (LSTM)                 (None, 8)                 800       \n",
            "                                                                 \n",
            " dense (Dense)               (None, 1)                 9         \n",
            "                                                                 \n",
            "=================================================================\n",
            "Total params: 8809 (34.41 KB)\n",
            "Trainable params: 8809 (34.41 KB)\n",
            "Non-trainable params: 0 (0.00 Byte)\n",
            "_________________________________________________________________\n"
          ]
        }
      ],
      "source": [
        "model.summary()"
      ]
    },
    {
      "cell_type": "code",
      "execution_count": null,
      "metadata": {
        "id": "0E9xlFHEyUOI",
        "outputId": "a2d982b4-cf00-4a25-e1e1-5049ee70068e"
      },
      "outputs": [
        {
          "name": "stdout",
          "output_type": "stream",
          "text": [
            "Epoch 1/100\n",
            "WARNING:tensorflow:From c:\\Users\\user\\anaconda3\\Lib\\site-packages\\keras\\src\\utils\\tf_utils.py:492: The name tf.ragged.RaggedTensorValue is deprecated. Please use tf.compat.v1.ragged.RaggedTensorValue instead.\n",
            "\n",
            "WARNING:tensorflow:From c:\\Users\\user\\anaconda3\\Lib\\site-packages\\keras\\src\\engine\\base_layer_utils.py:384: The name tf.executing_eagerly_outside_functions is deprecated. Please use tf.compat.v1.executing_eagerly_outside_functions instead.\n",
            "\n",
            "313/313 [==============================] - 7s 18ms/step - loss: 0.6926 - accuracy: 0.5292 - val_loss: 0.6920 - val_accuracy: 0.5554\n",
            "Epoch 2/100\n",
            "  9/313 [..............................] - ETA: 4s - loss: 0.6915 - accuracy: 0.5747"
          ]
        },
        {
          "name": "stderr",
          "output_type": "stream",
          "text": [
            "c:\\Users\\user\\anaconda3\\Lib\\site-packages\\keras\\src\\engine\\training.py:3103: UserWarning: You are saving your model as an HDF5 file via `model.save()`. This file format is considered legacy. We recommend using instead the native Keras format, e.g. `model.save('my_model.keras')`.\n",
            "  saving_api.save_model(\n"
          ]
        },
        {
          "name": "stdout",
          "output_type": "stream",
          "text": [
            "313/313 [==============================] - 5s 17ms/step - loss: 0.6903 - accuracy: 0.5972 - val_loss: 0.6885 - val_accuracy: 0.5978\n",
            "Epoch 3/100\n",
            "313/313 [==============================] - 5s 17ms/step - loss: 0.6759 - accuracy: 0.6426 - val_loss: 0.6538 - val_accuracy: 0.6718\n",
            "Epoch 4/100\n",
            "313/313 [==============================] - 6s 18ms/step - loss: 0.6351 - accuracy: 0.6830 - val_loss: 0.6246 - val_accuracy: 0.6938\n",
            "Epoch 5/100\n",
            "313/313 [==============================] - 6s 18ms/step - loss: 0.6117 - accuracy: 0.7098 - val_loss: 0.6052 - val_accuracy: 0.7128\n",
            "Epoch 6/100\n",
            "313/313 [==============================] - 6s 18ms/step - loss: 0.5919 - accuracy: 0.7281 - val_loss: 0.5884 - val_accuracy: 0.7240\n",
            "Epoch 7/100\n",
            "313/313 [==============================] - 6s 18ms/step - loss: 0.5741 - accuracy: 0.7408 - val_loss: 0.5729 - val_accuracy: 0.7356\n",
            "Epoch 8/100\n",
            "313/313 [==============================] - 6s 18ms/step - loss: 0.5577 - accuracy: 0.7520 - val_loss: 0.5571 - val_accuracy: 0.7500\n",
            "Epoch 9/100\n",
            "313/313 [==============================] - 6s 18ms/step - loss: 0.5413 - accuracy: 0.7617 - val_loss: 0.5417 - val_accuracy: 0.7592\n",
            "Epoch 10/100\n",
            "313/313 [==============================] - 6s 18ms/step - loss: 0.5259 - accuracy: 0.7696 - val_loss: 0.5267 - val_accuracy: 0.7662\n",
            "Epoch 11/100\n",
            "313/313 [==============================] - 6s 18ms/step - loss: 0.5117 - accuracy: 0.7764 - val_loss: 0.5160 - val_accuracy: 0.7662\n",
            "Epoch 12/100\n",
            "313/313 [==============================] - 6s 18ms/step - loss: 0.4986 - accuracy: 0.7839 - val_loss: 0.5035 - val_accuracy: 0.7764\n",
            "Epoch 13/100\n",
            "313/313 [==============================] - 6s 18ms/step - loss: 0.4871 - accuracy: 0.7895 - val_loss: 0.4971 - val_accuracy: 0.7758\n",
            "Epoch 14/100\n",
            "313/313 [==============================] - 6s 18ms/step - loss: 0.4775 - accuracy: 0.7935 - val_loss: 0.4838 - val_accuracy: 0.7890\n",
            "Epoch 15/100\n",
            "313/313 [==============================] - 5s 18ms/step - loss: 0.4689 - accuracy: 0.7980 - val_loss: 0.4779 - val_accuracy: 0.7854\n",
            "Epoch 16/100\n",
            "313/313 [==============================] - 6s 18ms/step - loss: 0.4614 - accuracy: 0.7991 - val_loss: 0.4707 - val_accuracy: 0.7936\n",
            "Epoch 17/100\n",
            "313/313 [==============================] - 6s 18ms/step - loss: 0.4549 - accuracy: 0.8020 - val_loss: 0.4657 - val_accuracy: 0.7936\n",
            "Epoch 18/100\n",
            "313/313 [==============================] - 6s 18ms/step - loss: 0.4495 - accuracy: 0.8029 - val_loss: 0.4609 - val_accuracy: 0.7940\n",
            "Epoch 19/100\n",
            "313/313 [==============================] - 6s 18ms/step - loss: 0.4444 - accuracy: 0.8067 - val_loss: 0.4582 - val_accuracy: 0.7940\n",
            "Epoch 20/100\n",
            "313/313 [==============================] - 6s 18ms/step - loss: 0.4398 - accuracy: 0.8074 - val_loss: 0.4547 - val_accuracy: 0.7970\n",
            "Epoch 21/100\n",
            "313/313 [==============================] - 5s 17ms/step - loss: 0.4357 - accuracy: 0.8085 - val_loss: 0.4512 - val_accuracy: 0.7986\n",
            "Epoch 22/100\n",
            "313/313 [==============================] - 5s 17ms/step - loss: 0.4319 - accuracy: 0.8093 - val_loss: 0.4476 - val_accuracy: 0.8014\n",
            "Epoch 23/100\n",
            "313/313 [==============================] - 5s 18ms/step - loss: 0.4286 - accuracy: 0.8098 - val_loss: 0.4438 - val_accuracy: 0.8016\n",
            "Epoch 24/100\n",
            "313/313 [==============================] - 5s 17ms/step - loss: 0.4263 - accuracy: 0.8106 - val_loss: 0.4439 - val_accuracy: 0.8016\n",
            "Epoch 25/100\n",
            "313/313 [==============================] - 6s 18ms/step - loss: 0.4238 - accuracy: 0.8116 - val_loss: 0.4480 - val_accuracy: 0.7952\n",
            "Epoch 26/100\n",
            "313/313 [==============================] - 6s 18ms/step - loss: 0.4217 - accuracy: 0.8121 - val_loss: 0.4398 - val_accuracy: 0.7992\n",
            "Epoch 27/100\n",
            "313/313 [==============================] - 6s 18ms/step - loss: 0.4199 - accuracy: 0.8117 - val_loss: 0.4377 - val_accuracy: 0.8018\n",
            "Epoch 28/100\n",
            "313/313 [==============================] - 5s 18ms/step - loss: 0.4182 - accuracy: 0.8112 - val_loss: 0.4387 - val_accuracy: 0.8024\n",
            "Epoch 29/100\n",
            "313/313 [==============================] - 5s 17ms/step - loss: 0.4168 - accuracy: 0.8134 - val_loss: 0.4382 - val_accuracy: 0.7958\n",
            "Epoch 30/100\n",
            "313/313 [==============================] - 5s 18ms/step - loss: 0.4152 - accuracy: 0.8125 - val_loss: 0.4355 - val_accuracy: 0.8038\n",
            "Epoch 31/100\n",
            "313/313 [==============================] - 6s 18ms/step - loss: 0.4141 - accuracy: 0.8137 - val_loss: 0.4326 - val_accuracy: 0.8024\n",
            "Epoch 32/100\n",
            "313/313 [==============================] - 5s 18ms/step - loss: 0.4130 - accuracy: 0.8131 - val_loss: 0.4325 - val_accuracy: 0.8040\n",
            "Epoch 33/100\n",
            "313/313 [==============================] - 6s 18ms/step - loss: 0.4122 - accuracy: 0.8130 - val_loss: 0.4320 - val_accuracy: 0.8008\n",
            "Epoch 34/100\n",
            "313/313 [==============================] - 6s 18ms/step - loss: 0.4114 - accuracy: 0.8148 - val_loss: 0.4316 - val_accuracy: 0.8014\n",
            "Epoch 35/100\n",
            "313/313 [==============================] - 6s 18ms/step - loss: 0.4106 - accuracy: 0.8147 - val_loss: 0.4305 - val_accuracy: 0.8022\n",
            "Epoch 36/100\n",
            "313/313 [==============================] - 6s 18ms/step - loss: 0.4097 - accuracy: 0.8142 - val_loss: 0.4342 - val_accuracy: 0.7996\n",
            "Epoch 37/100\n",
            "313/313 [==============================] - 6s 20ms/step - loss: 0.4089 - accuracy: 0.8156 - val_loss: 0.4298 - val_accuracy: 0.7988\n",
            "Epoch 38/100\n",
            "313/313 [==============================] - 7s 23ms/step - loss: 0.4084 - accuracy: 0.8148 - val_loss: 0.4306 - val_accuracy: 0.8018\n",
            "Epoch 39/100\n",
            "313/313 [==============================] - 6s 19ms/step - loss: 0.4080 - accuracy: 0.8145 - val_loss: 0.4302 - val_accuracy: 0.7998\n",
            "Epoch 40/100\n",
            "313/313 [==============================] - 6s 20ms/step - loss: 0.4070 - accuracy: 0.8160 - val_loss: 0.4287 - val_accuracy: 0.8012\n",
            "Epoch 41/100\n",
            "313/313 [==============================] - 7s 22ms/step - loss: 0.4067 - accuracy: 0.8137 - val_loss: 0.4315 - val_accuracy: 0.8000\n",
            "Epoch 42/100\n",
            "313/313 [==============================] - 7s 22ms/step - loss: 0.4061 - accuracy: 0.8162 - val_loss: 0.4295 - val_accuracy: 0.8010\n",
            "Epoch 43/100\n",
            "313/313 [==============================] - 7s 22ms/step - loss: 0.4054 - accuracy: 0.8162 - val_loss: 0.4362 - val_accuracy: 0.8018\n"
          ]
        }
      ],
      "source": [
        "rmsprop = RMSprop(learning_rate=1e-4)\n",
        "model.compile(optimizer=rmsprop, loss='binary_crossentropy', metrics='accuracy')\n",
        "checkpoint_cb = ModelCheckpoint('best-lstm-model.h5', save_best_only=True)\n",
        "early_stopping_cb = EarlyStopping(patience=3, restore_best_weights=True)\n",
        "history = model.fit(train_seq, train_target, epochs=100, batch_size=64, validation_data=(val_seq, val_target), callbacks=[checkpoint_cb, early_stopping_cb])"
      ]
    },
    {
      "cell_type": "code",
      "execution_count": null,
      "metadata": {
        "id": "nCeSPnrGyUOJ",
        "outputId": "8597c88b-773c-4eb9-f7ee-2300ac2996dd"
      },
      "outputs": [
        {
          "data": {
            "image/png": "[encoded data removed]",
            "text/plain": [
              "<Figure size 640x480 with 1 Axes>"
            ]
          },
          "metadata": {},
          "output_type": "display_data"
        }
      ],
      "source": [
        "import matplotlib.pyplot as plt\n",
        "plt.plot(history.history['loss'])\n",
        "plt.plot(history.history['val_loss'])\n",
        "plt.xlabel('epoch')\n",
        "plt.ylabel('loss')\n",
        "plt.legend(['train','val'])\n",
        "plt.show()"
      ]
    },
    {
      "cell_type": "code",
      "execution_count": null,
      "metadata": {
        "id": "dBrDfEZXyUOJ"
      },
      "outputs": [],
      "source": [
        "model2 = Sequential(\n",
        "    [\n",
        "        Embedding(500, 16, input_length=100),\n",
        "        LSTM(8 ,dropout=.3),\n",
        "        Dense(1, activation='sigmoid')\n",
        "    ]\n",
        ")"
      ]
    },
    {
      "cell_type": "code",
      "execution_count": null,
      "metadata": {
        "id": "ftNYP2quyUOK",
        "outputId": "11170f89-0a2d-439d-8571-0928fcd09255"
      },
      "outputs": [
        {
          "name": "stdout",
          "output_type": "stream",
          "text": [
            "Epoch 1/100\n",
            "313/313 [==============================] - 9s 22ms/step - loss: 0.6924 - accuracy: 0.5281 - val_loss: 0.6919 - val_accuracy: 0.5484\n",
            "Epoch 2/100\n",
            "  7/313 [..............................] - ETA: 5s - loss: 0.6921 - accuracy: 0.5379"
          ]
        },
        {
          "name": "stderr",
          "output_type": "stream",
          "text": [
            "c:\\Users\\user\\anaconda3\\Lib\\site-packages\\keras\\src\\engine\\training.py:3103: UserWarning: You are saving your model as an HDF5 file via `model.save()`. This file format is considered legacy. We recommend using instead the native Keras format, e.g. `model.save('my_model.keras')`.\n",
            "  saving_api.save_model(\n"
          ]
        },
        {
          "name": "stdout",
          "output_type": "stream",
          "text": [
            "313/313 [==============================] - 6s 20ms/step - loss: 0.6907 - accuracy: 0.5719 - val_loss: 0.6897 - val_accuracy: 0.5858\n",
            "Epoch 3/100\n",
            "313/313 [==============================] - 6s 20ms/step - loss: 0.6874 - accuracy: 0.6044 - val_loss: 0.6849 - val_accuracy: 0.6226\n",
            "Epoch 4/100\n",
            "313/313 [==============================] - 6s 20ms/step - loss: 0.6796 - accuracy: 0.6385 - val_loss: 0.6723 - val_accuracy: 0.6640\n",
            "Epoch 5/100\n",
            "313/313 [==============================] - 6s 20ms/step - loss: 0.6516 - accuracy: 0.6806 - val_loss: 0.6156 - val_accuracy: 0.7202\n",
            "Epoch 6/100\n",
            "313/313 [==============================] - 6s 20ms/step - loss: 0.5847 - accuracy: 0.7176 - val_loss: 0.5662 - val_accuracy: 0.7256\n",
            "Epoch 7/100\n",
            "313/313 [==============================] - 6s 21ms/step - loss: 0.5576 - accuracy: 0.7323 - val_loss: 0.5456 - val_accuracy: 0.7424\n",
            "Epoch 8/100\n",
            "313/313 [==============================] - 7s 22ms/step - loss: 0.5374 - accuracy: 0.7497 - val_loss: 0.5319 - val_accuracy: 0.7532\n",
            "Epoch 9/100\n",
            "313/313 [==============================] - 7s 23ms/step - loss: 0.5208 - accuracy: 0.7576 - val_loss: 0.5147 - val_accuracy: 0.7694\n",
            "Epoch 10/100\n",
            "313/313 [==============================] - 7s 22ms/step - loss: 0.5073 - accuracy: 0.7678 - val_loss: 0.5031 - val_accuracy: 0.7738\n",
            "Epoch 11/100\n",
            "313/313 [==============================] - 7s 22ms/step - loss: 0.4946 - accuracy: 0.7745 - val_loss: 0.4924 - val_accuracy: 0.7774\n",
            "Epoch 12/100\n",
            "313/313 [==============================] - 7s 23ms/step - loss: 0.4846 - accuracy: 0.7799 - val_loss: 0.4854 - val_accuracy: 0.7784\n",
            "Epoch 13/100\n",
            "313/313 [==============================] - 7s 22ms/step - loss: 0.4767 - accuracy: 0.7846 - val_loss: 0.4771 - val_accuracy: 0.7804\n",
            "Epoch 14/100\n",
            "313/313 [==============================] - 7s 22ms/step - loss: 0.4685 - accuracy: 0.7875 - val_loss: 0.4713 - val_accuracy: 0.7886\n",
            "Epoch 15/100\n",
            "313/313 [==============================] - 7s 22ms/step - loss: 0.4617 - accuracy: 0.7926 - val_loss: 0.4669 - val_accuracy: 0.7806\n",
            "Epoch 16/100\n",
            "313/313 [==============================] - 7s 22ms/step - loss: 0.4576 - accuracy: 0.7922 - val_loss: 0.4609 - val_accuracy: 0.7900\n",
            "Epoch 17/100\n",
            "313/313 [==============================] - 7s 22ms/step - loss: 0.4505 - accuracy: 0.7997 - val_loss: 0.4569 - val_accuracy: 0.7894\n",
            "Epoch 18/100\n",
            "313/313 [==============================] - 7s 22ms/step - loss: 0.4484 - accuracy: 0.7989 - val_loss: 0.4553 - val_accuracy: 0.7886\n",
            "Epoch 19/100\n",
            "313/313 [==============================] - 7s 22ms/step - loss: 0.4434 - accuracy: 0.7999 - val_loss: 0.4505 - val_accuracy: 0.7914\n",
            "Epoch 20/100\n",
            "313/313 [==============================] - 7s 22ms/step - loss: 0.4390 - accuracy: 0.8024 - val_loss: 0.4476 - val_accuracy: 0.7918\n",
            "Epoch 21/100\n",
            "313/313 [==============================] - 7s 22ms/step - loss: 0.4381 - accuracy: 0.8033 - val_loss: 0.4454 - val_accuracy: 0.7924\n",
            "Epoch 22/100\n",
            "313/313 [==============================] - 7s 22ms/step - loss: 0.4338 - accuracy: 0.8044 - val_loss: 0.4437 - val_accuracy: 0.7932\n",
            "Epoch 23/100\n",
            "313/313 [==============================] - 7s 22ms/step - loss: 0.4311 - accuracy: 0.8055 - val_loss: 0.4430 - val_accuracy: 0.7954\n",
            "Epoch 24/100\n",
            "313/313 [==============================] - 7s 22ms/step - loss: 0.4282 - accuracy: 0.8073 - val_loss: 0.4400 - val_accuracy: 0.7966\n",
            "Epoch 25/100\n",
            "313/313 [==============================] - 7s 22ms/step - loss: 0.4291 - accuracy: 0.8062 - val_loss: 0.4394 - val_accuracy: 0.7940\n",
            "Epoch 26/100\n",
            "313/313 [==============================] - 7s 22ms/step - loss: 0.4238 - accuracy: 0.8084 - val_loss: 0.4376 - val_accuracy: 0.7956\n",
            "Epoch 27/100\n",
            "313/313 [==============================] - 7s 22ms/step - loss: 0.4251 - accuracy: 0.8066 - val_loss: 0.4386 - val_accuracy: 0.7956\n",
            "Epoch 28/100\n",
            "313/313 [==============================] - 7s 22ms/step - loss: 0.4241 - accuracy: 0.8084 - val_loss: 0.4349 - val_accuracy: 0.7998\n",
            "Epoch 29/100\n",
            "313/313 [==============================] - 7s 22ms/step - loss: 0.4200 - accuracy: 0.8097 - val_loss: 0.4346 - val_accuracy: 0.7990\n",
            "Epoch 30/100\n",
            "313/313 [==============================] - 7s 22ms/step - loss: 0.4213 - accuracy: 0.8088 - val_loss: 0.4331 - val_accuracy: 0.7978\n",
            "Epoch 31/100\n",
            "313/313 [==============================] - 7s 22ms/step - loss: 0.4206 - accuracy: 0.8078 - val_loss: 0.4324 - val_accuracy: 0.7994\n",
            "Epoch 32/100\n",
            "313/313 [==============================] - 7s 22ms/step - loss: 0.4195 - accuracy: 0.8094 - val_loss: 0.4364 - val_accuracy: 0.7972\n",
            "Epoch 33/100\n",
            "313/313 [==============================] - 7s 22ms/step - loss: 0.4187 - accuracy: 0.8076 - val_loss: 0.4322 - val_accuracy: 0.7972\n",
            "Epoch 34/100\n",
            "313/313 [==============================] - 7s 22ms/step - loss: 0.4188 - accuracy: 0.8094 - val_loss: 0.4332 - val_accuracy: 0.7998\n",
            "Epoch 35/100\n",
            "313/313 [==============================] - 7s 22ms/step - loss: 0.4175 - accuracy: 0.8091 - val_loss: 0.4322 - val_accuracy: 0.8018\n",
            "Epoch 36/100\n",
            "313/313 [==============================] - 7s 23ms/step - loss: 0.4165 - accuracy: 0.8103 - val_loss: 0.4336 - val_accuracy: 0.8012\n"
          ]
        }
      ],
      "source": [
        "rmsprop = RMSprop(learning_rate=1e-4)\n",
        "model2.compile(optimizer=rmsprop, loss='binary_crossentropy', metrics='accuracy')\n",
        "checkpoint_cb = ModelCheckpoint('best-dropout-model.h5', save_best_only=True)\n",
        "early_stopping_cb = EarlyStopping(patience=3, restore_best_weights=True)\n",
        "history = model2.fit(train_seq, train_target, epochs=100, batch_size=64, validation_data=(val_seq, val_target), callbacks=[checkpoint_cb, early_stopping_cb])"
      ]
    },
    {
      "cell_type": "code",
      "execution_count": null,
      "metadata": {
        "id": "f4mTzGTfyUOK",
        "outputId": "9d0e7913-36df-4913-9e71-aeb5626b9d03"
      },
      "outputs": [
        {
          "name": "stdout",
          "output_type": "stream",
          "text": [
            "Model: \"sequential_1\"\n",
            "_________________________________________________________________\n",
            " Layer (type)                Output Shape              Param #   \n",
            "=================================================================\n",
            " embedding_1 (Embedding)     (None, 100, 16)           8000      \n",
            "                                                                 \n",
            " lstm_1 (LSTM)               (None, 8)                 800       \n",
            "                                                                 \n",
            " dense_1 (Dense)             (None, 1)                 9         \n",
            "                                                                 \n",
            "=================================================================\n",
            "Total params: 8809 (34.41 KB)\n",
            "Trainable params: 8809 (34.41 KB)\n",
            "Non-trainable params: 0 (0.00 Byte)\n",
            "_________________________________________________________________\n"
          ]
        }
      ],
      "source": [
        "model2.summary()"
      ]
    },
    {
      "cell_type": "code",
      "execution_count": null,
      "metadata": {
        "id": "Lb8ZQiCayUOL",
        "outputId": "a17ea5ae-83a2-4cc1-d5bc-a492341f9ce0"
      },
      "outputs": [
        {
          "data": {
            "image/png": "[encoded data removed]",
            "text/plain": [
              "<Figure size 640x480 with 1 Axes>"
            ]
          },
          "metadata": {},
          "output_type": "display_data"
        }
      ],
      "source": [
        "import matplotlib.pyplot as plt\n",
        "plt.plot(history.history['loss'])\n",
        "plt.plot(history.history['val_loss'])\n",
        "plt.xlabel('epoch')\n",
        "plt.ylabel('loss')\n",
        "plt.legend(['train','val'])\n",
        "plt.show()"
      ]
    },
    {
      "cell_type": "code",
      "execution_count": 4,
      "metadata": {
        "id": "ylFLyIZuyUOL"
      },
      "outputs": [],
      "source": [
        "model3 = Sequential(\n",
        "    [\n",
        "        Embedding(500, 16, input_length=100),\n",
        "        LSTM(8 ,dropout=.3, return_sequences=True),\n",
        "        LSTM(8 ,dropout=.3),\n",
        "        Dense(1, activation='sigmoid')\n",
        "    ]\n",
        ")"
      ]
    },
    {
      "cell_type": "code",
      "execution_count": 5,
      "metadata": {
        "colab": {
          "base_uri": "https://localhost:8080/"
        },
        "id": "7BaI4x8wyUOL",
        "outputId": "74ae1a00-4589-4778-87b0-e534930187b9"
      },
      "outputs": [
        {
          "output_type": "stream",
          "name": "stdout",
          "text": [
            "Model: \"sequential\"\n",
            "_________________________________________________________________\n",
            " Layer (type)                Output Shape              Param #   \n",
            "=================================================================\n",
            " embedding (Embedding)       (None, 100, 16)           8000      \n",
            "                                                                 \n",
            " lstm (LSTM)                 (None, 100, 8)            800       \n",
            "                                                                 \n",
            " lstm_1 (LSTM)               (None, 8)                 544       \n",
            "                                                                 \n",
            " dense (Dense)               (None, 1)                 9         \n",
            "                                                                 \n",
            "=================================================================\n",
            "Total params: 9353 (36.54 KB)\n",
            "Trainable params: 9353 (36.54 KB)\n",
            "Non-trainable params: 0 (0.00 Byte)\n",
            "_________________________________________________________________\n"
          ]
        }
      ],
      "source": [
        "model3.summary()"
      ]
    },
    {
      "cell_type": "code",
      "execution_count": 6,
      "metadata": {
        "colab": {
          "base_uri": "https://localhost:8080/"
        },
        "id": "LOyP336ByUOM",
        "outputId": "a4ae5ae2-e55d-41ce-af38-2bed4a199a10"
      },
      "outputs": [
        {
          "output_type": "stream",
          "name": "stdout",
          "text": [
            "Epoch 1/100\n",
            "313/313 [==============================] - 20s 38ms/step - loss: 0.6930 - accuracy: 0.5142 - val_loss: 0.6927 - val_accuracy: 0.5482\n",
            "Epoch 2/100\n",
            " 11/313 [>.............................] - ETA: 3s - loss: 0.6927 - accuracy: 0.5327"
          ]
        },
        {
          "output_type": "stream",
          "name": "stderr",
          "text": [
            "/usr/local/lib/python3.10/dist-packages/keras/src/engine/training.py:3103: UserWarning: You are saving your model as an HDF5 file via `model.save()`. This file format is considered legacy. We recommend using instead the native Keras format, e.g. `model.save('my_model.keras')`.\n",
            "  saving_api.save_model(\n"
          ]
        },
        {
          "output_type": "stream",
          "name": "stdout",
          "text": [
            "313/313 [==============================] - 4s 12ms/step - loss: 0.6924 - accuracy: 0.5588 - val_loss: 0.6919 - val_accuracy: 0.5626\n",
            "Epoch 3/100\n",
            "313/313 [==============================] - 5s 15ms/step - loss: 0.6904 - accuracy: 0.5808 - val_loss: 0.6887 - val_accuracy: 0.6038\n",
            "Epoch 4/100\n",
            "313/313 [==============================] - 4s 12ms/step - loss: 0.6838 - accuracy: 0.6141 - val_loss: 0.6776 - val_accuracy: 0.6096\n",
            "Epoch 5/100\n",
            "313/313 [==============================] - 4s 12ms/step - loss: 0.6598 - accuracy: 0.6443 - val_loss: 0.6359 - val_accuracy: 0.6662\n",
            "Epoch 6/100\n",
            "313/313 [==============================] - 5s 14ms/step - loss: 0.6030 - accuracy: 0.6863 - val_loss: 0.5751 - val_accuracy: 0.7076\n",
            "Epoch 7/100\n",
            "313/313 [==============================] - 4s 12ms/step - loss: 0.5586 - accuracy: 0.7222 - val_loss: 0.5456 - val_accuracy: 0.7280\n",
            "Epoch 8/100\n",
            "313/313 [==============================] - 4s 12ms/step - loss: 0.5371 - accuracy: 0.7378 - val_loss: 0.5285 - val_accuracy: 0.7390\n",
            "Epoch 9/100\n",
            "313/313 [==============================] - 5s 17ms/step - loss: 0.5196 - accuracy: 0.7542 - val_loss: 0.5128 - val_accuracy: 0.7556\n",
            "Epoch 10/100\n",
            "313/313 [==============================] - 4s 12ms/step - loss: 0.5074 - accuracy: 0.7599 - val_loss: 0.5047 - val_accuracy: 0.7560\n",
            "Epoch 11/100\n",
            "313/313 [==============================] - 4s 12ms/step - loss: 0.4981 - accuracy: 0.7678 - val_loss: 0.4933 - val_accuracy: 0.7668\n",
            "Epoch 12/100\n",
            "313/313 [==============================] - 4s 14ms/step - loss: 0.4918 - accuracy: 0.7699 - val_loss: 0.4890 - val_accuracy: 0.7726\n",
            "Epoch 13/100\n",
            "313/313 [==============================] - 4s 12ms/step - loss: 0.4870 - accuracy: 0.7726 - val_loss: 0.4864 - val_accuracy: 0.7722\n",
            "Epoch 14/100\n",
            "313/313 [==============================] - 4s 12ms/step - loss: 0.4797 - accuracy: 0.7799 - val_loss: 0.4787 - val_accuracy: 0.7802\n",
            "Epoch 15/100\n",
            "313/313 [==============================] - 4s 13ms/step - loss: 0.4764 - accuracy: 0.7796 - val_loss: 0.4773 - val_accuracy: 0.7784\n",
            "Epoch 16/100\n",
            "313/313 [==============================] - 4s 14ms/step - loss: 0.4729 - accuracy: 0.7820 - val_loss: 0.4813 - val_accuracy: 0.7724\n",
            "Epoch 17/100\n",
            "313/313 [==============================] - 4s 14ms/step - loss: 0.4710 - accuracy: 0.7863 - val_loss: 0.4911 - val_accuracy: 0.7648\n",
            "Epoch 18/100\n",
            "313/313 [==============================] - 4s 14ms/step - loss: 0.4692 - accuracy: 0.7842 - val_loss: 0.4686 - val_accuracy: 0.7820\n",
            "Epoch 19/100\n",
            "313/313 [==============================] - 4s 14ms/step - loss: 0.4641 - accuracy: 0.7879 - val_loss: 0.4666 - val_accuracy: 0.7818\n",
            "Epoch 20/100\n",
            "313/313 [==============================] - 4s 13ms/step - loss: 0.4614 - accuracy: 0.7880 - val_loss: 0.4646 - val_accuracy: 0.7844\n",
            "Epoch 21/100\n",
            "313/313 [==============================] - 7s 23ms/step - loss: 0.4591 - accuracy: 0.7910 - val_loss: 0.4633 - val_accuracy: 0.7818\n",
            "Epoch 22/100\n",
            "313/313 [==============================] - 4s 13ms/step - loss: 0.4571 - accuracy: 0.7915 - val_loss: 0.4626 - val_accuracy: 0.7832\n",
            "Epoch 23/100\n",
            "313/313 [==============================] - 4s 14ms/step - loss: 0.4523 - accuracy: 0.7948 - val_loss: 0.4589 - val_accuracy: 0.7840\n",
            "Epoch 24/100\n",
            "313/313 [==============================] - 5s 16ms/step - loss: 0.4522 - accuracy: 0.7922 - val_loss: 0.4562 - val_accuracy: 0.7866\n",
            "Epoch 25/100\n",
            "313/313 [==============================] - 4s 13ms/step - loss: 0.4491 - accuracy: 0.7959 - val_loss: 0.4540 - val_accuracy: 0.7862\n",
            "Epoch 26/100\n",
            "313/313 [==============================] - 4s 12ms/step - loss: 0.4444 - accuracy: 0.7978 - val_loss: 0.4613 - val_accuracy: 0.7832\n",
            "Epoch 27/100\n",
            "313/313 [==============================] - 5s 15ms/step - loss: 0.4425 - accuracy: 0.7976 - val_loss: 0.4484 - val_accuracy: 0.7898\n",
            "Epoch 28/100\n",
            "313/313 [==============================] - 4s 12ms/step - loss: 0.4402 - accuracy: 0.7982 - val_loss: 0.4473 - val_accuracy: 0.7896\n",
            "Epoch 29/100\n",
            "313/313 [==============================] - 4s 12ms/step - loss: 0.4365 - accuracy: 0.8017 - val_loss: 0.4536 - val_accuracy: 0.7858\n",
            "Epoch 30/100\n",
            "313/313 [==============================] - 4s 13ms/step - loss: 0.4359 - accuracy: 0.7994 - val_loss: 0.4442 - val_accuracy: 0.7914\n",
            "Epoch 31/100\n",
            "313/313 [==============================] - 4s 13ms/step - loss: 0.4319 - accuracy: 0.8011 - val_loss: 0.4421 - val_accuracy: 0.7926\n",
            "Epoch 32/100\n",
            "313/313 [==============================] - 4s 12ms/step - loss: 0.4315 - accuracy: 0.8025 - val_loss: 0.4401 - val_accuracy: 0.7948\n",
            "Epoch 33/100\n",
            "313/313 [==============================] - 4s 12ms/step - loss: 0.4305 - accuracy: 0.8026 - val_loss: 0.4394 - val_accuracy: 0.7976\n",
            "Epoch 34/100\n",
            "313/313 [==============================] - 5s 15ms/step - loss: 0.4304 - accuracy: 0.8037 - val_loss: 0.4381 - val_accuracy: 0.7954\n",
            "Epoch 35/100\n",
            "313/313 [==============================] - 4s 12ms/step - loss: 0.4288 - accuracy: 0.8037 - val_loss: 0.4414 - val_accuracy: 0.8008\n",
            "Epoch 36/100\n",
            "313/313 [==============================] - 4s 12ms/step - loss: 0.4272 - accuracy: 0.8041 - val_loss: 0.4371 - val_accuracy: 0.7940\n",
            "Epoch 37/100\n",
            "313/313 [==============================] - 5s 15ms/step - loss: 0.4252 - accuracy: 0.8053 - val_loss: 0.4377 - val_accuracy: 0.7954\n",
            "Epoch 38/100\n",
            "313/313 [==============================] - 4s 12ms/step - loss: 0.4245 - accuracy: 0.8076 - val_loss: 0.4367 - val_accuracy: 0.8008\n",
            "Epoch 39/100\n",
            "313/313 [==============================] - 4s 12ms/step - loss: 0.4233 - accuracy: 0.8085 - val_loss: 0.4364 - val_accuracy: 0.8010\n",
            "Epoch 40/100\n",
            "313/313 [==============================] - 5s 16ms/step - loss: 0.4212 - accuracy: 0.8077 - val_loss: 0.4345 - val_accuracy: 0.7984\n",
            "Epoch 41/100\n",
            "313/313 [==============================] - 4s 12ms/step - loss: 0.4241 - accuracy: 0.8077 - val_loss: 0.4356 - val_accuracy: 0.8030\n",
            "Epoch 42/100\n",
            "313/313 [==============================] - 4s 13ms/step - loss: 0.4221 - accuracy: 0.8046 - val_loss: 0.4340 - val_accuracy: 0.8014\n",
            "Epoch 43/100\n",
            "313/313 [==============================] - 5s 15ms/step - loss: 0.4196 - accuracy: 0.8084 - val_loss: 0.4347 - val_accuracy: 0.7980\n",
            "Epoch 44/100\n",
            "313/313 [==============================] - 4s 12ms/step - loss: 0.4194 - accuracy: 0.8106 - val_loss: 0.4329 - val_accuracy: 0.8006\n",
            "Epoch 45/100\n",
            "313/313 [==============================] - 4s 12ms/step - loss: 0.4178 - accuracy: 0.8089 - val_loss: 0.4339 - val_accuracy: 0.7986\n",
            "Epoch 46/100\n",
            "313/313 [==============================] - 4s 14ms/step - loss: 0.4175 - accuracy: 0.8100 - val_loss: 0.4407 - val_accuracy: 0.7978\n",
            "Epoch 47/100\n",
            "313/313 [==============================] - 4s 13ms/step - loss: 0.4175 - accuracy: 0.8101 - val_loss: 0.4329 - val_accuracy: 0.7990\n",
            "Epoch 48/100\n",
            "313/313 [==============================] - 4s 12ms/step - loss: 0.4179 - accuracy: 0.8073 - val_loss: 0.4325 - val_accuracy: 0.8012\n",
            "Epoch 49/100\n",
            "313/313 [==============================] - 4s 13ms/step - loss: 0.4157 - accuracy: 0.8094 - val_loss: 0.4332 - val_accuracy: 0.7962\n",
            "Epoch 50/100\n",
            "313/313 [==============================] - 4s 13ms/step - loss: 0.4140 - accuracy: 0.8115 - val_loss: 0.4318 - val_accuracy: 0.8018\n",
            "Epoch 51/100\n",
            "313/313 [==============================] - 4s 11ms/step - loss: 0.4139 - accuracy: 0.8124 - val_loss: 0.4321 - val_accuracy: 0.8032\n",
            "Epoch 52/100\n",
            "313/313 [==============================] - 4s 12ms/step - loss: 0.4140 - accuracy: 0.8126 - val_loss: 0.4310 - val_accuracy: 0.8016\n",
            "Epoch 53/100\n",
            "313/313 [==============================] - 4s 14ms/step - loss: 0.4131 - accuracy: 0.8134 - val_loss: 0.4309 - val_accuracy: 0.8030\n",
            "Epoch 54/100\n",
            "313/313 [==============================] - 4s 12ms/step - loss: 0.4123 - accuracy: 0.8128 - val_loss: 0.4316 - val_accuracy: 0.8030\n",
            "Epoch 55/100\n",
            "313/313 [==============================] - 4s 13ms/step - loss: 0.4138 - accuracy: 0.8120 - val_loss: 0.4318 - val_accuracy: 0.7970\n",
            "Epoch 56/100\n",
            "313/313 [==============================] - 4s 14ms/step - loss: 0.4119 - accuracy: 0.8119 - val_loss: 0.4323 - val_accuracy: 0.8024\n"
          ]
        }
      ],
      "source": [
        "rmsprop = RMSprop(learning_rate=1e-4)\n",
        "model3.compile(optimizer=rmsprop, loss='binary_crossentropy', metrics='accuracy')\n",
        "checkpoint_cb = ModelCheckpoint('best-2rnn-model.h5', save_best_only=True)\n",
        "early_stopping_cb = EarlyStopping(patience=3, restore_best_weights=True)\n",
        "history = model3.fit(train_seq, train_target, epochs=100, batch_size=64, validation_data=(val_seq, val_target), callbacks=[checkpoint_cb, early_stopping_cb])"
      ]
    },
    {
      "cell_type": "code",
      "source": [
        "import matplotlib.pyplot as plt\n",
        "plt.plot(history.history['loss'])\n",
        "plt.plot(history.history['val_loss'])\n",
        "plt.xlabel('epoch')\n",
        "plt.ylabel('loss')\n",
        "plt.legend(['train','val'])\n",
        "plt.show()"
      ],
      "metadata": {
        "colab": {
          "base_uri": "https://localhost:8080/",
          "height": 449
        },
        "id": "PkNebMiJy-3C",
        "outputId": "1388fcbf-63a9-4d1b-be78-92c6872cc6f5"
      },
      "execution_count": 7,
      "outputs": [
        {
          "output_type": "display_data",
          "data": {
            "text/plain": [
              "<Figure size 640x480 with 1 Axes>"
            ],
            "image/png": "[encoded data removed]"
          },
          "metadata": {}
        }
      ]
    },
    {
      "cell_type": "code",
      "source": [
        "from tensorflow.keras.layers import GRU"
      ],
      "metadata": {
        "id": "DMZuAoh82U_K"
      },
      "execution_count": 9,
      "outputs": []
    },
    {
      "cell_type": "code",
      "source": [
        "\n",
        "model4 = Sequential(\n",
        "    [\n",
        "        Embedding(500, 16, input_length=100),\n",
        "        GRU(8),\n",
        "        Dense(1, activation='sigmoid')\n",
        "    ]\n",
        ")"
      ],
      "metadata": {
        "id": "HCaA0f9rzYh1"
      },
      "execution_count": 10,
      "outputs": []
    },
    {
      "cell_type": "code",
      "source": [
        "model4.summary()"
      ],
      "metadata": {
        "colab": {
          "base_uri": "https://localhost:8080/"
        },
        "id": "eUvQUtWb2hYE",
        "outputId": "977c7930-91b8-474b-856e-c35aae79a46f"
      },
      "execution_count": 11,
      "outputs": [
        {
          "output_type": "stream",
          "name": "stdout",
          "text": [
            "Model: \"sequential_1\"\n",
            "_________________________________________________________________\n",
            " Layer (type)                Output Shape              Param #   \n",
            "=================================================================\n",
            " embedding_1 (Embedding)     (None, 100, 16)           8000      \n",
            "                                                                 \n",
            " gru (GRU)                   (None, 8)                 624       \n",
            "                                                                 \n",
            " dense_1 (Dense)             (None, 1)                 9         \n",
            "                                                                 \n",
            "=================================================================\n",
            "Total params: 8633 (33.72 KB)\n",
            "Trainable params: 8633 (33.72 KB)\n",
            "Non-trainable params: 0 (0.00 Byte)\n",
            "_________________________________________________________________\n"
          ]
        }
      ]
    },
    {
      "cell_type": "code",
      "source": [
        "rmsprop = RMSprop(learning_rate=1e-4)\n",
        "model4.compile(optimizer=rmsprop, loss='binary_crossentropy', metrics='accuracy')\n",
        "checkpoint_cb = ModelCheckpoint('best-gru-model.h5', save_best_only=True)\n",
        "early_stopping_cb = EarlyStopping(patience=3, restore_best_weights=True)\n",
        "history = model4.fit(train_seq, train_target, epochs=100, batch_size=64, validation_data=(val_seq, val_target), callbacks=[checkpoint_cb, early_stopping_cb])"
      ],
      "metadata": {
        "colab": {
          "base_uri": "https://localhost:8080/"
        },
        "id": "JpxKXnpV2jit",
        "outputId": "eb5154e2-ab17-40f4-9c83-fb1536800f41"
      },
      "execution_count": 12,
      "outputs": [
        {
          "output_type": "stream",
          "name": "stdout",
          "text": [
            "Epoch 1/100\n",
            "313/313 [==============================] - 9s 18ms/step - loss: 0.6925 - accuracy: 0.5174 - val_loss: 0.6919 - val_accuracy: 0.5362\n",
            "Epoch 2/100\n",
            "  9/313 [..............................] - ETA: 4s - loss: 0.6913 - accuracy: 0.5434"
          ]
        },
        {
          "output_type": "stream",
          "name": "stderr",
          "text": [
            "/usr/local/lib/python3.10/dist-packages/keras/src/engine/training.py:3103: UserWarning: You are saving your model as an HDF5 file via `model.save()`. This file format is considered legacy. We recommend using instead the native Keras format, e.g. `model.save('my_model.keras')`.\n",
            "  saving_api.save_model(\n"
          ]
        },
        {
          "output_type": "stream",
          "name": "stdout",
          "text": [
            "313/313 [==============================] - 3s 8ms/step - loss: 0.6904 - accuracy: 0.5670 - val_loss: 0.6897 - val_accuracy: 0.5700\n",
            "Epoch 3/100\n",
            "313/313 [==============================] - 3s 10ms/step - loss: 0.6874 - accuracy: 0.5857 - val_loss: 0.6863 - val_accuracy: 0.5884\n",
            "Epoch 4/100\n",
            "313/313 [==============================] - 3s 9ms/step - loss: 0.6829 - accuracy: 0.6050 - val_loss: 0.6814 - val_accuracy: 0.5988\n",
            "Epoch 5/100\n",
            "313/313 [==============================] - 3s 8ms/step - loss: 0.6762 - accuracy: 0.6211 - val_loss: 0.6742 - val_accuracy: 0.6136\n",
            "Epoch 6/100\n",
            "313/313 [==============================] - 2s 8ms/step - loss: 0.6664 - accuracy: 0.6316 - val_loss: 0.6631 - val_accuracy: 0.6266\n",
            "Epoch 7/100\n",
            "313/313 [==============================] - 3s 8ms/step - loss: 0.6513 - accuracy: 0.6492 - val_loss: 0.6458 - val_accuracy: 0.6434\n",
            "Epoch 8/100\n",
            "313/313 [==============================] - 4s 12ms/step - loss: 0.6267 - accuracy: 0.6730 - val_loss: 0.6163 - val_accuracy: 0.6730\n",
            "Epoch 9/100\n",
            "313/313 [==============================] - 3s 9ms/step - loss: 0.5810 - accuracy: 0.7057 - val_loss: 0.5583 - val_accuracy: 0.7162\n",
            "Epoch 10/100\n",
            "313/313 [==============================] - 2s 8ms/step - loss: 0.5226 - accuracy: 0.7459 - val_loss: 0.5202 - val_accuracy: 0.7506\n",
            "Epoch 11/100\n",
            "313/313 [==============================] - 2s 8ms/step - loss: 0.4989 - accuracy: 0.7617 - val_loss: 0.5063 - val_accuracy: 0.7626\n",
            "Epoch 12/100\n",
            "313/313 [==============================] - 3s 9ms/step - loss: 0.4834 - accuracy: 0.7720 - val_loss: 0.4891 - val_accuracy: 0.7728\n",
            "Epoch 13/100\n",
            "313/313 [==============================] - 3s 9ms/step - loss: 0.4711 - accuracy: 0.7799 - val_loss: 0.4788 - val_accuracy: 0.7748\n",
            "Epoch 14/100\n",
            "313/313 [==============================] - 2s 7ms/step - loss: 0.4616 - accuracy: 0.7854 - val_loss: 0.4720 - val_accuracy: 0.7808\n",
            "Epoch 15/100\n",
            "313/313 [==============================] - 2s 8ms/step - loss: 0.4534 - accuracy: 0.7926 - val_loss: 0.4698 - val_accuracy: 0.7850\n",
            "Epoch 16/100\n",
            "313/313 [==============================] - 2s 8ms/step - loss: 0.4472 - accuracy: 0.7962 - val_loss: 0.4608 - val_accuracy: 0.7876\n",
            "Epoch 17/100\n",
            "313/313 [==============================] - 3s 10ms/step - loss: 0.4416 - accuracy: 0.8005 - val_loss: 0.4622 - val_accuracy: 0.7822\n",
            "Epoch 18/100\n",
            "313/313 [==============================] - 3s 9ms/step - loss: 0.4370 - accuracy: 0.8033 - val_loss: 0.4535 - val_accuracy: 0.7924\n",
            "Epoch 19/100\n",
            "313/313 [==============================] - 3s 11ms/step - loss: 0.4334 - accuracy: 0.8048 - val_loss: 0.4505 - val_accuracy: 0.7932\n",
            "Epoch 20/100\n",
            "313/313 [==============================] - 2s 8ms/step - loss: 0.4302 - accuracy: 0.8069 - val_loss: 0.4491 - val_accuracy: 0.7906\n",
            "Epoch 21/100\n",
            "313/313 [==============================] - 2s 8ms/step - loss: 0.4276 - accuracy: 0.8099 - val_loss: 0.4467 - val_accuracy: 0.7942\n",
            "Epoch 22/100\n",
            "313/313 [==============================] - 3s 10ms/step - loss: 0.4251 - accuracy: 0.8099 - val_loss: 0.4458 - val_accuracy: 0.7948\n",
            "Epoch 23/100\n",
            "313/313 [==============================] - 2s 8ms/step - loss: 0.4232 - accuracy: 0.8107 - val_loss: 0.4445 - val_accuracy: 0.7926\n",
            "Epoch 24/100\n",
            "313/313 [==============================] - 2s 8ms/step - loss: 0.4217 - accuracy: 0.8138 - val_loss: 0.4438 - val_accuracy: 0.7986\n",
            "Epoch 25/100\n",
            "313/313 [==============================] - 2s 7ms/step - loss: 0.4204 - accuracy: 0.8141 - val_loss: 0.4434 - val_accuracy: 0.7952\n",
            "Epoch 26/100\n",
            "313/313 [==============================] - 2s 8ms/step - loss: 0.4187 - accuracy: 0.8142 - val_loss: 0.4428 - val_accuracy: 0.7942\n",
            "Epoch 27/100\n",
            "313/313 [==============================] - 3s 11ms/step - loss: 0.4179 - accuracy: 0.8148 - val_loss: 0.4423 - val_accuracy: 0.7994\n",
            "Epoch 28/100\n",
            "313/313 [==============================] - 2s 8ms/step - loss: 0.4169 - accuracy: 0.8148 - val_loss: 0.4416 - val_accuracy: 0.7970\n",
            "Epoch 29/100\n",
            "313/313 [==============================] - 2s 8ms/step - loss: 0.4157 - accuracy: 0.8145 - val_loss: 0.4476 - val_accuracy: 0.7920\n",
            "Epoch 30/100\n",
            "313/313 [==============================] - 2s 8ms/step - loss: 0.4152 - accuracy: 0.8138 - val_loss: 0.4422 - val_accuracy: 0.7978\n",
            "Epoch 31/100\n",
            "313/313 [==============================] - 3s 9ms/step - loss: 0.4141 - accuracy: 0.8152 - val_loss: 0.4408 - val_accuracy: 0.7980\n",
            "Epoch 32/100\n",
            "313/313 [==============================] - 3s 10ms/step - loss: 0.4142 - accuracy: 0.8150 - val_loss: 0.4403 - val_accuracy: 0.7950\n",
            "Epoch 33/100\n",
            "313/313 [==============================] - 2s 8ms/step - loss: 0.4127 - accuracy: 0.8163 - val_loss: 0.4395 - val_accuracy: 0.7944\n",
            "Epoch 34/100\n",
            "313/313 [==============================] - 2s 8ms/step - loss: 0.4127 - accuracy: 0.8161 - val_loss: 0.4424 - val_accuracy: 0.7896\n",
            "Epoch 35/100\n",
            "313/313 [==============================] - 2s 8ms/step - loss: 0.4117 - accuracy: 0.8166 - val_loss: 0.4386 - val_accuracy: 0.7996\n",
            "Epoch 36/100\n",
            "313/313 [==============================] - 3s 8ms/step - loss: 0.4110 - accuracy: 0.8161 - val_loss: 0.4390 - val_accuracy: 0.7934\n",
            "Epoch 37/100\n",
            "313/313 [==============================] - 3s 9ms/step - loss: 0.4107 - accuracy: 0.8170 - val_loss: 0.4374 - val_accuracy: 0.7996\n",
            "Epoch 38/100\n",
            "313/313 [==============================] - 2s 8ms/step - loss: 0.4099 - accuracy: 0.8167 - val_loss: 0.4373 - val_accuracy: 0.8004\n",
            "Epoch 39/100\n",
            "313/313 [==============================] - 2s 8ms/step - loss: 0.4098 - accuracy: 0.8160 - val_loss: 0.4390 - val_accuracy: 0.7946\n",
            "Epoch 40/100\n",
            "313/313 [==============================] - 2s 8ms/step - loss: 0.4094 - accuracy: 0.8174 - val_loss: 0.4409 - val_accuracy: 0.7962\n",
            "Epoch 41/100\n",
            "313/313 [==============================] - 3s 8ms/step - loss: 0.4092 - accuracy: 0.8158 - val_loss: 0.4364 - val_accuracy: 0.7998\n",
            "Epoch 42/100\n",
            "313/313 [==============================] - 3s 10ms/step - loss: 0.4084 - accuracy: 0.8170 - val_loss: 0.4364 - val_accuracy: 0.7980\n",
            "Epoch 43/100\n",
            "313/313 [==============================] - 3s 8ms/step - loss: 0.4079 - accuracy: 0.8171 - val_loss: 0.4355 - val_accuracy: 0.7998\n",
            "Epoch 44/100\n",
            "313/313 [==============================] - 2s 8ms/step - loss: 0.4075 - accuracy: 0.8181 - val_loss: 0.4359 - val_accuracy: 0.8010\n",
            "Epoch 45/100\n",
            "313/313 [==============================] - 2s 8ms/step - loss: 0.4073 - accuracy: 0.8166 - val_loss: 0.4345 - val_accuracy: 0.8004\n",
            "Epoch 46/100\n",
            "313/313 [==============================] - 3s 10ms/step - loss: 0.4068 - accuracy: 0.8173 - val_loss: 0.4370 - val_accuracy: 0.7970\n",
            "Epoch 47/100\n",
            "313/313 [==============================] - 3s 9ms/step - loss: 0.4066 - accuracy: 0.8178 - val_loss: 0.4366 - val_accuracy: 0.7932\n",
            "Epoch 48/100\n",
            "313/313 [==============================] - 2s 8ms/step - loss: 0.4063 - accuracy: 0.8173 - val_loss: 0.4347 - val_accuracy: 0.8010\n"
          ]
        }
      ]
    },
    {
      "cell_type": "code",
      "source": [
        "import matplotlib.pyplot as plt\n",
        "plt.plot(history.history['loss'])\n",
        "plt.plot(history.history['val_loss'])\n",
        "plt.xlabel('epoch')\n",
        "plt.ylabel('loss')\n",
        "plt.legend(['train','val'])\n",
        "plt.show()"
      ],
      "metadata": {
        "colab": {
          "base_uri": "https://localhost:8080/",
          "height": 449
        },
        "id": "WeM-Klpl3kM5",
        "outputId": "f5e17519-67b7-438d-9465-eb92866adb29"
      },
      "execution_count": 13,
      "outputs": [
        {
          "output_type": "display_data",
          "data": {
            "text/plain": [
              "<Figure size 640x480 with 1 Axes>"
            ],
            "image/png": "[encoded data removed]"
          },
          "metadata": {}
        }
      ]
    },
    {
      "cell_type": "code",
      "source": [
        "from tensorflow.keras.models import load_model"
      ],
      "metadata": {
        "id": "bL4djfJ-5Axr"
      },
      "execution_count": 14,
      "outputs": []
    },
    {
      "cell_type": "code",
      "source": [
        "test_seq = pad_sequences(test_input, maxlen=100)\n",
        "rnn_model = load_model('best-2rnn-model.h5')\n",
        "rnn_model.evaluate(test_seq, test_target)"
      ],
      "metadata": {
        "colab": {
          "base_uri": "https://localhost:8080/"
        },
        "id": "Jfr5dtJI3rZV",
        "outputId": "2da1ffa4-39bb-4cbf-b6cf-67846c895545"
      },
      "execution_count": 15,
      "outputs": [
        {
          "output_type": "stream",
          "name": "stdout",
          "text": [
            "782/782 [==============================] - 5s 6ms/step - loss: 0.4237 - accuracy: 0.8016\n"
          ]
        },
        {
          "output_type": "execute_result",
          "data": {
            "text/plain": [
              "[0.4237230718135834, 0.8015999794006348]"
            ]
          },
          "metadata": {},
          "execution_count": 15
        }
      ]
    },
    {
      "cell_type": "code",
      "source": [],
      "metadata": {
        "id": "pdI6Ux6X5LY3"
      },
      "execution_count": null,
      "outputs": []
    }
  ],
  "metadata": {
    "kernelspec": {
      "display_name": "Python 3",
      "name": "python3"
    },
    "language_info": {
      "codemirror_mode": {
        "name": "ipython",
        "version": 3
      },
      "file_extension": ".py",
      "mimetype": "text/x-python",
      "name": "python",
      "nbconvert_exporter": "python",
      "pygments_lexer": "ipython3",
      "version": "3.11.4"
    },
    "colab": {
      "provenance": [],
      "gpuType": "T4"
    },
    "accelerator": "GPU"
  },
  "nbformat": 4,
  "nbformat_minor": 0
}