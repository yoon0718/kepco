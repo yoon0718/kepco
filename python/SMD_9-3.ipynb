{
 "cells": [
  {
   "cell_type": "code",
   "execution_count": 1,
   "metadata": {},
   "outputs": [
    {
     "name": "stdout",
     "output_type": "stream",
     "text": [
      "WARNING:tensorflow:From c:\\Users\\user\\anaconda3\\Lib\\site-packages\\keras\\src\\losses.py:2976: The name tf.losses.sparse_softmax_cross_entropy is deprecated. Please use tf.compat.v1.losses.sparse_softmax_cross_entropy instead.\n",
      "\n"
     ]
    }
   ],
   "source": [
    "from tensorflow.keras.datasets import imdb\n",
    "from sklearn.model_selection import train_test_split\n",
    "(train_input, train_target), (test_input, test_target) = imdb.load_data(num_words=500)\n",
    "train_input, val_input, train_target, val_target = train_test_split(train_input, train_target, test_size=.2, random_state=42)"
   ]
  },
  {
   "cell_type": "code",
   "execution_count": 2,
   "metadata": {},
   "outputs": [],
   "source": [
    "from tensorflow.keras.utils import pad_sequences\n",
    "train_seq = pad_sequences(train_input, maxlen=100)\n",
    "val_seq = pad_sequences(val_input, maxlen=100)"
   ]
  },
  {
   "cell_type": "code",
   "execution_count": 9,
   "metadata": {},
   "outputs": [],
   "source": [
    "from tensorflow.keras import Sequential\n",
    "from tensorflow.keras.layers import Embedding, LSTM, Dense\n",
    "from tensorflow.keras.optimizers import RMSprop\n",
    "from tensorflow.keras.callbacks import ModelCheckpoint, EarlyStopping"
   ]
  },
  {
   "cell_type": "code",
   "execution_count": 6,
   "metadata": {},
   "outputs": [
    {
     "name": "stdout",
     "output_type": "stream",
     "text": [
      "WARNING:tensorflow:From c:\\Users\\user\\anaconda3\\Lib\\site-packages\\keras\\src\\backend.py:873: The name tf.get_default_graph is deprecated. Please use tf.compat.v1.get_default_graph instead.\n",
      "\n"
     ]
    }
   ],
   "source": [
    "model = Sequential(\n",
    "    [\n",
    "        Embedding(500, 16, input_length=100),\n",
    "        LSTM(8),\n",
    "        Dense(1, activation='sigmoid')\n",
    "    ]\n",
    ")"
   ]
  },
  {
   "cell_type": "code",
   "execution_count": 7,
   "metadata": {},
   "outputs": [
    {
     "name": "stdout",
     "output_type": "stream",
     "text": [
      "Model: \"sequential\"\n",
      "_________________________________________________________________\n",
      " Layer (type)                Output Shape              Param #   \n",
      "=================================================================\n",
      " embedding (Embedding)       (None, 100, 16)           8000      \n",
      "                                                                 \n",
      " lstm (LSTM)                 (None, 8)                 800       \n",
      "                                                                 \n",
      " dense (Dense)               (None, 1)                 9         \n",
      "                                                                 \n",
      "=================================================================\n",
      "Total params: 8809 (34.41 KB)\n",
      "Trainable params: 8809 (34.41 KB)\n",
      "Non-trainable params: 0 (0.00 Byte)\n",
      "_________________________________________________________________\n"
     ]
    }
   ],
   "source": [
    "model.summary()"
   ]
  },
  {
   "cell_type": "code",
   "execution_count": 10,
   "metadata": {},
   "outputs": [
    {
     "name": "stdout",
     "output_type": "stream",
     "text": [
      "Epoch 1/100\n",
      "WARNING:tensorflow:From c:\\Users\\user\\anaconda3\\Lib\\site-packages\\keras\\src\\utils\\tf_utils.py:492: The name tf.ragged.RaggedTensorValue is deprecated. Please use tf.compat.v1.ragged.RaggedTensorValue instead.\n",
      "\n",
      "WARNING:tensorflow:From c:\\Users\\user\\anaconda3\\Lib\\site-packages\\keras\\src\\engine\\base_layer_utils.py:384: The name tf.executing_eagerly_outside_functions is deprecated. Please use tf.compat.v1.executing_eagerly_outside_functions instead.\n",
      "\n",
      "313/313 [==============================] - 7s 18ms/step - loss: 0.6926 - accuracy: 0.5292 - val_loss: 0.6920 - val_accuracy: 0.5554\n",
      "Epoch 2/100\n",
      "  9/313 [..............................] - ETA: 4s - loss: 0.6915 - accuracy: 0.5747"
     ]
    },
    {
     "name": "stderr",
     "output_type": "stream",
     "text": [
      "c:\\Users\\user\\anaconda3\\Lib\\site-packages\\keras\\src\\engine\\training.py:3103: UserWarning: You are saving your model as an HDF5 file via `model.save()`. This file format is considered legacy. We recommend using instead the native Keras format, e.g. `model.save('my_model.keras')`.\n",
      "  saving_api.save_model(\n"
     ]
    },
    {
     "name": "stdout",
     "output_type": "stream",
     "text": [
      "313/313 [==============================] - 5s 17ms/step - loss: 0.6903 - accuracy: 0.5972 - val_loss: 0.6885 - val_accuracy: 0.5978\n",
      "Epoch 3/100\n",
      "313/313 [==============================] - 5s 17ms/step - loss: 0.6759 - accuracy: 0.6426 - val_loss: 0.6538 - val_accuracy: 0.6718\n",
      "Epoch 4/100\n",
      "313/313 [==============================] - 6s 18ms/step - loss: 0.6351 - accuracy: 0.6830 - val_loss: 0.6246 - val_accuracy: 0.6938\n",
      "Epoch 5/100\n",
      "313/313 [==============================] - 6s 18ms/step - loss: 0.6117 - accuracy: 0.7098 - val_loss: 0.6052 - val_accuracy: 0.7128\n",
      "Epoch 6/100\n",
      "313/313 [==============================] - 6s 18ms/step - loss: 0.5919 - accuracy: 0.7281 - val_loss: 0.5884 - val_accuracy: 0.7240\n",
      "Epoch 7/100\n",
      "313/313 [==============================] - 6s 18ms/step - loss: 0.5741 - accuracy: 0.7408 - val_loss: 0.5729 - val_accuracy: 0.7356\n",
      "Epoch 8/100\n",
      "313/313 [==============================] - 6s 18ms/step - loss: 0.5577 - accuracy: 0.7520 - val_loss: 0.5571 - val_accuracy: 0.7500\n",
      "Epoch 9/100\n",
      "313/313 [==============================] - 6s 18ms/step - loss: 0.5413 - accuracy: 0.7617 - val_loss: 0.5417 - val_accuracy: 0.7592\n",
      "Epoch 10/100\n",
      "313/313 [==============================] - 6s 18ms/step - loss: 0.5259 - accuracy: 0.7696 - val_loss: 0.5267 - val_accuracy: 0.7662\n",
      "Epoch 11/100\n",
      "313/313 [==============================] - 6s 18ms/step - loss: 0.5117 - accuracy: 0.7764 - val_loss: 0.5160 - val_accuracy: 0.7662\n",
      "Epoch 12/100\n",
      "313/313 [==============================] - 6s 18ms/step - loss: 0.4986 - accuracy: 0.7839 - val_loss: 0.5035 - val_accuracy: 0.7764\n",
      "Epoch 13/100\n",
      "313/313 [==============================] - 6s 18ms/step - loss: 0.4871 - accuracy: 0.7895 - val_loss: 0.4971 - val_accuracy: 0.7758\n",
      "Epoch 14/100\n",
      "313/313 [==============================] - 6s 18ms/step - loss: 0.4775 - accuracy: 0.7935 - val_loss: 0.4838 - val_accuracy: 0.7890\n",
      "Epoch 15/100\n",
      "313/313 [==============================] - 5s 18ms/step - loss: 0.4689 - accuracy: 0.7980 - val_loss: 0.4779 - val_accuracy: 0.7854\n",
      "Epoch 16/100\n",
      "313/313 [==============================] - 6s 18ms/step - loss: 0.4614 - accuracy: 0.7991 - val_loss: 0.4707 - val_accuracy: 0.7936\n",
      "Epoch 17/100\n",
      "313/313 [==============================] - 6s 18ms/step - loss: 0.4549 - accuracy: 0.8020 - val_loss: 0.4657 - val_accuracy: 0.7936\n",
      "Epoch 18/100\n",
      "313/313 [==============================] - 6s 18ms/step - loss: 0.4495 - accuracy: 0.8029 - val_loss: 0.4609 - val_accuracy: 0.7940\n",
      "Epoch 19/100\n",
      "313/313 [==============================] - 6s 18ms/step - loss: 0.4444 - accuracy: 0.8067 - val_loss: 0.4582 - val_accuracy: 0.7940\n",
      "Epoch 20/100\n",
      "313/313 [==============================] - 6s 18ms/step - loss: 0.4398 - accuracy: 0.8074 - val_loss: 0.4547 - val_accuracy: 0.7970\n",
      "Epoch 21/100\n",
      "313/313 [==============================] - 5s 17ms/step - loss: 0.4357 - accuracy: 0.8085 - val_loss: 0.4512 - val_accuracy: 0.7986\n",
      "Epoch 22/100\n",
      "313/313 [==============================] - 5s 17ms/step - loss: 0.4319 - accuracy: 0.8093 - val_loss: 0.4476 - val_accuracy: 0.8014\n",
      "Epoch 23/100\n",
      "313/313 [==============================] - 5s 18ms/step - loss: 0.4286 - accuracy: 0.8098 - val_loss: 0.4438 - val_accuracy: 0.8016\n",
      "Epoch 24/100\n",
      "313/313 [==============================] - 5s 17ms/step - loss: 0.4263 - accuracy: 0.8106 - val_loss: 0.4439 - val_accuracy: 0.8016\n",
      "Epoch 25/100\n",
      "313/313 [==============================] - 6s 18ms/step - loss: 0.4238 - accuracy: 0.8116 - val_loss: 0.4480 - val_accuracy: 0.7952\n",
      "Epoch 26/100\n",
      "313/313 [==============================] - 6s 18ms/step - loss: 0.4217 - accuracy: 0.8121 - val_loss: 0.4398 - val_accuracy: 0.7992\n",
      "Epoch 27/100\n",
      "313/313 [==============================] - 6s 18ms/step - loss: 0.4199 - accuracy: 0.8117 - val_loss: 0.4377 - val_accuracy: 0.8018\n",
      "Epoch 28/100\n",
      "313/313 [==============================] - 5s 18ms/step - loss: 0.4182 - accuracy: 0.8112 - val_loss: 0.4387 - val_accuracy: 0.8024\n",
      "Epoch 29/100\n",
      "313/313 [==============================] - 5s 17ms/step - loss: 0.4168 - accuracy: 0.8134 - val_loss: 0.4382 - val_accuracy: 0.7958\n",
      "Epoch 30/100\n",
      "313/313 [==============================] - 5s 18ms/step - loss: 0.4152 - accuracy: 0.8125 - val_loss: 0.4355 - val_accuracy: 0.8038\n",
      "Epoch 31/100\n",
      "313/313 [==============================] - 6s 18ms/step - loss: 0.4141 - accuracy: 0.8137 - val_loss: 0.4326 - val_accuracy: 0.8024\n",
      "Epoch 32/100\n",
      "313/313 [==============================] - 5s 18ms/step - loss: 0.4130 - accuracy: 0.8131 - val_loss: 0.4325 - val_accuracy: 0.8040\n",
      "Epoch 33/100\n",
      "313/313 [==============================] - 6s 18ms/step - loss: 0.4122 - accuracy: 0.8130 - val_loss: 0.4320 - val_accuracy: 0.8008\n",
      "Epoch 34/100\n",
      "313/313 [==============================] - 6s 18ms/step - loss: 0.4114 - accuracy: 0.8148 - val_loss: 0.4316 - val_accuracy: 0.8014\n",
      "Epoch 35/100\n",
      "313/313 [==============================] - 6s 18ms/step - loss: 0.4106 - accuracy: 0.8147 - val_loss: 0.4305 - val_accuracy: 0.8022\n",
      "Epoch 36/100\n",
      "313/313 [==============================] - 6s 18ms/step - loss: 0.4097 - accuracy: 0.8142 - val_loss: 0.4342 - val_accuracy: 0.7996\n",
      "Epoch 37/100\n",
      "313/313 [==============================] - 6s 20ms/step - loss: 0.4089 - accuracy: 0.8156 - val_loss: 0.4298 - val_accuracy: 0.7988\n",
      "Epoch 38/100\n",
      "313/313 [==============================] - 7s 23ms/step - loss: 0.4084 - accuracy: 0.8148 - val_loss: 0.4306 - val_accuracy: 0.8018\n",
      "Epoch 39/100\n",
      "313/313 [==============================] - 6s 19ms/step - loss: 0.4080 - accuracy: 0.8145 - val_loss: 0.4302 - val_accuracy: 0.7998\n",
      "Epoch 40/100\n",
      "313/313 [==============================] - 6s 20ms/step - loss: 0.4070 - accuracy: 0.8160 - val_loss: 0.4287 - val_accuracy: 0.8012\n",
      "Epoch 41/100\n",
      "313/313 [==============================] - 7s 22ms/step - loss: 0.4067 - accuracy: 0.8137 - val_loss: 0.4315 - val_accuracy: 0.8000\n",
      "Epoch 42/100\n",
      "313/313 [==============================] - 7s 22ms/step - loss: 0.4061 - accuracy: 0.8162 - val_loss: 0.4295 - val_accuracy: 0.8010\n",
      "Epoch 43/100\n",
      "313/313 [==============================] - 7s 22ms/step - loss: 0.4054 - accuracy: 0.8162 - val_loss: 0.4362 - val_accuracy: 0.8018\n"
     ]
    }
   ],
   "source": [
    "rmsprop = RMSprop(learning_rate=1e-4)\n",
    "model.compile(optimizer=rmsprop, loss='binary_crossentropy', metrics='accuracy')\n",
    "checkpoint_cb = ModelCheckpoint('best-lstm-model.h5', save_best_only=True)\n",
    "early_stopping_cb = EarlyStopping(patience=3, restore_best_weights=True)\n",
    "history = model.fit(train_seq, train_target, epochs=100, batch_size=64, validation_data=(val_seq, val_target), callbacks=[checkpoint_cb, early_stopping_cb])"
   ]
  },
  {
   "cell_type": "code",
   "execution_count": 11,
   "metadata": {},
   "outputs": [
    {
     "data": {
      "image/png": "[encoded data removed]",
      "text/plain": [
       "<Figure size 640x480 with 1 Axes>"
      ]
     },
     "metadata": {},
     "output_type": "display_data"
    }
   ],
   "source": [
    "import matplotlib.pyplot as plt\n",
    "plt.plot(history.history['loss'])\n",
    "plt.plot(history.history['val_loss'])\n",
    "plt.xlabel('epoch')\n",
    "plt.ylabel('loss')\n",
    "plt.legend(['train','val'])\n",
    "plt.show()"
   ]
  },
  {
   "cell_type": "code",
   "execution_count": 12,
   "metadata": {},
   "outputs": [],
   "source": [
    "model2 = Sequential(\n",
    "    [\n",
    "        Embedding(500, 16, input_length=100),\n",
    "        LSTM(8 ,dropout=.3),\n",
    "        Dense(1, activation='sigmoid')\n",
    "    ]\n",
    ")"
   ]
  },
  {
   "cell_type": "code",
   "execution_count": 13,
   "metadata": {},
   "outputs": [
    {
     "name": "stdout",
     "output_type": "stream",
     "text": [
      "Epoch 1/100\n",
      "313/313 [==============================] - 9s 22ms/step - loss: 0.6924 - accuracy: 0.5281 - val_loss: 0.6919 - val_accuracy: 0.5484\n",
      "Epoch 2/100\n",
      "  7/313 [..............................] - ETA: 5s - loss: 0.6921 - accuracy: 0.5379"
     ]
    },
    {
     "name": "stderr",
     "output_type": "stream",
     "text": [
      "c:\\Users\\user\\anaconda3\\Lib\\site-packages\\keras\\src\\engine\\training.py:3103: UserWarning: You are saving your model as an HDF5 file via `model.save()`. This file format is considered legacy. We recommend using instead the native Keras format, e.g. `model.save('my_model.keras')`.\n",
      "  saving_api.save_model(\n"
     ]
    },
    {
     "name": "stdout",
     "output_type": "stream",
     "text": [
      "313/313 [==============================] - 6s 20ms/step - loss: 0.6907 - accuracy: 0.5719 - val_loss: 0.6897 - val_accuracy: 0.5858\n",
      "Epoch 3/100\n",
      "313/313 [==============================] - 6s 20ms/step - loss: 0.6874 - accuracy: 0.6044 - val_loss: 0.6849 - val_accuracy: 0.6226\n",
      "Epoch 4/100\n",
      "313/313 [==============================] - 6s 20ms/step - loss: 0.6796 - accuracy: 0.6385 - val_loss: 0.6723 - val_accuracy: 0.6640\n",
      "Epoch 5/100\n",
      "313/313 [==============================] - 6s 20ms/step - loss: 0.6516 - accuracy: 0.6806 - val_loss: 0.6156 - val_accuracy: 0.7202\n",
      "Epoch 6/100\n",
      "313/313 [==============================] - 6s 20ms/step - loss: 0.5847 - accuracy: 0.7176 - val_loss: 0.5662 - val_accuracy: 0.7256\n",
      "Epoch 7/100\n",
      "313/313 [==============================] - 6s 21ms/step - loss: 0.5576 - accuracy: 0.7323 - val_loss: 0.5456 - val_accuracy: 0.7424\n",
      "Epoch 8/100\n",
      "313/313 [==============================] - 7s 22ms/step - loss: 0.5374 - accuracy: 0.7497 - val_loss: 0.5319 - val_accuracy: 0.7532\n",
      "Epoch 9/100\n",
      "313/313 [==============================] - 7s 23ms/step - loss: 0.5208 - accuracy: 0.7576 - val_loss: 0.5147 - val_accuracy: 0.7694\n",
      "Epoch 10/100\n",
      "313/313 [==============================] - 7s 22ms/step - loss: 0.5073 - accuracy: 0.7678 - val_loss: 0.5031 - val_accuracy: 0.7738\n",
      "Epoch 11/100\n",
      "313/313 [==============================] - 7s 22ms/step - loss: 0.4946 - accuracy: 0.7745 - val_loss: 0.4924 - val_accuracy: 0.7774\n",
      "Epoch 12/100\n",
      "313/313 [==============================] - 7s 23ms/step - loss: 0.4846 - accuracy: 0.7799 - val_loss: 0.4854 - val_accuracy: 0.7784\n",
      "Epoch 13/100\n",
      "313/313 [==============================] - 7s 22ms/step - loss: 0.4767 - accuracy: 0.7846 - val_loss: 0.4771 - val_accuracy: 0.7804\n",
      "Epoch 14/100\n",
      "313/313 [==============================] - 7s 22ms/step - loss: 0.4685 - accuracy: 0.7875 - val_loss: 0.4713 - val_accuracy: 0.7886\n",
      "Epoch 15/100\n",
      "313/313 [==============================] - 7s 22ms/step - loss: 0.4617 - accuracy: 0.7926 - val_loss: 0.4669 - val_accuracy: 0.7806\n",
      "Epoch 16/100\n",
      "313/313 [==============================] - 7s 22ms/step - loss: 0.4576 - accuracy: 0.7922 - val_loss: 0.4609 - val_accuracy: 0.7900\n",
      "Epoch 17/100\n",
      "313/313 [==============================] - 7s 22ms/step - loss: 0.4505 - accuracy: 0.7997 - val_loss: 0.4569 - val_accuracy: 0.7894\n",
      "Epoch 18/100\n",
      "313/313 [==============================] - 7s 22ms/step - loss: 0.4484 - accuracy: 0.7989 - val_loss: 0.4553 - val_accuracy: 0.7886\n",
      "Epoch 19/100\n",
      "313/313 [==============================] - 7s 22ms/step - loss: 0.4434 - accuracy: 0.7999 - val_loss: 0.4505 - val_accuracy: 0.7914\n",
      "Epoch 20/100\n",
      "313/313 [==============================] - 7s 22ms/step - loss: 0.4390 - accuracy: 0.8024 - val_loss: 0.4476 - val_accuracy: 0.7918\n",
      "Epoch 21/100\n",
      "313/313 [==============================] - 7s 22ms/step - loss: 0.4381 - accuracy: 0.8033 - val_loss: 0.4454 - val_accuracy: 0.7924\n",
      "Epoch 22/100\n",
      "313/313 [==============================] - 7s 22ms/step - loss: 0.4338 - accuracy: 0.8044 - val_loss: 0.4437 - val_accuracy: 0.7932\n",
      "Epoch 23/100\n",
      "313/313 [==============================] - 7s 22ms/step - loss: 0.4311 - accuracy: 0.8055 - val_loss: 0.4430 - val_accuracy: 0.7954\n",
      "Epoch 24/100\n",
      "313/313 [==============================] - 7s 22ms/step - loss: 0.4282 - accuracy: 0.8073 - val_loss: 0.4400 - val_accuracy: 0.7966\n",
      "Epoch 25/100\n",
      "313/313 [==============================] - 7s 22ms/step - loss: 0.4291 - accuracy: 0.8062 - val_loss: 0.4394 - val_accuracy: 0.7940\n",
      "Epoch 26/100\n",
      "313/313 [==============================] - 7s 22ms/step - loss: 0.4238 - accuracy: 0.8084 - val_loss: 0.4376 - val_accuracy: 0.7956\n",
      "Epoch 27/100\n",
      "313/313 [==============================] - 7s 22ms/step - loss: 0.4251 - accuracy: 0.8066 - val_loss: 0.4386 - val_accuracy: 0.7956\n",
      "Epoch 28/100\n",
      "313/313 [==============================] - 7s 22ms/step - loss: 0.4241 - accuracy: 0.8084 - val_loss: 0.4349 - val_accuracy: 0.7998\n",
      "Epoch 29/100\n",
      "313/313 [==============================] - 7s 22ms/step - loss: 0.4200 - accuracy: 0.8097 - val_loss: 0.4346 - val_accuracy: 0.7990\n",
      "Epoch 30/100\n",
      "313/313 [==============================] - 7s 22ms/step - loss: 0.4213 - accuracy: 0.8088 - val_loss: 0.4331 - val_accuracy: 0.7978\n",
      "Epoch 31/100\n",
      "313/313 [==============================] - 7s 22ms/step - loss: 0.4206 - accuracy: 0.8078 - val_loss: 0.4324 - val_accuracy: 0.7994\n",
      "Epoch 32/100\n",
      "313/313 [==============================] - 7s 22ms/step - loss: 0.4195 - accuracy: 0.8094 - val_loss: 0.4364 - val_accuracy: 0.7972\n",
      "Epoch 33/100\n",
      "313/313 [==============================] - 7s 22ms/step - loss: 0.4187 - accuracy: 0.8076 - val_loss: 0.4322 - val_accuracy: 0.7972\n",
      "Epoch 34/100\n",
      "313/313 [==============================] - 7s 22ms/step - loss: 0.4188 - accuracy: 0.8094 - val_loss: 0.4332 - val_accuracy: 0.7998\n",
      "Epoch 35/100\n",
      "313/313 [==============================] - 7s 22ms/step - loss: 0.4175 - accuracy: 0.8091 - val_loss: 0.4322 - val_accuracy: 0.8018\n",
      "Epoch 36/100\n",
      "313/313 [==============================] - 7s 23ms/step - loss: 0.4165 - accuracy: 0.8103 - val_loss: 0.4336 - val_accuracy: 0.8012\n"
     ]
    }
   ],
   "source": [
    "rmsprop = RMSprop(learning_rate=1e-4)\n",
    "model2.compile(optimizer=rmsprop, loss='binary_crossentropy', metrics='accuracy')\n",
    "checkpoint_cb = ModelCheckpoint('best-dropout-model.h5', save_best_only=True)\n",
    "early_stopping_cb = EarlyStopping(patience=3, restore_best_weights=True)\n",
    "history = model2.fit(train_seq, train_target, epochs=100, batch_size=64, validation_data=(val_seq, val_target), callbacks=[checkpoint_cb, early_stopping_cb])"
   ]
  },
  {
   "cell_type": "code",
   "execution_count": 15,
   "metadata": {},
   "outputs": [
    {
     "name": "stdout",
     "output_type": "stream",
     "text": [
      "Model: \"sequential_1\"\n",
      "_________________________________________________________________\n",
      " Layer (type)                Output Shape              Param #   \n",
      "=================================================================\n",
      " embedding_1 (Embedding)     (None, 100, 16)           8000      \n",
      "                                                                 \n",
      " lstm_1 (LSTM)               (None, 8)                 800       \n",
      "                                                                 \n",
      " dense_1 (Dense)             (None, 1)                 9         \n",
      "                                                                 \n",
      "=================================================================\n",
      "Total params: 8809 (34.41 KB)\n",
      "Trainable params: 8809 (34.41 KB)\n",
      "Non-trainable params: 0 (0.00 Byte)\n",
      "_________________________________________________________________\n"
     ]
    }
   ],
   "source": [
    "model2.summary()"
   ]
  },
  {
   "cell_type": "code",
   "execution_count": 14,
   "metadata": {},
   "outputs": [
    {
     "data": {
      "image/png": "[encoded data removed]",
      "text/plain": [
       "<Figure size 640x480 with 1 Axes>"
      ]
     },
     "metadata": {},
     "output_type": "display_data"
    }
   ],
   "source": [
    "import matplotlib.pyplot as plt\n",
    "plt.plot(history.history['loss'])\n",
    "plt.plot(history.history['val_loss'])\n",
    "plt.xlabel('epoch')\n",
    "plt.ylabel('loss')\n",
    "plt.legend(['train','val'])\n",
    "plt.show()"
   ]
  },
  {
   "cell_type": "code",
   "execution_count": 16,
   "metadata": {},
   "outputs": [],
   "source": [
    "model3 = Sequential(\n",
    "    [\n",
    "        Embedding(500, 16, input_length=100),\n",
    "        LSTM(8 ,dropout=.3, return_sequences=True),\n",
    "        LSTM(8 ,dropout=.3),\n",
    "        Dense(1, activation='sigmoid')\n",
    "    ]\n",
    ")"
   ]
  },
  {
   "cell_type": "code",
   "execution_count": 17,
   "metadata": {},
   "outputs": [
    {
     "name": "stdout",
     "output_type": "stream",
     "text": [
      "Model: \"sequential_2\"\n",
      "_________________________________________________________________\n",
      " Layer (type)                Output Shape              Param #   \n",
      "=================================================================\n",
      " embedding_2 (Embedding)     (None, 100, 16)           8000      \n",
      "                                                                 \n",
      " lstm_2 (LSTM)               (None, 100, 8)            800       \n",
      "                                                                 \n",
      " lstm_3 (LSTM)               (None, 8)                 544       \n",
      "                                                                 \n",
      " dense_2 (Dense)             (None, 1)                 9         \n",
      "                                                                 \n",
      "=================================================================\n",
      "Total params: 9353 (36.54 KB)\n",
      "Trainable params: 9353 (36.54 KB)\n",
      "Non-trainable params: 0 (0.00 Byte)\n",
      "_________________________________________________________________\n"
     ]
    }
   ],
   "source": [
    "model3.summary()"
   ]
  },
  {
   "cell_type": "code",
   "execution_count": null,
   "metadata": {},
   "outputs": [],
   "source": []
  }
 ],
 "metadata": {
  "kernelspec": {
   "display_name": "base",
   "language": "python",
   "name": "python3"
  },
  "language_info": {
   "codemirror_mode": {
    "name": "ipython",
    "version": 3
   },
   "file_extension": ".py",
   "mimetype": "text/x-python",
   "name": "python",
   "nbconvert_exporter": "python",
   "pygments_lexer": "ipython3",
   "version": "3.11.4"
  }
 },
 "nbformat": 4,
 "nbformat_minor": 2
}
