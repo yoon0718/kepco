{
 "cells": [
  {
   "cell_type": "code",
   "execution_count": 101,
   "id": "22ed360e-89e6-4eb8-a5c5-44cfb2e00a46",
   "metadata": {
    "tags": []
   },
   "outputs": [],
   "source": [
    "import pandas as pd\n",
    "import numpy as np"
   ]
  },
  {
   "cell_type": "code",
   "execution_count": 4,
   "id": "e98ba647-bd39-42e3-8952-8cf3f5c77ed9",
   "metadata": {
    "tags": []
   },
   "outputs": [],
   "source": [
    "import gdown"
   ]
  },
  {
   "cell_type": "code",
   "execution_count": 6,
   "id": "e9a850b9-d14d-45b8-9591-94353e58939c",
   "metadata": {
    "tags": []
   },
   "outputs": [
    {
     "name": "stderr",
     "output_type": "stream",
     "text": [
      "Downloading...\n",
      "From: https://bit.ly/3RhoNho\n",
      "To: c:\\work\\ns_202104.csv\n",
      "100%|███████████████████████████████████████████████████████████████████████████████████| 57.6M/57.6M [00:33<00:00, 1.71MB/s]\n"
     ]
    },
    {
     "data": {
      "text/plain": [
       "'ns_202104.csv'"
      ]
     },
     "execution_count": 6,
     "metadata": {},
     "output_type": "execute_result"
    }
   ],
   "source": [
    "gdown.download('https://bit.ly/3RhoNho','ns_202104.csv',quiet=False)"
   ]
  },
  {
   "cell_type": "code",
   "execution_count": 102,
   "id": "50e8f3c5-7b2d-48df-878a-4066809f98aa",
   "metadata": {
    "tags": []
   },
   "outputs": [],
   "source": [
    "test = pd.read_csv('test.csv')"
   ]
  },
  {
   "cell_type": "code",
   "execution_count": 119,
   "id": "ca7ba5dc-99c7-42d5-aee0-9e0b27dfd296",
   "metadata": {
    "tags": []
   },
   "outputs": [],
   "source": [
    "# 눈으로 확인(데이터 값)\n",
    "test.head()\n",
    "# dataFrame의 정체를 확인\n",
    "test.shape\n",
    "## data구성\n",
    "test.dtypes\n",
    "## 변수구성\n",
    "test.columns\n",
    "## \n",
    "\n",
    "test['방문회수비율'] = test.박물관방문 / test.나이"
   ]
  },
  {
   "cell_type": "code",
   "execution_count": 123,
   "id": "b74935a7-59d6-47d9-bce5-73ed4eab4166",
   "metadata": {
    "tags": []
   },
   "outputs": [
    {
     "data": {
      "text/html": [
       "<div>\n",
       "<style scoped>\n",
       "    .dataframe tbody tr th:only-of-type {\n",
       "        vertical-align: middle;\n",
       "    }\n",
       "\n",
       "    .dataframe tbody tr th {\n",
       "        vertical-align: top;\n",
       "    }\n",
       "\n",
       "    .dataframe thead th {\n",
       "        text-align: right;\n",
       "    }\n",
       "</style>\n",
       "<table border=\"1\" class=\"dataframe\">\n",
       "  <thead>\n",
       "    <tr style=\"text-align: right;\">\n",
       "      <th></th>\n",
       "      <th>이름</th>\n",
       "      <th>나이</th>\n",
       "      <th>박물관방문</th>\n",
       "      <th>방문회수비율</th>\n",
       "    </tr>\n",
       "  </thead>\n",
       "  <tbody>\n",
       "    <tr>\n",
       "      <th>0</th>\n",
       "      <td>김담향</td>\n",
       "      <td>33</td>\n",
       "      <td>5</td>\n",
       "      <td>0.15</td>\n",
       "    </tr>\n",
       "    <tr>\n",
       "      <th>1</th>\n",
       "      <td>이재빈</td>\n",
       "      <td>25</td>\n",
       "      <td>10</td>\n",
       "      <td>0.40</td>\n",
       "    </tr>\n",
       "    <tr>\n",
       "      <th>2</th>\n",
       "      <td>김나영</td>\n",
       "      <td>26</td>\n",
       "      <td>4</td>\n",
       "      <td>0.15</td>\n",
       "    </tr>\n",
       "  </tbody>\n",
       "</table>\n",
       "</div>"
      ],
      "text/plain": [
       "    이름  나이  박물관방문  방문회수비율\n",
       "0  김담향  33      5    0.15\n",
       "1  이재빈  25     10    0.40\n",
       "2  김나영  26      4    0.15"
      ]
     },
     "execution_count": 123,
     "metadata": {},
     "output_type": "execute_result"
    }
   ],
   "source": [
    "test['방문회수비율'] = round(test.방문회수비율,2)"
   ]
  },
  {
   "cell_type": "code",
   "execution_count": 124,
   "id": "7cbc1aa1-811a-4907-aea6-95c7bf7d9de2",
   "metadata": {
    "tags": []
   },
   "outputs": [],
   "source": [
    "test['성별'] = '여자'"
   ]
  },
  {
   "cell_type": "code",
   "execution_count": 127,
   "id": "224ea360-6951-4d22-98b2-b22c99ee1821",
   "metadata": {
    "tags": []
   },
   "outputs": [],
   "source": [
    "test.iloc[1,4] = '남성'"
   ]
  },
  {
   "cell_type": "code",
   "execution_count": 133,
   "id": "73938eaf-6483-4fdb-b540-2a912989832c",
   "metadata": {
    "tags": []
   },
   "outputs": [
    {
     "name": "stdout",
     "output_type": "stream",
     "text": [
      "    이름  나이  박물관방문  방문회수비율  성별\n",
      "0  김담향  33      5    0.15  여자\n",
      "1  이재빈  25     10    0.40  남성\n",
      "2  김나영  26      4    0.15  여자\n"
     ]
    },
    {
     "data": {
      "text/html": [
       "<div>\n",
       "<style scoped>\n",
       "    .dataframe tbody tr th:only-of-type {\n",
       "        vertical-align: middle;\n",
       "    }\n",
       "\n",
       "    .dataframe tbody tr th {\n",
       "        vertical-align: top;\n",
       "    }\n",
       "\n",
       "    .dataframe thead th {\n",
       "        text-align: right;\n",
       "    }\n",
       "</style>\n",
       "<table border=\"1\" class=\"dataframe\">\n",
       "  <thead>\n",
       "    <tr style=\"text-align: right;\">\n",
       "      <th></th>\n",
       "      <th>이름</th>\n",
       "      <th>나이</th>\n",
       "      <th>박물관방문</th>\n",
       "      <th>방문회수비율</th>\n",
       "      <th>성별</th>\n",
       "    </tr>\n",
       "  </thead>\n",
       "  <tbody>\n",
       "    <tr>\n",
       "      <th>0</th>\n",
       "      <td>김담향</td>\n",
       "      <td>33</td>\n",
       "      <td>5</td>\n",
       "      <td>0.15</td>\n",
       "      <td>여자</td>\n",
       "    </tr>\n",
       "    <tr>\n",
       "      <th>1</th>\n",
       "      <td>이재빈</td>\n",
       "      <td>25</td>\n",
       "      <td>10</td>\n",
       "      <td>0.40</td>\n",
       "      <td>남자</td>\n",
       "    </tr>\n",
       "    <tr>\n",
       "      <th>2</th>\n",
       "      <td>김나영</td>\n",
       "      <td>26</td>\n",
       "      <td>4</td>\n",
       "      <td>0.15</td>\n",
       "      <td>여자</td>\n",
       "    </tr>\n",
       "  </tbody>\n",
       "</table>\n",
       "</div>"
      ],
      "text/plain": [
       "    이름  나이  박물관방문  방문회수비율  성별\n",
       "0  김담향  33      5    0.15  여자\n",
       "1  이재빈  25     10    0.40  남자\n",
       "2  김나영  26      4    0.15  여자"
      ]
     },
     "execution_count": 133,
     "metadata": {},
     "output_type": "execute_result"
    }
   ],
   "source": [
    "print(test)\n",
    "test.loc[test.이름 == '이재빈','성별'] = '남자'\n",
    "test"
   ]
  },
  {
   "cell_type": "code",
   "execution_count": 140,
   "id": "e3b61023-7ec2-4bc1-9b6e-2b3aaaf623bd",
   "metadata": {
    "tags": []
   },
   "outputs": [],
   "source": [
    "new_dic = {'이름':['김건우'],\n",
    "'나이':[28],\n",
    "'박물관방문':[10],\n",
    "'방문회수비율':[10/28],\n",
    "'성별':['남자']}\n",
    "\n",
    "new_member = pd.DataFrame(new_dic)\n",
    "new_member.index = [1]"
   ]
  },
  {
   "cell_type": "code",
   "execution_count": 141,
   "id": "6ec74457-502a-4395-b802-04d5611cda84",
   "metadata": {
    "tags": []
   },
   "outputs": [
    {
     "data": {
      "text/html": [
       "<div>\n",
       "<style scoped>\n",
       "    .dataframe tbody tr th:only-of-type {\n",
       "        vertical-align: middle;\n",
       "    }\n",
       "\n",
       "    .dataframe tbody tr th {\n",
       "        vertical-align: top;\n",
       "    }\n",
       "\n",
       "    .dataframe thead th {\n",
       "        text-align: right;\n",
       "    }\n",
       "</style>\n",
       "<table border=\"1\" class=\"dataframe\">\n",
       "  <thead>\n",
       "    <tr style=\"text-align: right;\">\n",
       "      <th></th>\n",
       "      <th>이름</th>\n",
       "      <th>나이</th>\n",
       "      <th>박물관방문</th>\n",
       "      <th>방문회수비율</th>\n",
       "      <th>성별</th>\n",
       "    </tr>\n",
       "  </thead>\n",
       "  <tbody>\n",
       "    <tr>\n",
       "      <th>1</th>\n",
       "      <td>김건우</td>\n",
       "      <td>28</td>\n",
       "      <td>10</td>\n",
       "      <td>0.357143</td>\n",
       "      <td>남자</td>\n",
       "    </tr>\n",
       "  </tbody>\n",
       "</table>\n",
       "</div>"
      ],
      "text/plain": [
       "    이름  나이  박물관방문    방문회수비율  성별\n",
       "1  김건우  28     10  0.357143  남자"
      ]
     },
     "execution_count": 141,
     "metadata": {},
     "output_type": "execute_result"
    }
   ],
   "source": [
    "new_member"
   ]
  },
  {
   "cell_type": "code",
   "execution_count": 145,
   "id": "29a614fc-6d48-4ac7-bb36-1672d6dba009",
   "metadata": {
    "tags": []
   },
   "outputs": [],
   "source": [
    "test = pd.concat([test,new_member],axis=0) "
   ]
  },
  {
   "cell_type": "code",
   "execution_count": 154,
   "id": "48dc9833-4271-40ce-8c8c-8774834d8e78",
   "metadata": {
    "tags": []
   },
   "outputs": [
    {
     "data": {
      "text/html": [
       "<div>\n",
       "<style scoped>\n",
       "    .dataframe tbody tr th:only-of-type {\n",
       "        vertical-align: middle;\n",
       "    }\n",
       "\n",
       "    .dataframe tbody tr th {\n",
       "        vertical-align: top;\n",
       "    }\n",
       "\n",
       "    .dataframe thead th {\n",
       "        text-align: right;\n",
       "    }\n",
       "</style>\n",
       "<table border=\"1\" class=\"dataframe\">\n",
       "  <thead>\n",
       "    <tr style=\"text-align: right;\">\n",
       "      <th></th>\n",
       "      <th>이름</th>\n",
       "      <th>나이</th>\n",
       "      <th>박물관방문</th>\n",
       "      <th>방문회수비율</th>\n",
       "      <th>성별</th>\n",
       "    </tr>\n",
       "  </thead>\n",
       "  <tbody>\n",
       "    <tr>\n",
       "      <th>0</th>\n",
       "      <td>김담향</td>\n",
       "      <td>33</td>\n",
       "      <td>5</td>\n",
       "      <td>0.150000</td>\n",
       "      <td>여자</td>\n",
       "    </tr>\n",
       "    <tr>\n",
       "      <th>1</th>\n",
       "      <td>이재빈</td>\n",
       "      <td>25</td>\n",
       "      <td>10</td>\n",
       "      <td>0.400000</td>\n",
       "      <td>남자</td>\n",
       "    </tr>\n",
       "    <tr>\n",
       "      <th>2</th>\n",
       "      <td>김나영</td>\n",
       "      <td>26</td>\n",
       "      <td>4</td>\n",
       "      <td>0.150000</td>\n",
       "      <td>여자</td>\n",
       "    </tr>\n",
       "    <tr>\n",
       "      <th>1</th>\n",
       "      <td>김건우</td>\n",
       "      <td>28</td>\n",
       "      <td>10</td>\n",
       "      <td>0.357143</td>\n",
       "      <td>남자</td>\n",
       "    </tr>\n",
       "  </tbody>\n",
       "</table>\n",
       "</div>"
      ],
      "text/plain": [
       "    이름  나이  박물관방문    방문회수비율  성별\n",
       "0  김담향  33      5  0.150000  여자\n",
       "1  이재빈  25     10  0.400000  남자\n",
       "2  김나영  26      4  0.150000  여자\n",
       "1  김건우  28     10  0.357143  남자"
      ]
     },
     "execution_count": 154,
     "metadata": {},
     "output_type": "execute_result"
    }
   ],
   "source": [
    "test"
   ]
  },
  {
   "cell_type": "code",
   "execution_count": 160,
   "id": "25b58d94-5326-4100-8c0b-a46c68d47a75",
   "metadata": {
    "tags": []
   },
   "outputs": [
    {
     "data": {
      "text/html": [
       "<div>\n",
       "<style scoped>\n",
       "    .dataframe tbody tr th:only-of-type {\n",
       "        vertical-align: middle;\n",
       "    }\n",
       "\n",
       "    .dataframe tbody tr th {\n",
       "        vertical-align: top;\n",
       "    }\n",
       "\n",
       "    .dataframe thead th {\n",
       "        text-align: right;\n",
       "    }\n",
       "</style>\n",
       "<table border=\"1\" class=\"dataframe\">\n",
       "  <thead>\n",
       "    <tr style=\"text-align: right;\">\n",
       "      <th></th>\n",
       "      <th>이름</th>\n",
       "      <th>나이</th>\n",
       "      <th>박물관방문</th>\n",
       "      <th>방문회수비율</th>\n",
       "      <th>성별</th>\n",
       "    </tr>\n",
       "  </thead>\n",
       "  <tbody>\n",
       "    <tr>\n",
       "      <th>0</th>\n",
       "      <td>김담향</td>\n",
       "      <td>33</td>\n",
       "      <td>5</td>\n",
       "      <td>0.150000</td>\n",
       "      <td>여자</td>\n",
       "    </tr>\n",
       "    <tr>\n",
       "      <th>1</th>\n",
       "      <td>이재빈</td>\n",
       "      <td>25</td>\n",
       "      <td>1</td>\n",
       "      <td>0.400000</td>\n",
       "      <td>남자</td>\n",
       "    </tr>\n",
       "    <tr>\n",
       "      <th>2</th>\n",
       "      <td>김나영</td>\n",
       "      <td>26</td>\n",
       "      <td>4</td>\n",
       "      <td>0.150000</td>\n",
       "      <td>여자</td>\n",
       "    </tr>\n",
       "    <tr>\n",
       "      <th>1</th>\n",
       "      <td>김건우</td>\n",
       "      <td>28</td>\n",
       "      <td>1</td>\n",
       "      <td>0.357143</td>\n",
       "      <td>남자</td>\n",
       "    </tr>\n",
       "  </tbody>\n",
       "</table>\n",
       "</div>"
      ],
      "text/plain": [
       "    이름  나이  박물관방문    방문회수비율  성별\n",
       "0  김담향  33      5  0.150000  여자\n",
       "1  이재빈  25      1  0.400000  남자\n",
       "2  김나영  26      4  0.150000  여자\n",
       "1  김건우  28      1  0.357143  남자"
      ]
     },
     "execution_count": 160,
     "metadata": {},
     "output_type": "execute_result"
    }
   ],
   "source": [
    "test.loc[test.성별 == '남자','박물관방문'] = test.loc[test.성별 == '남자','박물관방문'] - 3\n",
    "test.loc[test.성별 == '남자','박물관방문'] -= 3\n",
    "test"
   ]
  },
  {
   "cell_type": "code",
   "execution_count": 167,
   "id": "b237e36e-5f19-4370-9217-9e7e0e8a81b7",
   "metadata": {
    "tags": []
   },
   "outputs": [
    {
     "data": {
      "text/html": [
       "<div>\n",
       "<style scoped>\n",
       "    .dataframe tbody tr th:only-of-type {\n",
       "        vertical-align: middle;\n",
       "    }\n",
       "\n",
       "    .dataframe tbody tr th {\n",
       "        vertical-align: top;\n",
       "    }\n",
       "\n",
       "    .dataframe thead th {\n",
       "        text-align: right;\n",
       "    }\n",
       "</style>\n",
       "<table border=\"1\" class=\"dataframe\">\n",
       "  <thead>\n",
       "    <tr style=\"text-align: right;\">\n",
       "      <th></th>\n",
       "      <th>이름</th>\n",
       "      <th>나이</th>\n",
       "    </tr>\n",
       "  </thead>\n",
       "  <tbody>\n",
       "    <tr>\n",
       "      <th>1</th>\n",
       "      <td>이재빈</td>\n",
       "      <td>25</td>\n",
       "    </tr>\n",
       "    <tr>\n",
       "      <th>1</th>\n",
       "      <td>김건우</td>\n",
       "      <td>28</td>\n",
       "    </tr>\n",
       "  </tbody>\n",
       "</table>\n",
       "</div>"
      ],
      "text/plain": [
       "    이름  나이\n",
       "1  이재빈  25\n",
       "1  김건우  28"
      ]
     },
     "execution_count": 167,
     "metadata": {},
     "output_type": "execute_result"
    }
   ],
   "source": [
    "test.iloc[[0,2],[0,1]]\n",
    "test.iloc[[1,3],[0,1]]\n",
    "test.loc[[0,2],['이름','나이']]\n",
    "test.loc[[1],[\"이름\",\"나이\"]]"
   ]
  },
  {
   "cell_type": "code",
   "execution_count": 169,
   "id": "855cb20a-2b1b-49ba-a77d-b561db448c7a",
   "metadata": {
    "tags": []
   },
   "outputs": [
    {
     "data": {
      "text/html": [
       "<div>\n",
       "<style scoped>\n",
       "    .dataframe tbody tr th:only-of-type {\n",
       "        vertical-align: middle;\n",
       "    }\n",
       "\n",
       "    .dataframe tbody tr th {\n",
       "        vertical-align: top;\n",
       "    }\n",
       "\n",
       "    .dataframe thead th {\n",
       "        text-align: right;\n",
       "    }\n",
       "</style>\n",
       "<table border=\"1\" class=\"dataframe\">\n",
       "  <thead>\n",
       "    <tr style=\"text-align: right;\">\n",
       "      <th></th>\n",
       "      <th>이름</th>\n",
       "      <th>나이</th>\n",
       "      <th>박물관방문</th>\n",
       "      <th>성별</th>\n",
       "    </tr>\n",
       "  </thead>\n",
       "  <tbody>\n",
       "    <tr>\n",
       "      <th>0</th>\n",
       "      <td>김태영</td>\n",
       "      <td>26</td>\n",
       "      <td>20</td>\n",
       "      <td>남자</td>\n",
       "    </tr>\n",
       "    <tr>\n",
       "      <th>1</th>\n",
       "      <td>김동일</td>\n",
       "      <td>26</td>\n",
       "      <td>21</td>\n",
       "      <td>남자</td>\n",
       "    </tr>\n",
       "  </tbody>\n",
       "</table>\n",
       "</div>"
      ],
      "text/plain": [
       "    이름  나이  박물관방문  성별\n",
       "0  김태영  26     20  남자\n",
       "1  김동일  26     21  남자"
      ]
     },
     "execution_count": 169,
     "metadata": {},
     "output_type": "execute_result"
    }
   ],
   "source": [
    "new_member = {\n",
    "    '이름':['김태영','김동일'],\n",
    "    '나이':[26,26],\n",
    "    '박물관방문':[20,21],\n",
    "    '성별':['남자','남자']\n",
    "}\n",
    "\n",
    "new_member = pd.DataFrame(new_member)\n",
    "new_member\n"
   ]
  },
  {
   "cell_type": "code",
   "execution_count": 170,
   "id": "5d4f55c8-566a-41fd-9d1c-c9ca5d44993c",
   "metadata": {
    "tags": []
   },
   "outputs": [],
   "source": [
    "new_member['방문회수비율'] = new_member['박물관방문']/new_member.나이"
   ]
  },
  {
   "cell_type": "code",
   "execution_count": 173,
   "id": "8d2e4624-33d6-44ed-8429-b89ee09ea34c",
   "metadata": {
    "tags": []
   },
   "outputs": [
    {
     "data": {
      "text/html": [
       "<div>\n",
       "<style scoped>\n",
       "    .dataframe tbody tr th:only-of-type {\n",
       "        vertical-align: middle;\n",
       "    }\n",
       "\n",
       "    .dataframe tbody tr th {\n",
       "        vertical-align: top;\n",
       "    }\n",
       "\n",
       "    .dataframe thead th {\n",
       "        text-align: right;\n",
       "    }\n",
       "</style>\n",
       "<table border=\"1\" class=\"dataframe\">\n",
       "  <thead>\n",
       "    <tr style=\"text-align: right;\">\n",
       "      <th></th>\n",
       "      <th>이름</th>\n",
       "      <th>나이</th>\n",
       "      <th>박물관방문</th>\n",
       "      <th>방문회수비율</th>\n",
       "      <th>성별</th>\n",
       "    </tr>\n",
       "  </thead>\n",
       "  <tbody>\n",
       "    <tr>\n",
       "      <th>0</th>\n",
       "      <td>김담향</td>\n",
       "      <td>33</td>\n",
       "      <td>5</td>\n",
       "      <td>0.150000</td>\n",
       "      <td>여자</td>\n",
       "    </tr>\n",
       "    <tr>\n",
       "      <th>1</th>\n",
       "      <td>이재빈</td>\n",
       "      <td>25</td>\n",
       "      <td>1</td>\n",
       "      <td>0.400000</td>\n",
       "      <td>남자</td>\n",
       "    </tr>\n",
       "    <tr>\n",
       "      <th>2</th>\n",
       "      <td>김나영</td>\n",
       "      <td>26</td>\n",
       "      <td>4</td>\n",
       "      <td>0.150000</td>\n",
       "      <td>여자</td>\n",
       "    </tr>\n",
       "    <tr>\n",
       "      <th>1</th>\n",
       "      <td>김건우</td>\n",
       "      <td>28</td>\n",
       "      <td>1</td>\n",
       "      <td>0.357143</td>\n",
       "      <td>남자</td>\n",
       "    </tr>\n",
       "    <tr>\n",
       "      <th>0</th>\n",
       "      <td>김태영</td>\n",
       "      <td>26</td>\n",
       "      <td>20</td>\n",
       "      <td>0.769231</td>\n",
       "      <td>남자</td>\n",
       "    </tr>\n",
       "    <tr>\n",
       "      <th>1</th>\n",
       "      <td>김동일</td>\n",
       "      <td>26</td>\n",
       "      <td>21</td>\n",
       "      <td>0.807692</td>\n",
       "      <td>남자</td>\n",
       "    </tr>\n",
       "  </tbody>\n",
       "</table>\n",
       "</div>"
      ],
      "text/plain": [
       "    이름  나이  박물관방문    방문회수비율  성별\n",
       "0  김담향  33      5  0.150000  여자\n",
       "1  이재빈  25      1  0.400000  남자\n",
       "2  김나영  26      4  0.150000  여자\n",
       "1  김건우  28      1  0.357143  남자\n",
       "0  김태영  26     20  0.769231  남자\n",
       "1  김동일  26     21  0.807692  남자"
      ]
     },
     "execution_count": 173,
     "metadata": {},
     "output_type": "execute_result"
    }
   ],
   "source": [
    "test = pd.concat([test,new_member])\n",
    "test"
   ]
  },
  {
   "cell_type": "code",
   "execution_count": 174,
   "id": "8389da24-d0e1-45cf-a4fc-7b64c9c99ae7",
   "metadata": {
    "tags": []
   },
   "outputs": [
    {
     "data": {
      "text/html": [
       "<div>\n",
       "<style scoped>\n",
       "    .dataframe tbody tr th:only-of-type {\n",
       "        vertical-align: middle;\n",
       "    }\n",
       "\n",
       "    .dataframe tbody tr th {\n",
       "        vertical-align: top;\n",
       "    }\n",
       "\n",
       "    .dataframe thead th {\n",
       "        text-align: right;\n",
       "    }\n",
       "</style>\n",
       "<table border=\"1\" class=\"dataframe\">\n",
       "  <thead>\n",
       "    <tr style=\"text-align: right;\">\n",
       "      <th></th>\n",
       "      <th>이름</th>\n",
       "      <th>나이</th>\n",
       "      <th>박물관방문</th>\n",
       "      <th>방문회수비율</th>\n",
       "      <th>성별</th>\n",
       "    </tr>\n",
       "  </thead>\n",
       "  <tbody>\n",
       "    <tr>\n",
       "      <th>0</th>\n",
       "      <td>김담향</td>\n",
       "      <td>33</td>\n",
       "      <td>5</td>\n",
       "      <td>0.150000</td>\n",
       "      <td>여자</td>\n",
       "    </tr>\n",
       "    <tr>\n",
       "      <th>1</th>\n",
       "      <td>이재빈</td>\n",
       "      <td>25</td>\n",
       "      <td>1</td>\n",
       "      <td>0.400000</td>\n",
       "      <td>남자</td>\n",
       "    </tr>\n",
       "    <tr>\n",
       "      <th>2</th>\n",
       "      <td>김나영</td>\n",
       "      <td>26</td>\n",
       "      <td>4</td>\n",
       "      <td>0.150000</td>\n",
       "      <td>여자</td>\n",
       "    </tr>\n",
       "    <tr>\n",
       "      <th>3</th>\n",
       "      <td>김건우</td>\n",
       "      <td>28</td>\n",
       "      <td>1</td>\n",
       "      <td>0.357143</td>\n",
       "      <td>남자</td>\n",
       "    </tr>\n",
       "    <tr>\n",
       "      <th>4</th>\n",
       "      <td>김태영</td>\n",
       "      <td>26</td>\n",
       "      <td>20</td>\n",
       "      <td>0.769231</td>\n",
       "      <td>남자</td>\n",
       "    </tr>\n",
       "    <tr>\n",
       "      <th>5</th>\n",
       "      <td>김동일</td>\n",
       "      <td>26</td>\n",
       "      <td>21</td>\n",
       "      <td>0.807692</td>\n",
       "      <td>남자</td>\n",
       "    </tr>\n",
       "  </tbody>\n",
       "</table>\n",
       "</div>"
      ],
      "text/plain": [
       "    이름  나이  박물관방문    방문회수비율  성별\n",
       "0  김담향  33      5  0.150000  여자\n",
       "1  이재빈  25      1  0.400000  남자\n",
       "2  김나영  26      4  0.150000  여자\n",
       "3  김건우  28      1  0.357143  남자\n",
       "4  김태영  26     20  0.769231  남자\n",
       "5  김동일  26     21  0.807692  남자"
      ]
     },
     "execution_count": 174,
     "metadata": {},
     "output_type": "execute_result"
    }
   ],
   "source": [
    "test.index = np.arange(test.shape[0])\n",
    "test"
   ]
  },
  {
   "cell_type": "code",
   "execution_count": 177,
   "id": "df146705-4110-4377-95b1-7fe4dd3267d7",
   "metadata": {
    "tags": []
   },
   "outputs": [],
   "source": [
    "test.set_index('이름').to_csv(\"abc.csv\",index=None)"
   ]
  },
  {
   "cell_type": "code",
   "execution_count": 178,
   "id": "dfd0069d-4a7c-4009-b988-ae086b02730a",
   "metadata": {
    "tags": []
   },
   "outputs": [],
   "source": [
    "abc = pd.read_csv(\"abc.csv\")"
   ]
  },
  {
   "cell_type": "code",
   "execution_count": 181,
   "id": "b4887eea-61b5-49af-b800-73db65156b31",
   "metadata": {
    "tags": []
   },
   "outputs": [
    {
     "data": {
      "text/html": [
       "<div>\n",
       "<style scoped>\n",
       "    .dataframe tbody tr th:only-of-type {\n",
       "        vertical-align: middle;\n",
       "    }\n",
       "\n",
       "    .dataframe tbody tr th {\n",
       "        vertical-align: top;\n",
       "    }\n",
       "\n",
       "    .dataframe thead th {\n",
       "        text-align: right;\n",
       "    }\n",
       "</style>\n",
       "<table border=\"1\" class=\"dataframe\">\n",
       "  <thead>\n",
       "    <tr style=\"text-align: right;\">\n",
       "      <th></th>\n",
       "      <th>나이</th>\n",
       "      <th>박물관방문</th>\n",
       "      <th>방문회수비율</th>\n",
       "      <th>성별</th>\n",
       "    </tr>\n",
       "    <tr>\n",
       "      <th>이름</th>\n",
       "      <th></th>\n",
       "      <th></th>\n",
       "      <th></th>\n",
       "      <th></th>\n",
       "    </tr>\n",
       "  </thead>\n",
       "  <tbody>\n",
       "    <tr>\n",
       "      <th>김담향</th>\n",
       "      <td>33</td>\n",
       "      <td>5</td>\n",
       "      <td>0.150000</td>\n",
       "      <td>여자</td>\n",
       "    </tr>\n",
       "    <tr>\n",
       "      <th>이재빈</th>\n",
       "      <td>25</td>\n",
       "      <td>1</td>\n",
       "      <td>0.400000</td>\n",
       "      <td>남자</td>\n",
       "    </tr>\n",
       "    <tr>\n",
       "      <th>김나영</th>\n",
       "      <td>26</td>\n",
       "      <td>4</td>\n",
       "      <td>0.150000</td>\n",
       "      <td>여자</td>\n",
       "    </tr>\n",
       "    <tr>\n",
       "      <th>김건우</th>\n",
       "      <td>28</td>\n",
       "      <td>1</td>\n",
       "      <td>0.357143</td>\n",
       "      <td>남자</td>\n",
       "    </tr>\n",
       "    <tr>\n",
       "      <th>김태영</th>\n",
       "      <td>26</td>\n",
       "      <td>20</td>\n",
       "      <td>0.769231</td>\n",
       "      <td>남자</td>\n",
       "    </tr>\n",
       "    <tr>\n",
       "      <th>김동일</th>\n",
       "      <td>26</td>\n",
       "      <td>21</td>\n",
       "      <td>0.807692</td>\n",
       "      <td>남자</td>\n",
       "    </tr>\n",
       "  </tbody>\n",
       "</table>\n",
       "</div>"
      ],
      "text/plain": [
       "     나이  박물관방문    방문회수비율  성별\n",
       "이름                          \n",
       "김담향  33      5  0.150000  여자\n",
       "이재빈  25      1  0.400000  남자\n",
       "김나영  26      4  0.150000  여자\n",
       "김건우  28      1  0.357143  남자\n",
       "김태영  26     20  0.769231  남자\n",
       "김동일  26     21  0.807692  남자"
      ]
     },
     "execution_count": 181,
     "metadata": {},
     "output_type": "execute_result"
    }
   ],
   "source": [
    "test.set_index('이름',inplace=True)\n",
    "test"
   ]
  },
  {
   "cell_type": "code",
   "execution_count": 182,
   "id": "d582fc59-04c0-4bbd-9e24-f6e7a488d3a2",
   "metadata": {
    "tags": []
   },
   "outputs": [
    {
     "data": {
      "text/plain": [
       "0.15"
      ]
     },
     "execution_count": 182,
     "metadata": {},
     "output_type": "execute_result"
    }
   ],
   "source": [
    "test.loc['김담향','방문회수비율']"
   ]
  },
  {
   "cell_type": "code",
   "execution_count": 186,
   "id": "b7d2a600-3cf1-4862-a94b-9638f542c466",
   "metadata": {
    "collapsed": true,
    "jupyter": {
     "outputs_hidden": true
    },
    "tags": []
   },
   "outputs": [
    {
     "data": {
      "text/html": [
       "<div>\n",
       "<style scoped>\n",
       "    .dataframe tbody tr th:only-of-type {\n",
       "        vertical-align: middle;\n",
       "    }\n",
       "\n",
       "    .dataframe tbody tr th {\n",
       "        vertical-align: top;\n",
       "    }\n",
       "\n",
       "    .dataframe thead th {\n",
       "        text-align: right;\n",
       "    }\n",
       "</style>\n",
       "<table border=\"1\" class=\"dataframe\">\n",
       "  <thead>\n",
       "    <tr style=\"text-align: right;\">\n",
       "      <th></th>\n",
       "      <th>이름</th>\n",
       "      <th>나이</th>\n",
       "      <th>박물관방문</th>\n",
       "      <th>방문회수비율</th>\n",
       "      <th>성별</th>\n",
       "    </tr>\n",
       "  </thead>\n",
       "  <tbody>\n",
       "    <tr>\n",
       "      <th>0</th>\n",
       "      <td>김담향</td>\n",
       "      <td>33</td>\n",
       "      <td>5</td>\n",
       "      <td>0.150000</td>\n",
       "      <td>여자</td>\n",
       "    </tr>\n",
       "    <tr>\n",
       "      <th>1</th>\n",
       "      <td>이재빈</td>\n",
       "      <td>25</td>\n",
       "      <td>1</td>\n",
       "      <td>0.400000</td>\n",
       "      <td>남자</td>\n",
       "    </tr>\n",
       "    <tr>\n",
       "      <th>2</th>\n",
       "      <td>김나영</td>\n",
       "      <td>26</td>\n",
       "      <td>4</td>\n",
       "      <td>0.150000</td>\n",
       "      <td>여자</td>\n",
       "    </tr>\n",
       "    <tr>\n",
       "      <th>3</th>\n",
       "      <td>김건우</td>\n",
       "      <td>28</td>\n",
       "      <td>1</td>\n",
       "      <td>0.357143</td>\n",
       "      <td>남자</td>\n",
       "    </tr>\n",
       "    <tr>\n",
       "      <th>4</th>\n",
       "      <td>김태영</td>\n",
       "      <td>26</td>\n",
       "      <td>20</td>\n",
       "      <td>0.769231</td>\n",
       "      <td>남자</td>\n",
       "    </tr>\n",
       "    <tr>\n",
       "      <th>5</th>\n",
       "      <td>김동일</td>\n",
       "      <td>26</td>\n",
       "      <td>21</td>\n",
       "      <td>0.807692</td>\n",
       "      <td>남자</td>\n",
       "    </tr>\n",
       "  </tbody>\n",
       "</table>\n",
       "</div>"
      ],
      "text/plain": [
       "    이름  나이  박물관방문    방문회수비율  성별\n",
       "0  김담향  33      5  0.150000  여자\n",
       "1  이재빈  25      1  0.400000  남자\n",
       "2  김나영  26      4  0.150000  여자\n",
       "3  김건우  28      1  0.357143  남자\n",
       "4  김태영  26     20  0.769231  남자\n",
       "5  김동일  26     21  0.807692  남자"
      ]
     },
     "execution_count": 186,
     "metadata": {},
     "output_type": "execute_result"
    }
   ],
   "source": [
    "test.reset_index(inplace=True)\n",
    "test"
   ]
  },
  {
   "cell_type": "code",
   "execution_count": 190,
   "id": "83e63c3c-919c-44ef-9ad0-9b05bdb1d6a9",
   "metadata": {
    "tags": []
   },
   "outputs": [
    {
     "data": {
      "text/plain": [
       "0    0.15\n",
       "Name: 방문회수비율, dtype: float64"
      ]
     },
     "execution_count": 190,
     "metadata": {},
     "output_type": "execute_result"
    }
   ],
   "source": [
    "test.loc[test.이름=='김담향','방문회수비율']"
   ]
  },
  {
   "cell_type": "code",
   "execution_count": 192,
   "id": "24babc36-b89e-4260-b0cb-4f3c1034ca27",
   "metadata": {
    "tags": []
   },
   "outputs": [
    {
     "data": {
      "text/html": [
       "<div>\n",
       "<style scoped>\n",
       "    .dataframe tbody tr th:only-of-type {\n",
       "        vertical-align: middle;\n",
       "    }\n",
       "\n",
       "    .dataframe tbody tr th {\n",
       "        vertical-align: top;\n",
       "    }\n",
       "\n",
       "    .dataframe thead th {\n",
       "        text-align: right;\n",
       "    }\n",
       "</style>\n",
       "<table border=\"1\" class=\"dataframe\">\n",
       "  <thead>\n",
       "    <tr style=\"text-align: right;\">\n",
       "      <th></th>\n",
       "      <th>이름</th>\n",
       "      <th>나이</th>\n",
       "      <th>박물관방문</th>\n",
       "      <th>방문회수비율</th>\n",
       "      <th>성별</th>\n",
       "    </tr>\n",
       "  </thead>\n",
       "  <tbody>\n",
       "    <tr>\n",
       "      <th>0</th>\n",
       "      <td>김담향</td>\n",
       "      <td>33</td>\n",
       "      <td>5</td>\n",
       "      <td>0.150000</td>\n",
       "      <td>여자</td>\n",
       "    </tr>\n",
       "    <tr>\n",
       "      <th>1</th>\n",
       "      <td>이재빈</td>\n",
       "      <td>25</td>\n",
       "      <td>1</td>\n",
       "      <td>0.400000</td>\n",
       "      <td>남자</td>\n",
       "    </tr>\n",
       "    <tr>\n",
       "      <th>2</th>\n",
       "      <td>김나영</td>\n",
       "      <td>26</td>\n",
       "      <td>4</td>\n",
       "      <td>0.150000</td>\n",
       "      <td>여자</td>\n",
       "    </tr>\n",
       "    <tr>\n",
       "      <th>3</th>\n",
       "      <td>김건우</td>\n",
       "      <td>28</td>\n",
       "      <td>1</td>\n",
       "      <td>0.357143</td>\n",
       "      <td>남자</td>\n",
       "    </tr>\n",
       "    <tr>\n",
       "      <th>4</th>\n",
       "      <td>김태영</td>\n",
       "      <td>26</td>\n",
       "      <td>20</td>\n",
       "      <td>0.769231</td>\n",
       "      <td>남자</td>\n",
       "    </tr>\n",
       "    <tr>\n",
       "      <th>5</th>\n",
       "      <td>김동일</td>\n",
       "      <td>26</td>\n",
       "      <td>21</td>\n",
       "      <td>0.807692</td>\n",
       "      <td>남자</td>\n",
       "    </tr>\n",
       "  </tbody>\n",
       "</table>\n",
       "</div>"
      ],
      "text/plain": [
       "    이름  나이  박물관방문    방문회수비율  성별\n",
       "0  김담향  33      5  0.150000  여자\n",
       "1  이재빈  25      1  0.400000  남자\n",
       "2  김나영  26      4  0.150000  여자\n",
       "3  김건우  28      1  0.357143  남자\n",
       "4  김태영  26     20  0.769231  남자\n",
       "5  김동일  26     21  0.807692  남자"
      ]
     },
     "execution_count": 192,
     "metadata": {},
     "output_type": "execute_result"
    }
   ],
   "source": [
    "test"
   ]
  },
  {
   "cell_type": "code",
   "execution_count": 194,
   "id": "3c8b9398-2972-47e0-91cb-aa99572ef64d",
   "metadata": {
    "tags": []
   },
   "outputs": [
    {
     "data": {
      "text/plain": [
       "[2, 3, 4]"
      ]
     },
     "execution_count": 194,
     "metadata": {},
     "output_type": "execute_result"
    }
   ],
   "source": [
    "[1,2,3,4,5,6][1:4]"
   ]
  },
  {
   "cell_type": "code",
   "execution_count": 195,
   "id": "dcdcc663-a189-4068-ae8e-c528f2476943",
   "metadata": {
    "tags": []
   },
   "outputs": [
    {
     "data": {
      "text/html": [
       "<div>\n",
       "<style scoped>\n",
       "    .dataframe tbody tr th:only-of-type {\n",
       "        vertical-align: middle;\n",
       "    }\n",
       "\n",
       "    .dataframe tbody tr th {\n",
       "        vertical-align: top;\n",
       "    }\n",
       "\n",
       "    .dataframe thead th {\n",
       "        text-align: right;\n",
       "    }\n",
       "</style>\n",
       "<table border=\"1\" class=\"dataframe\">\n",
       "  <thead>\n",
       "    <tr style=\"text-align: right;\">\n",
       "      <th></th>\n",
       "      <th>나이</th>\n",
       "      <th>박물관방문</th>\n",
       "      <th>방문회수비율</th>\n",
       "    </tr>\n",
       "  </thead>\n",
       "  <tbody>\n",
       "    <tr>\n",
       "      <th>1</th>\n",
       "      <td>25</td>\n",
       "      <td>1</td>\n",
       "      <td>0.400000</td>\n",
       "    </tr>\n",
       "    <tr>\n",
       "      <th>2</th>\n",
       "      <td>26</td>\n",
       "      <td>4</td>\n",
       "      <td>0.150000</td>\n",
       "    </tr>\n",
       "    <tr>\n",
       "      <th>3</th>\n",
       "      <td>28</td>\n",
       "      <td>1</td>\n",
       "      <td>0.357143</td>\n",
       "    </tr>\n",
       "    <tr>\n",
       "      <th>4</th>\n",
       "      <td>26</td>\n",
       "      <td>20</td>\n",
       "      <td>0.769231</td>\n",
       "    </tr>\n",
       "  </tbody>\n",
       "</table>\n",
       "</div>"
      ],
      "text/plain": [
       "   나이  박물관방문    방문회수비율\n",
       "1  25      1  0.400000\n",
       "2  26      4  0.150000\n",
       "3  28      1  0.357143\n",
       "4  26     20  0.769231"
      ]
     },
     "execution_count": 195,
     "metadata": {},
     "output_type": "execute_result"
    }
   ],
   "source": [
    "test.loc[1:4,'나이':'방문회수비율']"
   ]
  },
  {
   "cell_type": "code",
   "execution_count": 198,
   "id": "51a4d763-53b2-4f6e-8781-21ea65419691",
   "metadata": {
    "tags": []
   },
   "outputs": [
    {
     "data": {
      "text/html": [
       "<div>\n",
       "<style scoped>\n",
       "    .dataframe tbody tr th:only-of-type {\n",
       "        vertical-align: middle;\n",
       "    }\n",
       "\n",
       "    .dataframe tbody tr th {\n",
       "        vertical-align: top;\n",
       "    }\n",
       "\n",
       "    .dataframe thead th {\n",
       "        text-align: right;\n",
       "    }\n",
       "</style>\n",
       "<table border=\"1\" class=\"dataframe\">\n",
       "  <thead>\n",
       "    <tr style=\"text-align: right;\">\n",
       "      <th></th>\n",
       "      <th>나이</th>\n",
       "      <th>박물관방문</th>\n",
       "      <th>방문회수비율</th>\n",
       "    </tr>\n",
       "  </thead>\n",
       "  <tbody>\n",
       "    <tr>\n",
       "      <th>1</th>\n",
       "      <td>25</td>\n",
       "      <td>1</td>\n",
       "      <td>0.400000</td>\n",
       "    </tr>\n",
       "    <tr>\n",
       "      <th>2</th>\n",
       "      <td>26</td>\n",
       "      <td>4</td>\n",
       "      <td>0.150000</td>\n",
       "    </tr>\n",
       "    <tr>\n",
       "      <th>3</th>\n",
       "      <td>28</td>\n",
       "      <td>1</td>\n",
       "      <td>0.357143</td>\n",
       "    </tr>\n",
       "    <tr>\n",
       "      <th>4</th>\n",
       "      <td>26</td>\n",
       "      <td>20</td>\n",
       "      <td>0.769231</td>\n",
       "    </tr>\n",
       "  </tbody>\n",
       "</table>\n",
       "</div>"
      ],
      "text/plain": [
       "   나이  박물관방문    방문회수비율\n",
       "1  25      1  0.400000\n",
       "2  26      4  0.150000\n",
       "3  28      1  0.357143\n",
       "4  26     20  0.769231"
      ]
     },
     "execution_count": 198,
     "metadata": {},
     "output_type": "execute_result"
    }
   ],
   "source": [
    "test.iloc[1:5,1:4]"
   ]
  },
  {
   "cell_type": "code",
   "execution_count": 203,
   "id": "a444efc8-ae93-4764-ab99-90676ae2dc32",
   "metadata": {
    "tags": []
   },
   "outputs": [
    {
     "data": {
      "text/plain": [
       "0     True\n",
       "1    False\n",
       "2     True\n",
       "3     True\n",
       "4     True\n",
       "5     True\n",
       "Name: 이름, dtype: bool"
      ]
     },
     "execution_count": 203,
     "metadata": {},
     "output_type": "execute_result"
    }
   ],
   "source": [
    "test.이름.str.slice(0,1) == '김'"
   ]
  },
  {
   "cell_type": "code",
   "execution_count": 207,
   "id": "cdd7c3a0-cdaa-464b-bf31-22a632a0ae95",
   "metadata": {
    "tags": []
   },
   "outputs": [
    {
     "data": {
      "text/html": [
       "<div>\n",
       "<style scoped>\n",
       "    .dataframe tbody tr th:only-of-type {\n",
       "        vertical-align: middle;\n",
       "    }\n",
       "\n",
       "    .dataframe tbody tr th {\n",
       "        vertical-align: top;\n",
       "    }\n",
       "\n",
       "    .dataframe thead th {\n",
       "        text-align: right;\n",
       "    }\n",
       "</style>\n",
       "<table border=\"1\" class=\"dataframe\">\n",
       "  <thead>\n",
       "    <tr style=\"text-align: right;\">\n",
       "      <th></th>\n",
       "      <th>이름</th>\n",
       "      <th>나이</th>\n",
       "      <th>0</th>\n",
       "    </tr>\n",
       "  </thead>\n",
       "  <tbody>\n",
       "    <tr>\n",
       "      <th>0</th>\n",
       "      <td>True</td>\n",
       "      <td>True</td>\n",
       "      <td>True</td>\n",
       "    </tr>\n",
       "    <tr>\n",
       "      <th>1</th>\n",
       "      <td>False</td>\n",
       "      <td>False</td>\n",
       "      <td>False</td>\n",
       "    </tr>\n",
       "    <tr>\n",
       "      <th>2</th>\n",
       "      <td>True</td>\n",
       "      <td>False</td>\n",
       "      <td>False</td>\n",
       "    </tr>\n",
       "    <tr>\n",
       "      <th>3</th>\n",
       "      <td>True</td>\n",
       "      <td>True</td>\n",
       "      <td>True</td>\n",
       "    </tr>\n",
       "    <tr>\n",
       "      <th>4</th>\n",
       "      <td>True</td>\n",
       "      <td>False</td>\n",
       "      <td>False</td>\n",
       "    </tr>\n",
       "    <tr>\n",
       "      <th>5</th>\n",
       "      <td>True</td>\n",
       "      <td>False</td>\n",
       "      <td>False</td>\n",
       "    </tr>\n",
       "  </tbody>\n",
       "</table>\n",
       "</div>"
      ],
      "text/plain": [
       "      이름     나이      0\n",
       "0   True   True   True\n",
       "1  False  False  False\n",
       "2   True  False  False\n",
       "3   True   True   True\n",
       "4   True  False  False\n",
       "5   True  False  False"
      ]
     },
     "execution_count": 207,
     "metadata": {},
     "output_type": "execute_result"
    }
   ],
   "source": [
    "pd.concat([(test.이름.str.slice(0,1) == '김'),\n",
    "(test.나이 >= 28),\n",
    "(test.나이 >= 28) & (test.이름.str.slice(0,1) == '김')],axis=1)"
   ]
  },
  {
   "cell_type": "code",
   "execution_count": 209,
   "id": "ff4c72c0-cefe-40fa-95cd-c07a3eb7d513",
   "metadata": {
    "tags": []
   },
   "outputs": [
    {
     "data": {
      "text/html": [
       "<div>\n",
       "<style scoped>\n",
       "    .dataframe tbody tr th:only-of-type {\n",
       "        vertical-align: middle;\n",
       "    }\n",
       "\n",
       "    .dataframe tbody tr th {\n",
       "        vertical-align: top;\n",
       "    }\n",
       "\n",
       "    .dataframe thead th {\n",
       "        text-align: right;\n",
       "    }\n",
       "</style>\n",
       "<table border=\"1\" class=\"dataframe\">\n",
       "  <thead>\n",
       "    <tr style=\"text-align: right;\">\n",
       "      <th></th>\n",
       "      <th>이름</th>\n",
       "      <th>나이</th>\n",
       "      <th>박물관방문</th>\n",
       "      <th>방문회수비율</th>\n",
       "      <th>성별</th>\n",
       "    </tr>\n",
       "  </thead>\n",
       "  <tbody>\n",
       "    <tr>\n",
       "      <th>0</th>\n",
       "      <td>김담향</td>\n",
       "      <td>33</td>\n",
       "      <td>5</td>\n",
       "      <td>0.150000</td>\n",
       "      <td>여자</td>\n",
       "    </tr>\n",
       "    <tr>\n",
       "      <th>1</th>\n",
       "      <td>이재빈</td>\n",
       "      <td>25</td>\n",
       "      <td>1</td>\n",
       "      <td>0.400000</td>\n",
       "      <td>남자</td>\n",
       "    </tr>\n",
       "    <tr>\n",
       "      <th>2</th>\n",
       "      <td>김나영</td>\n",
       "      <td>26</td>\n",
       "      <td>4</td>\n",
       "      <td>0.150000</td>\n",
       "      <td>여자</td>\n",
       "    </tr>\n",
       "    <tr>\n",
       "      <th>3</th>\n",
       "      <td>김건우</td>\n",
       "      <td>28</td>\n",
       "      <td>1</td>\n",
       "      <td>0.357143</td>\n",
       "      <td>남자</td>\n",
       "    </tr>\n",
       "    <tr>\n",
       "      <th>4</th>\n",
       "      <td>김태영</td>\n",
       "      <td>26</td>\n",
       "      <td>20</td>\n",
       "      <td>0.769231</td>\n",
       "      <td>남자</td>\n",
       "    </tr>\n",
       "    <tr>\n",
       "      <th>5</th>\n",
       "      <td>김동일</td>\n",
       "      <td>26</td>\n",
       "      <td>21</td>\n",
       "      <td>0.807692</td>\n",
       "      <td>남자</td>\n",
       "    </tr>\n",
       "  </tbody>\n",
       "</table>\n",
       "</div>"
      ],
      "text/plain": [
       "    이름  나이  박물관방문    방문회수비율  성별\n",
       "0  김담향  33      5  0.150000  여자\n",
       "1  이재빈  25      1  0.400000  남자\n",
       "2  김나영  26      4  0.150000  여자\n",
       "3  김건우  28      1  0.357143  남자\n",
       "4  김태영  26     20  0.769231  남자\n",
       "5  김동일  26     21  0.807692  남자"
      ]
     },
     "execution_count": 209,
     "metadata": {},
     "output_type": "execute_result"
    }
   ],
   "source": [
    "test"
   ]
  },
  {
   "cell_type": "code",
   "execution_count": 214,
   "id": "800328ce-a076-47b2-a742-a8cb71c548d3",
   "metadata": {
    "tags": []
   },
   "outputs": [],
   "source": [
    "arr = ((test.나이 >= 28) & (test.이름.str.slice(0,1) == '김')).values"
   ]
  },
  {
   "cell_type": "code",
   "execution_count": 217,
   "id": "82d637ae-a9a1-45ec-8439-a7294a30f45e",
   "metadata": {
    "tags": []
   },
   "outputs": [
    {
     "data": {
      "text/plain": [
       "array([ True, False, False,  True, False, False])"
      ]
     },
     "execution_count": 217,
     "metadata": {},
     "output_type": "execute_result"
    }
   ],
   "source": [
    "((test.나이 >= 28) & (test.이름.str.slice(0,1) == '김')).values"
   ]
  },
  {
   "cell_type": "code",
   "execution_count": 215,
   "id": "aca7cbfc-0247-4d4d-b78d-d14ff7d888c9",
   "metadata": {
    "tags": []
   },
   "outputs": [
    {
     "data": {
      "text/html": [
       "<div>\n",
       "<style scoped>\n",
       "    .dataframe tbody tr th:only-of-type {\n",
       "        vertical-align: middle;\n",
       "    }\n",
       "\n",
       "    .dataframe tbody tr th {\n",
       "        vertical-align: top;\n",
       "    }\n",
       "\n",
       "    .dataframe thead th {\n",
       "        text-align: right;\n",
       "    }\n",
       "</style>\n",
       "<table border=\"1\" class=\"dataframe\">\n",
       "  <thead>\n",
       "    <tr style=\"text-align: right;\">\n",
       "      <th></th>\n",
       "      <th>이름</th>\n",
       "      <th>성별</th>\n",
       "    </tr>\n",
       "  </thead>\n",
       "  <tbody>\n",
       "    <tr>\n",
       "      <th>0</th>\n",
       "      <td>김담향</td>\n",
       "      <td>여자</td>\n",
       "    </tr>\n",
       "    <tr>\n",
       "      <th>3</th>\n",
       "      <td>김건우</td>\n",
       "      <td>남자</td>\n",
       "    </tr>\n",
       "  </tbody>\n",
       "</table>\n",
       "</div>"
      ],
      "text/plain": [
       "    이름  성별\n",
       "0  김담향  여자\n",
       "3  김건우  남자"
      ]
     },
     "execution_count": 215,
     "metadata": {},
     "output_type": "execute_result"
    }
   ],
   "source": [
    "test.loc[(test.나이 >= 28) & (test.이름.str.slice(0,1) == '김'),[\"이름\",\"성별\"]]\n",
    "test.iloc[arr,[0,4]]"
   ]
  },
  {
   "cell_type": "code",
   "execution_count": 218,
   "id": "2c00e8f0-71a7-477d-b5ae-ca053a90179b",
   "metadata": {
    "tags": []
   },
   "outputs": [],
   "source": [
    "test1 = pd.DataFrame(\n",
    "    {\n",
    "        '이름':['명하영','조가영','강다솜'],\n",
    "        '나이':[27,28,27],\n",
    "        '박물관방문':[8,9,np.nan],\n",
    "    }\n",
    ")"
   ]
  },
  {
   "cell_type": "code",
   "execution_count": 221,
   "id": "e0ec40ce-ab6f-4113-9074-79dd91ebd78e",
   "metadata": {
    "tags": []
   },
   "outputs": [],
   "source": [
    "test = pd.concat([test,test1])"
   ]
  },
  {
   "cell_type": "code",
   "execution_count": 224,
   "id": "88c0f2e6-2097-4729-932c-dd17144e011b",
   "metadata": {
    "tags": []
   },
   "outputs": [
    {
     "name": "stdout",
     "output_type": "stream",
     "text": [
      "<class 'pandas.core.frame.DataFrame'>\n",
      "Int64Index: 9 entries, 0 to 2\n",
      "Data columns (total 5 columns):\n",
      " #   Column  Non-Null Count  Dtype  \n",
      "---  ------  --------------  -----  \n",
      " 0   이름      9 non-null      object \n",
      " 1   나이      9 non-null      int64  \n",
      " 2   박물관방문   8 non-null      float64\n",
      " 3   방문회수비율  6 non-null      float64\n",
      " 4   성별      6 non-null      object \n",
      "dtypes: float64(2), int64(1), object(2)\n",
      "memory usage: 432.0+ bytes\n"
     ]
    }
   ],
   "source": [
    "test.info()"
   ]
  },
  {
   "cell_type": "code",
   "execution_count": 226,
   "id": "38589633-0991-4f3a-983f-c33b58c489a7",
   "metadata": {
    "tags": []
   },
   "outputs": [
    {
     "data": {
      "text/plain": [
       "0    False\n",
       "1    False\n",
       "2    False\n",
       "3    False\n",
       "4    False\n",
       "5    False\n",
       "0    False\n",
       "1    False\n",
       "2     True\n",
       "Name: 박물관방문, dtype: bool"
      ]
     },
     "execution_count": 226,
     "metadata": {},
     "output_type": "execute_result"
    }
   ],
   "source": [
    "test.박물관방문.isna()"
   ]
  },
  {
   "cell_type": "code",
   "execution_count": 227,
   "id": "397cc8aa-95a6-45ff-8e81-cd0437846042",
   "metadata": {
    "tags": []
   },
   "outputs": [
    {
     "data": {
      "text/plain": [
       "2   NaN\n",
       "Name: 박물관방문, dtype: float64"
      ]
     },
     "execution_count": 227,
     "metadata": {},
     "output_type": "execute_result"
    }
   ],
   "source": [
    "test.loc[test.박물관방문.isna(),\"박물관방문\"]"
   ]
  },
  {
   "cell_type": "code",
   "execution_count": 230,
   "id": "3a744aa8-2b54-483b-b711-eeb1b7a3aa1e",
   "metadata": {
    "tags": []
   },
   "outputs": [
    {
     "data": {
      "text/plain": [
       "8.625"
      ]
     },
     "execution_count": 230,
     "metadata": {},
     "output_type": "execute_result"
    }
   ],
   "source": [
    "test.박물관방문.mean()"
   ]
  },
  {
   "cell_type": "code",
   "execution_count": 232,
   "id": "0c342ae4-866b-4ac1-8458-44ec15b7a257",
   "metadata": {
    "tags": []
   },
   "outputs": [
    {
     "data": {
      "text/html": [
       "<div>\n",
       "<style scoped>\n",
       "    .dataframe tbody tr th:only-of-type {\n",
       "        vertical-align: middle;\n",
       "    }\n",
       "\n",
       "    .dataframe tbody tr th {\n",
       "        vertical-align: top;\n",
       "    }\n",
       "\n",
       "    .dataframe thead th {\n",
       "        text-align: right;\n",
       "    }\n",
       "</style>\n",
       "<table border=\"1\" class=\"dataframe\">\n",
       "  <thead>\n",
       "    <tr style=\"text-align: right;\">\n",
       "      <th></th>\n",
       "      <th>이름</th>\n",
       "      <th>나이</th>\n",
       "      <th>박물관방문</th>\n",
       "      <th>방문회수비율</th>\n",
       "      <th>성별</th>\n",
       "    </tr>\n",
       "  </thead>\n",
       "  <tbody>\n",
       "    <tr>\n",
       "      <th>0</th>\n",
       "      <td>김담향</td>\n",
       "      <td>33</td>\n",
       "      <td>5.000</td>\n",
       "      <td>0.150000</td>\n",
       "      <td>여자</td>\n",
       "    </tr>\n",
       "    <tr>\n",
       "      <th>1</th>\n",
       "      <td>이재빈</td>\n",
       "      <td>25</td>\n",
       "      <td>1.000</td>\n",
       "      <td>0.400000</td>\n",
       "      <td>남자</td>\n",
       "    </tr>\n",
       "    <tr>\n",
       "      <th>2</th>\n",
       "      <td>김나영</td>\n",
       "      <td>26</td>\n",
       "      <td>4.000</td>\n",
       "      <td>0.150000</td>\n",
       "      <td>여자</td>\n",
       "    </tr>\n",
       "    <tr>\n",
       "      <th>3</th>\n",
       "      <td>김건우</td>\n",
       "      <td>28</td>\n",
       "      <td>1.000</td>\n",
       "      <td>0.357143</td>\n",
       "      <td>남자</td>\n",
       "    </tr>\n",
       "    <tr>\n",
       "      <th>4</th>\n",
       "      <td>김태영</td>\n",
       "      <td>26</td>\n",
       "      <td>20.000</td>\n",
       "      <td>0.769231</td>\n",
       "      <td>남자</td>\n",
       "    </tr>\n",
       "    <tr>\n",
       "      <th>5</th>\n",
       "      <td>김동일</td>\n",
       "      <td>26</td>\n",
       "      <td>21.000</td>\n",
       "      <td>0.807692</td>\n",
       "      <td>남자</td>\n",
       "    </tr>\n",
       "    <tr>\n",
       "      <th>0</th>\n",
       "      <td>명하영</td>\n",
       "      <td>27</td>\n",
       "      <td>8.000</td>\n",
       "      <td>NaN</td>\n",
       "      <td>NaN</td>\n",
       "    </tr>\n",
       "    <tr>\n",
       "      <th>1</th>\n",
       "      <td>조가영</td>\n",
       "      <td>28</td>\n",
       "      <td>9.000</td>\n",
       "      <td>NaN</td>\n",
       "      <td>NaN</td>\n",
       "    </tr>\n",
       "    <tr>\n",
       "      <th>2</th>\n",
       "      <td>강다솜</td>\n",
       "      <td>27</td>\n",
       "      <td>8.625</td>\n",
       "      <td>NaN</td>\n",
       "      <td>NaN</td>\n",
       "    </tr>\n",
       "  </tbody>\n",
       "</table>\n",
       "</div>"
      ],
      "text/plain": [
       "    이름  나이   박물관방문    방문회수비율   성별\n",
       "0  김담향  33   5.000  0.150000   여자\n",
       "1  이재빈  25   1.000  0.400000   남자\n",
       "2  김나영  26   4.000  0.150000   여자\n",
       "3  김건우  28   1.000  0.357143   남자\n",
       "4  김태영  26  20.000  0.769231   남자\n",
       "5  김동일  26  21.000  0.807692   남자\n",
       "0  명하영  27   8.000       NaN  NaN\n",
       "1  조가영  28   9.000       NaN  NaN\n",
       "2  강다솜  27   8.625       NaN  NaN"
      ]
     },
     "execution_count": 232,
     "metadata": {},
     "output_type": "execute_result"
    }
   ],
   "source": [
    "test.박물관방문.fillna(test.박물관방문.mean(),inplace=True)\n",
    "test"
   ]
  },
  {
   "cell_type": "code",
   "execution_count": 1,
   "id": "bff9c85d-e1b4-4bb3-b698-e33f89366eb7",
   "metadata": {
    "tags": []
   },
   "outputs": [
    {
     "ename": "NameError",
     "evalue": "name 'test' is not defined",
     "output_type": "error",
     "traceback": [
      "\u001b[1;31m---------------------------------------------------------------------------\u001b[0m",
      "\u001b[1;31mNameError\u001b[0m                                 Traceback (most recent call last)",
      "Cell \u001b[1;32mIn[1], line 1\u001b[0m\n\u001b[1;32m----> 1\u001b[0m \u001b[43mtest\u001b[49m\n",
      "\u001b[1;31mNameError\u001b[0m: name 'test' is not defined"
     ]
    }
   ],
   "source": [
    "test.iloc[test.방문회수비율.isna().values,3] = test.iloc[test.방문회수비율.isna().values,2] /  test.iloc[test.방문회수비율.isna().values,1]"
   ]
  },
  {
   "cell_type": "code",
   "execution_count": 236,
   "id": "1b095ca0-07ea-48c3-ba9b-990e507b9b60",
   "metadata": {
    "tags": []
   },
   "outputs": [],
   "source": [
    "test.iloc[test.방문회수비율.isna().values,3] = \\\n",
    "test.iloc[test.방문회수비율.isna().values,2] / \\\n",
    "test.iloc[test.방문회수비율.isna().values,1] "
   ]
  },
  {
   "cell_type": "code",
   "execution_count": 245,
   "id": "b1273634-9137-4848-92d1-359f4526e28d",
   "metadata": {
    "tags": []
   },
   "outputs": [],
   "source": [
    "test.박물관방문 = test.박물관방문.astype(int)"
   ]
  },
  {
   "cell_type": "code",
   "execution_count": 283,
   "id": "ffe4a515-531e-447e-8245-7788a7f8374f",
   "metadata": {
    "tags": []
   },
   "outputs": [],
   "source": [
    "tmp = pd.DataFrame(np.vstack([test.values,np.array(['이강욱',43,100,100/43,'남자'])]))"
   ]
  },
  {
   "cell_type": "code",
   "execution_count": 264,
   "id": "dc728ec9-f03d-414c-befd-c19af530c52f",
   "metadata": {
    "tags": []
   },
   "outputs": [
    {
     "data": {
      "text/plain": [
       "dtype('<U32')"
      ]
     },
     "execution_count": 264,
     "metadata": {},
     "output_type": "execute_result"
    }
   ],
   "source": [
    "np.array(['이강욱',43,100,100/43,'남자']).dtype"
   ]
  },
  {
   "cell_type": "code",
   "execution_count": 284,
   "id": "57e6970f-b44f-42b8-a0cb-f40dc130ee5b",
   "metadata": {
    "tags": []
   },
   "outputs": [
    {
     "data": {
      "text/html": [
       "<div>\n",
       "<style scoped>\n",
       "    .dataframe tbody tr th:only-of-type {\n",
       "        vertical-align: middle;\n",
       "    }\n",
       "\n",
       "    .dataframe tbody tr th {\n",
       "        vertical-align: top;\n",
       "    }\n",
       "\n",
       "    .dataframe thead th {\n",
       "        text-align: right;\n",
       "    }\n",
       "</style>\n",
       "<table border=\"1\" class=\"dataframe\">\n",
       "  <thead>\n",
       "    <tr style=\"text-align: right;\">\n",
       "      <th></th>\n",
       "      <th>이름</th>\n",
       "      <th>나이</th>\n",
       "      <th>박물관방문</th>\n",
       "      <th>방문회수비율</th>\n",
       "      <th>성별</th>\n",
       "    </tr>\n",
       "  </thead>\n",
       "  <tbody>\n",
       "    <tr>\n",
       "      <th>0</th>\n",
       "      <td>김담향</td>\n",
       "      <td>33</td>\n",
       "      <td>5</td>\n",
       "      <td>0.15</td>\n",
       "      <td>여자</td>\n",
       "    </tr>\n",
       "    <tr>\n",
       "      <th>1</th>\n",
       "      <td>이재빈</td>\n",
       "      <td>25</td>\n",
       "      <td>1</td>\n",
       "      <td>0.4</td>\n",
       "      <td>남자</td>\n",
       "    </tr>\n",
       "    <tr>\n",
       "      <th>2</th>\n",
       "      <td>김나영</td>\n",
       "      <td>26</td>\n",
       "      <td>4</td>\n",
       "      <td>0.15</td>\n",
       "      <td>여자</td>\n",
       "    </tr>\n",
       "    <tr>\n",
       "      <th>3</th>\n",
       "      <td>김건우</td>\n",
       "      <td>28</td>\n",
       "      <td>1</td>\n",
       "      <td>0.357143</td>\n",
       "      <td>남자</td>\n",
       "    </tr>\n",
       "    <tr>\n",
       "      <th>4</th>\n",
       "      <td>김태영</td>\n",
       "      <td>26</td>\n",
       "      <td>20</td>\n",
       "      <td>0.769231</td>\n",
       "      <td>남자</td>\n",
       "    </tr>\n",
       "    <tr>\n",
       "      <th>5</th>\n",
       "      <td>김동일</td>\n",
       "      <td>26</td>\n",
       "      <td>21</td>\n",
       "      <td>0.807692</td>\n",
       "      <td>남자</td>\n",
       "    </tr>\n",
       "    <tr>\n",
       "      <th>6</th>\n",
       "      <td>명하영</td>\n",
       "      <td>27</td>\n",
       "      <td>8</td>\n",
       "      <td>0.296296</td>\n",
       "      <td>여자</td>\n",
       "    </tr>\n",
       "    <tr>\n",
       "      <th>7</th>\n",
       "      <td>조가영</td>\n",
       "      <td>28</td>\n",
       "      <td>9</td>\n",
       "      <td>0.321429</td>\n",
       "      <td>여자</td>\n",
       "    </tr>\n",
       "    <tr>\n",
       "      <th>8</th>\n",
       "      <td>강다솜</td>\n",
       "      <td>27</td>\n",
       "      <td>8</td>\n",
       "      <td>0.319444</td>\n",
       "      <td>여자</td>\n",
       "    </tr>\n",
       "    <tr>\n",
       "      <th>9</th>\n",
       "      <td>이강욱</td>\n",
       "      <td>43</td>\n",
       "      <td>100</td>\n",
       "      <td>2.3255813953488373</td>\n",
       "      <td>남자</td>\n",
       "    </tr>\n",
       "  </tbody>\n",
       "</table>\n",
       "</div>"
      ],
      "text/plain": [
       "    이름  나이 박물관방문              방문회수비율  성별\n",
       "0  김담향  33     5                0.15  여자\n",
       "1  이재빈  25     1                 0.4  남자\n",
       "2  김나영  26     4                0.15  여자\n",
       "3  김건우  28     1            0.357143  남자\n",
       "4  김태영  26    20            0.769231  남자\n",
       "5  김동일  26    21            0.807692  남자\n",
       "6  명하영  27     8            0.296296  여자\n",
       "7  조가영  28     9            0.321429  여자\n",
       "8  강다솜  27     8            0.319444  여자\n",
       "9  이강욱  43   100  2.3255813953488373  남자"
      ]
     },
     "execution_count": 284,
     "metadata": {},
     "output_type": "execute_result"
    }
   ],
   "source": [
    "tmp.columns = test.columns\n",
    "tmp"
   ]
  },
  {
   "cell_type": "code",
   "execution_count": 319,
   "id": "a8dd09f5-c549-4755-b642-bc9c4d365db3",
   "metadata": {
    "tags": []
   },
   "outputs": [
    {
     "data": {
      "text/plain": [
       "'김담향3350.15여자'"
      ]
     },
     "execution_count": 319,
     "metadata": {},
     "output_type": "execute_result"
    }
   ],
   "source": [
    "def mk_str(x):\n",
    "    r = ''\n",
    "    for i in x:\n",
    "        r += str(i)\n",
    "    return r\n",
    "mk_str(tmp.iloc[0,:])"
   ]
  },
  {
   "cell_type": "code",
   "execution_count": 309,
   "id": "4435c173-41a6-4808-bc99-309f6ea38d30",
   "metadata": {
    "tags": []
   },
   "outputs": [
    {
     "data": {
      "text/html": [
       "<div>\n",
       "<style scoped>\n",
       "    .dataframe tbody tr th:only-of-type {\n",
       "        vertical-align: middle;\n",
       "    }\n",
       "\n",
       "    .dataframe tbody tr th {\n",
       "        vertical-align: top;\n",
       "    }\n",
       "\n",
       "    .dataframe thead th {\n",
       "        text-align: right;\n",
       "    }\n",
       "</style>\n",
       "<table border=\"1\" class=\"dataframe\">\n",
       "  <thead>\n",
       "    <tr style=\"text-align: right;\">\n",
       "      <th></th>\n",
       "      <th>이름</th>\n",
       "      <th>나이</th>\n",
       "      <th>박물관방문</th>\n",
       "      <th>방문회수비율</th>\n",
       "      <th>성별</th>\n",
       "    </tr>\n",
       "  </thead>\n",
       "  <tbody>\n",
       "    <tr>\n",
       "      <th>0</th>\n",
       "      <td>김담향</td>\n",
       "      <td>33</td>\n",
       "      <td>5</td>\n",
       "      <td>0.150000</td>\n",
       "      <td>여자</td>\n",
       "    </tr>\n",
       "    <tr>\n",
       "      <th>1</th>\n",
       "      <td>이재빈</td>\n",
       "      <td>25</td>\n",
       "      <td>1</td>\n",
       "      <td>0.400000</td>\n",
       "      <td>남자</td>\n",
       "    </tr>\n",
       "    <tr>\n",
       "      <th>2</th>\n",
       "      <td>김나영</td>\n",
       "      <td>26</td>\n",
       "      <td>4</td>\n",
       "      <td>0.150000</td>\n",
       "      <td>여자</td>\n",
       "    </tr>\n",
       "    <tr>\n",
       "      <th>3</th>\n",
       "      <td>김건우</td>\n",
       "      <td>28</td>\n",
       "      <td>1</td>\n",
       "      <td>0.357143</td>\n",
       "      <td>남자</td>\n",
       "    </tr>\n",
       "    <tr>\n",
       "      <th>4</th>\n",
       "      <td>김태영</td>\n",
       "      <td>26</td>\n",
       "      <td>20</td>\n",
       "      <td>0.769231</td>\n",
       "      <td>남자</td>\n",
       "    </tr>\n",
       "    <tr>\n",
       "      <th>5</th>\n",
       "      <td>김동일</td>\n",
       "      <td>26</td>\n",
       "      <td>21</td>\n",
       "      <td>0.807692</td>\n",
       "      <td>남자</td>\n",
       "    </tr>\n",
       "    <tr>\n",
       "      <th>6</th>\n",
       "      <td>명하영</td>\n",
       "      <td>27</td>\n",
       "      <td>8</td>\n",
       "      <td>0.296296</td>\n",
       "      <td>여자</td>\n",
       "    </tr>\n",
       "    <tr>\n",
       "      <th>7</th>\n",
       "      <td>조가영</td>\n",
       "      <td>28</td>\n",
       "      <td>9</td>\n",
       "      <td>0.321429</td>\n",
       "      <td>여자</td>\n",
       "    </tr>\n",
       "    <tr>\n",
       "      <th>8</th>\n",
       "      <td>강다솜</td>\n",
       "      <td>27</td>\n",
       "      <td>8</td>\n",
       "      <td>0.319444</td>\n",
       "      <td>여자</td>\n",
       "    </tr>\n",
       "    <tr>\n",
       "      <th>9</th>\n",
       "      <td>이강욱</td>\n",
       "      <td>43</td>\n",
       "      <td>100</td>\n",
       "      <td>2.325581</td>\n",
       "      <td>남자</td>\n",
       "    </tr>\n",
       "    <tr>\n",
       "      <th>0</th>\n",
       "      <td>김담향</td>\n",
       "      <td>33</td>\n",
       "      <td>5</td>\n",
       "      <td>0.150000</td>\n",
       "      <td>여자</td>\n",
       "    </tr>\n",
       "    <tr>\n",
       "      <th>3</th>\n",
       "      <td>김건우</td>\n",
       "      <td>28</td>\n",
       "      <td>1</td>\n",
       "      <td>0.357143</td>\n",
       "      <td>남자</td>\n",
       "    </tr>\n",
       "    <tr>\n",
       "      <th>7</th>\n",
       "      <td>조가영</td>\n",
       "      <td>28</td>\n",
       "      <td>9</td>\n",
       "      <td>0.321429</td>\n",
       "      <td>여자</td>\n",
       "    </tr>\n",
       "  </tbody>\n",
       "</table>\n",
       "</div>"
      ],
      "text/plain": [
       "    이름  나이  박물관방문    방문회수비율  성별\n",
       "0  김담향  33      5  0.150000  여자\n",
       "1  이재빈  25      1  0.400000  남자\n",
       "2  김나영  26      4  0.150000  여자\n",
       "3  김건우  28      1  0.357143  남자\n",
       "4  김태영  26     20  0.769231  남자\n",
       "5  김동일  26     21  0.807692  남자\n",
       "6  명하영  27      8  0.296296  여자\n",
       "7  조가영  28      9  0.321429  여자\n",
       "8  강다솜  27      8  0.319444  여자\n",
       "9  이강욱  43    100  2.325581  남자\n",
       "0  김담향  33      5  0.150000  여자\n",
       "3  김건우  28      1  0.357143  남자\n",
       "7  조가영  28      9  0.321429  여자"
      ]
     },
     "execution_count": 309,
     "metadata": {},
     "output_type": "execute_result"
    }
   ],
   "source": [
    "tmp = pd.concat([tmp,tmp.iloc[[0,3,7],:]])\n",
    "tmp"
   ]
  },
  {
   "cell_type": "code",
   "execution_count": 267,
   "id": "90b1e596-5986-42fc-95a6-79837e33a5a8",
   "metadata": {
    "tags": []
   },
   "outputs": [],
   "source": [
    "tmp.나이 = tmp.나이.astype('object')"
   ]
  },
  {
   "cell_type": "code",
   "execution_count": 278,
   "id": "b4e0172c-2d0d-4c3c-99bb-842652f89a75",
   "metadata": {
    "tags": []
   },
   "outputs": [
    {
     "name": "stdout",
     "output_type": "stream",
     "text": [
      "무슨문장야?\n"
     ]
    }
   ],
   "source": [
    "aljjlkfalkjdfa = 10\n",
    "try:\n",
    "    print(aljjlkfal3343kjdfa)\n",
    "except:\n",
    "    print('무슨문장야?')"
   ]
  },
  {
   "cell_type": "code",
   "execution_count": 285,
   "id": "fe8b221c-a3a9-44f6-b1a3-106c02783ab7",
   "metadata": {
    "tags": []
   },
   "outputs": [
    {
     "data": {
      "text/plain": [
       "이름        object\n",
       "나이        object\n",
       "박물관방문     object\n",
       "방문회수비율    object\n",
       "성별        object\n",
       "dtype: object"
      ]
     },
     "execution_count": 285,
     "metadata": {},
     "output_type": "execute_result"
    }
   ],
   "source": [
    "tmp.dtypes"
   ]
  },
  {
   "cell_type": "code",
   "execution_count": 286,
   "id": "c90e724d-9283-4d7f-8550-24d3ec33696a",
   "metadata": {
    "tags": []
   },
   "outputs": [],
   "source": [
    "for col in tmp.columns:\n",
    "    try:\n",
    "        tmp[col] = tmp[col].astype(int)\n",
    "    except:\n",
    "        try:\n",
    "            tmp[col] = tmp[col].astype(float)\n",
    "        except:\n",
    "            pass"
   ]
  },
  {
   "cell_type": "code",
   "execution_count": 307,
   "id": "41718c7f-f773-4f47-9169-7f3a9c2e5fab",
   "metadata": {
    "tags": []
   },
   "outputs": [
    {
     "data": {
      "text/plain": [
       "26.75"
      ]
     },
     "execution_count": 307,
     "metadata": {},
     "output_type": "execute_result"
    }
   ],
   "source": [
    "tmp.loc[~tmp.이름.str.contains('김') & ~(tmp.이름=='이강욱'),'나이'].mean()"
   ]
  },
  {
   "cell_type": "code",
   "execution_count": 293,
   "id": "0f47cf34-cc8e-4f1a-b6f2-a05cb092cf61",
   "metadata": {
    "tags": []
   },
   "outputs": [
    {
     "data": {
      "text/plain": [
       "0    김\n",
       "1    이\n",
       "2    김\n",
       "3    김\n",
       "4    김\n",
       "5    김\n",
       "6    명\n",
       "7    조\n",
       "8    강\n",
       "9    이\n",
       "Name: 이름, dtype: object"
      ]
     },
     "execution_count": 293,
     "metadata": {},
     "output_type": "execute_result"
    }
   ],
   "source": [
    "tmp.이름.str[0:1]"
   ]
  },
  {
   "cell_type": "code",
   "execution_count": 256,
   "id": "968c62d5-7df8-4bd1-8535-a224c89aaddb",
   "metadata": {
    "collapsed": true,
    "jupyter": {
     "outputs_hidden": true
    },
    "tags": []
   },
   "outputs": [
    {
     "data": {
      "text/html": [
       "<div>\n",
       "<style scoped>\n",
       "    .dataframe tbody tr th:only-of-type {\n",
       "        vertical-align: middle;\n",
       "    }\n",
       "\n",
       "    .dataframe tbody tr th {\n",
       "        vertical-align: top;\n",
       "    }\n",
       "\n",
       "    .dataframe thead th {\n",
       "        text-align: right;\n",
       "    }\n",
       "</style>\n",
       "<table border=\"1\" class=\"dataframe\">\n",
       "  <thead>\n",
       "    <tr style=\"text-align: right;\">\n",
       "      <th></th>\n",
       "      <th>이름</th>\n",
       "      <th>나이</th>\n",
       "      <th>박물관방문</th>\n",
       "      <th>방문회수비율</th>\n",
       "      <th>성별</th>\n",
       "    </tr>\n",
       "  </thead>\n",
       "  <tbody>\n",
       "    <tr>\n",
       "      <th>0</th>\n",
       "      <td>김담향</td>\n",
       "      <td>33</td>\n",
       "      <td>5</td>\n",
       "      <td>0.15</td>\n",
       "      <td>여자</td>\n",
       "    </tr>\n",
       "    <tr>\n",
       "      <th>1</th>\n",
       "      <td>이재빈</td>\n",
       "      <td>25</td>\n",
       "      <td>1</td>\n",
       "      <td>0.4</td>\n",
       "      <td>남자</td>\n",
       "    </tr>\n",
       "    <tr>\n",
       "      <th>2</th>\n",
       "      <td>김나영</td>\n",
       "      <td>26</td>\n",
       "      <td>4</td>\n",
       "      <td>0.15</td>\n",
       "      <td>여자</td>\n",
       "    </tr>\n",
       "    <tr>\n",
       "      <th>3</th>\n",
       "      <td>김건우</td>\n",
       "      <td>28</td>\n",
       "      <td>1</td>\n",
       "      <td>0.357143</td>\n",
       "      <td>남자</td>\n",
       "    </tr>\n",
       "    <tr>\n",
       "      <th>4</th>\n",
       "      <td>김태영</td>\n",
       "      <td>26</td>\n",
       "      <td>20</td>\n",
       "      <td>0.769231</td>\n",
       "      <td>남자</td>\n",
       "    </tr>\n",
       "    <tr>\n",
       "      <th>5</th>\n",
       "      <td>김동일</td>\n",
       "      <td>26</td>\n",
       "      <td>21</td>\n",
       "      <td>0.807692</td>\n",
       "      <td>남자</td>\n",
       "    </tr>\n",
       "    <tr>\n",
       "      <th>6</th>\n",
       "      <td>명하영</td>\n",
       "      <td>27</td>\n",
       "      <td>8</td>\n",
       "      <td>0.296296</td>\n",
       "      <td>여자</td>\n",
       "    </tr>\n",
       "    <tr>\n",
       "      <th>7</th>\n",
       "      <td>조가영</td>\n",
       "      <td>28</td>\n",
       "      <td>9</td>\n",
       "      <td>0.321429</td>\n",
       "      <td>여자</td>\n",
       "    </tr>\n",
       "    <tr>\n",
       "      <th>8</th>\n",
       "      <td>강다솜</td>\n",
       "      <td>27</td>\n",
       "      <td>8</td>\n",
       "      <td>0.319444</td>\n",
       "      <td>여자</td>\n",
       "    </tr>\n",
       "  </tbody>\n",
       "</table>\n",
       "</div>"
      ],
      "text/plain": [
       "    이름  나이 박물관방문    방문회수비율  성별\n",
       "0  김담향  33     5      0.15  여자\n",
       "1  이재빈  25     1       0.4  남자\n",
       "2  김나영  26     4      0.15  여자\n",
       "3  김건우  28     1  0.357143  남자\n",
       "4  김태영  26    20  0.769231  남자\n",
       "5  김동일  26    21  0.807692  남자\n",
       "6  명하영  27     8  0.296296  여자\n",
       "7  조가영  28     9  0.321429  여자\n",
       "8  강다솜  27     8  0.319444  여자"
      ]
     },
     "execution_count": 256,
     "metadata": {},
     "output_type": "execute_result"
    }
   ],
   "source": [
    "tmp.loc[tmp.이름!='이강욱',:]"
   ]
  },
  {
   "cell_type": "code",
   "execution_count": 261,
   "id": "d91fce27-251e-4969-8c9e-f0b675212118",
   "metadata": {
    "tags": []
   },
   "outputs": [
    {
     "data": {
      "text/plain": [
       "이름        object\n",
       "나이        object\n",
       "박물관방문     object\n",
       "방문회수비율    object\n",
       "성별        object\n",
       "dtype: object"
      ]
     },
     "execution_count": 261,
     "metadata": {},
     "output_type": "execute_result"
    }
   ],
   "source": [
    "tmp.dtypes"
   ]
  },
  {
   "cell_type": "code",
   "execution_count": 240,
   "id": "0d6155d1-c958-4c26-879d-e821077ef5aa",
   "metadata": {
    "tags": []
   },
   "outputs": [
    {
     "data": {
      "text/html": [
       "<div>\n",
       "<style scoped>\n",
       "    .dataframe tbody tr th:only-of-type {\n",
       "        vertical-align: middle;\n",
       "    }\n",
       "\n",
       "    .dataframe tbody tr th {\n",
       "        vertical-align: top;\n",
       "    }\n",
       "\n",
       "    .dataframe thead th {\n",
       "        text-align: right;\n",
       "    }\n",
       "</style>\n",
       "<table border=\"1\" class=\"dataframe\">\n",
       "  <thead>\n",
       "    <tr style=\"text-align: right;\">\n",
       "      <th></th>\n",
       "      <th>이름</th>\n",
       "      <th>나이</th>\n",
       "      <th>박물관방문</th>\n",
       "      <th>방문회수비율</th>\n",
       "      <th>성별</th>\n",
       "    </tr>\n",
       "  </thead>\n",
       "  <tbody>\n",
       "    <tr>\n",
       "      <th>0</th>\n",
       "      <td>김담향</td>\n",
       "      <td>33</td>\n",
       "      <td>5.000</td>\n",
       "      <td>0.150000</td>\n",
       "      <td>여자</td>\n",
       "    </tr>\n",
       "    <tr>\n",
       "      <th>1</th>\n",
       "      <td>이재빈</td>\n",
       "      <td>25</td>\n",
       "      <td>1.000</td>\n",
       "      <td>0.400000</td>\n",
       "      <td>남자</td>\n",
       "    </tr>\n",
       "    <tr>\n",
       "      <th>2</th>\n",
       "      <td>김나영</td>\n",
       "      <td>26</td>\n",
       "      <td>4.000</td>\n",
       "      <td>0.150000</td>\n",
       "      <td>여자</td>\n",
       "    </tr>\n",
       "    <tr>\n",
       "      <th>3</th>\n",
       "      <td>김건우</td>\n",
       "      <td>28</td>\n",
       "      <td>1.000</td>\n",
       "      <td>0.357143</td>\n",
       "      <td>남자</td>\n",
       "    </tr>\n",
       "    <tr>\n",
       "      <th>4</th>\n",
       "      <td>김태영</td>\n",
       "      <td>26</td>\n",
       "      <td>20.000</td>\n",
       "      <td>0.769231</td>\n",
       "      <td>남자</td>\n",
       "    </tr>\n",
       "    <tr>\n",
       "      <th>5</th>\n",
       "      <td>김동일</td>\n",
       "      <td>26</td>\n",
       "      <td>21.000</td>\n",
       "      <td>0.807692</td>\n",
       "      <td>남자</td>\n",
       "    </tr>\n",
       "    <tr>\n",
       "      <th>0</th>\n",
       "      <td>명하영</td>\n",
       "      <td>27</td>\n",
       "      <td>8.000</td>\n",
       "      <td>0.296296</td>\n",
       "      <td>여자</td>\n",
       "    </tr>\n",
       "    <tr>\n",
       "      <th>1</th>\n",
       "      <td>조가영</td>\n",
       "      <td>28</td>\n",
       "      <td>9.000</td>\n",
       "      <td>0.321429</td>\n",
       "      <td>여자</td>\n",
       "    </tr>\n",
       "    <tr>\n",
       "      <th>2</th>\n",
       "      <td>강다솜</td>\n",
       "      <td>27</td>\n",
       "      <td>8.625</td>\n",
       "      <td>0.319444</td>\n",
       "      <td>여자</td>\n",
       "    </tr>\n",
       "  </tbody>\n",
       "</table>\n",
       "</div>"
      ],
      "text/plain": [
       "    이름  나이   박물관방문    방문회수비율  성별\n",
       "0  김담향  33   5.000  0.150000  여자\n",
       "1  이재빈  25   1.000  0.400000  남자\n",
       "2  김나영  26   4.000  0.150000  여자\n",
       "3  김건우  28   1.000  0.357143  남자\n",
       "4  김태영  26  20.000  0.769231  남자\n",
       "5  김동일  26  21.000  0.807692  남자\n",
       "0  명하영  27   8.000  0.296296  여자\n",
       "1  조가영  28   9.000  0.321429  여자\n",
       "2  강다솜  27   8.625  0.319444  여자"
      ]
     },
     "execution_count": 240,
     "metadata": {},
     "output_type": "execute_result"
    }
   ],
   "source": [
    "test.loc[test.성별.isna(),'성별'] = '여자'\n",
    "test"
   ]
  },
  {
   "cell_type": "code",
   "execution_count": 191,
   "id": "d8690a31-c2c1-4b82-91ac-935c49e66898",
   "metadata": {
    "tags": []
   },
   "outputs": [
    {
     "data": {
      "text/plain": [
       "0.15"
      ]
     },
     "execution_count": 191,
     "metadata": {},
     "output_type": "execute_result"
    }
   ],
   "source": [
    "test.set_index('이름').loc[\"김담향\",\"방문회수비율\"]"
   ]
  },
  {
   "cell_type": "code",
   "execution_count": 7,
   "id": "7d219b3a-8d42-4460-83ef-6407c46615c2",
   "metadata": {
    "tags": []
   },
   "outputs": [
    {
     "name": "stderr",
     "output_type": "stream",
     "text": [
      "C:\\Users\\user\\AppData\\Local\\Temp\\ipykernel_6148\\369920610.py:1: DtypeWarning: Columns (5,6,9) have mixed types. Specify dtype option on import or set low_memory=False.\n",
      "  df = pd.read_csv('https://bit.ly/3RhoNho')\n"
     ]
    }
   ],
   "source": [
    "df = pd.read_csv('https://bit.ly/3RhoNho')"
   ]
  },
  {
   "cell_type": "code",
   "execution_count": 8,
   "id": "4b212048-7e05-4fbb-9652-48504216ae17",
   "metadata": {
    "collapsed": true,
    "jupyter": {
     "outputs_hidden": true
    },
    "tags": []
   },
   "outputs": [
    {
     "data": {
      "text/html": [
       "<div>\n",
       "<style scoped>\n",
       "    .dataframe tbody tr th:only-of-type {\n",
       "        vertical-align: middle;\n",
       "    }\n",
       "\n",
       "    .dataframe tbody tr th {\n",
       "        vertical-align: top;\n",
       "    }\n",
       "\n",
       "    .dataframe thead th {\n",
       "        text-align: right;\n",
       "    }\n",
       "</style>\n",
       "<table border=\"1\" class=\"dataframe\">\n",
       "  <thead>\n",
       "    <tr style=\"text-align: right;\">\n",
       "      <th></th>\n",
       "      <th>번호</th>\n",
       "      <th>도서명</th>\n",
       "      <th>저자</th>\n",
       "      <th>출판사</th>\n",
       "      <th>발행년도</th>\n",
       "      <th>ISBN</th>\n",
       "      <th>세트 ISBN</th>\n",
       "      <th>부가기호</th>\n",
       "      <th>권</th>\n",
       "      <th>주제분류번호</th>\n",
       "      <th>도서권수</th>\n",
       "      <th>대출건수</th>\n",
       "      <th>등록일자</th>\n",
       "      <th>Unnamed: 13</th>\n",
       "    </tr>\n",
       "  </thead>\n",
       "  <tbody>\n",
       "    <tr>\n",
       "      <th>0</th>\n",
       "      <td>1</td>\n",
       "      <td>인공지능과 흙</td>\n",
       "      <td>김동훈 지음</td>\n",
       "      <td>민음사</td>\n",
       "      <td>2021</td>\n",
       "      <td>9788937444319</td>\n",
       "      <td>NaN</td>\n",
       "      <td>NaN</td>\n",
       "      <td>NaN</td>\n",
       "      <td>NaN</td>\n",
       "      <td>1</td>\n",
       "      <td>0</td>\n",
       "      <td>2021-03-19</td>\n",
       "      <td>NaN</td>\n",
       "    </tr>\n",
       "    <tr>\n",
       "      <th>1</th>\n",
       "      <td>2</td>\n",
       "      <td>가짜 행복 권하는 사회</td>\n",
       "      <td>김태형 지음</td>\n",
       "      <td>갈매나무</td>\n",
       "      <td>2021</td>\n",
       "      <td>9791190123969</td>\n",
       "      <td>NaN</td>\n",
       "      <td>NaN</td>\n",
       "      <td>NaN</td>\n",
       "      <td>NaN</td>\n",
       "      <td>1</td>\n",
       "      <td>0</td>\n",
       "      <td>2021-03-19</td>\n",
       "      <td>NaN</td>\n",
       "    </tr>\n",
       "    <tr>\n",
       "      <th>2</th>\n",
       "      <td>3</td>\n",
       "      <td>나도 한 문장 잘 쓰면 바랄 게 없겠네</td>\n",
       "      <td>김선영 지음</td>\n",
       "      <td>블랙피쉬</td>\n",
       "      <td>2021</td>\n",
       "      <td>9788968332982</td>\n",
       "      <td>NaN</td>\n",
       "      <td>NaN</td>\n",
       "      <td>NaN</td>\n",
       "      <td>NaN</td>\n",
       "      <td>1</td>\n",
       "      <td>0</td>\n",
       "      <td>2021-03-19</td>\n",
       "      <td>NaN</td>\n",
       "    </tr>\n",
       "    <tr>\n",
       "      <th>3</th>\n",
       "      <td>4</td>\n",
       "      <td>예루살렘 해변</td>\n",
       "      <td>이도 게펜 지음, 임재희 옮김</td>\n",
       "      <td>문학세계사</td>\n",
       "      <td>2021</td>\n",
       "      <td>9788970759906</td>\n",
       "      <td>NaN</td>\n",
       "      <td>NaN</td>\n",
       "      <td>NaN</td>\n",
       "      <td>NaN</td>\n",
       "      <td>1</td>\n",
       "      <td>0</td>\n",
       "      <td>2021-03-19</td>\n",
       "      <td>NaN</td>\n",
       "    </tr>\n",
       "    <tr>\n",
       "      <th>4</th>\n",
       "      <td>5</td>\n",
       "      <td>김성곤의 중국한시기행 : 장강·황하 편</td>\n",
       "      <td>김성곤 지음</td>\n",
       "      <td>김영사</td>\n",
       "      <td>2021</td>\n",
       "      <td>9788934990833</td>\n",
       "      <td>NaN</td>\n",
       "      <td>NaN</td>\n",
       "      <td>NaN</td>\n",
       "      <td>NaN</td>\n",
       "      <td>1</td>\n",
       "      <td>0</td>\n",
       "      <td>2021-03-19</td>\n",
       "      <td>NaN</td>\n",
       "    </tr>\n",
       "  </tbody>\n",
       "</table>\n",
       "</div>"
      ],
      "text/plain": [
       "   번호                    도서명                저자    출판사  발행년도           ISBN  \\\n",
       "0   1                인공지능과 흙            김동훈 지음    민음사  2021  9788937444319   \n",
       "1   2           가짜 행복 권하는 사회            김태형 지음   갈매나무  2021  9791190123969   \n",
       "2   3  나도 한 문장 잘 쓰면 바랄 게 없겠네            김선영 지음   블랙피쉬  2021  9788968332982   \n",
       "3   4                예루살렘 해변  이도 게펜 지음, 임재희 옮김  문학세계사  2021  9788970759906   \n",
       "4   5  김성곤의 중국한시기행 : 장강·황하 편            김성곤 지음    김영사  2021  9788934990833   \n",
       "\n",
       "  세트 ISBN 부가기호    권 주제분류번호  도서권수  대출건수        등록일자  Unnamed: 13  \n",
       "0     NaN  NaN  NaN    NaN     1     0  2021-03-19          NaN  \n",
       "1     NaN  NaN  NaN    NaN     1     0  2021-03-19          NaN  \n",
       "2     NaN  NaN  NaN    NaN     1     0  2021-03-19          NaN  \n",
       "3     NaN  NaN  NaN    NaN     1     0  2021-03-19          NaN  \n",
       "4     NaN  NaN  NaN    NaN     1     0  2021-03-19          NaN  "
      ]
     },
     "execution_count": 8,
     "metadata": {},
     "output_type": "execute_result"
    }
   ],
   "source": [
    "df.head()"
   ]
  },
  {
   "cell_type": "code",
   "execution_count": 9,
   "id": "a3841182-1300-407b-bd51-22661502aec7",
   "metadata": {
    "tags": []
   },
   "outputs": [
    {
     "data": {
      "text/plain": [
       "(401682, 14)"
      ]
     },
     "execution_count": 9,
     "metadata": {},
     "output_type": "execute_result"
    }
   ],
   "source": [
    "df.shape"
   ]
  },
  {
   "cell_type": "code",
   "execution_count": 16,
   "id": "dafb9481-8664-4d95-a36e-e78a7b000d9f",
   "metadata": {
    "tags": []
   },
   "outputs": [
    {
     "data": {
      "text/plain": [
       "13"
      ]
     },
     "execution_count": 16,
     "metadata": {},
     "output_type": "execute_result"
    }
   ],
   "source": [
    "len(df.columns)\n",
    "df.shape[1]\n",
    "df.columns.size-1"
   ]
  },
  {
   "cell_type": "code",
   "execution_count": 21,
   "id": "e3d92dbd-f473-4a80-899f-7f91a0d50b90",
   "metadata": {
    "tags": []
   },
   "outputs": [
    {
     "data": {
      "text/plain": [
       "Index(['번호', '도서명', '저자', '출판사', '발행년도', 'ISBN', '세트 ISBN', '부가기호', '권',\n",
       "       '주제분류번호', '도서권수', '대출건수', '등록일자'],\n",
       "      dtype='object')"
      ]
     },
     "execution_count": 21,
     "metadata": {},
     "output_type": "execute_result"
    }
   ],
   "source": [
    "df.columns[:-1]"
   ]
  },
  {
   "cell_type": "code",
   "execution_count": 23,
   "id": "75e0316e-181e-4ea1-8b93-8c08b6f112d6",
   "metadata": {
    "tags": []
   },
   "outputs": [
    {
     "data": {
      "text/plain": [
       "[True,\n",
       " True,\n",
       " True,\n",
       " True,\n",
       " True,\n",
       " True,\n",
       " True,\n",
       " True,\n",
       " True,\n",
       " True,\n",
       " True,\n",
       " True,\n",
       " True,\n",
       " False]"
      ]
     },
     "execution_count": 23,
     "metadata": {},
     "output_type": "execute_result"
    }
   ],
   "source": [
    "[True]*13+[False]"
   ]
  },
  {
   "cell_type": "code",
   "execution_count": 29,
   "id": "3e0a42b5-4e81-4104-8bea-db6128d7c911",
   "metadata": {
    "tags": []
   },
   "outputs": [
    {
     "data": {
      "text/plain": [
       "array([ True,  True,  True,  True,  True,  True,  True,  True,  True,\n",
       "        True,  True,  True,  True, False])"
      ]
     },
     "execution_count": 29,
     "metadata": {},
     "output_type": "execute_result"
    }
   ],
   "source": [
    "~(df.columns==df.columns[-1])"
   ]
  },
  {
   "cell_type": "code",
   "execution_count": 33,
   "id": "8fe3f50f-b0d9-4c09-a970-837bd832565f",
   "metadata": {
    "tags": []
   },
   "outputs": [
    {
     "data": {
      "text/plain": [
       "'Unnamed: 13'"
      ]
     },
     "execution_count": 33,
     "metadata": {},
     "output_type": "execute_result"
    }
   ],
   "source": [
    "df.columns[-1]"
   ]
  },
  {
   "cell_type": "code",
   "execution_count": 39,
   "id": "7f34da01-536e-45d2-bfe8-688892d3e824",
   "metadata": {
    "tags": []
   },
   "outputs": [
    {
     "data": {
      "text/html": [
       "<div>\n",
       "<style scoped>\n",
       "    .dataframe tbody tr th:only-of-type {\n",
       "        vertical-align: middle;\n",
       "    }\n",
       "\n",
       "    .dataframe tbody tr th {\n",
       "        vertical-align: top;\n",
       "    }\n",
       "\n",
       "    .dataframe thead th {\n",
       "        text-align: right;\n",
       "    }\n",
       "</style>\n",
       "<table border=\"1\" class=\"dataframe\">\n",
       "  <thead>\n",
       "    <tr style=\"text-align: right;\">\n",
       "      <th></th>\n",
       "      <th>번호</th>\n",
       "      <th>도서명</th>\n",
       "      <th>저자</th>\n",
       "      <th>출판사</th>\n",
       "      <th>발행년도</th>\n",
       "      <th>ISBN</th>\n",
       "      <th>세트 ISBN</th>\n",
       "      <th>부가기호</th>\n",
       "      <th>권</th>\n",
       "      <th>주제분류번호</th>\n",
       "      <th>도서권수</th>\n",
       "      <th>대출건수</th>\n",
       "      <th>등록일자</th>\n",
       "    </tr>\n",
       "  </thead>\n",
       "  <tbody>\n",
       "    <tr>\n",
       "      <th>0</th>\n",
       "      <td>1</td>\n",
       "      <td>인공지능과 흙</td>\n",
       "      <td>김동훈 지음</td>\n",
       "      <td>민음사</td>\n",
       "      <td>2021</td>\n",
       "      <td>9788937444319</td>\n",
       "      <td>NaN</td>\n",
       "      <td>NaN</td>\n",
       "      <td>NaN</td>\n",
       "      <td>NaN</td>\n",
       "      <td>1</td>\n",
       "      <td>0</td>\n",
       "      <td>2021-03-19</td>\n",
       "    </tr>\n",
       "    <tr>\n",
       "      <th>1</th>\n",
       "      <td>2</td>\n",
       "      <td>가짜 행복 권하는 사회</td>\n",
       "      <td>김태형 지음</td>\n",
       "      <td>갈매나무</td>\n",
       "      <td>2021</td>\n",
       "      <td>9791190123969</td>\n",
       "      <td>NaN</td>\n",
       "      <td>NaN</td>\n",
       "      <td>NaN</td>\n",
       "      <td>NaN</td>\n",
       "      <td>1</td>\n",
       "      <td>0</td>\n",
       "      <td>2021-03-19</td>\n",
       "    </tr>\n",
       "    <tr>\n",
       "      <th>2</th>\n",
       "      <td>3</td>\n",
       "      <td>나도 한 문장 잘 쓰면 바랄 게 없겠네</td>\n",
       "      <td>김선영 지음</td>\n",
       "      <td>블랙피쉬</td>\n",
       "      <td>2021</td>\n",
       "      <td>9788968332982</td>\n",
       "      <td>NaN</td>\n",
       "      <td>NaN</td>\n",
       "      <td>NaN</td>\n",
       "      <td>NaN</td>\n",
       "      <td>1</td>\n",
       "      <td>0</td>\n",
       "      <td>2021-03-19</td>\n",
       "    </tr>\n",
       "    <tr>\n",
       "      <th>3</th>\n",
       "      <td>4</td>\n",
       "      <td>예루살렘 해변</td>\n",
       "      <td>이도 게펜 지음, 임재희 옮김</td>\n",
       "      <td>문학세계사</td>\n",
       "      <td>2021</td>\n",
       "      <td>9788970759906</td>\n",
       "      <td>NaN</td>\n",
       "      <td>NaN</td>\n",
       "      <td>NaN</td>\n",
       "      <td>NaN</td>\n",
       "      <td>1</td>\n",
       "      <td>0</td>\n",
       "      <td>2021-03-19</td>\n",
       "    </tr>\n",
       "    <tr>\n",
       "      <th>4</th>\n",
       "      <td>5</td>\n",
       "      <td>김성곤의 중국한시기행 : 장강·황하 편</td>\n",
       "      <td>김성곤 지음</td>\n",
       "      <td>김영사</td>\n",
       "      <td>2021</td>\n",
       "      <td>9788934990833</td>\n",
       "      <td>NaN</td>\n",
       "      <td>NaN</td>\n",
       "      <td>NaN</td>\n",
       "      <td>NaN</td>\n",
       "      <td>1</td>\n",
       "      <td>0</td>\n",
       "      <td>2021-03-19</td>\n",
       "    </tr>\n",
       "    <tr>\n",
       "      <th>...</th>\n",
       "      <td>...</td>\n",
       "      <td>...</td>\n",
       "      <td>...</td>\n",
       "      <td>...</td>\n",
       "      <td>...</td>\n",
       "      <td>...</td>\n",
       "      <td>...</td>\n",
       "      <td>...</td>\n",
       "      <td>...</td>\n",
       "      <td>...</td>\n",
       "      <td>...</td>\n",
       "      <td>...</td>\n",
       "      <td>...</td>\n",
       "    </tr>\n",
       "    <tr>\n",
       "      <th>401677</th>\n",
       "      <td>401678</td>\n",
       "      <td>韓國現代詩大系</td>\n",
       "      <td>채만묵 編著</td>\n",
       "      <td>한국문화사</td>\n",
       "      <td>1996</td>\n",
       "      <td>9788977352971</td>\n",
       "      <td>9788977352988.0</td>\n",
       "      <td>NaN</td>\n",
       "      <td>3</td>\n",
       "      <td>811.608</td>\n",
       "      <td>1</td>\n",
       "      <td>0</td>\n",
       "      <td>1970-01-01</td>\n",
       "    </tr>\n",
       "    <tr>\n",
       "      <th>401678</th>\n",
       "      <td>401679</td>\n",
       "      <td>뉴 웨이브</td>\n",
       "      <td>제임스 모나코 지음</td>\n",
       "      <td>한나래</td>\n",
       "      <td>1996</td>\n",
       "      <td>9788985367448</td>\n",
       "      <td>9788985367424.0</td>\n",
       "      <td>NaN</td>\n",
       "      <td>2</td>\n",
       "      <td>688.04</td>\n",
       "      <td>1</td>\n",
       "      <td>0</td>\n",
       "      <td>1970-01-01</td>\n",
       "    </tr>\n",
       "    <tr>\n",
       "      <th>401679</th>\n",
       "      <td>401680</td>\n",
       "      <td>(최인훈 장편소설)화두</td>\n",
       "      <td>최인훈 지음</td>\n",
       "      <td>민음사</td>\n",
       "      <td>1994</td>\n",
       "      <td>9788937401596</td>\n",
       "      <td>9788937401589.0</td>\n",
       "      <td>NaN</td>\n",
       "      <td>2</td>\n",
       "      <td>813.6</td>\n",
       "      <td>1</td>\n",
       "      <td>0</td>\n",
       "      <td>1970-01-01</td>\n",
       "    </tr>\n",
       "    <tr>\n",
       "      <th>401680</th>\n",
       "      <td>401681</td>\n",
       "      <td>독일 문학과 세계 문학</td>\n",
       "      <td>吳漢鎭 編著</td>\n",
       "      <td>벽호</td>\n",
       "      <td>1995</td>\n",
       "      <td>9788947700368</td>\n",
       "      <td>9788947700405.0</td>\n",
       "      <td>NaN</td>\n",
       "      <td>3</td>\n",
       "      <td>809.05</td>\n",
       "      <td>2</td>\n",
       "      <td>0</td>\n",
       "      <td>1970-01-01</td>\n",
       "    </tr>\n",
       "    <tr>\n",
       "      <th>401681</th>\n",
       "      <td>401682</td>\n",
       "      <td>참으로 소중한 생각</td>\n",
       "      <td>김일상 지음</td>\n",
       "      <td>동문사</td>\n",
       "      <td>1995</td>\n",
       "      <td>9788970610092</td>\n",
       "      <td>9788970610092.0</td>\n",
       "      <td>0</td>\n",
       "      <td>1</td>\n",
       "      <td>814.6</td>\n",
       "      <td>0</td>\n",
       "      <td>0</td>\n",
       "      <td>1970-01-01</td>\n",
       "    </tr>\n",
       "  </tbody>\n",
       "</table>\n",
       "<p>401682 rows × 13 columns</p>\n",
       "</div>"
      ],
      "text/plain": [
       "            번호                    도서명                저자    출판사  발행년도  \\\n",
       "0            1                인공지능과 흙            김동훈 지음    민음사  2021   \n",
       "1            2           가짜 행복 권하는 사회            김태형 지음   갈매나무  2021   \n",
       "2            3  나도 한 문장 잘 쓰면 바랄 게 없겠네            김선영 지음   블랙피쉬  2021   \n",
       "3            4                예루살렘 해변  이도 게펜 지음, 임재희 옮김  문학세계사  2021   \n",
       "4            5  김성곤의 중국한시기행 : 장강·황하 편            김성곤 지음    김영사  2021   \n",
       "...        ...                    ...               ...    ...   ...   \n",
       "401677  401678                韓國現代詩大系            채만묵 編著  한국문화사  1996   \n",
       "401678  401679                  뉴 웨이브        제임스 모나코 지음    한나래  1996   \n",
       "401679  401680           (최인훈 장편소설)화두            최인훈 지음    민음사  1994   \n",
       "401680  401681           독일 문학과 세계 문학            吳漢鎭 編著     벽호  1995   \n",
       "401681  401682             참으로 소중한 생각            김일상 지음    동문사  1995   \n",
       "\n",
       "                 ISBN          세트 ISBN 부가기호    권   주제분류번호  도서권수  대출건수  \\\n",
       "0       9788937444319              NaN  NaN  NaN      NaN     1     0   \n",
       "1       9791190123969              NaN  NaN  NaN      NaN     1     0   \n",
       "2       9788968332982              NaN  NaN  NaN      NaN     1     0   \n",
       "3       9788970759906              NaN  NaN  NaN      NaN     1     0   \n",
       "4       9788934990833              NaN  NaN  NaN      NaN     1     0   \n",
       "...               ...              ...  ...  ...      ...   ...   ...   \n",
       "401677  9788977352971  9788977352988.0  NaN    3  811.608     1     0   \n",
       "401678  9788985367448  9788985367424.0  NaN    2   688.04     1     0   \n",
       "401679  9788937401596  9788937401589.0  NaN    2    813.6     1     0   \n",
       "401680  9788947700368  9788947700405.0  NaN    3   809.05     2     0   \n",
       "401681  9788970610092  9788970610092.0    0    1    814.6     0     0   \n",
       "\n",
       "              등록일자  \n",
       "0       2021-03-19  \n",
       "1       2021-03-19  \n",
       "2       2021-03-19  \n",
       "3       2021-03-19  \n",
       "4       2021-03-19  \n",
       "...            ...  \n",
       "401677  1970-01-01  \n",
       "401678  1970-01-01  \n",
       "401679  1970-01-01  \n",
       "401680  1970-01-01  \n",
       "401681  1970-01-01  \n",
       "\n",
       "[401682 rows x 13 columns]"
      ]
     },
     "execution_count": 39,
     "metadata": {},
     "output_type": "execute_result"
    }
   ],
   "source": [
    "df.iloc[:,:-1].head()\n",
    "df.iloc[:,:df.columns.size-1]\n",
    "df.loc[:,'번호':'등록일자']\n",
    "df.loc[:,df.columns[:-1]]\n",
    "df.loc[:,[True]*13+[False]]\n",
    "df.iloc[:,np.arange(13)]\n",
    "df.loc[:,~(df.columns==df.columns[-1])]\n",
    "#df = df.loc[:,df.columns != df.columns[-1]]\n",
    "df.drop(columns=['Unnamed: 13'])\n",
    "df.drop(columns=df.columns[-1])\n",
    "#df.drop(['Unnamed: 13'],axis=1,inplace=True)\n"
   ]
  },
  {
   "cell_type": "code",
   "execution_count": 41,
   "id": "7af9b197-c925-42eb-ba94-fdcc535f217c",
   "metadata": {
    "tags": []
   },
   "outputs": [
    {
     "data": {
      "text/html": [
       "<div>\n",
       "<style scoped>\n",
       "    .dataframe tbody tr th:only-of-type {\n",
       "        vertical-align: middle;\n",
       "    }\n",
       "\n",
       "    .dataframe tbody tr th {\n",
       "        vertical-align: top;\n",
       "    }\n",
       "\n",
       "    .dataframe thead th {\n",
       "        text-align: right;\n",
       "    }\n",
       "</style>\n",
       "<table border=\"1\" class=\"dataframe\">\n",
       "  <thead>\n",
       "    <tr style=\"text-align: right;\">\n",
       "      <th></th>\n",
       "      <th>번호</th>\n",
       "      <th>도서명</th>\n",
       "      <th>저자</th>\n",
       "      <th>출판사</th>\n",
       "      <th>발행년도</th>\n",
       "      <th>ISBN</th>\n",
       "      <th>세트 ISBN</th>\n",
       "      <th>부가기호</th>\n",
       "      <th>권</th>\n",
       "      <th>주제분류번호</th>\n",
       "      <th>도서권수</th>\n",
       "      <th>대출건수</th>\n",
       "      <th>등록일자</th>\n",
       "    </tr>\n",
       "  </thead>\n",
       "  <tbody>\n",
       "    <tr>\n",
       "      <th>0</th>\n",
       "      <td>1</td>\n",
       "      <td>인공지능과 흙</td>\n",
       "      <td>김동훈 지음</td>\n",
       "      <td>민음사</td>\n",
       "      <td>2021</td>\n",
       "      <td>9788937444319</td>\n",
       "      <td>NaN</td>\n",
       "      <td>NaN</td>\n",
       "      <td>NaN</td>\n",
       "      <td>NaN</td>\n",
       "      <td>1</td>\n",
       "      <td>0</td>\n",
       "      <td>2021-03-19</td>\n",
       "    </tr>\n",
       "    <tr>\n",
       "      <th>1</th>\n",
       "      <td>2</td>\n",
       "      <td>가짜 행복 권하는 사회</td>\n",
       "      <td>김태형 지음</td>\n",
       "      <td>갈매나무</td>\n",
       "      <td>2021</td>\n",
       "      <td>9791190123969</td>\n",
       "      <td>NaN</td>\n",
       "      <td>NaN</td>\n",
       "      <td>NaN</td>\n",
       "      <td>NaN</td>\n",
       "      <td>1</td>\n",
       "      <td>0</td>\n",
       "      <td>2021-03-19</td>\n",
       "    </tr>\n",
       "    <tr>\n",
       "      <th>2</th>\n",
       "      <td>3</td>\n",
       "      <td>나도 한 문장 잘 쓰면 바랄 게 없겠네</td>\n",
       "      <td>김선영 지음</td>\n",
       "      <td>블랙피쉬</td>\n",
       "      <td>2021</td>\n",
       "      <td>9788968332982</td>\n",
       "      <td>NaN</td>\n",
       "      <td>NaN</td>\n",
       "      <td>NaN</td>\n",
       "      <td>NaN</td>\n",
       "      <td>1</td>\n",
       "      <td>0</td>\n",
       "      <td>2021-03-19</td>\n",
       "    </tr>\n",
       "    <tr>\n",
       "      <th>3</th>\n",
       "      <td>4</td>\n",
       "      <td>예루살렘 해변</td>\n",
       "      <td>이도 게펜 지음, 임재희 옮김</td>\n",
       "      <td>문학세계사</td>\n",
       "      <td>2021</td>\n",
       "      <td>9788970759906</td>\n",
       "      <td>NaN</td>\n",
       "      <td>NaN</td>\n",
       "      <td>NaN</td>\n",
       "      <td>NaN</td>\n",
       "      <td>1</td>\n",
       "      <td>0</td>\n",
       "      <td>2021-03-19</td>\n",
       "    </tr>\n",
       "    <tr>\n",
       "      <th>4</th>\n",
       "      <td>5</td>\n",
       "      <td>김성곤의 중국한시기행 : 장강·황하 편</td>\n",
       "      <td>김성곤 지음</td>\n",
       "      <td>김영사</td>\n",
       "      <td>2021</td>\n",
       "      <td>9788934990833</td>\n",
       "      <td>NaN</td>\n",
       "      <td>NaN</td>\n",
       "      <td>NaN</td>\n",
       "      <td>NaN</td>\n",
       "      <td>1</td>\n",
       "      <td>0</td>\n",
       "      <td>2021-03-19</td>\n",
       "    </tr>\n",
       "  </tbody>\n",
       "</table>\n",
       "</div>"
      ],
      "text/plain": [
       "   번호                    도서명                저자    출판사  발행년도           ISBN  \\\n",
       "0   1                인공지능과 흙            김동훈 지음    민음사  2021  9788937444319   \n",
       "1   2           가짜 행복 권하는 사회            김태형 지음   갈매나무  2021  9791190123969   \n",
       "2   3  나도 한 문장 잘 쓰면 바랄 게 없겠네            김선영 지음   블랙피쉬  2021  9788968332982   \n",
       "3   4                예루살렘 해변  이도 게펜 지음, 임재희 옮김  문학세계사  2021  9788970759906   \n",
       "4   5  김성곤의 중국한시기행 : 장강·황하 편            김성곤 지음    김영사  2021  9788934990833   \n",
       "\n",
       "  세트 ISBN 부가기호    권 주제분류번호  도서권수  대출건수        등록일자  \n",
       "0     NaN  NaN  NaN    NaN     1     0  2021-03-19  \n",
       "1     NaN  NaN  NaN    NaN     1     0  2021-03-19  \n",
       "2     NaN  NaN  NaN    NaN     1     0  2021-03-19  \n",
       "3     NaN  NaN  NaN    NaN     1     0  2021-03-19  \n",
       "4     NaN  NaN  NaN    NaN     1     0  2021-03-19  "
      ]
     },
     "execution_count": 41,
     "metadata": {},
     "output_type": "execute_result"
    }
   ],
   "source": [
    "df.drop(df.columns[-1],axis=1,inplace=True)\n",
    "df.head()"
   ]
  },
  {
   "cell_type": "code",
   "execution_count": 65,
   "id": "02c6e52b-85a2-4d77-a1c7-695b4c7ed217",
   "metadata": {
    "tags": []
   },
   "outputs": [
    {
     "data": {
      "text/plain": [
       "0     NaN\n",
       "1    None\n",
       "2       1\n",
       "3       2\n",
       "dtype: object"
      ]
     },
     "execution_count": 65,
     "metadata": {},
     "output_type": "execute_result"
    }
   ],
   "source": [
    "# null, None, NaN, na\n",
    "# null == '', None == empty, NaN == Not a Number, na == Not Acceptible\n",
    "pd.Series(np.array([np.nan, None, 1, 2]))\n",
    "# pd.DataFrame(np.array([np.nan, None, 1, 2])).isna()\n",
    "# pd.DataFrame(np.array([np.nan, None, 1, 2])).isnull()\n",
    "#pd.DataFrame(np.array([np.nan, None, 1, 2])).dropna()"
   ]
  },
  {
   "cell_type": "code",
   "execution_count": 55,
   "id": "e4a0d3b3-0ab4-485f-b052-f3860dc8f643",
   "metadata": {
    "tags": []
   },
   "outputs": [
    {
     "data": {
      "text/plain": [
       "365855"
      ]
     },
     "execution_count": 55,
     "metadata": {},
     "output_type": "execute_result"
    }
   ],
   "source": [
    "df.shape[0] - df.dropna().shape[0]"
   ]
  },
  {
   "cell_type": "code",
   "execution_count": 56,
   "id": "b4c44b73-1a02-4960-bb06-8ff7655eba43",
   "metadata": {
    "tags": []
   },
   "outputs": [
    {
     "data": {
      "text/plain": [
       "8"
      ]
     },
     "execution_count": 56,
     "metadata": {},
     "output_type": "execute_result"
    }
   ],
   "source": [
    "df.shape[1] - df.dropna(axis=1).shape[1]"
   ]
  },
  {
   "cell_type": "code",
   "execution_count": 68,
   "id": "e97d4309-573b-424e-abea-cbf6b0915658",
   "metadata": {
    "tags": []
   },
   "outputs": [
    {
     "data": {
      "text/plain": [
       "401682"
      ]
     },
     "execution_count": 68,
     "metadata": {},
     "output_type": "execute_result"
    }
   ],
   "source": [
    "df.dropna(how=\"all\")\n",
    "df.dropna(how=\"any\")\n",
    "df.dropna(how='all',axis=1)\n",
    "df.dropna(thresh=2)"
   ]
  },
  {
   "cell_type": "code",
   "execution_count": 88,
   "id": "a3feca2c-b7ed-40f6-af73-9f0593e4dba2",
   "metadata": {
    "tags": []
   },
   "outputs": [],
   "source": [
    "## 컬럼이 na가 70%이상인 컬럼을 지우고\n",
    "\n",
    "# first step 70% 이상인거 찾기 \n",
    "df.isna().sum()/df.shape[0]\n",
    "# 컬럼명만 가져오기\n",
    "remove_cols = df.columns[df.isna().sum()/df.shape[0] > 0.7]\n",
    "# 컬럼지우기\n",
    "df.drop(columns=remove_cols,inplace=True)\n",
    "\n",
    "## 행이 na가 20% 이상인 행을 지우고 남은 na의 갯수를 구하면?\n",
    "remove_row = ((df.isna().sum(axis=1) / df.shape[1]) > 0.2)\n",
    "\n",
    "## 행지우기\n",
    "df = df.loc[remove_row,:]\n",
    "\n",
    "## 전체 na개수\n",
    "df.isna().sum().sum()\n",
    "\n"
   ]
  },
  {
   "cell_type": "code",
   "execution_count": 332,
   "id": "9ab762b2-8196-423b-a828-53dc104fbb1e",
   "metadata": {
    "tags": []
   },
   "outputs": [
    {
     "data": {
      "text/plain": [
       "Index(['번호', '도서명', '저자', '출판사', '발행년도', 'ISBN', '부가기호', '주제분류번호', '도서권수',\n",
       "       '대출건수', '등록일자'],\n",
       "      dtype='object')"
      ]
     },
     "execution_count": 332,
     "metadata": {},
     "output_type": "execute_result"
    }
   ],
   "source": [
    "df.columns"
   ]
  },
  {
   "cell_type": "code",
   "execution_count": 333,
   "id": "27b1ccfc-1556-4fa0-a886-2fc6d96c819b",
   "metadata": {
    "tags": []
   },
   "outputs": [
    {
     "data": {
      "text/plain": [
       "12"
      ]
     },
     "execution_count": 333,
     "metadata": {},
     "output_type": "execute_result"
    }
   ],
   "source": [
    "np.sum(df.iloc[:,[1,2,5]].duplicated())"
   ]
  },
  {
   "cell_type": "code",
   "execution_count": 331,
   "id": "6b4d505b-4115-4027-afd8-ba6f8e41c73d",
   "metadata": {
    "tags": []
   },
   "outputs": [
    {
     "data": {
      "text/plain": [
       "12"
      ]
     },
     "execution_count": 331,
     "metadata": {},
     "output_type": "execute_result"
    }
   ],
   "source": [
    "np.sum(df.duplicated(subset=['도서명','저자','ISBN']))"
   ]
  },
  {
   "cell_type": "code",
   "execution_count": 350,
   "id": "fa8df987-54f0-44ee-bebd-0f10afb18caf",
   "metadata": {
    "tags": []
   },
   "outputs": [
    {
     "data": {
      "text/html": [
       "<div>\n",
       "<style scoped>\n",
       "    .dataframe tbody tr th:only-of-type {\n",
       "        vertical-align: middle;\n",
       "    }\n",
       "\n",
       "    .dataframe tbody tr th {\n",
       "        vertical-align: top;\n",
       "    }\n",
       "\n",
       "    .dataframe thead th {\n",
       "        text-align: right;\n",
       "    }\n",
       "</style>\n",
       "<table border=\"1\" class=\"dataframe\">\n",
       "  <thead>\n",
       "    <tr style=\"text-align: right;\">\n",
       "      <th></th>\n",
       "      <th>이름</th>\n",
       "      <th>나이</th>\n",
       "      <th>박물관방문</th>\n",
       "      <th>방문회수비율</th>\n",
       "      <th>성별</th>\n",
       "      <th>방문등급</th>\n",
       "    </tr>\n",
       "  </thead>\n",
       "  <tbody>\n",
       "    <tr>\n",
       "      <th>0</th>\n",
       "      <td>김담향</td>\n",
       "      <td>33</td>\n",
       "      <td>5</td>\n",
       "      <td>0.150000</td>\n",
       "      <td>여자</td>\n",
       "      <td>C</td>\n",
       "    </tr>\n",
       "    <tr>\n",
       "      <th>1</th>\n",
       "      <td>이재빈</td>\n",
       "      <td>25</td>\n",
       "      <td>1</td>\n",
       "      <td>0.400000</td>\n",
       "      <td>남자</td>\n",
       "      <td>C</td>\n",
       "    </tr>\n",
       "    <tr>\n",
       "      <th>2</th>\n",
       "      <td>김나영</td>\n",
       "      <td>26</td>\n",
       "      <td>4</td>\n",
       "      <td>0.150000</td>\n",
       "      <td>여자</td>\n",
       "      <td>C</td>\n",
       "    </tr>\n",
       "    <tr>\n",
       "      <th>3</th>\n",
       "      <td>김건우</td>\n",
       "      <td>28</td>\n",
       "      <td>1</td>\n",
       "      <td>0.357143</td>\n",
       "      <td>남자</td>\n",
       "      <td>C</td>\n",
       "    </tr>\n",
       "    <tr>\n",
       "      <th>4</th>\n",
       "      <td>김태영</td>\n",
       "      <td>26</td>\n",
       "      <td>20</td>\n",
       "      <td>0.769231</td>\n",
       "      <td>남자</td>\n",
       "      <td>A</td>\n",
       "    </tr>\n",
       "    <tr>\n",
       "      <th>5</th>\n",
       "      <td>김동일</td>\n",
       "      <td>26</td>\n",
       "      <td>21</td>\n",
       "      <td>0.807692</td>\n",
       "      <td>남자</td>\n",
       "      <td>A</td>\n",
       "    </tr>\n",
       "    <tr>\n",
       "      <th>6</th>\n",
       "      <td>명하영</td>\n",
       "      <td>27</td>\n",
       "      <td>8</td>\n",
       "      <td>0.296296</td>\n",
       "      <td>여자</td>\n",
       "      <td>C</td>\n",
       "    </tr>\n",
       "    <tr>\n",
       "      <th>7</th>\n",
       "      <td>조가영</td>\n",
       "      <td>28</td>\n",
       "      <td>9</td>\n",
       "      <td>0.321429</td>\n",
       "      <td>여자</td>\n",
       "      <td>B</td>\n",
       "    </tr>\n",
       "    <tr>\n",
       "      <th>8</th>\n",
       "      <td>강다솜</td>\n",
       "      <td>27</td>\n",
       "      <td>8</td>\n",
       "      <td>0.319444</td>\n",
       "      <td>여자</td>\n",
       "      <td>C</td>\n",
       "    </tr>\n",
       "    <tr>\n",
       "      <th>9</th>\n",
       "      <td>이강욱</td>\n",
       "      <td>43</td>\n",
       "      <td>100</td>\n",
       "      <td>2.325581</td>\n",
       "      <td>남자</td>\n",
       "      <td>A</td>\n",
       "    </tr>\n",
       "    <tr>\n",
       "      <th>0</th>\n",
       "      <td>김담향</td>\n",
       "      <td>33</td>\n",
       "      <td>5</td>\n",
       "      <td>0.150000</td>\n",
       "      <td>여자</td>\n",
       "      <td>C</td>\n",
       "    </tr>\n",
       "    <tr>\n",
       "      <th>3</th>\n",
       "      <td>김건우</td>\n",
       "      <td>28</td>\n",
       "      <td>1</td>\n",
       "      <td>0.357143</td>\n",
       "      <td>남자</td>\n",
       "      <td>C</td>\n",
       "    </tr>\n",
       "    <tr>\n",
       "      <th>7</th>\n",
       "      <td>조가영</td>\n",
       "      <td>28</td>\n",
       "      <td>9</td>\n",
       "      <td>0.321429</td>\n",
       "      <td>여자</td>\n",
       "      <td>B</td>\n",
       "    </tr>\n",
       "  </tbody>\n",
       "</table>\n",
       "</div>"
      ],
      "text/plain": [
       "    이름  나이  박물관방문    방문회수비율  성별 방문등급\n",
       "0  김담향  33      5  0.150000  여자    C\n",
       "1  이재빈  25      1  0.400000  남자    C\n",
       "2  김나영  26      4  0.150000  여자    C\n",
       "3  김건우  28      1  0.357143  남자    C\n",
       "4  김태영  26     20  0.769231  남자    A\n",
       "5  김동일  26     21  0.807692  남자    A\n",
       "6  명하영  27      8  0.296296  여자    C\n",
       "7  조가영  28      9  0.321429  여자    B\n",
       "8  강다솜  27      8  0.319444  여자    C\n",
       "9  이강욱  43    100  2.325581  남자    A\n",
       "0  김담향  33      5  0.150000  여자    C\n",
       "3  김건우  28      1  0.357143  남자    C\n",
       "7  조가영  28      9  0.321429  여자    B"
      ]
     },
     "execution_count": 350,
     "metadata": {},
     "output_type": "execute_result"
    }
   ],
   "source": [
    "## groupby : split --> apply --> combine\n",
    "tmp['방문등급'] = np.where(tmp.박물관방문 >= 20,'A',\n",
    "                      np.where(tmp.박물관방문 >= 9,'B','C'))\n",
    "tmp"
   ]
  },
  {
   "cell_type": "code",
   "execution_count": 345,
   "id": "fe0bfaed-8cee-47ef-9b00-abc8ef10c99d",
   "metadata": {
    "tags": []
   },
   "outputs": [],
   "source": [
    "x = np.random.randint(50,101,100_000_000)"
   ]
  },
  {
   "cell_type": "code",
   "execution_count": 346,
   "id": "3fb5d5a5-3bc0-4832-a011-c03014491165",
   "metadata": {
    "tags": []
   },
   "outputs": [],
   "source": [
    "## 90이상은 'A'\n",
    "## 80~90미만은 'B'\n",
    "## 70~80미만은 'C'\n",
    "## 70미만은 'D'\n",
    "score = []\n",
    "for i in x:\n",
    "    if i >= 90:\n",
    "        score.append('A')\n",
    "    else:\n",
    "        if i >= 80:\n",
    "            score.append('B')\n",
    "        else:\n",
    "            if i >= 70:\n",
    "                score.append('C')\n",
    "            else:\n",
    "                score.append('D')"
   ]
  },
  {
   "cell_type": "code",
   "execution_count": 347,
   "id": "90e2a8b1-35e3-443f-b8f4-50183ba9e9f6",
   "metadata": {
    "tags": []
   },
   "outputs": [
    {
     "data": {
      "text/plain": [
       "100000000"
      ]
     },
     "execution_count": 347,
     "metadata": {},
     "output_type": "execute_result"
    }
   ],
   "source": [
    "len(score)"
   ]
  },
  {
   "cell_type": "code",
   "execution_count": 348,
   "id": "2ddc2031-ff4d-435f-b107-c561bf403ec5",
   "metadata": {
    "tags": []
   },
   "outputs": [],
   "source": [
    "score1 = np.where(x >= 90,'A',\n",
    "        np.where(x>=80,'B',\n",
    "                np.where(x>=70,'C','D')))"
   ]
  },
  {
   "cell_type": "code",
   "execution_count": null,
   "id": "ec8a90e9-ee4b-45dd-844f-b312941c1676",
   "metadata": {},
   "outputs": [],
   "source": []
  }
 ],
 "metadata": {
  "kernelspec": {
   "display_name": "Python 3 (ipykernel)",
   "language": "python",
   "name": "python3"
  },
  "language_info": {
   "codemirror_mode": {
    "name": "ipython",
    "version": 3
   },
   "file_extension": ".py",
   "mimetype": "text/x-python",
   "name": "python",
   "nbconvert_exporter": "python",
   "pygments_lexer": "ipython3",
   "version": "3.11.4"
  }
 },
 "nbformat": 4,
 "nbformat_minor": 5
}
