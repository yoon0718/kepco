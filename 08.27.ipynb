{
 "cells": [
  {
   "cell_type": "code",
   "execution_count": 22,
   "id": "06a5197d",
   "metadata": {},
   "outputs": [
    {
     "name": "stdout",
     "output_type": "stream",
     "text": [
      "나는 8시에 일어나 씻고 나갈 준비를 한다.\n"
     ]
    }
   ],
   "source": [
    "wake_up_time_h = 8\n",
    "wake_up_time_m = 0\n",
    "button = 1\n",
    "if wake_up_time_h < 7 and wake_up_time_m <= 50:\n",
    "    \n",
    "    \n",
    "elif wake_up_time == 7 and wake_up_time_m == 0:\n",
    "    if button == 1:\n",
    "        print(\"{0}을 먹지 않고 운동을 간다.\".format(\"밥\"))\n",
    "        print(\"운동을 끝내고 씻는다.\")\n",
    "        print(\"씻고 나갈 준비를 한다\")\n",
    "    else:\n",
    "        button = 0\n",
    "elif wake_up_time == 8:\n",
    "    print(\"나는 {0}시에 일어나 씻고 나갈 {1}를 한다.\".format(wake_up_time, \"준비\"))\n",
    "else:\n",
    "    print(\"나간다.\")"
   ]
  },
  {
   "cell_type": "code",
   "execution_count": null,
   "id": "49f7e91f",
   "metadata": {},
   "outputs": [],
   "source": []
  }
 ],
 "metadata": {
  "kernelspec": {
   "display_name": "Python 3 (ipykernel)",
   "language": "python",
   "name": "python3"
  },
  "language_info": {
   "codemirror_mode": {
    "name": "ipython",
    "version": 3
   },
   "file_extension": ".py",
   "mimetype": "text/x-python",
   "name": "python",
   "nbconvert_exporter": "python",
   "pygments_lexer": "ipython3",
   "version": "3.11.4"
  }
 },
 "nbformat": 4,
 "nbformat_minor": 5
}
