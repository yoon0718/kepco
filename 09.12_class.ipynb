{
 "cells": [
  {
   "cell_type": "code",
   "execution_count": 38,
   "id": "12d46514-685c-4950-9e5c-cdd6e654b5dd",
   "metadata": {
    "tags": []
   },
   "outputs": [],
   "source": [
    "import pandas as pd\n",
    "import numpy as np"
   ]
  },
  {
   "cell_type": "code",
   "execution_count": 52,
   "id": "73ad717d-f9a5-4612-b34a-9d6980ff2c52",
   "metadata": {
    "tags": []
   },
   "outputs": [],
   "source": [
    "#  update\n",
    "origin_df = pd.DataFrame(\n",
    "    {\n",
    "        'A':['강다솜','김나영','이강욱'],\n",
    "        'B':['A','A','A'],\n",
    "        'C':[1,2,3]\n",
    "    }\n",
    ")\n",
    "\n",
    "update_df = pd.DataFrame(\n",
    "    {\n",
    "        'A':['강다솜','김나영','이강욱'],\n",
    "        'B':['A','A','B'],\n",
    "        'C':[10,20,30]\n",
    "    }\n",
    ")\n",
    "\n"
   ]
  },
  {
   "cell_type": "code",
   "execution_count": 48,
   "id": "f256d5cc-2e10-4963-a108-efc811dbe609",
   "metadata": {
    "tags": []
   },
   "outputs": [],
   "source": [
    "origin_df.set_index(['A','B'],inplace=True)\n",
    "update_df.set_index(['A','B'],inplace=True)"
   ]
  },
  {
   "cell_type": "code",
   "execution_count": 49,
   "id": "a407865d-ff35-44ee-8884-eba9a0e27c51",
   "metadata": {
    "tags": []
   },
   "outputs": [],
   "source": [
    "origin_df.update(update_df)"
   ]
  },
  {
   "cell_type": "code",
   "execution_count": 60,
   "id": "5d7c2435-e165-435a-af10-69e35546eacf",
   "metadata": {
    "tags": []
   },
   "outputs": [
    {
     "data": {
      "text/html": [
       "<div>\n",
       "<style scoped>\n",
       "    .dataframe tbody tr th:only-of-type {\n",
       "        vertical-align: middle;\n",
       "    }\n",
       "\n",
       "    .dataframe tbody tr th {\n",
       "        vertical-align: top;\n",
       "    }\n",
       "\n",
       "    .dataframe thead th {\n",
       "        text-align: right;\n",
       "    }\n",
       "</style>\n",
       "<table border=\"1\" class=\"dataframe\">\n",
       "  <thead>\n",
       "    <tr style=\"text-align: right;\">\n",
       "      <th></th>\n",
       "      <th>A</th>\n",
       "      <th>B</th>\n",
       "      <th>C_x</th>\n",
       "      <th>C_y</th>\n",
       "    </tr>\n",
       "  </thead>\n",
       "  <tbody>\n",
       "    <tr>\n",
       "      <th>0</th>\n",
       "      <td>강다솜</td>\n",
       "      <td>A</td>\n",
       "      <td>1.0</td>\n",
       "      <td>10.0</td>\n",
       "    </tr>\n",
       "    <tr>\n",
       "      <th>1</th>\n",
       "      <td>김나영</td>\n",
       "      <td>A</td>\n",
       "      <td>2.0</td>\n",
       "      <td>20.0</td>\n",
       "    </tr>\n",
       "    <tr>\n",
       "      <th>2</th>\n",
       "      <td>이강욱</td>\n",
       "      <td>A</td>\n",
       "      <td>3.0</td>\n",
       "      <td>NaN</td>\n",
       "    </tr>\n",
       "    <tr>\n",
       "      <th>3</th>\n",
       "      <td>이강욱</td>\n",
       "      <td>B</td>\n",
       "      <td>NaN</td>\n",
       "      <td>30.0</td>\n",
       "    </tr>\n",
       "  </tbody>\n",
       "</table>\n",
       "</div>"
      ],
      "text/plain": [
       "     A  B  C_x   C_y\n",
       "0  강다솜  A  1.0  10.0\n",
       "1  김나영  A  2.0  20.0\n",
       "2  이강욱  A  3.0   NaN\n",
       "3  이강욱  B  NaN  30.0"
      ]
     },
     "execution_count": 60,
     "metadata": {},
     "output_type": "execute_result"
    }
   ],
   "source": [
    "pd.merge(origin_df, update_df, left_on=['A','B'], \n",
    "         right_on=['A','B'], how='outer')"
   ]
  },
  {
   "cell_type": "code",
   "execution_count": 82,
   "id": "ad9f02dc-4a55-4436-88fb-29a0e8823485",
   "metadata": {
    "tags": []
   },
   "outputs": [],
   "source": [
    "origin_df.replace({'이강욱':'강욱',3:30},inplace=True)"
   ]
  },
  {
   "cell_type": "code",
   "execution_count": 83,
   "id": "9d5581c4-da7f-4c91-9ae7-005986302a4d",
   "metadata": {
    "tags": []
   },
   "outputs": [
    {
     "data": {
      "text/html": [
       "<div>\n",
       "<style scoped>\n",
       "    .dataframe tbody tr th:only-of-type {\n",
       "        vertical-align: middle;\n",
       "    }\n",
       "\n",
       "    .dataframe tbody tr th {\n",
       "        vertical-align: top;\n",
       "    }\n",
       "\n",
       "    .dataframe thead th {\n",
       "        text-align: right;\n",
       "    }\n",
       "</style>\n",
       "<table border=\"1\" class=\"dataframe\">\n",
       "  <thead>\n",
       "    <tr style=\"text-align: right;\">\n",
       "      <th></th>\n",
       "      <th>A</th>\n",
       "      <th>B</th>\n",
       "      <th>C</th>\n",
       "    </tr>\n",
       "  </thead>\n",
       "  <tbody>\n",
       "    <tr>\n",
       "      <th>0</th>\n",
       "      <td>강다솜</td>\n",
       "      <td>A</td>\n",
       "      <td>1</td>\n",
       "    </tr>\n",
       "    <tr>\n",
       "      <th>1</th>\n",
       "      <td>김나영</td>\n",
       "      <td>A</td>\n",
       "      <td>2</td>\n",
       "    </tr>\n",
       "    <tr>\n",
       "      <th>2</th>\n",
       "      <td>강욱</td>\n",
       "      <td>A</td>\n",
       "      <td>30</td>\n",
       "    </tr>\n",
       "  </tbody>\n",
       "</table>\n",
       "</div>"
      ],
      "text/plain": [
       "     A  B   C\n",
       "0  강다솜  A   1\n",
       "1  김나영  A   2\n",
       "2   강욱  A  30"
      ]
     },
     "execution_count": 83,
     "metadata": {},
     "output_type": "execute_result"
    }
   ],
   "source": [
    "origin_df"
   ]
  },
  {
   "cell_type": "code",
   "execution_count": 61,
   "id": "fd0f7c3d-ff5a-4fbe-a9f5-00782e06038e",
   "metadata": {
    "tags": []
   },
   "outputs": [
    {
     "name": "stderr",
     "output_type": "stream",
     "text": [
      "C:\\Users\\user\\AppData\\Local\\Temp\\ipykernel_15944\\369920610.py:1: DtypeWarning: Columns (5,6,9) have mixed types. Specify dtype option on import or set low_memory=False.\n",
      "  df = pd.read_csv('https://bit.ly/3RhoNho')\n"
     ]
    }
   ],
   "source": [
    "df = pd.read_csv('https://bit.ly/3RhoNho')"
   ]
  },
  {
   "cell_type": "code",
   "execution_count": 63,
   "id": "1fcf95fc-700f-47da-aee1-3f9082767d8d",
   "metadata": {
    "tags": []
   },
   "outputs": [],
   "source": [
    "df.drop(columns=df.columns[-1],inplace=True)"
   ]
  },
  {
   "cell_type": "code",
   "execution_count": 66,
   "id": "96d17690-d896-4f44-bc1b-c7f20bcdf223",
   "metadata": {
    "tags": []
   },
   "outputs": [
    {
     "data": {
      "text/plain": [
       "번호              0\n",
       "도서명           403\n",
       "저자            201\n",
       "출판사          4795\n",
       "발행년도           17\n",
       "ISBN            0\n",
       "세트 ISBN    339811\n",
       "부가기호        76648\n",
       "권          333415\n",
       "주제분류번호      20322\n",
       "도서권수            0\n",
       "대출건수            0\n",
       "등록일자            0\n",
       "dtype: int64"
      ]
     },
     "execution_count": 66,
     "metadata": {},
     "output_type": "execute_result"
    }
   ],
   "source": [
    "df.isna().sum()"
   ]
  },
  {
   "cell_type": "code",
   "execution_count": 67,
   "id": "ab276595-e74a-4c32-9312-1a5ed298dc58",
   "metadata": {
    "tags": []
   },
   "outputs": [
    {
     "name": "stdout",
     "output_type": "stream",
     "text": [
      "<class 'pandas.core.frame.DataFrame'>\n",
      "RangeIndex: 401682 entries, 0 to 401681\n",
      "Data columns (total 13 columns):\n",
      " #   Column   Non-Null Count   Dtype \n",
      "---  ------   --------------   ----- \n",
      " 0   번호       401682 non-null  int64 \n",
      " 1   도서명      401279 non-null  object\n",
      " 2   저자       401481 non-null  object\n",
      " 3   출판사      396887 non-null  object\n",
      " 4   발행년도     401665 non-null  object\n",
      " 5   ISBN     401682 non-null  object\n",
      " 6   세트 ISBN  61871 non-null   object\n",
      " 7   부가기호     325034 non-null  object\n",
      " 8   권        68267 non-null   object\n",
      " 9   주제분류번호   381360 non-null  object\n",
      " 10  도서권수     401682 non-null  int64 \n",
      " 11  대출건수     401682 non-null  int64 \n",
      " 12  등록일자     401682 non-null  object\n",
      "dtypes: int64(3), object(10)\n",
      "memory usage: 39.8+ MB\n"
     ]
    }
   ],
   "source": [
    "df.info()"
   ]
  },
  {
   "cell_type": "code",
   "execution_count": 71,
   "id": "f3f94dcd-853e-40db-810c-8070b27e9faa",
   "metadata": {
    "tags": []
   },
   "outputs": [
    {
     "data": {
      "text/plain": [
       "번호         401682\n",
       "도서명        401279\n",
       "저자         401481\n",
       "출판사        396887\n",
       "발행년도       401665\n",
       "ISBN       401682\n",
       "세트 ISBN     61871\n",
       "부가기호       325034\n",
       "권           68267\n",
       "주제분류번호     381360\n",
       "도서권수       401682\n",
       "대출건수       401682\n",
       "등록일자       401682\n",
       "dtype: int64"
      ]
     },
     "execution_count": 71,
     "metadata": {},
     "output_type": "execute_result"
    }
   ],
   "source": [
    "(~df.isna()).sum()"
   ]
  },
  {
   "cell_type": "code",
   "execution_count": 74,
   "id": "74aa70c6-ca3c-4765-bc5d-be6527e48c1a",
   "metadata": {
    "tags": []
   },
   "outputs": [
    {
     "data": {
      "text/plain": [
       "번호         0\n",
       "도서명        0\n",
       "저자         0\n",
       "출판사        0\n",
       "발행년도       0\n",
       "ISBN       0\n",
       "세트 ISBN    0\n",
       "부가기호       0\n",
       "권          0\n",
       "주제분류번호     0\n",
       "도서권수       0\n",
       "대출건수       0\n",
       "등록일자       0\n",
       "dtype: int64"
      ]
     },
     "execution_count": 74,
     "metadata": {},
     "output_type": "execute_result"
    }
   ],
   "source": [
    "df.fillna(0).isna().sum()"
   ]
  },
  {
   "cell_type": "code",
   "execution_count": 76,
   "id": "ad5a8756-6d01-49a8-bd16-f20b0fdbaefc",
   "metadata": {
    "tags": []
   },
   "outputs": [
    {
     "data": {
      "text/plain": [
       "nan"
      ]
     },
     "execution_count": 76,
     "metadata": {},
     "output_type": "execute_result"
    }
   ],
   "source": [
    "np.nan"
   ]
  },
  {
   "cell_type": "code",
   "execution_count": 77,
   "id": "9da5f49a-9d39-451d-bf88-32105fa54d10",
   "metadata": {
    "tags": []
   },
   "outputs": [
    {
     "data": {
      "text/plain": [
       "번호         0\n",
       "도서명        0\n",
       "저자         0\n",
       "출판사        0\n",
       "발행년도       0\n",
       "ISBN       0\n",
       "세트 ISBN    0\n",
       "부가기호       0\n",
       "권          0\n",
       "주제분류번호     0\n",
       "도서권수       0\n",
       "대출건수       0\n",
       "등록일자       0\n",
       "dtype: int64"
      ]
     },
     "execution_count": 77,
     "metadata": {},
     "output_type": "execute_result"
    }
   ],
   "source": [
    "df.replace(np.nan,0).isna().sum()"
   ]
  },
  {
   "cell_type": "code",
   "execution_count": 90,
   "id": "6428ccbf-5a54-4d42-9845-4cf3d8f3b934",
   "metadata": {
    "tags": []
   },
   "outputs": [
    {
     "data": {
      "text/plain": [
       "403"
      ]
     },
     "execution_count": 90,
     "metadata": {},
     "output_type": "execute_result"
    }
   ],
   "source": [
    "df.도서명.isna().sum()"
   ]
  },
  {
   "cell_type": "code",
   "execution_count": 93,
   "id": "49aa35d0-a107-4b03-9507-3c3ff05e2dd0",
   "metadata": {
    "collapsed": true,
    "jupyter": {
     "outputs_hidden": true
    },
    "tags": []
   },
   "outputs": [
    {
     "ename": "ValueError",
     "evalue": "Cannot mask with non-boolean array containing NA / NaN values",
     "output_type": "error",
     "traceback": [
      "\u001b[1;31m---------------------------------------------------------------------------\u001b[0m",
      "\u001b[1;31mValueError\u001b[0m                                Traceback (most recent call last)",
      "Cell \u001b[1;32mIn[93], line 3\u001b[0m\n\u001b[0;32m      1\u001b[0m df_ \u001b[38;5;241m=\u001b[39m df\u001b[38;5;241m.\u001b[39mcopy()\n\u001b[0;32m      2\u001b[0m df_\u001b[38;5;241m.\u001b[39mfillna(\u001b[38;5;241m0\u001b[39m,inplace\u001b[38;5;241m=\u001b[39m\u001b[38;5;28;01mTrue\u001b[39;00m)\n\u001b[1;32m----> 3\u001b[0m \u001b[43mdf_\u001b[49m\u001b[38;5;241;43m.\u001b[39;49m\u001b[43mloc\u001b[49m\u001b[43m[\u001b[49m\u001b[43mdf_\u001b[49m\u001b[38;5;241;43m.\u001b[39;49m\u001b[43m도서명\u001b[49m\u001b[38;5;241;43m.\u001b[39;49m\u001b[43mstr\u001b[49m\u001b[38;5;241;43m.\u001b[39;49m\u001b[43mcontains\u001b[49m\u001b[43m(\u001b[49m\u001b[38;5;124;43m'\u001b[39;49m\u001b[38;5;124;43m인공지능\u001b[39;49m\u001b[38;5;124;43m'\u001b[39;49m\u001b[43m)\u001b[49m\u001b[43m,\u001b[49m\u001b[43m[\u001b[49m\u001b[38;5;124;43m'\u001b[39;49m\u001b[38;5;124;43m도서명\u001b[39;49m\u001b[38;5;124;43m'\u001b[39;49m\u001b[43m]\u001b[49m\u001b[43m]\u001b[49m\n",
      "File \u001b[1;32m~\\anaconda3\\Lib\\site-packages\\pandas\\core\\indexing.py:1067\u001b[0m, in \u001b[0;36m_LocationIndexer.__getitem__\u001b[1;34m(self, key)\u001b[0m\n\u001b[0;32m   1065\u001b[0m     \u001b[38;5;28;01mif\u001b[39;00m \u001b[38;5;28mself\u001b[39m\u001b[38;5;241m.\u001b[39m_is_scalar_access(key):\n\u001b[0;32m   1066\u001b[0m         \u001b[38;5;28;01mreturn\u001b[39;00m \u001b[38;5;28mself\u001b[39m\u001b[38;5;241m.\u001b[39mobj\u001b[38;5;241m.\u001b[39m_get_value(\u001b[38;5;241m*\u001b[39mkey, takeable\u001b[38;5;241m=\u001b[39m\u001b[38;5;28mself\u001b[39m\u001b[38;5;241m.\u001b[39m_takeable)\n\u001b[1;32m-> 1067\u001b[0m     \u001b[38;5;28;01mreturn\u001b[39;00m \u001b[38;5;28;43mself\u001b[39;49m\u001b[38;5;241;43m.\u001b[39;49m\u001b[43m_getitem_tuple\u001b[49m\u001b[43m(\u001b[49m\u001b[43mkey\u001b[49m\u001b[43m)\u001b[49m\n\u001b[0;32m   1068\u001b[0m \u001b[38;5;28;01melse\u001b[39;00m:\n\u001b[0;32m   1069\u001b[0m     \u001b[38;5;66;03m# we by definition only have the 0th axis\u001b[39;00m\n\u001b[0;32m   1070\u001b[0m     axis \u001b[38;5;241m=\u001b[39m \u001b[38;5;28mself\u001b[39m\u001b[38;5;241m.\u001b[39maxis \u001b[38;5;129;01mor\u001b[39;00m \u001b[38;5;241m0\u001b[39m\n",
      "File \u001b[1;32m~\\anaconda3\\Lib\\site-packages\\pandas\\core\\indexing.py:1253\u001b[0m, in \u001b[0;36m_LocIndexer._getitem_tuple\u001b[1;34m(self, tup)\u001b[0m\n\u001b[0;32m   1250\u001b[0m tup \u001b[38;5;241m=\u001b[39m \u001b[38;5;28mself\u001b[39m\u001b[38;5;241m.\u001b[39m_validate_tuple_indexer(tup)\n\u001b[0;32m   1252\u001b[0m \u001b[38;5;66;03m# ugly hack for GH #836\u001b[39;00m\n\u001b[1;32m-> 1253\u001b[0m \u001b[38;5;28;01mif\u001b[39;00m \u001b[38;5;28;43mself\u001b[39;49m\u001b[38;5;241;43m.\u001b[39;49m\u001b[43m_multi_take_opportunity\u001b[49m\u001b[43m(\u001b[49m\u001b[43mtup\u001b[49m\u001b[43m)\u001b[49m:\n\u001b[0;32m   1254\u001b[0m     \u001b[38;5;28;01mreturn\u001b[39;00m \u001b[38;5;28mself\u001b[39m\u001b[38;5;241m.\u001b[39m_multi_take(tup)\n\u001b[0;32m   1256\u001b[0m \u001b[38;5;28;01mreturn\u001b[39;00m \u001b[38;5;28mself\u001b[39m\u001b[38;5;241m.\u001b[39m_getitem_tuple_same_dim(tup)\n",
      "File \u001b[1;32m~\\anaconda3\\Lib\\site-packages\\pandas\\core\\indexing.py:1186\u001b[0m, in \u001b[0;36m_LocIndexer._multi_take_opportunity\u001b[1;34m(self, tup)\u001b[0m\n\u001b[0;32m   1183\u001b[0m     \u001b[38;5;28;01mreturn\u001b[39;00m \u001b[38;5;28;01mFalse\u001b[39;00m\n\u001b[0;32m   1185\u001b[0m \u001b[38;5;66;03m# just too complicated\u001b[39;00m\n\u001b[1;32m-> 1186\u001b[0m \u001b[38;5;28;01mreturn\u001b[39;00m \u001b[38;5;129;01mnot\u001b[39;00m \u001b[38;5;28;43many\u001b[39;49m\u001b[43m(\u001b[49m\u001b[43mcom\u001b[49m\u001b[38;5;241;43m.\u001b[39;49m\u001b[43mis_bool_indexer\u001b[49m\u001b[43m(\u001b[49m\u001b[43mx\u001b[49m\u001b[43m)\u001b[49m\u001b[43m \u001b[49m\u001b[38;5;28;43;01mfor\u001b[39;49;00m\u001b[43m \u001b[49m\u001b[43mx\u001b[49m\u001b[43m \u001b[49m\u001b[38;5;129;43;01min\u001b[39;49;00m\u001b[43m \u001b[49m\u001b[43mtup\u001b[49m\u001b[43m)\u001b[49m\n",
      "File \u001b[1;32m~\\anaconda3\\Lib\\site-packages\\pandas\\core\\indexing.py:1186\u001b[0m, in \u001b[0;36m<genexpr>\u001b[1;34m(.0)\u001b[0m\n\u001b[0;32m   1183\u001b[0m     \u001b[38;5;28;01mreturn\u001b[39;00m \u001b[38;5;28;01mFalse\u001b[39;00m\n\u001b[0;32m   1185\u001b[0m \u001b[38;5;66;03m# just too complicated\u001b[39;00m\n\u001b[1;32m-> 1186\u001b[0m \u001b[38;5;28;01mreturn\u001b[39;00m \u001b[38;5;129;01mnot\u001b[39;00m \u001b[38;5;28many\u001b[39m(\u001b[43mcom\u001b[49m\u001b[38;5;241;43m.\u001b[39;49m\u001b[43mis_bool_indexer\u001b[49m\u001b[43m(\u001b[49m\u001b[43mx\u001b[49m\u001b[43m)\u001b[49m \u001b[38;5;28;01mfor\u001b[39;00m x \u001b[38;5;129;01min\u001b[39;00m tup)\n",
      "File \u001b[1;32m~\\anaconda3\\Lib\\site-packages\\pandas\\core\\common.py:135\u001b[0m, in \u001b[0;36mis_bool_indexer\u001b[1;34m(key)\u001b[0m\n\u001b[0;32m    131\u001b[0m     na_msg \u001b[38;5;241m=\u001b[39m \u001b[38;5;124m\"\u001b[39m\u001b[38;5;124mCannot mask with non-boolean array containing NA / NaN values\u001b[39m\u001b[38;5;124m\"\u001b[39m\n\u001b[0;32m    132\u001b[0m     \u001b[38;5;28;01mif\u001b[39;00m lib\u001b[38;5;241m.\u001b[39minfer_dtype(key_array) \u001b[38;5;241m==\u001b[39m \u001b[38;5;124m\"\u001b[39m\u001b[38;5;124mboolean\u001b[39m\u001b[38;5;124m\"\u001b[39m \u001b[38;5;129;01mand\u001b[39;00m isna(key_array)\u001b[38;5;241m.\u001b[39many():\n\u001b[0;32m    133\u001b[0m         \u001b[38;5;66;03m# Don't raise on e.g. [\"A\", \"B\", np.nan], see\u001b[39;00m\n\u001b[0;32m    134\u001b[0m         \u001b[38;5;66;03m#  test_loc_getitem_list_of_labels_categoricalindex_with_na\u001b[39;00m\n\u001b[1;32m--> 135\u001b[0m         \u001b[38;5;28;01mraise\u001b[39;00m \u001b[38;5;167;01mValueError\u001b[39;00m(na_msg)\n\u001b[0;32m    136\u001b[0m     \u001b[38;5;28;01mreturn\u001b[39;00m \u001b[38;5;28;01mFalse\u001b[39;00m\n\u001b[0;32m    137\u001b[0m \u001b[38;5;28;01mreturn\u001b[39;00m \u001b[38;5;28;01mTrue\u001b[39;00m\n",
      "\u001b[1;31mValueError\u001b[0m: Cannot mask with non-boolean array containing NA / NaN values"
     ]
    }
   ],
   "source": [
    "df_ = df.copy()\n",
    "df_.fillna(0,inplace=True)\n"
   ]
  },
  {
   "cell_type": "code",
   "execution_count": 98,
   "id": "d03ae48c-9b17-46d4-8b8a-fe94604d3552",
   "metadata": {
    "tags": []
   },
   "outputs": [
    {
     "data": {
      "text/plain": [
       "0          True\n",
       "1         False\n",
       "2         False\n",
       "3         False\n",
       "4         False\n",
       "          ...  \n",
       "401677    False\n",
       "401678    False\n",
       "401679    False\n",
       "401680    False\n",
       "401681    False\n",
       "Name: 도서명, Length: 401682, dtype: object"
      ]
     },
     "execution_count": 98,
     "metadata": {},
     "output_type": "execute_result"
    }
   ],
   "source": [
    "df_.도서명.str.contains('인공지능')"
   ]
  },
  {
   "cell_type": "code",
   "execution_count": 100,
   "id": "5720ddfe-d3bd-4bf5-a149-0b61f49a7825",
   "metadata": {
    "tags": []
   },
   "outputs": [],
   "source": [
    "aa =df_.도서명.str.contains('인공지능')"
   ]
  },
  {
   "cell_type": "code",
   "execution_count": 106,
   "id": "f8bc7503-d1ee-40e5-b0a8-4b7ae86ea58b",
   "metadata": {
    "tags": []
   },
   "outputs": [
    {
     "data": {
      "text/plain": [
       "401682"
      ]
     },
     "execution_count": 106,
     "metadata": {},
     "output_type": "execute_result"
    }
   ],
   "source": [
    "aa.size"
   ]
  },
  {
   "cell_type": "code",
   "execution_count": 107,
   "id": "07a8eca7-239d-4380-892b-88999c234089",
   "metadata": {
    "tags": []
   },
   "outputs": [
    {
     "data": {
      "text/plain": [
       "401682"
      ]
     },
     "execution_count": 107,
     "metadata": {},
     "output_type": "execute_result"
    }
   ],
   "source": [
    "df_.shape[0]"
   ]
  },
  {
   "cell_type": "code",
   "execution_count": 118,
   "id": "77f8152e-de19-42d4-a450-de364118db23",
   "metadata": {
    "tags": []
   },
   "outputs": [
    {
     "data": {
      "text/plain": [
       "array([True, False, nan], dtype=object)"
      ]
     },
     "execution_count": 118,
     "metadata": {},
     "output_type": "execute_result"
    }
   ],
   "source": [
    "aa.unique()"
   ]
  },
  {
   "cell_type": "code",
   "execution_count": 120,
   "id": "9ed58194-3713-4631-9031-66a6479102d2",
   "metadata": {
    "tags": []
   },
   "outputs": [],
   "source": [
    "df.도서명.replace(np.nan,'없음',inplace=True)"
   ]
  },
  {
   "cell_type": "code",
   "execution_count": 122,
   "id": "0d38456d-00ad-4c04-a90b-0222a6d79d43",
   "metadata": {
    "collapsed": true,
    "jupyter": {
     "outputs_hidden": true
    },
    "tags": []
   },
   "outputs": [
    {
     "data": {
      "text/html": [
       "<div>\n",
       "<style scoped>\n",
       "    .dataframe tbody tr th:only-of-type {\n",
       "        vertical-align: middle;\n",
       "    }\n",
       "\n",
       "    .dataframe tbody tr th {\n",
       "        vertical-align: top;\n",
       "    }\n",
       "\n",
       "    .dataframe thead th {\n",
       "        text-align: right;\n",
       "    }\n",
       "</style>\n",
       "<table border=\"1\" class=\"dataframe\">\n",
       "  <thead>\n",
       "    <tr style=\"text-align: right;\">\n",
       "      <th></th>\n",
       "      <th>도서명</th>\n",
       "    </tr>\n",
       "  </thead>\n",
       "  <tbody>\n",
       "    <tr>\n",
       "      <th>0</th>\n",
       "      <td>인공지능과 흙</td>\n",
       "    </tr>\n",
       "    <tr>\n",
       "      <th>79</th>\n",
       "      <td>쉽게 따라하는 인공지능 FOR 클래스룸 (인공지능 윤리, Google Arts &amp; ...</td>\n",
       "    </tr>\n",
       "    <tr>\n",
       "      <th>99</th>\n",
       "      <td>Python으로 배우는 문제해결과 인공지능</td>\n",
       "    </tr>\n",
       "    <tr>\n",
       "      <th>888</th>\n",
       "      <td>인공지능 교과서 2</td>\n",
       "    </tr>\n",
       "    <tr>\n",
       "      <th>1535</th>\n",
       "      <td>인공지능 시대의 사진 이미지 읽기 (중앙대학교 인문콘텐츠연구소 HK+ 인공지능인문학...</td>\n",
       "    </tr>\n",
       "    <tr>\n",
       "      <th>...</th>\n",
       "      <td>...</td>\n",
       "    </tr>\n",
       "    <tr>\n",
       "      <th>358336</th>\n",
       "      <td>인공지능</td>\n",
       "    </tr>\n",
       "    <tr>\n",
       "      <th>359578</th>\n",
       "      <td>인공지능</td>\n",
       "    </tr>\n",
       "    <tr>\n",
       "      <th>368847</th>\n",
       "      <td>똘망똘망 인공지능</td>\n",
       "    </tr>\n",
       "    <tr>\n",
       "      <th>371864</th>\n",
       "      <td>왜 인공지능이 문제일까?</td>\n",
       "    </tr>\n",
       "    <tr>\n",
       "      <th>399655</th>\n",
       "      <td>인공지능의 철학</td>\n",
       "    </tr>\n",
       "  </tbody>\n",
       "</table>\n",
       "<p>253 rows × 1 columns</p>\n",
       "</div>"
      ],
      "text/plain": [
       "                                                      도서명\n",
       "0                                                 인공지능과 흙\n",
       "79      쉽게 따라하는 인공지능 FOR 클래스룸 (인공지능 윤리, Google Arts & ...\n",
       "99                                Python으로 배우는 문제해결과 인공지능\n",
       "888                                            인공지능 교과서 2\n",
       "1535    인공지능 시대의 사진 이미지 읽기 (중앙대학교 인문콘텐츠연구소 HK+ 인공지능인문학...\n",
       "...                                                   ...\n",
       "358336                                               인공지능\n",
       "359578                                               인공지능\n",
       "368847                                          똘망똘망 인공지능\n",
       "371864                                      왜 인공지능이 문제일까?\n",
       "399655                                           인공지능의 철학\n",
       "\n",
       "[253 rows x 1 columns]"
      ]
     },
     "execution_count": 122,
     "metadata": {},
     "output_type": "execute_result"
    }
   ],
   "source": [
    "df.loc[df.도서명.str.contains('인공지능'),['도서명']]"
   ]
  },
  {
   "cell_type": "code",
   "execution_count": 145,
   "id": "87e3d5cd-9277-4b3d-a8cf-ffb19d361758",
   "metadata": {
    "tags": []
   },
   "outputs": [],
   "source": [
    "person = np.random.choice(['female','male'],size=10000)"
   ]
  },
  {
   "cell_type": "code",
   "execution_count": 146,
   "id": "22b1ea34-251c-4be5-9958-7142d63bed3e",
   "metadata": {
    "tags": []
   },
   "outputs": [],
   "source": [
    "score = np.random.randint(50,100,size=(10000,4))"
   ]
  },
  {
   "cell_type": "code",
   "execution_count": 147,
   "id": "610ee566-48cb-4ff0-8707-cb25b6fcdd19",
   "metadata": {
    "tags": []
   },
   "outputs": [],
   "source": [
    "columns = ['gender','korea','english','math','science']"
   ]
  },
  {
   "cell_type": "code",
   "execution_count": 148,
   "id": "a7cc1b6b-4158-4cc0-a1ce-3a1b69c8e7f9",
   "metadata": {
    "tags": []
   },
   "outputs": [],
   "source": [
    "person = pd.DataFrame(person)"
   ]
  },
  {
   "cell_type": "code",
   "execution_count": 149,
   "id": "1e496054-4a44-46e9-888f-d5a090d005b2",
   "metadata": {
    "collapsed": true,
    "jupyter": {
     "outputs_hidden": true
    },
    "tags": []
   },
   "outputs": [
    {
     "data": {
      "text/html": [
       "<div>\n",
       "<style scoped>\n",
       "    .dataframe tbody tr th:only-of-type {\n",
       "        vertical-align: middle;\n",
       "    }\n",
       "\n",
       "    .dataframe tbody tr th {\n",
       "        vertical-align: top;\n",
       "    }\n",
       "\n",
       "    .dataframe thead th {\n",
       "        text-align: right;\n",
       "    }\n",
       "</style>\n",
       "<table border=\"1\" class=\"dataframe\">\n",
       "  <thead>\n",
       "    <tr style=\"text-align: right;\">\n",
       "      <th></th>\n",
       "      <th>gender</th>\n",
       "      <th>korea</th>\n",
       "      <th>english</th>\n",
       "      <th>math</th>\n",
       "      <th>science</th>\n",
       "    </tr>\n",
       "  </thead>\n",
       "  <tbody>\n",
       "    <tr>\n",
       "      <th>0</th>\n",
       "      <td>male</td>\n",
       "      <td>75</td>\n",
       "      <td>99</td>\n",
       "      <td>74</td>\n",
       "      <td>56</td>\n",
       "    </tr>\n",
       "    <tr>\n",
       "      <th>1</th>\n",
       "      <td>female</td>\n",
       "      <td>93</td>\n",
       "      <td>62</td>\n",
       "      <td>90</td>\n",
       "      <td>86</td>\n",
       "    </tr>\n",
       "    <tr>\n",
       "      <th>2</th>\n",
       "      <td>male</td>\n",
       "      <td>65</td>\n",
       "      <td>93</td>\n",
       "      <td>72</td>\n",
       "      <td>85</td>\n",
       "    </tr>\n",
       "    <tr>\n",
       "      <th>3</th>\n",
       "      <td>female</td>\n",
       "      <td>56</td>\n",
       "      <td>72</td>\n",
       "      <td>58</td>\n",
       "      <td>65</td>\n",
       "    </tr>\n",
       "    <tr>\n",
       "      <th>4</th>\n",
       "      <td>female</td>\n",
       "      <td>75</td>\n",
       "      <td>56</td>\n",
       "      <td>99</td>\n",
       "      <td>51</td>\n",
       "    </tr>\n",
       "    <tr>\n",
       "      <th>...</th>\n",
       "      <td>...</td>\n",
       "      <td>...</td>\n",
       "      <td>...</td>\n",
       "      <td>...</td>\n",
       "      <td>...</td>\n",
       "    </tr>\n",
       "    <tr>\n",
       "      <th>9995</th>\n",
       "      <td>male</td>\n",
       "      <td>97</td>\n",
       "      <td>88</td>\n",
       "      <td>76</td>\n",
       "      <td>99</td>\n",
       "    </tr>\n",
       "    <tr>\n",
       "      <th>9996</th>\n",
       "      <td>female</td>\n",
       "      <td>83</td>\n",
       "      <td>83</td>\n",
       "      <td>80</td>\n",
       "      <td>95</td>\n",
       "    </tr>\n",
       "    <tr>\n",
       "      <th>9997</th>\n",
       "      <td>female</td>\n",
       "      <td>53</td>\n",
       "      <td>74</td>\n",
       "      <td>89</td>\n",
       "      <td>55</td>\n",
       "    </tr>\n",
       "    <tr>\n",
       "      <th>9998</th>\n",
       "      <td>female</td>\n",
       "      <td>97</td>\n",
       "      <td>57</td>\n",
       "      <td>96</td>\n",
       "      <td>76</td>\n",
       "    </tr>\n",
       "    <tr>\n",
       "      <th>9999</th>\n",
       "      <td>male</td>\n",
       "      <td>83</td>\n",
       "      <td>90</td>\n",
       "      <td>51</td>\n",
       "      <td>75</td>\n",
       "    </tr>\n",
       "  </tbody>\n",
       "</table>\n",
       "<p>10000 rows × 5 columns</p>\n",
       "</div>"
      ],
      "text/plain": [
       "      gender  korea  english  math  science\n",
       "0       male     75       99    74       56\n",
       "1     female     93       62    90       86\n",
       "2       male     65       93    72       85\n",
       "3     female     56       72    58       65\n",
       "4     female     75       56    99       51\n",
       "...      ...    ...      ...   ...      ...\n",
       "9995    male     97       88    76       99\n",
       "9996  female     83       83    80       95\n",
       "9997  female     53       74    89       55\n",
       "9998  female     97       57    96       76\n",
       "9999    male     83       90    51       75\n",
       "\n",
       "[10000 rows x 5 columns]"
      ]
     },
     "execution_count": 149,
     "metadata": {},
     "output_type": "execute_result"
    }
   ],
   "source": [
    "person = pd.concat([person,pd.DataFrame(score)],axis=1)\n",
    "person.columns = columns\n",
    "person"
   ]
  },
  {
   "cell_type": "code",
   "execution_count": 151,
   "id": "17e5deee-b743-4fb8-8164-df39232fbf75",
   "metadata": {
    "tags": []
   },
   "outputs": [
    {
     "data": {
      "text/plain": [
       "gender     object\n",
       "korea       int32\n",
       "english     int32\n",
       "math        int32\n",
       "science     int32\n",
       "dtype: object"
      ]
     },
     "execution_count": 151,
     "metadata": {},
     "output_type": "execute_result"
    }
   ],
   "source": [
    "person.dtypes"
   ]
  },
  {
   "cell_type": "code",
   "execution_count": 158,
   "id": "4afe725c-0e4e-42ad-beab-df90335bf5b3",
   "metadata": {
    "tags": []
   },
   "outputs": [],
   "source": [
    "person = np.random.choice(['female','male'],size=10000)\n",
    "score = np.random.randint(50,100,size=(10000,4))\n",
    "columns = ['gender','korea','english','math','science']"
   ]
  },
  {
   "cell_type": "code",
   "execution_count": 159,
   "id": "b0877ad0-c8dd-4aec-a71a-8dc38a2b70dc",
   "metadata": {
    "collapsed": true,
    "jupyter": {
     "outputs_hidden": true
    },
    "tags": []
   },
   "outputs": [
    {
     "data": {
      "text/html": [
       "<div>\n",
       "<style scoped>\n",
       "    .dataframe tbody tr th:only-of-type {\n",
       "        vertical-align: middle;\n",
       "    }\n",
       "\n",
       "    .dataframe tbody tr th {\n",
       "        vertical-align: top;\n",
       "    }\n",
       "\n",
       "    .dataframe thead th {\n",
       "        text-align: right;\n",
       "    }\n",
       "</style>\n",
       "<table border=\"1\" class=\"dataframe\">\n",
       "  <thead>\n",
       "    <tr style=\"text-align: right;\">\n",
       "      <th></th>\n",
       "      <th>gender</th>\n",
       "      <th>korea</th>\n",
       "      <th>english</th>\n",
       "      <th>math</th>\n",
       "      <th>science</th>\n",
       "    </tr>\n",
       "  </thead>\n",
       "  <tbody>\n",
       "    <tr>\n",
       "      <th>0</th>\n",
       "      <td>male</td>\n",
       "      <td>50</td>\n",
       "      <td>62</td>\n",
       "      <td>58</td>\n",
       "      <td>81</td>\n",
       "    </tr>\n",
       "    <tr>\n",
       "      <th>1</th>\n",
       "      <td>female</td>\n",
       "      <td>72</td>\n",
       "      <td>54</td>\n",
       "      <td>93</td>\n",
       "      <td>87</td>\n",
       "    </tr>\n",
       "    <tr>\n",
       "      <th>2</th>\n",
       "      <td>female</td>\n",
       "      <td>96</td>\n",
       "      <td>59</td>\n",
       "      <td>69</td>\n",
       "      <td>60</td>\n",
       "    </tr>\n",
       "    <tr>\n",
       "      <th>3</th>\n",
       "      <td>female</td>\n",
       "      <td>99</td>\n",
       "      <td>71</td>\n",
       "      <td>98</td>\n",
       "      <td>87</td>\n",
       "    </tr>\n",
       "    <tr>\n",
       "      <th>4</th>\n",
       "      <td>female</td>\n",
       "      <td>98</td>\n",
       "      <td>83</td>\n",
       "      <td>59</td>\n",
       "      <td>84</td>\n",
       "    </tr>\n",
       "    <tr>\n",
       "      <th>...</th>\n",
       "      <td>...</td>\n",
       "      <td>...</td>\n",
       "      <td>...</td>\n",
       "      <td>...</td>\n",
       "      <td>...</td>\n",
       "    </tr>\n",
       "    <tr>\n",
       "      <th>9995</th>\n",
       "      <td>male</td>\n",
       "      <td>74</td>\n",
       "      <td>52</td>\n",
       "      <td>52</td>\n",
       "      <td>98</td>\n",
       "    </tr>\n",
       "    <tr>\n",
       "      <th>9996</th>\n",
       "      <td>male</td>\n",
       "      <td>85</td>\n",
       "      <td>61</td>\n",
       "      <td>95</td>\n",
       "      <td>83</td>\n",
       "    </tr>\n",
       "    <tr>\n",
       "      <th>9997</th>\n",
       "      <td>male</td>\n",
       "      <td>99</td>\n",
       "      <td>65</td>\n",
       "      <td>89</td>\n",
       "      <td>74</td>\n",
       "    </tr>\n",
       "    <tr>\n",
       "      <th>9998</th>\n",
       "      <td>male</td>\n",
       "      <td>92</td>\n",
       "      <td>79</td>\n",
       "      <td>62</td>\n",
       "      <td>73</td>\n",
       "    </tr>\n",
       "    <tr>\n",
       "      <th>9999</th>\n",
       "      <td>male</td>\n",
       "      <td>75</td>\n",
       "      <td>54</td>\n",
       "      <td>92</td>\n",
       "      <td>54</td>\n",
       "    </tr>\n",
       "  </tbody>\n",
       "</table>\n",
       "<p>10000 rows × 5 columns</p>\n",
       "</div>"
      ],
      "text/plain": [
       "      gender korea english math science\n",
       "0       male    50      62   58      81\n",
       "1     female    72      54   93      87\n",
       "2     female    96      59   69      60\n",
       "3     female    99      71   98      87\n",
       "4     female    98      83   59      84\n",
       "...      ...   ...     ...  ...     ...\n",
       "9995    male    74      52   52      98\n",
       "9996    male    85      61   95      83\n",
       "9997    male    99      65   89      74\n",
       "9998    male    92      79   62      73\n",
       "9999    male    75      54   92      54\n",
       "\n",
       "[10000 rows x 5 columns]"
      ]
     },
     "execution_count": 159,
     "metadata": {},
     "output_type": "execute_result"
    }
   ],
   "source": [
    "person = pd.DataFrame(np.c_[person,score],columns=columns)\n",
    "person"
   ]
  },
  {
   "cell_type": "code",
   "execution_count": 166,
   "id": "9913e297-572c-4eaf-9189-f69fa5a5eb87",
   "metadata": {
    "tags": []
   },
   "outputs": [
    {
     "data": {
      "text/plain": [
       "gender     object\n",
       "korea      object\n",
       "english    object\n",
       "math       object\n",
       "science    object\n",
       "dtype: object"
      ]
     },
     "execution_count": 166,
     "metadata": {},
     "output_type": "execute_result"
    }
   ],
   "source": [
    "#person.update(person.iloc[:,1:].astype(int))"
   ]
  },
  {
   "cell_type": "code",
   "execution_count": 169,
   "id": "6061db30-fb11-4f67-97e6-519cf7438a48",
   "metadata": {
    "tags": []
   },
   "outputs": [],
   "source": [
    "for i in person.dtypes.index:\n",
    "    try:\n",
    "        person[i] = person[i].astype(int)\n",
    "    except:\n",
    "        pass"
   ]
  },
  {
   "cell_type": "code",
   "execution_count": 171,
   "id": "ac845517-af83-4d0d-9d6a-5abae20ee4b9",
   "metadata": {
    "tags": []
   },
   "outputs": [],
   "source": [
    "# 총점(total), 평균(avg)\n",
    "total = person.korea + person.english + person.math + person.science\n",
    "avg = total/4"
   ]
  },
  {
   "cell_type": "code",
   "execution_count": 175,
   "id": "bab9293e-d523-4200-8059-bb9f9f0aa1b7",
   "metadata": {
    "tags": []
   },
   "outputs": [],
   "source": [
    "# 90 이상은 A, 80이상은 B, 70 이상은 C, 나머지는 D\n",
    "grade = np.where(avg >= 90,'A',\n",
    "                  np.where(avg>=80,'B',\n",
    "                     np.where(avg>=70,'C','D')))"
   ]
  },
  {
   "cell_type": "code",
   "execution_count": 184,
   "id": "05211e6d-c25e-4f25-a402-6b2727352311",
   "metadata": {
    "tags": []
   },
   "outputs": [],
   "source": [
    "total = []\n",
    "for i in range(person.shape[0]):\n",
    "    total.append(person.iloc[i,1:].sum())"
   ]
  },
  {
   "cell_type": "code",
   "execution_count": 186,
   "id": "61acdec7-7166-4812-bd9a-a96a27971cf1",
   "metadata": {
    "tags": []
   },
   "outputs": [],
   "source": [
    "total = []\n",
    "for i in range(person.shape[0]):\n",
    "    total.append(sum(person.iloc[i,1:]))"
   ]
  },
  {
   "cell_type": "code",
   "execution_count": 189,
   "id": "11443a71-84b2-4f60-984e-907dd21f9a40",
   "metadata": {
    "tags": []
   },
   "outputs": [
    {
     "data": {
      "text/plain": [
       "[743719, 744965, 744863, 745305]"
      ]
     },
     "execution_count": 189,
     "metadata": {},
     "output_type": "execute_result"
    }
   ],
   "source": [
    "col_total = []\n",
    "for i in range(person.shape[1]-1):\n",
    "    col_total.append(person.iloc[:,i+1].sum())\n",
    "col_total"
   ]
  },
  {
   "cell_type": "code",
   "execution_count": 200,
   "id": "bd8b1b99-d852-4649-8510-b453e9b2e92f",
   "metadata": {
    "tags": []
   },
   "outputs": [],
   "source": [
    "#total = person.iloc[:,1:].apply(sum,1)\n",
    "avg = person.iloc[:,1:].apply(np.mean,1)"
   ]
  },
  {
   "cell_type": "code",
   "execution_count": 202,
   "id": "b6a0adea-6e34-4fad-b804-98c64016a71c",
   "metadata": {
    "tags": []
   },
   "outputs": [],
   "source": [
    "person['total'] = total\n",
    "person['avg'] = avg\n",
    "person['grade'] = grade"
   ]
  },
  {
   "cell_type": "code",
   "execution_count": null,
   "id": "0cb54ec6-ee1e-4a8d-a217-9511a751b1aa",
   "metadata": {},
   "outputs": [],
   "source": [
    "np.argsort(person.avg)"
   ]
  },
  {
   "cell_type": "code",
   "execution_count": 234,
   "id": "9b04181c-8c25-4b94-be1f-0d953dce9199",
   "metadata": {
    "tags": []
   },
   "outputs": [
    {
     "data": {
      "text/plain": [
       "3"
      ]
     },
     "execution_count": 234,
     "metadata": {},
     "output_type": "execute_result"
    }
   ],
   "source": [
    "##1 첫번째 제일 잘한 과목의 점수 best_score\n",
    "##2 제일 잘한과목명 쓰기\n",
    "##3 잘한 과목명 순서대로 쓰기\n",
    "'seience --> math --> korea --> english'\n",
    "# person.iloc[0,1:5].max()\n",
    "# person.iloc[:,1:5].apply(np.max,1)\n",
    "np.argmax(person.iloc[0,1:5])"
   ]
  },
  {
   "cell_type": "code",
   "execution_count": 259,
   "id": "442327df-a672-4e85-bca2-b61c3eb3a50d",
   "metadata": {
    "collapsed": true,
    "jupyter": {
     "outputs_hidden": true
    },
    "tags": []
   },
   "outputs": [
    {
     "data": {
      "text/html": [
       "<div>\n",
       "<style scoped>\n",
       "    .dataframe tbody tr th:only-of-type {\n",
       "        vertical-align: middle;\n",
       "    }\n",
       "\n",
       "    .dataframe tbody tr th {\n",
       "        vertical-align: top;\n",
       "    }\n",
       "\n",
       "    .dataframe thead th {\n",
       "        text-align: right;\n",
       "    }\n",
       "</style>\n",
       "<table border=\"1\" class=\"dataframe\">\n",
       "  <thead>\n",
       "    <tr style=\"text-align: right;\">\n",
       "      <th></th>\n",
       "      <th>gender</th>\n",
       "      <th>korea</th>\n",
       "      <th>english</th>\n",
       "      <th>math</th>\n",
       "      <th>science</th>\n",
       "      <th>total</th>\n",
       "      <th>avg</th>\n",
       "      <th>grade</th>\n",
       "      <th>best_subject</th>\n",
       "      <th>best_score</th>\n",
       "    </tr>\n",
       "  </thead>\n",
       "  <tbody>\n",
       "    <tr>\n",
       "      <th>0</th>\n",
       "      <td>male</td>\n",
       "      <td>50</td>\n",
       "      <td>62</td>\n",
       "      <td>58</td>\n",
       "      <td>81</td>\n",
       "      <td>251</td>\n",
       "      <td>62.75</td>\n",
       "      <td>D</td>\n",
       "      <td>science</td>\n",
       "      <td>81</td>\n",
       "    </tr>\n",
       "    <tr>\n",
       "      <th>1</th>\n",
       "      <td>female</td>\n",
       "      <td>72</td>\n",
       "      <td>54</td>\n",
       "      <td>93</td>\n",
       "      <td>87</td>\n",
       "      <td>306</td>\n",
       "      <td>76.50</td>\n",
       "      <td>C</td>\n",
       "      <td>math</td>\n",
       "      <td>93</td>\n",
       "    </tr>\n",
       "    <tr>\n",
       "      <th>2</th>\n",
       "      <td>female</td>\n",
       "      <td>96</td>\n",
       "      <td>59</td>\n",
       "      <td>69</td>\n",
       "      <td>60</td>\n",
       "      <td>284</td>\n",
       "      <td>71.00</td>\n",
       "      <td>C</td>\n",
       "      <td>korea</td>\n",
       "      <td>96</td>\n",
       "    </tr>\n",
       "    <tr>\n",
       "      <th>3</th>\n",
       "      <td>female</td>\n",
       "      <td>99</td>\n",
       "      <td>71</td>\n",
       "      <td>98</td>\n",
       "      <td>87</td>\n",
       "      <td>355</td>\n",
       "      <td>88.75</td>\n",
       "      <td>B</td>\n",
       "      <td>korea</td>\n",
       "      <td>99</td>\n",
       "    </tr>\n",
       "    <tr>\n",
       "      <th>4</th>\n",
       "      <td>female</td>\n",
       "      <td>98</td>\n",
       "      <td>83</td>\n",
       "      <td>59</td>\n",
       "      <td>84</td>\n",
       "      <td>324</td>\n",
       "      <td>81.00</td>\n",
       "      <td>B</td>\n",
       "      <td>korea</td>\n",
       "      <td>98</td>\n",
       "    </tr>\n",
       "    <tr>\n",
       "      <th>...</th>\n",
       "      <td>...</td>\n",
       "      <td>...</td>\n",
       "      <td>...</td>\n",
       "      <td>...</td>\n",
       "      <td>...</td>\n",
       "      <td>...</td>\n",
       "      <td>...</td>\n",
       "      <td>...</td>\n",
       "      <td>...</td>\n",
       "      <td>...</td>\n",
       "    </tr>\n",
       "    <tr>\n",
       "      <th>9995</th>\n",
       "      <td>male</td>\n",
       "      <td>74</td>\n",
       "      <td>52</td>\n",
       "      <td>52</td>\n",
       "      <td>98</td>\n",
       "      <td>276</td>\n",
       "      <td>69.00</td>\n",
       "      <td>D</td>\n",
       "      <td>science</td>\n",
       "      <td>98</td>\n",
       "    </tr>\n",
       "    <tr>\n",
       "      <th>9996</th>\n",
       "      <td>male</td>\n",
       "      <td>85</td>\n",
       "      <td>61</td>\n",
       "      <td>95</td>\n",
       "      <td>83</td>\n",
       "      <td>324</td>\n",
       "      <td>81.00</td>\n",
       "      <td>B</td>\n",
       "      <td>math</td>\n",
       "      <td>95</td>\n",
       "    </tr>\n",
       "    <tr>\n",
       "      <th>9997</th>\n",
       "      <td>male</td>\n",
       "      <td>99</td>\n",
       "      <td>65</td>\n",
       "      <td>89</td>\n",
       "      <td>74</td>\n",
       "      <td>327</td>\n",
       "      <td>81.75</td>\n",
       "      <td>B</td>\n",
       "      <td>korea</td>\n",
       "      <td>99</td>\n",
       "    </tr>\n",
       "    <tr>\n",
       "      <th>9998</th>\n",
       "      <td>male</td>\n",
       "      <td>92</td>\n",
       "      <td>79</td>\n",
       "      <td>62</td>\n",
       "      <td>73</td>\n",
       "      <td>306</td>\n",
       "      <td>76.50</td>\n",
       "      <td>C</td>\n",
       "      <td>korea</td>\n",
       "      <td>92</td>\n",
       "    </tr>\n",
       "    <tr>\n",
       "      <th>9999</th>\n",
       "      <td>male</td>\n",
       "      <td>75</td>\n",
       "      <td>54</td>\n",
       "      <td>92</td>\n",
       "      <td>54</td>\n",
       "      <td>275</td>\n",
       "      <td>68.75</td>\n",
       "      <td>D</td>\n",
       "      <td>math</td>\n",
       "      <td>92</td>\n",
       "    </tr>\n",
       "  </tbody>\n",
       "</table>\n",
       "<p>10000 rows × 10 columns</p>\n",
       "</div>"
      ],
      "text/plain": [
       "      gender  korea  english  math  science  total    avg grade best_subject  \\\n",
       "0       male     50       62    58       81    251  62.75     D      science   \n",
       "1     female     72       54    93       87    306  76.50     C         math   \n",
       "2     female     96       59    69       60    284  71.00     C        korea   \n",
       "3     female     99       71    98       87    355  88.75     B        korea   \n",
       "4     female     98       83    59       84    324  81.00     B        korea   \n",
       "...      ...    ...      ...   ...      ...    ...    ...   ...          ...   \n",
       "9995    male     74       52    52       98    276  69.00     D      science   \n",
       "9996    male     85       61    95       83    324  81.00     B         math   \n",
       "9997    male     99       65    89       74    327  81.75     B        korea   \n",
       "9998    male     92       79    62       73    306  76.50     C        korea   \n",
       "9999    male     75       54    92       54    275  68.75     D         math   \n",
       "\n",
       "      best_score  \n",
       "0             81  \n",
       "1             93  \n",
       "2             96  \n",
       "3             99  \n",
       "4             98  \n",
       "...          ...  \n",
       "9995          98  \n",
       "9996          95  \n",
       "9997          99  \n",
       "9998          92  \n",
       "9999          92  \n",
       "\n",
       "[10000 rows x 10 columns]"
      ]
     },
     "execution_count": 259,
     "metadata": {},
     "output_type": "execute_result"
    }
   ],
   "source": [
    "## 1 \n",
    "person['best_score'] = person.iloc[:,1:5].apply(np.max,1)\n",
    "person"
   ]
  },
  {
   "cell_type": "code",
   "execution_count": 252,
   "id": "9ffbf8f5-7a62-4dfe-932f-131f8e7e5f5d",
   "metadata": {
    "tags": []
   },
   "outputs": [],
   "source": [
    "# 2\n",
    "bs = np.argmax(person.iloc[1,1:5]) # 제일잘한 과목이 있는 곳이 어디인가 bs\n",
    "person.columns[1:5][bs] ## 어디(bs)를 찾았으면 컬럼에 그 위치를 넣어 컬럼명을 찾음\n",
    "\n",
    "def find_subject(x):\n",
    "    bs = np.argmax(x)\n",
    "    return person.columns[1:5][bs]\n",
    "\n",
    "person['best_subject'] = person.iloc[:,1:5].apply(find_subject,1)"
   ]
  },
  {
   "cell_type": "code",
   "execution_count": 272,
   "id": "4937fdea-47a9-431f-8681-84274d3cb78c",
   "metadata": {
    "tags": []
   },
   "outputs": [
    {
     "data": {
      "text/plain": [
       "Index(['gender', 'korea', 'english', 'math', 'science', 'total', 'avg',\n",
       "       'grade', 'best_subject', 'best_score'],\n",
       "      dtype='object')"
      ]
     },
     "execution_count": 272,
     "metadata": {},
     "output_type": "execute_result"
    }
   ],
   "source": [
    "person.columns"
   ]
  },
  {
   "cell_type": "code",
   "execution_count": 275,
   "id": "5c4ecfdc-758b-4f2c-b6be-9e324f926219",
   "metadata": {
    "tags": []
   },
   "outputs": [],
   "source": [
    "'-->'.join(person.columns[1:5][np.argsort(person.iloc[2,1:5])[::-1]])\n",
    "def subject_order(x):\n",
    "    subject = np.array(['korea','english','math','science'])\n",
    "    return '-->'.join(subject[np.argsort(x)[::-1]])"
   ]
  },
  {
   "cell_type": "code",
   "execution_count": 278,
   "id": "88c2e8f3-b274-43e2-9112-112fe83103b9",
   "metadata": {
    "tags": []
   },
   "outputs": [
    {
     "data": {
      "text/plain": [
       "array([[-0.06958275, -1.00928778, -2.09598315],\n",
       "       [-1.23417942, -1.64063993,  0.92632587],\n",
       "       [-2.34031289, -0.26382207, -0.48187228],\n",
       "       [-0.43947156, -0.11631106,  0.04679313]])"
      ]
     },
     "execution_count": 278,
     "metadata": {},
     "output_type": "execute_result"
    }
   ],
   "source": [
    "np.random.randn(4,3)"
   ]
  },
  {
   "cell_type": "code",
   "execution_count": null,
   "id": "cd4d32a3-a5f2-4363-bee5-f548f66053c4",
   "metadata": {},
   "outputs": [],
   "source": []
  },
  {
   "cell_type": "code",
   "execution_count": 285,
   "id": "1f7eba65-9674-433f-8410-cf1fcea7f78b",
   "metadata": {
    "tags": []
   },
   "outputs": [
    {
     "data": {
      "text/plain": [
       "(3,)"
      ]
     },
     "execution_count": 285,
     "metadata": {},
     "output_type": "execute_result"
    }
   ],
   "source": [
    "np.sum(np.random.randn(4,3,5),(1,2)).shape"
   ]
  },
  {
   "cell_type": "code",
   "execution_count": 286,
   "id": "d8bb4375-d94e-4661-9b59-c630e1bcba01",
   "metadata": {
    "tags": []
   },
   "outputs": [
    {
     "data": {
      "text/plain": [
       "0       science-->english-->math-->korea\n",
       "1       math-->science-->korea-->english\n",
       "2       korea-->math-->science-->english\n",
       "3       korea-->math-->science-->english\n",
       "4       korea-->science-->english-->math\n",
       "                      ...               \n",
       "9995    science-->korea-->math-->english\n",
       "9996    math-->korea-->science-->english\n",
       "9997    korea-->math-->science-->english\n",
       "9998    korea-->english-->science-->math\n",
       "9999    math-->korea-->science-->english\n",
       "Length: 10000, dtype: object"
      ]
     },
     "execution_count": 286,
     "metadata": {},
     "output_type": "execute_result"
    }
   ],
   "source": [
    "subject_order(person.iloc[2,1:5])\n",
    "\n",
    "person.iloc[:,1:5].apply(subject_order,1)"
   ]
  },
  {
   "cell_type": "code",
   "execution_count": 287,
   "id": "14491f19-bfeb-4d10-bf83-3bf950aa5208",
   "metadata": {
    "tags": []
   },
   "outputs": [],
   "source": [
    "person['grade_order'] = person.iloc[:,1:5].apply(subject_order,1)"
   ]
  },
  {
   "cell_type": "code",
   "execution_count": null,
   "id": "1408472e-2248-4d3d-8bf2-22d82aa5d5d1",
   "metadata": {},
   "outputs": [],
   "source": [
    "a = np.random.randint(1,10,100)\n",
    "a.groupby()"
   ]
  },
  {
   "cell_type": "code",
   "execution_count": 291,
   "id": "baa75695-8eec-4e36-be30-66273eaebf79",
   "metadata": {
    "tags": []
   },
   "outputs": [
    {
     "data": {
      "text/plain": [
       "RangeIndex(start=0, stop=5, step=1)"
      ]
     },
     "execution_count": 291,
     "metadata": {},
     "output_type": "execute_result"
    }
   ],
   "source": [
    "a = pd.DataFrame(np.random.randn(4,5))\n",
    "a.columns"
   ]
  },
  {
   "cell_type": "code",
   "execution_count": 294,
   "id": "1a1dec4f-7588-4d2f-b6e6-df1002fa32a4",
   "metadata": {
    "tags": []
   },
   "outputs": [
    {
     "data": {
      "text/html": [
       "<div>\n",
       "<style scoped>\n",
       "    .dataframe tbody tr th:only-of-type {\n",
       "        vertical-align: middle;\n",
       "    }\n",
       "\n",
       "    .dataframe tbody tr th {\n",
       "        vertical-align: top;\n",
       "    }\n",
       "\n",
       "    .dataframe thead th {\n",
       "        text-align: right;\n",
       "    }\n",
       "</style>\n",
       "<table border=\"1\" class=\"dataframe\">\n",
       "  <thead>\n",
       "    <tr style=\"text-align: right;\">\n",
       "      <th></th>\n",
       "      <th>gender</th>\n",
       "      <th>korea</th>\n",
       "      <th>english</th>\n",
       "      <th>math</th>\n",
       "      <th>science</th>\n",
       "      <th>total</th>\n",
       "      <th>avg</th>\n",
       "      <th>grade</th>\n",
       "      <th>best_subject</th>\n",
       "      <th>best_score</th>\n",
       "      <th>grade_order</th>\n",
       "    </tr>\n",
       "  </thead>\n",
       "  <tbody>\n",
       "    <tr>\n",
       "      <th>0</th>\n",
       "      <td>male</td>\n",
       "      <td>50</td>\n",
       "      <td>62</td>\n",
       "      <td>58</td>\n",
       "      <td>81</td>\n",
       "      <td>251</td>\n",
       "      <td>62.75</td>\n",
       "      <td>D</td>\n",
       "      <td>science</td>\n",
       "      <td>81</td>\n",
       "      <td>science--&gt;english--&gt;math--&gt;korea</td>\n",
       "    </tr>\n",
       "    <tr>\n",
       "      <th>1</th>\n",
       "      <td>female</td>\n",
       "      <td>72</td>\n",
       "      <td>54</td>\n",
       "      <td>93</td>\n",
       "      <td>87</td>\n",
       "      <td>306</td>\n",
       "      <td>76.50</td>\n",
       "      <td>C</td>\n",
       "      <td>math</td>\n",
       "      <td>93</td>\n",
       "      <td>math--&gt;science--&gt;korea--&gt;english</td>\n",
       "    </tr>\n",
       "    <tr>\n",
       "      <th>2</th>\n",
       "      <td>female</td>\n",
       "      <td>96</td>\n",
       "      <td>59</td>\n",
       "      <td>69</td>\n",
       "      <td>60</td>\n",
       "      <td>284</td>\n",
       "      <td>71.00</td>\n",
       "      <td>C</td>\n",
       "      <td>korea</td>\n",
       "      <td>96</td>\n",
       "      <td>korea--&gt;math--&gt;science--&gt;english</td>\n",
       "    </tr>\n",
       "    <tr>\n",
       "      <th>3</th>\n",
       "      <td>female</td>\n",
       "      <td>99</td>\n",
       "      <td>71</td>\n",
       "      <td>98</td>\n",
       "      <td>87</td>\n",
       "      <td>355</td>\n",
       "      <td>88.75</td>\n",
       "      <td>B</td>\n",
       "      <td>korea</td>\n",
       "      <td>99</td>\n",
       "      <td>korea--&gt;math--&gt;science--&gt;english</td>\n",
       "    </tr>\n",
       "    <tr>\n",
       "      <th>4</th>\n",
       "      <td>female</td>\n",
       "      <td>98</td>\n",
       "      <td>83</td>\n",
       "      <td>59</td>\n",
       "      <td>84</td>\n",
       "      <td>324</td>\n",
       "      <td>81.00</td>\n",
       "      <td>B</td>\n",
       "      <td>korea</td>\n",
       "      <td>98</td>\n",
       "      <td>korea--&gt;science--&gt;english--&gt;math</td>\n",
       "    </tr>\n",
       "  </tbody>\n",
       "</table>\n",
       "</div>"
      ],
      "text/plain": [
       "   gender  korea  english  math  science  total    avg grade best_subject  \\\n",
       "0    male     50       62    58       81    251  62.75     D      science   \n",
       "1  female     72       54    93       87    306  76.50     C         math   \n",
       "2  female     96       59    69       60    284  71.00     C        korea   \n",
       "3  female     99       71    98       87    355  88.75     B        korea   \n",
       "4  female     98       83    59       84    324  81.00     B        korea   \n",
       "\n",
       "   best_score                       grade_order  \n",
       "0          81  science-->english-->math-->korea  \n",
       "1          93  math-->science-->korea-->english  \n",
       "2          96  korea-->math-->science-->english  \n",
       "3          99  korea-->math-->science-->english  \n",
       "4          98  korea-->science-->english-->math  "
      ]
     },
     "execution_count": 294,
     "metadata": {},
     "output_type": "execute_result"
    }
   ],
   "source": [
    "person.head()"
   ]
  },
  {
   "cell_type": "code",
   "execution_count": 306,
   "id": "c347a2ef-3494-4c47-9959-942bc5f6b167",
   "metadata": {
    "tags": []
   },
   "outputs": [],
   "source": [
    "tmp_df = person.loc[person.best_subject == i,:].sum()[[\"korea\",\"english\"]]"
   ]
  },
  {
   "cell_type": "code",
   "execution_count": 341,
   "id": "8e308c21-b032-4344-b4f6-f86ff003e1bf",
   "metadata": {
    "tags": []
   },
   "outputs": [
    {
     "data": {
      "text/html": [
       "<div>\n",
       "<style scoped>\n",
       "    .dataframe tbody tr th:only-of-type {\n",
       "        vertical-align: middle;\n",
       "    }\n",
       "\n",
       "    .dataframe tbody tr th {\n",
       "        vertical-align: top;\n",
       "    }\n",
       "\n",
       "    .dataframe thead th {\n",
       "        text-align: right;\n",
       "    }\n",
       "</style>\n",
       "<table border=\"1\" class=\"dataframe\">\n",
       "  <thead>\n",
       "    <tr style=\"text-align: right;\">\n",
       "      <th></th>\n",
       "      <th>korea</th>\n",
       "      <th>english</th>\n",
       "    </tr>\n",
       "    <tr>\n",
       "      <th>best_subject</th>\n",
       "      <th></th>\n",
       "      <th></th>\n",
       "    </tr>\n",
       "  </thead>\n",
       "  <tbody>\n",
       "    <tr>\n",
       "      <th>science</th>\n",
       "      <td>161165</td>\n",
       "      <td>161423</td>\n",
       "    </tr>\n",
       "    <tr>\n",
       "      <th>math</th>\n",
       "      <td>170265</td>\n",
       "      <td>171521</td>\n",
       "    </tr>\n",
       "    <tr>\n",
       "      <th>korea</th>\n",
       "      <td>236021</td>\n",
       "      <td>183706</td>\n",
       "    </tr>\n",
       "    <tr>\n",
       "      <th>english</th>\n",
       "      <td>176268</td>\n",
       "      <td>228315</td>\n",
       "    </tr>\n",
       "  </tbody>\n",
       "</table>\n",
       "</div>"
      ],
      "text/plain": [
       "               korea english\n",
       "best_subject                \n",
       "science       161165  161423\n",
       "math          170265  171521\n",
       "korea         236021  183706\n",
       "english       176268  228315"
      ]
     },
     "execution_count": 341,
     "metadata": {},
     "output_type": "execute_result"
    }
   ],
   "source": [
    "# groupby : split(컬럼), apply, combine\n",
    "group_df = pd.DataFrame(columns=['best_subject','korea','english'])\n",
    "for i in person.best_subject.unique():\n",
    "    tmp_df = person.loc[person.best_subject == i,:].sum()[[\"korea\",\"english\"]]\n",
    "    tmp_df = pd.DataFrame(\n",
    "        {\n",
    "            'best_subject':[i],\n",
    "            'korea':tmp_df.values[[0]],\n",
    "            'english':tmp_df.values[[1]]\n",
    "        }\n",
    "    )\n",
    "    group_df = pd.concat([group_df,tmp_df])\n",
    "group_df.set_index('best_subject')\n",
    "\n",
    "person.groupby(['best_subject']).sum()[['korea','english']]"
   ]
  },
  {
   "cell_type": "code",
   "execution_count": 345,
   "id": "5a0c5501-e6c5-4b3d-8cb9-491707b138e9",
   "metadata": {
    "tags": []
   },
   "outputs": [
    {
     "data": {
      "text/html": [
       "<div>\n",
       "<style scoped>\n",
       "    .dataframe tbody tr th:only-of-type {\n",
       "        vertical-align: middle;\n",
       "    }\n",
       "\n",
       "    .dataframe tbody tr th {\n",
       "        vertical-align: top;\n",
       "    }\n",
       "\n",
       "    .dataframe thead th {\n",
       "        text-align: right;\n",
       "    }\n",
       "</style>\n",
       "<table border=\"1\" class=\"dataframe\">\n",
       "  <thead>\n",
       "    <tr style=\"text-align: right;\">\n",
       "      <th></th>\n",
       "      <th>gender</th>\n",
       "      <th>korea</th>\n",
       "      <th>english</th>\n",
       "      <th>math</th>\n",
       "      <th>science</th>\n",
       "      <th>total</th>\n",
       "      <th>avg</th>\n",
       "      <th>grade</th>\n",
       "      <th>best_subject</th>\n",
       "      <th>best_score</th>\n",
       "      <th>grade_order</th>\n",
       "    </tr>\n",
       "  </thead>\n",
       "  <tbody>\n",
       "    <tr>\n",
       "      <th>0</th>\n",
       "      <td>male</td>\n",
       "      <td>50</td>\n",
       "      <td>62</td>\n",
       "      <td>58</td>\n",
       "      <td>81</td>\n",
       "      <td>251</td>\n",
       "      <td>62.75</td>\n",
       "      <td>D</td>\n",
       "      <td>science</td>\n",
       "      <td>81</td>\n",
       "      <td>science--&gt;english--&gt;math--&gt;korea</td>\n",
       "    </tr>\n",
       "    <tr>\n",
       "      <th>1</th>\n",
       "      <td>female</td>\n",
       "      <td>72</td>\n",
       "      <td>54</td>\n",
       "      <td>93</td>\n",
       "      <td>87</td>\n",
       "      <td>306</td>\n",
       "      <td>76.50</td>\n",
       "      <td>C</td>\n",
       "      <td>math</td>\n",
       "      <td>93</td>\n",
       "      <td>math--&gt;science--&gt;korea--&gt;english</td>\n",
       "    </tr>\n",
       "    <tr>\n",
       "      <th>2</th>\n",
       "      <td>female</td>\n",
       "      <td>96</td>\n",
       "      <td>59</td>\n",
       "      <td>69</td>\n",
       "      <td>60</td>\n",
       "      <td>284</td>\n",
       "      <td>71.00</td>\n",
       "      <td>C</td>\n",
       "      <td>korea</td>\n",
       "      <td>96</td>\n",
       "      <td>korea--&gt;math--&gt;science--&gt;english</td>\n",
       "    </tr>\n",
       "    <tr>\n",
       "      <th>3</th>\n",
       "      <td>female</td>\n",
       "      <td>99</td>\n",
       "      <td>71</td>\n",
       "      <td>98</td>\n",
       "      <td>87</td>\n",
       "      <td>355</td>\n",
       "      <td>88.75</td>\n",
       "      <td>B</td>\n",
       "      <td>korea</td>\n",
       "      <td>99</td>\n",
       "      <td>korea--&gt;math--&gt;science--&gt;english</td>\n",
       "    </tr>\n",
       "    <tr>\n",
       "      <th>4</th>\n",
       "      <td>female</td>\n",
       "      <td>98</td>\n",
       "      <td>83</td>\n",
       "      <td>59</td>\n",
       "      <td>84</td>\n",
       "      <td>324</td>\n",
       "      <td>81.00</td>\n",
       "      <td>B</td>\n",
       "      <td>korea</td>\n",
       "      <td>98</td>\n",
       "      <td>korea--&gt;science--&gt;english--&gt;math</td>\n",
       "    </tr>\n",
       "    <tr>\n",
       "      <th>...</th>\n",
       "      <td>...</td>\n",
       "      <td>...</td>\n",
       "      <td>...</td>\n",
       "      <td>...</td>\n",
       "      <td>...</td>\n",
       "      <td>...</td>\n",
       "      <td>...</td>\n",
       "      <td>...</td>\n",
       "      <td>...</td>\n",
       "      <td>...</td>\n",
       "      <td>...</td>\n",
       "    </tr>\n",
       "    <tr>\n",
       "      <th>9995</th>\n",
       "      <td>male</td>\n",
       "      <td>74</td>\n",
       "      <td>52</td>\n",
       "      <td>52</td>\n",
       "      <td>98</td>\n",
       "      <td>276</td>\n",
       "      <td>69.00</td>\n",
       "      <td>D</td>\n",
       "      <td>science</td>\n",
       "      <td>98</td>\n",
       "      <td>science--&gt;korea--&gt;math--&gt;english</td>\n",
       "    </tr>\n",
       "    <tr>\n",
       "      <th>9996</th>\n",
       "      <td>male</td>\n",
       "      <td>85</td>\n",
       "      <td>61</td>\n",
       "      <td>95</td>\n",
       "      <td>83</td>\n",
       "      <td>324</td>\n",
       "      <td>81.00</td>\n",
       "      <td>B</td>\n",
       "      <td>math</td>\n",
       "      <td>95</td>\n",
       "      <td>math--&gt;korea--&gt;science--&gt;english</td>\n",
       "    </tr>\n",
       "    <tr>\n",
       "      <th>9997</th>\n",
       "      <td>male</td>\n",
       "      <td>99</td>\n",
       "      <td>65</td>\n",
       "      <td>89</td>\n",
       "      <td>74</td>\n",
       "      <td>327</td>\n",
       "      <td>81.75</td>\n",
       "      <td>B</td>\n",
       "      <td>korea</td>\n",
       "      <td>99</td>\n",
       "      <td>korea--&gt;math--&gt;science--&gt;english</td>\n",
       "    </tr>\n",
       "    <tr>\n",
       "      <th>9998</th>\n",
       "      <td>male</td>\n",
       "      <td>92</td>\n",
       "      <td>79</td>\n",
       "      <td>62</td>\n",
       "      <td>73</td>\n",
       "      <td>306</td>\n",
       "      <td>76.50</td>\n",
       "      <td>C</td>\n",
       "      <td>korea</td>\n",
       "      <td>92</td>\n",
       "      <td>korea--&gt;english--&gt;science--&gt;math</td>\n",
       "    </tr>\n",
       "    <tr>\n",
       "      <th>9999</th>\n",
       "      <td>male</td>\n",
       "      <td>75</td>\n",
       "      <td>54</td>\n",
       "      <td>92</td>\n",
       "      <td>54</td>\n",
       "      <td>275</td>\n",
       "      <td>68.75</td>\n",
       "      <td>D</td>\n",
       "      <td>math</td>\n",
       "      <td>92</td>\n",
       "      <td>math--&gt;korea--&gt;science--&gt;english</td>\n",
       "    </tr>\n",
       "  </tbody>\n",
       "</table>\n",
       "<p>10000 rows × 11 columns</p>\n",
       "</div>"
      ],
      "text/plain": [
       "      gender  korea  english  math  science  total    avg grade best_subject  \\\n",
       "0       male     50       62    58       81    251  62.75     D      science   \n",
       "1     female     72       54    93       87    306  76.50     C         math   \n",
       "2     female     96       59    69       60    284  71.00     C        korea   \n",
       "3     female     99       71    98       87    355  88.75     B        korea   \n",
       "4     female     98       83    59       84    324  81.00     B        korea   \n",
       "...      ...    ...      ...   ...      ...    ...    ...   ...          ...   \n",
       "9995    male     74       52    52       98    276  69.00     D      science   \n",
       "9996    male     85       61    95       83    324  81.00     B         math   \n",
       "9997    male     99       65    89       74    327  81.75     B        korea   \n",
       "9998    male     92       79    62       73    306  76.50     C        korea   \n",
       "9999    male     75       54    92       54    275  68.75     D         math   \n",
       "\n",
       "      best_score                       grade_order  \n",
       "0             81  science-->english-->math-->korea  \n",
       "1             93  math-->science-->korea-->english  \n",
       "2             96  korea-->math-->science-->english  \n",
       "3             99  korea-->math-->science-->english  \n",
       "4             98  korea-->science-->english-->math  \n",
       "...          ...                               ...  \n",
       "9995          98  science-->korea-->math-->english  \n",
       "9996          95  math-->korea-->science-->english  \n",
       "9997          99  korea-->math-->science-->english  \n",
       "9998          92  korea-->english-->science-->math  \n",
       "9999          92  math-->korea-->science-->english  \n",
       "\n",
       "[10000 rows x 11 columns]"
      ]
     },
     "execution_count": 345,
     "metadata": {},
     "output_type": "execute_result"
    }
   ],
   "source": [
    "person"
   ]
  },
  {
   "cell_type": "code",
   "execution_count": 347,
   "id": "7cceeb5b-8279-4bc5-ab1d-221627eaeead",
   "metadata": {
    "collapsed": true,
    "jupyter": {
     "outputs_hidden": true
    },
    "tags": []
   },
   "outputs": [
    {
     "data": {
      "text/html": [
       "<div>\n",
       "<style scoped>\n",
       "    .dataframe tbody tr th:only-of-type {\n",
       "        vertical-align: middle;\n",
       "    }\n",
       "\n",
       "    .dataframe tbody tr th {\n",
       "        vertical-align: top;\n",
       "    }\n",
       "\n",
       "    .dataframe thead th {\n",
       "        text-align: right;\n",
       "    }\n",
       "</style>\n",
       "<table border=\"1\" class=\"dataframe\">\n",
       "  <thead>\n",
       "    <tr style=\"text-align: right;\">\n",
       "      <th></th>\n",
       "      <th>gender</th>\n",
       "      <th>best_subject</th>\n",
       "      <th>grade_order</th>\n",
       "      <th>grade</th>\n",
       "    </tr>\n",
       "  </thead>\n",
       "  <tbody>\n",
       "    <tr>\n",
       "      <th>count</th>\n",
       "      <td>10000</td>\n",
       "      <td>10000</td>\n",
       "      <td>10000</td>\n",
       "      <td>10000</td>\n",
       "    </tr>\n",
       "    <tr>\n",
       "      <th>unique</th>\n",
       "      <td>2</td>\n",
       "      <td>4</td>\n",
       "      <td>24</td>\n",
       "      <td>4</td>\n",
       "    </tr>\n",
       "    <tr>\n",
       "      <th>top</th>\n",
       "      <td>male</td>\n",
       "      <td>korea</td>\n",
       "      <td>science--&gt;math--&gt;english--&gt;korea</td>\n",
       "      <td>C</td>\n",
       "    </tr>\n",
       "    <tr>\n",
       "      <th>freq</th>\n",
       "      <td>5066</td>\n",
       "      <td>2633</td>\n",
       "      <td>487</td>\n",
       "      <td>5013</td>\n",
       "    </tr>\n",
       "  </tbody>\n",
       "</table>\n",
       "</div>"
      ],
      "text/plain": [
       "       gender best_subject                       grade_order  grade\n",
       "count   10000        10000                             10000  10000\n",
       "unique      2            4                                24      4\n",
       "top      male        korea  science-->math-->english-->korea      C\n",
       "freq     5066         2633                               487   5013"
      ]
     },
     "execution_count": 347,
     "metadata": {},
     "output_type": "execute_result"
    }
   ],
   "source": [
    "person.describe() ## 수치형\n",
    "person[[\"gender\",\"best_subject\",\"grade_order\",\"grade\"]].describe() ## object type"
   ]
  },
  {
   "cell_type": "code",
   "execution_count": 348,
   "id": "93c3e347-0624-4ec8-9af3-6a1b11fcde51",
   "metadata": {
    "tags": []
   },
   "outputs": [
    {
     "data": {
      "text/html": [
       "<div>\n",
       "<style scoped>\n",
       "    .dataframe tbody tr th:only-of-type {\n",
       "        vertical-align: middle;\n",
       "    }\n",
       "\n",
       "    .dataframe tbody tr th {\n",
       "        vertical-align: top;\n",
       "    }\n",
       "\n",
       "    .dataframe thead th {\n",
       "        text-align: right;\n",
       "    }\n",
       "</style>\n",
       "<table border=\"1\" class=\"dataframe\">\n",
       "  <thead>\n",
       "    <tr style=\"text-align: right;\">\n",
       "      <th></th>\n",
       "      <th>korea</th>\n",
       "      <th>english</th>\n",
       "      <th>math</th>\n",
       "      <th>science</th>\n",
       "      <th>total</th>\n",
       "      <th>avg</th>\n",
       "      <th>best_score</th>\n",
       "    </tr>\n",
       "  </thead>\n",
       "  <tbody>\n",
       "    <tr>\n",
       "      <th>count</th>\n",
       "      <td>10000.000000</td>\n",
       "      <td>10000.00000</td>\n",
       "      <td>10000.000000</td>\n",
       "      <td>10000.000000</td>\n",
       "      <td>10000.000000</td>\n",
       "      <td>10000.000000</td>\n",
       "      <td>10000.000000</td>\n",
       "    </tr>\n",
       "    <tr>\n",
       "      <th>mean</th>\n",
       "      <td>74.371900</td>\n",
       "      <td>74.49650</td>\n",
       "      <td>74.486300</td>\n",
       "      <td>74.530500</td>\n",
       "      <td>297.885200</td>\n",
       "      <td>74.471300</td>\n",
       "      <td>89.514600</td>\n",
       "    </tr>\n",
       "    <tr>\n",
       "      <th>std</th>\n",
       "      <td>14.519748</td>\n",
       "      <td>14.45157</td>\n",
       "      <td>14.532905</td>\n",
       "      <td>14.364912</td>\n",
       "      <td>28.784146</td>\n",
       "      <td>7.196037</td>\n",
       "      <td>8.179797</td>\n",
       "    </tr>\n",
       "    <tr>\n",
       "      <th>min</th>\n",
       "      <td>50.000000</td>\n",
       "      <td>50.00000</td>\n",
       "      <td>50.000000</td>\n",
       "      <td>50.000000</td>\n",
       "      <td>210.000000</td>\n",
       "      <td>52.500000</td>\n",
       "      <td>54.000000</td>\n",
       "    </tr>\n",
       "    <tr>\n",
       "      <th>25%</th>\n",
       "      <td>62.000000</td>\n",
       "      <td>62.00000</td>\n",
       "      <td>62.000000</td>\n",
       "      <td>62.000000</td>\n",
       "      <td>278.000000</td>\n",
       "      <td>69.500000</td>\n",
       "      <td>85.000000</td>\n",
       "    </tr>\n",
       "    <tr>\n",
       "      <th>50%</th>\n",
       "      <td>74.000000</td>\n",
       "      <td>74.00000</td>\n",
       "      <td>74.000000</td>\n",
       "      <td>75.000000</td>\n",
       "      <td>298.000000</td>\n",
       "      <td>74.500000</td>\n",
       "      <td>92.000000</td>\n",
       "    </tr>\n",
       "    <tr>\n",
       "      <th>75%</th>\n",
       "      <td>87.000000</td>\n",
       "      <td>87.00000</td>\n",
       "      <td>87.000000</td>\n",
       "      <td>87.000000</td>\n",
       "      <td>318.000000</td>\n",
       "      <td>79.500000</td>\n",
       "      <td>96.000000</td>\n",
       "    </tr>\n",
       "    <tr>\n",
       "      <th>max</th>\n",
       "      <td>99.000000</td>\n",
       "      <td>99.00000</td>\n",
       "      <td>99.000000</td>\n",
       "      <td>99.000000</td>\n",
       "      <td>388.000000</td>\n",
       "      <td>97.000000</td>\n",
       "      <td>99.000000</td>\n",
       "    </tr>\n",
       "  </tbody>\n",
       "</table>\n",
       "</div>"
      ],
      "text/plain": [
       "              korea      english          math       science         total  \\\n",
       "count  10000.000000  10000.00000  10000.000000  10000.000000  10000.000000   \n",
       "mean      74.371900     74.49650     74.486300     74.530500    297.885200   \n",
       "std       14.519748     14.45157     14.532905     14.364912     28.784146   \n",
       "min       50.000000     50.00000     50.000000     50.000000    210.000000   \n",
       "25%       62.000000     62.00000     62.000000     62.000000    278.000000   \n",
       "50%       74.000000     74.00000     74.000000     75.000000    298.000000   \n",
       "75%       87.000000     87.00000     87.000000     87.000000    318.000000   \n",
       "max       99.000000     99.00000     99.000000     99.000000    388.000000   \n",
       "\n",
       "                avg    best_score  \n",
       "count  10000.000000  10000.000000  \n",
       "mean      74.471300     89.514600  \n",
       "std        7.196037      8.179797  \n",
       "min       52.500000     54.000000  \n",
       "25%       69.500000     85.000000  \n",
       "50%       74.500000     92.000000  \n",
       "75%       79.500000     96.000000  \n",
       "max       97.000000     99.000000  "
      ]
     },
     "execution_count": 348,
     "metadata": {},
     "output_type": "execute_result"
    }
   ],
   "source": [
    "person.describe()"
   ]
  },
  {
   "cell_type": "code",
   "execution_count": 358,
   "id": "9a026795-f7a9-4568-8b54-3611ee794a8c",
   "metadata": {
    "tags": []
   },
   "outputs": [
    {
     "data": {
      "text/plain": [
       "10000"
      ]
     },
     "execution_count": 358,
     "metadata": {},
     "output_type": "execute_result"
    }
   ],
   "source": [
    "person.groupby(['grade_order']).count().korea\n",
    "person.groupby(['gender','grade']).agg(['mean','sum','count'])\n",
    "person.groupby(['gender','grade']).agg(['mean','sum','count']).korea['count'].sum()"
   ]
  },
  {
   "cell_type": "code",
   "execution_count": 360,
   "id": "387ffed5-369a-4cd6-9fc9-77af0b6ff15c",
   "metadata": {
    "tags": []
   },
   "outputs": [
    {
     "data": {
      "text/html": [
       "<div>\n",
       "<style scoped>\n",
       "    .dataframe tbody tr th:only-of-type {\n",
       "        vertical-align: middle;\n",
       "    }\n",
       "\n",
       "    .dataframe tbody tr th {\n",
       "        vertical-align: top;\n",
       "    }\n",
       "\n",
       "    .dataframe thead th {\n",
       "        text-align: right;\n",
       "    }\n",
       "</style>\n",
       "<table border=\"1\" class=\"dataframe\">\n",
       "  <thead>\n",
       "    <tr style=\"text-align: right;\">\n",
       "      <th></th>\n",
       "      <th>english</th>\n",
       "      <th>math</th>\n",
       "    </tr>\n",
       "    <tr>\n",
       "      <th>gender</th>\n",
       "      <th></th>\n",
       "      <th></th>\n",
       "    </tr>\n",
       "  </thead>\n",
       "  <tbody>\n",
       "    <tr>\n",
       "      <th>female</th>\n",
       "      <td>69.013180</td>\n",
       "      <td>79.973214</td>\n",
       "    </tr>\n",
       "    <tr>\n",
       "      <th>male</th>\n",
       "      <td>69.303412</td>\n",
       "      <td>79.476036</td>\n",
       "    </tr>\n",
       "  </tbody>\n",
       "</table>\n",
       "</div>"
      ],
      "text/plain": [
       "          english       math\n",
       "gender                      \n",
       "female  69.013180  79.973214\n",
       "male    69.303412  79.476036"
      ]
     },
     "execution_count": 360,
     "metadata": {},
     "output_type": "execute_result"
    }
   ],
   "source": [
    "### person 데이터 가장 잘한 과목이 영어와 국어인 데이터를 제외하고 \n",
    "## 남자 여자의 영어, 수학의 평균을 구하면??\n",
    "person.loc[~((person.best_subject == 'korea') | (person.best_subject == 'english')) ].groupby(['gender']).mean()[[\"english\",\"math\"]]\n",
    "\n",
    "### person 데이터 가장 잘한 과목이 영어와 국어 과학인 데이터를 제외하고 \n",
    "## 남자 여자의 영어, 수학의 평균을 구하면??\n",
    "\n"
   ]
  },
  {
   "cell_type": "code",
   "execution_count": 369,
   "id": "3346d00c-712f-4648-b0a0-af46ffb7709c",
   "metadata": {
    "tags": []
   },
   "outputs": [],
   "source": [
    "x = pd.DataFrame(np.random.choice([ i for i in 'abcdefgh'], 1000))\n",
    "x.columns = ['col']"
   ]
  },
  {
   "cell_type": "code",
   "execution_count": 375,
   "id": "1de4083a-464f-4a0a-b02e-ee36d9f55086",
   "metadata": {
    "collapsed": true,
    "jupyter": {
     "outputs_hidden": true
    },
    "tags": []
   },
   "outputs": [
    {
     "data": {
      "text/html": [
       "<div>\n",
       "<style scoped>\n",
       "    .dataframe tbody tr th:only-of-type {\n",
       "        vertical-align: middle;\n",
       "    }\n",
       "\n",
       "    .dataframe tbody tr th {\n",
       "        vertical-align: top;\n",
       "    }\n",
       "\n",
       "    .dataframe thead th {\n",
       "        text-align: right;\n",
       "    }\n",
       "</style>\n",
       "<table border=\"1\" class=\"dataframe\">\n",
       "  <thead>\n",
       "    <tr style=\"text-align: right;\">\n",
       "      <th></th>\n",
       "      <th>col</th>\n",
       "    </tr>\n",
       "  </thead>\n",
       "  <tbody>\n",
       "    <tr>\n",
       "      <th>3</th>\n",
       "      <td>b</td>\n",
       "    </tr>\n",
       "    <tr>\n",
       "      <th>4</th>\n",
       "      <td>a</td>\n",
       "    </tr>\n",
       "    <tr>\n",
       "      <th>7</th>\n",
       "      <td>a</td>\n",
       "    </tr>\n",
       "    <tr>\n",
       "      <th>13</th>\n",
       "      <td>b</td>\n",
       "    </tr>\n",
       "    <tr>\n",
       "      <th>15</th>\n",
       "      <td>b</td>\n",
       "    </tr>\n",
       "    <tr>\n",
       "      <th>...</th>\n",
       "      <td>...</td>\n",
       "    </tr>\n",
       "    <tr>\n",
       "      <th>993</th>\n",
       "      <td>a</td>\n",
       "    </tr>\n",
       "    <tr>\n",
       "      <th>994</th>\n",
       "      <td>b</td>\n",
       "    </tr>\n",
       "    <tr>\n",
       "      <th>995</th>\n",
       "      <td>a</td>\n",
       "    </tr>\n",
       "    <tr>\n",
       "      <th>997</th>\n",
       "      <td>a</td>\n",
       "    </tr>\n",
       "    <tr>\n",
       "      <th>998</th>\n",
       "      <td>a</td>\n",
       "    </tr>\n",
       "  </tbody>\n",
       "</table>\n",
       "<p>489 rows × 1 columns</p>\n",
       "</div>"
      ],
      "text/plain": [
       "    col\n",
       "3     b\n",
       "4     a\n",
       "7     a\n",
       "13    b\n",
       "15    b\n",
       "..   ..\n",
       "993   a\n",
       "994   b\n",
       "995   a\n",
       "997   a\n",
       "998   a\n",
       "\n",
       "[489 rows x 1 columns]"
      ]
     },
     "execution_count": 375,
     "metadata": {},
     "output_type": "execute_result"
    }
   ],
   "source": [
    "x.loc[(x.col == 'a') | (x.col == 'b') | (x.col == 'c' ) | (x.col == 'd') ,:].shape[0]\n",
    "x.loc[x.col.isin(['a','b','c','d']),:]"
   ]
  },
  {
   "cell_type": "code",
   "execution_count": null,
   "id": "d7258b55-b32b-4b45-91b9-283e2bd58331",
   "metadata": {},
   "outputs": [],
   "source": [
    "\"\"\"\n",
    "select korea, english\n",
    "from person\n",
    "where best_subject = 'korea' or best_subject = 'english'\n",
    "group by gender\n",
    "\"\"\""
   ]
  },
  {
   "cell_type": "code",
   "execution_count": 382,
   "id": "af9adc12-c319-434f-8be0-ea22e97a30e4",
   "metadata": {
    "tags": []
   },
   "outputs": [
    {
     "data": {
      "text/html": [
       "<div>\n",
       "<style scoped>\n",
       "    .dataframe tbody tr th:only-of-type {\n",
       "        vertical-align: middle;\n",
       "    }\n",
       "\n",
       "    .dataframe tbody tr th {\n",
       "        vertical-align: top;\n",
       "    }\n",
       "\n",
       "    .dataframe thead th {\n",
       "        text-align: right;\n",
       "    }\n",
       "</style>\n",
       "<table border=\"1\" class=\"dataframe\">\n",
       "  <thead>\n",
       "    <tr style=\"text-align: right;\">\n",
       "      <th></th>\n",
       "      <th>gender</th>\n",
       "      <th>science</th>\n",
       "      <th>total</th>\n",
       "    </tr>\n",
       "  </thead>\n",
       "  <tbody>\n",
       "    <tr>\n",
       "      <th>0</th>\n",
       "      <td>female</td>\n",
       "      <td>70.113091</td>\n",
       "      <td>298.672734</td>\n",
       "    </tr>\n",
       "    <tr>\n",
       "      <th>1</th>\n",
       "      <td>male</td>\n",
       "      <td>70.198157</td>\n",
       "      <td>298.794547</td>\n",
       "    </tr>\n",
       "  </tbody>\n",
       "</table>\n",
       "</div>"
      ],
      "text/plain": [
       "   gender    science       total\n",
       "0  female  70.113091  298.672734\n",
       "1    male  70.198157  298.794547"
      ]
     },
     "execution_count": 382,
     "metadata": {},
     "output_type": "execute_result"
    }
   ],
   "source": [
    "person.loc[(person.best_subject == 'korea') & (person.best_subject == 'english'),:]\n",
    "stmt = \"best_subject == 'korea' or best_subject == 'english'\"\n",
    "person.query(stmt)[[\"gender\",\"science\",\"total\"]].groupby(['gender']).mean().reset_index()"
   ]
  },
  {
   "cell_type": "code",
   "execution_count": 342,
   "id": "afb0d07e-3dad-4f09-850f-1d6f84cc95e3",
   "metadata": {
    "tags": []
   },
   "outputs": [
    {
     "data": {
      "text/html": [
       "<div>\n",
       "<style scoped>\n",
       "    .dataframe tbody tr th:only-of-type {\n",
       "        vertical-align: middle;\n",
       "    }\n",
       "\n",
       "    .dataframe tbody tr th {\n",
       "        vertical-align: top;\n",
       "    }\n",
       "\n",
       "    .dataframe thead th {\n",
       "        text-align: right;\n",
       "    }\n",
       "</style>\n",
       "<table border=\"1\" class=\"dataframe\">\n",
       "  <thead>\n",
       "    <tr style=\"text-align: right;\">\n",
       "      <th></th>\n",
       "      <th>korea</th>\n",
       "      <th>english</th>\n",
       "    </tr>\n",
       "    <tr>\n",
       "      <th>best_subject</th>\n",
       "      <th></th>\n",
       "      <th></th>\n",
       "    </tr>\n",
       "  </thead>\n",
       "  <tbody>\n",
       "    <tr>\n",
       "      <th>english</th>\n",
       "      <td>176268</td>\n",
       "      <td>228315</td>\n",
       "    </tr>\n",
       "    <tr>\n",
       "      <th>korea</th>\n",
       "      <td>236021</td>\n",
       "      <td>183706</td>\n",
       "    </tr>\n",
       "    <tr>\n",
       "      <th>math</th>\n",
       "      <td>170265</td>\n",
       "      <td>171521</td>\n",
       "    </tr>\n",
       "    <tr>\n",
       "      <th>science</th>\n",
       "      <td>161165</td>\n",
       "      <td>161423</td>\n",
       "    </tr>\n",
       "  </tbody>\n",
       "</table>\n",
       "</div>"
      ],
      "text/plain": [
       "               korea  english\n",
       "best_subject                 \n",
       "english       176268   228315\n",
       "korea         236021   183706\n",
       "math          170265   171521\n",
       "science       161165   161423"
      ]
     },
     "execution_count": 342,
     "metadata": {},
     "output_type": "execute_result"
    }
   ],
   "source": [
    "import warnings\n",
    "warnings.filterwarnings(action='ignore')\n",
    "person.groupby(['best_subject']).sum()[['korea','english']]"
   ]
  },
  {
   "cell_type": "code",
   "execution_count": 388,
   "id": "2ba69bd7-db57-4b15-9bef-a013bc205957",
   "metadata": {
    "tags": []
   },
   "outputs": [
    {
     "data": {
      "text/plain": [
       "3605"
      ]
     },
     "execution_count": 388,
     "metadata": {},
     "output_type": "execute_result"
    }
   ],
   "source": [
    "(person.korea > person.describe().loc['25%','korea']) & (person.english > person.describe().loc['50%','english'])"
   ]
  },
  {
   "cell_type": "code",
   "execution_count": 390,
   "id": "41d2dd09-2424-4920-a4c5-abbb13b7bf6f",
   "metadata": {
    "tags": []
   },
   "outputs": [
    {
     "data": {
      "text/plain": [
       "{'whiskers': [<matplotlib.lines.Line2D at 0x1de9d06a5d0>,\n",
       "  <matplotlib.lines.Line2D at 0x1de9d06ad90>],\n",
       " 'caps': [<matplotlib.lines.Line2D at 0x1de9d078050>,\n",
       "  <matplotlib.lines.Line2D at 0x1de9d078cd0>],\n",
       " 'boxes': [<matplotlib.lines.Line2D at 0x1de9cfefbd0>],\n",
       " 'medians': [<matplotlib.lines.Line2D at 0x1de9d079850>],\n",
       " 'fliers': [<matplotlib.lines.Line2D at 0x1de9d07a350>],\n",
       " 'means': []}"
      ]
     },
     "execution_count": 390,
     "metadata": {},
     "output_type": "execute_result"
    },
    {
     "data": {
      "image/png": "[encoded data removed]",
      "text/plain": [
       "<Figure size 640x480 with 1 Axes>"
      ]
     },
     "metadata": {},
     "output_type": "display_data"
    }
   ],
   "source": [
    "import matplotlib.pyplot as plt\n",
    "plt.boxplot(person.korea)"
   ]
  },
  {
   "cell_type": "code",
   "execution_count": 395,
   "id": "3b02283b-ae99-4fdf-aa84-ccd15c73c841",
   "metadata": {
    "tags": []
   },
   "outputs": [
    {
     "data": {
      "text/plain": [
       "{'whiskers': [<matplotlib.lines.Line2D at 0x1de9d3164d0>,\n",
       "  <matplotlib.lines.Line2D at 0x1de9d25b190>],\n",
       " 'caps': [<matplotlib.lines.Line2D at 0x1de9d317310>,\n",
       "  <matplotlib.lines.Line2D at 0x1de9d317610>],\n",
       " 'boxes': [<matplotlib.lines.Line2D at 0x1de9d315c50>],\n",
       " 'medians': [<matplotlib.lines.Line2D at 0x1de9d320850>],\n",
       " 'fliers': [<matplotlib.lines.Line2D at 0x1de9d2defd0>],\n",
       " 'means': []}"
      ]
     },
     "execution_count": 395,
     "metadata": {},
     "output_type": "execute_result"
    },
    {
     "data": {
      "image/png": "[encoded data removed]",
      "text/plain": [
       "<Figure size 640x480 with 1 Axes>"
      ]
     },
     "metadata": {},
     "output_type": "display_data"
    }
   ],
   "source": [
    "plt.boxplot(np.arange(10000))"
   ]
  },
  {
   "cell_type": "code",
   "execution_count": 396,
   "id": "675e6dba-fdfd-4066-9981-81f519a56d43",
   "metadata": {
    "tags": []
   },
   "outputs": [
    {
     "data": {
      "text/html": [
       "<div>\n",
       "<style scoped>\n",
       "    .dataframe tbody tr th:only-of-type {\n",
       "        vertical-align: middle;\n",
       "    }\n",
       "\n",
       "    .dataframe tbody tr th {\n",
       "        vertical-align: top;\n",
       "    }\n",
       "\n",
       "    .dataframe thead th {\n",
       "        text-align: right;\n",
       "    }\n",
       "</style>\n",
       "<table border=\"1\" class=\"dataframe\">\n",
       "  <thead>\n",
       "    <tr style=\"text-align: right;\">\n",
       "      <th></th>\n",
       "      <th>korea</th>\n",
       "      <th>english</th>\n",
       "      <th>math</th>\n",
       "      <th>science</th>\n",
       "      <th>total</th>\n",
       "      <th>avg</th>\n",
       "      <th>best_score</th>\n",
       "    </tr>\n",
       "  </thead>\n",
       "  <tbody>\n",
       "    <tr>\n",
       "      <th>count</th>\n",
       "      <td>10000.000000</td>\n",
       "      <td>10000.00000</td>\n",
       "      <td>10000.000000</td>\n",
       "      <td>10000.000000</td>\n",
       "      <td>10000.000000</td>\n",
       "      <td>10000.000000</td>\n",
       "      <td>10000.000000</td>\n",
       "    </tr>\n",
       "    <tr>\n",
       "      <th>mean</th>\n",
       "      <td>74.371900</td>\n",
       "      <td>74.49650</td>\n",
       "      <td>74.486300</td>\n",
       "      <td>74.530500</td>\n",
       "      <td>297.885200</td>\n",
       "      <td>74.471300</td>\n",
       "      <td>89.514600</td>\n",
       "    </tr>\n",
       "    <tr>\n",
       "      <th>std</th>\n",
       "      <td>14.519748</td>\n",
       "      <td>14.45157</td>\n",
       "      <td>14.532905</td>\n",
       "      <td>14.364912</td>\n",
       "      <td>28.784146</td>\n",
       "      <td>7.196037</td>\n",
       "      <td>8.179797</td>\n",
       "    </tr>\n",
       "    <tr>\n",
       "      <th>min</th>\n",
       "      <td>50.000000</td>\n",
       "      <td>50.00000</td>\n",
       "      <td>50.000000</td>\n",
       "      <td>50.000000</td>\n",
       "      <td>210.000000</td>\n",
       "      <td>52.500000</td>\n",
       "      <td>54.000000</td>\n",
       "    </tr>\n",
       "    <tr>\n",
       "      <th>30%</th>\n",
       "      <td>64.000000</td>\n",
       "      <td>65.00000</td>\n",
       "      <td>64.000000</td>\n",
       "      <td>65.000000</td>\n",
       "      <td>282.000000</td>\n",
       "      <td>70.500000</td>\n",
       "      <td>87.000000</td>\n",
       "    </tr>\n",
       "    <tr>\n",
       "      <th>50%</th>\n",
       "      <td>74.000000</td>\n",
       "      <td>74.00000</td>\n",
       "      <td>74.000000</td>\n",
       "      <td>75.000000</td>\n",
       "      <td>298.000000</td>\n",
       "      <td>74.500000</td>\n",
       "      <td>92.000000</td>\n",
       "    </tr>\n",
       "    <tr>\n",
       "      <th>60%</th>\n",
       "      <td>79.000000</td>\n",
       "      <td>79.00000</td>\n",
       "      <td>80.000000</td>\n",
       "      <td>80.000000</td>\n",
       "      <td>305.000000</td>\n",
       "      <td>76.250000</td>\n",
       "      <td>94.000000</td>\n",
       "    </tr>\n",
       "    <tr>\n",
       "      <th>90%</th>\n",
       "      <td>95.000000</td>\n",
       "      <td>95.00000</td>\n",
       "      <td>95.000000</td>\n",
       "      <td>94.000000</td>\n",
       "      <td>336.000000</td>\n",
       "      <td>84.000000</td>\n",
       "      <td>98.000000</td>\n",
       "    </tr>\n",
       "    <tr>\n",
       "      <th>max</th>\n",
       "      <td>99.000000</td>\n",
       "      <td>99.00000</td>\n",
       "      <td>99.000000</td>\n",
       "      <td>99.000000</td>\n",
       "      <td>388.000000</td>\n",
       "      <td>97.000000</td>\n",
       "      <td>99.000000</td>\n",
       "    </tr>\n",
       "  </tbody>\n",
       "</table>\n",
       "</div>"
      ],
      "text/plain": [
       "              korea      english          math       science         total  \\\n",
       "count  10000.000000  10000.00000  10000.000000  10000.000000  10000.000000   \n",
       "mean      74.371900     74.49650     74.486300     74.530500    297.885200   \n",
       "std       14.519748     14.45157     14.532905     14.364912     28.784146   \n",
       "min       50.000000     50.00000     50.000000     50.000000    210.000000   \n",
       "30%       64.000000     65.00000     64.000000     65.000000    282.000000   \n",
       "50%       74.000000     74.00000     74.000000     75.000000    298.000000   \n",
       "60%       79.000000     79.00000     80.000000     80.000000    305.000000   \n",
       "90%       95.000000     95.00000     95.000000     94.000000    336.000000   \n",
       "max       99.000000     99.00000     99.000000     99.000000    388.000000   \n",
       "\n",
       "                avg    best_score  \n",
       "count  10000.000000  10000.000000  \n",
       "mean      74.471300     89.514600  \n",
       "std        7.196037      8.179797  \n",
       "min       52.500000     54.000000  \n",
       "30%       70.500000     87.000000  \n",
       "50%       74.500000     92.000000  \n",
       "60%       76.250000     94.000000  \n",
       "90%       84.000000     98.000000  \n",
       "max       97.000000     99.000000  "
      ]
     },
     "execution_count": 396,
     "metadata": {},
     "output_type": "execute_result"
    }
   ],
   "source": [
    "person.describe(percentiles=[0.3,0.6,0.9])"
   ]
  },
  {
   "cell_type": "code",
   "execution_count": 398,
   "id": "381bbf2c-9d98-4ea8-82ac-8cda88b31707",
   "metadata": {
    "tags": []
   },
   "outputs": [
    {
     "data": {
      "text/plain": [
       "64.0"
      ]
     },
     "execution_count": 398,
     "metadata": {},
     "output_type": "execute_result"
    }
   ],
   "source": [
    "np.percentile(person.korea,30)"
   ]
  },
  {
   "cell_type": "code",
   "execution_count": 404,
   "id": "84aceecf-c89c-44aa-b348-8a828014cbd3",
   "metadata": {
    "tags": []
   },
   "outputs": [],
   "source": [
    "x = range(1,100)"
   ]
  },
  {
   "cell_type": "code",
   "execution_count": 400,
   "id": "dccba70a-2343-4f61-8da6-aa87012e0e87",
   "metadata": {
    "tags": []
   },
   "outputs": [
    {
     "data": {
      "text/plain": [
       "array([ 1,  2,  3,  4,  5,  6,  7,  8,  9, 10, 11, 12, 13, 14, 15, 16, 17,\n",
       "       18, 19, 20, 21, 22, 23, 24, 25, 26, 27, 28, 29, 30, 31, 32, 33, 34,\n",
       "       35, 36, 37, 38, 39, 40, 41, 42, 43, 44, 45, 46, 47, 48, 49, 50, 51,\n",
       "       52, 53, 54, 55, 56, 57, 58, 59, 60, 61, 62, 63, 64, 65, 66, 67, 68,\n",
       "       69, 70, 71, 72, 73, 74, 75, 76, 77, 78, 79, 80, 81, 82, 83, 84, 85,\n",
       "       86, 87, 88, 89, 90, 91, 92, 93, 94, 95, 96, 97, 98, 99])"
      ]
     },
     "execution_count": 400,
     "metadata": {},
     "output_type": "execute_result"
    }
   ],
   "source": [
    "x"
   ]
  },
  {
   "cell_type": "code",
   "execution_count": 406,
   "id": "149e2f64-7740-4c68-978f-5d3ae517fd08",
   "metadata": {
    "tags": []
   },
   "outputs": [],
   "source": [
    "n = 100\n",
    "prob = []\n",
    "for i in x:\n",
    "    prob.append(i*(100-i)/10000)"
   ]
  },
  {
   "cell_type": "code",
   "execution_count": 407,
   "id": "9ee4a098-5024-480e-adad-8231fbc7eebe",
   "metadata": {
    "tags": []
   },
   "outputs": [
    {
     "data": {
      "text/plain": [
       "[0.0099,\n",
       " 0.0196,\n",
       " 0.0291,\n",
       " 0.0384,\n",
       " 0.0475,\n",
       " 0.0564,\n",
       " 0.0651,\n",
       " 0.0736,\n",
       " 0.0819,\n",
       " 0.09,\n",
       " 0.0979,\n",
       " 0.1056,\n",
       " 0.1131,\n",
       " 0.1204,\n",
       " 0.1275,\n",
       " 0.1344,\n",
       " 0.1411,\n",
       " 0.1476,\n",
       " 0.1539,\n",
       " 0.16,\n",
       " 0.1659,\n",
       " 0.1716,\n",
       " 0.1771,\n",
       " 0.1824,\n",
       " 0.1875,\n",
       " 0.1924,\n",
       " 0.1971,\n",
       " 0.2016,\n",
       " 0.2059,\n",
       " 0.21,\n",
       " 0.2139,\n",
       " 0.2176,\n",
       " 0.2211,\n",
       " 0.2244,\n",
       " 0.2275,\n",
       " 0.2304,\n",
       " 0.2331,\n",
       " 0.2356,\n",
       " 0.2379,\n",
       " 0.24,\n",
       " 0.2419,\n",
       " 0.2436,\n",
       " 0.2451,\n",
       " 0.2464,\n",
       " 0.2475,\n",
       " 0.2484,\n",
       " 0.2491,\n",
       " 0.2496,\n",
       " 0.2499,\n",
       " 0.25,\n",
       " 0.2499,\n",
       " 0.2496,\n",
       " 0.2491,\n",
       " 0.2484,\n",
       " 0.2475,\n",
       " 0.2464,\n",
       " 0.2451,\n",
       " 0.2436,\n",
       " 0.2419,\n",
       " 0.24,\n",
       " 0.2379,\n",
       " 0.2356,\n",
       " 0.2331,\n",
       " 0.2304,\n",
       " 0.2275,\n",
       " 0.2244,\n",
       " 0.2211,\n",
       " 0.2176,\n",
       " 0.2139,\n",
       " 0.21,\n",
       " 0.2059,\n",
       " 0.2016,\n",
       " 0.1971,\n",
       " 0.1924,\n",
       " 0.1875,\n",
       " 0.1824,\n",
       " 0.1771,\n",
       " 0.1716,\n",
       " 0.1659,\n",
       " 0.16,\n",
       " 0.1539,\n",
       " 0.1476,\n",
       " 0.1411,\n",
       " 0.1344,\n",
       " 0.1275,\n",
       " 0.1204,\n",
       " 0.1131,\n",
       " 0.1056,\n",
       " 0.0979,\n",
       " 0.09,\n",
       " 0.0819,\n",
       " 0.0736,\n",
       " 0.0651,\n",
       " 0.0564,\n",
       " 0.0475,\n",
       " 0.0384,\n",
       " 0.0291,\n",
       " 0.0196,\n",
       " 0.0099]"
      ]
     },
     "execution_count": 407,
     "metadata": {},
     "output_type": "execute_result"
    }
   ],
   "source": [
    "prob"
   ]
  },
  {
   "cell_type": "code",
   "execution_count": 408,
   "id": "5db645fb-c432-41c1-9faa-765e487f3a51",
   "metadata": {
    "tags": []
   },
   "outputs": [
    {
     "data": {
      "text/plain": [
       "[<matplotlib.lines.Line2D at 0x1de9d26b4d0>]"
      ]
     },
     "execution_count": 408,
     "metadata": {},
     "output_type": "execute_result"
    },
    {
     "data": {
      "image/png": "[encoded data removed]",
      "text/plain": [
       "<Figure size 640x480 with 1 Axes>"
      ]
     },
     "metadata": {},
     "output_type": "display_data"
    }
   ],
   "source": [
    "plt.plot(x,prob)"
   ]
  },
  {
   "cell_type": "code",
   "execution_count": null,
   "id": "064a4864-288b-48ef-9927-d49af9f4c87f",
   "metadata": {},
   "outputs": [],
   "source": []
  }
 ],
 "metadata": {
  "kernelspec": {
   "display_name": "Python 3 (ipykernel)",
   "language": "python",
   "name": "python3"
  },
  "language_info": {
   "codemirror_mode": {
    "name": "ipython",
    "version": 3
   },
   "file_extension": ".py",
   "mimetype": "text/x-python",
   "name": "python",
   "nbconvert_exporter": "python",
   "pygments_lexer": "ipython3",
   "version": "3.11.4"
  }
 },
 "nbformat": 4,
 "nbformat_minor": 5
}
